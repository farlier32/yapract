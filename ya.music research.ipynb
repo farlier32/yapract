{
 "cells": [
  {
   "cell_type": "markdown",
   "metadata": {},
   "source": [
    "<div style=\"border:solid green 3px; padding: 20px\">\n",
    "\n",
    "<b>Привет, Никита! :)</b>\n",
    "\n",
    "Меня зовут Сороколетов Илья и я буду проверять твой проект. \n",
    "\n",
    "Предлагаю общаться на «**ты**», но если тебе будет комфортнее общаться на «**вы**», то сообщи об этом в комментариях)\n",
    "\n",
    "\n",
    "Для твоего удобства, я буду выделять свои комментарии следующим образом:\n",
    "\n",
    "<div class=\"alert alert-danger\">\n",
    "<b>Ошибка:</b> Самые важные замечания. Они указывают на ключевые моменты, которые влияют на конечный результат проекта. </div>\n",
    "\n",
    "<div class=\"alert alert-warning\">\n",
    "<b>Совет:</b> Советы или замечания, которые помогут сделать твою работу лучше, но необязательны к выполнению.\n",
    "\n",
    "</div>\n",
    "\n",
    "<div class=\"alert alert-success\">\n",
    "<b>Успех:</b> Так я выделяю все остальные комментарии.</div>\n",
    "\n",
    "Давай работать над проектом в диалоге: если ты что-то меняешь в проекте по моим рекомендациям — пиши об этом. Выбери для своих комментариев какой-то заметный цвет, так мне будет легче отследить изменения, например вот так:\n",
    "<div class=\"alert alert-info\">\n",
    "<b>Комментарий студента:</b>\n",
    "<br>\n",
    "</div>\n",
    "\n",
    "Пожалуйста, не перемещай, не изменяй и не удаляй мои комментарии. Всё это поможет выполнить повторную проверку твоего проекта оперативнее. \n",
    "\n",
    "Обязательно задавай вопросы если они возникнут, а я перехожу к проверке)"
   ]
  },
  {
   "cell_type": "markdown",
   "metadata": {
    "id": "E0vqbgi9ay0H"
   },
   "source": [
    "# Яндекс.Музыка"
   ]
  },
  {
   "cell_type": "markdown",
   "metadata": {
    "id": "VUC88oWjTJw2"
   },
   "source": [
    "Сравнение Москвы и Петербурга окружено мифами. Например:\n",
    " * Москва — мегаполис, подчинённый жёсткому ритму рабочей недели;\n",
    " * Петербург — культурная столица, со своими вкусами.\n",
    "\n",
    "На данных Яндекс.Музыки вы сравните поведение пользователей двух столиц.\n",
    "\n",
    "**Цель исследования** — проверьте три гипотезы:\n",
    "1. Активность пользователей зависит от дня недели. Причём в Москве и Петербурге это проявляется по-разному.\n",
    "2. В понедельник утром в Москве преобладают одни жанры, а в Петербурге — другие. Так же и вечером пятницы преобладают разные жанры — в зависимости от города. \n",
    "3. Москва и Петербург предпочитают разные жанры музыки. В Москве чаще слушают поп-музыку, в Петербурге — русский рэп.\n",
    "\n",
    "**Ход исследования**\n",
    "\n",
    "Данные о поведении пользователей вы получите из файла `yandex_music_project.csv`. О качестве данных ничего не известно. Поэтому перед проверкой гипотез понадобится обзор данных. \n",
    "\n",
    "Вы проверите данные на ошибки и оцените их влияние на исследование. Затем, на этапе предобработки вы поищете возможность исправить самые критичные ошибки данных.\n",
    " \n",
    "Таким образом, исследование пройдёт в три этапа:\n",
    " 1. Обзор данных.\n",
    " 2. Предобработка данных.\n",
    " 3. Проверка гипотез.\n",
    "\n"
   ]
  },
  {
   "cell_type": "markdown",
   "metadata": {
    "id": "Ml1hmfXC_Zcs"
   },
   "source": [
    "## Обзор данных\n",
    "\n",
    "Составьте первое представление о данных Яндекс.Музыки.\n",
    "\n",
    "\n"
   ]
  },
  {
   "cell_type": "markdown",
   "metadata": {
    "id": "57eAOGIz_Zcs"
   },
   "source": [
    "Основной инструмент аналитика — `pandas`. Импортируйте эту библиотеку."
   ]
  },
  {
   "cell_type": "code",
   "execution_count": 1,
   "metadata": {
    "id": "AXN7PHPN_Zcs"
   },
   "outputs": [],
   "source": [
    "import pandas as pd"
   ]
  },
  {
   "cell_type": "markdown",
   "metadata": {
    "id": "SG23P8tt_Zcs"
   },
   "source": [
    "Прочитайте файл `yandex_music_project.csv` из папки `/datasets` и сохраните его в переменной `df`:"
   ]
  },
  {
   "cell_type": "code",
   "execution_count": 2,
   "metadata": {
    "id": "fFVu7vqh_Zct"
   },
   "outputs": [],
   "source": [
    "df = pd.read_csv('/datasets/yandex_music_project.csv')"
   ]
  },
  {
   "cell_type": "markdown",
   "metadata": {},
   "source": [
    "<div class=\"alert alert-success\">\n",
    "<b>Успех:</b> \n",
    "<br>Очень здорово, что ты используешь сокращение pd для Pandas, это общепринятое сокращение для этой библиотеки для удобной дальнейшей работы.\n",
    "</div>"
   ]
  },
  {
   "cell_type": "markdown",
   "metadata": {
    "id": "rDoOMd3uTqnZ"
   },
   "source": [
    "Выведите на экран первые десять строк таблицы:"
   ]
  },
  {
   "cell_type": "code",
   "execution_count": 3,
   "metadata": {
    "id": "oWTVX3gW_Zct"
   },
   "outputs": [
    {
     "name": "stdout",
     "output_type": "stream",
     "text": [
      "     userID                        Track            artist   genre  \\\n",
      "0  FFB692EC            Kamigata To Boots  The Mass Missile    rock   \n",
      "1  55204538  Delayed Because of Accident  Andreas Rönnberg    rock   \n",
      "2    20EC38            Funiculì funiculà       Mario Lanza     pop   \n",
      "3  A3DD03C9        Dragons in the Sunset        Fire + Ice    folk   \n",
      "4  E2DC1FAE                  Soul People        Space Echo   dance   \n",
      "5  842029A1                    Преданная         IMPERVTOR  rusrap   \n",
      "6  4CB90AA5                         True      Roman Messer   dance   \n",
      "7  F03E1C1F             Feeling This Way   Polina Griffith   dance   \n",
      "8  8FA1D3BE     И вновь продолжается бой               NaN  ruspop   \n",
      "9  E772D5C0                    Pessimist               NaN   dance   \n",
      "\n",
      "             City        time        Day  \n",
      "0  Saint-Petersburg  20:28:33  Wednesday  \n",
      "1            Moscow  14:07:09     Friday  \n",
      "2  Saint-Petersburg  20:58:07  Wednesday  \n",
      "3  Saint-Petersburg  08:37:09     Monday  \n",
      "4            Moscow  08:34:34     Monday  \n",
      "5  Saint-Petersburg  13:09:41     Friday  \n",
      "6            Moscow  13:00:07  Wednesday  \n",
      "7            Moscow  20:47:49  Wednesday  \n",
      "8            Moscow  09:17:40     Friday  \n",
      "9  Saint-Petersburg  21:20:49  Wednesday  \n"
     ]
    }
   ],
   "source": [
    "print(df.head(10))"
   ]
  },
  {
   "cell_type": "markdown",
   "metadata": {},
   "source": [
    "<div class=\"alert alert-warning\">\n",
    "<b>Совет:</b> \n",
    "<br>Обрати внимание, что здесь использование функции display() ни на что не влияет, а это значит, что её можно не применять\n",
    "</div>"
   ]
  },
  {
   "cell_type": "markdown",
   "metadata": {},
   "source": [
    "<div class=\"alert alert-info\">\n",
    "<b>Комментарий студента:</b>\n",
    "<br>Оки\n",
    "</div>"
   ]
  },
  {
   "cell_type": "markdown",
   "metadata": {
    "id": "EO73Kwic_Zct"
   },
   "source": [
    "Одной командой получить общую информацию о таблице:"
   ]
  },
  {
   "cell_type": "code",
   "execution_count": 4,
   "metadata": {
    "id": "DSf2kIb-_Zct"
   },
   "outputs": [
    {
     "name": "stdout",
     "output_type": "stream",
     "text": [
      "<class 'pandas.core.frame.DataFrame'>\n",
      "RangeIndex: 65079 entries, 0 to 65078\n",
      "Data columns (total 7 columns):\n",
      "  userID    65079 non-null object\n",
      "Track       63848 non-null object\n",
      "artist      57876 non-null object\n",
      "genre       63881 non-null object\n",
      "  City      65079 non-null object\n",
      "time        65079 non-null object\n",
      "Day         65079 non-null object\n",
      "dtypes: object(7)\n",
      "memory usage: 3.5+ MB\n"
     ]
    }
   ],
   "source": [
    "df.info()"
   ]
  },
  {
   "cell_type": "markdown",
   "metadata": {},
   "source": [
    "<div class=\"alert alert-danger\">\n",
    "<b>Ошибка:</b> \n",
    "<br>Суть метода info() в том, чтобы посмотреть какие типы данных содержатся в таблице, какого она размера, а также увидеть в каких столбцах есть пропуски. Сейчас мы видим только размер таблицы. У тебя есть мааааленькая ошибка)\n",
    "</div>"
   ]
  },
  {
   "cell_type": "markdown",
   "metadata": {},
   "source": [
    "<div class=\"alert alert-info\">\n",
    "<b>Комментарий студента:</b>\n",
    "<br>Исправлено\n",
    "</div>"
   ]
  },
  {
   "cell_type": "markdown",
   "metadata": {},
   "source": [
    "<div class=\"alert alert-success\">\n",
    "<b>Комментарий ревьюера v2:</b>\n",
    "<br>✅\n",
    "</div>"
   ]
  },
  {
   "cell_type": "markdown",
   "metadata": {
    "id": "TaQ2Iwbr_Zct"
   },
   "source": [
    "Итак, в таблице семь столбцов. Тип данных во всех столбцах — `object`.\n",
    "\n",
    "Согласно документации к данным:\n",
    "* `userID` — идентификатор пользователя;\n",
    "* `Track` — название трека;  \n",
    "* `artist` — имя исполнителя;\n",
    "* `genre` — название жанра;\n",
    "* `City` — город пользователя;\n",
    "* `time` — время начала прослушивания;\n",
    "* `Day` — день недели.\n",
    "\n",
    "В названиях колонок видны три нарушения стиля:\n",
    "1. Строчные буквы сочетаются с прописными.\n",
    "2. Встречаются пробелы.\n",
    "3. Найдите ещё одну проблему в названии колонок и опишите её в этом пункте.\n",
    "\n",
    "\n",
    "\n",
    "Количество значений в столбцах различается. Значит, в данных есть пропущенные значения.\n"
   ]
  },
  {
   "cell_type": "markdown",
   "metadata": {},
   "source": [
    "<div class=\"alert alert-danger\">\n",
    "<b>Ошибка:</b> \n",
    "<br>Ты пропустил ответ на вопрос\n",
    "</div>"
   ]
  },
  {
   "cell_type": "markdown",
   "metadata": {},
   "source": [
    "<div class=\"alert alert-info\">\n",
    "<b>Комментарий студента:</b>\n",
    "<br>Что за вопрос?\n",
    "</div>\n",
    "\n",
    "<div class=\"alert alert-success\">\n",
    "<b>Комментарий ревьюера v2:</b>\n",
    "<br>В названиях колонок видны три нарушения стиля:\n",
    "\n",
    "<br>1. Строчные буквы сочетаются с прописными.\n",
    "<br>2. Встречаются пробелы.\n",
    "<br>3. Найдите ещё одну проблему в названии колонок и опишите её в этом пункте.\n",
    "    \n",
    "<br>Пункт 3\n",
    "</div>"
   ]
  },
  {
   "cell_type": "markdown",
   "metadata": {},
   "source": [
    "<div class=\"alert alert-info\">\n",
    "<b>Комментарий студента:</b>\n",
    "<br>Третья проблема в написании колонок, \"userid\" должно быть \"user_id\", привести в \"змеиный вид\" так сказать. \n",
    "</div>"
   ]
  },
  {
   "cell_type": "markdown",
   "metadata": {
    "id": "MCB6-dXG_Zct"
   },
   "source": [
    "**Выводы**\n",
    "\n",
    "В каждой строке таблицы — данные о прослушанном треке. Часть колонок описывает саму композицию: название, исполнителя и жанр. Остальные данные рассказывают о пользователе: из какого он города, когда он слушал музыку. \n",
    "\n",
    "Предварительно можно утверждать, что, данных достаточно для проверки гипотез. Но встречаются пропуски в данных, а в названиях колонок — расхождения с хорошим стилем.\n",
    "\n",
    "Чтобы двигаться дальше, нужно устранить проблемы в данных."
   ]
  },
  {
   "cell_type": "markdown",
   "metadata": {
    "id": "SjYF6Ub9_Zct"
   },
   "source": [
    "## Предобработка данных\n",
    "Исправьте стиль в заголовках столбцов, исключите пропуски. Затем проверьте данные на дубликаты."
   ]
  },
  {
   "cell_type": "markdown",
   "metadata": {
    "id": "dIaKXr29_Zct"
   },
   "source": [
    "### Стиль заголовков\n",
    "Выведите на экран названия столбцов:"
   ]
  },
  {
   "cell_type": "code",
   "execution_count": 5,
   "metadata": {
    "id": "oKOTdF_Q_Zct"
   },
   "outputs": [
    {
     "data": {
      "text/plain": [
       "Index(['  userID', 'Track', 'artist', 'genre', '  City  ', 'time', 'Day'], dtype='object')"
      ]
     },
     "execution_count": 5,
     "metadata": {},
     "output_type": "execute_result"
    }
   ],
   "source": [
    "df.columns"
   ]
  },
  {
   "cell_type": "markdown",
   "metadata": {},
   "source": [
    "<div class=\"alert alert-success\">\n",
    "<b>Успех:</b> \n",
    "<br>Отлично, что здесь не использована функцию print() для вывода: ведь это последняя строчка ячейки.\n",
    "</div>"
   ]
  },
  {
   "cell_type": "markdown",
   "metadata": {
    "id": "zj5534cv_Zct"
   },
   "source": [
    "Приведите названия в соответствие с хорошим стилем:\n",
    "* несколько слов в названии запишите в «змеином_регистре»,\n",
    "* все символы сделайте строчными,\n",
    "* устраните пробелы.\n",
    "\n",
    "Для этого переименуйте колонки так:\n",
    "* `'  userID'` → `'user_id'`;\n",
    "* `'Track'` → `'track'`;\n",
    "* `'  City  '` → `'city'`;\n",
    "* `'Day'` → `'day'`."
   ]
  },
  {
   "cell_type": "code",
   "execution_count": 6,
   "metadata": {
    "id": "ISlFqs5y_Zct"
   },
   "outputs": [],
   "source": [
    "df = df.rename(columns={'  userID': 'user_id', 'Track': 'track_name', '  City  ': 'city', 'Day': 'day'})"
   ]
  },
  {
   "cell_type": "markdown",
   "metadata": {
    "id": "1dqbh00J_Zct"
   },
   "source": [
    "Проверьте результат. Для этого ещё раз выведите на экран названия столбцов:"
   ]
  },
  {
   "cell_type": "code",
   "execution_count": 7,
   "metadata": {
    "id": "d4NOAmTW_Zct"
   },
   "outputs": [
    {
     "data": {
      "text/plain": [
       "Index(['user_id', 'track_name', 'artist', 'genre', 'city', 'time', 'day'], dtype='object')"
      ]
     },
     "execution_count": 7,
     "metadata": {},
     "output_type": "execute_result"
    }
   ],
   "source": [
    "df.columns"
   ]
  },
  {
   "cell_type": "markdown",
   "metadata": {
    "id": "5ISfbcfY_Zct"
   },
   "source": [
    "### Пропуски значений\n",
    "Сначала посчитайте, сколько в таблице пропущенных значений. Для этого достаточно двух методов `pandas`:"
   ]
  },
  {
   "cell_type": "code",
   "execution_count": 8,
   "metadata": {
    "id": "RskX29qr_Zct"
   },
   "outputs": [
    {
     "data": {
      "text/plain": [
       "user_id          0\n",
       "track_name    1231\n",
       "artist        7203\n",
       "genre         1198\n",
       "city             0\n",
       "time             0\n",
       "day              0\n",
       "dtype: int64"
      ]
     },
     "execution_count": 8,
     "metadata": {},
     "output_type": "execute_result"
    }
   ],
   "source": [
    "df.isna().sum()"
   ]
  },
  {
   "cell_type": "markdown",
   "metadata": {
    "id": "qubhgnlO_Zct"
   },
   "source": [
    "Не все пропущенные значения влияют на исследование. Так в `track` и `artist` пропуски не важны для вашей работы. Достаточно заменить их явными обозначениями.\n",
    "\n",
    "Но пропуски в `genre` могут помешать сравнению музыкальных вкусов в Москве и Санкт-Петербурге. На практике было бы правильно установить причину пропусков и восстановить данные. Такой возможности нет в учебном проекте. Придётся:\n",
    "* заполнить и эти пропуски явными обозначениями,\n",
    "* оценить, насколько они повредят расчётам. "
   ]
  },
  {
   "cell_type": "markdown",
   "metadata": {
    "id": "fSv2laPA_Zct"
   },
   "source": [
    "Замените пропущенные значения в столбцах `track`, `artist` и `genre` на строку `'unknown'`. Для этого создайте список `columns_to_replace`, переберите его элементы циклом `for` и для каждого столбца выполните замену пропущенных значений:"
   ]
  },
  {
   "cell_type": "code",
   "execution_count": 9,
   "metadata": {
    "id": "KplB5qWs_Zct"
   },
   "outputs": [],
   "source": [
    "column_to_replace = ['track_name', 'artist', 'genre']\n",
    "for column in column_to_replace:\n",
    "    df[column] = df[column].fillna('unknown')\n",
    "    "
   ]
  },
  {
   "cell_type": "markdown",
   "metadata": {
    "id": "Ilsm-MZo_Zct"
   },
   "source": [
    "Убедитесь, что в таблице не осталось пропусков. Для этого ещё раз посчитайте пропущенные значения."
   ]
  },
  {
   "cell_type": "code",
   "execution_count": 10,
   "metadata": {
    "id": "Tq4nYRX4_Zct",
    "scrolled": false
   },
   "outputs": [
    {
     "data": {
      "text/plain": [
       "user_id       0\n",
       "track_name    0\n",
       "artist        0\n",
       "genre         0\n",
       "city          0\n",
       "time          0\n",
       "day           0\n",
       "dtype: int64"
      ]
     },
     "execution_count": 10,
     "metadata": {},
     "output_type": "execute_result"
    }
   ],
   "source": [
    "df.isna().sum()"
   ]
  },
  {
   "cell_type": "markdown",
   "metadata": {},
   "source": [
    "<div class=\"alert alert-success\">\n",
    "<b>Успех:</b> \n",
    "<br>Отлично! Всё сделано верно\n",
    "</div>"
   ]
  },
  {
   "cell_type": "markdown",
   "metadata": {
    "id": "BWKRtBJ3_Zct"
   },
   "source": [
    "### Дубликаты\n",
    "Посчитайте явные дубликаты в таблице одной командой:"
   ]
  },
  {
   "cell_type": "code",
   "execution_count": 11,
   "metadata": {
    "id": "36eES_S0_Zct"
   },
   "outputs": [
    {
     "data": {
      "text/plain": [
       "3826"
      ]
     },
     "execution_count": 11,
     "metadata": {},
     "output_type": "execute_result"
    }
   ],
   "source": [
    "df.duplicated().sum()"
   ]
  },
  {
   "cell_type": "markdown",
   "metadata": {
    "id": "Ot25h6XR_Zct"
   },
   "source": [
    "Вызовите специальный метод `pandas`, чтобы удалить явные дубликаты:"
   ]
  },
  {
   "cell_type": "code",
   "execution_count": 12,
   "metadata": {
    "id": "exFHq6tt_Zct"
   },
   "outputs": [],
   "source": [
    "df = df.drop_duplicates().reset_index(drop=True)"
   ]
  },
  {
   "cell_type": "markdown",
   "metadata": {
    "id": "Im2YwBEG_Zct"
   },
   "source": [
    "Ещё раз посчитайте явные дубликаты в таблице — убедитесь, что полностью от них избавились:"
   ]
  },
  {
   "cell_type": "code",
   "execution_count": 13,
   "metadata": {
    "id": "-8PuNWQ0_Zct"
   },
   "outputs": [
    {
     "data": {
      "text/plain": [
       "0"
      ]
     },
     "execution_count": 13,
     "metadata": {},
     "output_type": "execute_result"
    }
   ],
   "source": [
    "df.duplicated().sum()"
   ]
  },
  {
   "cell_type": "markdown",
   "metadata": {
    "id": "QlFBsxAr_Zct"
   },
   "source": [
    "Теперь избавьтесь от неявных дубликатов в колонке `genre`. Например, название одного и того же жанра может быть записано немного по-разному. Такие ошибки тоже повлияют на результат исследования."
   ]
  },
  {
   "cell_type": "markdown",
   "metadata": {
    "id": "eSjWwsOh_Zct"
   },
   "source": [
    "Выведите на экран список уникальных названий жанров, отсортированный в алфавитном порядке. Для этого:\n",
    "* извлеките нужный столбец датафрейма, \n",
    "* примените к нему метод сортировки,\n",
    "* для отсортированного столбца вызовите метод, который вернёт уникальные значения из столбца."
   ]
  },
  {
   "cell_type": "code",
   "execution_count": 14,
   "metadata": {
    "id": "JIUcqzZN_Zct"
   },
   "outputs": [
    {
     "name": "stdout",
     "output_type": "stream",
     "text": [
      "['acid', 'acoustic', 'action', 'adult', 'africa', 'afrikaans', 'alternative', 'alternativepunk', 'ambient', 'americana', 'animated', 'anime', 'arabesk', 'arabic', 'arena', 'argentinetango', 'art', 'audiobook', 'author', 'avantgarde', 'axé', 'baile', 'balkan', 'beats', 'bigroom', 'black', 'bluegrass', 'blues', 'bollywood', 'bossa', 'brazilian', 'breakbeat', 'breaks', 'broadway', 'cantautori', 'cantopop', 'canzone', 'caribbean', 'caucasian', 'celtic', 'chamber', 'chanson', 'children', 'chill', 'chinese', 'choral', 'christian', 'christmas', 'classical', 'classicmetal', 'club', 'colombian', 'comedy', 'conjazz', 'contemporary', 'country', 'cuban', 'dance', 'dancehall', 'dancepop', 'dark', 'death', 'deep', 'deutschrock', 'deutschspr', 'dirty', 'disco', 'dnb', 'documentary', 'downbeat', 'downtempo', 'drum', 'dub', 'dubstep', 'eastern', 'easy', 'electronic', 'electropop', 'emo', 'entehno', 'epicmetal', 'estrada', 'ethnic', 'eurofolk', 'european', 'experimental', 'extrememetal', 'fado', 'fairytail', 'film', 'fitness', 'flamenco', 'folk', 'folklore', 'folkmetal', 'folkrock', 'folktronica', 'forró', 'frankreich', 'französisch', 'french', 'funk', 'future', 'gangsta', 'garage', 'german', 'ghazal', 'gitarre', 'glitch', 'gospel', 'gothic', 'grime', 'grunge', 'gypsy', 'handsup', \"hard'n'heavy\", 'hardcore', 'hardstyle', 'hardtechno', 'hip', 'hip-hop', 'hiphop', 'historisch', 'holiday', 'hop', 'horror', 'house', 'hymn', 'idm', 'independent', 'indian', 'indie', 'indipop', 'industrial', 'inspirational', 'instrumental', 'international', 'irish', 'jam', 'japanese', 'jazz', 'jewish', 'jpop', 'jungle', 'k-pop', 'karadeniz', 'karaoke', 'kayokyoku', 'korean', 'laiko', 'latin', 'latino', 'leftfield', 'local', 'lounge', 'loungeelectronic', 'lovers', 'malaysian', 'mandopop', 'marschmusik', 'meditative', 'mediterranean', 'melodic', 'metal', 'metalcore', 'mexican', 'middle', 'minimal', 'miscellaneous', 'modern', 'mood', 'mpb', 'muslim', 'native', 'neoklassik', 'neue', 'new', 'newage', 'newwave', 'nu', 'nujazz', 'numetal', 'oceania', 'old', 'opera', 'orchestral', 'other', 'piano', 'podcasts', 'pop', 'popdance', 'popelectronic', 'popeurodance', 'poprussian', 'post', 'posthardcore', 'postrock', 'power', 'progmetal', 'progressive', 'psychedelic', 'punjabi', 'punk', 'quebecois', 'ragga', 'ram', 'rancheras', 'rap', 'rave', 'reggae', 'reggaeton', 'regional', 'relax', 'religious', 'retro', 'rhythm', 'rnb', 'rnr', 'rock', 'rockabilly', 'rockalternative', 'rockindie', 'rockother', 'romance', 'roots', 'ruspop', 'rusrap', 'rusrock', 'russian', 'salsa', 'samba', 'scenic', 'schlager', 'self', 'sertanejo', 'shanson', 'shoegazing', 'showtunes', 'singer', 'ska', 'skarock', 'slow', 'smooth', 'soft', 'soul', 'soulful', 'sound', 'soundtrack', 'southern', 'specialty', 'speech', 'spiritual', 'sport', 'stonerrock', 'surf', 'swing', 'synthpop', 'synthrock', 'sängerportrait', 'tango', 'tanzorchester', 'taraftar', 'tatar', 'tech', 'techno', 'teen', 'thrash', 'top', 'traditional', 'tradjazz', 'trance', 'tribal', 'trip', 'triphop', 'tropical', 'türk', 'türkçe', 'ukrrock', 'unknown', 'urban', 'uzbek', 'variété', 'vi', 'videogame', 'vocal', 'western', 'world', 'worldbeat', 'ïîï', 'электроника']\n"
     ]
    }
   ],
   "source": [
    "print(sorted(df['genre'].unique()))"
   ]
  },
  {
   "cell_type": "markdown",
   "metadata": {},
   "source": [
    "<div class=\"alert alert-warning\">\n",
    "<b>Совет:</b> \n",
    "<br>Для сортировки датафрейма, лучше использьзовать метод .sort_values():\n",
    "    \n",
    "    df['genre'].sort_values().unique()\n",
    "</div>"
   ]
  },
  {
   "cell_type": "code",
   "execution_count": 15,
   "metadata": {
    "id": "ErNDkmns_Zct"
   },
   "outputs": [],
   "source": [
    "def replace_wrong_genres(wrong_genres, correct_genre):\n",
    "    df['genre'] = df['genre'].replace(wrong_genres, correct_genre)\n",
    "    return df['genre']"
   ]
  },
  {
   "cell_type": "markdown",
   "metadata": {
    "id": "qej-Qmuo_Zct"
   },
   "source": [
    "Просмотрите список и найдите неявные дубликаты названия `hiphop`. Это могут быть названия с ошибками или альтернативные названия того же жанра.\n",
    "\n",
    "Вы увидите следующие неявные дубликаты:\n",
    "* *hip*,\n",
    "* *hop*,\n",
    "* *hip-hop*.\n",
    "\n",
    "Чтобы очистить от них таблицу, напишите функцию `replace_wrong_genres()` с двумя параметрами: \n",
    "* `wrong_genres` — список дубликатов,\n",
    "* `correct_genre` — строка с правильным значением.\n",
    "\n",
    "Функция должна исправить колонку `genre` в таблице `df`: заменить каждое значение из списка `wrong_genres` на значение из `correct_genre`."
   ]
  },
  {
   "cell_type": "markdown",
   "metadata": {
    "id": "aDoBJxbA_Zct"
   },
   "source": [
    "Вызовите `replace_wrong_genres()` и передайте ей такие аргументы, чтобы она устранила неявные дубликаты: вместо `hip`, `hop` и `hip-hop` в таблице должно быть значение `hiphop`:"
   ]
  },
  {
   "cell_type": "code",
   "execution_count": 16,
   "metadata": {
    "id": "YN5i2hpmSo09"
   },
   "outputs": [
    {
     "data": {
      "text/plain": [
       "0              rock\n",
       "1              rock\n",
       "2               pop\n",
       "3              folk\n",
       "4             dance\n",
       "            ...    \n",
       "61248           rnb\n",
       "61249        hiphop\n",
       "61250    industrial\n",
       "61251          rock\n",
       "61252       country\n",
       "Name: genre, Length: 61253, dtype: object"
      ]
     },
     "execution_count": 16,
     "metadata": {},
     "output_type": "execute_result"
    }
   ],
   "source": [
    "replace_wrong_genres(['hip', 'hop','hip-hop'], 'hiphop')\n",
    "replace_wrong_genres(['электроника'], 'electronic')"
   ]
  },
  {
   "cell_type": "markdown",
   "metadata": {},
   "source": [
    "<div class=\"alert alert-warning\">\n",
    "<b>Совет:</b> \n",
    "<br>Ещё одним вызовом функции можно было заменить дубликаты в жанрах 'electronic' / 'электроника'\n",
    "</div>"
   ]
  },
  {
   "cell_type": "markdown",
   "metadata": {
    "id": "zQKF16_RG15m"
   },
   "source": [
    "Проверьте, что заменили неправильные названия:\n",
    "\n",
    "*   hip\n",
    "*   hop\n",
    "*   hip-hop\n",
    "\n",
    "Выведите отсортированный список уникальных значений столбца `genre`:"
   ]
  },
  {
   "cell_type": "code",
   "execution_count": 17,
   "metadata": {
    "id": "wvixALnFG15m"
   },
   "outputs": [
    {
     "name": "stdout",
     "output_type": "stream",
     "text": [
      "['acid', 'acoustic', 'action', 'adult', 'africa', 'afrikaans', 'alternative', 'alternativepunk', 'ambient', 'americana', 'animated', 'anime', 'arabesk', 'arabic', 'arena', 'argentinetango', 'art', 'audiobook', 'author', 'avantgarde', 'axé', 'baile', 'balkan', 'beats', 'bigroom', 'black', 'bluegrass', 'blues', 'bollywood', 'bossa', 'brazilian', 'breakbeat', 'breaks', 'broadway', 'cantautori', 'cantopop', 'canzone', 'caribbean', 'caucasian', 'celtic', 'chamber', 'chanson', 'children', 'chill', 'chinese', 'choral', 'christian', 'christmas', 'classical', 'classicmetal', 'club', 'colombian', 'comedy', 'conjazz', 'contemporary', 'country', 'cuban', 'dance', 'dancehall', 'dancepop', 'dark', 'death', 'deep', 'deutschrock', 'deutschspr', 'dirty', 'disco', 'dnb', 'documentary', 'downbeat', 'downtempo', 'drum', 'dub', 'dubstep', 'eastern', 'easy', 'electronic', 'electropop', 'emo', 'entehno', 'epicmetal', 'estrada', 'ethnic', 'eurofolk', 'european', 'experimental', 'extrememetal', 'fado', 'fairytail', 'film', 'fitness', 'flamenco', 'folk', 'folklore', 'folkmetal', 'folkrock', 'folktronica', 'forró', 'frankreich', 'französisch', 'french', 'funk', 'future', 'gangsta', 'garage', 'german', 'ghazal', 'gitarre', 'glitch', 'gospel', 'gothic', 'grime', 'grunge', 'gypsy', 'handsup', \"hard'n'heavy\", 'hardcore', 'hardstyle', 'hardtechno', 'hiphop', 'historisch', 'holiday', 'horror', 'house', 'hymn', 'idm', 'independent', 'indian', 'indie', 'indipop', 'industrial', 'inspirational', 'instrumental', 'international', 'irish', 'jam', 'japanese', 'jazz', 'jewish', 'jpop', 'jungle', 'k-pop', 'karadeniz', 'karaoke', 'kayokyoku', 'korean', 'laiko', 'latin', 'latino', 'leftfield', 'local', 'lounge', 'loungeelectronic', 'lovers', 'malaysian', 'mandopop', 'marschmusik', 'meditative', 'mediterranean', 'melodic', 'metal', 'metalcore', 'mexican', 'middle', 'minimal', 'miscellaneous', 'modern', 'mood', 'mpb', 'muslim', 'native', 'neoklassik', 'neue', 'new', 'newage', 'newwave', 'nu', 'nujazz', 'numetal', 'oceania', 'old', 'opera', 'orchestral', 'other', 'piano', 'podcasts', 'pop', 'popdance', 'popelectronic', 'popeurodance', 'poprussian', 'post', 'posthardcore', 'postrock', 'power', 'progmetal', 'progressive', 'psychedelic', 'punjabi', 'punk', 'quebecois', 'ragga', 'ram', 'rancheras', 'rap', 'rave', 'reggae', 'reggaeton', 'regional', 'relax', 'religious', 'retro', 'rhythm', 'rnb', 'rnr', 'rock', 'rockabilly', 'rockalternative', 'rockindie', 'rockother', 'romance', 'roots', 'ruspop', 'rusrap', 'rusrock', 'russian', 'salsa', 'samba', 'scenic', 'schlager', 'self', 'sertanejo', 'shanson', 'shoegazing', 'showtunes', 'singer', 'ska', 'skarock', 'slow', 'smooth', 'soft', 'soul', 'soulful', 'sound', 'soundtrack', 'southern', 'specialty', 'speech', 'spiritual', 'sport', 'stonerrock', 'surf', 'swing', 'synthpop', 'synthrock', 'sängerportrait', 'tango', 'tanzorchester', 'taraftar', 'tatar', 'tech', 'techno', 'teen', 'thrash', 'top', 'traditional', 'tradjazz', 'trance', 'tribal', 'trip', 'triphop', 'tropical', 'türk', 'türkçe', 'ukrrock', 'unknown', 'urban', 'uzbek', 'variété', 'vi', 'videogame', 'vocal', 'western', 'world', 'worldbeat', 'ïîï']\n"
     ]
    }
   ],
   "source": [
    "print(sorted(df['genre'].unique()))"
   ]
  },
  {
   "cell_type": "markdown",
   "metadata": {
    "id": "jz6a9-7HQUDd"
   },
   "source": [
    "**Выводы**\n",
    "\n",
    "Предобработка обнаружила три проблемы в данных:\n",
    "\n",
    "- нарушения в стиле заголовков,\n",
    "- пропущенные значения,\n",
    "- дубликаты — явные и неявные.\n",
    "\n",
    "Вы исправили заголовки, чтобы упростить работу с таблицей. Без дубликатов исследование станет более точным.\n",
    "\n",
    "Пропущенные значения вы заменили на `'unknown'`. Ещё предстоит увидеть, не повредят ли исследованию пропуски в колонке `genre`.\n",
    "\n",
    "Теперь можно перейти к проверке гипотез. "
   ]
  },
  {
   "cell_type": "markdown",
   "metadata": {},
   "source": [
    "<div class=\"alert alert-success\">\n",
    "<b>Успех:</b> \n",
    "<br>Супер! Дубликаты победили)\n",
    "</div>"
   ]
  },
  {
   "cell_type": "markdown",
   "metadata": {
    "id": "WttZHXH0SqKk"
   },
   "source": [
    "## Проверка гипотез"
   ]
  },
  {
   "cell_type": "markdown",
   "metadata": {
    "id": "Im936VVi_Zcu"
   },
   "source": [
    "### Сравнение поведения пользователей двух столиц"
   ]
  },
  {
   "cell_type": "markdown",
   "metadata": {
    "id": "nwt_MuaL_Zcu"
   },
   "source": [
    "Первая гипотеза утверждает, что пользователи по-разному слушают музыку в Москве и Санкт-Петербурге. Проверьте это предположение по данным о трёх днях недели — понедельнике, среде и пятнице. Для этого:\n",
    "\n",
    "* Разделите пользователей Москвы и Санкт-Петербурга\n",
    "* Сравните, сколько треков послушала каждая группа пользователей в понедельник, среду и пятницу.\n"
   ]
  },
  {
   "cell_type": "markdown",
   "metadata": {
    "id": "8Dw_YMmT_Zcu"
   },
   "source": [
    "Для тренировки сначала выполните каждый из расчётов по отдельности. \n",
    "\n",
    "Оцените активность пользователей в каждом городе. Сгруппируйте данные по городу и посчитайте прослушивания в каждой группе.\n",
    "\n"
   ]
  },
  {
   "cell_type": "code",
   "execution_count": 18,
   "metadata": {
    "id": "0_Qs96oh_Zcu"
   },
   "outputs": [
    {
     "name": "stdout",
     "output_type": "stream",
     "text": [
      "18512\n",
      "42741\n"
     ]
    }
   ],
   "source": [
    "city_spb = df[df['city'] == 'Saint-Petersburg']\n",
    "city_msc = df[df['city'] == 'Moscow']\n",
    "print(city_spb['city'].count())\n",
    "print(city_msc['city'].count())"
   ]
  },
  {
   "cell_type": "markdown",
   "metadata": {
    "id": "dzli3w8o_Zcu"
   },
   "source": [
    "В Москве прослушиваний больше, чем в Петербурге. Из этого не следует, что московские пользователи чаще слушают музыку. Просто самих пользователей в Москве больше.\n",
    "\n",
    "Теперь сгруппируйте данные по дню недели и подсчитайте прослушивания в понедельник, среду и пятницу. Учтите, что в данных есть информация только о прослушиваниях только за эти дни.\n"
   ]
  },
  {
   "cell_type": "code",
   "execution_count": 19,
   "metadata": {
    "id": "uZMKjiJz_Zcu"
   },
   "outputs": [
    {
     "name": "stdout",
     "output_type": "stream",
     "text": [
      "Активность по дням в Москве: day\n",
      "Friday       15945\n",
      "Monday       15740\n",
      "Wednesday    11056\n",
      "Name: city, dtype: int64\n",
      "\n",
      "Активность по дням в Питере: day\n",
      "Friday       5895\n",
      "Monday       5614\n",
      "Wednesday    7003\n",
      "Name: city, dtype: int64\n"
     ]
    }
   ],
   "source": [
    "print('Активность по дням в Москве:',\n",
    "      city_msc.groupby('day')['city'].count())\n",
    "print()\n",
    "print('Активность по дням в Питере:',\n",
    "      city_spb.groupby('day')['city'].count())"
   ]
  },
  {
   "cell_type": "markdown",
   "metadata": {},
   "source": [
    "<div class=\"alert alert-success\">\n",
    "<b>Комментарий ревьюера:</b>\n",
    "<br>👍\n",
    "</div>"
   ]
  },
  {
   "cell_type": "markdown",
   "metadata": {
    "id": "cC2tNrlL_Zcu"
   },
   "source": [
    "В среднем пользователи из двух городов менее активны по средам. Но картина может измениться, если рассмотреть каждый город в отдельности."
   ]
  },
  {
   "cell_type": "markdown",
   "metadata": {
    "id": "POzs8bGa_Zcu"
   },
   "source": [
    "Вы видели, как работает группировка по городу и по дням недели. Теперь напишите функцию, которая объединит два эти расчёта.\n",
    "\n",
    "Создайте функцию `number_tracks()`, которая посчитает прослушивания для заданного дня и города. Ей понадобятся два параметра:\n",
    "* день недели,\n",
    "* название города.\n",
    "\n",
    "В функции сохраните в переменную строки исходной таблицы, у которых значение:\n",
    "  * в колонке `day` равно параметру `day`,\n",
    "  * в колонке `city` равно параметру `city`.\n",
    "\n",
    "Для этого примените последовательную фильтрацию с логической индексацией.\n",
    "\n",
    "Затем посчитайте значения в столбце `user_id` получившейся таблицы. Результат сохраните в новую переменную. Верните эту переменную из функции."
   ]
  },
  {
   "cell_type": "code",
   "execution_count": 20,
   "metadata": {
    "id": "Nz3GdQB1_Zcu"
   },
   "outputs": [],
   "source": [
    "def number_tracks(day, city):\n",
    "    track_list = df[(df['day'] == day) & (df['city'] == city)]\n",
    "    track_list_count = track_list['user_id'].count()\n",
    "    return track_list_count"
   ]
  },
  {
   "cell_type": "markdown",
   "metadata": {
    "id": "ytf7xFrFJQ2r"
   },
   "source": [
    "Вызовите `number_tracks()` шесть раз, меняя значение параметров — так, чтобы получить данные для каждого города в каждый из трёх дней."
   ]
  },
  {
   "cell_type": "code",
   "execution_count": 21,
   "metadata": {
    "id": "rJcRATNQ_Zcu"
   },
   "outputs": [
    {
     "data": {
      "text/plain": [
       "15740"
      ]
     },
     "execution_count": 21,
     "metadata": {},
     "output_type": "execute_result"
    }
   ],
   "source": [
    "number_tracks('Monday', 'Moscow')"
   ]
  },
  {
   "cell_type": "code",
   "execution_count": 22,
   "metadata": {
    "id": "hq_ncZ5T_Zcu"
   },
   "outputs": [
    {
     "data": {
      "text/plain": [
       "5614"
      ]
     },
     "execution_count": 22,
     "metadata": {},
     "output_type": "execute_result"
    }
   ],
   "source": [
    "number_tracks('Monday', 'Saint-Petersburg')"
   ]
  },
  {
   "cell_type": "code",
   "execution_count": 23,
   "metadata": {
    "id": "_NTy2VPU_Zcu"
   },
   "outputs": [
    {
     "data": {
      "text/plain": [
       "11056"
      ]
     },
     "execution_count": 23,
     "metadata": {},
     "output_type": "execute_result"
    }
   ],
   "source": [
    "number_tracks('Wednesday', 'Moscow')"
   ]
  },
  {
   "cell_type": "code",
   "execution_count": 24,
   "metadata": {
    "id": "j2y3TAwo_Zcu"
   },
   "outputs": [
    {
     "data": {
      "text/plain": [
       "7003"
      ]
     },
     "execution_count": 24,
     "metadata": {},
     "output_type": "execute_result"
    }
   ],
   "source": [
    "number_tracks('Wednesday', 'Saint-Petersburg')"
   ]
  },
  {
   "cell_type": "code",
   "execution_count": 25,
   "metadata": {
    "id": "vYDw5u_K_Zcu"
   },
   "outputs": [
    {
     "data": {
      "text/plain": [
       "15945"
      ]
     },
     "execution_count": 25,
     "metadata": {},
     "output_type": "execute_result"
    }
   ],
   "source": [
    "number_tracks('Friday', 'Moscow')"
   ]
  },
  {
   "cell_type": "code",
   "execution_count": 26,
   "metadata": {
    "id": "8_yzFtW3_Zcu"
   },
   "outputs": [
    {
     "data": {
      "text/plain": [
       "5895"
      ]
     },
     "execution_count": 26,
     "metadata": {},
     "output_type": "execute_result"
    }
   ],
   "source": [
    "number_tracks('Friday', 'Saint-Petersburg')"
   ]
  },
  {
   "cell_type": "markdown",
   "metadata": {
    "id": "7QXffbO-_Zcu"
   },
   "source": [
    "Создайте c помощью конструктора `pd.DataFrame` таблицу, где\n",
    "* названия колонок — `['city', 'monday', 'wednesday', 'friday']`;\n",
    "* данные — результаты, которые вы получили с помощью `number_tracks`."
   ]
  },
  {
   "cell_type": "code",
   "execution_count": 27,
   "metadata": {
    "id": "APAcLpOr_Zcu"
   },
   "outputs": [
    {
     "data": {
      "text/html": [
       "<div>\n",
       "<style scoped>\n",
       "    .dataframe tbody tr th:only-of-type {\n",
       "        vertical-align: middle;\n",
       "    }\n",
       "\n",
       "    .dataframe tbody tr th {\n",
       "        vertical-align: top;\n",
       "    }\n",
       "\n",
       "    .dataframe thead th {\n",
       "        text-align: right;\n",
       "    }\n",
       "</style>\n",
       "<table border=\"1\" class=\"dataframe\">\n",
       "  <thead>\n",
       "    <tr style=\"text-align: right;\">\n",
       "      <th></th>\n",
       "      <th>city</th>\n",
       "      <th>monday</th>\n",
       "      <th>wednesday</th>\n",
       "      <th>friday</th>\n",
       "    </tr>\n",
       "  </thead>\n",
       "  <tbody>\n",
       "    <tr>\n",
       "      <td>0</td>\n",
       "      <td>Moscow</td>\n",
       "      <td>15740</td>\n",
       "      <td>11056</td>\n",
       "      <td>15945</td>\n",
       "    </tr>\n",
       "    <tr>\n",
       "      <td>1</td>\n",
       "      <td>Saint-Petersburg</td>\n",
       "      <td>5614</td>\n",
       "      <td>7003</td>\n",
       "      <td>5895</td>\n",
       "    </tr>\n",
       "  </tbody>\n",
       "</table>\n",
       "</div>"
      ],
      "text/plain": [
       "               city  monday  wednesday  friday\n",
       "0            Moscow   15740      11056   15945\n",
       "1  Saint-Petersburg    5614       7003    5895"
      ]
     },
     "metadata": {},
     "output_type": "display_data"
    }
   ],
   "source": [
    "data = [['Moscow', 15740, 11056, 15945],\n",
    "       ['Saint-Petersburg', 5614, 7003, 5895]]\n",
    "columns = ['city','monday','wednesday','friday']\n",
    "table = pd.DataFrame(data = data, columns = columns)\n",
    "display(table)"
   ]
  },
  {
   "cell_type": "markdown",
   "metadata": {},
   "source": [
    "<div class=\"alert alert-success\">\n",
    "<b>Успех:</b> \n",
    "<br>Датафрейм построен верно. Молодец!\n",
    "</div>"
   ]
  },
  {
   "cell_type": "markdown",
   "metadata": {
    "id": "-EgPIHYu_Zcu"
   },
   "source": [
    "**Выводы**\n",
    "\n",
    "Данные показывают разницу поведения пользователей:\n",
    "\n",
    "- В Москве пик прослушиваний приходится на понедельник и пятницу, а в среду заметен спад.\n",
    "- В Петербурге, наоборот, больше слушают музыку по средам. Активность в понедельник и пятницу здесь почти в равной мере уступает среде.\n",
    "\n",
    "Значит, данные говорят в пользу первой гипотезы."
   ]
  },
  {
   "cell_type": "markdown",
   "metadata": {
    "id": "atZAxtq4_Zcu"
   },
   "source": [
    "### Музыка в начале и в конце недели"
   ]
  },
  {
   "cell_type": "markdown",
   "metadata": {
    "id": "eXrQqXFH_Zcu"
   },
   "source": [
    "Согласно второй гипотезе, утром в понедельник в Москве преобладают одни жанры, а в Петербурге — другие. Так же и вечером пятницы преобладают разные жанры — в зависимости от города."
   ]
  },
  {
   "cell_type": "markdown",
   "metadata": {
    "id": "S8UcW6Hw_Zcu"
   },
   "source": [
    "Сохраните таблицы с данными в две переменные:\n",
    "* по Москве — в `moscow_general`;\n",
    "* по Санкт-Петербургу — в `spb_general`."
   ]
  },
  {
   "cell_type": "code",
   "execution_count": 28,
   "metadata": {
    "id": "qeaFfM_P_Zcu"
   },
   "outputs": [
    {
     "data": {
      "text/html": [
       "<div>\n",
       "<style scoped>\n",
       "    .dataframe tbody tr th:only-of-type {\n",
       "        vertical-align: middle;\n",
       "    }\n",
       "\n",
       "    .dataframe tbody tr th {\n",
       "        vertical-align: top;\n",
       "    }\n",
       "\n",
       "    .dataframe thead th {\n",
       "        text-align: right;\n",
       "    }\n",
       "</style>\n",
       "<table border=\"1\" class=\"dataframe\">\n",
       "  <thead>\n",
       "    <tr style=\"text-align: right;\">\n",
       "      <th></th>\n",
       "      <th>user_id</th>\n",
       "      <th>track_name</th>\n",
       "      <th>artist</th>\n",
       "      <th>genre</th>\n",
       "      <th>city</th>\n",
       "      <th>time</th>\n",
       "      <th>day</th>\n",
       "    </tr>\n",
       "  </thead>\n",
       "  <tbody>\n",
       "    <tr>\n",
       "      <td>1</td>\n",
       "      <td>55204538</td>\n",
       "      <td>Delayed Because of Accident</td>\n",
       "      <td>Andreas Rönnberg</td>\n",
       "      <td>rock</td>\n",
       "      <td>Moscow</td>\n",
       "      <td>14:07:09</td>\n",
       "      <td>Friday</td>\n",
       "    </tr>\n",
       "    <tr>\n",
       "      <td>4</td>\n",
       "      <td>E2DC1FAE</td>\n",
       "      <td>Soul People</td>\n",
       "      <td>Space Echo</td>\n",
       "      <td>dance</td>\n",
       "      <td>Moscow</td>\n",
       "      <td>08:34:34</td>\n",
       "      <td>Monday</td>\n",
       "    </tr>\n",
       "    <tr>\n",
       "      <td>6</td>\n",
       "      <td>4CB90AA5</td>\n",
       "      <td>True</td>\n",
       "      <td>Roman Messer</td>\n",
       "      <td>dance</td>\n",
       "      <td>Moscow</td>\n",
       "      <td>13:00:07</td>\n",
       "      <td>Wednesday</td>\n",
       "    </tr>\n",
       "    <tr>\n",
       "      <td>7</td>\n",
       "      <td>F03E1C1F</td>\n",
       "      <td>Feeling This Way</td>\n",
       "      <td>Polina Griffith</td>\n",
       "      <td>dance</td>\n",
       "      <td>Moscow</td>\n",
       "      <td>20:47:49</td>\n",
       "      <td>Wednesday</td>\n",
       "    </tr>\n",
       "    <tr>\n",
       "      <td>8</td>\n",
       "      <td>8FA1D3BE</td>\n",
       "      <td>И вновь продолжается бой</td>\n",
       "      <td>unknown</td>\n",
       "      <td>ruspop</td>\n",
       "      <td>Moscow</td>\n",
       "      <td>09:17:40</td>\n",
       "      <td>Friday</td>\n",
       "    </tr>\n",
       "    <tr>\n",
       "      <td>...</td>\n",
       "      <td>...</td>\n",
       "      <td>...</td>\n",
       "      <td>...</td>\n",
       "      <td>...</td>\n",
       "      <td>...</td>\n",
       "      <td>...</td>\n",
       "      <td>...</td>\n",
       "    </tr>\n",
       "    <tr>\n",
       "      <td>61247</td>\n",
       "      <td>83A474E7</td>\n",
       "      <td>I Worship Only What You Bleed</td>\n",
       "      <td>The Black Dahlia Murder</td>\n",
       "      <td>extrememetal</td>\n",
       "      <td>Moscow</td>\n",
       "      <td>21:07:12</td>\n",
       "      <td>Monday</td>\n",
       "    </tr>\n",
       "    <tr>\n",
       "      <td>61248</td>\n",
       "      <td>729CBB09</td>\n",
       "      <td>My Name</td>\n",
       "      <td>McLean</td>\n",
       "      <td>rnb</td>\n",
       "      <td>Moscow</td>\n",
       "      <td>13:32:28</td>\n",
       "      <td>Wednesday</td>\n",
       "    </tr>\n",
       "    <tr>\n",
       "      <td>61250</td>\n",
       "      <td>C5E3A0D5</td>\n",
       "      <td>Jalopiina</td>\n",
       "      <td>unknown</td>\n",
       "      <td>industrial</td>\n",
       "      <td>Moscow</td>\n",
       "      <td>20:09:26</td>\n",
       "      <td>Friday</td>\n",
       "    </tr>\n",
       "    <tr>\n",
       "      <td>61251</td>\n",
       "      <td>321D0506</td>\n",
       "      <td>Freight Train</td>\n",
       "      <td>Chas McDevitt</td>\n",
       "      <td>rock</td>\n",
       "      <td>Moscow</td>\n",
       "      <td>21:43:59</td>\n",
       "      <td>Friday</td>\n",
       "    </tr>\n",
       "    <tr>\n",
       "      <td>61252</td>\n",
       "      <td>3A64EF84</td>\n",
       "      <td>Tell Me Sweet Little Lies</td>\n",
       "      <td>Monica Lopez</td>\n",
       "      <td>country</td>\n",
       "      <td>Moscow</td>\n",
       "      <td>21:59:46</td>\n",
       "      <td>Friday</td>\n",
       "    </tr>\n",
       "  </tbody>\n",
       "</table>\n",
       "<p>42741 rows × 7 columns</p>\n",
       "</div>"
      ],
      "text/plain": [
       "        user_id                     track_name                   artist  \\\n",
       "1      55204538    Delayed Because of Accident         Andreas Rönnberg   \n",
       "4      E2DC1FAE                    Soul People               Space Echo   \n",
       "6      4CB90AA5                           True             Roman Messer   \n",
       "7      F03E1C1F               Feeling This Way          Polina Griffith   \n",
       "8      8FA1D3BE       И вновь продолжается бой                  unknown   \n",
       "...         ...                            ...                      ...   \n",
       "61247  83A474E7  I Worship Only What You Bleed  The Black Dahlia Murder   \n",
       "61248  729CBB09                        My Name                   McLean   \n",
       "61250  C5E3A0D5                      Jalopiina                  unknown   \n",
       "61251  321D0506                  Freight Train            Chas McDevitt   \n",
       "61252  3A64EF84      Tell Me Sweet Little Lies             Monica Lopez   \n",
       "\n",
       "              genre    city      time        day  \n",
       "1              rock  Moscow  14:07:09     Friday  \n",
       "4             dance  Moscow  08:34:34     Monday  \n",
       "6             dance  Moscow  13:00:07  Wednesday  \n",
       "7             dance  Moscow  20:47:49  Wednesday  \n",
       "8            ruspop  Moscow  09:17:40     Friday  \n",
       "...             ...     ...       ...        ...  \n",
       "61247  extrememetal  Moscow  21:07:12     Monday  \n",
       "61248           rnb  Moscow  13:32:28  Wednesday  \n",
       "61250    industrial  Moscow  20:09:26     Friday  \n",
       "61251          rock  Moscow  21:43:59     Friday  \n",
       "61252       country  Moscow  21:59:46     Friday  \n",
       "\n",
       "[42741 rows x 7 columns]"
      ]
     },
     "metadata": {},
     "output_type": "display_data"
    }
   ],
   "source": [
    "# получение таблицы moscow_general из тех строк таблицы df, \n",
    "# для которых значение в столбце 'city' равно 'Moscow'\n",
    "moscow_general = df[df['city'] == 'Moscow']\n",
    "display(moscow_general)"
   ]
  },
  {
   "cell_type": "code",
   "execution_count": 29,
   "metadata": {
    "id": "ORaVRKto_Zcu"
   },
   "outputs": [
    {
     "data": {
      "text/html": [
       "<div>\n",
       "<style scoped>\n",
       "    .dataframe tbody tr th:only-of-type {\n",
       "        vertical-align: middle;\n",
       "    }\n",
       "\n",
       "    .dataframe tbody tr th {\n",
       "        vertical-align: top;\n",
       "    }\n",
       "\n",
       "    .dataframe thead th {\n",
       "        text-align: right;\n",
       "    }\n",
       "</style>\n",
       "<table border=\"1\" class=\"dataframe\">\n",
       "  <thead>\n",
       "    <tr style=\"text-align: right;\">\n",
       "      <th></th>\n",
       "      <th>user_id</th>\n",
       "      <th>track_name</th>\n",
       "      <th>artist</th>\n",
       "      <th>genre</th>\n",
       "      <th>city</th>\n",
       "      <th>time</th>\n",
       "      <th>day</th>\n",
       "    </tr>\n",
       "  </thead>\n",
       "  <tbody>\n",
       "    <tr>\n",
       "      <td>0</td>\n",
       "      <td>FFB692EC</td>\n",
       "      <td>Kamigata To Boots</td>\n",
       "      <td>The Mass Missile</td>\n",
       "      <td>rock</td>\n",
       "      <td>Saint-Petersburg</td>\n",
       "      <td>20:28:33</td>\n",
       "      <td>Wednesday</td>\n",
       "    </tr>\n",
       "    <tr>\n",
       "      <td>2</td>\n",
       "      <td>20EC38</td>\n",
       "      <td>Funiculì funiculà</td>\n",
       "      <td>Mario Lanza</td>\n",
       "      <td>pop</td>\n",
       "      <td>Saint-Petersburg</td>\n",
       "      <td>20:58:07</td>\n",
       "      <td>Wednesday</td>\n",
       "    </tr>\n",
       "    <tr>\n",
       "      <td>3</td>\n",
       "      <td>A3DD03C9</td>\n",
       "      <td>Dragons in the Sunset</td>\n",
       "      <td>Fire + Ice</td>\n",
       "      <td>folk</td>\n",
       "      <td>Saint-Petersburg</td>\n",
       "      <td>08:37:09</td>\n",
       "      <td>Monday</td>\n",
       "    </tr>\n",
       "    <tr>\n",
       "      <td>5</td>\n",
       "      <td>842029A1</td>\n",
       "      <td>Преданная</td>\n",
       "      <td>IMPERVTOR</td>\n",
       "      <td>rusrap</td>\n",
       "      <td>Saint-Petersburg</td>\n",
       "      <td>13:09:41</td>\n",
       "      <td>Friday</td>\n",
       "    </tr>\n",
       "    <tr>\n",
       "      <td>9</td>\n",
       "      <td>E772D5C0</td>\n",
       "      <td>Pessimist</td>\n",
       "      <td>unknown</td>\n",
       "      <td>dance</td>\n",
       "      <td>Saint-Petersburg</td>\n",
       "      <td>21:20:49</td>\n",
       "      <td>Wednesday</td>\n",
       "    </tr>\n",
       "    <tr>\n",
       "      <td>...</td>\n",
       "      <td>...</td>\n",
       "      <td>...</td>\n",
       "      <td>...</td>\n",
       "      <td>...</td>\n",
       "      <td>...</td>\n",
       "      <td>...</td>\n",
       "      <td>...</td>\n",
       "    </tr>\n",
       "    <tr>\n",
       "      <td>61239</td>\n",
       "      <td>D94F810B</td>\n",
       "      <td>Theme from the Walking Dead</td>\n",
       "      <td>Proyecto Halloween</td>\n",
       "      <td>film</td>\n",
       "      <td>Saint-Petersburg</td>\n",
       "      <td>21:14:40</td>\n",
       "      <td>Monday</td>\n",
       "    </tr>\n",
       "    <tr>\n",
       "      <td>61240</td>\n",
       "      <td>BC8EC5CF</td>\n",
       "      <td>Red Lips: Gta (Rover Rework)</td>\n",
       "      <td>Rover</td>\n",
       "      <td>electronic</td>\n",
       "      <td>Saint-Petersburg</td>\n",
       "      <td>21:06:50</td>\n",
       "      <td>Monday</td>\n",
       "    </tr>\n",
       "    <tr>\n",
       "      <td>61241</td>\n",
       "      <td>29E04611</td>\n",
       "      <td>Bre Petrunko</td>\n",
       "      <td>Perunika Trio</td>\n",
       "      <td>world</td>\n",
       "      <td>Saint-Petersburg</td>\n",
       "      <td>13:56:00</td>\n",
       "      <td>Monday</td>\n",
       "    </tr>\n",
       "    <tr>\n",
       "      <td>61242</td>\n",
       "      <td>1B91C621</td>\n",
       "      <td>(Hello) Cloud Mountain</td>\n",
       "      <td>sleepmakeswaves</td>\n",
       "      <td>postrock</td>\n",
       "      <td>Saint-Petersburg</td>\n",
       "      <td>09:22:13</td>\n",
       "      <td>Monday</td>\n",
       "    </tr>\n",
       "    <tr>\n",
       "      <td>61249</td>\n",
       "      <td>D08D4A55</td>\n",
       "      <td>Maybe One Day (feat. Black Spade)</td>\n",
       "      <td>Blu &amp; Exile</td>\n",
       "      <td>hiphop</td>\n",
       "      <td>Saint-Petersburg</td>\n",
       "      <td>10:00:00</td>\n",
       "      <td>Monday</td>\n",
       "    </tr>\n",
       "  </tbody>\n",
       "</table>\n",
       "<p>18512 rows × 7 columns</p>\n",
       "</div>"
      ],
      "text/plain": [
       "        user_id                         track_name              artist  \\\n",
       "0      FFB692EC                  Kamigata To Boots    The Mass Missile   \n",
       "2        20EC38                  Funiculì funiculà         Mario Lanza   \n",
       "3      A3DD03C9              Dragons in the Sunset          Fire + Ice   \n",
       "5      842029A1                          Преданная           IMPERVTOR   \n",
       "9      E772D5C0                          Pessimist             unknown   \n",
       "...         ...                                ...                 ...   \n",
       "61239  D94F810B        Theme from the Walking Dead  Proyecto Halloween   \n",
       "61240  BC8EC5CF       Red Lips: Gta (Rover Rework)               Rover   \n",
       "61241  29E04611                       Bre Petrunko       Perunika Trio   \n",
       "61242  1B91C621             (Hello) Cloud Mountain     sleepmakeswaves   \n",
       "61249  D08D4A55  Maybe One Day (feat. Black Spade)         Blu & Exile   \n",
       "\n",
       "            genre              city      time        day  \n",
       "0            rock  Saint-Petersburg  20:28:33  Wednesday  \n",
       "2             pop  Saint-Petersburg  20:58:07  Wednesday  \n",
       "3            folk  Saint-Petersburg  08:37:09     Monday  \n",
       "5          rusrap  Saint-Petersburg  13:09:41     Friday  \n",
       "9           dance  Saint-Petersburg  21:20:49  Wednesday  \n",
       "...           ...               ...       ...        ...  \n",
       "61239        film  Saint-Petersburg  21:14:40     Monday  \n",
       "61240  electronic  Saint-Petersburg  21:06:50     Monday  \n",
       "61241       world  Saint-Petersburg  13:56:00     Monday  \n",
       "61242    postrock  Saint-Petersburg  09:22:13     Monday  \n",
       "61249      hiphop  Saint-Petersburg  10:00:00     Monday  \n",
       "\n",
       "[18512 rows x 7 columns]"
      ]
     },
     "metadata": {},
     "output_type": "display_data"
    }
   ],
   "source": [
    "# получение таблицы spb_general из тех строк таблицы df,\n",
    "# для которых значение в столбце 'city' равно 'Saint-Petersburg'\n",
    "spb_general = df[df['city'] == 'Saint-Petersburg']\n",
    "display(spb_general)"
   ]
  },
  {
   "cell_type": "markdown",
   "metadata": {
    "id": "MEJV-CX2_Zcu"
   },
   "source": [
    "Создайте функцию `genre_weekday()` с четырьмя параметрами:\n",
    "* таблица (датафрейм) с данными,\n",
    "* день недели,\n",
    "* начальная временная метка в формате 'hh:mm', \n",
    "* последняя временная метка в формате 'hh:mm'.\n",
    "\n",
    "Функция должна вернуть информацию о топ-10 жанров тех треков, которые прослушивали в указанный день, в промежутке между двумя отметками времени."
   ]
  },
  {
   "cell_type": "code",
   "execution_count": 30,
   "metadata": {
    "id": "laJT9BYl_Zcu"
   },
   "outputs": [],
   "source": [
    "# Объявление функции genre_weekday() с параметрами table, day, time1, time2,\n",
    "def genre_weekday(df, day, time1, time2):\n",
    "    genre_df=df[(df['day']==day) & (df['time']>time1)& (df['time']<=time2)]\n",
    "    genre_df_sorted = genre_df.groupby('genre')['genre'].count().sort_values(ascending = False).head(10)\n",
    "    return genre_df_sorted\n",
    "\n"
   ]
  },
  {
   "cell_type": "markdown",
   "metadata": {},
   "source": [
    "<div class=\"alert alert-success\">\n",
    "<b>Комментарий ревьюера: </b> \n",
    "<br>Замечательно! Здесь тоже все верно.\n",
    "</div>\n",
    "\n",
    "<div class=\"alert alert-warning\">\n",
    "<b>Совет:</b> \n",
    "<br>Как можно это сделать другим способом:\n",
    "Через метод query(): \n",
    "\n",
    "    genre_df = genre_df.query('@time1 < time < @time2')\n",
    "</div>"
   ]
  },
  {
   "cell_type": "markdown",
   "metadata": {
    "id": "la2s2_PF_Zcu"
   },
   "source": [
    "Cравните результаты функции `genre_weekday()` для Москвы и Санкт-Петербурга в понедельник утром (с 7:00 до 11:00) и в пятницу вечером (с 17:00 до 23:00):"
   ]
  },
  {
   "cell_type": "code",
   "execution_count": 31,
   "metadata": {
    "id": "yz7itPUQ_Zcu"
   },
   "outputs": [
    {
     "data": {
      "text/plain": [
       "genre\n",
       "pop            781\n",
       "dance          549\n",
       "electronic     480\n",
       "rock           474\n",
       "hiphop         286\n",
       "ruspop         186\n",
       "world          181\n",
       "rusrap         175\n",
       "alternative    164\n",
       "unknown        161\n",
       "Name: genre, dtype: int64"
      ]
     },
     "execution_count": 31,
     "metadata": {},
     "output_type": "execute_result"
    }
   ],
   "source": [
    "genre_weekday(moscow_general, 'Monday', '07:00', '11:00')"
   ]
  },
  {
   "cell_type": "code",
   "execution_count": 32,
   "metadata": {
    "id": "kwUcHPdy_Zcu"
   },
   "outputs": [
    {
     "data": {
      "text/plain": [
       "genre\n",
       "pop            218\n",
       "dance          182\n",
       "rock           162\n",
       "electronic     147\n",
       "hiphop          80\n",
       "ruspop          64\n",
       "alternative     58\n",
       "rusrap          55\n",
       "jazz            44\n",
       "classical       40\n",
       "Name: genre, dtype: int64"
      ]
     },
     "execution_count": 32,
     "metadata": {},
     "output_type": "execute_result"
    }
   ],
   "source": [
    "genre_weekday(spb_general, 'Monday', '07:00', '11:00')"
   ]
  },
  {
   "cell_type": "code",
   "execution_count": 33,
   "metadata": {
    "id": "EzXVRE1o_Zcu"
   },
   "outputs": [
    {
     "data": {
      "text/plain": [
       "genre\n",
       "pop            713\n",
       "rock           517\n",
       "dance          495\n",
       "electronic     482\n",
       "hiphop         273\n",
       "world          208\n",
       "ruspop         170\n",
       "alternative    163\n",
       "classical      163\n",
       "rusrap         142\n",
       "Name: genre, dtype: int64"
      ]
     },
     "execution_count": 33,
     "metadata": {},
     "output_type": "execute_result"
    }
   ],
   "source": [
    "genre_weekday(moscow_general, 'Friday', '17:00', '23:00')"
   ]
  },
  {
   "cell_type": "code",
   "execution_count": 34,
   "metadata": {
    "id": "JZaEKu5v_Zcu"
   },
   "outputs": [
    {
     "data": {
      "text/plain": [
       "genre\n",
       "pop            256\n",
       "rock           216\n",
       "electronic     216\n",
       "dance          210\n",
       "hiphop          97\n",
       "alternative     63\n",
       "jazz            61\n",
       "classical       60\n",
       "rusrap          59\n",
       "world           54\n",
       "Name: genre, dtype: int64"
      ]
     },
     "execution_count": 34,
     "metadata": {},
     "output_type": "execute_result"
    }
   ],
   "source": [
    "genre_weekday(spb_general, 'Friday', '17:00', '23:00')"
   ]
  },
  {
   "cell_type": "markdown",
   "metadata": {
    "id": "wrCe4MNX_Zcu"
   },
   "source": [
    "**Выводы**\n",
    "\n",
    "Если сравнить топ-10 жанров в понедельник утром, можно сделать такие выводы:\n",
    "\n",
    "1. В Москве и Петербурге слушают похожую музыку. Единственное отличие — в московский рейтинг вошёл жанр “world”, а в петербургский — джаз и классика.\n",
    "\n",
    "2. В Москве пропущенных значений оказалось так много, что значение `'unknown'` заняло десятое место среди самых популярных жанров. Значит, пропущенные значения занимают существенную долю в данных и угрожают достоверности исследования.\n",
    "\n",
    "Вечер пятницы не меняет эту картину. Некоторые жанры поднимаются немного выше, другие спускаются, но в целом топ-10 остаётся тем же самым.\n",
    "\n",
    "Таким образом, вторая гипотеза подтвердилась лишь частично:\n",
    "* Пользователи слушают похожую музыку в начале недели и в конце.\n",
    "* Разница между Москвой и Петербургом не слишком выражена. В Москве чаще слушают русскую популярную музыку, в Петербурге — джаз.\n",
    "\n",
    "Однако пропуски в данных ставят под сомнение этот результат. В Москве их так много, что рейтинг топ-10 мог бы выглядеть иначе, если бы не утерянные  данные о жанрах."
   ]
  },
  {
   "cell_type": "markdown",
   "metadata": {
    "id": "JolODAqr_Zcu"
   },
   "source": [
    "### Жанровые предпочтения в Москве и Петербурге\n",
    "\n",
    "Гипотеза: Петербург — столица рэпа, музыку этого жанра там слушают чаще, чем в Москве.  А Москва — город контрастов, в котором, тем не менее, преобладает поп-музыка."
   ]
  },
  {
   "cell_type": "markdown",
   "metadata": {
    "id": "DlegSvaT_Zcu"
   },
   "source": [
    "Сгруппируйте таблицу `moscow_general` по жанру и посчитайте прослушивания треков каждого жанра методом `count()`. Затем отсортируйте результат в порядке убывания и сохраните его в таблице `moscow_genres`."
   ]
  },
  {
   "cell_type": "code",
   "execution_count": 35,
   "metadata": {
    "id": "r19lIPke_Zcu"
   },
   "outputs": [],
   "source": [
    "moscow_genres=moscow_general.groupby('genre')['genre'].count().sort_values(ascending = False)"
   ]
  },
  {
   "cell_type": "markdown",
   "metadata": {
    "id": "6kMuomxTiIr8"
   },
   "source": [
    "Выведите на экран первые десять строк `moscow_genres`:"
   ]
  },
  {
   "cell_type": "code",
   "execution_count": 36,
   "metadata": {
    "id": "WhCSooF8_Zcv"
   },
   "outputs": [
    {
     "data": {
      "text/plain": [
       "genre\n",
       "pop            5892\n",
       "dance          4435\n",
       "rock           3965\n",
       "electronic     3786\n",
       "hiphop         2096\n",
       "classical      1616\n",
       "world          1432\n",
       "alternative    1379\n",
       "ruspop         1372\n",
       "rusrap         1161\n",
       "Name: genre, dtype: int64"
      ]
     },
     "execution_count": 36,
     "metadata": {},
     "output_type": "execute_result"
    }
   ],
   "source": [
    "moscow_genres.head(10)"
   ]
  },
  {
   "cell_type": "markdown",
   "metadata": {
    "id": "cnPG2vnN_Zcv"
   },
   "source": [
    "Теперь повторите то же и для Петербурга.\n",
    "\n",
    "Сгруппируйте таблицу `spb_general` по жанру. Посчитайте прослушивания треков каждого жанра. Результат отсортируйте в порядке убывания и сохраните в таблице `spb_genres`:\n"
   ]
  },
  {
   "cell_type": "code",
   "execution_count": 37,
   "metadata": {
    "id": "gluLIpE7_Zcv"
   },
   "outputs": [],
   "source": [
    "spb_genres=spb_general.groupby('genre')['genre'].count().sort_values(ascending = False)"
   ]
  },
  {
   "cell_type": "markdown",
   "metadata": {
    "id": "5Doha_ODgyQ8"
   },
   "source": [
    "Выведите на экран первые десять строк `spb_genres`:"
   ]
  },
  {
   "cell_type": "code",
   "execution_count": 38,
   "metadata": {
    "id": "uaGJHjVU_Zcv"
   },
   "outputs": [
    {
     "data": {
      "text/plain": [
       "genre\n",
       "pop            2431\n",
       "dance          1932\n",
       "rock           1879\n",
       "electronic     1737\n",
       "hiphop          960\n",
       "alternative     649\n",
       "classical       646\n",
       "rusrap          564\n",
       "ruspop          538\n",
       "world           515\n",
       "Name: genre, dtype: int64"
      ]
     },
     "execution_count": 38,
     "metadata": {},
     "output_type": "execute_result"
    }
   ],
   "source": [
    "spb_genres.head(10)"
   ]
  },
  {
   "cell_type": "markdown",
   "metadata": {},
   "source": [
    "<div class=\"alert alert-success\">\n",
    "<b>Комментарий ревьюера: </b> \n",
    "<br>Отлично, с жанровыми предпочтениями тоже разобрались.\n",
    "</div>"
   ]
  },
  {
   "cell_type": "markdown",
   "metadata": {
    "id": "RY51YJYu_Zcv"
   },
   "source": [
    "**Выводы**"
   ]
  },
  {
   "cell_type": "markdown",
   "metadata": {
    "id": "nVhnJEm__Zcv"
   },
   "source": [
    "Гипотеза частично подтвердилась:\n",
    "* Поп-музыка — самый популярный жанр в Москве, как и предполагала гипотеза. Более того, в топ-10 жанров встречается близкий жанр — русская популярная музыка.\n",
    "* Вопреки ожиданиям, рэп одинаково популярен в Москве и Петербурге. \n"
   ]
  },
  {
   "cell_type": "markdown",
   "metadata": {
    "id": "ykKQ0N65_Zcv"
   },
   "source": [
    "## Итоги исследования"
   ]
  },
  {
   "cell_type": "markdown",
   "metadata": {
    "id": "tjUwbHb3_Zcv"
   },
   "source": [
    "Вы проверили три гипотезы и установили:\n",
    "\n",
    "1. День недели по-разному влияет на активность пользователей в Москве и Петербурге. \n",
    "\n",
    "Первая гипотеза полностью подтвердилась.\n",
    "\n",
    "2. Музыкальные предпочтения не сильно меняются в течение недели — будь то Москва или Петербург. Небольшие различия заметны в начале недели, по понедельникам:\n",
    "* в Москве слушают музыку жанра “world”,\n",
    "* в Петербурге — джаз и классику.\n",
    "\n",
    "Таким образом, вторая гипотеза подтвердилась лишь отчасти. Этот результат мог оказаться иным, если бы не пропуски в данных.\n",
    "\n",
    "3. Во вкусах пользователей Москвы и Петербурга больше общего чем различий. Вопреки ожиданиям, предпочтения жанров в Петербурге напоминают московские.\n",
    "\n",
    "Третья гипотеза не подтвердилась. Если различия в предпочтениях и существуют, на основной массе пользователей они незаметны.\n",
    "\n",
    "**На практике исследования содержат проверки статистических гипотез.**\n",
    "Из данных одного сервиса не всегда можно сделать вывод о всех жителях города.\n",
    "Проверки статистических гипотез покажут, насколько они достоверны, исходя из имеющихся данных. \n",
    "С методами проверок гипотез вы ещё познакомитесь в следующих темах."
   ]
  },
  {
   "cell_type": "markdown",
   "metadata": {},
   "source": [
    "<div class=\"alert alert-danger\">\n",
    "<b>Итоговый комментарий ревьюера:</b> \n",
    "<br>Ты хорошо потрудился, большая часть работы сделана, но остаётся внести следующие правки:\n",
    "<br>- Ответить на вопрос в шаге 1\n",
    "<br>- Корректно использовать функцию info\n",
    "</div>"
   ]
  },
  {
   "cell_type": "markdown",
   "metadata": {},
   "source": [
    "<div class=\"alert alert-danger\">\n",
    "<b>Итоговый комментарий ревьюера v2:</b> \n",
    "<br>Осталось совсем чуть-чуть:\n",
    "<br>- Ответить на вопрос в шаге 1\n",
    "</div>"
   ]
  }
 ],
 "metadata": {
  "ExecuteTimeLog": [
   {
    "duration": 681,
    "start_time": "2021-11-11T16:35:14.014Z"
   },
   {
    "duration": 145,
    "start_time": "2021-11-11T16:35:18.155Z"
   },
   {
    "duration": 17,
    "start_time": "2021-11-11T16:35:37.371Z"
   },
   {
    "duration": 7,
    "start_time": "2021-11-11T16:35:52.402Z"
   },
   {
    "duration": 10,
    "start_time": "2021-11-11T16:35:57.178Z"
   },
   {
    "duration": 9,
    "start_time": "2021-11-11T16:36:59.105Z"
   },
   {
    "duration": 604,
    "start_time": "2021-11-11T16:37:32.767Z"
   },
   {
    "duration": 4,
    "start_time": "2021-11-11T16:37:40.191Z"
   },
   {
    "duration": 9,
    "start_time": "2021-11-11T16:37:47.158Z"
   },
   {
    "duration": 4,
    "start_time": "2021-11-11T16:38:44.886Z"
   },
   {
    "duration": 103,
    "start_time": "2021-11-11T16:40:54.104Z"
   },
   {
    "duration": 92,
    "start_time": "2021-11-11T16:42:13.626Z"
   },
   {
    "duration": 20,
    "start_time": "2021-11-11T16:43:11.180Z"
   },
   {
    "duration": 4,
    "start_time": "2021-11-11T16:43:18.988Z"
   },
   {
    "duration": 265,
    "start_time": "2021-11-11T16:44:12.642Z"
   },
   {
    "duration": 8,
    "start_time": "2021-11-11T16:44:16.786Z"
   },
   {
    "duration": 263,
    "start_time": "2021-11-11T16:45:14.009Z"
   },
   {
    "duration": 272,
    "start_time": "2021-11-11T16:45:23.000Z"
   },
   {
    "duration": 25,
    "start_time": "2021-11-11T16:47:55.288Z"
   },
   {
    "duration": 2,
    "start_time": "2021-11-11T16:48:51.317Z"
   },
   {
    "duration": 285,
    "start_time": "2021-11-11T16:57:13.348Z"
   },
   {
    "duration": 6442,
    "start_time": "2021-11-11T16:57:35.527Z"
   },
   {
    "duration": 23,
    "start_time": "2021-11-11T16:57:47.310Z"
   },
   {
    "duration": 16,
    "start_time": "2021-11-11T16:58:10.662Z"
   },
   {
    "duration": 22,
    "start_time": "2021-11-11T16:58:23.406Z"
   },
   {
    "duration": 260,
    "start_time": "2021-11-11T16:58:37.885Z"
   },
   {
    "duration": 56,
    "start_time": "2021-11-11T17:00:29.537Z"
   },
   {
    "duration": 71,
    "start_time": "2021-11-11T17:01:18.248Z"
   },
   {
    "duration": 53,
    "start_time": "2021-11-11T17:01:24.792Z"
   },
   {
    "duration": 369,
    "start_time": "2021-11-11T17:01:55.585Z"
   },
   {
    "duration": 272,
    "start_time": "2021-11-11T17:02:07.481Z"
   },
   {
    "duration": 9,
    "start_time": "2021-11-11T17:02:15.064Z"
   },
   {
    "duration": 5,
    "start_time": "2021-11-11T17:04:07.614Z"
   },
   {
    "duration": 296,
    "start_time": "2021-11-11T17:08:12.671Z"
   },
   {
    "duration": 276,
    "start_time": "2021-11-11T17:08:34.507Z"
   },
   {
    "duration": 382,
    "start_time": "2021-11-12T13:01:08.741Z"
   },
   {
    "duration": 307,
    "start_time": "2021-11-12T13:01:47.134Z"
   },
   {
    "duration": 807,
    "start_time": "2021-11-12T13:02:02.199Z"
   },
   {
    "duration": 198,
    "start_time": "2021-11-12T13:02:06.037Z"
   },
   {
    "duration": 4,
    "start_time": "2021-11-12T13:02:29.806Z"
   },
   {
    "duration": 202,
    "start_time": "2021-11-12T13:02:31.764Z"
   },
   {
    "duration": 98,
    "start_time": "2021-11-12T13:02:45.508Z"
   },
   {
    "duration": 105,
    "start_time": "2021-11-12T13:02:48.204Z"
   },
   {
    "duration": 86,
    "start_time": "2021-11-12T13:02:50.485Z"
   },
   {
    "duration": 4,
    "start_time": "2021-11-12T13:02:55.665Z"
   },
   {
    "duration": 213,
    "start_time": "2021-11-12T13:02:57.697Z"
   },
   {
    "duration": 19,
    "start_time": "2021-11-12T13:02:59.238Z"
   },
   {
    "duration": 13,
    "start_time": "2021-11-12T13:03:02.463Z"
   },
   {
    "duration": 10,
    "start_time": "2021-11-12T13:03:06.996Z"
   },
   {
    "duration": 15,
    "start_time": "2021-11-12T13:03:08.710Z"
   },
   {
    "duration": 6,
    "start_time": "2021-11-12T13:03:12.296Z"
   },
   {
    "duration": 30,
    "start_time": "2021-11-12T13:03:15.321Z"
   },
   {
    "duration": 22,
    "start_time": "2021-11-12T13:03:18.325Z"
   },
   {
    "duration": 34,
    "start_time": "2021-11-12T13:03:20.058Z"
   },
   {
    "duration": 87,
    "start_time": "2021-11-12T13:03:22.146Z"
   },
   {
    "duration": 102,
    "start_time": "2021-11-12T13:03:25.355Z"
   },
   {
    "duration": 73,
    "start_time": "2021-11-12T13:03:26.405Z"
   },
   {
    "duration": 9,
    "start_time": "2021-11-12T13:03:30.231Z"
   },
   {
    "duration": 358,
    "start_time": "2021-11-12T13:03:34.371Z"
   },
   {
    "duration": 344,
    "start_time": "2021-11-12T13:04:14.746Z"
   },
   {
    "duration": 306,
    "start_time": "2021-11-12T13:10:35.084Z"
   },
   {
    "duration": 103,
    "start_time": "2021-11-12T14:54:22.398Z"
   },
   {
    "duration": 4,
    "start_time": "2021-11-12T14:54:38.727Z"
   },
   {
    "duration": 5,
    "start_time": "2021-11-12T14:54:41.054Z"
   },
   {
    "duration": 5,
    "start_time": "2021-11-12T15:01:34.875Z"
   },
   {
    "duration": 389,
    "start_time": "2021-11-12T15:03:26.462Z"
   },
   {
    "duration": 303,
    "start_time": "2021-11-12T15:03:42.486Z"
   },
   {
    "duration": 12,
    "start_time": "2021-11-12T15:04:11.854Z"
   },
   {
    "duration": 9,
    "start_time": "2021-11-12T15:04:31.513Z"
   },
   {
    "duration": 4,
    "start_time": "2021-11-12T15:05:31.171Z"
   },
   {
    "duration": 23,
    "start_time": "2021-11-12T15:05:33.826Z"
   },
   {
    "duration": 9,
    "start_time": "2021-11-12T15:05:35.673Z"
   },
   {
    "duration": 4,
    "start_time": "2021-11-12T15:05:47.795Z"
   },
   {
    "duration": 17,
    "start_time": "2021-11-12T15:05:49.889Z"
   },
   {
    "duration": 4,
    "start_time": "2021-11-12T15:06:19.553Z"
   },
   {
    "duration": 15,
    "start_time": "2021-11-12T15:06:21.801Z"
   },
   {
    "duration": 8,
    "start_time": "2021-11-12T15:06:28.946Z"
   },
   {
    "duration": 5,
    "start_time": "2021-11-12T15:06:42.512Z"
   },
   {
    "duration": 17,
    "start_time": "2021-11-12T15:06:44.088Z"
   },
   {
    "duration": 8,
    "start_time": "2021-11-12T15:06:47.376Z"
   },
   {
    "duration": 5,
    "start_time": "2021-11-12T15:17:02.749Z"
   },
   {
    "duration": 14,
    "start_time": "2021-11-12T15:17:07.294Z"
   },
   {
    "duration": 9,
    "start_time": "2021-11-12T15:17:11.349Z"
   },
   {
    "duration": 18,
    "start_time": "2021-11-12T15:19:25.242Z"
   },
   {
    "duration": 327,
    "start_time": "2021-11-12T15:20:00.575Z"
   },
   {
    "duration": 19,
    "start_time": "2021-11-12T15:27:12.448Z"
   },
   {
    "duration": 152,
    "start_time": "2021-11-12T15:27:27.364Z"
   },
   {
    "duration": 24,
    "start_time": "2021-11-12T15:27:38.211Z"
   },
   {
    "duration": 18,
    "start_time": "2021-11-12T15:27:44.117Z"
   },
   {
    "duration": 114,
    "start_time": "2021-11-12T15:35:22.530Z"
   },
   {
    "duration": 26,
    "start_time": "2021-11-12T15:36:14.384Z"
   },
   {
    "duration": 39,
    "start_time": "2021-11-12T15:36:23.435Z"
   },
   {
    "duration": 403,
    "start_time": "2021-11-12T15:49:33.958Z"
   },
   {
    "duration": 323,
    "start_time": "2021-11-12T15:55:15.943Z"
   },
   {
    "duration": 429,
    "start_time": "2021-11-12T15:56:05.145Z"
   },
   {
    "duration": 328,
    "start_time": "2021-11-12T16:00:44.017Z"
   },
   {
    "duration": 482,
    "start_time": "2021-11-12T16:02:54.181Z"
   },
   {
    "duration": 395,
    "start_time": "2021-11-12T16:03:00.701Z"
   },
   {
    "duration": 49,
    "start_time": "2021-11-12T16:03:27.019Z"
   },
   {
    "duration": 361,
    "start_time": "2021-11-12T16:04:16.202Z"
   },
   {
    "duration": 39,
    "start_time": "2021-11-12T16:04:51.164Z"
   },
   {
    "duration": 372,
    "start_time": "2021-11-12T16:05:12.607Z"
   },
   {
    "duration": 100,
    "start_time": "2021-11-12T16:05:31.383Z"
   },
   {
    "duration": 306,
    "start_time": "2021-11-12T16:05:36.096Z"
   },
   {
    "duration": 2985,
    "start_time": "2021-11-12T16:05:52.647Z"
   },
   {
    "duration": 2407,
    "start_time": "2021-11-12T16:06:20.270Z"
   },
   {
    "duration": 2114,
    "start_time": "2021-11-12T16:06:36.101Z"
   },
   {
    "duration": 330,
    "start_time": "2021-11-12T16:08:09.855Z"
   },
   {
    "duration": 40,
    "start_time": "2021-11-12T16:13:24.750Z"
   },
   {
    "duration": 2139,
    "start_time": "2021-11-12T16:13:43.470Z"
   },
   {
    "duration": 39,
    "start_time": "2021-11-12T16:15:31.078Z"
   },
   {
    "duration": 32,
    "start_time": "2021-11-12T16:15:39.500Z"
   },
   {
    "duration": 35,
    "start_time": "2021-11-12T16:15:47.784Z"
   },
   {
    "duration": 341,
    "start_time": "2021-11-12T16:18:43.375Z"
   },
   {
    "duration": 346,
    "start_time": "2021-11-12T16:18:57.635Z"
   },
   {
    "duration": 345,
    "start_time": "2021-11-12T16:19:09.211Z"
   },
   {
    "duration": 339,
    "start_time": "2021-11-12T16:25:03.352Z"
   },
   {
    "duration": 310,
    "start_time": "2021-11-12T16:25:37.210Z"
   },
   {
    "duration": 324,
    "start_time": "2021-11-12T16:26:12.624Z"
   },
   {
    "duration": 304,
    "start_time": "2021-11-12T16:26:23.326Z"
   },
   {
    "duration": 319,
    "start_time": "2021-11-12T16:31:44.145Z"
   },
   {
    "duration": 596,
    "start_time": "2021-11-12T16:32:15.139Z"
   },
   {
    "duration": 362,
    "start_time": "2021-11-12T16:32:22.059Z"
   },
   {
    "duration": 359,
    "start_time": "2021-11-12T16:32:29.834Z"
   },
   {
    "duration": 77,
    "start_time": "2021-11-12T16:32:35.067Z"
   },
   {
    "duration": 51,
    "start_time": "2021-11-12T16:34:15.289Z"
   },
   {
    "duration": 48,
    "start_time": "2021-11-12T16:34:36.903Z"
   },
   {
    "duration": 55,
    "start_time": "2021-11-12T16:34:45.440Z"
   },
   {
    "duration": 51,
    "start_time": "2021-11-12T16:35:07.719Z"
   },
   {
    "duration": 52,
    "start_time": "2021-11-12T16:35:20.093Z"
   },
   {
    "duration": 283,
    "start_time": "2021-11-12T16:36:44.691Z"
   },
   {
    "duration": 288,
    "start_time": "2021-11-12T16:36:49.468Z"
   },
   {
    "duration": 44,
    "start_time": "2021-11-12T16:37:26.058Z"
   },
   {
    "duration": 53,
    "start_time": "2021-11-12T16:37:37.593Z"
   },
   {
    "duration": 45,
    "start_time": "2021-11-12T16:38:27.896Z"
   },
   {
    "duration": 44,
    "start_time": "2021-11-12T16:38:36.551Z"
   },
   {
    "duration": 45,
    "start_time": "2021-11-12T16:38:46.351Z"
   },
   {
    "duration": 6559,
    "start_time": "2021-11-12T16:39:11.103Z"
   },
   {
    "duration": 46,
    "start_time": "2021-11-12T16:39:21.322Z"
   },
   {
    "duration": 1981,
    "start_time": "2021-11-12T16:39:27.806Z"
   },
   {
    "duration": 49,
    "start_time": "2021-11-12T16:39:40.421Z"
   },
   {
    "duration": 337,
    "start_time": "2021-11-12T16:40:02.653Z"
   },
   {
    "duration": 25,
    "start_time": "2021-11-12T16:40:08.172Z"
   },
   {
    "duration": 17,
    "start_time": "2021-11-12T16:40:22.813Z"
   },
   {
    "duration": 29,
    "start_time": "2021-11-12T16:40:59.667Z"
   },
   {
    "duration": 31,
    "start_time": "2021-11-12T16:41:09.731Z"
   },
   {
    "duration": 51,
    "start_time": "2021-11-12T16:42:34.275Z"
   },
   {
    "duration": 34,
    "start_time": "2021-11-12T16:43:00.857Z"
   },
   {
    "duration": 34,
    "start_time": "2021-11-12T16:43:30.857Z"
   },
   {
    "duration": 17,
    "start_time": "2021-11-12T16:43:37.576Z"
   },
   {
    "duration": 16,
    "start_time": "2021-11-12T16:43:50.326Z"
   },
   {
    "duration": 16,
    "start_time": "2021-11-12T16:44:12.607Z"
   },
   {
    "duration": 107,
    "start_time": "2021-11-12T16:45:26.843Z"
   },
   {
    "duration": 113,
    "start_time": "2021-11-12T16:45:32.436Z"
   },
   {
    "duration": 102,
    "start_time": "2021-11-12T16:45:36.491Z"
   },
   {
    "duration": 106,
    "start_time": "2021-11-12T16:46:26.419Z"
   },
   {
    "duration": 16,
    "start_time": "2021-11-12T16:46:36.202Z"
   },
   {
    "duration": 40,
    "start_time": "2021-11-12T16:50:47.097Z"
   },
   {
    "duration": 62,
    "start_time": "2021-11-12T16:51:17.436Z"
   },
   {
    "duration": 50,
    "start_time": "2021-11-12T16:51:23.195Z"
   },
   {
    "duration": 37,
    "start_time": "2021-11-12T16:52:10.793Z"
   },
   {
    "duration": 39,
    "start_time": "2021-11-12T16:52:26.160Z"
   },
   {
    "duration": 53,
    "start_time": "2021-11-12T16:53:09.646Z"
   },
   {
    "duration": 27,
    "start_time": "2021-11-12T16:54:01.222Z"
   },
   {
    "duration": 29,
    "start_time": "2021-11-12T16:54:14.915Z"
   },
   {
    "duration": 101,
    "start_time": "2021-11-12T17:32:15.759Z"
   },
   {
    "duration": 100,
    "start_time": "2021-11-12T17:32:57.975Z"
   },
   {
    "duration": 98,
    "start_time": "2021-11-12T17:33:53.166Z"
   },
   {
    "duration": 103,
    "start_time": "2021-11-12T17:34:10.797Z"
   },
   {
    "duration": 102,
    "start_time": "2021-11-12T17:35:24.660Z"
   },
   {
    "duration": 97,
    "start_time": "2021-11-12T17:36:18.713Z"
   },
   {
    "duration": 115,
    "start_time": "2021-11-12T17:36:32.071Z"
   },
   {
    "duration": 99,
    "start_time": "2021-11-12T17:36:38.935Z"
   },
   {
    "duration": 4,
    "start_time": "2021-11-12T17:38:47.028Z"
   },
   {
    "duration": 5,
    "start_time": "2021-11-12T17:38:49.340Z"
   },
   {
    "duration": 5,
    "start_time": "2021-11-12T17:39:26.194Z"
   },
   {
    "duration": 238,
    "start_time": "2021-11-12T17:40:07.972Z"
   },
   {
    "duration": 8626,
    "start_time": "2021-11-12T17:40:17.607Z"
   },
   {
    "duration": 4,
    "start_time": "2021-11-12T17:40:30.696Z"
   },
   {
    "duration": 324,
    "start_time": "2021-11-12T17:40:32.592Z"
   },
   {
    "duration": 4,
    "start_time": "2021-11-12T17:40:39.121Z"
   },
   {
    "duration": 278,
    "start_time": "2021-11-12T17:40:55.547Z"
   },
   {
    "duration": 272,
    "start_time": "2021-11-12T17:40:55.554Z"
   },
   {
    "duration": 457,
    "start_time": "2021-11-12T17:41:06.392Z"
   },
   {
    "duration": 4,
    "start_time": "2021-11-12T17:41:17.422Z"
   },
   {
    "duration": 278,
    "start_time": "2021-11-12T17:41:28.692Z"
   },
   {
    "duration": 221,
    "start_time": "2021-11-12T17:42:24.087Z"
   },
   {
    "duration": 200,
    "start_time": "2021-11-12T17:42:24.109Z"
   },
   {
    "duration": 323,
    "start_time": "2021-11-12T17:42:25.445Z"
   },
   {
    "duration": 4,
    "start_time": "2021-11-12T17:42:27.788Z"
   },
   {
    "duration": 19,
    "start_time": "2021-11-12T17:42:29.652Z"
   },
   {
    "duration": 4,
    "start_time": "2021-11-12T17:43:12.748Z"
   },
   {
    "duration": 666,
    "start_time": "2021-11-12T17:43:14.732Z"
   },
   {
    "duration": 5,
    "start_time": "2021-11-12T17:43:22.475Z"
   },
   {
    "duration": 4,
    "start_time": "2021-11-12T17:43:37.171Z"
   },
   {
    "duration": 611,
    "start_time": "2021-11-12T17:43:39.523Z"
   },
   {
    "duration": 4,
    "start_time": "2021-11-12T17:43:56.011Z"
   },
   {
    "duration": 18,
    "start_time": "2021-11-12T17:43:57.954Z"
   },
   {
    "duration": 18,
    "start_time": "2021-11-12T17:44:19.338Z"
   },
   {
    "duration": 21,
    "start_time": "2021-11-12T17:44:37.745Z"
   },
   {
    "duration": 25,
    "start_time": "2021-11-12T17:45:00.530Z"
   },
   {
    "duration": 27,
    "start_time": "2021-11-12T17:45:01.824Z"
   },
   {
    "duration": 20,
    "start_time": "2021-11-12T17:45:47.951Z"
   },
   {
    "duration": 19,
    "start_time": "2021-11-12T17:45:50.575Z"
   },
   {
    "duration": 21,
    "start_time": "2021-11-12T17:45:52.111Z"
   },
   {
    "duration": 20,
    "start_time": "2021-11-12T17:45:53.726Z"
   },
   {
    "duration": 13,
    "start_time": "2021-11-12T17:48:02.298Z"
   },
   {
    "duration": 30,
    "start_time": "2021-11-12T17:49:57.999Z"
   },
   {
    "duration": 19,
    "start_time": "2021-11-12T17:50:06.090Z"
   },
   {
    "duration": 28,
    "start_time": "2021-11-12T17:51:33.013Z"
   },
   {
    "duration": 294,
    "start_time": "2021-11-12T17:55:36.157Z"
   },
   {
    "duration": 5,
    "start_time": "2021-11-12T17:55:51.526Z"
   },
   {
    "duration": 654,
    "start_time": "2021-11-12T17:55:53.188Z"
   },
   {
    "duration": 5,
    "start_time": "2021-11-12T17:56:23.196Z"
   },
   {
    "duration": 31,
    "start_time": "2021-11-12T17:56:25.261Z"
   },
   {
    "duration": 30,
    "start_time": "2021-11-12T17:56:29.787Z"
   },
   {
    "duration": 29,
    "start_time": "2021-11-12T17:56:39.812Z"
   },
   {
    "duration": 26,
    "start_time": "2021-11-12T17:56:42.476Z"
   },
   {
    "duration": 28,
    "start_time": "2021-11-12T17:56:45.818Z"
   },
   {
    "duration": 31,
    "start_time": "2021-11-12T17:57:02.707Z"
   },
   {
    "duration": 30,
    "start_time": "2021-11-12T17:57:04.612Z"
   },
   {
    "duration": 32,
    "start_time": "2021-11-12T17:58:37.712Z"
   },
   {
    "duration": 29,
    "start_time": "2021-11-12T17:58:43.019Z"
   },
   {
    "duration": 16,
    "start_time": "2021-11-12T17:59:07.737Z"
   },
   {
    "duration": 19,
    "start_time": "2021-11-12T17:59:19.247Z"
   },
   {
    "duration": 28,
    "start_time": "2021-11-12T17:59:41.079Z"
   },
   {
    "duration": 34,
    "start_time": "2021-11-12T17:59:42.758Z"
   },
   {
    "duration": 5,
    "start_time": "2021-11-12T18:01:55.087Z"
   },
   {
    "duration": 5,
    "start_time": "2021-11-12T18:02:36.521Z"
   },
   {
    "duration": 26,
    "start_time": "2021-11-12T18:02:45.456Z"
   },
   {
    "duration": 18,
    "start_time": "2021-11-12T18:02:48.672Z"
   },
   {
    "duration": 36,
    "start_time": "2021-11-12T18:03:11.120Z"
   },
   {
    "duration": 25,
    "start_time": "2021-11-12T18:03:12.943Z"
   },
   {
    "duration": 5,
    "start_time": "2021-11-12T18:04:00.268Z"
   },
   {
    "duration": 32,
    "start_time": "2021-11-12T18:04:03.270Z"
   },
   {
    "duration": 20,
    "start_time": "2021-11-12T18:04:07.766Z"
   },
   {
    "duration": 24,
    "start_time": "2021-11-12T18:04:09.853Z"
   },
   {
    "duration": 17,
    "start_time": "2021-11-12T18:04:13.405Z"
   },
   {
    "duration": 309,
    "start_time": "2021-11-12T18:07:01.945Z"
   },
   {
    "duration": 13,
    "start_time": "2021-11-12T18:07:08.592Z"
   },
   {
    "duration": 6,
    "start_time": "2021-11-12T18:07:10.727Z"
   },
   {
    "duration": 382,
    "start_time": "2021-11-12T18:07:53.280Z"
   },
   {
    "duration": 10,
    "start_time": "2021-11-12T18:08:05.910Z"
   },
   {
    "duration": 7,
    "start_time": "2021-11-12T18:08:07.585Z"
   },
   {
    "duration": 771,
    "start_time": "2021-11-13T06:16:01.751Z"
   },
   {
    "duration": 191,
    "start_time": "2021-11-13T06:16:02.525Z"
   },
   {
    "duration": 26,
    "start_time": "2021-11-13T06:16:02.719Z"
   },
   {
    "duration": 13,
    "start_time": "2021-11-13T06:16:02.749Z"
   },
   {
    "duration": 9,
    "start_time": "2021-11-13T06:16:02.764Z"
   },
   {
    "duration": 69,
    "start_time": "2021-11-13T06:16:02.776Z"
   },
   {
    "duration": 7,
    "start_time": "2021-11-13T06:16:02.848Z"
   },
   {
    "duration": 35,
    "start_time": "2021-11-13T06:16:02.859Z"
   },
   {
    "duration": 51,
    "start_time": "2021-11-13T06:16:02.897Z"
   },
   {
    "duration": 32,
    "start_time": "2021-11-13T06:16:02.951Z"
   },
   {
    "duration": 121,
    "start_time": "2021-11-13T06:16:02.986Z"
   },
   {
    "duration": 139,
    "start_time": "2021-11-13T06:16:03.110Z"
   },
   {
    "duration": 85,
    "start_time": "2021-11-13T06:16:03.251Z"
   },
   {
    "duration": 11,
    "start_time": "2021-11-13T06:16:03.339Z"
   },
   {
    "duration": 4,
    "start_time": "2021-11-13T06:16:03.352Z"
   },
   {
    "duration": 15,
    "start_time": "2021-11-13T06:16:03.360Z"
   },
   {
    "duration": 53,
    "start_time": "2021-11-13T06:16:03.378Z"
   },
   {
    "duration": 29,
    "start_time": "2021-11-13T06:16:03.434Z"
   },
   {
    "duration": 17,
    "start_time": "2021-11-13T06:16:03.466Z"
   },
   {
    "duration": 5,
    "start_time": "2021-11-13T06:16:03.485Z"
   },
   {
    "duration": 56,
    "start_time": "2021-11-13T06:16:03.492Z"
   },
   {
    "duration": 19,
    "start_time": "2021-11-13T06:16:03.552Z"
   },
   {
    "duration": 18,
    "start_time": "2021-11-13T06:16:03.576Z"
   },
   {
    "duration": 19,
    "start_time": "2021-11-13T06:16:03.629Z"
   },
   {
    "duration": 22,
    "start_time": "2021-11-13T06:16:03.651Z"
   },
   {
    "duration": 19,
    "start_time": "2021-11-13T06:16:03.676Z"
   },
   {
    "duration": 13,
    "start_time": "2021-11-13T06:16:03.730Z"
   },
   {
    "duration": 35,
    "start_time": "2021-11-13T06:16:03.747Z"
   },
   {
    "duration": 60,
    "start_time": "2021-11-13T06:16:03.785Z"
   },
   {
    "duration": 6,
    "start_time": "2021-11-13T06:16:03.847Z"
   },
   {
    "duration": 28,
    "start_time": "2021-11-13T06:16:03.856Z"
   },
   {
    "duration": 49,
    "start_time": "2021-11-13T06:16:03.887Z"
   },
   {
    "duration": 26,
    "start_time": "2021-11-13T06:16:03.938Z"
   },
   {
    "duration": 16,
    "start_time": "2021-11-13T06:16:03.966Z"
   },
   {
    "duration": 44,
    "start_time": "2021-11-13T06:16:03.985Z"
   },
   {
    "duration": 8,
    "start_time": "2021-11-13T06:16:04.032Z"
   },
   {
    "duration": 13,
    "start_time": "2021-11-13T06:16:04.042Z"
   },
   {
    "duration": 6,
    "start_time": "2021-11-13T06:16:04.057Z"
   },
   {
    "duration": 337,
    "start_time": "2021-11-23T13:04:44.785Z"
   },
   {
    "duration": 771,
    "start_time": "2021-11-23T13:04:50.673Z"
   },
   {
    "duration": 623,
    "start_time": "2021-11-23T13:05:00.400Z"
   },
   {
    "duration": 162,
    "start_time": "2021-11-23T13:05:06.465Z"
   },
   {
    "duration": 8,
    "start_time": "2021-11-23T13:05:17.082Z"
   },
   {
    "duration": 14,
    "start_time": "2021-11-23T13:05:33.698Z"
   },
   {
    "duration": 26,
    "start_time": "2021-11-23T13:05:53.519Z"
   },
   {
    "duration": 82,
    "start_time": "2021-11-23T13:14:12.201Z"
   },
   {
    "duration": 292,
    "start_time": "2021-11-23T13:23:17.608Z"
   },
   {
    "duration": 5,
    "start_time": "2021-11-23T13:23:41.039Z"
   },
   {
    "duration": 24,
    "start_time": "2021-11-23T13:23:44.358Z"
   },
   {
    "duration": 5,
    "start_time": "2021-11-23T13:23:47.350Z"
   },
   {
    "duration": 24,
    "start_time": "2021-11-23T13:23:48.759Z"
   },
   {
    "duration": 18,
    "start_time": "2021-11-23T13:23:52.403Z"
   },
   {
    "duration": 25,
    "start_time": "2021-11-23T13:23:53.339Z"
   },
   {
    "duration": 66,
    "start_time": "2021-11-23T13:23:54.665Z"
   },
   {
    "duration": 73,
    "start_time": "2021-11-23T13:23:56.404Z"
   },
   {
    "duration": 22,
    "start_time": "2021-11-23T13:24:00.171Z"
   },
   {
    "duration": 19,
    "start_time": "2021-11-23T13:24:03.624Z"
   },
   {
    "duration": 22,
    "start_time": "2021-11-23T13:24:12.704Z"
   },
   {
    "duration": 666,
    "start_time": "2021-11-24T05:25:34.710Z"
   },
   {
    "duration": 154,
    "start_time": "2021-11-24T05:25:35.378Z"
   },
   {
    "duration": 8,
    "start_time": "2021-11-24T05:25:35.534Z"
   },
   {
    "duration": 40,
    "start_time": "2021-11-24T05:25:35.544Z"
   },
   {
    "duration": 63,
    "start_time": "2021-11-24T05:25:35.585Z"
   },
   {
    "duration": 42,
    "start_time": "2021-11-24T05:25:35.650Z"
   },
   {
    "duration": 5,
    "start_time": "2021-11-24T05:25:35.694Z"
   },
   {
    "duration": 59,
    "start_time": "2021-11-24T05:25:35.700Z"
   },
   {
    "duration": 35,
    "start_time": "2021-11-24T05:25:35.762Z"
   },
   {
    "duration": 47,
    "start_time": "2021-11-24T05:25:35.799Z"
   },
   {
    "duration": 84,
    "start_time": "2021-11-24T05:25:35.848Z"
   },
   {
    "duration": 75,
    "start_time": "2021-11-24T05:25:35.933Z"
   },
   {
    "duration": 60,
    "start_time": "2021-11-24T05:25:36.010Z"
   },
   {
    "duration": 10,
    "start_time": "2021-11-24T05:25:36.072Z"
   },
   {
    "duration": 28,
    "start_time": "2021-11-24T05:25:36.084Z"
   },
   {
    "duration": 41,
    "start_time": "2021-11-24T05:25:36.113Z"
   },
   {
    "duration": 15,
    "start_time": "2021-11-24T05:25:36.156Z"
   },
   {
    "duration": 48,
    "start_time": "2021-11-24T05:25:36.173Z"
   },
   {
    "duration": 39,
    "start_time": "2021-11-24T05:25:36.223Z"
   },
   {
    "duration": 20,
    "start_time": "2021-11-24T05:25:36.264Z"
   },
   {
    "duration": 50,
    "start_time": "2021-11-24T05:25:36.286Z"
   },
   {
    "duration": 22,
    "start_time": "2021-11-24T05:25:36.338Z"
   },
   {
    "duration": 40,
    "start_time": "2021-11-24T05:25:36.362Z"
   },
   {
    "duration": 20,
    "start_time": "2021-11-24T05:25:36.404Z"
   },
   {
    "duration": 50,
    "start_time": "2021-11-24T05:25:36.426Z"
   },
   {
    "duration": 30,
    "start_time": "2021-11-24T05:25:36.477Z"
   },
   {
    "duration": 8,
    "start_time": "2021-11-24T05:25:36.510Z"
   },
   {
    "duration": 19,
    "start_time": "2021-11-24T05:25:36.520Z"
   },
   {
    "duration": 28,
    "start_time": "2021-11-24T05:25:36.541Z"
   },
   {
    "duration": 4,
    "start_time": "2021-11-24T05:25:36.573Z"
   },
   {
    "duration": 38,
    "start_time": "2021-11-24T05:25:36.579Z"
   },
   {
    "duration": 23,
    "start_time": "2021-11-24T05:25:36.619Z"
   },
   {
    "duration": 37,
    "start_time": "2021-11-24T05:25:36.644Z"
   },
   {
    "duration": 24,
    "start_time": "2021-11-24T05:25:36.682Z"
   },
   {
    "duration": 18,
    "start_time": "2021-11-24T05:25:36.707Z"
   },
   {
    "duration": 23,
    "start_time": "2021-11-24T05:25:36.727Z"
   },
   {
    "duration": 36,
    "start_time": "2021-11-24T05:25:36.752Z"
   },
   {
    "duration": 17,
    "start_time": "2021-11-24T05:25:36.790Z"
   }
  ],
  "colab": {
   "collapsed_sections": [
    "E0vqbgi9ay0H",
    "VUC88oWjTJw2"
   ],
   "name": "yandex_music_project_2021.2.ipynb",
   "provenance": []
  },
  "kernelspec": {
   "display_name": "Python 3 (ipykernel)",
   "language": "python",
   "name": "python3"
  },
  "language_info": {
   "codemirror_mode": {
    "name": "ipython",
    "version": 3
   },
   "file_extension": ".py",
   "mimetype": "text/x-python",
   "name": "python",
   "nbconvert_exporter": "python",
   "pygments_lexer": "ipython3",
   "version": "3.9.5"
  },
  "toc": {
   "base_numbering": 1,
   "nav_menu": {},
   "number_sections": true,
   "sideBar": true,
   "skip_h1_title": true,
   "title_cell": "Table of Contents",
   "title_sidebar": "Contents",
   "toc_cell": false,
   "toc_position": {},
   "toc_section_display": true,
   "toc_window_display": false
  }
 },
 "nbformat": 4,
 "nbformat_minor": 1
}
