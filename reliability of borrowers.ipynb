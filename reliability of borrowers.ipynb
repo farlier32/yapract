{
 "cells": [
  {
   "cell_type": "markdown",
   "metadata": {},
   "source": [
    "Привет! Меня зовут Александр Арасланов, я провожу ревью твоей работы. Предалагю общаться на «ты», если не против.\n",
    "\n",
    "В работе ты увидишь комментарии, помеченные разным цветом.\n",
    "\n",
    "<div class=\"alert alert-danger\"> ❌\n",
    "Красным цветом помечены моменты, которые необходимо доработать, чтобы проект был принят. Уверен, что у тебя все получится. Буду ждать твою работу на повторное ревью. \n",
    "</div>\n",
    "\n",
    "<div class=\"alert alert-success\"> ✅\n",
    "Зеленым цветом помечены оброзцовые решения. Которые можно использовать в дальнейшем.\n",
    "</div>\n",
    "\n",
    "<div class=\"alert alert-warning\"> ⚠️\n",
    "Желтым цветом отмечено то, что ты можешь улучшить или доработать. Можешь учесть это при выполнении следующих работ или доработать проект сейчас, но это не обязательно.\n",
    "</div>\n",
    "\n",
    "\n",
    "Будет комфортнее работать над проектом вместе, если ты будешь **писать об изменениях** в проекте по моим рекомендациям. Для этого выбери для своих комментариев \n",
    "\n",
    "<div class=\"alert alert-block alert-info\">заметный цвет</div>\n",
    "\n",
    "Пожалуйста, **не перемещай, не изменяй и не удаляй мои комментарии**. Всё это поможет выполнить повторную проверку твоего проекта оперативнее.\n",
    "\n",
    "Никита, в твоем проект есть несколько недочетов. Пожалуйста, исправь их и присылай работу на повторную проверку. Буду рад ответить на вопросы если они появятся."
   ]
  },
  {
   "cell_type": "markdown",
   "metadata": {},
   "source": [
    "<div class=\"alert alert-success\">\n",
    "\n",
    "**✅Комментарий ревьюера V2**\n",
    "\n",
    "Отличная работа👍 Все измненения принял. Раз вопросов по проекту нет, проект принимаю. Удачи в дальнейшей учебе!</div>"
   ]
  },
  {
   "cell_type": "markdown",
   "metadata": {},
   "source": [
    "# Исследование надёжности заёмщиков\n",
    "\n",
    "Заказчик — кредитный отдел банка. Нужно разобраться, влияет ли семейное положение и количество детей клиента на факт погашения кредита в срок. Входные данные от банка — статистика о платёжеспособности клиентов.\n",
    "\n",
    "Результаты исследования будут учтены при построении модели **кредитного скоринга** — специальной системы, которая оценивает способность потенциального заёмщика вернуть кредит банку."
   ]
  },
  {
   "cell_type": "markdown",
   "metadata": {},
   "source": [
    "## Шаг 1. Откройте файл с данными и изучите общую информацию"
   ]
  },
  {
   "cell_type": "code",
   "execution_count": 1,
   "metadata": {},
   "outputs": [
    {
     "name": "stdout",
     "output_type": "stream",
     "text": [
      "<class 'pandas.core.frame.DataFrame'>\n",
      "RangeIndex: 21525 entries, 0 to 21524\n",
      "Data columns (total 12 columns):\n",
      "children            21525 non-null int64\n",
      "days_employed       19351 non-null float64\n",
      "dob_years           21525 non-null int64\n",
      "education           21525 non-null object\n",
      "education_id        21525 non-null int64\n",
      "family_status       21525 non-null object\n",
      "family_status_id    21525 non-null int64\n",
      "gender              21525 non-null object\n",
      "income_type         21525 non-null object\n",
      "debt                21525 non-null int64\n",
      "total_income        19351 non-null float64\n",
      "purpose             21525 non-null object\n",
      "dtypes: float64(2), int64(5), object(5)\n",
      "memory usage: 2.0+ MB\n",
      "\n",
      "\n"
     ]
    },
    {
     "data": {
      "text/html": [
       "<div>\n",
       "<style scoped>\n",
       "    .dataframe tbody tr th:only-of-type {\n",
       "        vertical-align: middle;\n",
       "    }\n",
       "\n",
       "    .dataframe tbody tr th {\n",
       "        vertical-align: top;\n",
       "    }\n",
       "\n",
       "    .dataframe thead th {\n",
       "        text-align: right;\n",
       "    }\n",
       "</style>\n",
       "<table border=\"1\" class=\"dataframe\">\n",
       "  <thead>\n",
       "    <tr style=\"text-align: right;\">\n",
       "      <th></th>\n",
       "      <th>children</th>\n",
       "      <th>days_employed</th>\n",
       "      <th>dob_years</th>\n",
       "      <th>education</th>\n",
       "      <th>education_id</th>\n",
       "      <th>family_status</th>\n",
       "      <th>family_status_id</th>\n",
       "      <th>gender</th>\n",
       "      <th>income_type</th>\n",
       "      <th>debt</th>\n",
       "      <th>total_income</th>\n",
       "      <th>purpose</th>\n",
       "    </tr>\n",
       "  </thead>\n",
       "  <tbody>\n",
       "    <tr>\n",
       "      <td>0</td>\n",
       "      <td>1</td>\n",
       "      <td>-8437.673028</td>\n",
       "      <td>42</td>\n",
       "      <td>высшее</td>\n",
       "      <td>0</td>\n",
       "      <td>женат / замужем</td>\n",
       "      <td>0</td>\n",
       "      <td>F</td>\n",
       "      <td>сотрудник</td>\n",
       "      <td>0</td>\n",
       "      <td>253875.639453</td>\n",
       "      <td>покупка жилья</td>\n",
       "    </tr>\n",
       "    <tr>\n",
       "      <td>1</td>\n",
       "      <td>1</td>\n",
       "      <td>-4024.803754</td>\n",
       "      <td>36</td>\n",
       "      <td>среднее</td>\n",
       "      <td>1</td>\n",
       "      <td>женат / замужем</td>\n",
       "      <td>0</td>\n",
       "      <td>F</td>\n",
       "      <td>сотрудник</td>\n",
       "      <td>0</td>\n",
       "      <td>112080.014102</td>\n",
       "      <td>приобретение автомобиля</td>\n",
       "    </tr>\n",
       "    <tr>\n",
       "      <td>2</td>\n",
       "      <td>0</td>\n",
       "      <td>-5623.422610</td>\n",
       "      <td>33</td>\n",
       "      <td>Среднее</td>\n",
       "      <td>1</td>\n",
       "      <td>женат / замужем</td>\n",
       "      <td>0</td>\n",
       "      <td>M</td>\n",
       "      <td>сотрудник</td>\n",
       "      <td>0</td>\n",
       "      <td>145885.952297</td>\n",
       "      <td>покупка жилья</td>\n",
       "    </tr>\n",
       "    <tr>\n",
       "      <td>3</td>\n",
       "      <td>3</td>\n",
       "      <td>-4124.747207</td>\n",
       "      <td>32</td>\n",
       "      <td>среднее</td>\n",
       "      <td>1</td>\n",
       "      <td>женат / замужем</td>\n",
       "      <td>0</td>\n",
       "      <td>M</td>\n",
       "      <td>сотрудник</td>\n",
       "      <td>0</td>\n",
       "      <td>267628.550329</td>\n",
       "      <td>дополнительное образование</td>\n",
       "    </tr>\n",
       "    <tr>\n",
       "      <td>4</td>\n",
       "      <td>0</td>\n",
       "      <td>340266.072047</td>\n",
       "      <td>53</td>\n",
       "      <td>среднее</td>\n",
       "      <td>1</td>\n",
       "      <td>гражданский брак</td>\n",
       "      <td>1</td>\n",
       "      <td>F</td>\n",
       "      <td>пенсионер</td>\n",
       "      <td>0</td>\n",
       "      <td>158616.077870</td>\n",
       "      <td>сыграть свадьбу</td>\n",
       "    </tr>\n",
       "    <tr>\n",
       "      <td>5</td>\n",
       "      <td>0</td>\n",
       "      <td>-926.185831</td>\n",
       "      <td>27</td>\n",
       "      <td>высшее</td>\n",
       "      <td>0</td>\n",
       "      <td>гражданский брак</td>\n",
       "      <td>1</td>\n",
       "      <td>M</td>\n",
       "      <td>компаньон</td>\n",
       "      <td>0</td>\n",
       "      <td>255763.565419</td>\n",
       "      <td>покупка жилья</td>\n",
       "    </tr>\n",
       "    <tr>\n",
       "      <td>6</td>\n",
       "      <td>0</td>\n",
       "      <td>-2879.202052</td>\n",
       "      <td>43</td>\n",
       "      <td>высшее</td>\n",
       "      <td>0</td>\n",
       "      <td>женат / замужем</td>\n",
       "      <td>0</td>\n",
       "      <td>F</td>\n",
       "      <td>компаньон</td>\n",
       "      <td>0</td>\n",
       "      <td>240525.971920</td>\n",
       "      <td>операции с жильем</td>\n",
       "    </tr>\n",
       "    <tr>\n",
       "      <td>7</td>\n",
       "      <td>0</td>\n",
       "      <td>-152.779569</td>\n",
       "      <td>50</td>\n",
       "      <td>СРЕДНЕЕ</td>\n",
       "      <td>1</td>\n",
       "      <td>женат / замужем</td>\n",
       "      <td>0</td>\n",
       "      <td>M</td>\n",
       "      <td>сотрудник</td>\n",
       "      <td>0</td>\n",
       "      <td>135823.934197</td>\n",
       "      <td>образование</td>\n",
       "    </tr>\n",
       "    <tr>\n",
       "      <td>8</td>\n",
       "      <td>2</td>\n",
       "      <td>-6929.865299</td>\n",
       "      <td>35</td>\n",
       "      <td>ВЫСШЕЕ</td>\n",
       "      <td>0</td>\n",
       "      <td>гражданский брак</td>\n",
       "      <td>1</td>\n",
       "      <td>F</td>\n",
       "      <td>сотрудник</td>\n",
       "      <td>0</td>\n",
       "      <td>95856.832424</td>\n",
       "      <td>на проведение свадьбы</td>\n",
       "    </tr>\n",
       "    <tr>\n",
       "      <td>9</td>\n",
       "      <td>0</td>\n",
       "      <td>-2188.756445</td>\n",
       "      <td>41</td>\n",
       "      <td>среднее</td>\n",
       "      <td>1</td>\n",
       "      <td>женат / замужем</td>\n",
       "      <td>0</td>\n",
       "      <td>M</td>\n",
       "      <td>сотрудник</td>\n",
       "      <td>0</td>\n",
       "      <td>144425.938277</td>\n",
       "      <td>покупка жилья для семьи</td>\n",
       "    </tr>\n",
       "  </tbody>\n",
       "</table>\n",
       "</div>"
      ],
      "text/plain": [
       "   children  days_employed  dob_years education  education_id  \\\n",
       "0         1   -8437.673028         42    высшее             0   \n",
       "1         1   -4024.803754         36   среднее             1   \n",
       "2         0   -5623.422610         33   Среднее             1   \n",
       "3         3   -4124.747207         32   среднее             1   \n",
       "4         0  340266.072047         53   среднее             1   \n",
       "5         0    -926.185831         27    высшее             0   \n",
       "6         0   -2879.202052         43    высшее             0   \n",
       "7         0    -152.779569         50   СРЕДНЕЕ             1   \n",
       "8         2   -6929.865299         35    ВЫСШЕЕ             0   \n",
       "9         0   -2188.756445         41   среднее             1   \n",
       "\n",
       "      family_status  family_status_id gender income_type  debt   total_income  \\\n",
       "0   женат / замужем                 0      F   сотрудник     0  253875.639453   \n",
       "1   женат / замужем                 0      F   сотрудник     0  112080.014102   \n",
       "2   женат / замужем                 0      M   сотрудник     0  145885.952297   \n",
       "3   женат / замужем                 0      M   сотрудник     0  267628.550329   \n",
       "4  гражданский брак                 1      F   пенсионер     0  158616.077870   \n",
       "5  гражданский брак                 1      M   компаньон     0  255763.565419   \n",
       "6   женат / замужем                 0      F   компаньон     0  240525.971920   \n",
       "7   женат / замужем                 0      M   сотрудник     0  135823.934197   \n",
       "8  гражданский брак                 1      F   сотрудник     0   95856.832424   \n",
       "9   женат / замужем                 0      M   сотрудник     0  144425.938277   \n",
       "\n",
       "                      purpose  \n",
       "0               покупка жилья  \n",
       "1     приобретение автомобиля  \n",
       "2               покупка жилья  \n",
       "3  дополнительное образование  \n",
       "4             сыграть свадьбу  \n",
       "5               покупка жилья  \n",
       "6           операции с жильем  \n",
       "7                 образование  \n",
       "8       на проведение свадьбы  \n",
       "9     покупка жилья для семьи  "
      ]
     },
     "metadata": {},
     "output_type": "display_data"
    },
    {
     "name": "stdout",
     "output_type": "stream",
     "text": [
      "\n",
      "\n",
      "Трудовой стаж пенсионеров.\n",
      "4      340266.072047\n",
      "12               NaN\n",
      "18     400281.136913\n",
      "24     338551.952911\n",
      "25     363548.489348\n",
      "29               NaN\n",
      "30     335581.668515\n",
      "35     394021.072184\n",
      "50     353731.432338\n",
      "55               NaN\n",
      "56     370145.087237\n",
      "67               NaN\n",
      "71     338113.529892\n",
      "78     359722.945074\n",
      "86     383933.549664\n",
      "87     337659.535004\n",
      "88     373129.789654\n",
      "98     364906.205736\n",
      "99     346541.618895\n",
      "101    391558.961849\n",
      "104    366323.649429\n",
      "119    382189.129056\n",
      "128    379035.920619\n",
      "129    361010.321350\n",
      "133    344507.392785\n",
      "136    357880.159379\n",
      "142    347947.835507\n",
      "145              NaN\n",
      "150    393711.519923\n",
      "156    362366.857165\n",
      "Name: days_employed, dtype: float64\n"
     ]
    }
   ],
   "source": [
    "import pandas as pd\n",
    "df = pd.read_csv('/datasets/data.csv')\n",
    "df.info()\n",
    "print()\n",
    "print()\n",
    "display(df.head(10))\n",
    "print()\n",
    "print()\n",
    "print('Трудовой стаж пенсионеров.')\n",
    "print(df[df['income_type']=='пенсионер']['days_employed'].head(30))"
   ]
  },
  {
   "cell_type": "markdown",
   "metadata": {},
   "source": [
    "**Вывод**"
   ]
  },
  {
   "cell_type": "markdown",
   "metadata": {},
   "source": [
    "В days_employed(общий трудовой стаж в днях) и total_income(ежемесячный доход) одинаковое количество пропущеных значений, так же в days_employed есть отрицательные, и очень высокие значения(у пенсионеров).\n",
    "1. Исправить отстутсвие значений.\n",
    "2. Исправить отрицательные значения.\n",
    "3. Разобраться с пенсионерами. 😈"
   ]
  },
  {
   "cell_type": "markdown",
   "metadata": {},
   "source": [
    "## Шаг 2. Предобработка данных"
   ]
  },
  {
   "cell_type": "markdown",
   "metadata": {},
   "source": [
    "### Обработка пропусков"
   ]
  },
  {
   "cell_type": "code",
   "execution_count": 2,
   "metadata": {},
   "outputs": [
    {
     "data": {
      "text/html": [
       "<div>\n",
       "<style scoped>\n",
       "    .dataframe tbody tr th:only-of-type {\n",
       "        vertical-align: middle;\n",
       "    }\n",
       "\n",
       "    .dataframe tbody tr th {\n",
       "        vertical-align: top;\n",
       "    }\n",
       "\n",
       "    .dataframe thead th {\n",
       "        text-align: right;\n",
       "    }\n",
       "</style>\n",
       "<table border=\"1\" class=\"dataframe\">\n",
       "  <thead>\n",
       "    <tr style=\"text-align: right;\">\n",
       "      <th></th>\n",
       "      <th>children</th>\n",
       "      <th>days_employed</th>\n",
       "      <th>dob_years</th>\n",
       "      <th>education</th>\n",
       "      <th>education_id</th>\n",
       "      <th>family_status</th>\n",
       "      <th>family_status_id</th>\n",
       "      <th>gender</th>\n",
       "      <th>income_type</th>\n",
       "      <th>debt</th>\n",
       "      <th>total_income</th>\n",
       "      <th>purpose</th>\n",
       "    </tr>\n",
       "  </thead>\n",
       "  <tbody>\n",
       "    <tr>\n",
       "      <td>0</td>\n",
       "      <td>1</td>\n",
       "      <td>8437.673028</td>\n",
       "      <td>42</td>\n",
       "      <td>высшее</td>\n",
       "      <td>0</td>\n",
       "      <td>женат / замужем</td>\n",
       "      <td>0</td>\n",
       "      <td>F</td>\n",
       "      <td>сотрудник</td>\n",
       "      <td>0</td>\n",
       "      <td>253875.639453</td>\n",
       "      <td>покупка жилья</td>\n",
       "    </tr>\n",
       "    <tr>\n",
       "      <td>1</td>\n",
       "      <td>1</td>\n",
       "      <td>4024.803754</td>\n",
       "      <td>36</td>\n",
       "      <td>среднее</td>\n",
       "      <td>1</td>\n",
       "      <td>женат / замужем</td>\n",
       "      <td>0</td>\n",
       "      <td>F</td>\n",
       "      <td>сотрудник</td>\n",
       "      <td>0</td>\n",
       "      <td>112080.014102</td>\n",
       "      <td>приобретение автомобиля</td>\n",
       "    </tr>\n",
       "    <tr>\n",
       "      <td>2</td>\n",
       "      <td>0</td>\n",
       "      <td>5623.422610</td>\n",
       "      <td>33</td>\n",
       "      <td>Среднее</td>\n",
       "      <td>1</td>\n",
       "      <td>женат / замужем</td>\n",
       "      <td>0</td>\n",
       "      <td>M</td>\n",
       "      <td>сотрудник</td>\n",
       "      <td>0</td>\n",
       "      <td>145885.952297</td>\n",
       "      <td>покупка жилья</td>\n",
       "    </tr>\n",
       "    <tr>\n",
       "      <td>3</td>\n",
       "      <td>3</td>\n",
       "      <td>4124.747207</td>\n",
       "      <td>32</td>\n",
       "      <td>среднее</td>\n",
       "      <td>1</td>\n",
       "      <td>женат / замужем</td>\n",
       "      <td>0</td>\n",
       "      <td>M</td>\n",
       "      <td>сотрудник</td>\n",
       "      <td>0</td>\n",
       "      <td>267628.550329</td>\n",
       "      <td>дополнительное образование</td>\n",
       "    </tr>\n",
       "    <tr>\n",
       "      <td>4</td>\n",
       "      <td>0</td>\n",
       "      <td>340266.072047</td>\n",
       "      <td>53</td>\n",
       "      <td>среднее</td>\n",
       "      <td>1</td>\n",
       "      <td>гражданский брак</td>\n",
       "      <td>1</td>\n",
       "      <td>F</td>\n",
       "      <td>пенсионер</td>\n",
       "      <td>0</td>\n",
       "      <td>158616.077870</td>\n",
       "      <td>сыграть свадьбу</td>\n",
       "    </tr>\n",
       "    <tr>\n",
       "      <td>...</td>\n",
       "      <td>...</td>\n",
       "      <td>...</td>\n",
       "      <td>...</td>\n",
       "      <td>...</td>\n",
       "      <td>...</td>\n",
       "      <td>...</td>\n",
       "      <td>...</td>\n",
       "      <td>...</td>\n",
       "      <td>...</td>\n",
       "      <td>...</td>\n",
       "      <td>...</td>\n",
       "      <td>...</td>\n",
       "    </tr>\n",
       "    <tr>\n",
       "      <td>21520</td>\n",
       "      <td>1</td>\n",
       "      <td>4529.316663</td>\n",
       "      <td>43</td>\n",
       "      <td>среднее</td>\n",
       "      <td>1</td>\n",
       "      <td>гражданский брак</td>\n",
       "      <td>1</td>\n",
       "      <td>F</td>\n",
       "      <td>компаньон</td>\n",
       "      <td>0</td>\n",
       "      <td>224791.862382</td>\n",
       "      <td>операции с жильем</td>\n",
       "    </tr>\n",
       "    <tr>\n",
       "      <td>21521</td>\n",
       "      <td>0</td>\n",
       "      <td>343937.404131</td>\n",
       "      <td>67</td>\n",
       "      <td>среднее</td>\n",
       "      <td>1</td>\n",
       "      <td>женат / замужем</td>\n",
       "      <td>0</td>\n",
       "      <td>F</td>\n",
       "      <td>пенсионер</td>\n",
       "      <td>0</td>\n",
       "      <td>155999.806512</td>\n",
       "      <td>сделка с автомобилем</td>\n",
       "    </tr>\n",
       "    <tr>\n",
       "      <td>21522</td>\n",
       "      <td>1</td>\n",
       "      <td>2113.346888</td>\n",
       "      <td>38</td>\n",
       "      <td>среднее</td>\n",
       "      <td>1</td>\n",
       "      <td>гражданский брак</td>\n",
       "      <td>1</td>\n",
       "      <td>M</td>\n",
       "      <td>сотрудник</td>\n",
       "      <td>1</td>\n",
       "      <td>89672.561153</td>\n",
       "      <td>недвижимость</td>\n",
       "    </tr>\n",
       "    <tr>\n",
       "      <td>21523</td>\n",
       "      <td>3</td>\n",
       "      <td>3112.481705</td>\n",
       "      <td>38</td>\n",
       "      <td>среднее</td>\n",
       "      <td>1</td>\n",
       "      <td>женат / замужем</td>\n",
       "      <td>0</td>\n",
       "      <td>M</td>\n",
       "      <td>сотрудник</td>\n",
       "      <td>1</td>\n",
       "      <td>244093.050500</td>\n",
       "      <td>на покупку своего автомобиля</td>\n",
       "    </tr>\n",
       "    <tr>\n",
       "      <td>21524</td>\n",
       "      <td>2</td>\n",
       "      <td>1984.507589</td>\n",
       "      <td>40</td>\n",
       "      <td>среднее</td>\n",
       "      <td>1</td>\n",
       "      <td>женат / замужем</td>\n",
       "      <td>0</td>\n",
       "      <td>F</td>\n",
       "      <td>сотрудник</td>\n",
       "      <td>0</td>\n",
       "      <td>82047.418899</td>\n",
       "      <td>на покупку автомобиля</td>\n",
       "    </tr>\n",
       "  </tbody>\n",
       "</table>\n",
       "<p>21525 rows × 12 columns</p>\n",
       "</div>"
      ],
      "text/plain": [
       "       children  days_employed  dob_years education  education_id  \\\n",
       "0             1    8437.673028         42    высшее             0   \n",
       "1             1    4024.803754         36   среднее             1   \n",
       "2             0    5623.422610         33   Среднее             1   \n",
       "3             3    4124.747207         32   среднее             1   \n",
       "4             0  340266.072047         53   среднее             1   \n",
       "...         ...            ...        ...       ...           ...   \n",
       "21520         1    4529.316663         43   среднее             1   \n",
       "21521         0  343937.404131         67   среднее             1   \n",
       "21522         1    2113.346888         38   среднее             1   \n",
       "21523         3    3112.481705         38   среднее             1   \n",
       "21524         2    1984.507589         40   среднее             1   \n",
       "\n",
       "          family_status  family_status_id gender income_type  debt  \\\n",
       "0       женат / замужем                 0      F   сотрудник     0   \n",
       "1       женат / замужем                 0      F   сотрудник     0   \n",
       "2       женат / замужем                 0      M   сотрудник     0   \n",
       "3       женат / замужем                 0      M   сотрудник     0   \n",
       "4      гражданский брак                 1      F   пенсионер     0   \n",
       "...                 ...               ...    ...         ...   ...   \n",
       "21520  гражданский брак                 1      F   компаньон     0   \n",
       "21521   женат / замужем                 0      F   пенсионер     0   \n",
       "21522  гражданский брак                 1      M   сотрудник     1   \n",
       "21523   женат / замужем                 0      M   сотрудник     1   \n",
       "21524   женат / замужем                 0      F   сотрудник     0   \n",
       "\n",
       "        total_income                       purpose  \n",
       "0      253875.639453                 покупка жилья  \n",
       "1      112080.014102       приобретение автомобиля  \n",
       "2      145885.952297                 покупка жилья  \n",
       "3      267628.550329    дополнительное образование  \n",
       "4      158616.077870               сыграть свадьбу  \n",
       "...              ...                           ...  \n",
       "21520  224791.862382             операции с жильем  \n",
       "21521  155999.806512          сделка с автомобилем  \n",
       "21522   89672.561153                  недвижимость  \n",
       "21523  244093.050500  на покупку своего автомобиля  \n",
       "21524   82047.418899         на покупку автомобиля  \n",
       "\n",
       "[21525 rows x 12 columns]"
      ]
     },
     "metadata": {},
     "output_type": "display_data"
    }
   ],
   "source": [
    "total_income_median = df['total_income'].median()\n",
    "days_employed_mean = df['days_employed'].mean()\n",
    "\n",
    "def correct(value):\n",
    "    if value < 0:\n",
    "        value *= -1\n",
    "        return value\n",
    "    else:\n",
    "        return value\n",
    "df['days_employed'] = df['days_employed'].apply(correct)\n",
    "df['days_employed'] = df['days_employed'].fillna(days_employed_mean)\n",
    "df['total_income'] = df['total_income'].fillna(total_income_median)\n",
    "display(df)"
   ]
  },
  {
   "cell_type": "markdown",
   "metadata": {},
   "source": [
    "**Вывод**"
   ]
  },
  {
   "cell_type": "markdown",
   "metadata": {},
   "source": [
    "Отрицательные значения исправлены, недостающие данные заменены на средние и медианные значения. Проблема с пенсионерами осталась."
   ]
  },
  {
   "cell_type": "code",
   "execution_count": 3,
   "metadata": {},
   "outputs": [],
   "source": [
    "df['days_employed'] = df['days_employed'].astype('int')\n",
    "df['total_income'] = df['total_income'].astype('int')"
   ]
  },
  {
   "cell_type": "markdown",
   "metadata": {},
   "source": [
    "**Вывод**"
   ]
  },
  {
   "cell_type": "markdown",
   "metadata": {},
   "source": [
    "Стаж и доход заменены на int"
   ]
  },
  {
   "cell_type": "markdown",
   "metadata": {},
   "source": [
    "<div class=\"alert alert-success\">\n",
    "\n",
    "**✅Комментарий ревьюера**\n",
    "\n",
    "Отличная обработка данных👍 </div>"
   ]
  },
  {
   "cell_type": "markdown",
   "metadata": {},
   "source": [
    "### Обработка дубликатов"
   ]
  },
  {
   "cell_type": "code",
   "execution_count": 4,
   "metadata": {},
   "outputs": [
    {
     "name": "stdout",
     "output_type": "stream",
     "text": [
      "Заёмщики по количеству детей\n",
      "0    14225\n",
      "1     4865\n",
      "2     2055\n",
      "3      330\n",
      "4       41\n",
      "5        9\n",
      "Name: children, dtype: int64\n"
     ]
    }
   ],
   "source": [
    "from collections import Counter\n",
    "Counter(df['education'])\n",
    "df['education'] = df['education'].str.lower()\n",
    "Counter(df['education'])\n",
    "\n",
    "Counter(df['family_status'])\n",
    "\n",
    "\n",
    "Counter(df['gender'])\n",
    "df.loc[df.loc[:, 'gender'] == 'XNA']\n",
    "\n",
    "\n",
    "Counter(df['income_type'])\n",
    "\n",
    "Counter(df['purpose'])\n",
    "\n",
    "df['children'].value_counts()\n",
    "# У кого-то -1 ребёнок???🤡\n",
    "df['children'] = df['children'].replace(-1, 1)\n",
    "children_median = df.loc[df.loc[:, 'children'] != 20]['children'].median()\n",
    "df['children'] = df['children'].replace(20, children_median)\n",
    "print(\"Заёмщики по количеству детей\")\n",
    "print(df['children'].value_counts())"
   ]
  },
  {
   "cell_type": "markdown",
   "metadata": {},
   "source": [
    "<div class=\"alert alert-warning\">\n",
    "\n",
    "**⚠️Комментарий ревьюера**\n",
    "\n",
    "Для наглядности было бы здорово распределить кол-во детей на категории (бездетный/1-2 ребенка/многодетный)</div> "
   ]
  },
  {
   "cell_type": "markdown",
   "metadata": {},
   "source": [
    "**Вывод**"
   ]
  },
  {
   "cell_type": "markdown",
   "metadata": {},
   "source": [
    "В education значения были приведены в одинаковый вид. В gender - был найден \"XNA\", пол никак нельзя вычислить, по всей видимости кто-то не указал его, эту строчка в расчетах участвовать не будет. Отрицательное количество детей и 20 детей на семью исправлены, может быть кто-то при указании данных о себе случайно написал ошибочное значение, хотя семью из 20 детей тоже нельзя отбрасывать, но не 70+ же."
   ]
  },
  {
   "cell_type": "markdown",
   "metadata": {},
   "source": [
    "<div class=\"alert alert-success\">\n",
    "\n",
    "**✅Комментарий ревьюера**\n",
    "\n",
    "Молодец, что обратил внимание на артефакты и обработал их, отличная работа </div>"
   ]
  },
  {
   "cell_type": "markdown",
   "metadata": {},
   "source": [
    "### Лемматизация"
   ]
  },
  {
   "cell_type": "code",
   "execution_count": 5,
   "metadata": {},
   "outputs": [
    {
     "data": {
      "text/plain": [
       "Counter({'недвижимость': 10840,\n",
       "         'авто': 4315,\n",
       "         'образование': 4022,\n",
       "         'свадьба': 2348})"
      ]
     },
     "execution_count": 5,
     "metadata": {},
     "output_type": "execute_result"
    }
   ],
   "source": [
    "estate = ['недвижим', 'жиль']\n",
    "wedding = ['свадьб']\n",
    "auto = ['автомоб']\n",
    "education = ['образова']\n",
    "\n",
    "list_of_words = [] \n",
    "def categoryzer(list_of_words, category):\n",
    "    join = '|'.join(list_of_words)\n",
    "    index = df[df['purpose'].str.lower().str.contains(join)].index.to_list()\n",
    "    for i in index:\n",
    "        df.loc[i, 'purpose_category'] = category\n",
    "    return df\n",
    "\n",
    "categoryzer(wedding, 'свадьба')\n",
    "categoryzer(estate, 'недвижимость')\n",
    "categoryzer(auto, 'авто')\n",
    "categoryzer(education, 'образование')\n",
    "\n",
    "Counter(df['purpose_category'])"
   ]
  },
  {
   "cell_type": "markdown",
   "metadata": {},
   "source": [
    "<div class=\"alert alert-danger\">\n",
    "\n",
    "**❌Комментарий ревьюера**\n",
    "\n",
    "Никита, здесь у тебя ошибка в коде, ее необходимо исправить.  File \"<ipython-input-5-c4a1464d0494>\", line 7\n",
    "    def categordf['purpose_category'] = 0yzer(list_of_words, category):\n",
    "                 ^\n",
    "SyntaxError: invalid syntax </div>"
   ]
  },
  {
   "cell_type": "markdown",
   "metadata": {},
   "source": [
    "<div class=\"alert alert-block alert-info\">Исправил</div>"
   ]
  },
  {
   "cell_type": "markdown",
   "metadata": {},
   "source": [
    "<div class=\"alert alert-success\">\n",
    "\n",
    "**✅Комментарий ревьюераV2**\n",
    "\n",
    "Исправлеия принял</div>"
   ]
  },
  {
   "cell_type": "markdown",
   "metadata": {},
   "source": [
    "**Вывод**"
   ]
  },
  {
   "cell_type": "markdown",
   "metadata": {},
   "source": [
    "Многие цели займа похожи, поэтому приводим их к одним значениям лемматизируя, для более простой разбивки по категориям."
   ]
  },
  {
   "cell_type": "markdown",
   "metadata": {},
   "source": [
    "### Категоризация данных"
   ]
  },
  {
   "cell_type": "code",
   "execution_count": 6,
   "metadata": {},
   "outputs": [
    {
     "data": {
      "text/html": [
       "<div>\n",
       "<style scoped>\n",
       "    .dataframe tbody tr th:only-of-type {\n",
       "        vertical-align: middle;\n",
       "    }\n",
       "\n",
       "    .dataframe tbody tr th {\n",
       "        vertical-align: top;\n",
       "    }\n",
       "\n",
       "    .dataframe thead th {\n",
       "        text-align: right;\n",
       "    }\n",
       "</style>\n",
       "<table border=\"1\" class=\"dataframe\">\n",
       "  <thead>\n",
       "    <tr style=\"text-align: right;\">\n",
       "      <th></th>\n",
       "      <th>count_children</th>\n",
       "      <th>sum_children</th>\n",
       "      <th>result_children</th>\n",
       "    </tr>\n",
       "    <tr>\n",
       "      <th>children</th>\n",
       "      <th></th>\n",
       "      <th></th>\n",
       "      <th></th>\n",
       "    </tr>\n",
       "  </thead>\n",
       "  <tbody>\n",
       "    <tr>\n",
       "      <td>0</td>\n",
       "      <td>14225</td>\n",
       "      <td>1071</td>\n",
       "      <td>0.075290</td>\n",
       "    </tr>\n",
       "    <tr>\n",
       "      <td>1</td>\n",
       "      <td>4865</td>\n",
       "      <td>445</td>\n",
       "      <td>0.091470</td>\n",
       "    </tr>\n",
       "    <tr>\n",
       "      <td>2</td>\n",
       "      <td>2055</td>\n",
       "      <td>194</td>\n",
       "      <td>0.094404</td>\n",
       "    </tr>\n",
       "    <tr>\n",
       "      <td>3</td>\n",
       "      <td>330</td>\n",
       "      <td>27</td>\n",
       "      <td>0.081818</td>\n",
       "    </tr>\n",
       "    <tr>\n",
       "      <td>4</td>\n",
       "      <td>41</td>\n",
       "      <td>4</td>\n",
       "      <td>0.097561</td>\n",
       "    </tr>\n",
       "    <tr>\n",
       "      <td>5</td>\n",
       "      <td>9</td>\n",
       "      <td>0</td>\n",
       "      <td>0.000000</td>\n",
       "    </tr>\n",
       "  </tbody>\n",
       "</table>\n",
       "</div>"
      ],
      "text/plain": [
       "          count_children  sum_children  result_children\n",
       "children                                               \n",
       "0                  14225          1071         0.075290\n",
       "1                   4865           445         0.091470\n",
       "2                   2055           194         0.094404\n",
       "3                    330            27         0.081818\n",
       "4                     41             4         0.097561\n",
       "5                      9             0         0.000000"
      ]
     },
     "execution_count": 6,
     "metadata": {},
     "output_type": "execute_result"
    }
   ],
   "source": [
    "debt_from_children = pd.DataFrame()\n",
    "debt_from_children['count_children'] = df.groupby('children')['debt'].count()\n",
    "debt_from_children['sum_children'] = df.groupby('children')['debt'].sum()\n",
    "debt_from_children['result_children'] = debt_from_children['sum_children'] / debt_from_children['count_children'] \n",
    "debt_from_children"
   ]
  },
  {
   "cell_type": "markdown",
   "metadata": {},
   "source": [
    "**Вывод**"
   ]
  },
  {
   "cell_type": "markdown",
   "metadata": {},
   "source": [
    "Категоризовать количество детей нет необходимости, категориями будет их количество на семью, так как всего 6 вариантов."
   ]
  },
  {
   "cell_type": "markdown",
   "metadata": {},
   "source": [
    "<div class=\"alert alert-warning\">\n",
    "\n",
    "**⚠️Комментарий ревьюера**\n",
    "\n",
    "Все же во время анализа результатов будет намного удобнее рассматривать категории</div> "
   ]
  },
  {
   "cell_type": "markdown",
   "metadata": {},
   "source": [
    "## Шаг 3. Ответьте на вопросы"
   ]
  },
  {
   "cell_type": "markdown",
   "metadata": {},
   "source": [
    "- Есть ли зависимость между наличием детей и возвратом кредита в срок?"
   ]
  },
  {
   "cell_type": "code",
   "execution_count": 7,
   "metadata": {},
   "outputs": [
    {
     "data": {
      "text/html": [
       "<div>\n",
       "<style scoped>\n",
       "    .dataframe tbody tr th:only-of-type {\n",
       "        vertical-align: middle;\n",
       "    }\n",
       "\n",
       "    .dataframe tbody tr th {\n",
       "        vertical-align: top;\n",
       "    }\n",
       "\n",
       "    .dataframe thead th {\n",
       "        text-align: right;\n",
       "    }\n",
       "</style>\n",
       "<table border=\"1\" class=\"dataframe\">\n",
       "  <thead>\n",
       "    <tr style=\"text-align: right;\">\n",
       "      <th></th>\n",
       "      <th>count_children</th>\n",
       "      <th>sum_children</th>\n",
       "      <th>result_children</th>\n",
       "    </tr>\n",
       "    <tr>\n",
       "      <th>children</th>\n",
       "      <th></th>\n",
       "      <th></th>\n",
       "      <th></th>\n",
       "    </tr>\n",
       "  </thead>\n",
       "  <tbody>\n",
       "    <tr>\n",
       "      <td>4</td>\n",
       "      <td>41</td>\n",
       "      <td>4</td>\n",
       "      <td>0.097561</td>\n",
       "    </tr>\n",
       "    <tr>\n",
       "      <td>2</td>\n",
       "      <td>2055</td>\n",
       "      <td>194</td>\n",
       "      <td>0.094404</td>\n",
       "    </tr>\n",
       "    <tr>\n",
       "      <td>1</td>\n",
       "      <td>4865</td>\n",
       "      <td>445</td>\n",
       "      <td>0.091470</td>\n",
       "    </tr>\n",
       "    <tr>\n",
       "      <td>3</td>\n",
       "      <td>330</td>\n",
       "      <td>27</td>\n",
       "      <td>0.081818</td>\n",
       "    </tr>\n",
       "    <tr>\n",
       "      <td>0</td>\n",
       "      <td>14225</td>\n",
       "      <td>1071</td>\n",
       "      <td>0.075290</td>\n",
       "    </tr>\n",
       "    <tr>\n",
       "      <td>5</td>\n",
       "      <td>9</td>\n",
       "      <td>0</td>\n",
       "      <td>0.000000</td>\n",
       "    </tr>\n",
       "  </tbody>\n",
       "</table>\n",
       "</div>"
      ],
      "text/plain": [
       "          count_children  sum_children  result_children\n",
       "children                                               \n",
       "4                     41             4         0.097561\n",
       "2                   2055           194         0.094404\n",
       "1                   4865           445         0.091470\n",
       "3                    330            27         0.081818\n",
       "0                  14225          1071         0.075290\n",
       "5                      9             0         0.000000"
      ]
     },
     "execution_count": 7,
     "metadata": {},
     "output_type": "execute_result"
    }
   ],
   "source": [
    "debt_from_children = pd.DataFrame()\n",
    "debt_from_children['count_children'] = df.groupby('children')['debt'].count()\n",
    "debt_from_children['sum_children'] = df.groupby('children')['debt'].sum()\n",
    "debt_from_children['result_children'] = debt_from_children['sum_children'] / debt_from_children['count_children'] \n",
    "debt_from_children.sort_values('result_children', ascending = False)"
   ]
  },
  {
   "cell_type": "markdown",
   "metadata": {},
   "source": [
    "**Вывод**"
   ]
  },
  {
   "cell_type": "markdown",
   "metadata": {},
   "source": [
    "С увеличением колчества детей растёт количество задолженностей, но семьи с тремя детьми чаще платят вовремя, чем с одним или двумя. Бездетные ещё реже просрачивают, чем остальные. Семьи с пятью детьми по всей видимости всегда платят в срок."
   ]
  },
  {
   "cell_type": "markdown",
   "metadata": {},
   "source": [
    "- Есть ли зависимость между семейным положением и возвратом кредита в срок?"
   ]
  },
  {
   "cell_type": "code",
   "execution_count": 8,
   "metadata": {},
   "outputs": [
    {
     "data": {
      "text/html": [
       "<div>\n",
       "<style scoped>\n",
       "    .dataframe tbody tr th:only-of-type {\n",
       "        vertical-align: middle;\n",
       "    }\n",
       "\n",
       "    .dataframe tbody tr th {\n",
       "        vertical-align: top;\n",
       "    }\n",
       "\n",
       "    .dataframe thead th {\n",
       "        text-align: right;\n",
       "    }\n",
       "</style>\n",
       "<table border=\"1\" class=\"dataframe\">\n",
       "  <thead>\n",
       "    <tr style=\"text-align: right;\">\n",
       "      <th></th>\n",
       "      <th>sum_family_status</th>\n",
       "      <th>count_family_status</th>\n",
       "      <th>result_family_status</th>\n",
       "    </tr>\n",
       "    <tr>\n",
       "      <th>family_status</th>\n",
       "      <th></th>\n",
       "      <th></th>\n",
       "      <th></th>\n",
       "    </tr>\n",
       "  </thead>\n",
       "  <tbody>\n",
       "    <tr>\n",
       "      <td>Не женат / не замужем</td>\n",
       "      <td>274</td>\n",
       "      <td>2813</td>\n",
       "      <td>0.097405</td>\n",
       "    </tr>\n",
       "    <tr>\n",
       "      <td>гражданский брак</td>\n",
       "      <td>388</td>\n",
       "      <td>4177</td>\n",
       "      <td>0.092890</td>\n",
       "    </tr>\n",
       "    <tr>\n",
       "      <td>женат / замужем</td>\n",
       "      <td>931</td>\n",
       "      <td>12380</td>\n",
       "      <td>0.075202</td>\n",
       "    </tr>\n",
       "    <tr>\n",
       "      <td>в разводе</td>\n",
       "      <td>85</td>\n",
       "      <td>1195</td>\n",
       "      <td>0.071130</td>\n",
       "    </tr>\n",
       "    <tr>\n",
       "      <td>вдовец / вдова</td>\n",
       "      <td>63</td>\n",
       "      <td>960</td>\n",
       "      <td>0.065625</td>\n",
       "    </tr>\n",
       "  </tbody>\n",
       "</table>\n",
       "</div>"
      ],
      "text/plain": [
       "                       sum_family_status  count_family_status  \\\n",
       "family_status                                                   \n",
       "Не женат / не замужем                274                 2813   \n",
       "гражданский брак                     388                 4177   \n",
       "женат / замужем                      931                12380   \n",
       "в разводе                             85                 1195   \n",
       "вдовец / вдова                        63                  960   \n",
       "\n",
       "                       result_family_status  \n",
       "family_status                                \n",
       "Не женат / не замужем              0.097405  \n",
       "гражданский брак                   0.092890  \n",
       "женат / замужем                    0.075202  \n",
       "в разводе                          0.071130  \n",
       "вдовец / вдова                     0.065625  "
      ]
     },
     "execution_count": 8,
     "metadata": {},
     "output_type": "execute_result"
    }
   ],
   "source": [
    "debt_from_family_status = pd.DataFrame()\n",
    "debt_from_family_status['sum_family_status'] = df.groupby('family_status')['debt'].sum()\n",
    "debt_from_family_status['count_family_status'] = df.groupby('family_status')['debt'].count()\n",
    "debt_from_family_status['result_family_status'] = debt_from_family_status['sum_family_status'] / debt_from_family_status['count_family_status'] \n",
    "debt_from_family_status.sort_values('result_family_status', ascending = False)"
   ]
  },
  {
   "cell_type": "markdown",
   "metadata": {},
   "source": [
    "**Вывод**"
   ]
  },
  {
   "cell_type": "markdown",
   "metadata": {},
   "source": [
    "Вдовы, разведённые, замужние платят чаще по сроку, чем люди не бывшие в браке или просто сожительствующие друг с другом."
   ]
  },
  {
   "cell_type": "markdown",
   "metadata": {},
   "source": [
    "- Есть ли зависимость между уровнем дохода и возвратом кредита в срок?"
   ]
  },
  {
   "cell_type": "code",
   "execution_count": 9,
   "metadata": {},
   "outputs": [
    {
     "data": {
      "text/html": [
       "<div>\n",
       "<style scoped>\n",
       "    .dataframe tbody tr th:only-of-type {\n",
       "        vertical-align: middle;\n",
       "    }\n",
       "\n",
       "    .dataframe tbody tr th {\n",
       "        vertical-align: top;\n",
       "    }\n",
       "\n",
       "    .dataframe thead th {\n",
       "        text-align: right;\n",
       "    }\n",
       "</style>\n",
       "<table border=\"1\" class=\"dataframe\">\n",
       "  <thead>\n",
       "    <tr style=\"text-align: right;\">\n",
       "      <th></th>\n",
       "      <th>total_income</th>\n",
       "      <th>debt</th>\n",
       "    </tr>\n",
       "  </thead>\n",
       "  <tbody>\n",
       "    <tr>\n",
       "      <td>total_income</td>\n",
       "      <td>1.000000</td>\n",
       "      <td>-0.011592</td>\n",
       "    </tr>\n",
       "    <tr>\n",
       "      <td>debt</td>\n",
       "      <td>-0.011592</td>\n",
       "      <td>1.000000</td>\n",
       "    </tr>\n",
       "  </tbody>\n",
       "</table>\n",
       "</div>"
      ],
      "text/plain": [
       "              total_income      debt\n",
       "total_income      1.000000 -0.011592\n",
       "debt             -0.011592  1.000000"
      ]
     },
     "execution_count": 9,
     "metadata": {},
     "output_type": "execute_result"
    }
   ],
   "source": [
    "def total_income_category(value):\n",
    "    if value >= 500000:\n",
    "        return 10\n",
    "    else:\n",
    "        value = value // 50000\n",
    "        return value\n",
    "df['total_income_id'] = df['total_income'].apply(total_income_category)\n",
    "df['total_income_id'].value_counts()\n",
    "debt_from_total_income = pd.DataFrame()\n",
    "debt_from_total_income['sum'] = df.groupby('total_income_id')['debt'].sum()\n",
    "debt_from_total_income['count'] = df.groupby('total_income_id')['debt'].count()\n",
    "debt_from_total_income['conversion'] = debt_from_total_income['sum'] / debt_from_total_income['count']\n",
    "debt_from_total_income.sort_values('conversion', ascending = False)\n",
    "\n",
    "verification_through_correlation = pd.DataFrame()\n",
    "verification_through_correlation['total_income'] = df['total_income']\n",
    "verification_through_correlation['debt'] = df['debt']\n",
    "verification_through_correlation.corr()"
   ]
  },
  {
   "cell_type": "markdown",
   "metadata": {},
   "source": [
    "<div class=\"alert alert-success\">\n",
    "\n",
    "**✅Комментарий ревьюера**\n",
    "\n",
    "Интересный подход к категоризации👍</div>"
   ]
  },
  {
   "cell_type": "markdown",
   "metadata": {},
   "source": [
    "**Вывод**"
   ]
  },
  {
   "cell_type": "markdown",
   "metadata": {},
   "source": [
    "Зависимости между уровнем дохода и возвратом кредита в срок нет!"
   ]
  },
  {
   "cell_type": "markdown",
   "metadata": {},
   "source": [
    "- Как разные цели кредита влияют на его возврат в срок?"
   ]
  },
  {
   "cell_type": "code",
   "execution_count": 10,
   "metadata": {},
   "outputs": [
    {
     "data": {
      "text/html": [
       "<div>\n",
       "<style scoped>\n",
       "    .dataframe tbody tr th:only-of-type {\n",
       "        vertical-align: middle;\n",
       "    }\n",
       "\n",
       "    .dataframe tbody tr th {\n",
       "        vertical-align: top;\n",
       "    }\n",
       "\n",
       "    .dataframe thead th {\n",
       "        text-align: right;\n",
       "    }\n",
       "</style>\n",
       "<table border=\"1\" class=\"dataframe\">\n",
       "  <thead>\n",
       "    <tr style=\"text-align: right;\">\n",
       "      <th></th>\n",
       "      <th>sum_purpose_category</th>\n",
       "      <th>count_purpose_category</th>\n",
       "      <th>result_purpose_category</th>\n",
       "    </tr>\n",
       "    <tr>\n",
       "      <th>purpose_category</th>\n",
       "      <th></th>\n",
       "      <th></th>\n",
       "      <th></th>\n",
       "    </tr>\n",
       "  </thead>\n",
       "  <tbody>\n",
       "    <tr>\n",
       "      <td>авто</td>\n",
       "      <td>403</td>\n",
       "      <td>4315</td>\n",
       "      <td>0.093395</td>\n",
       "    </tr>\n",
       "    <tr>\n",
       "      <td>образование</td>\n",
       "      <td>370</td>\n",
       "      <td>4022</td>\n",
       "      <td>0.091994</td>\n",
       "    </tr>\n",
       "    <tr>\n",
       "      <td>свадьба</td>\n",
       "      <td>186</td>\n",
       "      <td>2348</td>\n",
       "      <td>0.079216</td>\n",
       "    </tr>\n",
       "    <tr>\n",
       "      <td>недвижимость</td>\n",
       "      <td>782</td>\n",
       "      <td>10840</td>\n",
       "      <td>0.072140</td>\n",
       "    </tr>\n",
       "  </tbody>\n",
       "</table>\n",
       "</div>"
      ],
      "text/plain": [
       "                  sum_purpose_category  count_purpose_category  \\\n",
       "purpose_category                                                 \n",
       "авто                               403                    4315   \n",
       "образование                        370                    4022   \n",
       "свадьба                            186                    2348   \n",
       "недвижимость                       782                   10840   \n",
       "\n",
       "                  result_purpose_category  \n",
       "purpose_category                           \n",
       "авто                             0.093395  \n",
       "образование                      0.091994  \n",
       "свадьба                          0.079216  \n",
       "недвижимость                     0.072140  "
      ]
     },
     "execution_count": 10,
     "metadata": {},
     "output_type": "execute_result"
    }
   ],
   "source": [
    "debt_from_purpose_category = pd.DataFrame()\n",
    "debt_from_purpose_category['sum_purpose_category'] = df.groupby('purpose_category')['debt'].sum()\n",
    "debt_from_purpose_category['count_purpose_category'] = df.groupby('purpose_category')['debt'].count()\n",
    "debt_from_purpose_category['result_purpose_category'] = debt_from_purpose_category['sum_purpose_category'] / debt_from_purpose_category['count_purpose_category'] \n",
    "debt_from_purpose_category.sort_values('result_purpose_category', ascending = False)"
   ]
  },
  {
   "cell_type": "markdown",
   "metadata": {},
   "source": [
    "**Вывод**"
   ]
  },
  {
   "cell_type": "markdown",
   "metadata": {},
   "source": [
    "Бравшие кредит на свадьбу или недвижимость чаще платят вовремя, чем те, кто брал кредит на авто или образование."
   ]
  },
  {
   "cell_type": "markdown",
   "metadata": {},
   "source": [
    "## Шаг 4. Общий вывод"
   ]
  },
  {
   "cell_type": "markdown",
   "metadata": {},
   "source": [
    "Семейный статус влияет на вероятность платежей по кредиту в срок - люди, бывший в браке чаще плятят в срок чем те, кто не бывали в браке, причем разведенные и овдовевшие платят в срок чаще, чем люди в браке. Чем больше детей, тем чаще платят не в срок, бездетные реже просрачивают оплату."
   ]
  },
  {
   "cell_type": "markdown",
   "metadata": {},
   "source": [
    "<div class=\"alert alert-danger\">\n",
    "\n",
    "**❌Комментарий ревьюера**\n",
    "\n",
    "Хороший получается проект. Но есть несколько недочетов, которые необходимо доработать. Я оставил комментрарии, которые помогут тебе выявить недоработки. Исправляй их и присылай на потоврную проверку, буду рад ответить на твои вопросы, если они появятся. </div>"
   ]
  },
  {
   "cell_type": "markdown",
   "metadata": {},
   "source": [
    "<div class=\"alert alert-success\">\n",
    "\n",
    "**✅Комментарий ревьюера V2**\n",
    "\n",
    "Отличная работа👍 Все измненения принял. Раз вопросов по проекту нет, проект принимаю. Удачи в дальнейшей учебе!</div>"
   ]
  },
  {
   "cell_type": "markdown",
   "metadata": {},
   "source": [
    "## Чек-лист готовности проекта\n",
    "\n",
    "Поставьте 'x' в выполненных пунктах. Далее нажмите Shift+Enter."
   ]
  },
  {
   "cell_type": "markdown",
   "metadata": {},
   "source": [
    "- [x]  открыт файл;\n",
    "- [x]  файл изучен;\n",
    "- [x]  определены пропущенные значения;\n",
    "- [x]  заполнены пропущенные значения;\n",
    "- [x]  есть пояснение, какие пропущенные значения обнаружены;\n",
    "- [x]  описаны возможные причины появления пропусков в данных;\n",
    "- [x]  объяснено, по какому принципу заполнены пропуски;\n",
    "- [x]  заменен вещественный тип данных на целочисленный;\n",
    "- [x]  есть пояснение, какой метод используется для изменения типа данных и почему;\n",
    "- [x]  удалены дубликаты;\n",
    "- [x]  есть пояснение, какой метод используется для поиска и удаления дубликатов;\n",
    "- [x]  описаны возможные причины появления дубликатов в данных;\n",
    "- [x]  выделены леммы в значениях столбца с целями получения кредита;\n",
    "- [x]  описан процесс лемматизации;\n",
    "- [x]  данные категоризированы;\n",
    "- [x]  есть объяснение принципа категоризации данных;\n",
    "- [x]  есть ответ на вопрос: \"Есть ли зависимость между наличием детей и возвратом кредита в срок?\";\n",
    "- [x]  есть ответ на вопрос: \"Есть ли зависимость между семейным положением и возвратом кредита в срок?\";\n",
    "- [x]  есть ответ на вопрос: \"Есть ли зависимость между уровнем дохода и возвратом кредита в срок?\";\n",
    "- [x]  есть ответ на вопрос: \"Как разные цели кредита влияют на его возврат в срок?\";\n",
    "- [x]  в каждом этапе есть выводы;\n",
    "- [x]  есть общий вывод."
   ]
  },
  {
   "cell_type": "code",
   "execution_count": null,
   "metadata": {},
   "outputs": [],
   "source": []
  }
 ],
 "metadata": {
  "ExecuteTimeLog": [
   {
    "duration": 626,
    "start_time": "2021-11-26T14:09:17.156Z"
   },
   {
    "duration": 61,
    "start_time": "2021-11-26T14:15:00.769Z"
   },
   {
    "duration": 342,
    "start_time": "2021-11-26T14:15:46.450Z"
   },
   {
    "duration": 78,
    "start_time": "2021-11-26T14:15:53.647Z"
   },
   {
    "duration": 61,
    "start_time": "2021-11-26T14:15:58.353Z"
   },
   {
    "duration": 62,
    "start_time": "2021-11-26T14:17:09.556Z"
   },
   {
    "duration": 60,
    "start_time": "2021-11-26T14:17:27.123Z"
   },
   {
    "duration": 53,
    "start_time": "2021-11-26T14:17:36.509Z"
   },
   {
    "duration": 59,
    "start_time": "2021-11-26T14:22:16.716Z"
   },
   {
    "duration": 72,
    "start_time": "2021-11-26T14:22:38.578Z"
   },
   {
    "duration": 69,
    "start_time": "2021-11-26T14:33:20.273Z"
   },
   {
    "duration": 61,
    "start_time": "2021-11-26T14:33:55.756Z"
   },
   {
    "duration": 76,
    "start_time": "2021-11-26T14:34:54.663Z"
   },
   {
    "duration": 1019,
    "start_time": "2021-11-26T14:35:32.422Z"
   },
   {
    "duration": 71,
    "start_time": "2021-11-26T14:35:46.101Z"
   },
   {
    "duration": 86,
    "start_time": "2021-11-26T14:36:35.659Z"
   },
   {
    "duration": 69,
    "start_time": "2021-11-26T14:36:39.811Z"
   },
   {
    "duration": 80,
    "start_time": "2021-11-26T14:36:53.427Z"
   },
   {
    "duration": 66,
    "start_time": "2021-11-26T14:37:59.363Z"
   },
   {
    "duration": 66,
    "start_time": "2021-11-26T14:38:23.279Z"
   },
   {
    "duration": 69,
    "start_time": "2021-11-26T14:38:54.079Z"
   },
   {
    "duration": 71,
    "start_time": "2021-11-26T14:43:15.289Z"
   },
   {
    "duration": 66,
    "start_time": "2021-11-26T14:44:46.701Z"
   },
   {
    "duration": 5,
    "start_time": "2021-11-26T14:55:44.448Z"
   },
   {
    "duration": 84,
    "start_time": "2021-11-26T15:04:04.739Z"
   },
   {
    "duration": 12,
    "start_time": "2021-11-26T15:04:39.928Z"
   },
   {
    "duration": 25,
    "start_time": "2021-11-26T15:05:12.392Z"
   },
   {
    "duration": 5,
    "start_time": "2021-11-26T15:09:02.402Z"
   },
   {
    "duration": 27,
    "start_time": "2021-11-26T15:11:03.966Z"
   },
   {
    "duration": 7,
    "start_time": "2021-11-26T15:18:12.441Z"
   },
   {
    "duration": 18,
    "start_time": "2021-11-26T15:19:28.935Z"
   },
   {
    "duration": 23,
    "start_time": "2021-11-26T15:19:45.982Z"
   },
   {
    "duration": 18,
    "start_time": "2021-11-26T15:20:18.868Z"
   },
   {
    "duration": 27,
    "start_time": "2021-11-26T15:21:33.443Z"
   },
   {
    "duration": 20,
    "start_time": "2021-11-26T15:21:58.652Z"
   },
   {
    "duration": 20,
    "start_time": "2021-11-26T15:22:06.472Z"
   },
   {
    "duration": 252,
    "start_time": "2021-11-26T15:23:33.319Z"
   },
   {
    "duration": 21,
    "start_time": "2021-11-26T15:23:37.534Z"
   },
   {
    "duration": 26,
    "start_time": "2021-11-26T15:24:34.996Z"
   },
   {
    "duration": 29,
    "start_time": "2021-11-26T15:25:46.618Z"
   },
   {
    "duration": 26,
    "start_time": "2021-11-26T15:28:29.873Z"
   },
   {
    "duration": 30,
    "start_time": "2021-11-26T15:28:56.468Z"
   },
   {
    "duration": 29,
    "start_time": "2021-11-26T15:29:36.252Z"
   },
   {
    "duration": 33,
    "start_time": "2021-11-26T15:37:19.158Z"
   },
   {
    "duration": 32,
    "start_time": "2021-11-26T15:37:25.877Z"
   },
   {
    "duration": 38,
    "start_time": "2021-11-26T15:38:07.109Z"
   },
   {
    "duration": 35,
    "start_time": "2021-11-26T15:38:53.851Z"
   },
   {
    "duration": 93,
    "start_time": "2021-11-26T15:39:06.474Z"
   },
   {
    "duration": 37,
    "start_time": "2021-11-26T15:39:37.730Z"
   },
   {
    "duration": 81,
    "start_time": "2021-11-26T15:46:41.055Z"
   },
   {
    "duration": 80,
    "start_time": "2021-11-26T15:46:49.804Z"
   },
   {
    "duration": 6309,
    "start_time": "2021-11-26T15:49:10.213Z"
   },
   {
    "duration": -847,
    "start_time": "2021-11-26T15:49:17.371Z"
   },
   {
    "duration": 71,
    "start_time": "2021-11-26T15:49:17.874Z"
   },
   {
    "duration": 610,
    "start_time": "2021-11-26T15:49:25.920Z"
   },
   {
    "duration": 29,
    "start_time": "2021-11-26T15:49:35.600Z"
   },
   {
    "duration": 5,
    "start_time": "2021-11-26T15:49:40.967Z"
   },
   {
    "duration": 38,
    "start_time": "2021-11-26T15:49:43.439Z"
   },
   {
    "duration": 12207,
    "start_time": "2021-11-26T15:49:49.239Z"
   },
   {
    "duration": 16,
    "start_time": "2021-11-26T15:56:11.813Z"
   },
   {
    "duration": 12,
    "start_time": "2021-11-26T16:01:48.188Z"
   },
   {
    "duration": 15,
    "start_time": "2021-11-26T16:06:00.019Z"
   },
   {
    "duration": 26,
    "start_time": "2021-11-26T16:09:35.757Z"
   },
   {
    "duration": 14,
    "start_time": "2021-11-26T16:13:37.213Z"
   },
   {
    "duration": 622,
    "start_time": "2021-11-26T20:22:33.797Z"
   },
   {
    "duration": 26,
    "start_time": "2021-11-26T20:22:34.421Z"
   },
   {
    "duration": 4,
    "start_time": "2021-11-26T20:22:34.449Z"
   },
   {
    "duration": 55,
    "start_time": "2021-11-26T20:22:34.455Z"
   },
   {
    "duration": 56,
    "start_time": "2021-11-26T20:22:34.512Z"
   },
   {
    "duration": 17,
    "start_time": "2021-11-26T20:22:34.553Z"
   },
   {
    "duration": 10,
    "start_time": "2021-11-26T20:22:34.561Z"
   },
   {
    "duration": 9,
    "start_time": "2021-11-26T20:22:34.563Z"
   },
   {
    "duration": 8,
    "start_time": "2021-11-26T20:22:34.565Z"
   },
   {
    "duration": 7,
    "start_time": "2021-11-26T20:22:34.567Z"
   },
   {
    "duration": 93,
    "start_time": "2021-11-27T01:41:21.225Z"
   },
   {
    "duration": 455,
    "start_time": "2021-11-27T01:49:28.148Z"
   },
   {
    "duration": 419,
    "start_time": "2021-11-27T01:50:16.135Z"
   },
   {
    "duration": 696,
    "start_time": "2021-11-27T01:50:41.040Z"
   },
   {
    "duration": 28,
    "start_time": "2021-11-27T01:50:47.564Z"
   },
   {
    "duration": 6,
    "start_time": "2021-11-27T01:50:51.075Z"
   },
   {
    "duration": 42,
    "start_time": "2021-11-27T01:50:53.771Z"
   },
   {
    "duration": 19364,
    "start_time": "2021-11-27T01:51:13.426Z"
   },
   {
    "duration": 41,
    "start_time": "2021-11-27T01:51:32.792Z"
   },
   {
    "duration": 16654,
    "start_time": "2021-11-27T01:51:37.024Z"
   },
   {
    "duration": 933,
    "start_time": "2021-11-27T09:39:00.296Z"
   },
   {
    "duration": 44,
    "start_time": "2021-11-27T09:39:01.232Z"
   },
   {
    "duration": 6,
    "start_time": "2021-11-27T09:39:01.279Z"
   },
   {
    "duration": 83,
    "start_time": "2021-11-27T09:39:01.287Z"
   },
   {
    "duration": 30711,
    "start_time": "2021-11-27T09:39:01.373Z"
   },
   {
    "duration": 23,
    "start_time": "2021-11-27T09:39:32.086Z"
   },
   {
    "duration": 33,
    "start_time": "2021-11-27T09:39:32.111Z"
   },
   {
    "duration": 22,
    "start_time": "2021-11-27T09:39:32.148Z"
   },
   {
    "duration": 71,
    "start_time": "2021-11-27T09:39:32.172Z"
   },
   {
    "duration": 22,
    "start_time": "2021-11-27T09:39:32.245Z"
   }
  ],
  "kernelspec": {
   "display_name": "Python 3 (ipykernel)",
   "language": "python",
   "name": "python3"
  },
  "language_info": {
   "codemirror_mode": {
    "name": "ipython",
    "version": 3
   },
   "file_extension": ".py",
   "mimetype": "text/x-python",
   "name": "python",
   "nbconvert_exporter": "python",
   "pygments_lexer": "ipython3",
   "version": "3.9.5"
  },
  "toc": {
   "base_numbering": 1,
   "nav_menu": {},
   "number_sections": true,
   "sideBar": true,
   "skip_h1_title": true,
   "title_cell": "Table of Contents",
   "title_sidebar": "Contents",
   "toc_cell": false,
   "toc_position": {},
   "toc_section_display": true,
   "toc_window_display": false
  }
 },
 "nbformat": 4,
 "nbformat_minor": 2
}
