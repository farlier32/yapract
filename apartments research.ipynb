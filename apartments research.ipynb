{
 "cells": [
  {
   "cell_type": "markdown",
   "metadata": {},
   "source": [
    "<div style=\"border:solid Chocolate 2px; padding: 40px\">\n",
    "\n",
    "<b>Никита, привет!👋</b>\n",
    "\n",
    "Меня зовут Арина У., я буду ревьюером твоего проекта. Ты можешь обращаться ко мне на \"ты\"😏 Надеюсь, тебя также не смутит, если я буду обращаться к тебе на \"ты\", но если это неудобно, обязательно скажи об этом!\n",
    "\n",
    "Пожалуйста, не удаляй мои комментарии, они будут особенно полезны для нашей работы в случае повторной проверки проекта. \n",
    "\n",
    "Ты также можешь реагировать на мои комментарии своими, выделяя их цветами и наиболее понравившимся тебе способом оформления, но явно  отличающимся от моих комментариев. Это нужно, чтобы не создавалась путаница😉\n",
    "\n",
    "Ты можешь найти мои комментарии, обозначенные <font color='green'>зеленым</font>, <font color='gold'>желтым</font> и <font color='red'>красным</font> цветами, например:\n",
    "\n",
    "<br/>\n",
    "\n",
    "<div class=\"alert alert-success\">\n",
    "<h2> Комментарий ревьюера <a class=\"tocSkip\"> </h2>\n",
    "\n",
    "<b>Все отлично!👍:</b> В случае, если решение на отдельном шаге является полностью правильным.\n",
    "</div>\n",
    "\n",
    "<br/>\n",
    "\n",
    "<div class=\"alert alert-warning\">\n",
    "    <h2> Комментарий ревьюера <a class=\"tocSkip\"> </h2>\n",
    "    \n",
    "<b>Некоторые замечания и рекомендации💡:</b> В случае, когда решение на отдельном шаге станет еще лучше, если внести небольшие коррективы.\n",
    "</div>\n",
    "\n",
    "\n",
    "<br/>\n",
    "<div class=\"alert alert-block alert-danger\">\n",
    "<h2> Комментарий ревьюера <a class=\"tocSkip\"></h2>\n",
    "\n",
    "    \n",
    "<b>На доработку🤔:</b>\n",
    " В случае, когда решение на отдельном шаге требует существенной переработки и внесения правок. Напоминаю, что проект не может быть принят с первого раза, если ревью содержит комментарии, рекомендующие доработать шаги.\n",
    "</div>\n",
    "    \n",
    "Увидев у тебя неточность, в первый раз я лишь укажу на ее наличие и дам тебе возможность самому найти и исправить ее. На реальной работе твой руководитель будет поступать также, и я пытаюсь подготовить тебя именно к работе аналитиком. Но если ты пока не справишься с такой задачей - при следующей проверке я дам более точную подсказку!🤓"
   ]
  },
  {
   "cell_type": "markdown",
   "metadata": {
    "toc": true
   },
   "source": [
    "<h1>Содержание<span class=\"tocSkip\"></span></h1>\n",
    "<div class=\"toc\"><ul class=\"toc-item\"><li><span><a href=\"#Изучение-данных-из-файла\" data-toc-modified-id=\"Изучение-данных-из-файла-1\"><span class=\"toc-item-num\">1&nbsp;&nbsp;</span>Изучение данных из файла</a></span><ul class=\"toc-item\"><li><span><a href=\"#Вывод\" data-toc-modified-id=\"Вывод-1.1\"><span class=\"toc-item-num\">1.1&nbsp;&nbsp;</span>Вывод</a></span></li></ul></li><li><span><a href=\"#Предобработка-данных\" data-toc-modified-id=\"Предобработка-данных-2\"><span class=\"toc-item-num\">2&nbsp;&nbsp;</span>Предобработка данных</a></span><ul class=\"toc-item\"><li><span><a href=\"#Переименование-и-обрыботка-выбросов\" data-toc-modified-id=\"Переименование-и-обрыботка-выбросов-2.1\"><span class=\"toc-item-num\">2.1&nbsp;&nbsp;</span>Переименование и обрыботка выбросов</a></span><ul class=\"toc-item\"><li><span><a href=\"#Высота-потолков\" data-toc-modified-id=\"Высота-потолков-2.1.1\"><span class=\"toc-item-num\">2.1.1&nbsp;&nbsp;</span>Высота потолков</a></span></li><li><span><a href=\"#Проблемы-с-площадью\" data-toc-modified-id=\"Проблемы-с-площадью-2.1.2\"><span class=\"toc-item-num\">2.1.2&nbsp;&nbsp;</span>Проблемы с площадью</a></span></li></ul></li><li><span><a href=\"#Заполнение-пропусков\" data-toc-modified-id=\"Заполнение-пропусков-2.2\"><span class=\"toc-item-num\">2.2&nbsp;&nbsp;</span>Заполнение пропусков</a></span><ul class=\"toc-item\"><li><span><a href=\"#Чем-заполнять?\" data-toc-modified-id=\"Чем-заполнять?-2.2.1\"><span class=\"toc-item-num\">2.2.1&nbsp;&nbsp;</span>Чем заполнять?</a></span></li><li><span><a href=\"#Заполнение-высоты-потолков\" data-toc-modified-id=\"Заполнение-высоты-потолков-2.2.2\"><span class=\"toc-item-num\">2.2.2&nbsp;&nbsp;</span>Заполнение высоты потолков</a></span></li><li><span><a href=\"#Заполнение-этажности-зданий\" data-toc-modified-id=\"Заполнение-этажности-зданий-2.2.3\"><span class=\"toc-item-num\">2.2.3&nbsp;&nbsp;</span>Заполнение этажности зданий</a></span></li><li><span><a href=\"#Заполняем-оставшиеся-пропуски\" data-toc-modified-id=\"Заполняем-оставшиеся-пропуски-2.2.4\"><span class=\"toc-item-num\">2.2.4&nbsp;&nbsp;</span>Заполняем оставшиеся пропуски</a></span></li><li><span><a href=\"#Обработка-времени\" data-toc-modified-id=\"Обработка-времени-2.2.5\"><span class=\"toc-item-num\">2.2.5&nbsp;&nbsp;</span>Обработка времени</a></span></li><li><span><a href=\"#Решение-проблемы-с-типом-данных\" data-toc-modified-id=\"Решение-проблемы-с-типом-данных-2.2.6\"><span class=\"toc-item-num\">2.2.6&nbsp;&nbsp;</span>Решение проблемы с типом данных</a></span></li><li><span><a href=\"#Квартиры-с-нулевым-значением-комнат-и-не-являющиеся-студиями\" data-toc-modified-id=\"Квартиры-с-нулевым-значением-комнат-и-не-являющиеся-студиями-2.2.7\"><span class=\"toc-item-num\">2.2.7&nbsp;&nbsp;</span>Квартиры с нулевым значением комнат и не являющиеся студиями</a></span></li></ul></li></ul></li><li><span><a href=\"#Расчёты-и-добавление-результатов-в-таблицу\" data-toc-modified-id=\"Расчёты-и-добавление-результатов-в-таблицу-3\"><span class=\"toc-item-num\">3&nbsp;&nbsp;</span>Расчёты и добавление результатов в таблицу</a></span><ul class=\"toc-item\"><li><span><a href=\"#Добавим-цену-за-кв.-метр,-столбцы-с-днем-недели,-месяцем-и-годом-в-датасет\" data-toc-modified-id=\"Добавим-цену-за-кв.-метр,-столбцы-с-днем-недели,-месяцем-и-годом-в-датасет-3.1\"><span class=\"toc-item-num\">3.1&nbsp;&nbsp;</span>Добавим цену за кв. метр, столбцы с днем недели, месяцем и годом в датасет</a></span></li><li><span><a href=\"#Этаж-квартиры\" data-toc-modified-id=\"Этаж-квартиры-3.2\"><span class=\"toc-item-num\">3.2&nbsp;&nbsp;</span>Этаж квартиры</a></span></li><li><span><a href=\"#Отношение-жилой-площади-к-общей\" data-toc-modified-id=\"Отношение-жилой-площади-к-общей-3.3\"><span class=\"toc-item-num\">3.3&nbsp;&nbsp;</span>Отношение жилой площади к общей</a></span></li><li><span><a href=\"#Отношение-площади-кухни-к-общей\" data-toc-modified-id=\"Отношение-площади-кухни-к-общей-3.4\"><span class=\"toc-item-num\">3.4&nbsp;&nbsp;</span>Отношение площади кухни к общей</a></span></li></ul></li><li><span><a href=\"#Исследовательский-анализ-данных\" data-toc-modified-id=\"Исследовательский-анализ-данных-4\"><span class=\"toc-item-num\">4&nbsp;&nbsp;</span>Исследовательский анализ данных</a></span><ul class=\"toc-item\"><li><span><a href=\"#Гистограммы-распределения-Общей-площади-,-Цены-,-Комнат-,-Высоты-потолков\" data-toc-modified-id=\"Гистограммы-распределения-Общей-площади-,-Цены-,-Комнат-,-Высоты-потолков-4.1\"><span class=\"toc-item-num\">4.1&nbsp;&nbsp;</span>Гистограммы распределения Общей площади , Цены , Комнат , Высоты потолков</a></span></li><li><span><a href=\"#Рассмотрим-распределение-времени-продаж\" data-toc-modified-id=\"Рассмотрим-распределение-времени-продаж-4.2\"><span class=\"toc-item-num\">4.2&nbsp;&nbsp;</span>Рассмотрим распределение времени продаж</a></span></li><li><span><a href=\"#Проблемы-с-ценами\" data-toc-modified-id=\"Проблемы-с-ценами-4.3\"><span class=\"toc-item-num\">4.3&nbsp;&nbsp;</span>Проблемы с ценами</a></span></li><li><span><a href=\"#Посмотрим,-как-стоимость-Квартиры-зависит-от-площади-,-числа-комнат-,-удалённости-от-центра\" data-toc-modified-id=\"Посмотрим,-как-стоимость-Квартиры-зависит-от-площади-,-числа-комнат-,-удалённости-от-центра-4.4\"><span class=\"toc-item-num\">4.4&nbsp;&nbsp;</span>Посмотрим, как стоимость Квартиры зависит от площади , числа комнат , удалённости от центра</a></span></li><li><span><a href=\"#Рассмотрим-как-зависит-стоимость-квартиры-от-этажа\" data-toc-modified-id=\"Рассмотрим-как-зависит-стоимость-квартиры-от-этажа-4.5\"><span class=\"toc-item-num\">4.5&nbsp;&nbsp;</span>Рассмотрим как зависит стоимость квартиры от этажа</a></span></li><li><span><a href=\"#Рассмотрим-как-зависит-стоимость-квартиры-от-даты-размещения:-дня-недели,-месяца-и-года.\" data-toc-modified-id=\"Рассмотрим-как-зависит-стоимость-квартиры-от-даты-размещения:-дня-недели,-месяца-и-года.-4.6\"><span class=\"toc-item-num\">4.6&nbsp;&nbsp;</span>Рассмотрим как зависит стоимость квартиры от даты размещения: дня недели, месяца и года.</a></span></li><li><span><a href=\"#10-населенных-пунктов-с-самой-высокой-стоимостью-кв.-метра\" data-toc-modified-id=\"10-населенных-пунктов-с-самой-высокой-стоимостью-кв.-метра-4.7\"><span class=\"toc-item-num\">4.7&nbsp;&nbsp;</span>10 населенных пунктов с самой высокой стоимостью кв. метра</a></span></li><li><span><a href=\"#Стоимость-квартир-в-центре\" data-toc-modified-id=\"Стоимость-квартир-в-центре-4.8\"><span class=\"toc-item-num\">4.8&nbsp;&nbsp;</span>Стоимость квартир в центре</a></span></li><li><span><a href=\"#Анализ-квартир-в-центре\" data-toc-modified-id=\"Анализ-квартир-в-центре-4.9\"><span class=\"toc-item-num\">4.9&nbsp;&nbsp;</span>Анализ квартир в центре</a></span></li><li><span><a href=\"#Выясним-какие-факторы-влияют-на-стоимость-квартиры-в-центре-(число-комнат,-этаж,-удалённость-от-центра,-дата-размещения-объявления)-и-сравним-с-выводом-по-всем-квартирам\" data-toc-modified-id=\"Выясним-какие-факторы-влияют-на-стоимость-квартиры-в-центре-(число-комнат,-этаж,-удалённость-от-центра,-дата-размещения-объявления)-и-сравним-с-выводом-по-всем-квартирам-4.10\"><span class=\"toc-item-num\">4.10&nbsp;&nbsp;</span>Выясним какие факторы влияют на стоимость квартиры в центре (число комнат, этаж, удалённость от центра, дата размещения объявления) и сравним с выводом по всем квартирам</a></span></li><li><span><a href=\"#Зависимость-от-даты\" data-toc-modified-id=\"Зависимость-от-даты-4.11\"><span class=\"toc-item-num\">4.11&nbsp;&nbsp;</span>Зависимость от даты</a></span></li></ul></li><li><span><a href=\"#Общий-вывод\" data-toc-modified-id=\"Общий-вывод-5\"><span class=\"toc-item-num\">5&nbsp;&nbsp;</span>Общий вывод</a></span></li><li><span><a href=\"#Чек-лист-готовности-проекта\" data-toc-modified-id=\"Чек-лист-готовности-проекта-6\"><span class=\"toc-item-num\">6&nbsp;&nbsp;</span>Чек-лист готовности проекта</a></span></li></ul></div>"
   ]
  },
  {
   "cell_type": "markdown",
   "metadata": {},
   "source": [
    "# Исследование объявлений о продаже квартир\n",
    "\n",
    "В вашем распоряжении данные сервиса Яндекс.Недвижимость — архив объявлений о продаже квартир в Санкт-Петербурге и соседних населённых пунктах за несколько лет. Нужно научиться определять рыночную стоимость объектов недвижимости. Ваша задача — установить параметры. Это позволит построить автоматизированную систему: она отследит аномалии и мошенническую деятельность. \n",
    "\n",
    "По каждой квартире на продажу доступны два вида данных. Первые вписаны пользователем, вторые получены автоматически на основе картографических данных. Например, расстояние до центра, аэропорта, ближайшего парка и водоёма. "
   ]
  },
  {
   "cell_type": "markdown",
   "metadata": {},
   "source": [
    "## Изучение данных из файла"
   ]
  },
  {
   "cell_type": "code",
   "execution_count": 1,
   "metadata": {},
   "outputs": [
    {
     "data": {
      "text/html": [
       "<div>\n",
       "<style scoped>\n",
       "    .dataframe tbody tr th:only-of-type {\n",
       "        vertical-align: middle;\n",
       "    }\n",
       "\n",
       "    .dataframe tbody tr th {\n",
       "        vertical-align: top;\n",
       "    }\n",
       "\n",
       "    .dataframe thead th {\n",
       "        text-align: right;\n",
       "    }\n",
       "</style>\n",
       "<table border=\"1\" class=\"dataframe\">\n",
       "  <thead>\n",
       "    <tr style=\"text-align: right;\">\n",
       "      <th></th>\n",
       "      <th>total_images</th>\n",
       "      <th>last_price</th>\n",
       "      <th>total_area</th>\n",
       "      <th>first_day_exposition</th>\n",
       "      <th>rooms</th>\n",
       "      <th>ceiling_height</th>\n",
       "      <th>floors_total</th>\n",
       "      <th>living_area</th>\n",
       "      <th>floor</th>\n",
       "      <th>is_apartment</th>\n",
       "      <th>...</th>\n",
       "      <th>kitchen_area</th>\n",
       "      <th>balcony</th>\n",
       "      <th>locality_name</th>\n",
       "      <th>airports_nearest</th>\n",
       "      <th>cityCenters_nearest</th>\n",
       "      <th>parks_around3000</th>\n",
       "      <th>parks_nearest</th>\n",
       "      <th>ponds_around3000</th>\n",
       "      <th>ponds_nearest</th>\n",
       "      <th>days_exposition</th>\n",
       "    </tr>\n",
       "  </thead>\n",
       "  <tbody>\n",
       "    <tr>\n",
       "      <td>0</td>\n",
       "      <td>20</td>\n",
       "      <td>13000000.0</td>\n",
       "      <td>108.00</td>\n",
       "      <td>2019-03-07T00:00:00</td>\n",
       "      <td>3</td>\n",
       "      <td>2.70</td>\n",
       "      <td>16.0</td>\n",
       "      <td>51.0</td>\n",
       "      <td>8</td>\n",
       "      <td>NaN</td>\n",
       "      <td>...</td>\n",
       "      <td>25.00</td>\n",
       "      <td>NaN</td>\n",
       "      <td>Санкт-Петербург</td>\n",
       "      <td>18863.0</td>\n",
       "      <td>16028.0</td>\n",
       "      <td>1.0</td>\n",
       "      <td>482.0</td>\n",
       "      <td>2.0</td>\n",
       "      <td>755.0</td>\n",
       "      <td>NaN</td>\n",
       "    </tr>\n",
       "    <tr>\n",
       "      <td>1</td>\n",
       "      <td>7</td>\n",
       "      <td>3350000.0</td>\n",
       "      <td>40.40</td>\n",
       "      <td>2018-12-04T00:00:00</td>\n",
       "      <td>1</td>\n",
       "      <td>NaN</td>\n",
       "      <td>11.0</td>\n",
       "      <td>18.6</td>\n",
       "      <td>1</td>\n",
       "      <td>NaN</td>\n",
       "      <td>...</td>\n",
       "      <td>11.00</td>\n",
       "      <td>2.0</td>\n",
       "      <td>посёлок Шушары</td>\n",
       "      <td>12817.0</td>\n",
       "      <td>18603.0</td>\n",
       "      <td>0.0</td>\n",
       "      <td>NaN</td>\n",
       "      <td>0.0</td>\n",
       "      <td>NaN</td>\n",
       "      <td>81.0</td>\n",
       "    </tr>\n",
       "    <tr>\n",
       "      <td>2</td>\n",
       "      <td>10</td>\n",
       "      <td>5196000.0</td>\n",
       "      <td>56.00</td>\n",
       "      <td>2015-08-20T00:00:00</td>\n",
       "      <td>2</td>\n",
       "      <td>NaN</td>\n",
       "      <td>5.0</td>\n",
       "      <td>34.3</td>\n",
       "      <td>4</td>\n",
       "      <td>NaN</td>\n",
       "      <td>...</td>\n",
       "      <td>8.30</td>\n",
       "      <td>0.0</td>\n",
       "      <td>Санкт-Петербург</td>\n",
       "      <td>21741.0</td>\n",
       "      <td>13933.0</td>\n",
       "      <td>1.0</td>\n",
       "      <td>90.0</td>\n",
       "      <td>2.0</td>\n",
       "      <td>574.0</td>\n",
       "      <td>558.0</td>\n",
       "    </tr>\n",
       "    <tr>\n",
       "      <td>3</td>\n",
       "      <td>0</td>\n",
       "      <td>64900000.0</td>\n",
       "      <td>159.00</td>\n",
       "      <td>2015-07-24T00:00:00</td>\n",
       "      <td>3</td>\n",
       "      <td>NaN</td>\n",
       "      <td>14.0</td>\n",
       "      <td>NaN</td>\n",
       "      <td>9</td>\n",
       "      <td>NaN</td>\n",
       "      <td>...</td>\n",
       "      <td>NaN</td>\n",
       "      <td>0.0</td>\n",
       "      <td>Санкт-Петербург</td>\n",
       "      <td>28098.0</td>\n",
       "      <td>6800.0</td>\n",
       "      <td>2.0</td>\n",
       "      <td>84.0</td>\n",
       "      <td>3.0</td>\n",
       "      <td>234.0</td>\n",
       "      <td>424.0</td>\n",
       "    </tr>\n",
       "    <tr>\n",
       "      <td>4</td>\n",
       "      <td>2</td>\n",
       "      <td>10000000.0</td>\n",
       "      <td>100.00</td>\n",
       "      <td>2018-06-19T00:00:00</td>\n",
       "      <td>2</td>\n",
       "      <td>3.03</td>\n",
       "      <td>14.0</td>\n",
       "      <td>32.0</td>\n",
       "      <td>13</td>\n",
       "      <td>NaN</td>\n",
       "      <td>...</td>\n",
       "      <td>41.00</td>\n",
       "      <td>NaN</td>\n",
       "      <td>Санкт-Петербург</td>\n",
       "      <td>31856.0</td>\n",
       "      <td>8098.0</td>\n",
       "      <td>2.0</td>\n",
       "      <td>112.0</td>\n",
       "      <td>1.0</td>\n",
       "      <td>48.0</td>\n",
       "      <td>121.0</td>\n",
       "    </tr>\n",
       "    <tr>\n",
       "      <td>...</td>\n",
       "      <td>...</td>\n",
       "      <td>...</td>\n",
       "      <td>...</td>\n",
       "      <td>...</td>\n",
       "      <td>...</td>\n",
       "      <td>...</td>\n",
       "      <td>...</td>\n",
       "      <td>...</td>\n",
       "      <td>...</td>\n",
       "      <td>...</td>\n",
       "      <td>...</td>\n",
       "      <td>...</td>\n",
       "      <td>...</td>\n",
       "      <td>...</td>\n",
       "      <td>...</td>\n",
       "      <td>...</td>\n",
       "      <td>...</td>\n",
       "      <td>...</td>\n",
       "      <td>...</td>\n",
       "      <td>...</td>\n",
       "      <td>...</td>\n",
       "    </tr>\n",
       "    <tr>\n",
       "      <td>23694</td>\n",
       "      <td>9</td>\n",
       "      <td>9700000.0</td>\n",
       "      <td>133.81</td>\n",
       "      <td>2017-03-21T00:00:00</td>\n",
       "      <td>3</td>\n",
       "      <td>3.70</td>\n",
       "      <td>5.0</td>\n",
       "      <td>73.3</td>\n",
       "      <td>3</td>\n",
       "      <td>NaN</td>\n",
       "      <td>...</td>\n",
       "      <td>13.83</td>\n",
       "      <td>NaN</td>\n",
       "      <td>Санкт-Петербург</td>\n",
       "      <td>24665.0</td>\n",
       "      <td>4232.0</td>\n",
       "      <td>1.0</td>\n",
       "      <td>796.0</td>\n",
       "      <td>3.0</td>\n",
       "      <td>381.0</td>\n",
       "      <td>NaN</td>\n",
       "    </tr>\n",
       "    <tr>\n",
       "      <td>23695</td>\n",
       "      <td>14</td>\n",
       "      <td>3100000.0</td>\n",
       "      <td>59.00</td>\n",
       "      <td>2018-01-15T00:00:00</td>\n",
       "      <td>3</td>\n",
       "      <td>NaN</td>\n",
       "      <td>5.0</td>\n",
       "      <td>38.0</td>\n",
       "      <td>4</td>\n",
       "      <td>NaN</td>\n",
       "      <td>...</td>\n",
       "      <td>8.50</td>\n",
       "      <td>NaN</td>\n",
       "      <td>Тосно</td>\n",
       "      <td>NaN</td>\n",
       "      <td>NaN</td>\n",
       "      <td>NaN</td>\n",
       "      <td>NaN</td>\n",
       "      <td>NaN</td>\n",
       "      <td>NaN</td>\n",
       "      <td>45.0</td>\n",
       "    </tr>\n",
       "    <tr>\n",
       "      <td>23696</td>\n",
       "      <td>18</td>\n",
       "      <td>2500000.0</td>\n",
       "      <td>56.70</td>\n",
       "      <td>2018-02-11T00:00:00</td>\n",
       "      <td>2</td>\n",
       "      <td>NaN</td>\n",
       "      <td>3.0</td>\n",
       "      <td>29.7</td>\n",
       "      <td>1</td>\n",
       "      <td>NaN</td>\n",
       "      <td>...</td>\n",
       "      <td>NaN</td>\n",
       "      <td>NaN</td>\n",
       "      <td>село Рождествено</td>\n",
       "      <td>NaN</td>\n",
       "      <td>NaN</td>\n",
       "      <td>NaN</td>\n",
       "      <td>NaN</td>\n",
       "      <td>NaN</td>\n",
       "      <td>NaN</td>\n",
       "      <td>NaN</td>\n",
       "    </tr>\n",
       "    <tr>\n",
       "      <td>23697</td>\n",
       "      <td>13</td>\n",
       "      <td>11475000.0</td>\n",
       "      <td>76.75</td>\n",
       "      <td>2017-03-28T00:00:00</td>\n",
       "      <td>2</td>\n",
       "      <td>3.00</td>\n",
       "      <td>17.0</td>\n",
       "      <td>NaN</td>\n",
       "      <td>12</td>\n",
       "      <td>NaN</td>\n",
       "      <td>...</td>\n",
       "      <td>23.30</td>\n",
       "      <td>2.0</td>\n",
       "      <td>Санкт-Петербург</td>\n",
       "      <td>39140.0</td>\n",
       "      <td>10364.0</td>\n",
       "      <td>2.0</td>\n",
       "      <td>173.0</td>\n",
       "      <td>3.0</td>\n",
       "      <td>196.0</td>\n",
       "      <td>602.0</td>\n",
       "    </tr>\n",
       "    <tr>\n",
       "      <td>23698</td>\n",
       "      <td>4</td>\n",
       "      <td>1350000.0</td>\n",
       "      <td>32.30</td>\n",
       "      <td>2017-07-21T00:00:00</td>\n",
       "      <td>1</td>\n",
       "      <td>2.50</td>\n",
       "      <td>5.0</td>\n",
       "      <td>12.3</td>\n",
       "      <td>1</td>\n",
       "      <td>NaN</td>\n",
       "      <td>...</td>\n",
       "      <td>9.00</td>\n",
       "      <td>NaN</td>\n",
       "      <td>поселок Новый Учхоз</td>\n",
       "      <td>NaN</td>\n",
       "      <td>NaN</td>\n",
       "      <td>NaN</td>\n",
       "      <td>NaN</td>\n",
       "      <td>NaN</td>\n",
       "      <td>NaN</td>\n",
       "      <td>NaN</td>\n",
       "    </tr>\n",
       "  </tbody>\n",
       "</table>\n",
       "<p>23699 rows × 22 columns</p>\n",
       "</div>"
      ],
      "text/plain": [
       "       total_images  last_price  total_area first_day_exposition  rooms  \\\n",
       "0                20  13000000.0      108.00  2019-03-07T00:00:00      3   \n",
       "1                 7   3350000.0       40.40  2018-12-04T00:00:00      1   \n",
       "2                10   5196000.0       56.00  2015-08-20T00:00:00      2   \n",
       "3                 0  64900000.0      159.00  2015-07-24T00:00:00      3   \n",
       "4                 2  10000000.0      100.00  2018-06-19T00:00:00      2   \n",
       "...             ...         ...         ...                  ...    ...   \n",
       "23694             9   9700000.0      133.81  2017-03-21T00:00:00      3   \n",
       "23695            14   3100000.0       59.00  2018-01-15T00:00:00      3   \n",
       "23696            18   2500000.0       56.70  2018-02-11T00:00:00      2   \n",
       "23697            13  11475000.0       76.75  2017-03-28T00:00:00      2   \n",
       "23698             4   1350000.0       32.30  2017-07-21T00:00:00      1   \n",
       "\n",
       "       ceiling_height  floors_total  living_area  floor is_apartment  ...  \\\n",
       "0                2.70          16.0         51.0      8          NaN  ...   \n",
       "1                 NaN          11.0         18.6      1          NaN  ...   \n",
       "2                 NaN           5.0         34.3      4          NaN  ...   \n",
       "3                 NaN          14.0          NaN      9          NaN  ...   \n",
       "4                3.03          14.0         32.0     13          NaN  ...   \n",
       "...               ...           ...          ...    ...          ...  ...   \n",
       "23694            3.70           5.0         73.3      3          NaN  ...   \n",
       "23695             NaN           5.0         38.0      4          NaN  ...   \n",
       "23696             NaN           3.0         29.7      1          NaN  ...   \n",
       "23697            3.00          17.0          NaN     12          NaN  ...   \n",
       "23698            2.50           5.0         12.3      1          NaN  ...   \n",
       "\n",
       "       kitchen_area  balcony        locality_name  airports_nearest  \\\n",
       "0             25.00      NaN      Санкт-Петербург           18863.0   \n",
       "1             11.00      2.0       посёлок Шушары           12817.0   \n",
       "2              8.30      0.0      Санкт-Петербург           21741.0   \n",
       "3               NaN      0.0      Санкт-Петербург           28098.0   \n",
       "4             41.00      NaN      Санкт-Петербург           31856.0   \n",
       "...             ...      ...                  ...               ...   \n",
       "23694         13.83      NaN      Санкт-Петербург           24665.0   \n",
       "23695          8.50      NaN                Тосно               NaN   \n",
       "23696           NaN      NaN     село Рождествено               NaN   \n",
       "23697         23.30      2.0      Санкт-Петербург           39140.0   \n",
       "23698          9.00      NaN  поселок Новый Учхоз               NaN   \n",
       "\n",
       "      cityCenters_nearest  parks_around3000  parks_nearest  ponds_around3000  \\\n",
       "0                 16028.0               1.0          482.0               2.0   \n",
       "1                 18603.0               0.0            NaN               0.0   \n",
       "2                 13933.0               1.0           90.0               2.0   \n",
       "3                  6800.0               2.0           84.0               3.0   \n",
       "4                  8098.0               2.0          112.0               1.0   \n",
       "...                   ...               ...            ...               ...   \n",
       "23694              4232.0               1.0          796.0               3.0   \n",
       "23695                 NaN               NaN            NaN               NaN   \n",
       "23696                 NaN               NaN            NaN               NaN   \n",
       "23697             10364.0               2.0          173.0               3.0   \n",
       "23698                 NaN               NaN            NaN               NaN   \n",
       "\n",
       "       ponds_nearest  days_exposition  \n",
       "0              755.0              NaN  \n",
       "1                NaN             81.0  \n",
       "2              574.0            558.0  \n",
       "3              234.0            424.0  \n",
       "4               48.0            121.0  \n",
       "...              ...              ...  \n",
       "23694          381.0              NaN  \n",
       "23695            NaN             45.0  \n",
       "23696            NaN              NaN  \n",
       "23697          196.0            602.0  \n",
       "23698            NaN              NaN  \n",
       "\n",
       "[23699 rows x 22 columns]"
      ]
     },
     "metadata": {},
     "output_type": "display_data"
    },
    {
     "name": "stdout",
     "output_type": "stream",
     "text": [
      "Проценты NaN в Датасете:\n",
      "total_images             0\n",
      "last_price               0\n",
      "total_area               0\n",
      "first_day_exposition     0\n",
      "rooms                    0\n",
      "ceiling_height          38\n",
      "floors_total             0\n",
      "living_area              8\n",
      "floor                    0\n",
      "is_apartment            88\n",
      "studio                   0\n",
      "open_plan                0\n",
      "kitchen_area             9\n",
      "balcony                 48\n",
      "locality_name            0\n",
      "airports_nearest        23\n",
      "cityCenters_nearest     23\n",
      "parks_around3000        23\n",
      "parks_nearest           65\n",
      "ponds_around3000        23\n",
      "ponds_nearest           61\n",
      "days_exposition         13\n",
      "dtype: int64\n"
     ]
    }
   ],
   "source": [
    "import pandas as pd\n",
    "import matplotlib.pyplot as plt\n",
    "from IPython.display import display\n",
    "import numpy as np\n",
    "import seaborn as sns\n",
    "df = pd.read_csv('/datasets/real_estate_data.csv', sep='\\t')\n",
    "display(df)\n",
    "is_nan = (df.isnull().sum()*100/len(df)).astype(int)\n",
    "print(f'Проценты NaN в Датасете:\\n{is_nan}')"
   ]
  },
  {
   "cell_type": "markdown",
   "metadata": {},
   "source": [
    "<div class=\"alert alert-warning\">\n",
    "    <h2> Комментарий ревьюера <a class=\"tocSkip\"> </h2>\n",
    "    \n",
    "<b>Некоторые замечания и рекомендации💡:</b> \n",
    "        \n",
    "Никита,\n",
    "        \n",
    "для импорта данных рекомендую использовать конструкцию `try-except`, она поможет избежать потенциальных ошибок при загрузке данных, связанных, например, с некорректным указанием путей.\n",
    "        \n",
    "Подробнее о конструкции по ссылке:\n",
    "        \n",
    "https://pythonworld.ru/tipy-dannyx-v-python/isklyucheniya-v-python-konstrukciya-try-except-dlya-obrabotki-isklyuchenij.html\n",
    "        \n",
    "Либо же можно использовать стандартную библиотеку os:\n",
    "        \n",
    "https://pythonworld.ru/moduli/modul-os.html\n",
    "\n",
    "    \n",
    "Несколько интересных статей кейсы использования конструкции:\n",
    "    \n",
    "https://www.programiz.com/python-programming/exception-handling\n",
    "    \n",
    "https://towardsdatascience.com/do-not-abuse-try-except-in-python-d9b8ee59e23b\n",
    "    \n",
    "https://www.techbeamers.com/use-try-except-python/"
   ]
  },
  {
   "cell_type": "markdown",
   "metadata": {},
   "source": [
    "<div class=\"alert alert-warning\">\n",
    "    <h2> Комментарий ревьюера <a class=\"tocSkip\"> </h2>\n",
    "    \n",
    "<b>Некоторые замечания и рекомендации💡:</b> \n",
    "    \n",
    "Перед тем, как приступать к предобработке, важно проверить пропуски в данных. Ты попробовал посмотреть на процент пропусков в одной колонке, но можно посмотреть на всю картинку целиком, т.е. проверить процент пропусков во всех колонках одновременно. Для этого можно использовать такие варианты кода:\n",
    "    \n",
    "`data.isna().sum()*100/len(data)`\n",
    "        \n",
    "или так:\n",
    "        \n",
    "`df.isna().mean()`\n",
    "        \n",
    "вот так тоже получится красиво:\n",
    "        \n",
    "`pd.DataFrame(round((data.isna().mean()*100),2)).style.background_gradient('coolwarm')`\n",
    "\n",
    "более длинный с точки зрения кода вариант, но  тоже информативный:\n",
    "    \n",
    "`report = data.isna().sum().to_frame()\n",
    "report = report.rename(columns = {0: 'missing_values'})\n",
    "report['% of total'] = (100 * report['missing_values'] / data.shape[0]).round(2)\n",
    "report.sort_values(by = 'missing_values', ascending = False)`\n",
    "    \n",
    "Это полезное действие при подборе стратегии заполнения пропусков: обычно, если в данных кол-во пропусков превышает 10%, восполнение пропусков результатами выполнения стандартных операций типа расчета среднего/медианы по столбцу, может привести к искажению данных. Если мы сталкиваемся с такой ситуацией, то важно подумать и подобрать более сложную восполнения пропусков в данных.\n",
    "        \n",
    "Помимо этих методов, есть библиотека Pyhton sidetable, в ней есть специальный метод, который выводит таблицу, похожую на ту, что дает последний кусок кода из моего комментария. Оставлю ссылку на библиотеку, если будет время, можно попробовать изучить подробнее:\n",
    "    \n",
    "https://github.com/chris1610/sidetable#missing\n",
    "    \n",
    "https://pbpython.com/sidetable.html"
   ]
  },
  {
   "cell_type": "markdown",
   "metadata": {},
   "source": [
    "<div class=\"alert alert-warning\">\n",
    "    <h2> Комментарий ревьюера <a class=\"tocSkip\"> </h2>\n",
    "    \n",
    "<b>Некоторые замечания и рекомендации💡:</b> \n",
    "        \n",
    "И в целом, важно оценивать не только кол-во, но и процент пропусков. Что касается методов: корректнее использовать `isna()`, а `isnull()`:\n",
    "        \n",
    "https://stackoverflow.com/questions/52086574/pandas-isna-and-isnull-what-is-the-difference\n",
    "        \n",
    "https://www.stackvidhya.com/pandas-isna-vs-isnull/"
   ]
  },
  {
   "cell_type": "markdown",
   "metadata": {},
   "source": [
    "\n",
    "<div class=\"alert alert-success\">\n",
    "<h2> Комментарий ревьюера:вторая итерация ревью <a class=\"tocSkip\"> </h2>\n",
    "\n",
    "<b>Все отлично!👍:</b> \n",
    "    \n",
    "Здорово, что попробовал проверить процент пропусков в данных.\n",
    "</div>"
   ]
  },
  {
   "cell_type": "code",
   "execution_count": 2,
   "metadata": {},
   "outputs": [
    {
     "name": "stdout",
     "output_type": "stream",
     "text": [
      "<class 'pandas.core.frame.DataFrame'>\n",
      "RangeIndex: 23699 entries, 0 to 23698\n",
      "Data columns (total 22 columns):\n",
      "total_images            23699 non-null int64\n",
      "last_price              23699 non-null float64\n",
      "total_area              23699 non-null float64\n",
      "first_day_exposition    23699 non-null object\n",
      "rooms                   23699 non-null int64\n",
      "ceiling_height          14504 non-null float64\n",
      "floors_total            23613 non-null float64\n",
      "living_area             21796 non-null float64\n",
      "floor                   23699 non-null int64\n",
      "is_apartment            2775 non-null object\n",
      "studio                  23699 non-null bool\n",
      "open_plan               23699 non-null bool\n",
      "kitchen_area            21421 non-null float64\n",
      "balcony                 12180 non-null float64\n",
      "locality_name           23650 non-null object\n",
      "airports_nearest        18157 non-null float64\n",
      "cityCenters_nearest     18180 non-null float64\n",
      "parks_around3000        18181 non-null float64\n",
      "parks_nearest           8079 non-null float64\n",
      "ponds_around3000        18181 non-null float64\n",
      "ponds_nearest           9110 non-null float64\n",
      "days_exposition         20518 non-null float64\n",
      "dtypes: bool(2), float64(14), int64(3), object(3)\n",
      "memory usage: 3.7+ MB\n"
     ]
    }
   ],
   "source": [
    "df.info()"
   ]
  },
  {
   "cell_type": "code",
   "execution_count": 3,
   "metadata": {},
   "outputs": [
    {
     "data": {
      "text/plain": [
       "total_images                0\n",
       "last_price                  0\n",
       "total_area                  0\n",
       "first_day_exposition        0\n",
       "rooms                       0\n",
       "ceiling_height           9195\n",
       "floors_total               86\n",
       "living_area              1903\n",
       "floor                       0\n",
       "is_apartment            20924\n",
       "studio                      0\n",
       "open_plan                   0\n",
       "kitchen_area             2278\n",
       "balcony                 11519\n",
       "locality_name              49\n",
       "airports_nearest         5542\n",
       "cityCenters_nearest      5519\n",
       "parks_around3000         5518\n",
       "parks_nearest           15620\n",
       "ponds_around3000         5518\n",
       "ponds_nearest           14589\n",
       "days_exposition          3181\n",
       "dtype: int64"
      ]
     },
     "execution_count": 3,
     "metadata": {},
     "output_type": "execute_result"
    }
   ],
   "source": [
    "df.isnull().sum()"
   ]
  },
  {
   "cell_type": "code",
   "execution_count": 4,
   "metadata": {},
   "outputs": [
    {
     "name": "stdout",
     "output_type": "stream",
     "text": [
      "Количество дубликатов: 0\n",
      "Количество квартир без комнат и не студии: 59\n"
     ]
    }
   ],
   "source": [
    "print(\"Количество дубликатов:\", df.duplicated().sum())\n",
    "print(\"Количество квартир без комнат и не студии:\", df[(df.rooms == 0) & (df.studio == False)]['total_area'].value_counts().sum())"
   ]
  },
  {
   "cell_type": "markdown",
   "metadata": {},
   "source": [
    "### Вывод"
   ]
  },
  {
   "cell_type": "markdown",
   "metadata": {},
   "source": [
    "Есть проблемы в названии стольбцов(cityCenters_nearest, parks_around3000, ponds_around3000). Нужно first_day_exposition привести к временному формату. float перевести в int.\n",
    "is_apartment - имеет огромное количество NaN, больше 80%. Скорее всего данные автозаполнялись, либо люди не указывали тип помещения. И это не единственный столбец с таким количеством пропусков. Пропуски будут заполняться по типу данных, где-то false, где-то 0, некоторые медианами. Есть аномалии в квартирах(0 комнат и не студии). Дубликатов нет."
   ]
  },
  {
   "cell_type": "markdown",
   "metadata": {},
   "source": [
    "## Предобработка данных"
   ]
  },
  {
   "cell_type": "markdown",
   "metadata": {},
   "source": [
    "### Переименование и обрыботка выбросов"
   ]
  },
  {
   "cell_type": "code",
   "execution_count": 5,
   "metadata": {},
   "outputs": [],
   "source": [
    "df.rename(columns={'cityCenters_nearest': 'city_centers_nearest', 'parks_around3000': 'parks_around', 'ponds_around3000': 'ponds_around'}, inplace=True)"
   ]
  },
  {
   "cell_type": "code",
   "execution_count": 6,
   "metadata": {},
   "outputs": [
    {
     "data": {
      "text/plain": [
       "total_images                0\n",
       "last_price                  0\n",
       "total_area                  0\n",
       "first_day_exposition        0\n",
       "rooms                       0\n",
       "ceiling_height           9195\n",
       "floors_total               86\n",
       "living_area              1903\n",
       "floor                       0\n",
       "is_apartment            20924\n",
       "studio                      0\n",
       "open_plan                   0\n",
       "kitchen_area             2278\n",
       "balcony                 11519\n",
       "locality_name              49\n",
       "airports_nearest         5542\n",
       "city_centers_nearest     5519\n",
       "parks_around             5518\n",
       "parks_nearest           15620\n",
       "ponds_around             5518\n",
       "ponds_nearest           14589\n",
       "days_exposition          3181\n",
       "dtype: int64"
      ]
     },
     "execution_count": 6,
     "metadata": {},
     "output_type": "execute_result"
    }
   ],
   "source": [
    "df.isnull().sum()"
   ]
  },
  {
   "cell_type": "markdown",
   "metadata": {},
   "source": [
    "#### Высота потолков"
   ]
  },
  {
   "cell_type": "code",
   "execution_count": 7,
   "metadata": {},
   "outputs": [
    {
     "data": {
      "image/png": "[encoded data removed]",
      "text/plain": [
       "<Figure size 216x504 with 1 Axes>"
      ]
     },
     "metadata": {
      "needs_background": "light"
     },
     "output_type": "display_data"
    }
   ],
   "source": [
    "df.boxplot([\"ceiling_height\"], figsize=(3,7), fontsize=10)\n",
    "plt.ylabel(\"metres\", fontsize=10)\n",
    "plt.show()"
   ]
  },
  {
   "cell_type": "code",
   "execution_count": 8,
   "metadata": {},
   "outputs": [
    {
     "name": "stdout",
     "output_type": "stream",
     "text": [
      "154        4.15\n",
      "355       25.00\n",
      "464        5.20\n",
      "1026       5.30\n",
      "1053       5.00\n",
      "          ...  \n",
      "22309     10.30\n",
      "22336     32.00\n",
      "22494      4.20\n",
      "22869    100.00\n",
      "22938     27.00\n",
      "Name: ceiling_height, Length: 75, dtype: float64\n",
      "\n",
      "\n",
      "5712     1.20\n",
      "16934    1.75\n",
      "22590    1.00\n",
      "Name: ceiling_height, dtype: float64\n"
     ]
    }
   ],
   "source": [
    "print(df[df['ceiling_height'] > 4]['ceiling_height'])\n",
    "print()\n",
    "print()\n",
    "print(df[df['ceiling_height'] < 2]['ceiling_height'])"
   ]
  },
  {
   "cell_type": "markdown",
   "metadata": {},
   "source": [
    "Здесь видны аномально высокие и низкие потолки. очень высокие, дропнем, но сначала попробуем сохранить их часть, может быть люди случайно дописали вторую цифру или при наборе не поставили запятую после первой цифры."
   ]
  },
  {
   "cell_type": "code",
   "execution_count": 9,
   "metadata": {
    "scrolled": true
   },
   "outputs": [
    {
     "data": {
      "image/png": "[encoded data removed]",
      "text/plain": [
       "<Figure size 216x504 with 1 Axes>"
      ]
     },
     "metadata": {
      "needs_background": "light"
     },
     "output_type": "display_data"
    }
   ],
   "source": [
    "df['ceiling_height'] = df['ceiling_height'].apply(lambda x: x if (x < 20) else x/10)\n",
    "df.boxplot([\"ceiling_height\"], figsize=(3,7), fontsize=10)\n",
    "plt.ylabel(\"metres\", fontsize=10)\n",
    "plt.show()"
   ]
  },
  {
   "cell_type": "code",
   "execution_count": 10,
   "metadata": {},
   "outputs": [],
   "source": [
    "df.drop(df[df.ceiling_height > 3.5].index, inplace=True)\n",
    "df.drop(df[df.ceiling_height < 2].index, inplace=True)"
   ]
  },
  {
   "cell_type": "markdown",
   "metadata": {},
   "source": [
    "<div class=\"alert alert-block alert-danger\">\n",
    "<h2> Комментарий ревьюера <a class=\"tocSkip\"></h2>\n",
    "\n",
    "    \n",
    "<b>На доработку🤔:</b>\n",
    "        \n",
    "Здесь сразу замечание по логике анализа: насчет того, что люди не могли поставить запятую в цифре высоты потолка - соглашусь, но насчет того, что нам нужно выбрасывать значения выше 3.5 и ниже 2 - спорно. Кроме того, в этом проекте есть специальный шаг для работы с выбросами, для обнаружения которых используются специальные методы (IQR, диаграммы ящик с усами, ниже ты используешь боксплоты, это верно), на этапе предобработки стоит уделить внимание предобработке пропусков, типов данных etc. Логика выполнения шагов важна, инструкция приучает вас, будущих специалистов, к так называемому формут ТЗ, когда выстроена последовательность шагов выполнения анализа👀🐱‍👤"
   ]
  },
  {
   "cell_type": "markdown",
   "metadata": {},
   "source": [
    "<div class=\"alert alert-block alert-info\">Я отсеял меньше двух метров, но - высота потолка хрущёвок от 2.4 метра, сейчас у домов норма высоты потолка ещё больше - 2.8-3.2 метра, больше редко поднимают. Больше 3.5 уже сложно представить для чего нужно, квартир таких очень мало, они - выбросы или аномалии, так же, как и квартиры меньше 2-х метров.</div>"
   ]
  },
  {
   "cell_type": "markdown",
   "metadata": {},
   "source": [
    "\n",
    "<div class=\"alert alert-success\">\n",
    "<h2> Комментарий ревьюера:вторая итерация ревью <a class=\"tocSkip\"> </h2>\n",
    "\n",
    "<b>Все отлично!👍:</b> \n",
    "    \n",
    "Хорошо, в целом логика в твоей аргументации безусловно есть, я согласна с твоими доводами, единственное замечание было по последовательности шагов. Что касается исключений таких значений - наверно, все же в реальном мире могут встретиться исключения. Не часто, возможно, но могут:)"
   ]
  },
  {
   "attachments": {
    "image.png": {
     "image/png": "[encoded data removed]"
    }
   },
   "cell_type": "markdown",
   "metadata": {},
   "source": [
    "<div class=\"alert alert-block alert-danger\">\n",
    "<h2> Комментарий ревьюера <a class=\"tocSkip\"></h2>\n",
    "\n",
    "    \n",
    "<b>На доработку🤔:</b>\n",
    "    \n",
    "Аномалии должны обрабатываться на шаге ниже.\n",
    "    \n",
    "![image.png](attachment:image.png)"
   ]
  },
  {
   "cell_type": "markdown",
   "metadata": {},
   "source": [
    "<div class=\"alert alert-block alert-info\">Слушаюс и повинуюс.</div>"
   ]
  },
  {
   "cell_type": "markdown",
   "metadata": {},
   "source": [
    "\n",
    "<div class=\"alert alert-success\">\n",
    "<h2> Комментарий ревьюера:вторая итерация ревью <a class=\"tocSkip\"> </h2>\n",
    "\n",
    "<b>Все отлично!👍</b> "
   ]
  },
  {
   "cell_type": "code",
   "execution_count": 11,
   "metadata": {},
   "outputs": [
    {
     "data": {
      "image/png": "[encoded data removed]",
      "text/plain": [
       "<Figure size 216x504 with 1 Axes>"
      ]
     },
     "metadata": {
      "needs_background": "light"
     },
     "output_type": "display_data"
    }
   ],
   "source": [
    "df.boxplot(['last_price'], figsize=(3,7), fontsize=10)\n",
    "plt.ylabel(\"price\", fontsize=10)\n",
    "plt.show()"
   ]
  },
  {
   "cell_type": "markdown",
   "metadata": {},
   "source": [
    "#### Проблемы с площадью"
   ]
  },
  {
   "cell_type": "code",
   "execution_count": 12,
   "metadata": {},
   "outputs": [
    {
     "data": {
      "image/png": "[encoded data removed]",
      "text/plain": [
       "<Figure size 216x504 with 1 Axes>"
      ]
     },
     "metadata": {
      "needs_background": "light"
     },
     "output_type": "display_data"
    }
   ],
   "source": [
    "df.boxplot(['total_area'], figsize=(3,7), fontsize=10)\n",
    "plt.ylabel(\"square metres\", fontsize=20)\n",
    "plt.show()"
   ]
  },
  {
   "cell_type": "code",
   "execution_count": 13,
   "metadata": {},
   "outputs": [
    {
     "name": "stdout",
     "output_type": "stream",
     "text": [
      "Медианное значение площади квартиры : 52\n",
      "Среднее значение площади квартиры : 60\n",
      "Кол-во квартир площадью более 120 кв.м. : 959\n",
      "Кол-во квартир площадью менее 15 кв.м. : 6\n"
     ]
    }
   ],
   "source": [
    "print('Медианное значение площади квартиры : {:.0f}'.format(df['total_area'].median()))\n",
    "print('Среднее значение площади квартиры : {:.0f}'.format(df['total_area'].mean()))\n",
    "print('Кол-во квартир площадью более 120 кв.м. : {}'.format(df[df.total_area > 120]['total_area'].count()))\n",
    "print('Кол-во квартир площадью менее 15 кв.м. : {}'.format(df[df.total_area < 15]['total_area'].count()))"
   ]
  },
  {
   "cell_type": "markdown",
   "metadata": {},
   "source": [
    "Избавимся от аномальных значение"
   ]
  },
  {
   "cell_type": "code",
   "execution_count": 14,
   "metadata": {},
   "outputs": [],
   "source": [
    "df.drop(df[df.total_area > 120].index, inplace=True)\n",
    "df.drop(df[df.total_area < 15].index, inplace=True)"
   ]
  },
  {
   "cell_type": "code",
   "execution_count": 15,
   "metadata": {},
   "outputs": [
    {
     "data": {
      "image/png": "[encoded data removed]",
      "text/plain": [
       "<Figure size 216x504 with 1 Axes>"
      ]
     },
     "metadata": {
      "needs_background": "light"
     },
     "output_type": "display_data"
    }
   ],
   "source": [
    "df.boxplot(['total_area'], figsize=(3,7),  fontsize=10)\n",
    "plt.ylabel(\"square metres\", fontsize=20)\n",
    "plt.show()"
   ]
  },
  {
   "cell_type": "markdown",
   "metadata": {},
   "source": [
    "### Заполнение пропусков"
   ]
  },
  {
   "cell_type": "code",
   "execution_count": 16,
   "metadata": {},
   "outputs": [
    {
     "data": {
      "text/plain": [
       "total_images                0\n",
       "last_price                  0\n",
       "total_area                  0\n",
       "first_day_exposition        0\n",
       "rooms                       0\n",
       "ceiling_height           8861\n",
       "floors_total               82\n",
       "living_area              1773\n",
       "floor                       0\n",
       "is_apartment            19840\n",
       "studio                      0\n",
       "open_plan                   0\n",
       "kitchen_area             2160\n",
       "balcony                 10805\n",
       "locality_name              44\n",
       "airports_nearest         5491\n",
       "city_centers_nearest     5472\n",
       "parks_around             5471\n",
       "parks_nearest           15188\n",
       "ponds_around             5471\n",
       "ponds_nearest           14167\n",
       "days_exposition          2868\n",
       "dtype: int64"
      ]
     },
     "execution_count": 16,
     "metadata": {},
     "output_type": "execute_result"
    }
   ],
   "source": [
    "df.isnull().sum()"
   ]
  },
  {
   "cell_type": "markdown",
   "metadata": {},
   "source": [
    "#### Чем заполнять?\n",
    "\n",
    "1. ceiling_height - Заполним имеющимися данными по существующим домам, остальное будет заполнено медианным значением\n",
    "2. floors_total - Заполним имеющимися данными.\n",
    "3. living_area, kitchen_area - Заполним медианой.\n",
    "4. is_apartment - Заполним False, больше нечем...\n",
    "5. balcony - Поменяем значение на 0.\n",
    "6. locality_name - Заполним пустой строкой.\n",
    "7. airports_nearest, city_centers_nearest, parks_nearest, ponds_nearest, days_exposition - Чтобы не исказить данные, оставим значение не заполненными.\n",
    "8. ponds_around, parks_around - Поменяем на нули."
   ]
  },
  {
   "cell_type": "markdown",
   "metadata": {},
   "source": [
    "#### Заполнение высоты потолков"
   ]
  },
  {
   "cell_type": "code",
   "execution_count": 17,
   "metadata": {},
   "outputs": [],
   "source": [
    "ceilings_table = df.pivot_table(index='city_centers_nearest', columns='airports_nearest', values='ceiling_height', aggfunc='first')"
   ]
  },
  {
   "cell_type": "code",
   "execution_count": 18,
   "metadata": {},
   "outputs": [
    {
     "name": "stdout",
     "output_type": "stream",
     "text": [
      "Количество оставшихся пропусков: 5354\n"
     ]
    }
   ],
   "source": [
    "for index, row in df[df.ceiling_height.isna()].iterrows():\n",
    "    \n",
    "    try:\n",
    "        cell = ceilings_table.loc[(row['city_centers_nearest']), (row['airports_nearest']) ]\n",
    "        \n",
    "        if not(pd.isnull(cell)):\n",
    "            df.loc[index, 'ceiling_height'] = cell\n",
    "    \n",
    "    except:\n",
    "        pass\n",
    "print('Количество оставшихся пропусков:', df.ceiling_height.isna().sum())"
   ]
  },
  {
   "cell_type": "markdown",
   "metadata": {},
   "source": [
    "#### Заполнение этажности зданий"
   ]
  },
  {
   "cell_type": "code",
   "execution_count": 19,
   "metadata": {},
   "outputs": [
    {
     "name": "stdout",
     "output_type": "stream",
     "text": [
      "Пропущенных значений этажности дома: 82\n"
     ]
    }
   ],
   "source": [
    "print(\"Пропущенных значений этажности дома:\", df.floors_total.isna().sum())"
   ]
  },
  {
   "cell_type": "code",
   "execution_count": 20,
   "metadata": {},
   "outputs": [],
   "source": [
    "floors_table = df.pivot_table(index='city_centers_nearest', columns='airports_nearest', values='floors_total', aggfunc='first')"
   ]
  },
  {
   "cell_type": "code",
   "execution_count": 21,
   "metadata": {},
   "outputs": [
    {
     "name": "stdout",
     "output_type": "stream",
     "text": [
      "Количество оставшихся пропусков: 74\n"
     ]
    }
   ],
   "source": [
    "for index, row in df[df.ceiling_height.isna()].iterrows():\n",
    "    try:\n",
    "        cell = floors_table.loc[(row['city_centers_nearest']), (row['airports_nearest'])]\n",
    "        if not(pd.isnull(cell)):\n",
    "            df.loc[index, 'floors_total'] = cell\n",
    "            \n",
    "    except:\n",
    "        pass\n",
    "print('Количество оставшихся пропусков:', df.floors_total.isna().sum())"
   ]
  },
  {
   "cell_type": "markdown",
   "metadata": {},
   "source": [
    "Оставшееся заполним медианным значением"
   ]
  },
  {
   "cell_type": "code",
   "execution_count": 22,
   "metadata": {},
   "outputs": [],
   "source": [
    "df.floors_total.fillna(value=df['floors_total'].median(), inplace=True)"
   ]
  },
  {
   "cell_type": "code",
   "execution_count": 23,
   "metadata": {},
   "outputs": [
    {
     "name": "stdout",
     "output_type": "stream",
     "text": [
      "Пропусков: 0\n"
     ]
    }
   ],
   "source": [
    "print(\"Пропусков:\", df.floors_total.isna().sum())"
   ]
  },
  {
   "cell_type": "markdown",
   "metadata": {},
   "source": [
    "#### Заполняем оставшиеся пропуски"
   ]
  },
  {
   "cell_type": "code",
   "execution_count": 24,
   "metadata": {},
   "outputs": [],
   "source": [
    "df.fillna(\n",
    "    value=\n",
    "    {\n",
    "        'living_area' : df['living_area'].median(),\n",
    "        'kitchen_area' : df['kitchen_area'].median(),\n",
    "        'is_apartment' : False,\n",
    "        'balcony' : 0,\n",
    "        'parks_around' : 0,\n",
    "        'ponds_around' : 0,\n",
    "        'locality_name' : \" \"\n",
    "    },\n",
    "    inplace=True)"
   ]
  },
  {
   "cell_type": "code",
   "execution_count": 25,
   "metadata": {},
   "outputs": [
    {
     "data": {
      "text/plain": [
       "total_images                0\n",
       "last_price                  0\n",
       "total_area                  0\n",
       "first_day_exposition        0\n",
       "rooms                       0\n",
       "ceiling_height           5354\n",
       "floors_total                0\n",
       "living_area                 0\n",
       "floor                       0\n",
       "is_apartment                0\n",
       "studio                      0\n",
       "open_plan                   0\n",
       "kitchen_area                0\n",
       "balcony                     0\n",
       "locality_name               0\n",
       "airports_nearest         5491\n",
       "city_centers_nearest     5472\n",
       "parks_around                0\n",
       "parks_nearest           15188\n",
       "ponds_around                0\n",
       "ponds_nearest           14167\n",
       "days_exposition          2868\n",
       "dtype: int64"
      ]
     },
     "execution_count": 25,
     "metadata": {},
     "output_type": "execute_result"
    }
   ],
   "source": [
    "df.isnull().sum()"
   ]
  },
  {
   "cell_type": "markdown",
   "metadata": {},
   "source": [
    "<div class=\"alert alert-warning\">\n",
    "    <h2> Комментарий ревьюера <a class=\"tocSkip\"> </h2>\n",
    "    \n",
    "<b>Некоторые замечания и рекомендации💡:</b> \n",
    "        \n",
    "Никита, ты предложил определенные подходы к работе с пропусками в данных, в целом все предложенные тобой решения рабочие и дают определенный результат.\n",
    "    \n",
    "В целом при работе с пропущенными значениями, важно понимать риски тех способов, которые мы используем для работы с пропусками.\n",
    "    \n",
    "Например, не совсем корректно заменять пропуски в ceiling_height на среднее значение. В этой колонке отсутствует около 38% данных. Это очень много, и сложно найти веские причины для таких радикальных трансформаций. Кроме того, в этом проекте есть этап с обработкой выбросов, и до обработки выбросов не стоит заполнять пропуски средним арифметическим. \n",
    "    \n",
    "В целом, можно попробовать заполнить модой или медианой (медиана более устойчива к выбросам), или разбить данные на группы и заполнять пропуски средней мерой по группе, но в любом случае, нужно иметь в виду риски искажения данных. Ты попробовалп одход с медианой - в целом, стратегия приемлема.\n",
    "    \n",
    "В целом, стратегия с медианами etc. удачна для переменных, в которых отсутствует до 10% данных.\n",
    "\n",
    "Зачем мы вообще проводим EDA? Есть два пункта:\n",
    "1. Мы хотим получить какие-то инсайты о данных (средние значения, минимумы, максимумы и т.д.), чтобы описать, например, среднестатистическую продаваемую квартиру.\n",
    "2. Мы хотим проверить, подходят ли данные для моделирования (смотрим на аномалии, распределения переменных и другие характеристики) — об этом ты узнаешь в последующих уроках🙌\n",
    "    \n",
    "Соответственно, мы должны быть очень осторожны с изменением изначальных данных. Трансформации с булевыми переменными не должны сильно повлиять на наши будущие интерпретации, так как логика замены довольно сильная: если нет положительного ответа, значит, он отрицательный. Но все остальные преобразования — под вопросом, поскольку это искусственная замена.\n",
    "\n",
    "Также в этих данных есть картографические данные (расстояние до парков и проч), эти данные тоже не совсем продуктивно восполнять, потому что процент пропусков слишком большой, наверняка эти данные заполнялись автоматически, поэтому сложно восстановить их каким-то известным способом, я бы не рекомендовала их заполнять, помимо автоматического заполнения, процент пропусков довольно большой. Здесь согласна с тем, что ты не стал заполнять пропуски в этой колонке.\n",
    " \n",
    "        \n",
    "Конечно, последнее слово всегда за аналитиком, но в реальной жизни важно понимать вероятность того, что объективность данных может быть искажена подобными. Чтобы доказать обратное, можно, например, сравнить распределения и ключевые статистики до и после замены.\n",
    "    \n",
    "Хочу посоветовать тебе статью, которая рассматривает разные способы обработки пропусков, выделяет их плюсы и минусы, думаю, тебе может быть интересно: https://loginom.ru/blog/missing\n",
    "    \n",
    "Какие стратегии замены были бы наименее \"болезненными\" и  \"искажающими\"? Можно попробовать заполнить пропуски по группировкам (это в целом адекватный способ, если процент пропусков небольшой). Или построить корреляционную матрицу, посмотреть, какие переменные коррелируют между собой, и на основе корреляции и группировки заполнить пропуски. Но при этом опять-таки важно оценивать масштаб проблемы, и применять любые стратегии заполнения только там, где это действительно уместно и возможно, как и сказано в инструкции к проекту."
   ]
  },
  {
   "cell_type": "markdown",
   "metadata": {},
   "source": [
    "<div class=\"alert alert-warning\">\n",
    "    <h2> Комментарий ревьюера <a class=\"tocSkip\"> </h2>\n",
    "    \n",
    "<b>Некоторые замечания и рекомендации💡:</b> \n",
    "        \n",
    "На данном шаге я бы также посоветовала обработать названия населенных пунктов в колонке: можно привести названия населенных пунктов к нижнему регистру, произвести обработку буквы ё (замена на е), в этом тебе помогут строковые методы. Это действие может быть полезно с точки зрения избавления от неявных дубликатов в названиях населенных пунктов.\n",
    "        \n",
    "Кроме того, в целом стоит проверить данные на дубликаты."
   ]
  },
  {
   "cell_type": "markdown",
   "metadata": {},
   "source": [
    "#### Обработка времени"
   ]
  },
  {
   "cell_type": "code",
   "execution_count": 26,
   "metadata": {},
   "outputs": [],
   "source": [
    "df['first_day_exposition'] = pd.to_datetime(df['first_day_exposition'], format='%Y-%m-%dT%H:%M:%S')"
   ]
  },
  {
   "cell_type": "code",
   "execution_count": 27,
   "metadata": {},
   "outputs": [
    {
     "data": {
      "text/plain": [
       "0   2019-03-07\n",
       "1   2018-12-04\n",
       "2   2015-08-20\n",
       "4   2018-06-19\n",
       "5   2018-09-10\n",
       "Name: first_day_exposition, dtype: datetime64[ns]"
      ]
     },
     "execution_count": 27,
     "metadata": {},
     "output_type": "execute_result"
    }
   ],
   "source": [
    "df.first_day_exposition.head()"
   ]
  },
  {
   "cell_type": "markdown",
   "metadata": {},
   "source": [
    "#### Решение проблемы с типом данных"
   ]
  },
  {
   "cell_type": "code",
   "execution_count": 28,
   "metadata": {},
   "outputs": [],
   "source": [
    "df['last_price'] = df['last_price'].astype(int)\n",
    "df['floors_total'] = df.floors_total.astype(int)\n",
    "df['balcony'] = df['balcony'].astype(int)"
   ]
  },
  {
   "cell_type": "markdown",
   "metadata": {},
   "source": [
    "Все эти типы были преобразованы в int, потому что float будет только путать, нам не нужно знать копейки в цене, а уж те более True/False балкон(1/0)"
   ]
  },
  {
   "cell_type": "markdown",
   "metadata": {},
   "source": [
    "\n",
    "<div class=\"alert alert-success\">\n",
    "<h2> Комментарий ревьюера <a class=\"tocSkip\"> </h2>\n",
    "\n",
    "<b>Все отлично!👍:</b> \n",
    "    \n",
    "Согласна с твоим аргументом, типы данных заменены корректно.\n",
    "</div>"
   ]
  },
  {
   "cell_type": "markdown",
   "metadata": {},
   "source": [
    "#### Квартиры с нулевым значением комнат и не являющиеся студиями"
   ]
  },
  {
   "cell_type": "code",
   "execution_count": 29,
   "metadata": {},
   "outputs": [
    {
     "data": {
      "text/plain": [
       "0"
      ]
     },
     "execution_count": 29,
     "metadata": {},
     "output_type": "execute_result"
    }
   ],
   "source": [
    "df.drop(df[(df.rooms == 0) & (df.studio == False)].index, inplace=True)\n",
    "df[(df.rooms == 0) & (df.studio == False)]['total_area'].value_counts().sum()"
   ]
  },
  {
   "cell_type": "markdown",
   "metadata": {},
   "source": [
    "# Вывод"
   ]
  },
  {
   "cell_type": "markdown",
   "metadata": {},
   "source": [
    "###### Исправлены типы данных, пропущенные значения, названия столбцов, формат времени/даты, удалены неисправные значения(нулевые комнаты)."
   ]
  },
  {
   "cell_type": "markdown",
   "metadata": {},
   "source": [
    "## Расчёты и добавление результатов в таблицу"
   ]
  },
  {
   "cell_type": "markdown",
   "metadata": {},
   "source": [
    "### Добавим цену за кв. метр, столбцы с днем недели, месяцем и годом в датасет"
   ]
  },
  {
   "cell_type": "code",
   "execution_count": 30,
   "metadata": {},
   "outputs": [],
   "source": [
    "df['price_for_square_meter'] = df['last_price']/df['total_area']"
   ]
  },
  {
   "cell_type": "code",
   "execution_count": 31,
   "metadata": {},
   "outputs": [],
   "source": [
    "df['weekday'] = df['first_day_exposition'].dt.weekday"
   ]
  },
  {
   "cell_type": "code",
   "execution_count": 32,
   "metadata": {},
   "outputs": [],
   "source": [
    "df['month'] = df['first_day_exposition'].dt.month"
   ]
  },
  {
   "cell_type": "code",
   "execution_count": 33,
   "metadata": {},
   "outputs": [],
   "source": [
    "df['year'] = df['first_day_exposition'].dt.year"
   ]
  },
  {
   "cell_type": "markdown",
   "metadata": {},
   "source": [
    "<div class=\"alert alert-warning\">\n",
    "    <h2> Комментарий ревьюера <a class=\"tocSkip\"></h2>\n",
    "    \n",
    "<b>Некоторые замечания и рекомендации💡:</b> \n",
    "    \n",
    "Библиотека `pandas` позволяет решить задачу по выделению названий дней недели и месяцев в более удобном формате: например, есть такой метод как `day_name()` и `month_name()`, которые автоматически добавляют названия дней и месяцев (на английском языке по умолчанию)\n",
    "    \n",
    "    \n",
    "https://www.geeksforgeeks.org/python-pandas-series-dt-day_name/\n",
    "    \n",
    "https://pandas.pydata.org/pandas-docs/stable/reference/api/pandas.Series.dt.day_name.html\n",
    "    \n",
    "https://pandas.pydata.org/pandas-docs/stable/reference/api/pandas.Series.dt.month_name.html\n",
    "    \n",
    "https://www.geeksforgeeks.org/python-pandas-series-dt-month_name/"
   ]
  },
  {
   "cell_type": "markdown",
   "metadata": {},
   "source": [
    "### Этаж квартиры"
   ]
  },
  {
   "cell_type": "code",
   "execution_count": 34,
   "metadata": {},
   "outputs": [],
   "source": [
    "def floor(i):\n",
    "    if i['floor'] == 1:\n",
    "        return 'первый'\n",
    "    if i['floor'] == i['floors_total']:\n",
    "        return 'последний'\n",
    "    return 'другой'"
   ]
  },
  {
   "cell_type": "code",
   "execution_count": 35,
   "metadata": {},
   "outputs": [
    {
     "data": {
      "text/plain": [
       "другой       16507\n",
       "последний     3070\n",
       "первый        2814\n",
       "Name: floor_category, dtype: int64"
      ]
     },
     "execution_count": 35,
     "metadata": {},
     "output_type": "execute_result"
    }
   ],
   "source": [
    "df['floor_category'] = df.apply(floor, axis=1)\n",
    "df.floor_category.value_counts() "
   ]
  },
  {
   "cell_type": "markdown",
   "metadata": {},
   "source": [
    "### Отношение жилой площади к общей"
   ]
  },
  {
   "cell_type": "code",
   "execution_count": 36,
   "metadata": {},
   "outputs": [],
   "source": [
    "df['living_to_total'] = df.living_area / df.total_area"
   ]
  },
  {
   "cell_type": "markdown",
   "metadata": {},
   "source": [
    "### Отношение площади кухни к общей"
   ]
  },
  {
   "cell_type": "code",
   "execution_count": 37,
   "metadata": {},
   "outputs": [],
   "source": [
    "df['kitchen_to_total'] = df.kitchen_area / df.total_area"
   ]
  },
  {
   "cell_type": "markdown",
   "metadata": {},
   "source": [
    "<div class=\"alert alert-success\">\n",
    "<h2> Комментарий ревьюера <a class=\"tocSkip\"> </h2>\n",
    "\n",
    "<b>Все отлично!👍:</b> \n",
    "    \n",
    "Здесь в целом все верно, согласна с твоими действиями, давай двигаться дальше!🏃‍♀️🏃‍♂️"
   ]
  },
  {
   "cell_type": "markdown",
   "metadata": {},
   "source": [
    "## Исследовательский анализ данных"
   ]
  },
  {
   "cell_type": "markdown",
   "metadata": {},
   "source": [
    "### Гистограммы распределения Общей площади , Цены , Комнат , Высоты потолков"
   ]
  },
  {
   "cell_type": "code",
   "execution_count": 38,
   "metadata": {},
   "outputs": [
    {
     "data": {
      "image/png": "[encoded data removed]",
      "text/plain": [
       "<Figure size 576x432 with 1 Axes>"
      ]
     },
     "metadata": {
      "needs_background": "light"
     },
     "output_type": "display_data"
    },
    {
     "data": {
      "image/png": "[encoded data removed]",
      "text/plain": [
       "<Figure size 576x432 with 1 Axes>"
      ]
     },
     "metadata": {
      "needs_background": "light"
     },
     "output_type": "display_data"
    },
    {
     "data": {
      "image/png": "[encoded data removed]",
      "text/plain": [
       "<Figure size 576x432 with 1 Axes>"
      ]
     },
     "metadata": {
      "needs_background": "light"
     },
     "output_type": "display_data"
    },
    {
     "data": {
      "image/png": "[encoded data removed]",
      "text/plain": [
       "<Figure size 576x432 with 1 Axes>"
      ]
     },
     "metadata": {
      "needs_background": "light"
     },
     "output_type": "display_data"
    }
   ],
   "source": [
    "df.plot(y='total_area', kind='hist', density=True, bins=50, xlim=(0,500), figsize=(8,6), title='Общая площадь', colormap='PiYG')\n",
    "df.plot(y='last_price', kind='hist', density=True, bins=50, xlim=(12190,40000000.0), figsize=(8,6), title='Стоимость', colormap='tab20b_r')\n",
    "df.plot(y='rooms', kind='hist', density=True, bins=7, range=(0, 7), figsize=(8,6), title='Число комнат', colormap='Set3')\n",
    "df.plot(y='ceiling_height', kind='hist', bins=50, range=(2.2, 3.5), density=True, figsize=(8,6), title='Высота потолков', colormap='Oranges_r')\n",
    "plt.show()"
   ]
  },
  {
   "cell_type": "code",
   "execution_count": 39,
   "metadata": {},
   "outputs": [
    {
     "name": "stdout",
     "output_type": "stream",
     "text": [
      "Медианное значение площади: 50.4\n"
     ]
    }
   ],
   "source": [
    "print(\"Медианное значение площади:\", df.total_area.median())"
   ]
  },
  {
   "cell_type": "code",
   "execution_count": 40,
   "metadata": {},
   "outputs": [
    {
     "name": "stdout",
     "output_type": "stream",
     "text": [
      "Медианное значение цены: 4500000.0\n"
     ]
    }
   ],
   "source": [
    "print(\"Медианное значение цены:\", df.last_price.median())"
   ]
  },
  {
   "cell_type": "code",
   "execution_count": 41,
   "metadata": {},
   "outputs": [
    {
     "name": "stdout",
     "output_type": "stream",
     "text": [
      "Медианное значение высоты потолков: 2.65\n"
     ]
    }
   ],
   "source": [
    "print(\"Медианное значение высоты потолков:\", df.ceiling_height.median())"
   ]
  },
  {
   "cell_type": "markdown",
   "metadata": {},
   "source": [
    "# Вывод"
   ]
  },
  {
   "cell_type": "markdown",
   "metadata": {},
   "source": [
    "1. Медианное значение площади - 50 кв.м.\n",
    "2. Медианная стоимость квартиры составляет 4.5 млн.\n",
    "3. Наибольшее количество квартир однокомнатные, хотя двухкомнатных всего лишь немногим меньше.\n",
    "4. Высота потолков составляет 2.65 метра."
   ]
  },
  {
   "cell_type": "markdown",
   "metadata": {},
   "source": [
    "### Рассмотрим распределение времени продаж"
   ]
  },
  {
   "cell_type": "code",
   "execution_count": 42,
   "metadata": {
    "scrolled": true
   },
   "outputs": [
    {
     "data": {
      "image/png": "[encoded data removed]",
      "text/plain": [
       "<Figure size 1152x432 with 1 Axes>"
      ]
     },
     "metadata": {
      "needs_background": "light"
     },
     "output_type": "display_data"
    }
   ],
   "source": [
    "df.plot(y='days_exposition', kind='hist', bins=100, figsize=(16,6), xlim=(0,1000), title='Время продажи')\n",
    "plt.xlabel(\"days\")\n",
    "plt.show()"
   ]
  },
  {
   "cell_type": "code",
   "execution_count": 43,
   "metadata": {},
   "outputs": [
    {
     "name": "stdout",
     "output_type": "stream",
     "text": [
      "Медианное значение времени, требующееся на продажу квартиры: 93\n",
      "Среднее значение времени на продажу квартиры: 175.8\n"
     ]
    }
   ],
   "source": [
    "print(\"Медианное значение времени, требующееся на продажу квартиры: {:.0f}\".format(df.days_exposition.median() ))\n",
    "print(\"Среднее значение времени на продажу квартиры: {:.1f}\".format(df.days_exposition.mean() ))"
   ]
  },
  {
   "cell_type": "code",
   "execution_count": 44,
   "metadata": {},
   "outputs": [
    {
     "data": {
      "image/png": "[encoded data removed]",
      "text/plain": [
       "<Figure size 288x360 with 1 Axes>"
      ]
     },
     "metadata": {
      "needs_background": "light"
     },
     "output_type": "display_data"
    }
   ],
   "source": [
    "df.boxplot([\"days_exposition\"], figsize=(4,5), fontsize=14)\n",
    "plt.ylabel(\"days\", fontsize=14)\n",
    "plt.show()"
   ]
  },
  {
   "cell_type": "markdown",
   "metadata": {},
   "source": [
    "1. Медианное значение времени продажи квартиры составляет 95 дней, среднее - 180 , что говорит о наличии сильных выбросов\n",
    "2. Избавимся от аномальных значений. Будем считать продажу быстрой, если она уложилась в неделю, и медленной, если она длилась более полутора лет"
   ]
  },
  {
   "cell_type": "code",
   "execution_count": 45,
   "metadata": {},
   "outputs": [],
   "source": [
    "good_exposition_df = df.query('7<days_exposition<550')['days_exposition'] \n",
    "                                                                             \n",
    "good_exposition_df = good_exposition_df.astype(int)"
   ]
  },
  {
   "cell_type": "code",
   "execution_count": 46,
   "metadata": {},
   "outputs": [
    {
     "data": {
      "image/png": "[encoded data removed]",
      "text/plain": [
       "<Figure size 1152x432 with 1 Axes>"
      ]
     },
     "metadata": {
      "needs_background": "light"
     },
     "output_type": "display_data"
    }
   ],
   "source": [
    "good_exposition_df.plot(kind='hist', bins=80, xlim=(8,550), figsize=(16,6), colormap='bwr_r')\n",
    "plt.xlabel(\"Дни\")\n",
    "plt.title(\"Дней на продаже\")\n",
    "plt.show()"
   ]
  },
  {
   "cell_type": "code",
   "execution_count": 47,
   "metadata": {},
   "outputs": [
    {
     "name": "stdout",
     "output_type": "stream",
     "text": [
      "Мединное значение времени продажи - порядка 90.0 дней\n"
     ]
    }
   ],
   "source": [
    "print(f\"Мединное значение времени продажи - порядка {good_exposition_df.median()} дней\")"
   ]
  },
  {
   "cell_type": "markdown",
   "metadata": {},
   "source": [
    "<div class=\"alert alert-success\">\n",
    "<h2> Комментарий ревьюера <a class=\"tocSkip\"> </h2>\n",
    "\n",
    "<b>Все отлично!👍:</b> \n",
    "    \n",
    "На этом шаге логика анализа в целом корректна, если мы говорим о графиках и выводам по ним, отдельный плюс за оформление визуализации💪"
   ]
  },
  {
   "cell_type": "markdown",
   "metadata": {},
   "source": [
    "<div class=\"alert alert-warning\">\n",
    "    <h2> Комментарий ревьюера <a class=\"tocSkip\"> </h2>\n",
    "    \n",
    "<b>Некоторые замечания и рекомендации💡:</b> \n",
    "     \n",
    "Короткое замечание по графикам: сейчас у тебя на графиках появляется легенда, но в целом она не несет смысловой нагрузки, потому что ты строишь распределение переменной, не имеющей деления на категории. Поэтому легенду можно убрать, способы по ссылкам ниже:\n",
    "        \n",
    "https://stackoverflow.com/questions/5735208/remove-the-legend-on-a-matplotlib-figure#:~:text=If%20you%20want%20to%20plot,parameter%20to%20the%20plot%20command.\n",
    "        \n",
    "https://www.geeksforgeeks.org/how-to-remove-the-legend-in-matplotlib/\n",
    "        \n",
    "https://www.delftstack.com/howto/matplotlib/how-to-remove-legend-from-a-figure-in-matplotlib/\n"
   ]
  },
  {
   "cell_type": "markdown",
   "metadata": {},
   "source": [
    "<div class=\"alert alert-warning\">\n",
    "    <h2> Комментарий ревьюера <a class=\"tocSkip\"> </h2>\n",
    "    \n",
    "<b>Некоторые замечания и рекомендации💡:</b> \n",
    "    \n",
    "Что касается выбросов: задача по удалению выбросов касается колонок площадь, цена, число комнат, высота потолков, здесь ты придерживался верной логики, в колонке days_exposition удалять выбросы не стоит, так как она содержит чувствительные данные.\n",
    "        \n",
    "Можно использовать для работы с выбросами метод IQR (почти то же самое, что и боксплоты, только метод дает возможность опредилить границы выбросов более точно). Гистограммы не очень полезны для определения выбросов, дают менее точный результат. Оставлю несколько ссылок по работе с выбросами:\n",
    "    \n",
    "https://www.machinelearningmastery.ru/5-ways-to-detect-outliers-that-every-data-scientist-should-know-python-code-70a54335a623/\n",
    "    \n",
    "https://proglib.io/p/moem-dataset-rukovodstvo-po-ochistke-dannyh-v-python-2020-03-27\n",
    "    \n",
    "https://statisticsbyjim.com/basics/outliers/\n",
    "    \n",
    "https://machinelearningmastery.com/how-to-use-statistics-to-identify-outliers-in-data/\n",
    "    \n",
    "https://towardsdatascience.com/ways-to-detect-and-remove-the-outliers-404d16608dba\n",
    "        \n",
    "Важно при этом понимать, что стат методы тоже могут \"отработать\" на данных не совсем адекватно, т.е. корректно с точки зрения механики их работы, но не корректно с точки зрения здравого смысла и специфики данных, с которыми ты работаешь. Поэтому всегда важно подключать к применяемым методам экспертную оценку (наверно, ты лучше понимаешь, что бывают потолки 3 метра, например, а вот стат метод может посчитать это за выброс и удалить в зависимости от набора данных, которые ему скармливаются).\n",
    "    "
   ]
  },
  {
   "cell_type": "markdown",
   "metadata": {},
   "source": [
    "\n",
    "<div class=\"alert alert-success\">\n",
    "<h2> Комментарий ревьюера:вторая итерация ревью <a class=\"tocSkip\"> </h2>\n",
    "\n",
    "<b>Все отлично!👍</b> \n",
    "    \n",
    "Плюс за оформление графиков, теперь визуализация выглядит корректнее."
   ]
  },
  {
   "cell_type": "markdown",
   "metadata": {},
   "source": [
    "<div class=\"alert alert-block alert-danger\">\n",
    "<h2> Комментарий ревьюера <a class=\"tocSkip\"></h2>\n",
    "\n",
    "    \n",
    "<b>На доработку🤔:</b>\n",
    "\n",
    "\n",
    "Еще один важный момент: если проводить чистку данных по столбцу с пропусками - это привидет к удалению из датасета всех строк с пропусками в этом столбце. Наиболее критично это при чистке данных по высоте потолка. Поэтому важно заполнять пропуски перед удалением выбросов. (аргумент относительно твоей стратегии очистки выбросов до заполнения пропусков)\n",
    "\n",
    "Поэтому у тебя есть два пути: либо заполнить пропуски в таких колонках и потом провести процедуру удаления выбросов, либо, если ты хочешь оставить пропуски в этой колонке (а это возможная стратегия), то есть такие пути:\n",
    "\n",
    "1) можно заполнить пропуски значениями-заглушками и после удаления выбросов опять заменить на пропуски;\n",
    "2) можно отфильтровать и разбить таким образом датасет на 2: в одном оставить пропуски, в другом - остальные значения; после чистки данных второго датасета объединить датасеты, например, с помощью метода `merge()`\n",
    "    \n",
    "https://pythonru.com/uroki/osnovy-pandas-3-vazhnye-metody-formatirovanija-dannyh"
   ]
  },
  {
   "cell_type": "markdown",
   "metadata": {},
   "source": [
    "### Проблемы с ценами"
   ]
  },
  {
   "cell_type": "code",
   "execution_count": 48,
   "metadata": {
    "scrolled": true
   },
   "outputs": [
    {
     "data": {
      "image/png": "[encoded data removed]",
      "text/plain": [
       "<Figure size 216x504 with 1 Axes>"
      ]
     },
     "metadata": {
      "needs_background": "light"
     },
     "output_type": "display_data"
    }
   ],
   "source": [
    "df.boxplot(['last_price'], figsize=(3,7), fontsize=10)\n",
    "plt.ylabel(\"price\", fontsize=10)\n",
    "plt.show()"
   ]
  },
  {
   "cell_type": "code",
   "execution_count": 49,
   "metadata": {
    "scrolled": false
   },
   "outputs": [
    {
     "name": "stdout",
     "output_type": "stream",
     "text": [
      "Медианная стоимость квартиры : 4500000\n",
      "Средняя стоимость квартиры : 5353804\n",
      "Количество квартир стоимостью более 20 млн. : 163\n",
      "Количество квартир стоимостью менее 500 тыс. : 14\n"
     ]
    }
   ],
   "source": [
    "print(\"Медианная стоимость квартиры : {:.0f}\".format(df['last_price'].median()))\n",
    "print(\"Средняя стоимость квартиры : {:.0f}\".format(df['last_price'].mean()))\n",
    "print(\"Количество квартир стоимостью более 20 млн. : {}\".format(df[df.last_price > 20000000]['last_price'].count()))\n",
    "print(\"Количество квартир стоимостью менее 500 тыс. : {}\".format(df[df.last_price < 500000]['last_price'].count()))"
   ]
  },
  {
   "cell_type": "markdown",
   "metadata": {},
   "source": [
    "В выборке очень мало квартир больше 20 млн. и меньше 500 тыс. Дропнем аномалии."
   ]
  },
  {
   "cell_type": "code",
   "execution_count": 50,
   "metadata": {},
   "outputs": [],
   "source": [
    "df.drop(df[df.last_price > 20000000].index, inplace=True)\n",
    "df.drop(df[df.last_price < 500000].index, inplace=True)"
   ]
  },
  {
   "cell_type": "code",
   "execution_count": 51,
   "metadata": {},
   "outputs": [
    {
     "data": {
      "text/html": [
       "<div>\n",
       "<style scoped>\n",
       "    .dataframe tbody tr th:only-of-type {\n",
       "        vertical-align: middle;\n",
       "    }\n",
       "\n",
       "    .dataframe tbody tr th {\n",
       "        vertical-align: top;\n",
       "    }\n",
       "\n",
       "    .dataframe thead th {\n",
       "        text-align: right;\n",
       "    }\n",
       "</style>\n",
       "<table border=\"1\" class=\"dataframe\">\n",
       "  <thead>\n",
       "    <tr style=\"text-align: right;\">\n",
       "      <th></th>\n",
       "      <th>index</th>\n",
       "      <th>total_images</th>\n",
       "      <th>last_price</th>\n",
       "      <th>total_area</th>\n",
       "      <th>first_day_exposition</th>\n",
       "      <th>rooms</th>\n",
       "      <th>ceiling_height</th>\n",
       "      <th>floors_total</th>\n",
       "      <th>living_area</th>\n",
       "      <th>floor</th>\n",
       "      <th>...</th>\n",
       "      <th>ponds_around</th>\n",
       "      <th>ponds_nearest</th>\n",
       "      <th>days_exposition</th>\n",
       "      <th>price_for_square_meter</th>\n",
       "      <th>weekday</th>\n",
       "      <th>month</th>\n",
       "      <th>year</th>\n",
       "      <th>floor_category</th>\n",
       "      <th>living_to_total</th>\n",
       "      <th>kitchen_to_total</th>\n",
       "    </tr>\n",
       "  </thead>\n",
       "  <tbody>\n",
       "    <tr>\n",
       "      <td>0</td>\n",
       "      <td>0</td>\n",
       "      <td>20</td>\n",
       "      <td>13000000</td>\n",
       "      <td>108.0</td>\n",
       "      <td>2019-03-07</td>\n",
       "      <td>3</td>\n",
       "      <td>2.70</td>\n",
       "      <td>16</td>\n",
       "      <td>51.0</td>\n",
       "      <td>8</td>\n",
       "      <td>...</td>\n",
       "      <td>2.0</td>\n",
       "      <td>755.0</td>\n",
       "      <td>NaN</td>\n",
       "      <td>120370.370370</td>\n",
       "      <td>3</td>\n",
       "      <td>3</td>\n",
       "      <td>2019</td>\n",
       "      <td>другой</td>\n",
       "      <td>0.472222</td>\n",
       "      <td>0.231481</td>\n",
       "    </tr>\n",
       "    <tr>\n",
       "      <td>1</td>\n",
       "      <td>1</td>\n",
       "      <td>7</td>\n",
       "      <td>3350000</td>\n",
       "      <td>40.4</td>\n",
       "      <td>2018-12-04</td>\n",
       "      <td>1</td>\n",
       "      <td>NaN</td>\n",
       "      <td>11</td>\n",
       "      <td>18.6</td>\n",
       "      <td>1</td>\n",
       "      <td>...</td>\n",
       "      <td>0.0</td>\n",
       "      <td>NaN</td>\n",
       "      <td>81.0</td>\n",
       "      <td>82920.792079</td>\n",
       "      <td>1</td>\n",
       "      <td>12</td>\n",
       "      <td>2018</td>\n",
       "      <td>первый</td>\n",
       "      <td>0.460396</td>\n",
       "      <td>0.272277</td>\n",
       "    </tr>\n",
       "    <tr>\n",
       "      <td>2</td>\n",
       "      <td>2</td>\n",
       "      <td>10</td>\n",
       "      <td>5196000</td>\n",
       "      <td>56.0</td>\n",
       "      <td>2015-08-20</td>\n",
       "      <td>2</td>\n",
       "      <td>NaN</td>\n",
       "      <td>5</td>\n",
       "      <td>34.3</td>\n",
       "      <td>4</td>\n",
       "      <td>...</td>\n",
       "      <td>2.0</td>\n",
       "      <td>574.0</td>\n",
       "      <td>558.0</td>\n",
       "      <td>92785.714286</td>\n",
       "      <td>3</td>\n",
       "      <td>8</td>\n",
       "      <td>2015</td>\n",
       "      <td>другой</td>\n",
       "      <td>0.612500</td>\n",
       "      <td>0.148214</td>\n",
       "    </tr>\n",
       "    <tr>\n",
       "      <td>3</td>\n",
       "      <td>4</td>\n",
       "      <td>2</td>\n",
       "      <td>10000000</td>\n",
       "      <td>100.0</td>\n",
       "      <td>2018-06-19</td>\n",
       "      <td>2</td>\n",
       "      <td>3.03</td>\n",
       "      <td>14</td>\n",
       "      <td>32.0</td>\n",
       "      <td>13</td>\n",
       "      <td>...</td>\n",
       "      <td>1.0</td>\n",
       "      <td>48.0</td>\n",
       "      <td>121.0</td>\n",
       "      <td>100000.000000</td>\n",
       "      <td>1</td>\n",
       "      <td>6</td>\n",
       "      <td>2018</td>\n",
       "      <td>другой</td>\n",
       "      <td>0.320000</td>\n",
       "      <td>0.410000</td>\n",
       "    </tr>\n",
       "    <tr>\n",
       "      <td>4</td>\n",
       "      <td>5</td>\n",
       "      <td>10</td>\n",
       "      <td>2890000</td>\n",
       "      <td>30.4</td>\n",
       "      <td>2018-09-10</td>\n",
       "      <td>1</td>\n",
       "      <td>NaN</td>\n",
       "      <td>12</td>\n",
       "      <td>14.4</td>\n",
       "      <td>5</td>\n",
       "      <td>...</td>\n",
       "      <td>0.0</td>\n",
       "      <td>NaN</td>\n",
       "      <td>55.0</td>\n",
       "      <td>95065.789474</td>\n",
       "      <td>0</td>\n",
       "      <td>9</td>\n",
       "      <td>2018</td>\n",
       "      <td>другой</td>\n",
       "      <td>0.473684</td>\n",
       "      <td>0.299342</td>\n",
       "    </tr>\n",
       "  </tbody>\n",
       "</table>\n",
       "<p>5 rows × 30 columns</p>\n",
       "</div>"
      ],
      "text/plain": [
       "   index  total_images  last_price  total_area first_day_exposition  rooms  \\\n",
       "0      0            20    13000000       108.0           2019-03-07      3   \n",
       "1      1             7     3350000        40.4           2018-12-04      1   \n",
       "2      2            10     5196000        56.0           2015-08-20      2   \n",
       "3      4             2    10000000       100.0           2018-06-19      2   \n",
       "4      5            10     2890000        30.4           2018-09-10      1   \n",
       "\n",
       "   ceiling_height  floors_total  living_area  floor  ...  ponds_around  \\\n",
       "0            2.70            16         51.0      8  ...           2.0   \n",
       "1             NaN            11         18.6      1  ...           0.0   \n",
       "2             NaN             5         34.3      4  ...           2.0   \n",
       "3            3.03            14         32.0     13  ...           1.0   \n",
       "4             NaN            12         14.4      5  ...           0.0   \n",
       "\n",
       "   ponds_nearest  days_exposition  price_for_square_meter  weekday month  \\\n",
       "0          755.0              NaN           120370.370370        3     3   \n",
       "1            NaN             81.0            82920.792079        1    12   \n",
       "2          574.0            558.0            92785.714286        3     8   \n",
       "3           48.0            121.0           100000.000000        1     6   \n",
       "4            NaN             55.0            95065.789474        0     9   \n",
       "\n",
       "   year  floor_category  living_to_total  kitchen_to_total  \n",
       "0  2019          другой         0.472222          0.231481  \n",
       "1  2018          первый         0.460396          0.272277  \n",
       "2  2015          другой         0.612500          0.148214  \n",
       "3  2018          другой         0.320000          0.410000  \n",
       "4  2018          другой         0.473684          0.299342  \n",
       "\n",
       "[5 rows x 30 columns]"
      ]
     },
     "execution_count": 51,
     "metadata": {},
     "output_type": "execute_result"
    }
   ],
   "source": [
    "df.reset_index(inplace=True)\n",
    "df.head()"
   ]
  },
  {
   "cell_type": "code",
   "execution_count": 52,
   "metadata": {},
   "outputs": [],
   "source": [
    "df.drop(labels='index', axis=1, inplace=True)"
   ]
  },
  {
   "cell_type": "markdown",
   "metadata": {},
   "source": [
    "### Посмотрим, как стоимость Квартиры зависит от площади , числа комнат , удалённости от центра"
   ]
  },
  {
   "cell_type": "code",
   "execution_count": 53,
   "metadata": {
    "scrolled": true
   },
   "outputs": [
    {
     "data": {
      "image/png": "[encoded data removed]",
      "text/plain": [
       "<Figure size 1440x288 with 3 Axes>"
      ]
     },
     "metadata": {
      "needs_background": "light"
     },
     "output_type": "display_data"
    }
   ],
   "source": [
    "fig, (ax1, ax2, ax3) = plt.subplots(1, 3, figsize=(20,4))\n",
    "\n",
    "ax1.scatter(df['last_price'], df['total_area'], c='pink', alpha=0.05)\n",
    "ax1.set_xlim([0,20000000])\n",
    "ax1.set_ylim([0,250])\n",
    "ax1.set_ylabel('total_area', fontsize=14)\n",
    "ax1.set_xlabel('price', fontsize=14)\n",
    "\n",
    "rooms_price = df[['rooms', 'last_price']].groupby(['rooms']).median()\n",
    "ax2.barh( rooms_price.index, rooms_price['last_price'], color='magenta' )\n",
    "ax2.set_ylabel('rooms', fontsize=14)\n",
    "ax2.set_xlabel('price', fontsize=14)\n",
    "y_pos = np.arange(0,8)\n",
    "ax2.set_yticks(y_pos)\n",
    "ax2.set_yticklabels([str(i) for i in range(0,8)])\n",
    "\n",
    "ax3.scatter(df['last_price'], df['city_centers_nearest'], c='violet', alpha=0.05)\n",
    "ax3.set_xlim([0,20000000])\n",
    "ax3.set_ylabel('Distance to center', fontsize=14)\n",
    "ax3.set_xlabel('price', fontsize=14)\n",
    "\n",
    "plt.show()"
   ]
  },
  {
   "cell_type": "code",
   "execution_count": 54,
   "metadata": {},
   "outputs": [
    {
     "data": {
      "text/html": [
       "<div>\n",
       "<style scoped>\n",
       "    .dataframe tbody tr th:only-of-type {\n",
       "        vertical-align: middle;\n",
       "    }\n",
       "\n",
       "    .dataframe tbody tr th {\n",
       "        vertical-align: top;\n",
       "    }\n",
       "\n",
       "    .dataframe thead th {\n",
       "        text-align: right;\n",
       "    }\n",
       "</style>\n",
       "<table border=\"1\" class=\"dataframe\">\n",
       "  <thead>\n",
       "    <tr style=\"text-align: right;\">\n",
       "      <th></th>\n",
       "      <th>last_price</th>\n",
       "      <th>total_area</th>\n",
       "      <th>city_centers_nearest</th>\n",
       "      <th>rooms</th>\n",
       "    </tr>\n",
       "  </thead>\n",
       "  <tbody>\n",
       "    <tr>\n",
       "      <td>last_price</td>\n",
       "      <td>1.000000</td>\n",
       "      <td>0.735495</td>\n",
       "      <td>-0.346821</td>\n",
       "      <td>0.439917</td>\n",
       "    </tr>\n",
       "    <tr>\n",
       "      <td>total_area</td>\n",
       "      <td>0.735495</td>\n",
       "      <td>1.000000</td>\n",
       "      <td>-0.171372</td>\n",
       "      <td>0.793439</td>\n",
       "    </tr>\n",
       "    <tr>\n",
       "      <td>city_centers_nearest</td>\n",
       "      <td>-0.346821</td>\n",
       "      <td>-0.171372</td>\n",
       "      <td>1.000000</td>\n",
       "      <td>-0.103300</td>\n",
       "    </tr>\n",
       "    <tr>\n",
       "      <td>rooms</td>\n",
       "      <td>0.439917</td>\n",
       "      <td>0.793439</td>\n",
       "      <td>-0.103300</td>\n",
       "      <td>1.000000</td>\n",
       "    </tr>\n",
       "  </tbody>\n",
       "</table>\n",
       "</div>"
      ],
      "text/plain": [
       "                      last_price  total_area  city_centers_nearest     rooms\n",
       "last_price              1.000000    0.735495             -0.346821  0.439917\n",
       "total_area              0.735495    1.000000             -0.171372  0.793439\n",
       "city_centers_nearest   -0.346821   -0.171372              1.000000 -0.103300\n",
       "rooms                   0.439917    0.793439             -0.103300  1.000000"
      ]
     },
     "execution_count": 54,
     "metadata": {},
     "output_type": "execute_result"
    }
   ],
   "source": [
    "df[['last_price','total_area','city_centers_nearest','rooms']].corr()"
   ]
  },
  {
   "cell_type": "markdown",
   "metadata": {},
   "source": [
    "На графике зависимости стоимости квартиры от общей площади явно видна положительная корреляция.\n",
    "На столбчатой диаграмме также заметна увеличивающаяся стоимость квартиры с увеличением числа комнат.\n",
    "На графике зависимости стоимости квартиры от расстояния до центра города также видна зависимость, предположительно - гиперболическая. Чем дальше квартира - тем дешевле она стоит"
   ]
  },
  {
   "cell_type": "markdown",
   "metadata": {},
   "source": [
    "### Рассмотрим как зависит стоимость квартиры от этажа"
   ]
  },
  {
   "cell_type": "code",
   "execution_count": 55,
   "metadata": {},
   "outputs": [],
   "source": [
    "floor_price = df[['floor_category', 'last_price']].groupby(['floor_category']).median().sort_values('last_price')"
   ]
  },
  {
   "cell_type": "code",
   "execution_count": 56,
   "metadata": {},
   "outputs": [
    {
     "data": {
      "image/png": "[encoded data removed]",
      "text/plain": [
       "<Figure size 720x360 with 1 Axes>"
      ]
     },
     "metadata": {
      "needs_background": "light"
     },
     "output_type": "display_data"
    }
   ],
   "source": [
    "floor_price = df[['floor_category', 'last_price']].groupby(['floor_category']).median().sort_values('last_price')\n",
    "plt.figure(figsize=(10,5))\n",
    "plt.barh( floor_price.index, floor_price['last_price'], color='chartreuse' )\n",
    "plt.title(\"Этаж\")\n",
    "plt.xlabel(\"Стоимость\")\n",
    "plt.show()"
   ]
  },
  {
   "cell_type": "markdown",
   "metadata": {},
   "source": [
    "Квартиры на первом этаже, как правило, дешевле других. Квартиры на последнем также стоят дешевле.¶"
   ]
  },
  {
   "cell_type": "markdown",
   "metadata": {},
   "source": [
    "### Рассмотрим как зависит стоимость квартиры от даты размещения: дня недели, месяца и года."
   ]
  },
  {
   "cell_type": "markdown",
   "metadata": {},
   "source": [
    "# Год"
   ]
  },
  {
   "cell_type": "code",
   "execution_count": 57,
   "metadata": {},
   "outputs": [],
   "source": [
    "year_price = df[['year', 'last_price']].groupby(['year']).median().sort_index()"
   ]
  },
  {
   "cell_type": "code",
   "execution_count": 58,
   "metadata": {
    "scrolled": true
   },
   "outputs": [
    {
     "data": {
      "image/png": "[encoded data removed]",
      "text/plain": [
       "<Figure size 864x360 with 1 Axes>"
      ]
     },
     "metadata": {
      "needs_background": "light"
     },
     "output_type": "display_data"
    }
   ],
   "source": [
    "plt.figure(figsize=(12,5))\n",
    "plt.bar( year_price.index, year_price['last_price'], color='olive' )\n",
    "plt.title(\"Стоимость квартиры по годам\", fontsize=16)\n",
    "plt.ylabel(\"Стоимость\", fontsize=12)\n",
    "plt.ylim(4000000, 7000000)\n",
    "plt.show()"
   ]
  },
  {
   "cell_type": "markdown",
   "metadata": {},
   "source": [
    "С 2014 года стоимость квартир сильно упала, однако с 2017 тренд меняется на растущий"
   ]
  },
  {
   "cell_type": "markdown",
   "metadata": {},
   "source": [
    "# Месяц"
   ]
  },
  {
   "cell_type": "code",
   "execution_count": 59,
   "metadata": {},
   "outputs": [],
   "source": [
    "month_price = df[['month', 'last_price']].groupby(['month']).median().sort_index()\n",
    "month_price.index = ['январь', 'февраль', 'март', \"апрель\", \"май\", \"июнь\", \"июль\", \"август\", \"сентябрь\", \"октябрь\", \"ноябрь\", \"декабрь\"]"
   ]
  },
  {
   "cell_type": "code",
   "execution_count": 60,
   "metadata": {},
   "outputs": [
    {
     "data": {
      "image/png": "[encoded data removed]",
      "text/plain": [
       "<Figure size 864x360 with 1 Axes>"
      ]
     },
     "metadata": {
      "needs_background": "light"
     },
     "output_type": "display_data"
    }
   ],
   "source": [
    "plt.figure(figsize=(12,5))\n",
    "plt.plot( month_price.index, month_price['last_price'], color='forestgreen' )\n",
    "plt.title(\"Стоимость квартиры в зависимости от месяца\")\n",
    "plt.ylabel(\"Стоимость\", fontsize=12)\n",
    "plt.show()"
   ]
  },
  {
   "cell_type": "markdown",
   "metadata": {},
   "source": [
    "В июне квартиры продаются дешевле, чем в остальные месяцы\n",
    "Пик стоимости приходится на апрель"
   ]
  },
  {
   "cell_type": "markdown",
   "metadata": {},
   "source": [
    "# День"
   ]
  },
  {
   "cell_type": "code",
   "execution_count": 61,
   "metadata": {},
   "outputs": [],
   "source": [
    "day_price = df[['weekday', 'last_price']].groupby(['weekday']).median().sort_index()\n",
    "day_price.index = [\"понедельник\", \"вторник\", \"среда\", \"четверг\", \"пятница\", \"суббота\", \"воскресенье\"]"
   ]
  },
  {
   "cell_type": "code",
   "execution_count": 62,
   "metadata": {
    "scrolled": true
   },
   "outputs": [
    {
     "data": {
      "image/png": "[encoded data removed]",
      "text/plain": [
       "<Figure size 864x360 with 1 Axes>"
      ]
     },
     "metadata": {
      "needs_background": "light"
     },
     "output_type": "display_data"
    }
   ],
   "source": [
    "plt.figure(figsize=(12,5))\n",
    "plt.plot( day_price.index, day_price['last_price'], color=\"indigo\" )\n",
    "plt.ylabel(\"Стоимость\", fontsize=12)\n",
    "plt.title(\"Стоимость квартиры в зависимости от дня недели\")\n",
    "plt.show()"
   ]
  },
  {
   "cell_type": "markdown",
   "metadata": {},
   "source": [
    "В воскресенье квартиры продаются дешевле, чем в остальные дни\n",
    "А по вторникам цена обычно выше"
   ]
  },
  {
   "cell_type": "markdown",
   "metadata": {},
   "source": [
    "<div class=\"alert alert-success\">\n",
    "<h2> Комментарий ревьюера <a class=\"tocSkip\"> </h2>\n",
    "\n",
    "<b>Все отлично!👍:</b> \n",
    "    \n",
    "На этом шаге анализа все тоже корректно, правильный подход анализировать количественные и категориальные переменные отдельно. Применение корреляции к дню, неделе, месяцу размещения объявления, типу этажа и кол-ву комнат  не эффективно, т.к. цена квартиры зависит от этих признаков не линейно. "
   ]
  },
  {
   "cell_type": "markdown",
   "metadata": {},
   "source": [
    "<div class=\"alert alert-warning\">\n",
    "    <h2> Комментарий ревьюера <a class=\"tocSkip\"> </h2>\n",
    "    \n",
    "<b>Некоторые замечания и рекомендации💡:</b> \n",
    "        \n",
    "Несколько рекомендаций:\n",
    "        \n",
    "* для количественных переменных было бы удобнее выводить коэффициенты корреляции в единой корреляционной таблице (как ты и делаешь)  или в качестве альтернативы использовать график типа `heatmap` \n",
    "        \n",
    "https://datatofish.com/correlation-matrix-pandas/ (построение корреляционной матрицы с помощью Python)\n",
    "\n",
    "        \n",
    "https://stackoverflow.com/questions/29432629/plot-correlation-matrix-using-pandas (полезный тред на Stackoverflow, очень полезный ресурс для кодеров, советую, с помощью него можно решить практически все проблемы, которые возникают у тебя при работе с кодом)\n",
    "        \n",
    "https://likegeeks.com/python-correlation-matrix/ (еще один туториал)\n",
    "        \n",
    "Другой вариант - график pairplot библиотеки seaborn.\n",
    "       \n",
    "Подробнее: \n",
    "        \n",
    "https://www.machinelearningmastery.ru/visualizing-data-with-pair-plots-in-python-f228cf529166/\n",
    "        \n",
    "https://seaborn.pydata.org/generated/seaborn.pairplot.html\n",
    "\n"
   ]
  },
  {
   "cell_type": "markdown",
   "metadata": {},
   "source": [
    "### 10 населенных пунктов с самой высокой стоимостью кв. метра"
   ]
  },
  {
   "cell_type": "code",
   "execution_count": 63,
   "metadata": {},
   "outputs": [],
   "source": [
    "top_locals = df.groupby('locality_name')['locality_name'].count().sort_values(ascending=False).head(10).index.values.tolist()"
   ]
  },
  {
   "cell_type": "code",
   "execution_count": 64,
   "metadata": {},
   "outputs": [],
   "source": [
    "df_filtered = df.query('locality_name in @top_locals')"
   ]
  },
  {
   "cell_type": "code",
   "execution_count": 65,
   "metadata": {},
   "outputs": [
    {
     "data": {
      "text/plain": [
       "locality_name\n",
       "Санкт-Петербург      108643.946733\n",
       "Пушкин               101913.956187\n",
       "деревня Кудрово       92312.310411\n",
       "посёлок Парголово     90348.996281\n",
       "посёлок Мурино        85563.326907\n",
       "посёлок Шушары        78643.827638\n",
       "Колпино               75370.025473\n",
       "Гатчина               68974.051834\n",
       "Всеволожск            67111.750089\n",
       "Выборг                58235.030188\n",
       "Name: price_for_square_meter, dtype: float64"
      ]
     },
     "execution_count": 65,
     "metadata": {},
     "output_type": "execute_result"
    }
   ],
   "source": [
    "df_filtered.groupby('locality_name')['price_for_square_meter'].mean().sort_values(ascending=False)"
   ]
  },
  {
   "cell_type": "markdown",
   "metadata": {},
   "source": [
    "Самые дорогие квартиры располагаются, ожидаемо, в Санкт-Петербурге (115 тыс.), затем идет Пушкин.\n",
    "Низкая стоимость квартир в Выборге - в два раза дешевле, чем в Санкт-Петербурге.\n",
    "Во Всеволожске и Гатчине примерно одинаковые цены за кв.м., порядка 68 тыс."
   ]
  },
  {
   "cell_type": "markdown",
   "metadata": {},
   "source": [
    "<div class=\"alert alert-success\">\n",
    "<h2> Комментарий ревьюера <a class=\"tocSkip\"> </h2>\n",
    "\n",
    "<b>Все отлично!👍:</b> \n",
    "    \n",
    "Согласна с твоим результатом на этом шаге."
   ]
  },
  {
   "cell_type": "markdown",
   "metadata": {},
   "source": [
    "### Стоимость квартир в центре"
   ]
  },
  {
   "cell_type": "code",
   "execution_count": 66,
   "metadata": {},
   "outputs": [],
   "source": [
    "df['kilometres_to_city_centers'] =(df['city_centers_nearest']/1000 ).round()"
   ]
  },
  {
   "cell_type": "code",
   "execution_count": 67,
   "metadata": {},
   "outputs": [
    {
     "data": {
      "image/png": "[encoded data removed]",
      "text/plain": [
       "<Figure size 864x360 with 1 Axes>"
      ]
     },
     "metadata": {
      "needs_background": "light"
     },
     "output_type": "display_data"
    }
   ],
   "source": [
    "plt.figure(figsize=(12,5))\n",
    "df.groupby('kilometres_to_city_centers')['last_price'].mean().plot(color='mediumslateblue')\n",
    "plt.plot([9,9],[1000000,30000000], color='ghostwhite')\n",
    "plt.title(\"Стоимость квартиры в зависимости от расстояния до центра\")\n",
    "plt.ylabel(\"Стоимость\")\n",
    "plt.show()"
   ]
  },
  {
   "cell_type": "markdown",
   "metadata": {},
   "source": [
    "На графике видно, что цена сильно меняется на 8-9 километрах, следовательно это и есть граница центра города"
   ]
  },
  {
   "cell_type": "markdown",
   "metadata": {},
   "source": [
    "<div class=\"alert alert-warning\">\n",
    "    <h2> Комментарий ревьюера <a class=\"tocSkip\"></h2>\n",
    "    \n",
    "<b>Некоторые замечания и рекомендации💡:</b> \n",
    "\n",
    "Есть простой способ избавить от е-формата чисел при анализе данного столбца - перевести значения в колонке last_price из *руб* в *млн руб*. Для этого значения в колонке last_price нужно разделить на 1 000 000."
   ]
  },
  {
   "cell_type": "markdown",
   "metadata": {},
   "source": [
    "### Анализ квартир в центре"
   ]
  },
  {
   "cell_type": "code",
   "execution_count": 68,
   "metadata": {},
   "outputs": [],
   "source": [
    "df_flats_in_center = df.query('kilometres_to_city_centers <= 8 and locality_name == \"Санкт-Петербург\"')"
   ]
  },
  {
   "cell_type": "markdown",
   "metadata": {},
   "source": [
    "<div class=\"alert alert-success\">\n",
    "<h2> Комментарий ревьюера <a class=\"tocSkip\"> </h2>\n",
    "\n",
    "<b>Все отлично!👍:</b> \n",
    "    \n",
    "Хорошо, 8 км вполне адекватная цифра для зоны центра СПб."
   ]
  },
  {
   "cell_type": "code",
   "execution_count": 69,
   "metadata": {},
   "outputs": [
    {
     "data": {
      "image/png": "[encoded data removed]",
      "text/plain": [
       "<Figure size 576x432 with 1 Axes>"
      ]
     },
     "metadata": {
      "needs_background": "light"
     },
     "output_type": "display_data"
    },
    {
     "data": {
      "image/png": "[encoded data removed]",
      "text/plain": [
       "<Figure size 576x432 with 1 Axes>"
      ]
     },
     "metadata": {
      "needs_background": "light"
     },
     "output_type": "display_data"
    },
    {
     "data": {
      "image/png": "[encoded data removed]",
      "text/plain": [
       "<Figure size 576x432 with 1 Axes>"
      ]
     },
     "metadata": {
      "needs_background": "light"
     },
     "output_type": "display_data"
    },
    {
     "data": {
      "image/png": "[encoded data removed]",
      "text/plain": [
       "<Figure size 576x432 with 1 Axes>"
      ]
     },
     "metadata": {
      "needs_background": "light"
     },
     "output_type": "display_data"
    }
   ],
   "source": [
    "df_flats_in_center.plot(y='total_area', kind='hist', density=True, bins=50, xlim=(0,500), figsize=(8,6), title='Общая площадь')\n",
    "df_flats_in_center.plot(y='last_price', kind='hist', density=True, bins=200, xlim=(12190,40000000.0), figsize=(8,6), title='Стоимость')\n",
    "df_flats_in_center.plot(y='rooms', kind='hist', bins=10, range=(0, 10), figsize=(8,6), title='Число комнат')\n",
    "df_flats_in_center.plot(y='ceiling_height', kind='hist', bins=50, range=(2.5, 5), density=True, figsize=(8,6), title='Высота потолков')\n",
    "plt.show()"
   ]
  },
  {
   "cell_type": "code",
   "execution_count": 70,
   "metadata": {},
   "outputs": [
    {
     "name": "stdout",
     "output_type": "stream",
     "text": [
      "Медианное значение площади 66.5\n"
     ]
    }
   ],
   "source": [
    "print(\"Медианное значение площади\", df_flats_in_center['total_area'].median())"
   ]
  },
  {
   "cell_type": "code",
   "execution_count": 71,
   "metadata": {},
   "outputs": [
    {
     "name": "stdout",
     "output_type": "stream",
     "text": [
      "Медианное значение цены 7700000.0\n"
     ]
    }
   ],
   "source": [
    "print(\"Медианное значение цены\", df_flats_in_center['last_price'].median())"
   ]
  },
  {
   "cell_type": "code",
   "execution_count": 72,
   "metadata": {},
   "outputs": [
    {
     "name": "stdout",
     "output_type": "stream",
     "text": [
      "Медианное значение высоты потолков 2.95\n"
     ]
    }
   ],
   "source": [
    "print(\"Медианное значение высоты потолков\", df_flats_in_center.ceiling_height.median())"
   ]
  },
  {
   "cell_type": "markdown",
   "metadata": {},
   "source": [
    "Квартиры в центре города могут \"похвастать\" большей площадью - 66 кв.м.¶\n",
    "Такие квартиры также в среднем более дорогие, медианная стоимость составляет почти 8 млн. В то время, как для всех квартир эта стоимость равняется 4,5 миллионам.\n",
    "Квартиры в центре также чаще двух- или трехкомнатные, тогда как в общей массе больше \"однушек\".\n",
    "У данных квартир также выше потолки, в среднем - 3 метра."
   ]
  },
  {
   "cell_type": "markdown",
   "metadata": {},
   "source": [
    "### Выясним какие факторы влияют на стоимость квартиры в центре (число комнат, этаж, удалённость от центра, дата размещения объявления) и сравним с выводом по всем квартирам"
   ]
  },
  {
   "cell_type": "markdown",
   "metadata": {},
   "source": [
    "# Число комнат"
   ]
  },
  {
   "cell_type": "code",
   "execution_count": 73,
   "metadata": {
    "scrolled": true
   },
   "outputs": [
    {
     "data": {
      "image/png": "[encoded data removed]",
      "text/plain": [
       "<Figure size 432x288 with 1 Axes>"
      ]
     },
     "metadata": {
      "needs_background": "light"
     },
     "output_type": "display_data"
    }
   ],
   "source": [
    "rooms_price_center = df_flats_in_center[['rooms', 'last_price']].groupby(['rooms']).median()\n",
    "ax = sns.barplot(x=rooms_price_center.index, y=rooms_price_center['last_price'] , color='lightblue' )\n",
    "for c in ax.patches:\n",
    "    c.set_zorder(0)\n",
    "sns.regplot(x=np.arange(0,len(rooms_price_center)), y=rooms_price_center['last_price'], ax=ax)\n",
    "sns.despine(offset=10, trim=True)\n",
    "ax.set_ylabel(\"Стоимость\")\n",
    "plt.show()"
   ]
  },
  {
   "cell_type": "markdown",
   "metadata": {},
   "source": [
    "Стоимость квартиры также увеличивается в зависимости от количества комнат, как и во всем датасете¶"
   ]
  },
  {
   "cell_type": "markdown",
   "metadata": {},
   "source": [
    "# Этаж"
   ]
  },
  {
   "cell_type": "code",
   "execution_count": 74,
   "metadata": {},
   "outputs": [],
   "source": [
    "floor_price_center = (df_flats_in_center[['floor_category', 'last_price']].groupby('floor_category').median()\n",
    "                      .sort_values('last_price'))"
   ]
  },
  {
   "cell_type": "code",
   "execution_count": 75,
   "metadata": {},
   "outputs": [
    {
     "data": {
      "image/png": "[encoded data removed]",
      "text/plain": [
       "<Figure size 720x360 with 1 Axes>"
      ]
     },
     "metadata": {
      "needs_background": "light"
     },
     "output_type": "display_data"
    }
   ],
   "source": [
    "plt.figure(figsize=(10,5))\n",
    "plt.barh( floor_price_center.index, floor_price_center['last_price'] )\n",
    "plt.title(\"Этаж\")\n",
    "plt.xlabel(\"Стоимость\")\n",
    "plt.show()"
   ]
  },
  {
   "cell_type": "markdown",
   "metadata": {},
   "source": [
    "Квартиры на первом этаже в центре Санкт-Петербурга также дешевле."
   ]
  },
  {
   "cell_type": "markdown",
   "metadata": {},
   "source": [
    "# Удаленность"
   ]
  },
  {
   "cell_type": "code",
   "execution_count": 76,
   "metadata": {},
   "outputs": [
    {
     "data": {
      "image/png": "[encoded data removed]",
      "text/plain": [
       "<Figure size 432x288 with 1 Axes>"
      ]
     },
     "metadata": {
      "needs_background": "light"
     },
     "output_type": "display_data"
    }
   ],
   "source": [
    "plt.scatter(df_flats_in_center['last_price'], df_flats_in_center['city_centers_nearest'], c='r', alpha=0.05)\n",
    "plt.xlim(0,20000000)\n",
    "plt.xlabel('Price', fontsize=14)\n",
    "plt.ylabel('Distance to center', fontsize=14)\n",
    "plt.show()"
   ]
  },
  {
   "cell_type": "code",
   "execution_count": 77,
   "metadata": {},
   "outputs": [
    {
     "data": {
      "text/html": [
       "<div>\n",
       "<style scoped>\n",
       "    .dataframe tbody tr th:only-of-type {\n",
       "        vertical-align: middle;\n",
       "    }\n",
       "\n",
       "    .dataframe tbody tr th {\n",
       "        vertical-align: top;\n",
       "    }\n",
       "\n",
       "    .dataframe thead th {\n",
       "        text-align: right;\n",
       "    }\n",
       "</style>\n",
       "<table border=\"1\" class=\"dataframe\">\n",
       "  <thead>\n",
       "    <tr style=\"text-align: right;\">\n",
       "      <th></th>\n",
       "      <th>last_price</th>\n",
       "      <th>city_centers_nearest</th>\n",
       "    </tr>\n",
       "  </thead>\n",
       "  <tbody>\n",
       "    <tr>\n",
       "      <td>last_price</td>\n",
       "      <td>1.000000</td>\n",
       "      <td>-0.141241</td>\n",
       "    </tr>\n",
       "    <tr>\n",
       "      <td>city_centers_nearest</td>\n",
       "      <td>-0.141241</td>\n",
       "      <td>1.000000</td>\n",
       "    </tr>\n",
       "  </tbody>\n",
       "</table>\n",
       "</div>"
      ],
      "text/plain": [
       "                      last_price  city_centers_nearest\n",
       "last_price              1.000000             -0.141241\n",
       "city_centers_nearest   -0.141241              1.000000"
      ]
     },
     "execution_count": 77,
     "metadata": {},
     "output_type": "execute_result"
    }
   ],
   "source": [
    "df_flats_in_center[['last_price', 'city_centers_nearest']].corr()"
   ]
  },
  {
   "cell_type": "markdown",
   "metadata": {},
   "source": [
    "А вот зависимости от удаленности нет, квартиры могут стоить в центре по разному."
   ]
  },
  {
   "cell_type": "markdown",
   "metadata": {},
   "source": [
    "### Зависимость от даты"
   ]
  },
  {
   "cell_type": "markdown",
   "metadata": {},
   "source": [
    "# Год"
   ]
  },
  {
   "cell_type": "code",
   "execution_count": 78,
   "metadata": {},
   "outputs": [],
   "source": [
    "year_price_center = df_flats_in_center[['year', 'last_price']].groupby(['year']).median().sort_index()"
   ]
  },
  {
   "cell_type": "code",
   "execution_count": 79,
   "metadata": {},
   "outputs": [
    {
     "data": {
      "image/png": "[encoded data removed]",
      "text/plain": [
       "<Figure size 864x360 with 1 Axes>"
      ]
     },
     "metadata": {
      "needs_background": "light"
     },
     "output_type": "display_data"
    }
   ],
   "source": [
    "plt.figure(figsize=(12,5))\n",
    "plt.bar( year_price_center.index, year_price_center['last_price'], color='olive' )\n",
    "plt.title(\"Стоимость квартиры по годам\", fontsize=16)\n",
    "plt.ylabel(\"Стоимость\", fontsize=12)\n",
    "plt.ylim(7000000,9000000)\n",
    "plt.show()"
   ]
  },
  {
   "cell_type": "markdown",
   "metadata": {},
   "source": [
    "Диаграмма точно такая же, как и для всей выборки, с 2014 стоимость упала, а c 2017 начинает расти"
   ]
  },
  {
   "cell_type": "markdown",
   "metadata": {},
   "source": [
    "<div class=\"alert alert-warning\">\n",
    "    <h2> Комментарий ревьюера <a class=\"tocSkip\"></h2>\n",
    "    \n",
    "<b>Некоторые замечания и рекомендации💡:</b> \n",
    "    \n",
    "    \n",
    "Насчет падения цены: можно рассмотреть динамику цены 1м2, возможно упала не столько цена, сколько площадь продаваемых квартир.\n",
    "  "
   ]
  },
  {
   "cell_type": "markdown",
   "metadata": {},
   "source": [
    "# Месяц"
   ]
  },
  {
   "cell_type": "code",
   "execution_count": 80,
   "metadata": {},
   "outputs": [],
   "source": [
    "month_price_center = df_flats_in_center[['month', 'last_price']].groupby(['month']).median().sort_index()\n",
    "month_price_center.index = ['январь', 'февраль', 'март', \"апрель\", \"май\", \"июнь\", \"июль\", \"август\", \"сентябрь\", \"октябрь\", \"ноябрь\", \"декабрь\"]"
   ]
  },
  {
   "cell_type": "code",
   "execution_count": 81,
   "metadata": {},
   "outputs": [
    {
     "data": {
      "image/png": "[encoded data removed]",
      "text/plain": [
       "<Figure size 864x360 with 1 Axes>"
      ]
     },
     "metadata": {
      "needs_background": "light"
     },
     "output_type": "display_data"
    }
   ],
   "source": [
    "plt.figure(figsize=(12,5))\n",
    "plt.plot( month_price_center.index, month_price_center['last_price'], color='forestgreen' )\n",
    "plt.title(\"Стоимость квартиры в зависимости от месяца\")\n",
    "plt.ylabel(\"Стоимость\", fontsize=12)\n",
    "plt.show()"
   ]
  },
  {
   "cell_type": "markdown",
   "metadata": {},
   "source": [
    "Для квартир в центре Санкт-Петербурга картина меняется: наименьшая стоимость соответствует квартирам, продаваемым в декабре.\n",
    "А наибольшая стоимость в сентябре, вероятно, все хотят купить квартиру поближе к работе перед началом учебного/рабочего года"
   ]
  },
  {
   "cell_type": "markdown",
   "metadata": {},
   "source": [
    "# День"
   ]
  },
  {
   "cell_type": "code",
   "execution_count": 82,
   "metadata": {},
   "outputs": [],
   "source": [
    "day_price_center = df_flats_in_center[['weekday', 'last_price']].groupby(['weekday']).median().sort_index()\n",
    "day_price_center.index = [\"понедельник\", \"вторник\", \"среда\", \"четверг\", \"пятница\", \"суббота\", \"воскресенье\"]"
   ]
  },
  {
   "cell_type": "code",
   "execution_count": 83,
   "metadata": {},
   "outputs": [
    {
     "data": {
      "image/png": "[encoded data removed]",
      "text/plain": [
       "<Figure size 864x360 with 1 Axes>"
      ]
     },
     "metadata": {
      "needs_background": "light"
     },
     "output_type": "display_data"
    }
   ],
   "source": [
    "plt.figure(figsize=(12,5))\n",
    "plt.plot( day_price_center.index, day_price_center['last_price'], color=\"indigo\" )\n",
    "plt.ylabel(\"Стоимость\", fontsize=12)\n",
    "plt.title(\"Стоимость квартиры в зависимости от дня недели\")\n",
    "plt.show()"
   ]
  },
  {
   "cell_type": "markdown",
   "metadata": {},
   "source": [
    "Зависимость стоимости квартиры от дня недели также разительно отличается, дешевле всего квартиры выставляются на продажу по четвергам, а по наиболее высокой цене по воскресеньям"
   ]
  },
  {
   "cell_type": "markdown",
   "metadata": {},
   "source": [
    "<div class=\"alert alert-success\">\n",
    "<h2> Комментарий ревьюера <a class=\"tocSkip\"> </h2>\n",
    "\n",
    "<b>Все отлично!👍:</b> \n",
    "    \n",
    "Никита, все отлично, абсолютно корректная логика анализа: нам важно было сравнить центр города и весь город и понять, есть ли разница во влиянии факторов на стоимость жилья. "
   ]
  },
  {
   "cell_type": "markdown",
   "metadata": {},
   "source": [
    "## Общий вывод"
   ]
  },
  {
   "cell_type": "markdown",
   "metadata": {},
   "source": [
    "1. На первом шаге при знакомстве с датасетом были обнаружены множественные пропуски, а также много аномалий, от которых мы в последствии успешно избавились.\n",
    "2. На втором этапе для пропущенных значений этажности и высоты потолков домов были восстановлены значения по доступным данным из датасета. Заполнены другие пропущенные значения. Изменены типы данных, обработаны выбросы и аномальные значения.\n",
    "3. На третьем шаге были посчитаны и добавлены в таблицу:\n",
    "1. Цена квадратного метра;\n",
    "2. День недели, месяц и год публикации объявления;\n",
    "3. Этаж квартиры; варианты — первый, последний, другой;\n",
    "4. Соотношение жилой и общей площади, а также отношение площади кухни к общей.\n",
    "4. На четвертом этапе был произведен исследовательский анализ данных и было выявлено, что:\n",
    "1. В среднем квартира продается около трех месяцев\n",
    "2. Стоимость квартиры прямопропорционально зависит от площади и количества комнат и обратно пропорциональна расстоянию до центра\n",
    "3. На первом этаже квартиры стоят дешевле\n",
    "4. Стоимость квартир с 2014 по 2017 снизилась более чем на 2,5 млн. руб.\n",
    "5. В июне квартиры продаются по самой низкой стоимости, а в апреле по самой высокой\n",
    "6. Квартира выставленная на продажу в воскресенье в среднем продается на 200 тыс. дешевле чем в пик - во вторник\n",
    "7. Самые дорогие квартиры находятся в Санкт-Петербурге и Пушкине, а самые дешевые в Выборге\n",
    "8. Граница центра - 9 километров\n",
    "9. Квартиры в центре сильно отличаются в цене, они примерно в два раза дороже. Площадь квартир больше в среднем на 15 кв.м. Чаще встречаются двух- и трехкомнатные квартиры, нежели однокомнатные. Более высокие потолки - 3 метра, для остальных квартир из датасета - 2,65. \n",
    "10. Стоимость квартир в центре также зависит от количества комнат, от этажа (на первом - дешевле), а от удаленности цена квартиры не зависит, в отличие от квартир из всей выборки.\n",
    "11. Стоимость квартир в центре Санкт-Петербурга также упала с 2014 года.\n",
    "12. По самой дешевой цене квартиры продаются в декабре, по самой дорогой - в сентябре\n",
    "13. Квартиры, размещаемые на продажу по четвергам продаются дешевле, чем в остальные дни. Пик стоимости приходится на воскресенье"
   ]
  },
  {
   "cell_type": "markdown",
   "metadata": {},
   "source": [
    "<div class=\"alert alert-block alert-danger\">\n",
    "<h2> Комментарий ревьюера <a class=\"tocSkip\"></h2>\n",
    "\n",
    "    \n",
    "<b>На доработку🤔:</b>\n",
    "\n",
    "Никита, если ты вспомнишь инструкцию к проекту, то основная цель звучит так: \n",
    "    \n",
    "`В вашем распоряжении данные сервиса Яндекс.Недвижимость — архив объявлений о продаже квартир в Санкт-Петербурге и соседних населённых пунктах за несколько лет. Нужно научиться определять рыночную стоимость объектов недвижимости. Ваша задача — установить параметры. Это позволит построить автоматизированную систему: она отследит аномалии и мошенническую деятельность.`\n",
    "    \n",
    "Поэтому в итоговом выводе важно не просто суммировать свои действия в рамках реализации анализа, а также дать рекомендации заказчику. Попробуй подумать, какие это могут быть рекомендации, и сформулировав их, добавь в итоговый вывод по проекту."
   ]
  },
  {
   "cell_type": "markdown",
   "metadata": {},
   "source": [
    "\n",
    "<div class=\"alert alert-success\">\n",
    "<h2> Комментарий ревьюера:вторая итерация ревью <a class=\"tocSkip\"> </h2>\n",
    "\n",
    "<b>Все отлично!👍</b> "
   ]
  },
  {
   "cell_type": "markdown",
   "metadata": {},
   "source": [
    "<div style=\"border:solid Chocolate 2px; padding: 40px\">\n",
    "\n",
    "**Общий вывод по проекту**\n",
    "\n",
    "Никита, спасибо за твой проект! Ты приложил много усилий, чтобы довести его до конца, проделана огромная работа, и это видно невооруженным глазом, ты большой молодец! Есть несколько важных моментов, которые я отметила и которые можно было бы улучшить, подсказки ты найдешь в моих комментариях. \n",
    "\n",
    "**Отмечу отдельные положительные моменты проекта🙂**:\n",
    " \n",
    "* На разных шагах проекта ты предлагал очень интересные решения и методы для их реализации. Хорошая работа!\n",
    "* Ты использовал самые разные методы для работы с данными, все получилось!\n",
    "* Ты активно использовал визуализацию, хорошо, что ты не избегаешь этого инструмента анализа, за оформление отдельный плюс.\n",
    "* Здорово, что ты пытался автоматизировать процесс решения поставленных задач.\n",
    "* Проект хорошо оформлен и структурирован, его было приятно читать и проверять, хорошая работа!\n",
    "\n",
    "\n",
    "**На что стоит обратить внимание🤓**:\n",
    "    \n",
    "* Важно доработать итоговый вывод.\n",
    "* Стоит пересмотреть стратегию работы с выбросами (порядок шагов в проекте имеет значение)\n",
    "* Остальные рекомендации ты найдешь в моих комментариях!\n",
    "\n",
    "\n",
    "**Желаю удачи и жду твой проект на повторное ревью!**😉\n",
    "    \n",
    "![gif](https://media.giphy.com/media/11aMKw40E5nAEE/giphy.gif)"
   ]
  },
  {
   "cell_type": "markdown",
   "metadata": {},
   "source": [
    "<div class=\"alert alert-block alert-info\">Можете ли дать свои контакты? Очень открыто,информативно и интересно указываете на ошибки, и проблемы. Рассказываете много других путей решения задачи.</div>"
   ]
  },
  {
   "cell_type": "markdown",
   "metadata": {},
   "source": [
    "<div style=\"border:solid Chocolate 2px; padding: 40px\">\n",
    "\n",
    "**Общий вывод по проекту: вторая итерация ревью**\n",
    "\n",
    "Никита, спасибо, что прислал проект с доработками! Основное удалось скорректировать, в след раз старайся также обращать внимание на желтые комментарии, они могут помочь узнать что-то новое и, возможно, попробовтаь методы, которые раньше не приходилось применять. Спешу тебе сообщить, что твой проект принят, и ты можешь перейти на следующий спринт!\n",
    "    \n",
    "**Желаю тебе крутых и интересных проектов на следующих спринтах!**😉\n",
    "![gif](https://media.giphy.com/media/OZbGrdp7FiDiE/giphy.gif)\n",
    "    \n",
    "Насчет контактов, оставлю почту: arinauksusova@yandex.ru, если будут вопросы - пиши:)"
   ]
  },
  {
   "cell_type": "code",
   "execution_count": 84,
   "metadata": {},
   "outputs": [
    {
     "name": "stdout",
     "output_type": "stream",
     "text": [
      "C наступающим новым годом!🤩\n",
      "\u001b[94m~~~~~~~~~~~~~~~~~~\u001b[95m!\u001b[94m~~~~~~~~~~~~~~~~~~\n",
      "~~~~~~~~~~~~~~~~~~\u001b[36m^\u001b[94m~~~~~~~~~~~~~~~~~~\n",
      "~~~~~~~~~~~~~~~~~\u001b[92m* *\u001b[94m~~~~~~~~~~~~~~~~~\n",
      "~~~~~~~~~~~~~~~~\u001b[92m* * *\u001b[94m~~~~~~~~~~~~~~~~\n",
      "~~~~~~~~~~~~~~~\u001b[92m* * * *\u001b[94m~~~~~~~~~~~~~~~\n",
      "~~~~~~~~~~~~~~\u001b[92m* * * * *\u001b[94m~~~~~~~~~~~~~~\n",
      "~~~~~~~~~~~~~\u001b[92m* * * * * *\u001b[94m~~~~~~~~~~~~~\n",
      "~~~~~~~~~~~~\u001b[93m@ @ @ @ @ @ @\u001b[94m~~~~~~~~~~~~\n",
      "~~~~~~~~~~~\u001b[93m@ @ @ @ @ @ @ @\u001b[94m~~~~~~~~~~~\n",
      "~~~~~~~~~~\u001b[92m* * * * * * * * *\u001b[94m~~~~~~~~~~\n",
      "~~~~~~~~~\u001b[92m* * * * * * * * * *\u001b[94m~~~~~~~~~\n",
      "~~~~~~~~\u001b[93m@ @ @ @ @ @ @ @ @ @ @\u001b[94m~~~~~~~~\n",
      "~~~~~~~\u001b[92m* * * * * * * * * * * *\u001b[94m~~~~~~~\n",
      "~~~~~~\u001b[92m* * * * * * * * * * * * *\u001b[94m~~~~~~\n",
      "~~~~~\u001b[93m@ @ @ @ @ @ @ @ @ @ @ @ @ @\u001b[94m~~~~~\n",
      "~~~~\u001b[36m^ ^ ^ ^ ^ ^ ^ ^ ^ ^ ^ ^ ^ ^ ^\u001b[94m~~~~\n",
      "~~~\u001b[92m* * * * * * * * * * * * * * * *\u001b[94m~~~\n",
      "~~\u001b[92m* * * * * * * * * * * * * * * * *\u001b[94m~~\n",
      "~\u001b[36m^ ^ ^ ^ ^ ^ ^ ^ ^ ^ ^ ^ ^ ^ ^ ^ ^ ^\u001b[94m~\n",
      "\u001b[92m* * * * * * * * * * * * * * * * * * *\u001b[94m\n",
      "~~~~~~~~~~~~~~~~~~\u001b[92m|\u001b[94m~~~~~~~~~~~~~~~~~~\n",
      "~~~~~~~~~~~~~~~~~~\u001b[92m|\u001b[94m~~~~~~~~~~~~~~~~~~\n",
      "~~~~~~~~~~~~~~~~\u001b[92m[___]\u001b[94m~~~~~~~~~~~~~~~~\n"
     ]
    }
   ],
   "source": [
    "import random\n",
    "\n",
    "class color:\n",
    "    PURPLE = '\\033[95m'\n",
    "    CYAN = '\\033[96m'\n",
    "    DARKCYAN = '\\033[36m'\n",
    "    BLUE = '\\033[94m'\n",
    "    GREEN = '\\033[92m'\n",
    "    YELLOW = '\\033[93m'\n",
    "    RED = '\\033[91m'\n",
    "    BOLD = '\\033[1m'\n",
    "    UNDERLINE = '\\033[4m'\n",
    "    END = '\\033[0m'\n",
    "    \n",
    "print('C наступающим новым годом!🤩')\n",
    "    \n",
    "for v in ['!'] + [' '.join(random.choice(['*', '*','*','^', '@']) * i) \n",
    "                  for i in range(1, 20, 1)] \\\n",
    "                                          + ['|', '|', '[___]']:\n",
    "    if v == '!':                                     \n",
    "        print(f'{color.BLUE}{color.PURPLE + v[:] + color.BLUE:~^47}')\n",
    "    elif '^' in v:\n",
    "        print(f'{color.DARKCYAN + v[:] + color.BLUE:~^47}')\n",
    "    elif '@' in v:\n",
    "        print(f'{color.YELLOW + v[:] + color.BLUE:~^47}')\n",
    "    else:        \n",
    "        print(f'{color.GREEN + v[:] + color.BLUE:~^47}')\n"
   ]
  },
  {
   "cell_type": "markdown",
   "metadata": {},
   "source": [
    "## Чек-лист готовности проекта\n",
    "\n",
    "Поставьте 'x' в выполненных пунктах. Далее нажмите Shift+Enter."
   ]
  },
  {
   "cell_type": "markdown",
   "metadata": {},
   "source": [
    "- [x]  открыт файл\n",
    "- [x]  файлы изучены (выведены первые строки, метод info())\n",
    "- [x]  определены пропущенные значения\n",
    "- [x]  заполнены пропущенные значения\n",
    "- [x]  есть пояснение, какие пропущенные значения обнаружены\n",
    "- [x]  изменены типы данных\n",
    "- [x]  есть пояснение, в каких столбцах изменены типы и почему\n",
    "- [x]  посчитано и добавлено в таблицу: цена квадратного метра\n",
    "- [x]  посчитано и добавлено в таблицу: день недели, месяц и год публикации объявления\n",
    "- [x]  посчитано и добавлено в таблицу: этаж квартиры; варианты — первый, последний, другой\n",
    "- [x]  посчитано и добавлено в таблицу: соотношение жилой и общей площади, а также отношение площади кухни к общей\n",
    "- [x]  изучены следующие параметры: площадь, цена, число комнат, высота потолков\n",
    "- [x]  построены гистограммы для каждого параметра\n",
    "- [x]  выполнено задание: \"Изучите время продажи квартиры. Постройте гистограмму. Посчитайте среднее и медиану. Опишите, сколько обычно занимает продажа. Когда можно считать, что продажи прошли очень быстро, а когда необычно долго?\"\n",
    "- [x]  выполнено задание: \"Уберите редкие и выбивающиеся значения. Опишите, какие особенности обнаружили.\"\n",
    "- [x]  выполнено задание: \"Какие факторы больше всего влияют на стоимость квартиры? Изучите, зависит ли цена от квадратного метра, числа комнат, этажа (первого или последнего), удалённости от центра. Также изучите зависимость от даты размещения: дня недели, месяца и года. \"Выберите 10 населённых пунктов с наибольшим числом объявлений. Посчитайте среднюю цену квадратного метра в этих населённых пунктах. Выделите населённые пункты с самой высокой и низкой стоимостью жилья. Эти данные можно найти по имени в столбце '*locality_name'*. \"\n",
    "- [x]  выполнено задание: \"Изучите предложения квартир: для каждой квартиры есть информация о расстоянии до центра. Выделите квартиры в Санкт-Петербурге (*'locality_name'*). Ваша задача — выяснить, какая область входит в центр. Создайте столбец с расстоянием до центра в километрах: округлите до целых значений. После этого посчитайте среднюю цену для каждого километра. Постройте график: он должен показывать, как цена зависит от удалённости от центра. Определите границу, где график сильно меняется — это и будет центральная зона. \"\n",
    "- [x]  выполнено задание: \"Выделите сегмент квартир в центре. Проанализируйте эту территорию и изучите следующие параметры: площадь, цена, число комнат, высота потолков. Также выделите факторы, которые влияют на стоимость квартиры (число комнат, этаж, удалённость от центра, дата размещения объявления). Сделайте выводы. Отличаются ли они от общих выводов по всему городу?\"\n",
    "- [x]  в каждом этапе есть выводы\n",
    "- [x]  есть общий вывод"
   ]
  },
  {
   "cell_type": "code",
   "execution_count": null,
   "metadata": {},
   "outputs": [],
   "source": []
  }
 ],
 "metadata": {
  "ExecuteTimeLog": [
   {
    "duration": 1121,
    "start_time": "2021-12-09T16:12:07.317Z"
   },
   {
    "duration": 72,
    "start_time": "2021-12-09T16:12:25.717Z"
   },
   {
    "duration": 76,
    "start_time": "2021-12-09T16:12:50.521Z"
   },
   {
    "duration": 82,
    "start_time": "2021-12-09T16:13:06.961Z"
   },
   {
    "duration": 126,
    "start_time": "2021-12-09T16:23:11.335Z"
   },
   {
    "duration": 143,
    "start_time": "2021-12-09T16:23:25.447Z"
   },
   {
    "duration": 123,
    "start_time": "2021-12-09T16:23:34.939Z"
   },
   {
    "duration": 141,
    "start_time": "2021-12-09T16:23:42.078Z"
   },
   {
    "duration": 92,
    "start_time": "2021-12-09T16:25:24.662Z"
   },
   {
    "duration": 89,
    "start_time": "2021-12-09T16:25:34.507Z"
   },
   {
    "duration": 93,
    "start_time": "2021-12-09T16:25:39.290Z"
   },
   {
    "duration": 708,
    "start_time": "2021-12-09T16:25:49.618Z"
   },
   {
    "duration": 357,
    "start_time": "2021-12-09T16:26:15.290Z"
   },
   {
    "duration": 375,
    "start_time": "2021-12-09T16:26:22.361Z"
   },
   {
    "duration": 90,
    "start_time": "2021-12-09T16:26:40.312Z"
   },
   {
    "duration": 92,
    "start_time": "2021-12-09T16:26:48.280Z"
   },
   {
    "duration": 94,
    "start_time": "2021-12-09T16:27:00.264Z"
   },
   {
    "duration": 145,
    "start_time": "2021-12-09T16:27:12.400Z"
   },
   {
    "duration": 146,
    "start_time": "2021-12-09T16:35:05.894Z"
   },
   {
    "duration": 110,
    "start_time": "2021-12-09T16:36:15.265Z"
   },
   {
    "duration": 97,
    "start_time": "2021-12-09T16:36:23.160Z"
   },
   {
    "duration": 144,
    "start_time": "2021-12-09T16:36:29.319Z"
   },
   {
    "duration": 436,
    "start_time": "2021-12-09T16:38:23.669Z"
   },
   {
    "duration": 155,
    "start_time": "2021-12-09T16:38:32.324Z"
   },
   {
    "duration": 119,
    "start_time": "2021-12-09T16:38:56.275Z"
   },
   {
    "duration": 455,
    "start_time": "2021-12-09T16:39:25.098Z"
   },
   {
    "duration": 146,
    "start_time": "2021-12-09T16:40:12.209Z"
   },
   {
    "duration": 418,
    "start_time": "2021-12-09T16:40:54.368Z"
   },
   {
    "duration": 147,
    "start_time": "2021-12-09T16:41:13.368Z"
   },
   {
    "duration": 149,
    "start_time": "2021-12-09T16:41:28.462Z"
   },
   {
    "duration": 137,
    "start_time": "2021-12-09T16:41:41.494Z"
   },
   {
    "duration": 142,
    "start_time": "2021-12-09T16:42:52.373Z"
   },
   {
    "duration": 168,
    "start_time": "2021-12-09T16:45:38.462Z"
   },
   {
    "duration": 101,
    "start_time": "2021-12-09T16:46:57.118Z"
   },
   {
    "duration": 93,
    "start_time": "2021-12-09T16:47:09.372Z"
   },
   {
    "duration": 94,
    "start_time": "2021-12-09T16:50:33.033Z"
   },
   {
    "duration": 477,
    "start_time": "2021-12-09T16:50:38.265Z"
   },
   {
    "duration": 146,
    "start_time": "2021-12-09T16:51:55.189Z"
   },
   {
    "duration": 146,
    "start_time": "2021-12-09T16:54:56.082Z"
   },
   {
    "duration": 37,
    "start_time": "2021-12-09T17:10:58.571Z"
   },
   {
    "duration": 12,
    "start_time": "2021-12-09T17:11:08.600Z"
   },
   {
    "duration": 14,
    "start_time": "2021-12-09T17:15:14.170Z"
   },
   {
    "duration": 954,
    "start_time": "2021-12-09T17:16:00.716Z"
   },
   {
    "duration": 38,
    "start_time": "2021-12-09T17:21:25.433Z"
   },
   {
    "duration": 132,
    "start_time": "2021-12-09T17:22:57.808Z"
   },
   {
    "duration": 15,
    "start_time": "2021-12-09T17:23:02.494Z"
   },
   {
    "duration": 12,
    "start_time": "2021-12-09T17:23:07.454Z"
   },
   {
    "duration": 33,
    "start_time": "2021-12-09T17:23:09.846Z"
   },
   {
    "duration": 7,
    "start_time": "2021-12-09T17:28:55.727Z"
   },
   {
    "duration": 7,
    "start_time": "2021-12-09T17:29:15.668Z"
   },
   {
    "duration": 33,
    "start_time": "2021-12-09T17:29:25.770Z"
   },
   {
    "duration": 10,
    "start_time": "2021-12-09T17:29:39.348Z"
   },
   {
    "duration": 9,
    "start_time": "2021-12-09T17:29:44.785Z"
   },
   {
    "duration": 10,
    "start_time": "2021-12-09T17:32:04.169Z"
   },
   {
    "duration": 11,
    "start_time": "2021-12-09T17:32:11.414Z"
   },
   {
    "duration": 11,
    "start_time": "2021-12-09T17:32:21.446Z"
   },
   {
    "duration": 13,
    "start_time": "2021-12-09T17:36:51.237Z"
   },
   {
    "duration": 487,
    "start_time": "2021-12-09T17:37:01.829Z"
   },
   {
    "duration": 569,
    "start_time": "2021-12-09T17:37:11.318Z"
   },
   {
    "duration": 457,
    "start_time": "2021-12-09T17:37:17.349Z"
   },
   {
    "duration": 457,
    "start_time": "2021-12-09T17:37:27.341Z"
   },
   {
    "duration": 507,
    "start_time": "2021-12-09T17:37:31.500Z"
   },
   {
    "duration": 970,
    "start_time": "2021-12-09T17:37:38.301Z"
   },
   {
    "duration": 14,
    "start_time": "2021-12-09T17:37:45.332Z"
   },
   {
    "duration": 26,
    "start_time": "2021-12-09T17:41:38.749Z"
   },
   {
    "duration": 27,
    "start_time": "2021-12-09T17:50:24.495Z"
   },
   {
    "duration": 34,
    "start_time": "2021-12-09T17:50:33.669Z"
   },
   {
    "duration": 18,
    "start_time": "2021-12-09T17:50:41.044Z"
   },
   {
    "duration": 14,
    "start_time": "2021-12-09T17:50:54.028Z"
   },
   {
    "duration": 5,
    "start_time": "2021-12-09T17:51:39.971Z"
   },
   {
    "duration": 38,
    "start_time": "2021-12-09T17:51:52.514Z"
   },
   {
    "duration": 30,
    "start_time": "2021-12-09T17:52:17.778Z"
   },
   {
    "duration": 484,
    "start_time": "2021-12-09T17:52:20.161Z"
   },
   {
    "duration": 32,
    "start_time": "2021-12-09T17:52:28.994Z"
   },
   {
    "duration": 452,
    "start_time": "2021-12-09T17:52:30.498Z"
   },
   {
    "duration": 1005,
    "start_time": "2021-12-09T17:52:53.237Z"
   },
   {
    "duration": 16,
    "start_time": "2021-12-09T17:52:57.787Z"
   },
   {
    "duration": 12,
    "start_time": "2021-12-09T17:52:59.172Z"
   },
   {
    "duration": 37,
    "start_time": "2021-12-09T17:53:02.987Z"
   },
   {
    "duration": 11,
    "start_time": "2021-12-09T17:53:07.052Z"
   },
   {
    "duration": 30,
    "start_time": "2021-12-09T17:53:16.257Z"
   },
   {
    "duration": 36,
    "start_time": "2021-12-09T17:53:20.523Z"
   },
   {
    "duration": 10,
    "start_time": "2021-12-09T17:53:57.033Z"
   },
   {
    "duration": 233,
    "start_time": "2021-12-09T17:59:47.840Z"
   },
   {
    "duration": 61,
    "start_time": "2021-12-09T18:00:15.767Z"
   },
   {
    "duration": 57,
    "start_time": "2021-12-09T18:01:06.470Z"
   },
   {
    "duration": 31,
    "start_time": "2021-12-09T18:01:34.405Z"
   },
   {
    "duration": 788,
    "start_time": "2021-12-12T15:04:00.896Z"
   },
   {
    "duration": 10,
    "start_time": "2021-12-12T15:04:06.477Z"
   },
   {
    "duration": 9,
    "start_time": "2021-12-12T15:04:10.747Z"
   },
   {
    "duration": 25,
    "start_time": "2021-12-12T15:04:13.140Z"
   },
   {
    "duration": 50,
    "start_time": "2021-12-12T15:04:18.396Z"
   },
   {
    "duration": 9,
    "start_time": "2021-12-12T15:04:25.051Z"
   },
   {
    "duration": 19,
    "start_time": "2021-12-12T15:04:30.292Z"
   },
   {
    "duration": 22,
    "start_time": "2021-12-12T15:04:31.877Z"
   },
   {
    "duration": 22,
    "start_time": "2021-12-12T15:04:34.528Z"
   },
   {
    "duration": 8,
    "start_time": "2021-12-12T15:04:42.708Z"
   },
   {
    "duration": 150,
    "start_time": "2021-12-12T15:04:55.475Z"
   },
   {
    "duration": 58,
    "start_time": "2021-12-12T15:05:12.076Z"
   },
   {
    "duration": 10,
    "start_time": "2021-12-12T15:05:25.194Z"
   },
   {
    "duration": 150,
    "start_time": "2021-12-12T15:08:24.982Z"
   },
   {
    "duration": 165,
    "start_time": "2021-12-12T15:08:42.028Z"
   },
   {
    "duration": 145,
    "start_time": "2021-12-12T15:08:51.836Z"
   },
   {
    "duration": 185,
    "start_time": "2021-12-12T15:09:02.012Z"
   },
   {
    "duration": 147,
    "start_time": "2021-12-12T15:11:25.552Z"
   },
   {
    "duration": 9,
    "start_time": "2021-12-12T15:11:36.088Z"
   },
   {
    "duration": 13,
    "start_time": "2021-12-12T15:12:13.824Z"
   },
   {
    "duration": 12,
    "start_time": "2021-12-12T15:13:53.716Z"
   },
   {
    "duration": 236,
    "start_time": "2021-12-12T15:15:55.490Z"
   },
   {
    "duration": 128,
    "start_time": "2021-12-12T15:16:07.523Z"
   },
   {
    "duration": 130,
    "start_time": "2021-12-12T15:16:54.351Z"
   },
   {
    "duration": 9,
    "start_time": "2021-12-12T15:23:01.922Z"
   },
   {
    "duration": 182,
    "start_time": "2021-12-12T15:23:36.614Z"
   },
   {
    "duration": 199,
    "start_time": "2021-12-12T15:24:26.322Z"
   },
   {
    "duration": 9,
    "start_time": "2021-12-12T15:24:52.585Z"
   },
   {
    "duration": 179,
    "start_time": "2021-12-12T15:29:06.646Z"
   },
   {
    "duration": 13,
    "start_time": "2021-12-12T15:29:20.684Z"
   },
   {
    "duration": 133,
    "start_time": "2021-12-12T15:30:57.198Z"
   },
   {
    "duration": 352,
    "start_time": "2021-12-12T15:31:37.172Z"
   },
   {
    "duration": 340,
    "start_time": "2021-12-12T15:31:44.317Z"
   },
   {
    "duration": 341,
    "start_time": "2021-12-12T15:31:51.956Z"
   },
   {
    "duration": 908,
    "start_time": "2021-12-12T15:34:42.673Z"
   },
   {
    "duration": 136,
    "start_time": "2021-12-12T15:35:08.121Z"
   },
   {
    "duration": 3,
    "start_time": "2021-12-12T15:38:58.514Z"
   },
   {
    "duration": 9,
    "start_time": "2021-12-12T15:39:34.357Z"
   },
   {
    "duration": 44,
    "start_time": "2021-12-12T15:52:00.094Z"
   },
   {
    "duration": 6,
    "start_time": "2021-12-12T15:52:34.600Z"
   },
   {
    "duration": 7,
    "start_time": "2021-12-12T15:52:36.749Z"
   },
   {
    "duration": 9,
    "start_time": "2021-12-12T15:52:40.981Z"
   },
   {
    "duration": 730,
    "start_time": "2021-12-12T15:53:05.902Z"
   },
   {
    "duration": 11,
    "start_time": "2021-12-12T15:53:14.877Z"
   },
   {
    "duration": 9,
    "start_time": "2021-12-12T15:53:19.197Z"
   },
   {
    "duration": 26,
    "start_time": "2021-12-12T15:53:21.758Z"
   },
   {
    "duration": 6,
    "start_time": "2021-12-12T15:53:30.093Z"
   },
   {
    "duration": 10,
    "start_time": "2021-12-12T15:53:33.084Z"
   },
   {
    "duration": 19,
    "start_time": "2021-12-12T15:53:39.108Z"
   },
   {
    "duration": 23,
    "start_time": "2021-12-12T15:53:40.828Z"
   },
   {
    "duration": 6,
    "start_time": "2021-12-12T15:53:43.299Z"
   },
   {
    "duration": 157,
    "start_time": "2021-12-12T15:53:47.589Z"
   },
   {
    "duration": 10,
    "start_time": "2021-12-12T15:53:51.612Z"
   },
   {
    "duration": 13,
    "start_time": "2021-12-12T15:53:53.451Z"
   },
   {
    "duration": 139,
    "start_time": "2021-12-12T15:54:03.611Z"
   },
   {
    "duration": 10,
    "start_time": "2021-12-12T15:54:10.699Z"
   },
   {
    "duration": 12,
    "start_time": "2021-12-12T15:54:14.803Z"
   },
   {
    "duration": 137,
    "start_time": "2021-12-12T15:54:17.067Z"
   },
   {
    "duration": 11,
    "start_time": "2021-12-12T15:54:24.579Z"
   },
   {
    "duration": 5,
    "start_time": "2021-12-12T15:54:36.649Z"
   },
   {
    "duration": 10,
    "start_time": "2021-12-12T15:54:50.194Z"
   },
   {
    "duration": 713,
    "start_time": "2021-12-12T15:55:08.319Z"
   },
   {
    "duration": 11,
    "start_time": "2021-12-12T15:55:12.391Z"
   },
   {
    "duration": 9,
    "start_time": "2021-12-12T15:55:15.641Z"
   },
   {
    "duration": 27,
    "start_time": "2021-12-12T15:55:17.901Z"
   },
   {
    "duration": 6,
    "start_time": "2021-12-12T15:55:23.093Z"
   },
   {
    "duration": 9,
    "start_time": "2021-12-12T15:55:25.013Z"
   },
   {
    "duration": 19,
    "start_time": "2021-12-12T15:55:29.806Z"
   },
   {
    "duration": 24,
    "start_time": "2021-12-12T15:55:31.861Z"
   },
   {
    "duration": 8,
    "start_time": "2021-12-12T15:55:34.484Z"
   },
   {
    "duration": 146,
    "start_time": "2021-12-12T15:55:38.941Z"
   },
   {
    "duration": 13,
    "start_time": "2021-12-12T15:55:42.630Z"
   },
   {
    "duration": 16,
    "start_time": "2021-12-12T15:55:44.790Z"
   },
   {
    "duration": 136,
    "start_time": "2021-12-12T15:55:46.565Z"
   },
   {
    "duration": 14,
    "start_time": "2021-12-12T15:55:59.925Z"
   },
   {
    "duration": 142,
    "start_time": "2021-12-12T15:56:01.764Z"
   },
   {
    "duration": 712,
    "start_time": "2021-12-12T15:56:23.251Z"
   },
   {
    "duration": 11,
    "start_time": "2021-12-12T15:56:32.649Z"
   },
   {
    "duration": 9,
    "start_time": "2021-12-12T15:56:36.289Z"
   },
   {
    "duration": 27,
    "start_time": "2021-12-12T15:56:39.618Z"
   },
   {
    "duration": 6,
    "start_time": "2021-12-12T15:56:49.769Z"
   },
   {
    "duration": 10,
    "start_time": "2021-12-12T15:57:01.337Z"
   },
   {
    "duration": 10,
    "start_time": "2021-12-12T15:57:11.888Z"
   },
   {
    "duration": 20,
    "start_time": "2021-12-12T15:57:16.504Z"
   },
   {
    "duration": 27,
    "start_time": "2021-12-12T15:57:18.049Z"
   },
   {
    "duration": 8,
    "start_time": "2021-12-12T15:57:22.103Z"
   },
   {
    "duration": 163,
    "start_time": "2021-12-12T15:57:24.488Z"
   },
   {
    "duration": 10,
    "start_time": "2021-12-12T15:57:33.120Z"
   },
   {
    "duration": 13,
    "start_time": "2021-12-12T15:57:51.839Z"
   },
   {
    "duration": 130,
    "start_time": "2021-12-12T15:57:54.671Z"
   },
   {
    "duration": 179,
    "start_time": "2021-12-12T15:58:11.878Z"
   },
   {
    "duration": 9,
    "start_time": "2021-12-12T15:58:27.687Z"
   },
   {
    "duration": 17,
    "start_time": "2021-12-12T15:58:30.214Z"
   },
   {
    "duration": 130,
    "start_time": "2021-12-12T15:58:33.846Z"
   },
   {
    "duration": 9,
    "start_time": "2021-12-12T15:58:47.077Z"
   },
   {
    "duration": 856,
    "start_time": "2021-12-13T12:40:55.721Z"
   },
   {
    "duration": 12,
    "start_time": "2021-12-13T12:41:00.423Z"
   },
   {
    "duration": 10,
    "start_time": "2021-12-13T12:41:03.919Z"
   },
   {
    "duration": 25,
    "start_time": "2021-12-13T12:41:06.134Z"
   },
   {
    "duration": 6,
    "start_time": "2021-12-13T12:41:10.734Z"
   },
   {
    "duration": 10,
    "start_time": "2021-12-13T12:41:13.439Z"
   },
   {
    "duration": 9,
    "start_time": "2021-12-13T12:41:20.782Z"
   },
   {
    "duration": 22,
    "start_time": "2021-12-13T12:41:25.590Z"
   },
   {
    "duration": 33,
    "start_time": "2021-12-13T12:41:27.479Z"
   },
   {
    "duration": 9,
    "start_time": "2021-12-13T12:41:33.030Z"
   },
   {
    "duration": 150,
    "start_time": "2021-12-13T12:41:34.846Z"
   },
   {
    "duration": 10,
    "start_time": "2021-12-13T12:41:42.144Z"
   },
   {
    "duration": 12,
    "start_time": "2021-12-13T12:41:44.213Z"
   },
   {
    "duration": 143,
    "start_time": "2021-12-13T12:41:46.950Z"
   },
   {
    "duration": 143,
    "start_time": "2021-12-13T12:41:53.093Z"
   },
   {
    "duration": 10,
    "start_time": "2021-12-13T12:41:55.860Z"
   },
   {
    "duration": 13,
    "start_time": "2021-12-13T12:41:59.814Z"
   },
   {
    "duration": 131,
    "start_time": "2021-12-13T12:42:01.781Z"
   },
   {
    "duration": 9,
    "start_time": "2021-12-13T12:42:06.261Z"
   },
   {
    "duration": 468,
    "start_time": "2021-12-13T12:43:15.324Z"
   },
   {
    "duration": 122,
    "start_time": "2021-12-13T12:52:41.540Z"
   },
   {
    "duration": 91,
    "start_time": "2021-12-13T12:53:04.458Z"
   },
   {
    "duration": 529,
    "start_time": "2021-12-13T12:53:58.154Z"
   },
   {
    "duration": 2990,
    "start_time": "2021-12-13T12:54:46.055Z"
   },
   {
    "duration": 1766,
    "start_time": "2021-12-13T12:55:28.046Z"
   },
   {
    "duration": 1702,
    "start_time": "2021-12-13T12:55:45.078Z"
   },
   {
    "duration": 5,
    "start_time": "2021-12-13T13:07:49.345Z"
   },
   {
    "duration": 386,
    "start_time": "2021-12-13T13:09:36.827Z"
   },
   {
    "duration": 787,
    "start_time": "2021-12-13T13:11:26.549Z"
   },
   {
    "duration": 289,
    "start_time": "2021-12-13T13:15:53.233Z"
   },
   {
    "duration": 410,
    "start_time": "2021-12-13T13:16:58.698Z"
   },
   {
    "duration": 281,
    "start_time": "2021-12-13T13:17:09.639Z"
   },
   {
    "duration": 2247,
    "start_time": "2021-12-13T13:17:45.838Z"
   },
   {
    "duration": 329,
    "start_time": "2021-12-13T13:18:26.445Z"
   },
   {
    "duration": 2095,
    "start_time": "2021-12-13T13:18:31.652Z"
   },
   {
    "duration": 7,
    "start_time": "2021-12-13T13:20:29.272Z"
   },
   {
    "duration": 4,
    "start_time": "2021-12-13T13:20:36.648Z"
   },
   {
    "duration": 281,
    "start_time": "2021-12-13T13:23:27.728Z"
   },
   {
    "duration": 11,
    "start_time": "2021-12-13T13:26:53.016Z"
   },
   {
    "duration": 9,
    "start_time": "2021-12-13T13:27:10.512Z"
   },
   {
    "duration": 8400,
    "start_time": "2021-12-13T13:28:50.692Z"
   },
   {
    "duration": 9,
    "start_time": "2021-12-13T13:30:17.203Z"
   },
   {
    "duration": 6,
    "start_time": "2021-12-13T13:30:28.736Z"
   },
   {
    "duration": 8,
    "start_time": "2021-12-13T13:32:05.220Z"
   },
   {
    "duration": 13,
    "start_time": "2021-12-13T13:32:22.117Z"
   },
   {
    "duration": 30,
    "start_time": "2021-12-13T13:36:25.568Z"
   },
   {
    "duration": 8,
    "start_time": "2021-12-13T13:37:44.929Z"
   },
   {
    "duration": 16,
    "start_time": "2021-12-13T13:38:13.844Z"
   },
   {
    "duration": 2,
    "start_time": "2021-12-13T13:38:35.658Z"
   },
   {
    "duration": 10,
    "start_time": "2021-12-13T13:48:57.759Z"
   },
   {
    "duration": 6,
    "start_time": "2021-12-13T13:48:59.438Z"
   },
   {
    "duration": 6,
    "start_time": "2021-12-13T13:49:01.277Z"
   },
   {
    "duration": 7,
    "start_time": "2021-12-13T13:49:02.943Z"
   },
   {
    "duration": 4,
    "start_time": "2021-12-13T13:52:51.648Z"
   },
   {
    "duration": 8687,
    "start_time": "2021-12-13T13:52:53.590Z"
   },
   {
    "duration": 592,
    "start_time": "2021-12-13T13:53:14.458Z"
   },
   {
    "duration": 623,
    "start_time": "2021-12-13T13:53:27.541Z"
   },
   {
    "duration": 4,
    "start_time": "2021-12-13T14:02:44.892Z"
   },
   {
    "duration": 5,
    "start_time": "2021-12-13T14:02:47.289Z"
   },
   {
    "duration": 2,
    "start_time": "2021-12-13T14:03:24.211Z"
   },
   {
    "duration": 1257,
    "start_time": "2021-12-13T14:03:48.278Z"
   },
   {
    "duration": 5,
    "start_time": "2021-12-13T14:04:39.552Z"
   },
   {
    "duration": 6,
    "start_time": "2021-12-13T14:04:41.263Z"
   },
   {
    "duration": 5,
    "start_time": "2021-12-13T14:04:43.032Z"
   },
   {
    "duration": 93,
    "start_time": "2021-12-13T14:05:28.708Z"
   },
   {
    "duration": 3,
    "start_time": "2021-12-13T14:06:36.833Z"
   },
   {
    "duration": 291,
    "start_time": "2021-12-13T14:07:04.209Z"
   },
   {
    "duration": 472,
    "start_time": "2021-12-13T14:07:13.382Z"
   },
   {
    "duration": 5,
    "start_time": "2021-12-13T14:07:55.219Z"
   },
   {
    "duration": 182,
    "start_time": "2021-12-13T14:08:31.058Z"
   },
   {
    "duration": 10,
    "start_time": "2021-12-13T14:09:52.165Z"
   },
   {
    "duration": 457,
    "start_time": "2021-12-13T14:10:18.909Z"
   },
   {
    "duration": 318,
    "start_time": "2021-12-13T14:11:23.052Z"
   },
   {
    "duration": 5,
    "start_time": "2021-12-13T14:11:30.150Z"
   },
   {
    "duration": 4,
    "start_time": "2021-12-13T14:12:07.027Z"
   },
   {
    "duration": 2,
    "start_time": "2021-12-13T14:12:21.161Z"
   },
   {
    "duration": -349,
    "start_time": "2021-12-13T14:12:44.489Z"
   },
   {
    "duration": 8496,
    "start_time": "2021-12-13T14:12:55.921Z"
   },
   {
    "duration": 9943,
    "start_time": "2021-12-13T14:13:36.036Z"
   },
   {
    "duration": 1196,
    "start_time": "2021-12-13T14:14:20.649Z"
   },
   {
    "duration": 287,
    "start_time": "2021-12-13T14:18:33.630Z"
   },
   {
    "duration": 297,
    "start_time": "2021-12-13T14:18:47.722Z"
   },
   {
    "duration": 90,
    "start_time": "2021-12-13T14:20:16.924Z"
   },
   {
    "duration": 351,
    "start_time": "2021-12-13T14:20:26.868Z"
   },
   {
    "duration": 425,
    "start_time": "2021-12-13T14:33:24.020Z"
   },
   {
    "duration": 12,
    "start_time": "2021-12-13T14:34:18.553Z"
   },
   {
    "duration": 2,
    "start_time": "2021-12-13T14:34:38.950Z"
   },
   {
    "duration": 8,
    "start_time": "2021-12-13T14:34:56.557Z"
   },
   {
    "duration": 163,
    "start_time": "2021-12-13T14:35:05.596Z"
   },
   {
    "duration": 3,
    "start_time": "2021-12-13T14:35:50.667Z"
   },
   {
    "duration": 3,
    "start_time": "2021-12-13T14:36:14.860Z"
   },
   {
    "duration": 7,
    "start_time": "2021-12-13T14:37:27.897Z"
   },
   {
    "duration": 226,
    "start_time": "2021-12-13T14:37:45.545Z"
   },
   {
    "duration": 8,
    "start_time": "2021-12-13T14:38:23.041Z"
   },
   {
    "duration": 214,
    "start_time": "2021-12-13T14:38:32.160Z"
   },
   {
    "duration": 123,
    "start_time": "2021-12-13T14:38:56.687Z"
   },
   {
    "duration": 7,
    "start_time": "2021-12-13T14:39:14.872Z"
   },
   {
    "duration": 200,
    "start_time": "2021-12-13T14:39:25.965Z"
   },
   {
    "duration": 8,
    "start_time": "2021-12-13T15:02:39.479Z"
   },
   {
    "duration": 291,
    "start_time": "2021-12-13T15:03:05.587Z"
   },
   {
    "duration": 10,
    "start_time": "2021-12-13T15:03:07.938Z"
   },
   {
    "duration": 10,
    "start_time": "2021-12-13T15:03:10.053Z"
   },
   {
    "duration": -369,
    "start_time": "2021-12-13T15:04:08.490Z"
   },
   {
    "duration": 5,
    "start_time": "2021-12-13T15:04:26.441Z"
   },
   {
    "duration": 280,
    "start_time": "2021-12-13T15:04:37.497Z"
   },
   {
    "duration": 208,
    "start_time": "2021-12-13T15:04:46.394Z"
   },
   {
    "duration": 10,
    "start_time": "2021-12-13T15:06:06.024Z"
   },
   {
    "duration": 1043,
    "start_time": "2021-12-13T15:06:23.910Z"
   },
   {
    "duration": 1467,
    "start_time": "2021-12-13T15:07:19.065Z"
   },
   {
    "duration": 5,
    "start_time": "2021-12-13T15:07:42.435Z"
   },
   {
    "duration": 4,
    "start_time": "2021-12-13T15:07:51.803Z"
   },
   {
    "duration": 5,
    "start_time": "2021-12-13T15:08:01.267Z"
   },
   {
    "duration": 287,
    "start_time": "2021-12-13T15:09:48.992Z"
   },
   {
    "duration": 663,
    "start_time": "2021-12-13T15:10:07.613Z"
   },
   {
    "duration": 461,
    "start_time": "2021-12-13T15:10:23.127Z"
   },
   {
    "duration": 113,
    "start_time": "2021-12-13T15:11:29.949Z"
   },
   {
    "duration": 7,
    "start_time": "2021-12-13T15:11:44.277Z"
   },
   {
    "duration": 9,
    "start_time": "2021-12-13T15:12:01.714Z"
   },
   {
    "duration": 179,
    "start_time": "2021-12-13T15:12:03.380Z"
   },
   {
    "duration": 144,
    "start_time": "2021-12-13T15:12:22.386Z"
   },
   {
    "duration": 7143,
    "start_time": "2021-12-13T15:12:35.603Z"
   },
   {
    "duration": 351,
    "start_time": "2021-12-13T15:12:44.733Z"
   },
   {
    "duration": 10,
    "start_time": "2021-12-13T15:13:16.730Z"
   },
   {
    "duration": 6,
    "start_time": "2021-12-13T15:15:34.305Z"
   },
   {
    "duration": 216,
    "start_time": "2021-12-13T15:15:35.836Z"
   },
   {
    "duration": 8,
    "start_time": "2021-12-13T15:16:07.064Z"
   },
   {
    "duration": 211,
    "start_time": "2021-12-13T15:16:14.724Z"
   },
   {
    "duration": 10,
    "start_time": "2021-12-13T15:16:42.916Z"
   },
   {
    "duration": 192,
    "start_time": "2021-12-13T15:16:59.115Z"
   },
   {
    "duration": 1784,
    "start_time": "2021-12-14T10:13:43.891Z"
   },
   {
    "duration": 17,
    "start_time": "2021-12-14T10:13:45.680Z"
   },
   {
    "duration": 25,
    "start_time": "2021-12-14T10:13:45.700Z"
   },
   {
    "duration": 40,
    "start_time": "2021-12-14T10:13:45.728Z"
   },
   {
    "duration": 7,
    "start_time": "2021-12-14T10:13:45.770Z"
   },
   {
    "duration": 45,
    "start_time": "2021-12-14T10:13:45.779Z"
   },
   {
    "duration": 13,
    "start_time": "2021-12-14T10:13:45.826Z"
   },
   {
    "duration": 27,
    "start_time": "2021-12-14T10:13:45.843Z"
   },
   {
    "duration": 69,
    "start_time": "2021-12-14T10:13:45.873Z"
   },
   {
    "duration": 9,
    "start_time": "2021-12-14T10:13:45.945Z"
   },
   {
    "duration": 261,
    "start_time": "2021-12-14T10:13:45.956Z"
   },
   {
    "duration": 15,
    "start_time": "2021-12-14T10:13:46.219Z"
   },
   {
    "duration": 18,
    "start_time": "2021-12-14T10:13:46.237Z"
   },
   {
    "duration": 264,
    "start_time": "2021-12-14T10:13:46.257Z"
   },
   {
    "duration": 222,
    "start_time": "2021-12-14T10:13:46.524Z"
   },
   {
    "duration": 12,
    "start_time": "2021-12-14T10:13:46.748Z"
   },
   {
    "duration": 16,
    "start_time": "2021-12-14T10:13:46.762Z"
   },
   {
    "duration": 248,
    "start_time": "2021-12-14T10:13:46.781Z"
   },
   {
    "duration": 13,
    "start_time": "2021-12-14T10:13:47.031Z"
   },
   {
    "duration": 726,
    "start_time": "2021-12-14T10:13:47.047Z"
   },
   {
    "duration": 4905,
    "start_time": "2021-12-14T10:13:47.775Z"
   },
   {
    "duration": 5,
    "start_time": "2021-12-14T10:13:52.682Z"
   },
   {
    "duration": 1004,
    "start_time": "2021-12-14T10:13:52.694Z"
   },
   {
    "duration": 3359,
    "start_time": "2021-12-14T10:13:53.701Z"
   },
   {
    "duration": 6,
    "start_time": "2021-12-14T10:13:57.062Z"
   },
   {
    "duration": 16,
    "start_time": "2021-12-14T10:13:57.070Z"
   },
   {
    "duration": 32,
    "start_time": "2021-12-14T10:13:57.088Z"
   },
   {
    "duration": 11,
    "start_time": "2021-12-14T10:13:57.122Z"
   },
   {
    "duration": 29,
    "start_time": "2021-12-14T10:13:57.135Z"
   },
   {
    "duration": 8,
    "start_time": "2021-12-14T10:13:57.167Z"
   },
   {
    "duration": 17,
    "start_time": "2021-12-14T10:13:57.178Z"
   },
   {
    "duration": 29,
    "start_time": "2021-12-14T10:13:57.197Z"
   },
   {
    "duration": 9,
    "start_time": "2021-12-14T10:13:57.228Z"
   },
   {
    "duration": 10,
    "start_time": "2021-12-14T10:13:57.239Z"
   },
   {
    "duration": 18,
    "start_time": "2021-12-14T10:13:57.252Z"
   },
   {
    "duration": 7,
    "start_time": "2021-12-14T10:13:57.272Z"
   },
   {
    "duration": 37,
    "start_time": "2021-12-14T10:13:57.282Z"
   },
   {
    "duration": 877,
    "start_time": "2021-12-14T10:13:57.321Z"
   },
   {
    "duration": 4,
    "start_time": "2021-12-14T10:13:58.201Z"
   },
   {
    "duration": 5,
    "start_time": "2021-12-14T10:13:58.217Z"
   },
   {
    "duration": 1877,
    "start_time": "2021-12-14T10:13:58.225Z"
   },
   {
    "duration": 13,
    "start_time": "2021-12-14T10:14:00.105Z"
   },
   {
    "duration": 20,
    "start_time": "2021-12-14T10:14:00.121Z"
   },
   {
    "duration": 14,
    "start_time": "2021-12-14T10:14:00.144Z"
   },
   {
    "duration": 733,
    "start_time": "2021-12-14T10:14:00.160Z"
   },
   {
    "duration": 20,
    "start_time": "2021-12-14T10:14:00.897Z"
   },
   {
    "duration": 511,
    "start_time": "2021-12-14T10:14:00.921Z"
   },
   {
    "duration": 19,
    "start_time": "2021-12-14T10:14:01.435Z"
   },
   {
    "duration": 867,
    "start_time": "2021-12-14T10:14:01.458Z"
   },
   {
    "duration": 7,
    "start_time": "2021-12-14T10:14:02.329Z"
   },
   {
    "duration": 2270,
    "start_time": "2021-12-14T10:14:02.339Z"
   },
   {
    "duration": 17,
    "start_time": "2021-12-14T10:14:04.612Z"
   },
   {
    "duration": 11,
    "start_time": "2021-12-14T10:14:04.631Z"
   },
   {
    "duration": 287,
    "start_time": "2021-12-14T10:14:04.645Z"
   },
   {
    "duration": 11,
    "start_time": "2021-12-14T10:14:04.934Z"
   },
   {
    "duration": 359,
    "start_time": "2021-12-14T10:14:04.947Z"
   },
   {
    "duration": 15,
    "start_time": "2021-12-14T10:14:05.308Z"
   },
   {
    "duration": 356,
    "start_time": "2021-12-14T10:14:05.325Z"
   },
   {
    "duration": 12,
    "start_time": "2021-12-14T10:14:05.683Z"
   },
   {
    "duration": 325,
    "start_time": "2021-12-14T10:14:05.697Z"
   },
   {
    "duration": 11,
    "start_time": "2021-12-14T10:14:06.025Z"
   },
   {
    "duration": 27,
    "start_time": "2021-12-14T10:14:06.038Z"
   },
   {
    "duration": 14,
    "start_time": "2021-12-14T10:14:06.068Z"
   },
   {
    "duration": 15,
    "start_time": "2021-12-14T10:14:06.085Z"
   },
   {
    "duration": 377,
    "start_time": "2021-12-14T10:14:06.102Z"
   },
   {
    "duration": 14,
    "start_time": "2021-12-14T10:14:06.482Z"
   },
   {
    "duration": 2473,
    "start_time": "2021-12-14T10:14:06.498Z"
   },
   {
    "duration": 6,
    "start_time": "2021-12-14T10:14:08.980Z"
   },
   {
    "duration": 6,
    "start_time": "2021-12-14T10:14:08.990Z"
   },
   {
    "duration": 8,
    "start_time": "2021-12-14T10:14:09.018Z"
   },
   {
    "duration": 613,
    "start_time": "2021-12-14T10:14:09.030Z"
   },
   {
    "duration": 10,
    "start_time": "2021-12-14T10:14:09.646Z"
   },
   {
    "duration": 300,
    "start_time": "2021-12-14T10:14:09.658Z"
   },
   {
    "duration": 469,
    "start_time": "2021-12-14T10:14:09.960Z"
   },
   {
    "duration": 12,
    "start_time": "2021-12-14T10:14:10.432Z"
   },
   {
    "duration": 24,
    "start_time": "2021-12-14T10:14:10.446Z"
   },
   {
    "duration": 370,
    "start_time": "2021-12-14T10:14:10.472Z"
   },
   {
    "duration": 10,
    "start_time": "2021-12-14T10:14:10.845Z"
   },
   {
    "duration": 371,
    "start_time": "2021-12-14T10:14:10.857Z"
   },
   {
    "duration": 10,
    "start_time": "2021-12-14T10:14:11.231Z"
   },
   {
    "duration": 326,
    "start_time": "2021-12-14T10:14:11.243Z"
   },
   {
    "duration": 11,
    "start_time": "2021-12-14T10:30:21.033Z"
   },
   {
    "duration": 393,
    "start_time": "2021-12-20T21:33:00.870Z"
   },
   {
    "duration": 1432,
    "start_time": "2021-12-20T21:35:51.129Z"
   },
   {
    "duration": 10,
    "start_time": "2021-12-20T21:35:52.564Z"
   },
   {
    "duration": 7,
    "start_time": "2021-12-20T21:35:52.577Z"
   },
   {
    "duration": 29,
    "start_time": "2021-12-20T21:35:52.586Z"
   },
   {
    "duration": 5,
    "start_time": "2021-12-20T21:35:52.616Z"
   },
   {
    "duration": 40,
    "start_time": "2021-12-20T21:35:52.623Z"
   },
   {
    "duration": 153,
    "start_time": "2021-12-20T21:35:52.665Z"
   },
   {
    "duration": 9,
    "start_time": "2021-12-20T21:35:52.820Z"
   },
   {
    "duration": 31,
    "start_time": "2021-12-20T21:35:52.831Z"
   },
   {
    "duration": 21,
    "start_time": "2021-12-20T21:35:52.864Z"
   },
   {
    "duration": 6,
    "start_time": "2021-12-20T21:35:52.887Z"
   },
   {
    "duration": 152,
    "start_time": "2021-12-20T21:35:52.895Z"
   },
   {
    "duration": 19,
    "start_time": "2021-12-20T21:35:53.048Z"
   },
   {
    "duration": 14,
    "start_time": "2021-12-20T21:35:53.069Z"
   },
   {
    "duration": 158,
    "start_time": "2021-12-20T21:35:53.084Z"
   },
   {
    "duration": 137,
    "start_time": "2021-12-20T21:35:53.243Z"
   },
   {
    "duration": 10,
    "start_time": "2021-12-20T21:35:53.382Z"
   },
   {
    "duration": 15,
    "start_time": "2021-12-20T21:35:53.394Z"
   },
   {
    "duration": 153,
    "start_time": "2021-12-20T21:35:53.411Z"
   },
   {
    "duration": 10,
    "start_time": "2021-12-20T21:35:53.566Z"
   },
   {
    "duration": 552,
    "start_time": "2021-12-20T21:35:53.578Z"
   },
   {
    "duration": 3828,
    "start_time": "2021-12-20T21:35:54.132Z"
   },
   {
    "duration": 4,
    "start_time": "2021-12-20T21:35:57.965Z"
   },
   {
    "duration": 795,
    "start_time": "2021-12-20T21:35:57.972Z"
   },
   {
    "duration": 2010,
    "start_time": "2021-12-20T21:35:58.769Z"
   },
   {
    "duration": 4,
    "start_time": "2021-12-20T21:36:00.781Z"
   },
   {
    "duration": 9,
    "start_time": "2021-12-20T21:36:00.787Z"
   },
   {
    "duration": 13,
    "start_time": "2021-12-20T21:36:00.798Z"
   },
   {
    "duration": 13,
    "start_time": "2021-12-20T21:36:00.812Z"
   },
   {
    "duration": 10,
    "start_time": "2021-12-20T21:36:00.826Z"
   },
   {
    "duration": 25,
    "start_time": "2021-12-20T21:36:00.838Z"
   },
   {
    "duration": 15,
    "start_time": "2021-12-20T21:36:00.865Z"
   },
   {
    "duration": 13,
    "start_time": "2021-12-20T21:36:00.882Z"
   },
   {
    "duration": 8,
    "start_time": "2021-12-20T21:36:00.897Z"
   },
   {
    "duration": 8,
    "start_time": "2021-12-20T21:36:00.906Z"
   },
   {
    "duration": 15,
    "start_time": "2021-12-20T21:36:00.915Z"
   },
   {
    "duration": 7,
    "start_time": "2021-12-20T21:36:00.932Z"
   },
   {
    "duration": 21,
    "start_time": "2021-12-20T21:36:00.940Z"
   },
   {
    "duration": 750,
    "start_time": "2021-12-20T21:36:00.963Z"
   },
   {
    "duration": 4,
    "start_time": "2021-12-20T21:36:01.715Z"
   },
   {
    "duration": 15,
    "start_time": "2021-12-20T21:36:01.721Z"
   },
   {
    "duration": 1141,
    "start_time": "2021-12-20T21:36:01.738Z"
   },
   {
    "duration": 5,
    "start_time": "2021-12-20T21:36:02.880Z"
   },
   {
    "duration": 5,
    "start_time": "2021-12-20T21:36:02.887Z"
   },
   {
    "duration": 4,
    "start_time": "2021-12-20T21:36:02.894Z"
   },
   {
    "duration": 526,
    "start_time": "2021-12-20T21:36:02.900Z"
   },
   {
    "duration": 5,
    "start_time": "2021-12-20T21:36:03.428Z"
   },
   {
    "duration": 149,
    "start_time": "2021-12-20T21:36:03.434Z"
   },
   {
    "duration": 9,
    "start_time": "2021-12-20T21:36:03.584Z"
   },
   {
    "duration": 371,
    "start_time": "2021-12-20T21:36:03.595Z"
   },
   {
    "duration": 5,
    "start_time": "2021-12-20T21:36:03.967Z"
   },
   {
    "duration": 1132,
    "start_time": "2021-12-20T21:36:03.973Z"
   },
   {
    "duration": 12,
    "start_time": "2021-12-20T21:36:05.107Z"
   },
   {
    "duration": 9,
    "start_time": "2021-12-20T21:36:05.120Z"
   },
   {
    "duration": 174,
    "start_time": "2021-12-20T21:36:05.131Z"
   },
   {
    "duration": 8,
    "start_time": "2021-12-20T21:36:05.307Z"
   },
   {
    "duration": 215,
    "start_time": "2021-12-20T21:36:05.317Z"
   },
   {
    "duration": 8,
    "start_time": "2021-12-20T21:36:05.533Z"
   },
   {
    "duration": 220,
    "start_time": "2021-12-20T21:36:05.543Z"
   },
   {
    "duration": 8,
    "start_time": "2021-12-20T21:36:05.765Z"
   },
   {
    "duration": 197,
    "start_time": "2021-12-20T21:36:05.775Z"
   },
   {
    "duration": 9,
    "start_time": "2021-12-20T21:36:05.974Z"
   },
   {
    "duration": 14,
    "start_time": "2021-12-20T21:36:05.985Z"
   },
   {
    "duration": 9,
    "start_time": "2021-12-20T21:36:06.001Z"
   },
   {
    "duration": 4,
    "start_time": "2021-12-20T21:36:06.012Z"
   },
   {
    "duration": 336,
    "start_time": "2021-12-20T21:36:06.018Z"
   },
   {
    "duration": 11,
    "start_time": "2021-12-20T21:36:06.356Z"
   },
   {
    "duration": 1488,
    "start_time": "2021-12-20T21:36:06.372Z"
   },
   {
    "duration": 4,
    "start_time": "2021-12-20T21:36:07.862Z"
   },
   {
    "duration": 10,
    "start_time": "2021-12-20T21:36:07.867Z"
   },
   {
    "duration": 5,
    "start_time": "2021-12-20T21:36:07.878Z"
   },
   {
    "duration": 347,
    "start_time": "2021-12-20T21:36:07.885Z"
   },
   {
    "duration": 6,
    "start_time": "2021-12-20T21:36:08.234Z"
   },
   {
    "duration": 171,
    "start_time": "2021-12-20T21:36:08.242Z"
   },
   {
    "duration": 316,
    "start_time": "2021-12-20T21:36:08.415Z"
   },
   {
    "duration": 9,
    "start_time": "2021-12-20T21:36:08.732Z"
   },
   {
    "duration": 21,
    "start_time": "2021-12-20T21:36:08.743Z"
   },
   {
    "duration": 219,
    "start_time": "2021-12-20T21:36:08.766Z"
   },
   {
    "duration": 7,
    "start_time": "2021-12-20T21:36:08.987Z"
   },
   {
    "duration": 235,
    "start_time": "2021-12-20T21:36:08.995Z"
   },
   {
    "duration": 11,
    "start_time": "2021-12-20T21:36:09.232Z"
   },
   {
    "duration": 286,
    "start_time": "2021-12-20T21:36:09.246Z"
   },
   {
    "duration": 140,
    "start_time": "2021-12-20T21:36:53.032Z"
   },
   {
    "duration": 99,
    "start_time": "2021-12-20T21:37:28.094Z"
   },
   {
    "duration": 9,
    "start_time": "2021-12-20T21:37:28.195Z"
   },
   {
    "duration": 8,
    "start_time": "2021-12-20T21:37:28.206Z"
   },
   {
    "duration": 166,
    "start_time": "2021-12-20T21:37:28.216Z"
   },
   {
    "duration": 4,
    "start_time": "2021-12-20T21:37:28.384Z"
   },
   {
    "duration": 10,
    "start_time": "2021-12-20T21:37:28.389Z"
   },
   {
    "duration": 161,
    "start_time": "2021-12-20T21:37:28.401Z"
   },
   {
    "duration": 9,
    "start_time": "2021-12-20T21:37:28.565Z"
   },
   {
    "duration": 153,
    "start_time": "2021-12-20T21:37:28.576Z"
   },
   {
    "duration": 11,
    "start_time": "2021-12-20T21:37:28.731Z"
   },
   {
    "duration": 34,
    "start_time": "2021-12-20T21:37:28.744Z"
   },
   {
    "duration": 7,
    "start_time": "2021-12-20T21:37:28.780Z"
   },
   {
    "duration": 156,
    "start_time": "2021-12-20T21:37:28.789Z"
   },
   {
    "duration": 14,
    "start_time": "2021-12-20T21:37:28.947Z"
   },
   {
    "duration": 10,
    "start_time": "2021-12-20T21:37:28.963Z"
   },
   {
    "duration": 152,
    "start_time": "2021-12-20T21:37:28.975Z"
   },
   {
    "duration": 125,
    "start_time": "2021-12-20T21:37:29.129Z"
   },
   {
    "duration": 10,
    "start_time": "2021-12-20T21:37:29.256Z"
   },
   {
    "duration": 11,
    "start_time": "2021-12-20T21:37:29.267Z"
   },
   {
    "duration": 137,
    "start_time": "2021-12-20T21:37:29.279Z"
   },
   {
    "duration": 8,
    "start_time": "2021-12-20T21:37:29.418Z"
   },
   {
    "duration": 485,
    "start_time": "2021-12-20T21:37:29.428Z"
   },
   {
    "duration": 2810,
    "start_time": "2021-12-20T21:37:29.917Z"
   },
   {
    "duration": 4,
    "start_time": "2021-12-20T21:37:32.730Z"
   },
   {
    "duration": 787,
    "start_time": "2021-12-20T21:37:32.735Z"
   },
   {
    "duration": 1991,
    "start_time": "2021-12-20T21:37:33.524Z"
   },
   {
    "duration": 4,
    "start_time": "2021-12-20T21:37:35.517Z"
   },
   {
    "duration": 5,
    "start_time": "2021-12-20T21:37:35.523Z"
   },
   {
    "duration": 10,
    "start_time": "2021-12-20T21:37:35.530Z"
   },
   {
    "duration": 24,
    "start_time": "2021-12-20T21:37:35.542Z"
   },
   {
    "duration": 8,
    "start_time": "2021-12-20T21:37:35.568Z"
   },
   {
    "duration": 8,
    "start_time": "2021-12-20T21:37:35.577Z"
   },
   {
    "duration": 8,
    "start_time": "2021-12-20T21:37:35.586Z"
   },
   {
    "duration": 15,
    "start_time": "2021-12-20T21:37:35.595Z"
   },
   {
    "duration": 5,
    "start_time": "2021-12-20T21:37:35.612Z"
   },
   {
    "duration": 8,
    "start_time": "2021-12-20T21:37:35.618Z"
   },
   {
    "duration": 33,
    "start_time": "2021-12-20T21:37:35.628Z"
   },
   {
    "duration": 5,
    "start_time": "2021-12-20T21:37:35.663Z"
   },
   {
    "duration": 3,
    "start_time": "2021-12-20T21:37:35.670Z"
   },
   {
    "duration": 726,
    "start_time": "2021-12-20T21:37:35.674Z"
   },
   {
    "duration": 4,
    "start_time": "2021-12-20T21:37:36.402Z"
   },
   {
    "duration": 10,
    "start_time": "2021-12-20T21:37:36.408Z"
   },
   {
    "duration": 1090,
    "start_time": "2021-12-20T21:37:36.420Z"
   },
   {
    "duration": 6,
    "start_time": "2021-12-20T21:37:37.512Z"
   },
   {
    "duration": 6,
    "start_time": "2021-12-20T21:37:37.519Z"
   },
   {
    "duration": 6,
    "start_time": "2021-12-20T21:37:37.527Z"
   },
   {
    "duration": 467,
    "start_time": "2021-12-20T21:37:37.535Z"
   },
   {
    "duration": 5,
    "start_time": "2021-12-20T21:37:38.004Z"
   },
   {
    "duration": 152,
    "start_time": "2021-12-20T21:37:38.011Z"
   },
   {
    "duration": 9,
    "start_time": "2021-12-20T21:37:38.165Z"
   },
   {
    "duration": 353,
    "start_time": "2021-12-20T21:37:38.175Z"
   },
   {
    "duration": 6,
    "start_time": "2021-12-20T21:37:38.530Z"
   },
   {
    "duration": 1290,
    "start_time": "2021-12-20T21:37:38.537Z"
   },
   {
    "duration": 11,
    "start_time": "2021-12-20T21:37:39.829Z"
   },
   {
    "duration": 24,
    "start_time": "2021-12-20T21:37:39.842Z"
   },
   {
    "duration": 151,
    "start_time": "2021-12-20T21:37:39.867Z"
   },
   {
    "duration": 8,
    "start_time": "2021-12-20T21:37:40.020Z"
   },
   {
    "duration": 212,
    "start_time": "2021-12-20T21:37:40.030Z"
   },
   {
    "duration": 16,
    "start_time": "2021-12-20T21:37:40.244Z"
   },
   {
    "duration": 202,
    "start_time": "2021-12-20T21:37:40.262Z"
   },
   {
    "duration": 8,
    "start_time": "2021-12-20T21:37:40.466Z"
   },
   {
    "duration": 194,
    "start_time": "2021-12-20T21:37:40.476Z"
   },
   {
    "duration": 7,
    "start_time": "2021-12-20T21:37:40.672Z"
   },
   {
    "duration": 18,
    "start_time": "2021-12-20T21:37:40.680Z"
   },
   {
    "duration": 13,
    "start_time": "2021-12-20T21:37:40.700Z"
   },
   {
    "duration": 14,
    "start_time": "2021-12-20T21:37:40.715Z"
   },
   {
    "duration": 209,
    "start_time": "2021-12-20T21:37:40.730Z"
   },
   {
    "duration": 16,
    "start_time": "2021-12-20T21:37:40.944Z"
   },
   {
    "duration": 1459,
    "start_time": "2021-12-20T21:37:40.962Z"
   },
   {
    "duration": 4,
    "start_time": "2021-12-20T21:37:42.422Z"
   },
   {
    "duration": 5,
    "start_time": "2021-12-20T21:37:42.428Z"
   },
   {
    "duration": 5,
    "start_time": "2021-12-20T21:37:42.434Z"
   },
   {
    "duration": 385,
    "start_time": "2021-12-20T21:37:42.440Z"
   },
   {
    "duration": 7,
    "start_time": "2021-12-20T21:37:42.827Z"
   },
   {
    "duration": 171,
    "start_time": "2021-12-20T21:37:42.835Z"
   },
   {
    "duration": 318,
    "start_time": "2021-12-20T21:37:43.007Z"
   },
   {
    "duration": 10,
    "start_time": "2021-12-20T21:37:43.327Z"
   },
   {
    "duration": 21,
    "start_time": "2021-12-20T21:37:43.339Z"
   },
   {
    "duration": 214,
    "start_time": "2021-12-20T21:37:43.362Z"
   },
   {
    "duration": 8,
    "start_time": "2021-12-20T21:37:43.578Z"
   },
   {
    "duration": 219,
    "start_time": "2021-12-20T21:37:43.588Z"
   },
   {
    "duration": 8,
    "start_time": "2021-12-20T21:37:43.809Z"
   },
   {
    "duration": 196,
    "start_time": "2021-12-20T21:37:43.818Z"
   },
   {
    "duration": 411,
    "start_time": "2021-12-20T21:49:20.550Z"
   },
   {
    "duration": 349,
    "start_time": "2021-12-20T21:49:42.161Z"
   },
   {
    "duration": 102,
    "start_time": "2021-12-20T21:50:22.455Z"
   },
   {
    "duration": 97,
    "start_time": "2021-12-20T21:50:51.320Z"
   },
   {
    "duration": 100,
    "start_time": "2021-12-20T21:50:59.238Z"
   },
   {
    "duration": 334,
    "start_time": "2021-12-20T21:51:15.814Z"
   },
   {
    "duration": 372,
    "start_time": "2021-12-20T21:51:25.607Z"
   },
   {
    "duration": 98,
    "start_time": "2021-12-20T21:51:30.727Z"
   },
   {
    "duration": 929,
    "start_time": "2021-12-20T21:51:44.765Z"
   },
   {
    "duration": 105,
    "start_time": "2021-12-20T21:52:49.844Z"
   },
   {
    "duration": 417,
    "start_time": "2021-12-20T21:53:05.482Z"
   },
   {
    "duration": 347,
    "start_time": "2021-12-20T21:53:10.730Z"
   },
   {
    "duration": 99,
    "start_time": "2021-12-20T21:53:19.242Z"
   },
   {
    "duration": 97,
    "start_time": "2021-12-20T21:53:27.072Z"
   },
   {
    "duration": 98,
    "start_time": "2021-12-20T21:53:32.920Z"
   },
   {
    "duration": 97,
    "start_time": "2021-12-20T21:53:59.688Z"
   },
   {
    "duration": 95,
    "start_time": "2021-12-20T21:54:11.432Z"
   },
   {
    "duration": 97,
    "start_time": "2021-12-20T21:54:25.167Z"
   },
   {
    "duration": 81,
    "start_time": "2021-12-20T21:54:54.496Z"
   },
   {
    "duration": 100,
    "start_time": "2021-12-20T21:55:02.814Z"
   },
   {
    "duration": 95,
    "start_time": "2021-12-20T21:55:19.910Z"
   },
   {
    "duration": 95,
    "start_time": "2021-12-20T21:55:28.052Z"
   },
   {
    "duration": 98,
    "start_time": "2021-12-20T21:55:45.845Z"
   },
   {
    "duration": 96,
    "start_time": "2021-12-20T21:55:51.196Z"
   },
   {
    "duration": 94,
    "start_time": "2021-12-20T21:56:10.774Z"
   },
   {
    "duration": 761,
    "start_time": "2021-12-20T21:56:15.093Z"
   },
   {
    "duration": 590,
    "start_time": "2021-12-20T21:56:25.531Z"
   },
   {
    "duration": 112,
    "start_time": "2021-12-20T21:56:48.684Z"
   },
   {
    "duration": 115,
    "start_time": "2021-12-20T21:57:18.722Z"
   },
   {
    "duration": 116,
    "start_time": "2021-12-20T21:59:23.599Z"
   },
   {
    "duration": 104,
    "start_time": "2021-12-20T21:59:44.780Z"
   },
   {
    "duration": 99,
    "start_time": "2021-12-20T21:59:56.844Z"
   },
   {
    "duration": 97,
    "start_time": "2021-12-20T22:00:25.397Z"
   },
   {
    "duration": 139,
    "start_time": "2021-12-20T22:02:06.072Z"
   },
   {
    "duration": 3,
    "start_time": "2021-12-20T22:10:13.162Z"
   },
   {
    "duration": 542,
    "start_time": "2021-12-23T15:44:12.286Z"
   },
   {
    "duration": -391,
    "start_time": "2021-12-23T15:44:13.222Z"
   },
   {
    "duration": -398,
    "start_time": "2021-12-23T15:44:13.232Z"
   },
   {
    "duration": -460,
    "start_time": "2021-12-23T15:44:13.296Z"
   },
   {
    "duration": -475,
    "start_time": "2021-12-23T15:44:13.312Z"
   },
   {
    "duration": 588,
    "start_time": "2021-12-23T15:45:51.520Z"
   },
   {
    "duration": 2048,
    "start_time": "2021-12-23T15:46:48.625Z"
   },
   {
    "duration": 23,
    "start_time": "2021-12-23T15:46:50.679Z"
   },
   {
    "duration": 16,
    "start_time": "2021-12-23T15:46:50.705Z"
   },
   {
    "duration": 89,
    "start_time": "2021-12-23T15:46:50.724Z"
   },
   {
    "duration": 8,
    "start_time": "2021-12-23T15:46:50.817Z"
   },
   {
    "duration": 35,
    "start_time": "2021-12-23T15:46:50.828Z"
   },
   {
    "duration": 289,
    "start_time": "2021-12-23T15:46:50.866Z"
   },
   {
    "duration": 18,
    "start_time": "2021-12-23T15:46:51.161Z"
   },
   {
    "duration": 260,
    "start_time": "2021-12-23T15:46:51.183Z"
   },
   {
    "duration": 25,
    "start_time": "2021-12-23T15:46:51.445Z"
   },
   {
    "duration": 274,
    "start_time": "2021-12-23T15:46:51.474Z"
   },
   {
    "duration": 240,
    "start_time": "2021-12-23T15:46:51.750Z"
   },
   {
    "duration": 15,
    "start_time": "2021-12-23T15:46:51.992Z"
   },
   {
    "duration": 19,
    "start_time": "2021-12-23T15:46:52.010Z"
   },
   {
    "duration": 233,
    "start_time": "2021-12-23T15:46:52.059Z"
   },
   {
    "duration": 11,
    "start_time": "2021-12-23T15:46:52.295Z"
   },
   {
    "duration": 695,
    "start_time": "2021-12-23T15:46:52.308Z"
   },
   {
    "duration": 5972,
    "start_time": "2021-12-23T15:46:53.005Z"
   },
   {
    "duration": 6,
    "start_time": "2021-12-23T15:46:58.979Z"
   },
   {
    "duration": 1652,
    "start_time": "2021-12-23T15:46:58.988Z"
   },
   {
    "duration": 3802,
    "start_time": "2021-12-23T15:47:00.642Z"
   },
   {
    "duration": 16,
    "start_time": "2021-12-23T15:47:04.447Z"
   },
   {
    "duration": 6,
    "start_time": "2021-12-23T15:47:04.470Z"
   },
   {
    "duration": 21,
    "start_time": "2021-12-23T15:47:04.480Z"
   },
   {
    "duration": 16,
    "start_time": "2021-12-23T15:47:04.504Z"
   },
   {
    "duration": 46,
    "start_time": "2021-12-23T15:47:04.523Z"
   },
   {
    "duration": 12,
    "start_time": "2021-12-23T15:47:04.572Z"
   },
   {
    "duration": 10,
    "start_time": "2021-12-23T15:47:04.586Z"
   },
   {
    "duration": 22,
    "start_time": "2021-12-23T15:47:04.599Z"
   },
   {
    "duration": 39,
    "start_time": "2021-12-23T15:47:04.624Z"
   },
   {
    "duration": 18,
    "start_time": "2021-12-23T15:47:04.668Z"
   },
   {
    "duration": 8,
    "start_time": "2021-12-23T15:47:04.688Z"
   },
   {
    "duration": 7,
    "start_time": "2021-12-23T15:47:04.698Z"
   },
   {
    "duration": 4,
    "start_time": "2021-12-23T15:47:04.707Z"
   },
   {
    "duration": 1208,
    "start_time": "2021-12-23T15:47:04.714Z"
   },
   {
    "duration": 5,
    "start_time": "2021-12-23T15:47:05.925Z"
   },
   {
    "duration": 34,
    "start_time": "2021-12-23T15:47:05.933Z"
   },
   {
    "duration": 251,
    "start_time": "2021-12-23T15:47:05.970Z"
   },
   {
    "duration": 18,
    "start_time": "2021-12-23T15:47:06.224Z"
   },
   {
    "duration": 41,
    "start_time": "2021-12-23T15:47:06.245Z"
   },
   {
    "duration": 40,
    "start_time": "2021-12-23T15:47:06.289Z"
   },
   {
    "duration": 34,
    "start_time": "2021-12-23T15:47:06.332Z"
   },
   {
    "duration": 2258,
    "start_time": "2021-12-23T15:47:06.370Z"
   },
   {
    "duration": 7,
    "start_time": "2021-12-23T15:47:08.631Z"
   },
   {
    "duration": 27,
    "start_time": "2021-12-23T15:47:08.641Z"
   },
   {
    "duration": 16,
    "start_time": "2021-12-23T15:47:08.671Z"
   },
   {
    "duration": 1030,
    "start_time": "2021-12-23T15:47:08.690Z"
   },
   {
    "duration": 8,
    "start_time": "2021-12-23T15:47:09.722Z"
   },
   {
    "duration": 304,
    "start_time": "2021-12-23T15:47:09.732Z"
   },
   {
    "duration": 38,
    "start_time": "2021-12-23T15:47:10.039Z"
   },
   {
    "duration": 697,
    "start_time": "2021-12-23T15:47:10.082Z"
   },
   {
    "duration": 6,
    "start_time": "2021-12-23T15:47:10.781Z"
   },
   {
    "duration": 1904,
    "start_time": "2021-12-23T15:47:10.790Z"
   },
   {
    "duration": 20,
    "start_time": "2021-12-23T15:47:12.697Z"
   },
   {
    "duration": 12,
    "start_time": "2021-12-23T15:47:12.719Z"
   },
   {
    "duration": 311,
    "start_time": "2021-12-23T15:47:12.733Z"
   },
   {
    "duration": 32,
    "start_time": "2021-12-23T15:47:13.046Z"
   },
   {
    "duration": 409,
    "start_time": "2021-12-23T15:47:13.081Z"
   },
   {
    "duration": 13,
    "start_time": "2021-12-23T15:47:13.493Z"
   },
   {
    "duration": 405,
    "start_time": "2021-12-23T15:47:13.508Z"
   },
   {
    "duration": 10,
    "start_time": "2021-12-23T15:47:13.916Z"
   },
   {
    "duration": 371,
    "start_time": "2021-12-23T15:47:13.930Z"
   },
   {
    "duration": 9,
    "start_time": "2021-12-23T15:47:14.304Z"
   },
   {
    "duration": 16,
    "start_time": "2021-12-23T15:47:14.316Z"
   },
   {
    "duration": 32,
    "start_time": "2021-12-23T15:47:14.334Z"
   },
   {
    "duration": 7,
    "start_time": "2021-12-23T15:47:14.371Z"
   },
   {
    "duration": 531,
    "start_time": "2021-12-23T15:47:14.384Z"
   },
   {
    "duration": 33,
    "start_time": "2021-12-23T15:47:14.926Z"
   },
   {
    "duration": 2861,
    "start_time": "2021-12-23T15:47:14.963Z"
   },
   {
    "duration": 6,
    "start_time": "2021-12-23T15:47:17.826Z"
   },
   {
    "duration": 5,
    "start_time": "2021-12-23T15:47:17.835Z"
   },
   {
    "duration": 7,
    "start_time": "2021-12-23T15:47:17.869Z"
   },
   {
    "duration": 751,
    "start_time": "2021-12-23T15:47:17.879Z"
   },
   {
    "duration": 30,
    "start_time": "2021-12-23T15:47:18.633Z"
   },
   {
    "duration": 316,
    "start_time": "2021-12-23T15:47:18.672Z"
   },
   {
    "duration": 486,
    "start_time": "2021-12-23T15:47:18.991Z"
   },
   {
    "duration": 12,
    "start_time": "2021-12-23T15:47:19.480Z"
   },
   {
    "duration": 13,
    "start_time": "2021-12-23T15:47:19.495Z"
   },
   {
    "duration": 532,
    "start_time": "2021-12-23T15:47:19.511Z"
   },
   {
    "duration": 17,
    "start_time": "2021-12-23T15:47:20.046Z"
   },
   {
    "duration": 408,
    "start_time": "2021-12-23T15:47:20.066Z"
   },
   {
    "duration": 10,
    "start_time": "2021-12-23T15:47:20.476Z"
   },
   {
    "duration": 555,
    "start_time": "2021-12-23T15:47:20.488Z"
   },
   {
    "duration": 353,
    "start_time": "2021-12-23T15:49:41.404Z"
   },
   {
    "duration": 16,
    "start_time": "2021-12-23T15:49:41.761Z"
   },
   {
    "duration": 27,
    "start_time": "2021-12-23T15:49:41.780Z"
   },
   {
    "duration": 80,
    "start_time": "2021-12-23T15:49:41.810Z"
   },
   {
    "duration": 11,
    "start_time": "2021-12-23T15:49:41.893Z"
   },
   {
    "duration": 3,
    "start_time": "2021-12-23T15:50:15.558Z"
   },
   {
    "duration": 1801,
    "start_time": "2021-12-23T15:51:07.484Z"
   },
   {
    "duration": 14,
    "start_time": "2021-12-23T15:51:09.288Z"
   },
   {
    "duration": 16,
    "start_time": "2021-12-23T15:51:09.306Z"
   },
   {
    "duration": 70,
    "start_time": "2021-12-23T15:51:09.325Z"
   },
   {
    "duration": 9,
    "start_time": "2021-12-23T15:51:09.398Z"
   },
   {
    "duration": 17,
    "start_time": "2021-12-23T15:51:09.410Z"
   },
   {
    "duration": 287,
    "start_time": "2021-12-23T15:51:09.430Z"
   },
   {
    "duration": 12,
    "start_time": "2021-12-23T15:51:09.720Z"
   },
   {
    "duration": 312,
    "start_time": "2021-12-23T15:51:09.735Z"
   },
   {
    "duration": 21,
    "start_time": "2021-12-23T15:51:10.058Z"
   },
   {
    "duration": 263,
    "start_time": "2021-12-23T15:51:10.081Z"
   },
   {
    "duration": 226,
    "start_time": "2021-12-23T15:51:10.346Z"
   },
   {
    "duration": 14,
    "start_time": "2021-12-23T15:51:10.575Z"
   },
   {
    "duration": 23,
    "start_time": "2021-12-23T15:51:10.592Z"
   },
   {
    "duration": 282,
    "start_time": "2021-12-23T15:51:10.618Z"
   },
   {
    "duration": 16,
    "start_time": "2021-12-23T15:51:10.903Z"
   },
   {
    "duration": 658,
    "start_time": "2021-12-23T15:51:10.922Z"
   },
   {
    "duration": 6335,
    "start_time": "2021-12-23T15:51:11.583Z"
   },
   {
    "duration": 6,
    "start_time": "2021-12-23T15:51:17.921Z"
   },
   {
    "duration": 1237,
    "start_time": "2021-12-23T15:51:17.930Z"
   },
   {
    "duration": 3764,
    "start_time": "2021-12-23T15:51:19.170Z"
   },
   {
    "duration": 22,
    "start_time": "2021-12-23T15:51:22.937Z"
   },
   {
    "duration": 5,
    "start_time": "2021-12-23T15:51:22.967Z"
   },
   {
    "duration": 18,
    "start_time": "2021-12-23T15:51:22.978Z"
   },
   {
    "duration": 13,
    "start_time": "2021-12-23T15:51:22.999Z"
   },
   {
    "duration": 46,
    "start_time": "2021-12-23T15:51:23.015Z"
   },
   {
    "duration": 7,
    "start_time": "2021-12-23T15:51:23.064Z"
   },
   {
    "duration": 11,
    "start_time": "2021-12-23T15:51:23.073Z"
   },
   {
    "duration": 21,
    "start_time": "2021-12-23T15:51:23.087Z"
   },
   {
    "duration": 6,
    "start_time": "2021-12-23T15:51:23.111Z"
   },
   {
    "duration": 11,
    "start_time": "2021-12-23T15:51:23.161Z"
   },
   {
    "duration": 9,
    "start_time": "2021-12-23T15:51:23.175Z"
   },
   {
    "duration": 10,
    "start_time": "2021-12-23T15:51:23.187Z"
   },
   {
    "duration": 6,
    "start_time": "2021-12-23T15:51:23.200Z"
   },
   {
    "duration": 1044,
    "start_time": "2021-12-23T15:51:23.209Z"
   },
   {
    "duration": 6,
    "start_time": "2021-12-23T15:51:24.261Z"
   },
   {
    "duration": 9,
    "start_time": "2021-12-23T15:51:24.269Z"
   },
   {
    "duration": 2065,
    "start_time": "2021-12-23T15:51:24.280Z"
   },
   {
    "duration": 15,
    "start_time": "2021-12-23T15:51:26.348Z"
   },
   {
    "duration": 6,
    "start_time": "2021-12-23T15:51:26.365Z"
   },
   {
    "duration": 6,
    "start_time": "2021-12-23T15:51:26.373Z"
   },
   {
    "duration": 1084,
    "start_time": "2021-12-23T15:51:26.381Z"
   },
   {
    "duration": 8,
    "start_time": "2021-12-23T15:51:27.468Z"
   },
   {
    "duration": 345,
    "start_time": "2021-12-23T15:51:27.479Z"
   },
   {
    "duration": 32,
    "start_time": "2021-12-23T15:51:27.827Z"
   },
   {
    "duration": 800,
    "start_time": "2021-12-23T15:51:27.862Z"
   },
   {
    "duration": 7,
    "start_time": "2021-12-23T15:51:28.665Z"
   },
   {
    "duration": 273,
    "start_time": "2021-12-23T15:51:28.675Z"
   },
   {
    "duration": 19,
    "start_time": "2021-12-23T15:51:28.950Z"
   },
   {
    "duration": 17,
    "start_time": "2021-12-23T15:51:28.972Z"
   },
   {
    "duration": 35,
    "start_time": "2021-12-23T15:51:28.992Z"
   },
   {
    "duration": 40,
    "start_time": "2021-12-23T15:51:29.030Z"
   },
   {
    "duration": 1891,
    "start_time": "2021-12-23T15:51:29.073Z"
   },
   {
    "duration": 17,
    "start_time": "2021-12-23T15:51:30.966Z"
   },
   {
    "duration": 24,
    "start_time": "2021-12-23T15:51:30.986Z"
   },
   {
    "duration": 377,
    "start_time": "2021-12-23T15:51:31.012Z"
   },
   {
    "duration": 13,
    "start_time": "2021-12-23T15:51:31.392Z"
   },
   {
    "duration": 396,
    "start_time": "2021-12-23T15:51:31.408Z"
   },
   {
    "duration": 11,
    "start_time": "2021-12-23T15:51:31.807Z"
   },
   {
    "duration": 479,
    "start_time": "2021-12-23T15:51:31.821Z"
   },
   {
    "duration": 13,
    "start_time": "2021-12-23T15:51:32.303Z"
   },
   {
    "duration": 351,
    "start_time": "2021-12-23T15:51:32.318Z"
   },
   {
    "duration": 12,
    "start_time": "2021-12-23T15:51:32.673Z"
   },
   {
    "duration": 12,
    "start_time": "2021-12-23T15:51:32.688Z"
   },
   {
    "duration": 13,
    "start_time": "2021-12-23T15:51:32.703Z"
   },
   {
    "duration": 43,
    "start_time": "2021-12-23T15:51:32.718Z"
   },
   {
    "duration": 417,
    "start_time": "2021-12-23T15:51:32.764Z"
   },
   {
    "duration": 15,
    "start_time": "2021-12-23T15:51:33.189Z"
   },
   {
    "duration": 3010,
    "start_time": "2021-12-23T15:51:33.208Z"
   },
   {
    "duration": 7,
    "start_time": "2021-12-23T15:51:36.221Z"
   },
   {
    "duration": 31,
    "start_time": "2021-12-23T15:51:36.230Z"
   },
   {
    "duration": 5,
    "start_time": "2021-12-23T15:51:36.264Z"
   },
   {
    "duration": 659,
    "start_time": "2021-12-23T15:51:36.272Z"
   },
   {
    "duration": 10,
    "start_time": "2021-12-23T15:51:36.933Z"
   },
   {
    "duration": 331,
    "start_time": "2021-12-23T15:51:36.946Z"
   },
   {
    "duration": 538,
    "start_time": "2021-12-23T15:51:37.280Z"
   },
   {
    "duration": 15,
    "start_time": "2021-12-23T15:51:37.821Z"
   },
   {
    "duration": 24,
    "start_time": "2021-12-23T15:51:37.838Z"
   },
   {
    "duration": 431,
    "start_time": "2021-12-23T15:51:37.865Z"
   },
   {
    "duration": 12,
    "start_time": "2021-12-23T15:51:38.298Z"
   },
   {
    "duration": 524,
    "start_time": "2021-12-23T15:51:38.312Z"
   },
   {
    "duration": 20,
    "start_time": "2021-12-23T15:51:38.839Z"
   },
   {
    "duration": 397,
    "start_time": "2021-12-23T15:51:38.862Z"
   },
   {
    "duration": 1202,
    "start_time": "2021-12-28T20:16:27.697Z"
   },
   {
    "duration": 9,
    "start_time": "2021-12-28T20:16:28.901Z"
   },
   {
    "duration": 8,
    "start_time": "2021-12-28T20:16:28.912Z"
   },
   {
    "duration": 46,
    "start_time": "2021-12-28T20:16:28.921Z"
   },
   {
    "duration": 5,
    "start_time": "2021-12-28T20:16:28.968Z"
   },
   {
    "duration": 9,
    "start_time": "2021-12-28T20:16:28.974Z"
   },
   {
    "duration": 147,
    "start_time": "2021-12-28T20:16:28.984Z"
   },
   {
    "duration": 14,
    "start_time": "2021-12-28T20:16:29.133Z"
   },
   {
    "duration": 139,
    "start_time": "2021-12-28T20:16:29.148Z"
   },
   {
    "duration": 13,
    "start_time": "2021-12-28T20:16:29.288Z"
   },
   {
    "duration": 141,
    "start_time": "2021-12-28T20:16:29.303Z"
   },
   {
    "duration": 140,
    "start_time": "2021-12-28T20:16:29.446Z"
   },
   {
    "duration": 12,
    "start_time": "2021-12-28T20:16:29.589Z"
   },
   {
    "duration": 12,
    "start_time": "2021-12-28T20:16:29.602Z"
   },
   {
    "duration": 145,
    "start_time": "2021-12-28T20:16:29.616Z"
   },
   {
    "duration": 8,
    "start_time": "2021-12-28T20:16:29.763Z"
   },
   {
    "duration": 506,
    "start_time": "2021-12-28T20:16:29.773Z"
   },
   {
    "duration": 2907,
    "start_time": "2021-12-28T20:16:30.281Z"
   },
   {
    "duration": 5,
    "start_time": "2021-12-28T20:16:33.190Z"
   },
   {
    "duration": 810,
    "start_time": "2021-12-28T20:16:33.196Z"
   },
   {
    "duration": 1928,
    "start_time": "2021-12-28T20:16:34.008Z"
   },
   {
    "duration": 3,
    "start_time": "2021-12-28T20:16:35.941Z"
   },
   {
    "duration": 15,
    "start_time": "2021-12-28T20:16:35.948Z"
   },
   {
    "duration": 20,
    "start_time": "2021-12-28T20:16:35.965Z"
   },
   {
    "duration": 12,
    "start_time": "2021-12-28T20:16:35.986Z"
   },
   {
    "duration": 13,
    "start_time": "2021-12-28T20:16:35.999Z"
   },
   {
    "duration": 11,
    "start_time": "2021-12-28T20:16:36.014Z"
   },
   {
    "duration": 11,
    "start_time": "2021-12-28T20:16:36.026Z"
   },
   {
    "duration": 16,
    "start_time": "2021-12-28T20:16:36.038Z"
   },
   {
    "duration": 4,
    "start_time": "2021-12-28T20:16:36.056Z"
   },
   {
    "duration": 16,
    "start_time": "2021-12-28T20:16:36.061Z"
   },
   {
    "duration": 16,
    "start_time": "2021-12-28T20:16:36.079Z"
   },
   {
    "duration": 10,
    "start_time": "2021-12-28T20:16:36.097Z"
   },
   {
    "duration": 10,
    "start_time": "2021-12-28T20:16:36.109Z"
   },
   {
    "duration": 861,
    "start_time": "2021-12-28T20:16:36.121Z"
   },
   {
    "duration": 4,
    "start_time": "2021-12-28T20:16:36.984Z"
   },
   {
    "duration": 14,
    "start_time": "2021-12-28T20:16:36.990Z"
   },
   {
    "duration": 1724,
    "start_time": "2021-12-28T20:16:37.006Z"
   },
   {
    "duration": 4,
    "start_time": "2021-12-28T20:16:38.732Z"
   },
   {
    "duration": 14,
    "start_time": "2021-12-28T20:16:38.741Z"
   },
   {
    "duration": 8,
    "start_time": "2021-12-28T20:16:38.757Z"
   },
   {
    "duration": 497,
    "start_time": "2021-12-28T20:16:38.767Z"
   },
   {
    "duration": 5,
    "start_time": "2021-12-28T20:16:39.266Z"
   },
   {
    "duration": 147,
    "start_time": "2021-12-28T20:16:39.273Z"
   },
   {
    "duration": 22,
    "start_time": "2021-12-28T20:16:39.421Z"
   },
   {
    "duration": 340,
    "start_time": "2021-12-28T20:16:39.445Z"
   },
   {
    "duration": 4,
    "start_time": "2021-12-28T20:16:39.787Z"
   },
   {
    "duration": 133,
    "start_time": "2021-12-28T20:16:39.793Z"
   },
   {
    "duration": 17,
    "start_time": "2021-12-28T20:16:39.928Z"
   },
   {
    "duration": 11,
    "start_time": "2021-12-28T20:16:39.947Z"
   },
   {
    "duration": 25,
    "start_time": "2021-12-28T20:16:39.960Z"
   },
   {
    "duration": 6,
    "start_time": "2021-12-28T20:16:39.987Z"
   },
   {
    "duration": 1155,
    "start_time": "2021-12-28T20:16:39.994Z"
   },
   {
    "duration": 12,
    "start_time": "2021-12-28T20:16:41.151Z"
   },
   {
    "duration": 16,
    "start_time": "2021-12-28T20:16:41.166Z"
   },
   {
    "duration": 239,
    "start_time": "2021-12-28T20:16:41.184Z"
   },
   {
    "duration": 17,
    "start_time": "2021-12-28T20:16:41.425Z"
   },
   {
    "duration": 204,
    "start_time": "2021-12-28T20:16:41.444Z"
   },
   {
    "duration": 8,
    "start_time": "2021-12-28T20:16:41.650Z"
   },
   {
    "duration": 306,
    "start_time": "2021-12-28T20:16:41.660Z"
   },
   {
    "duration": 7,
    "start_time": "2021-12-28T20:16:41.968Z"
   },
   {
    "duration": 238,
    "start_time": "2021-12-28T20:16:41.977Z"
   },
   {
    "duration": 10,
    "start_time": "2021-12-28T20:16:42.217Z"
   },
   {
    "duration": 22,
    "start_time": "2021-12-28T20:16:42.229Z"
   },
   {
    "duration": 10,
    "start_time": "2021-12-28T20:16:42.253Z"
   },
   {
    "duration": 4,
    "start_time": "2021-12-28T20:16:42.265Z"
   },
   {
    "duration": 237,
    "start_time": "2021-12-28T20:16:42.271Z"
   },
   {
    "duration": 10,
    "start_time": "2021-12-28T20:16:42.513Z"
   },
   {
    "duration": 2024,
    "start_time": "2021-12-28T20:16:42.526Z"
   },
   {
    "duration": 4,
    "start_time": "2021-12-28T20:16:44.552Z"
   },
   {
    "duration": 8,
    "start_time": "2021-12-28T20:16:44.558Z"
   },
   {
    "duration": 10,
    "start_time": "2021-12-28T20:16:44.567Z"
   },
   {
    "duration": 347,
    "start_time": "2021-12-28T20:16:44.578Z"
   },
   {
    "duration": 14,
    "start_time": "2021-12-28T20:16:44.927Z"
   },
   {
    "duration": 163,
    "start_time": "2021-12-28T20:16:44.943Z"
   },
   {
    "duration": 374,
    "start_time": "2021-12-28T20:16:45.108Z"
   },
   {
    "duration": 9,
    "start_time": "2021-12-28T20:16:45.484Z"
   },
   {
    "duration": 8,
    "start_time": "2021-12-28T20:16:45.495Z"
   },
   {
    "duration": 236,
    "start_time": "2021-12-28T20:16:45.505Z"
   },
   {
    "duration": 7,
    "start_time": "2021-12-28T20:16:45.744Z"
   },
   {
    "duration": 218,
    "start_time": "2021-12-28T20:16:45.753Z"
   },
   {
    "duration": 7,
    "start_time": "2021-12-28T20:16:45.973Z"
   },
   {
    "duration": 199,
    "start_time": "2021-12-28T20:16:45.982Z"
   },
   {
    "duration": 11,
    "start_time": "2021-12-28T20:33:58.771Z"
   }
  ],
  "kernelspec": {
   "display_name": "Python 3 (ipykernel)",
   "language": "python",
   "name": "python3"
  },
  "language_info": {
   "codemirror_mode": {
    "name": "ipython",
    "version": 3
   },
   "file_extension": ".py",
   "mimetype": "text/x-python",
   "name": "python",
   "nbconvert_exporter": "python",
   "pygments_lexer": "ipython3",
   "version": "3.9.5"
  },
  "toc": {
   "base_numbering": 1,
   "nav_menu": {},
   "number_sections": true,
   "sideBar": true,
   "skip_h1_title": true,
   "title_cell": "Содержание",
   "title_sidebar": "Contents",
   "toc_cell": true,
   "toc_position": {},
   "toc_section_display": true,
   "toc_window_display": false
  }
 },
 "nbformat": 4,
 "nbformat_minor": 2
}
