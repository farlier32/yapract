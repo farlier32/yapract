{
 "cells": [
  {
   "cell_type": "markdown",
   "metadata": {},
   "source": [
    "<div class=\"alert alert-success\">\n",
    "<font size=\"5\", color= \"seagreen\"><b>✔️ Комментарий ревьюера в3</b></font>\n",
    "    <br /> \n",
    "    <font size=\"3\", color = \"black\">\n",
    "<br /> Привет, Никита :) Спасибо  за юмор, добрые слова и исправления\n",
    "        \n",
    "Подведем итоги. Основные навыки, тестируемые на проекте:\n",
    "        \n",
    " + внимательное чтение технического задания проекта :)\n",
    " + умение определять типы гистограмм, необходимые для оценки дискретных и непрерывных величин,\n",
    " + объединение разных таблиц в единый датасет, — особое внимание на способы объединения (left или inner, можно кого-нить забыть, значение параметра how по умолчанию) и на пропуски\n",
    " + формирование, чтение и сравнение показателей на графике двух выборок, \n",
    " + формирование выводов о данных по статистическим показателям,\n",
    " + формулирование и проверка двухсторонних гипотез, <b>интерпретация значения p-value - требует повторения недели через две </b>(для профилактики :) )\n",
    " + формирование рекомендаций для бизнеса \n",
    "        \n",
    "Навыки отработаны замечательно, проект принят\n",
    "        \n",
    "<b>Поздравляю с успешно сданным четвертым проектом на факультете дата-аналитики Я.Практикум</b>\n",
    "\n",
    "<div class=\"alert alert-success\">\n",
    "    <font size=\"5\", color= \"seagreen\"><b>Успехов в дальнейшей учебе 🤝</b></font><br />\n",
    "    \n"
   ]
  },
  {
   "cell_type": "markdown",
   "metadata": {},
   "source": [
    "<div class=\"alert alert-success\">\n",
    "<font size=\"4\"><b>Комментарий ревьюера</b></font>\n",
    "    <br /> \n",
    "    <font size=\"3\", color = \"black\">\n",
    "<br />\n",
    "    Привет, Никита :) Спасибо, что прислал задание :) Меня зовут Ринат Хисамов и я буду проверять твой проект. Предлагаю обращаться друг к другу на ты. Так нам будет гораздо проще и удобней общаться).\n",
    "\n",
    "Мои комментарии обозначены пометкой <b>Комментарий ревьюера</b>. Далее в файле сможешь найти их в похожих ячейках (если фон комментария зелёный — всё сделано правильно (✔️), рекомендации таким же цветом. Отдельным цветом — блок ссылок (примеры ниже, 🍕). Оранжевым или светло желтым рекомендации, которые, хоть и не обязательны, но точно сделают ревью лучше. (⚠️); <u> красный комментарий</u>: код, график или вывод стоит переделать (❌)). \n",
    "\n",
    "Не удаляй все эти комментарии и постарайся учесть их в ходе выполнения данного проекта. \n",
    "Будет замечательно, если добавишь свои комментарии и пояснения✍\n",
    "        \n",
    "Поехали 🚀\n",
    "    <br />\n",
    "    </font>\n",
    "\n",
    "</div>"
   ]
  },
  {
   "cell_type": "markdown",
   "metadata": {},
   "source": [
    "<div style=\"border:solid steelblue 1px; padding: 20px\">\n",
    "    \n",
    "<font size=\"4\"><p style=\"text-align:center\"><b>Примеры комментариев </b></p></font>\n",
    "    \n",
    "<div style=\"border:solid steelblue 3px; padding: 20px\">\n",
    "<font size=\"4\"><b>🍕 Пример комментария - совета, здесь м.б. просто ссылка</b></font>\n",
    "    <br /> \n",
    "        <font size=\"3\", color = \"black\">\n",
    "<br />\n",
    "    Тут всего такого разного и вкусного :), есть способы прокачать проект визуализациями (ценит большинство \"боссов\")  <br /><br />\n",
    "        <a href=\"https://pyprog.pro/mpl/mpl_short_guide.html\">Краткое руководство по Matplotlib</a>\n",
    "        На сайте много полезных материалов, мне самому очень помогло в свое время, до сих пор подсматриваю :)\n",
    "\n",
    "\n",
    "</div>\n",
    "    \n",
    "<div class=\"alert alert-warning\", style=\"border:solid coral 3px; padding: 20px\">\n",
    "    <font size=\"3\"><b>⚠️ Пример оформления некритичного комментария</b>\n",
    "    <br /> \n",
    "    <font size=\"2\", color = \"black\">\n",
    "<br />\n",
    "    Рекомендации, которые, хоть и не обязательны, но точно сделают ревью лучше\n",
    "    <br />\n",
    "    </font>\n",
    "\n",
    "</div>\n",
    "    \n",
    "<div class=\"alert alert-danger\">\n",
    "<font size=\"3\"><b>❌ Пример оформления комментария к блоку(строке) программного кода (или выводу), который стоит переделать</b></font>\n",
    "    <br /> \n",
    "    <font size=\"2\", color = \"black\">\n",
    "<br />\n",
    "    Отправлен не тот проект, напиши в своих комментариях, что случилось? жду — <b>это пример</b>\n",
    "    <br />\n",
    "    </font>\n",
    "\n",
    "</div>\n",
    "    \n",
    "<div class=\"alert alert-success\">\n",
    "<font size=\"4\"><b>✔️ Пример оформления комментария, который нравится большинству студентов</b></font>\n",
    "    <br /> \n",
    "    <font size=\"3\", color = \"black\">\n",
    "<br />\n",
    "    Круто, молодец, отлично, логично, или — 👌, 👍, или — выводы отвечают на все вопросы к данным и проекту\n",
    "    <br />\n",
    "    </font>\n",
    "\n",
    "</div>"
   ]
  },
  {
   "cell_type": "markdown",
   "metadata": {},
   "source": [
    "<div class=\"alert alert-primary\">\n",
    "<font size=\"4\"><b>Определение перспективного тарифа для телеком-компании</b></font>\n",
    "    <br /> \n",
    "    <font size=\"3\", color = \"black\">\n",
    "<br />\n",
    "\n",
    "Из выборки нужно узнать о клиентах, кто они, откуда, каким тарифом пользуются, сколько звонков и сообщений каждый отправил за 2018 год. \n",
    "Нужно проанализировать поведение клиентов и сделать вывод — какой тариф лучше.\n",
    "\n",
    "- Открытие файлов с данными.\n",
    "- Исправление ошибок в названии и типах данных.\n",
    "    - Подсчёт помесячных трат трафика (смс, звонки, интернет);\n",
    "    - Вычислить помесячную выручку с каждого пользователя.\n",
    "- Анализ данных\n",
    "    - Исходя из выборки описать поведение клиентов оператора;\n",
    "    - Сколько минут разговора, сколько сообщений и какой объём интернет-трафика требуется пользователям каждого тарифа в месяц;\n",
    "    - Посчитать среднее количество, дисперсию и стандартное отклонение;\n",
    "    - Построить гистограммы;\n",
    "    - Описать распределения.\n",
    "- Проверка гипотез\n",
    "    - Средняя выручка пользователей тарифов «Ультра» и «Смарт» различаются;\n",
    "    - Средняя выручка пользователей из Москвы отличается от выручки пользователей из других регионов.\n",
    "        - Пояснить как формулировал нулевую и альтернативную гипотезы;\n",
    "        - Какой критерий использовал для проверки гипотез и почему.\n",
    "\n"
   ]
  },
  {
   "cell_type": "markdown",
   "metadata": {},
   "source": [
    "## Открытие файлов / исправление ошибок в названии и типах данных."
   ]
  },
  {
   "cell_type": "code",
   "execution_count": 1,
   "metadata": {},
   "outputs": [],
   "source": [
    "import pandas as pd\n",
    "from scipy import stats as st\n",
    "import matplotlib.pyplot as plt\n",
    "import numpy as np"
   ]
  },
  {
   "cell_type": "markdown",
   "metadata": {},
   "source": [
    "<div class=\"alert alert-anger\">\n",
    "<font size=\"4\"><b>❌ Комментарий ревьюера</b></font>\n",
    "    <br /> \n",
    "    <font size=\"3\", color = \"black\">\n",
    "<br />\n",
    "Название, краткое вступление в работу и главная задача, четкий план работ и перечень основных задач позволит коллегам быстрее вникнуть в суть проекта, да и самому будет легче  идти к главной цели проекта"
   ]
  },
  {
   "cell_type": "code",
   "execution_count": 2,
   "metadata": {
    "scrolled": true
   },
   "outputs": [
    {
     "name": "stdout",
     "output_type": "stream",
     "text": [
      "ЗВОНКИ\n"
     ]
    },
    {
     "data": {
      "text/html": [
       "<div>\n",
       "<style scoped>\n",
       "    .dataframe tbody tr th:only-of-type {\n",
       "        vertical-align: middle;\n",
       "    }\n",
       "\n",
       "    .dataframe tbody tr th {\n",
       "        vertical-align: top;\n",
       "    }\n",
       "\n",
       "    .dataframe thead th {\n",
       "        text-align: right;\n",
       "    }\n",
       "</style>\n",
       "<table border=\"1\" class=\"dataframe\">\n",
       "  <thead>\n",
       "    <tr style=\"text-align: right;\">\n",
       "      <th></th>\n",
       "      <th>id</th>\n",
       "      <th>call_date</th>\n",
       "      <th>duration</th>\n",
       "      <th>user_id</th>\n",
       "    </tr>\n",
       "  </thead>\n",
       "  <tbody>\n",
       "    <tr>\n",
       "      <th>0</th>\n",
       "      <td>1000_0</td>\n",
       "      <td>2018-07-25</td>\n",
       "      <td>0.00</td>\n",
       "      <td>1000</td>\n",
       "    </tr>\n",
       "    <tr>\n",
       "      <th>1</th>\n",
       "      <td>1000_1</td>\n",
       "      <td>2018-08-17</td>\n",
       "      <td>0.00</td>\n",
       "      <td>1000</td>\n",
       "    </tr>\n",
       "    <tr>\n",
       "      <th>2</th>\n",
       "      <td>1000_2</td>\n",
       "      <td>2018-06-11</td>\n",
       "      <td>2.85</td>\n",
       "      <td>1000</td>\n",
       "    </tr>\n",
       "    <tr>\n",
       "      <th>3</th>\n",
       "      <td>1000_3</td>\n",
       "      <td>2018-09-21</td>\n",
       "      <td>13.80</td>\n",
       "      <td>1000</td>\n",
       "    </tr>\n",
       "    <tr>\n",
       "      <th>4</th>\n",
       "      <td>1000_4</td>\n",
       "      <td>2018-12-15</td>\n",
       "      <td>5.18</td>\n",
       "      <td>1000</td>\n",
       "    </tr>\n",
       "  </tbody>\n",
       "</table>\n",
       "</div>"
      ],
      "text/plain": [
       "       id   call_date  duration  user_id\n",
       "0  1000_0  2018-07-25      0.00     1000\n",
       "1  1000_1  2018-08-17      0.00     1000\n",
       "2  1000_2  2018-06-11      2.85     1000\n",
       "3  1000_3  2018-09-21     13.80     1000\n",
       "4  1000_4  2018-12-15      5.18     1000"
      ]
     },
     "metadata": {},
     "output_type": "display_data"
    },
    {
     "name": "stdout",
     "output_type": "stream",
     "text": [
      "ИНТЕРНЕТ\n"
     ]
    },
    {
     "data": {
      "text/html": [
       "<div>\n",
       "<style scoped>\n",
       "    .dataframe tbody tr th:only-of-type {\n",
       "        vertical-align: middle;\n",
       "    }\n",
       "\n",
       "    .dataframe tbody tr th {\n",
       "        vertical-align: top;\n",
       "    }\n",
       "\n",
       "    .dataframe thead th {\n",
       "        text-align: right;\n",
       "    }\n",
       "</style>\n",
       "<table border=\"1\" class=\"dataframe\">\n",
       "  <thead>\n",
       "    <tr style=\"text-align: right;\">\n",
       "      <th></th>\n",
       "      <th>id</th>\n",
       "      <th>mb_used</th>\n",
       "      <th>session_date</th>\n",
       "      <th>user_id</th>\n",
       "    </tr>\n",
       "  </thead>\n",
       "  <tbody>\n",
       "    <tr>\n",
       "      <th>0</th>\n",
       "      <td>1000_0</td>\n",
       "      <td>112.95</td>\n",
       "      <td>2018-11-25</td>\n",
       "      <td>1000</td>\n",
       "    </tr>\n",
       "    <tr>\n",
       "      <th>1</th>\n",
       "      <td>1000_1</td>\n",
       "      <td>1052.81</td>\n",
       "      <td>2018-09-07</td>\n",
       "      <td>1000</td>\n",
       "    </tr>\n",
       "    <tr>\n",
       "      <th>2</th>\n",
       "      <td>1000_2</td>\n",
       "      <td>1197.26</td>\n",
       "      <td>2018-06-25</td>\n",
       "      <td>1000</td>\n",
       "    </tr>\n",
       "    <tr>\n",
       "      <th>3</th>\n",
       "      <td>1000_3</td>\n",
       "      <td>550.27</td>\n",
       "      <td>2018-08-22</td>\n",
       "      <td>1000</td>\n",
       "    </tr>\n",
       "    <tr>\n",
       "      <th>4</th>\n",
       "      <td>1000_4</td>\n",
       "      <td>302.56</td>\n",
       "      <td>2018-09-24</td>\n",
       "      <td>1000</td>\n",
       "    </tr>\n",
       "  </tbody>\n",
       "</table>\n",
       "</div>"
      ],
      "text/plain": [
       "       id  mb_used session_date  user_id\n",
       "0  1000_0   112.95   2018-11-25     1000\n",
       "1  1000_1  1052.81   2018-09-07     1000\n",
       "2  1000_2  1197.26   2018-06-25     1000\n",
       "3  1000_3   550.27   2018-08-22     1000\n",
       "4  1000_4   302.56   2018-09-24     1000"
      ]
     },
     "metadata": {},
     "output_type": "display_data"
    },
    {
     "name": "stdout",
     "output_type": "stream",
     "text": [
      "СМС\n"
     ]
    },
    {
     "data": {
      "text/html": [
       "<div>\n",
       "<style scoped>\n",
       "    .dataframe tbody tr th:only-of-type {\n",
       "        vertical-align: middle;\n",
       "    }\n",
       "\n",
       "    .dataframe tbody tr th {\n",
       "        vertical-align: top;\n",
       "    }\n",
       "\n",
       "    .dataframe thead th {\n",
       "        text-align: right;\n",
       "    }\n",
       "</style>\n",
       "<table border=\"1\" class=\"dataframe\">\n",
       "  <thead>\n",
       "    <tr style=\"text-align: right;\">\n",
       "      <th></th>\n",
       "      <th>id</th>\n",
       "      <th>message_date</th>\n",
       "      <th>user_id</th>\n",
       "    </tr>\n",
       "  </thead>\n",
       "  <tbody>\n",
       "    <tr>\n",
       "      <th>0</th>\n",
       "      <td>1000_0</td>\n",
       "      <td>2018-06-27</td>\n",
       "      <td>1000</td>\n",
       "    </tr>\n",
       "    <tr>\n",
       "      <th>1</th>\n",
       "      <td>1000_1</td>\n",
       "      <td>2018-10-08</td>\n",
       "      <td>1000</td>\n",
       "    </tr>\n",
       "    <tr>\n",
       "      <th>2</th>\n",
       "      <td>1000_2</td>\n",
       "      <td>2018-08-04</td>\n",
       "      <td>1000</td>\n",
       "    </tr>\n",
       "    <tr>\n",
       "      <th>3</th>\n",
       "      <td>1000_3</td>\n",
       "      <td>2018-06-16</td>\n",
       "      <td>1000</td>\n",
       "    </tr>\n",
       "    <tr>\n",
       "      <th>4</th>\n",
       "      <td>1000_4</td>\n",
       "      <td>2018-12-05</td>\n",
       "      <td>1000</td>\n",
       "    </tr>\n",
       "  </tbody>\n",
       "</table>\n",
       "</div>"
      ],
      "text/plain": [
       "       id message_date  user_id\n",
       "0  1000_0   2018-06-27     1000\n",
       "1  1000_1   2018-10-08     1000\n",
       "2  1000_2   2018-08-04     1000\n",
       "3  1000_3   2018-06-16     1000\n",
       "4  1000_4   2018-12-05     1000"
      ]
     },
     "metadata": {},
     "output_type": "display_data"
    },
    {
     "name": "stdout",
     "output_type": "stream",
     "text": [
      "ТАРИФЫ\n"
     ]
    },
    {
     "data": {
      "text/html": [
       "<div>\n",
       "<style scoped>\n",
       "    .dataframe tbody tr th:only-of-type {\n",
       "        vertical-align: middle;\n",
       "    }\n",
       "\n",
       "    .dataframe tbody tr th {\n",
       "        vertical-align: top;\n",
       "    }\n",
       "\n",
       "    .dataframe thead th {\n",
       "        text-align: right;\n",
       "    }\n",
       "</style>\n",
       "<table border=\"1\" class=\"dataframe\">\n",
       "  <thead>\n",
       "    <tr style=\"text-align: right;\">\n",
       "      <th></th>\n",
       "      <th>messages_included</th>\n",
       "      <th>mb_per_month_included</th>\n",
       "      <th>minutes_included</th>\n",
       "      <th>rub_monthly_fee</th>\n",
       "      <th>rub_per_gb</th>\n",
       "      <th>rub_per_message</th>\n",
       "      <th>rub_per_minute</th>\n",
       "      <th>tariff_name</th>\n",
       "    </tr>\n",
       "  </thead>\n",
       "  <tbody>\n",
       "    <tr>\n",
       "      <th>0</th>\n",
       "      <td>50</td>\n",
       "      <td>15360</td>\n",
       "      <td>500</td>\n",
       "      <td>550</td>\n",
       "      <td>200</td>\n",
       "      <td>3</td>\n",
       "      <td>3</td>\n",
       "      <td>smart</td>\n",
       "    </tr>\n",
       "    <tr>\n",
       "      <th>1</th>\n",
       "      <td>1000</td>\n",
       "      <td>30720</td>\n",
       "      <td>3000</td>\n",
       "      <td>1950</td>\n",
       "      <td>150</td>\n",
       "      <td>1</td>\n",
       "      <td>1</td>\n",
       "      <td>ultra</td>\n",
       "    </tr>\n",
       "  </tbody>\n",
       "</table>\n",
       "</div>"
      ],
      "text/plain": [
       "   messages_included  mb_per_month_included  minutes_included  \\\n",
       "0                 50                  15360               500   \n",
       "1               1000                  30720              3000   \n",
       "\n",
       "   rub_monthly_fee  rub_per_gb  rub_per_message  rub_per_minute tariff_name  \n",
       "0              550         200                3               3       smart  \n",
       "1             1950         150                1               1       ultra  "
      ]
     },
     "metadata": {},
     "output_type": "display_data"
    },
    {
     "name": "stdout",
     "output_type": "stream",
     "text": [
      "ПОЛЬЗОВАТЕЛИ\n"
     ]
    },
    {
     "data": {
      "text/html": [
       "<div>\n",
       "<style scoped>\n",
       "    .dataframe tbody tr th:only-of-type {\n",
       "        vertical-align: middle;\n",
       "    }\n",
       "\n",
       "    .dataframe tbody tr th {\n",
       "        vertical-align: top;\n",
       "    }\n",
       "\n",
       "    .dataframe thead th {\n",
       "        text-align: right;\n",
       "    }\n",
       "</style>\n",
       "<table border=\"1\" class=\"dataframe\">\n",
       "  <thead>\n",
       "    <tr style=\"text-align: right;\">\n",
       "      <th></th>\n",
       "      <th>user_id</th>\n",
       "      <th>age</th>\n",
       "      <th>churn_date</th>\n",
       "      <th>city</th>\n",
       "      <th>first_name</th>\n",
       "      <th>last_name</th>\n",
       "      <th>reg_date</th>\n",
       "      <th>tariff</th>\n",
       "    </tr>\n",
       "  </thead>\n",
       "  <tbody>\n",
       "    <tr>\n",
       "      <th>0</th>\n",
       "      <td>1000</td>\n",
       "      <td>52</td>\n",
       "      <td>NaN</td>\n",
       "      <td>Краснодар</td>\n",
       "      <td>Рафаил</td>\n",
       "      <td>Верещагин</td>\n",
       "      <td>2018-05-25</td>\n",
       "      <td>ultra</td>\n",
       "    </tr>\n",
       "    <tr>\n",
       "      <th>1</th>\n",
       "      <td>1001</td>\n",
       "      <td>41</td>\n",
       "      <td>NaN</td>\n",
       "      <td>Москва</td>\n",
       "      <td>Иван</td>\n",
       "      <td>Ежов</td>\n",
       "      <td>2018-11-01</td>\n",
       "      <td>smart</td>\n",
       "    </tr>\n",
       "    <tr>\n",
       "      <th>2</th>\n",
       "      <td>1002</td>\n",
       "      <td>59</td>\n",
       "      <td>NaN</td>\n",
       "      <td>Стерлитамак</td>\n",
       "      <td>Евгений</td>\n",
       "      <td>Абрамович</td>\n",
       "      <td>2018-06-17</td>\n",
       "      <td>smart</td>\n",
       "    </tr>\n",
       "    <tr>\n",
       "      <th>3</th>\n",
       "      <td>1003</td>\n",
       "      <td>23</td>\n",
       "      <td>NaN</td>\n",
       "      <td>Москва</td>\n",
       "      <td>Белла</td>\n",
       "      <td>Белякова</td>\n",
       "      <td>2018-08-17</td>\n",
       "      <td>ultra</td>\n",
       "    </tr>\n",
       "    <tr>\n",
       "      <th>4</th>\n",
       "      <td>1004</td>\n",
       "      <td>68</td>\n",
       "      <td>NaN</td>\n",
       "      <td>Новокузнецк</td>\n",
       "      <td>Татьяна</td>\n",
       "      <td>Авдеенко</td>\n",
       "      <td>2018-05-14</td>\n",
       "      <td>ultra</td>\n",
       "    </tr>\n",
       "  </tbody>\n",
       "</table>\n",
       "</div>"
      ],
      "text/plain": [
       "   user_id  age churn_date         city first_name  last_name    reg_date  \\\n",
       "0     1000   52        NaN    Краснодар     Рафаил  Верещагин  2018-05-25   \n",
       "1     1001   41        NaN       Москва       Иван       Ежов  2018-11-01   \n",
       "2     1002   59        NaN  Стерлитамак    Евгений  Абрамович  2018-06-17   \n",
       "3     1003   23        NaN       Москва      Белла   Белякова  2018-08-17   \n",
       "4     1004   68        NaN  Новокузнецк    Татьяна   Авдеенко  2018-05-14   \n",
       "\n",
       "  tariff  \n",
       "0  ultra  \n",
       "1  smart  \n",
       "2  smart  \n",
       "3  ultra  \n",
       "4  ultra  "
      ]
     },
     "metadata": {},
     "output_type": "display_data"
    }
   ],
   "source": [
    "calls = pd.read_csv('/datasets/calls.csv')\n",
    "print('ЗВОНКИ')\n",
    "display(calls.head())\n",
    "internet = pd.read_csv('/datasets/internet.csv', index_col=0)\n",
    "print('ИНТЕРНЕТ')\n",
    "display(internet.head())\n",
    "messages = pd.read_csv('/datasets/messages.csv')\n",
    "print('СМС')\n",
    "display(messages.head())\n",
    "tariffs = pd.read_csv('/datasets/tariffs.csv')\n",
    "print('ТАРИФЫ')\n",
    "display(tariffs)\n",
    "users = pd.read_csv('/datasets/users.csv')\n",
    "print('ПОЛЬЗОВАТЕЛИ')\n",
    "display(users.head())"
   ]
  },
  {
   "cell_type": "code",
   "execution_count": 3,
   "metadata": {},
   "outputs": [],
   "source": [
    " #internet = internet.drop(columns = 'Unnamed: 0', errors = 'ignore')\n",
    " #display(internet)"
   ]
  },
  {
   "cell_type": "markdown",
   "metadata": {},
   "source": [
    "<div style=\"border:solid steelblue 3px; padding: 20px\">\n",
    "<font size=\"4\">🍕<b> Комментарий ревьюера</b></font>\n",
    "<br /> \n",
    "<font size=\"3\", color = \"black\">\n",
    "<br />\n",
    "Unnamed: 0 возникает, когда данные сохраняют с указанием индекса pd.DataFrame().to_csv(..., index=column). Если при чтении указать этот столбец pd.read_csv(..., index_col=0) - данные сразу прочитаются корректно\n"
   ]
  },
  {
   "cell_type": "code",
   "execution_count": 4,
   "metadata": {
    "scrolled": true
   },
   "outputs": [
    {
     "name": "stdout",
     "output_type": "stream",
     "text": [
      "Звонки\n",
      "<class 'pandas.core.frame.DataFrame'>\n",
      "RangeIndex: 202607 entries, 0 to 202606\n",
      "Data columns (total 4 columns):\n",
      " #   Column     Non-Null Count   Dtype  \n",
      "---  ------     --------------   -----  \n",
      " 0   id         202607 non-null  object \n",
      " 1   call_date  202607 non-null  object \n",
      " 2   duration   202607 non-null  float64\n",
      " 3   user_id    202607 non-null  int64  \n",
      "dtypes: float64(1), int64(1), object(2)\n",
      "memory usage: 6.2+ MB\n",
      "None \n",
      "\n",
      "Интернет\n",
      "<class 'pandas.core.frame.DataFrame'>\n",
      "Int64Index: 149396 entries, 0 to 149395\n",
      "Data columns (total 4 columns):\n",
      " #   Column        Non-Null Count   Dtype  \n",
      "---  ------        --------------   -----  \n",
      " 0   id            149396 non-null  object \n",
      " 1   mb_used       149396 non-null  float64\n",
      " 2   session_date  149396 non-null  object \n",
      " 3   user_id       149396 non-null  int64  \n",
      "dtypes: float64(1), int64(1), object(2)\n",
      "memory usage: 5.7+ MB\n",
      "None \n",
      "\n",
      "СМС\n",
      "<class 'pandas.core.frame.DataFrame'>\n",
      "RangeIndex: 123036 entries, 0 to 123035\n",
      "Data columns (total 3 columns):\n",
      " #   Column        Non-Null Count   Dtype \n",
      "---  ------        --------------   ----- \n",
      " 0   id            123036 non-null  object\n",
      " 1   message_date  123036 non-null  object\n",
      " 2   user_id       123036 non-null  int64 \n",
      "dtypes: int64(1), object(2)\n",
      "memory usage: 2.8+ MB\n",
      "None \n",
      "\n",
      "Тарифы\n",
      "<class 'pandas.core.frame.DataFrame'>\n",
      "RangeIndex: 2 entries, 0 to 1\n",
      "Data columns (total 8 columns):\n",
      " #   Column                 Non-Null Count  Dtype \n",
      "---  ------                 --------------  ----- \n",
      " 0   messages_included      2 non-null      int64 \n",
      " 1   mb_per_month_included  2 non-null      int64 \n",
      " 2   minutes_included       2 non-null      int64 \n",
      " 3   rub_monthly_fee        2 non-null      int64 \n",
      " 4   rub_per_gb             2 non-null      int64 \n",
      " 5   rub_per_message        2 non-null      int64 \n",
      " 6   rub_per_minute         2 non-null      int64 \n",
      " 7   tariff_name            2 non-null      object\n",
      "dtypes: int64(7), object(1)\n",
      "memory usage: 256.0+ bytes\n",
      "None \n",
      "\n",
      "Пользователи\n",
      "<class 'pandas.core.frame.DataFrame'>\n",
      "RangeIndex: 500 entries, 0 to 499\n",
      "Data columns (total 8 columns):\n",
      " #   Column      Non-Null Count  Dtype \n",
      "---  ------      --------------  ----- \n",
      " 0   user_id     500 non-null    int64 \n",
      " 1   age         500 non-null    int64 \n",
      " 2   churn_date  38 non-null     object\n",
      " 3   city        500 non-null    object\n",
      " 4   first_name  500 non-null    object\n",
      " 5   last_name   500 non-null    object\n",
      " 6   reg_date    500 non-null    object\n",
      " 7   tariff      500 non-null    object\n",
      "dtypes: int64(2), object(6)\n",
      "memory usage: 31.4+ KB\n",
      "None\n"
     ]
    }
   ],
   "source": [
    "print('Звонки')\n",
    "print(calls.info(),'\\n')\n",
    "print('Интернет')\n",
    "print(internet.info(),'\\n')\n",
    "print('СМС')\n",
    "print(messages.info(),'\\n')\n",
    "print('Тарифы')\n",
    "print(tariffs.info(),'\\n')\n",
    "print('Пользователи')\n",
    "print(users.info())"
   ]
  },
  {
   "cell_type": "code",
   "execution_count": 5,
   "metadata": {
    "scrolled": true
   },
   "outputs": [
    {
     "name": "stdout",
     "output_type": "stream",
     "text": [
      "Типы данных изменены на datetime\n"
     ]
    }
   ],
   "source": [
    "calls['call_date'] = pd.to_datetime(calls['call_date'], format=\"%Y-%m-%d\")\n",
    "internet['session_date'] = pd.to_datetime(internet['session_date'], format=\"%Y-%m-%d\")\n",
    "messages['message_date'] = pd.to_datetime(messages['message_date'], format=\"%Y-%m-%d\")\n",
    "users['churn_date'] = pd.to_datetime(users['churn_date'], format=\"%Y-%m-%d\")\n",
    "users['reg_date'] = pd.to_datetime(users['reg_date'], format=\"%Y-%m-%d\")\n",
    "if (calls['call_date'].dtype and\n",
    "    internet['session_date'].dtype and \n",
    "    messages['message_date'].dtype and \n",
    "    users['churn_date'].dtype and \n",
    "    users['reg_date'].dtype) == 'datetime64[ns]':\n",
    "    print('Типы данных изменены на datetime')"
   ]
  },
  {
   "cell_type": "code",
   "execution_count": 6,
   "metadata": {},
   "outputs": [],
   "source": [
    "def ceil_int(df):\n",
    "    return np.ceil(df).astype('int')"
   ]
  },
  {
   "cell_type": "code",
   "execution_count": 7,
   "metadata": {
    "scrolled": true
   },
   "outputs": [
    {
     "data": {
      "text/html": [
       "<div>\n",
       "<style scoped>\n",
       "    .dataframe tbody tr th:only-of-type {\n",
       "        vertical-align: middle;\n",
       "    }\n",
       "\n",
       "    .dataframe tbody tr th {\n",
       "        vertical-align: top;\n",
       "    }\n",
       "\n",
       "    .dataframe thead th {\n",
       "        text-align: right;\n",
       "    }\n",
       "</style>\n",
       "<table border=\"1\" class=\"dataframe\">\n",
       "  <thead>\n",
       "    <tr style=\"text-align: right;\">\n",
       "      <th></th>\n",
       "      <th>id</th>\n",
       "      <th>call_date</th>\n",
       "      <th>duration</th>\n",
       "      <th>user_id</th>\n",
       "    </tr>\n",
       "  </thead>\n",
       "  <tbody>\n",
       "    <tr>\n",
       "      <th>0</th>\n",
       "      <td>10000</td>\n",
       "      <td>2018-07-25</td>\n",
       "      <td>0</td>\n",
       "      <td>1000</td>\n",
       "    </tr>\n",
       "    <tr>\n",
       "      <th>1</th>\n",
       "      <td>10001</td>\n",
       "      <td>2018-08-17</td>\n",
       "      <td>0</td>\n",
       "      <td>1000</td>\n",
       "    </tr>\n",
       "    <tr>\n",
       "      <th>2</th>\n",
       "      <td>10002</td>\n",
       "      <td>2018-06-11</td>\n",
       "      <td>3</td>\n",
       "      <td>1000</td>\n",
       "    </tr>\n",
       "    <tr>\n",
       "      <th>3</th>\n",
       "      <td>10003</td>\n",
       "      <td>2018-09-21</td>\n",
       "      <td>14</td>\n",
       "      <td>1000</td>\n",
       "    </tr>\n",
       "    <tr>\n",
       "      <th>4</th>\n",
       "      <td>10004</td>\n",
       "      <td>2018-12-15</td>\n",
       "      <td>6</td>\n",
       "      <td>1000</td>\n",
       "    </tr>\n",
       "  </tbody>\n",
       "</table>\n",
       "</div>"
      ],
      "text/plain": [
       "      id  call_date  duration  user_id\n",
       "0  10000 2018-07-25         0     1000\n",
       "1  10001 2018-08-17         0     1000\n",
       "2  10002 2018-06-11         3     1000\n",
       "3  10003 2018-09-21        14     1000\n",
       "4  10004 2018-12-15         6     1000"
      ]
     },
     "execution_count": 7,
     "metadata": {},
     "output_type": "execute_result"
    }
   ],
   "source": [
    "calls['id'] = calls['id'].astype('int')\n",
    "messages['id'] = messages['id'].astype('int')\n",
    "internet['id'] = internet['id'].astype('int')\n",
    "\n",
    "tariffs = tariffs.rename(columns={'tariff_name':'tariff'})\n",
    "calls['duration'] = ceil_int(calls['duration'])\n",
    "calls.head()"
   ]
  },
  {
   "cell_type": "code",
   "execution_count": 8,
   "metadata": {},
   "outputs": [
    {
     "data": {
      "image/png": "[encoded data removed]",
      "text/plain": [
       "<Figure size 432x288 with 1 Axes>"
      ]
     },
     "metadata": {
      "needs_background": "light"
     },
     "output_type": "display_data"
    },
    {
     "name": "stdout",
     "output_type": "stream",
     "text": [
      "0.16853195534016974\n"
     ]
    }
   ],
   "source": [
    "internet['mb_used'].hist(bins=30)\n",
    "plt.show()\n",
    "\n",
    "counter = 0\n",
    "for i in internet['mb_used']:\n",
    "    if i <= 50:\n",
    "        counter += 1\n",
    "            \n",
    "all_traffic_counter = internet['mb_used'].count()\n",
    "\n",
    "print(counter/all_traffic_counter)"
   ]
  },
  {
   "cell_type": "markdown",
   "metadata": {},
   "source": [
    "По гистограмме видно что есть некая аномалия, но вполне реально, что 16.8% всего трафика - это 0-50мб. в день.\n",
    "Не все ведь используют мобильный интернет, даже если он есть, большинство использует на постоянной основе wi-fi, а мобильный как таковой для скроллинга фидленты или общения в мессенджерах, мало кто будет тратить больше 500мб. в день, если у тебя всего 15гб.  "
   ]
  },
  {
   "cell_type": "code",
   "execution_count": 9,
   "metadata": {},
   "outputs": [
    {
     "data": {
      "text/plain": [
       "0"
      ]
     },
     "execution_count": 9,
     "metadata": {},
     "output_type": "execute_result"
    }
   ],
   "source": [
    "users['user_id'].duplicated().sum()"
   ]
  },
  {
   "cell_type": "markdown",
   "metadata": {},
   "source": [
    "<div class=\"alert alert-primary\">\n",
    "<font size=\"3\", color = \"black\">\n",
    "Остальные фреймы я проверял на дубликаты, их будут тысячи в user_id, потому что id указывается после каждого действия клиента. В датах само собой понятно почему они будут, аномалий нет, хотя если бы даты были вплоть до секунд, то уже бы было странно увидеть пару сотен или даже десятков совпадений в одно время."
   ]
  },
  {
   "cell_type": "markdown",
   "metadata": {},
   "source": [
    "<div class=\"alert alert-danger\">\n",
    "<font size=\"4\"><b>❌ Комментарий ревьюера</b></font>\n",
    "    <br /> \n",
    "    <font size=\"3\", color = \"black\">\n",
    "<br />\n",
    "Округление с помощью apply - не оптимальный способ, \n",
    "        \n",
    "np.ceil() может работать сразу со всем столбцом, самое главное намного быстрее, на больших данных актуально (сравнение apply и функций библиотеки numpy)\n",
    "        \n",
    "https://ggbaker.ca/732/content/pandas-speed.html"
   ]
  },
  {
   "cell_type": "markdown",
   "metadata": {},
   "source": [
    "<div class=\"alert alert-warning\", style=\"border:solid coral 3px; padding: 20px\">\n",
    "<font size=\"4\", color = \"DimGrey\"><b>⚠️ Комментарий ревьюера</b></font>\n",
    "    <br /> \n",
    "    <font size=\"3\", color = \"black\">\n",
    "<br />  Данные загружены и изучены, что можно добавить: \n",
    "        \n",
    "+ посмотреть на гистограмму распределения объема интернет-сессий, нет ли здесь аномалий\n",
    "+ поиск дубликатов важный этап исследования данных, даже если нам кажется, что с данными все хорошо\n",
    "+ проверить уникальность пересечения значений первичных ключей (user_id) между объединяемыми таблицами\n",
    "        "
   ]
  },
  {
   "cell_type": "markdown",
   "metadata": {},
   "source": [
    "## Подсчёт помесячных трат трафика (смс, звонки, интернет);\n",
    "\n",
    "Посчитайте для каждого пользователя:\n",
    "\n",
    "- количество сделанных звонков и израсходованных минут разговора по месяцам\n",
    "- количество отправленных сообщений по месяцам\n",
    "- объем израсходованного интернет-трафика по месяцам\n",
    "- помесячную выручку с каждого пользователя\n"
   ]
  },
  {
   "cell_type": "markdown",
   "metadata": {},
   "source": [
    "Количество сделанных звонков и израсходованных минут разговора по месяцам"
   ]
  },
  {
   "cell_type": "code",
   "execution_count": 10,
   "metadata": {},
   "outputs": [],
   "source": [
    "calls['month'] = calls['call_date'].dt.month_name()"
   ]
  },
  {
   "cell_type": "markdown",
   "metadata": {},
   "source": [
    "<div class=\"alert alert-warning\", style=\"border:solid coral 3px; padding: 20px\">\n",
    "<font size=\"4\", color = \"DimGrey\"><b>⚠️ Комментарий ревьюера</b></font>\n",
    "    <br /> \n",
    "    <font size=\"3\", color = \"black\">\n",
    "<br />Каким образом мы создавали бы столбец месяц на периоде данных за два года 2018 по 2019 гг.?"
   ]
  },
  {
   "cell_type": "markdown",
   "metadata": {},
   "source": [
    "Честно? Я не знаю, с моими знаниями, я бы сделал это через цикл for/if/elif. Можете что-то подсказать?"
   ]
  },
  {
   "cell_type": "markdown",
   "metadata": {},
   "source": [
    "<div class=\"alert alert-success\">\n",
    "<font size=\"4\", color= \"seagreen\"><b>✔️ Комментарий ревьюера в2</b></font>\n",
    "    <br /> \n",
    "    <font size=\"3\", color = \"black\">\n",
    "<br />Использование .astype('datetime64[M]') помогает работать с датасетами в которых собраны данные за несколько лет"
   ]
  },
  {
   "cell_type": "markdown",
   "metadata": {},
   "source": [
    "<div class=\"alert alert-warning\", style=\"border:solid coral 3px; padding: 20px\">\n",
    "<font size=\"4\", color = \"DimGrey\"><b>⚠️ Комментарий ревьюера</b></font>\n",
    "    <br /> \n",
    "    <font size=\"3\", color = \"black\">\n",
    "<br />присвоение имен для столбца месяц всегда вызывает дополнительный объем работ по сортировке записей в хронологическом порядке"
   ]
  },
  {
   "cell_type": "markdown",
   "metadata": {},
   "source": [
    "Тоесть в данном случае лучше заменить даты в call_date на месяцы?"
   ]
  },
  {
   "cell_type": "code",
   "execution_count": 11,
   "metadata": {},
   "outputs": [
    {
     "data": {
      "text/html": [
       "<div>\n",
       "<style scoped>\n",
       "    .dataframe tbody tr th:only-of-type {\n",
       "        vertical-align: middle;\n",
       "    }\n",
       "\n",
       "    .dataframe tbody tr th {\n",
       "        vertical-align: top;\n",
       "    }\n",
       "\n",
       "    .dataframe thead th {\n",
       "        text-align: right;\n",
       "    }\n",
       "</style>\n",
       "<table border=\"1\" class=\"dataframe\">\n",
       "  <thead>\n",
       "    <tr style=\"text-align: right;\">\n",
       "      <th></th>\n",
       "      <th>id</th>\n",
       "      <th>call_date</th>\n",
       "      <th>duration</th>\n",
       "      <th>user_id</th>\n",
       "      <th>month</th>\n",
       "    </tr>\n",
       "  </thead>\n",
       "  <tbody>\n",
       "    <tr>\n",
       "      <th>0</th>\n",
       "      <td>10000</td>\n",
       "      <td>2018-07-25</td>\n",
       "      <td>0</td>\n",
       "      <td>1000</td>\n",
       "      <td>July</td>\n",
       "    </tr>\n",
       "    <tr>\n",
       "      <th>1</th>\n",
       "      <td>10001</td>\n",
       "      <td>2018-08-17</td>\n",
       "      <td>0</td>\n",
       "      <td>1000</td>\n",
       "      <td>August</td>\n",
       "    </tr>\n",
       "    <tr>\n",
       "      <th>2</th>\n",
       "      <td>10002</td>\n",
       "      <td>2018-06-11</td>\n",
       "      <td>3</td>\n",
       "      <td>1000</td>\n",
       "      <td>June</td>\n",
       "    </tr>\n",
       "    <tr>\n",
       "      <th>3</th>\n",
       "      <td>10003</td>\n",
       "      <td>2018-09-21</td>\n",
       "      <td>14</td>\n",
       "      <td>1000</td>\n",
       "      <td>September</td>\n",
       "    </tr>\n",
       "    <tr>\n",
       "      <th>4</th>\n",
       "      <td>10004</td>\n",
       "      <td>2018-12-15</td>\n",
       "      <td>6</td>\n",
       "      <td>1000</td>\n",
       "      <td>December</td>\n",
       "    </tr>\n",
       "  </tbody>\n",
       "</table>\n",
       "</div>"
      ],
      "text/plain": [
       "      id  call_date  duration  user_id      month\n",
       "0  10000 2018-07-25         0     1000       July\n",
       "1  10001 2018-08-17         0     1000     August\n",
       "2  10002 2018-06-11         3     1000       June\n",
       "3  10003 2018-09-21        14     1000  September\n",
       "4  10004 2018-12-15         6     1000   December"
      ]
     },
     "execution_count": 11,
     "metadata": {},
     "output_type": "execute_result"
    }
   ],
   "source": [
    "calls.head()"
   ]
  },
  {
   "cell_type": "code",
   "execution_count": 12,
   "metadata": {},
   "outputs": [],
   "source": [
    "monthly_calls = (calls.groupby(['user_id', 'month'])\n",
    "              .agg({'duration':'sum', 'id':'count'})\n",
    "              .reset_index()\n",
    "              .rename(columns={'duration':'minutes_per_month','id':'calls_per_month'}))"
   ]
  },
  {
   "cell_type": "code",
   "execution_count": 13,
   "metadata": {},
   "outputs": [
    {
     "data": {
      "text/html": [
       "<div>\n",
       "<style scoped>\n",
       "    .dataframe tbody tr th:only-of-type {\n",
       "        vertical-align: middle;\n",
       "    }\n",
       "\n",
       "    .dataframe tbody tr th {\n",
       "        vertical-align: top;\n",
       "    }\n",
       "\n",
       "    .dataframe thead th {\n",
       "        text-align: right;\n",
       "    }\n",
       "</style>\n",
       "<table border=\"1\" class=\"dataframe\">\n",
       "  <thead>\n",
       "    <tr style=\"text-align: right;\">\n",
       "      <th></th>\n",
       "      <th>user_id</th>\n",
       "      <th>month</th>\n",
       "      <th>minutes_per_month</th>\n",
       "      <th>calls_per_month</th>\n",
       "    </tr>\n",
       "  </thead>\n",
       "  <tbody>\n",
       "    <tr>\n",
       "      <th>0</th>\n",
       "      <td>1000</td>\n",
       "      <td>August</td>\n",
       "      <td>408</td>\n",
       "      <td>52</td>\n",
       "    </tr>\n",
       "    <tr>\n",
       "      <th>1</th>\n",
       "      <td>1000</td>\n",
       "      <td>December</td>\n",
       "      <td>333</td>\n",
       "      <td>46</td>\n",
       "    </tr>\n",
       "    <tr>\n",
       "      <th>2</th>\n",
       "      <td>1000</td>\n",
       "      <td>July</td>\n",
       "      <td>340</td>\n",
       "      <td>47</td>\n",
       "    </tr>\n",
       "    <tr>\n",
       "      <th>3</th>\n",
       "      <td>1000</td>\n",
       "      <td>June</td>\n",
       "      <td>172</td>\n",
       "      <td>43</td>\n",
       "    </tr>\n",
       "    <tr>\n",
       "      <th>4</th>\n",
       "      <td>1000</td>\n",
       "      <td>May</td>\n",
       "      <td>159</td>\n",
       "      <td>22</td>\n",
       "    </tr>\n",
       "  </tbody>\n",
       "</table>\n",
       "</div>"
      ],
      "text/plain": [
       "   user_id     month  minutes_per_month  calls_per_month\n",
       "0     1000    August                408               52\n",
       "1     1000  December                333               46\n",
       "2     1000      July                340               47\n",
       "3     1000      June                172               43\n",
       "4     1000       May                159               22"
      ]
     },
     "execution_count": 13,
     "metadata": {},
     "output_type": "execute_result"
    }
   ],
   "source": [
    "monthly_calls.head()"
   ]
  },
  {
   "cell_type": "code",
   "execution_count": 14,
   "metadata": {},
   "outputs": [
    {
     "data": {
      "text/html": [
       "<div>\n",
       "<style scoped>\n",
       "    .dataframe tbody tr th:only-of-type {\n",
       "        vertical-align: middle;\n",
       "    }\n",
       "\n",
       "    .dataframe tbody tr th {\n",
       "        vertical-align: top;\n",
       "    }\n",
       "\n",
       "    .dataframe thead th {\n",
       "        text-align: right;\n",
       "    }\n",
       "</style>\n",
       "<table border=\"1\" class=\"dataframe\">\n",
       "  <thead>\n",
       "    <tr style=\"text-align: right;\">\n",
       "      <th></th>\n",
       "      <th>id</th>\n",
       "      <th>message_date</th>\n",
       "      <th>user_id</th>\n",
       "      <th>month</th>\n",
       "    </tr>\n",
       "  </thead>\n",
       "  <tbody>\n",
       "    <tr>\n",
       "      <th>0</th>\n",
       "      <td>10000</td>\n",
       "      <td>2018-06-27</td>\n",
       "      <td>1000</td>\n",
       "      <td>June</td>\n",
       "    </tr>\n",
       "    <tr>\n",
       "      <th>1</th>\n",
       "      <td>10001</td>\n",
       "      <td>2018-10-08</td>\n",
       "      <td>1000</td>\n",
       "      <td>October</td>\n",
       "    </tr>\n",
       "    <tr>\n",
       "      <th>2</th>\n",
       "      <td>10002</td>\n",
       "      <td>2018-08-04</td>\n",
       "      <td>1000</td>\n",
       "      <td>August</td>\n",
       "    </tr>\n",
       "    <tr>\n",
       "      <th>3</th>\n",
       "      <td>10003</td>\n",
       "      <td>2018-06-16</td>\n",
       "      <td>1000</td>\n",
       "      <td>June</td>\n",
       "    </tr>\n",
       "    <tr>\n",
       "      <th>4</th>\n",
       "      <td>10004</td>\n",
       "      <td>2018-12-05</td>\n",
       "      <td>1000</td>\n",
       "      <td>December</td>\n",
       "    </tr>\n",
       "  </tbody>\n",
       "</table>\n",
       "</div>"
      ],
      "text/plain": [
       "      id message_date  user_id     month\n",
       "0  10000   2018-06-27     1000      June\n",
       "1  10001   2018-10-08     1000   October\n",
       "2  10002   2018-08-04     1000    August\n",
       "3  10003   2018-06-16     1000      June\n",
       "4  10004   2018-12-05     1000  December"
      ]
     },
     "execution_count": 14,
     "metadata": {},
     "output_type": "execute_result"
    }
   ],
   "source": [
    "messages['month'] = messages['message_date'].dt.month_name()\n",
    "messages.head()"
   ]
  },
  {
   "cell_type": "code",
   "execution_count": 15,
   "metadata": {},
   "outputs": [],
   "source": [
    "monthly_messages = (messages.groupby(['user_id', 'month'])\n",
    "              .agg({'id':'count'})\n",
    "              .reset_index()\n",
    "              .rename(columns={'id':'messages_per_month'}))"
   ]
  },
  {
   "cell_type": "code",
   "execution_count": 16,
   "metadata": {},
   "outputs": [
    {
     "data": {
      "text/html": [
       "<div>\n",
       "<style scoped>\n",
       "    .dataframe tbody tr th:only-of-type {\n",
       "        vertical-align: middle;\n",
       "    }\n",
       "\n",
       "    .dataframe tbody tr th {\n",
       "        vertical-align: top;\n",
       "    }\n",
       "\n",
       "    .dataframe thead th {\n",
       "        text-align: right;\n",
       "    }\n",
       "</style>\n",
       "<table border=\"1\" class=\"dataframe\">\n",
       "  <thead>\n",
       "    <tr style=\"text-align: right;\">\n",
       "      <th></th>\n",
       "      <th>user_id</th>\n",
       "      <th>month</th>\n",
       "      <th>messages_per_month</th>\n",
       "    </tr>\n",
       "  </thead>\n",
       "  <tbody>\n",
       "    <tr>\n",
       "      <th>0</th>\n",
       "      <td>1000</td>\n",
       "      <td>August</td>\n",
       "      <td>81</td>\n",
       "    </tr>\n",
       "    <tr>\n",
       "      <th>1</th>\n",
       "      <td>1000</td>\n",
       "      <td>December</td>\n",
       "      <td>70</td>\n",
       "    </tr>\n",
       "    <tr>\n",
       "      <th>2</th>\n",
       "      <td>1000</td>\n",
       "      <td>July</td>\n",
       "      <td>75</td>\n",
       "    </tr>\n",
       "    <tr>\n",
       "      <th>3</th>\n",
       "      <td>1000</td>\n",
       "      <td>June</td>\n",
       "      <td>60</td>\n",
       "    </tr>\n",
       "    <tr>\n",
       "      <th>4</th>\n",
       "      <td>1000</td>\n",
       "      <td>May</td>\n",
       "      <td>22</td>\n",
       "    </tr>\n",
       "  </tbody>\n",
       "</table>\n",
       "</div>"
      ],
      "text/plain": [
       "   user_id     month  messages_per_month\n",
       "0     1000    August                  81\n",
       "1     1000  December                  70\n",
       "2     1000      July                  75\n",
       "3     1000      June                  60\n",
       "4     1000       May                  22"
      ]
     },
     "execution_count": 16,
     "metadata": {},
     "output_type": "execute_result"
    }
   ],
   "source": [
    "monthly_messages.head()"
   ]
  },
  {
   "cell_type": "code",
   "execution_count": 17,
   "metadata": {},
   "outputs": [
    {
     "data": {
      "text/html": [
       "<div>\n",
       "<style scoped>\n",
       "    .dataframe tbody tr th:only-of-type {\n",
       "        vertical-align: middle;\n",
       "    }\n",
       "\n",
       "    .dataframe tbody tr th {\n",
       "        vertical-align: top;\n",
       "    }\n",
       "\n",
       "    .dataframe thead th {\n",
       "        text-align: right;\n",
       "    }\n",
       "</style>\n",
       "<table border=\"1\" class=\"dataframe\">\n",
       "  <thead>\n",
       "    <tr style=\"text-align: right;\">\n",
       "      <th></th>\n",
       "      <th>id</th>\n",
       "      <th>mb_used</th>\n",
       "      <th>session_date</th>\n",
       "      <th>user_id</th>\n",
       "      <th>month</th>\n",
       "    </tr>\n",
       "  </thead>\n",
       "  <tbody>\n",
       "    <tr>\n",
       "      <th>0</th>\n",
       "      <td>10000</td>\n",
       "      <td>112.95</td>\n",
       "      <td>2018-11-25</td>\n",
       "      <td>1000</td>\n",
       "      <td>November</td>\n",
       "    </tr>\n",
       "    <tr>\n",
       "      <th>1</th>\n",
       "      <td>10001</td>\n",
       "      <td>1052.81</td>\n",
       "      <td>2018-09-07</td>\n",
       "      <td>1000</td>\n",
       "      <td>September</td>\n",
       "    </tr>\n",
       "    <tr>\n",
       "      <th>2</th>\n",
       "      <td>10002</td>\n",
       "      <td>1197.26</td>\n",
       "      <td>2018-06-25</td>\n",
       "      <td>1000</td>\n",
       "      <td>June</td>\n",
       "    </tr>\n",
       "    <tr>\n",
       "      <th>3</th>\n",
       "      <td>10003</td>\n",
       "      <td>550.27</td>\n",
       "      <td>2018-08-22</td>\n",
       "      <td>1000</td>\n",
       "      <td>August</td>\n",
       "    </tr>\n",
       "    <tr>\n",
       "      <th>4</th>\n",
       "      <td>10004</td>\n",
       "      <td>302.56</td>\n",
       "      <td>2018-09-24</td>\n",
       "      <td>1000</td>\n",
       "      <td>September</td>\n",
       "    </tr>\n",
       "  </tbody>\n",
       "</table>\n",
       "</div>"
      ],
      "text/plain": [
       "      id  mb_used session_date  user_id      month\n",
       "0  10000   112.95   2018-11-25     1000   November\n",
       "1  10001  1052.81   2018-09-07     1000  September\n",
       "2  10002  1197.26   2018-06-25     1000       June\n",
       "3  10003   550.27   2018-08-22     1000     August\n",
       "4  10004   302.56   2018-09-24     1000  September"
      ]
     },
     "execution_count": 17,
     "metadata": {},
     "output_type": "execute_result"
    }
   ],
   "source": [
    "internet['month'] = internet['session_date'].dt.month_name()\n",
    "internet.head()"
   ]
  },
  {
   "cell_type": "code",
   "execution_count": 18,
   "metadata": {},
   "outputs": [],
   "source": [
    "monthly_internet = (internet.groupby(['user_id', 'month'])\n",
    "                   .agg({'mb_used':'sum'})\n",
    "                   .reset_index())"
   ]
  },
  {
   "cell_type": "code",
   "execution_count": 19,
   "metadata": {},
   "outputs": [
    {
     "data": {
      "text/html": [
       "<div>\n",
       "<style scoped>\n",
       "    .dataframe tbody tr th:only-of-type {\n",
       "        vertical-align: middle;\n",
       "    }\n",
       "\n",
       "    .dataframe tbody tr th {\n",
       "        vertical-align: top;\n",
       "    }\n",
       "\n",
       "    .dataframe thead th {\n",
       "        text-align: right;\n",
       "    }\n",
       "</style>\n",
       "<table border=\"1\" class=\"dataframe\">\n",
       "  <thead>\n",
       "    <tr style=\"text-align: right;\">\n",
       "      <th></th>\n",
       "      <th>user_id</th>\n",
       "      <th>month</th>\n",
       "      <th>mb_used</th>\n",
       "    </tr>\n",
       "  </thead>\n",
       "  <tbody>\n",
       "    <tr>\n",
       "      <th>0</th>\n",
       "      <td>1000</td>\n",
       "      <td>August</td>\n",
       "      <td>14055.93</td>\n",
       "    </tr>\n",
       "    <tr>\n",
       "      <th>1</th>\n",
       "      <td>1000</td>\n",
       "      <td>December</td>\n",
       "      <td>9817.61</td>\n",
       "    </tr>\n",
       "    <tr>\n",
       "      <th>2</th>\n",
       "      <td>1000</td>\n",
       "      <td>July</td>\n",
       "      <td>14003.64</td>\n",
       "    </tr>\n",
       "    <tr>\n",
       "      <th>3</th>\n",
       "      <td>1000</td>\n",
       "      <td>June</td>\n",
       "      <td>23233.77</td>\n",
       "    </tr>\n",
       "    <tr>\n",
       "      <th>4</th>\n",
       "      <td>1000</td>\n",
       "      <td>May</td>\n",
       "      <td>2253.49</td>\n",
       "    </tr>\n",
       "  </tbody>\n",
       "</table>\n",
       "</div>"
      ],
      "text/plain": [
       "   user_id     month   mb_used\n",
       "0     1000    August  14055.93\n",
       "1     1000  December   9817.61\n",
       "2     1000      July  14003.64\n",
       "3     1000      June  23233.77\n",
       "4     1000       May   2253.49"
      ]
     },
     "execution_count": 19,
     "metadata": {},
     "output_type": "execute_result"
    }
   ],
   "source": [
    "monthly_internet.head()"
   ]
  },
  {
   "cell_type": "markdown",
   "metadata": {},
   "source": [
    "месячная выручка"
   ]
  },
  {
   "cell_type": "code",
   "execution_count": 20,
   "metadata": {},
   "outputs": [
    {
     "data": {
      "text/html": [
       "<div>\n",
       "<style scoped>\n",
       "    .dataframe tbody tr th:only-of-type {\n",
       "        vertical-align: middle;\n",
       "    }\n",
       "\n",
       "    .dataframe tbody tr th {\n",
       "        vertical-align: top;\n",
       "    }\n",
       "\n",
       "    .dataframe thead th {\n",
       "        text-align: right;\n",
       "    }\n",
       "</style>\n",
       "<table border=\"1\" class=\"dataframe\">\n",
       "  <thead>\n",
       "    <tr style=\"text-align: right;\">\n",
       "      <th></th>\n",
       "      <th>user_id</th>\n",
       "      <th>month</th>\n",
       "      <th>minutes_per_month</th>\n",
       "      <th>calls_per_month</th>\n",
       "      <th>messages_per_month</th>\n",
       "    </tr>\n",
       "  </thead>\n",
       "  <tbody>\n",
       "    <tr>\n",
       "      <th>0</th>\n",
       "      <td>1000</td>\n",
       "      <td>August</td>\n",
       "      <td>408.0</td>\n",
       "      <td>52.0</td>\n",
       "      <td>81.0</td>\n",
       "    </tr>\n",
       "    <tr>\n",
       "      <th>1</th>\n",
       "      <td>1000</td>\n",
       "      <td>December</td>\n",
       "      <td>333.0</td>\n",
       "      <td>46.0</td>\n",
       "      <td>70.0</td>\n",
       "    </tr>\n",
       "    <tr>\n",
       "      <th>2</th>\n",
       "      <td>1000</td>\n",
       "      <td>July</td>\n",
       "      <td>340.0</td>\n",
       "      <td>47.0</td>\n",
       "      <td>75.0</td>\n",
       "    </tr>\n",
       "    <tr>\n",
       "      <th>3</th>\n",
       "      <td>1000</td>\n",
       "      <td>June</td>\n",
       "      <td>172.0</td>\n",
       "      <td>43.0</td>\n",
       "      <td>60.0</td>\n",
       "    </tr>\n",
       "    <tr>\n",
       "      <th>4</th>\n",
       "      <td>1000</td>\n",
       "      <td>May</td>\n",
       "      <td>159.0</td>\n",
       "      <td>22.0</td>\n",
       "      <td>22.0</td>\n",
       "    </tr>\n",
       "  </tbody>\n",
       "</table>\n",
       "</div>"
      ],
      "text/plain": [
       "   user_id     month  minutes_per_month  calls_per_month  messages_per_month\n",
       "0     1000    August              408.0             52.0                81.0\n",
       "1     1000  December              333.0             46.0                70.0\n",
       "2     1000      July              340.0             47.0                75.0\n",
       "3     1000      June              172.0             43.0                60.0\n",
       "4     1000       May              159.0             22.0                22.0"
      ]
     },
     "execution_count": 20,
     "metadata": {},
     "output_type": "execute_result"
    }
   ],
   "source": [
    "df = monthly_calls.merge(monthly_messages, on=['user_id', 'month'], how='outer')\n",
    "df.head()"
   ]
  },
  {
   "cell_type": "code",
   "execution_count": 21,
   "metadata": {},
   "outputs": [
    {
     "data": {
      "text/html": [
       "<div>\n",
       "<style scoped>\n",
       "    .dataframe tbody tr th:only-of-type {\n",
       "        vertical-align: middle;\n",
       "    }\n",
       "\n",
       "    .dataframe tbody tr th {\n",
       "        vertical-align: top;\n",
       "    }\n",
       "\n",
       "    .dataframe thead th {\n",
       "        text-align: right;\n",
       "    }\n",
       "</style>\n",
       "<table border=\"1\" class=\"dataframe\">\n",
       "  <thead>\n",
       "    <tr style=\"text-align: right;\">\n",
       "      <th></th>\n",
       "      <th>user_id</th>\n",
       "      <th>month</th>\n",
       "      <th>minutes_per_month</th>\n",
       "      <th>calls_per_month</th>\n",
       "      <th>messages_per_month</th>\n",
       "      <th>mb_used</th>\n",
       "    </tr>\n",
       "  </thead>\n",
       "  <tbody>\n",
       "    <tr>\n",
       "      <th>0</th>\n",
       "      <td>1000</td>\n",
       "      <td>August</td>\n",
       "      <td>408.0</td>\n",
       "      <td>52.0</td>\n",
       "      <td>81.0</td>\n",
       "      <td>14055.93</td>\n",
       "    </tr>\n",
       "    <tr>\n",
       "      <th>1</th>\n",
       "      <td>1000</td>\n",
       "      <td>December</td>\n",
       "      <td>333.0</td>\n",
       "      <td>46.0</td>\n",
       "      <td>70.0</td>\n",
       "      <td>9817.61</td>\n",
       "    </tr>\n",
       "    <tr>\n",
       "      <th>2</th>\n",
       "      <td>1000</td>\n",
       "      <td>July</td>\n",
       "      <td>340.0</td>\n",
       "      <td>47.0</td>\n",
       "      <td>75.0</td>\n",
       "      <td>14003.64</td>\n",
       "    </tr>\n",
       "    <tr>\n",
       "      <th>3</th>\n",
       "      <td>1000</td>\n",
       "      <td>June</td>\n",
       "      <td>172.0</td>\n",
       "      <td>43.0</td>\n",
       "      <td>60.0</td>\n",
       "      <td>23233.77</td>\n",
       "    </tr>\n",
       "    <tr>\n",
       "      <th>4</th>\n",
       "      <td>1000</td>\n",
       "      <td>May</td>\n",
       "      <td>159.0</td>\n",
       "      <td>22.0</td>\n",
       "      <td>22.0</td>\n",
       "      <td>2253.49</td>\n",
       "    </tr>\n",
       "  </tbody>\n",
       "</table>\n",
       "</div>"
      ],
      "text/plain": [
       "   user_id     month  minutes_per_month  calls_per_month  messages_per_month  \\\n",
       "0     1000    August              408.0             52.0                81.0   \n",
       "1     1000  December              333.0             46.0                70.0   \n",
       "2     1000      July              340.0             47.0                75.0   \n",
       "3     1000      June              172.0             43.0                60.0   \n",
       "4     1000       May              159.0             22.0                22.0   \n",
       "\n",
       "    mb_used  \n",
       "0  14055.93  \n",
       "1   9817.61  \n",
       "2  14003.64  \n",
       "3  23233.77  \n",
       "4   2253.49  "
      ]
     },
     "execution_count": 21,
     "metadata": {},
     "output_type": "execute_result"
    }
   ],
   "source": [
    "df = df.merge(monthly_internet, on=['user_id', 'month'], how='outer')\n",
    "df.head()"
   ]
  },
  {
   "cell_type": "markdown",
   "metadata": {},
   "source": [
    "<div class=\"alert alert-success\">\n",
    "<font size=\"4\", color= \"seagreen\"><b>✔️ Комментарий ревьюера</b></font>\n",
    "    <br /> \n",
    "    <font size=\"3\", color = \"black\">\n",
    "<br />Объединение данных выполнено замечательно, использовано два ключевых момента, ключ из двух столбцов и параметр объединения outer\n",
    "        \n",
    "\n",
    "        on = ['user_id', 'month'], how = 'outer'"
   ]
  },
  {
   "cell_type": "code",
   "execution_count": 22,
   "metadata": {},
   "outputs": [
    {
     "data": {
      "text/html": [
       "<div>\n",
       "<style scoped>\n",
       "    .dataframe tbody tr th:only-of-type {\n",
       "        vertical-align: middle;\n",
       "    }\n",
       "\n",
       "    .dataframe tbody tr th {\n",
       "        vertical-align: top;\n",
       "    }\n",
       "\n",
       "    .dataframe thead th {\n",
       "        text-align: right;\n",
       "    }\n",
       "</style>\n",
       "<table border=\"1\" class=\"dataframe\">\n",
       "  <thead>\n",
       "    <tr style=\"text-align: right;\">\n",
       "      <th></th>\n",
       "      <th>user_id</th>\n",
       "      <th>month</th>\n",
       "      <th>minutes_per_month</th>\n",
       "      <th>calls_per_month</th>\n",
       "      <th>messages_per_month</th>\n",
       "      <th>mb_used</th>\n",
       "      <th>age</th>\n",
       "      <th>churn_date</th>\n",
       "      <th>city</th>\n",
       "      <th>first_name</th>\n",
       "      <th>last_name</th>\n",
       "      <th>reg_date</th>\n",
       "      <th>tariff</th>\n",
       "    </tr>\n",
       "  </thead>\n",
       "  <tbody>\n",
       "    <tr>\n",
       "      <th>0</th>\n",
       "      <td>1000</td>\n",
       "      <td>August</td>\n",
       "      <td>408.0</td>\n",
       "      <td>52.0</td>\n",
       "      <td>81.0</td>\n",
       "      <td>14055.93</td>\n",
       "      <td>52</td>\n",
       "      <td>NaT</td>\n",
       "      <td>Краснодар</td>\n",
       "      <td>Рафаил</td>\n",
       "      <td>Верещагин</td>\n",
       "      <td>2018-05-25</td>\n",
       "      <td>ultra</td>\n",
       "    </tr>\n",
       "    <tr>\n",
       "      <th>1</th>\n",
       "      <td>1000</td>\n",
       "      <td>December</td>\n",
       "      <td>333.0</td>\n",
       "      <td>46.0</td>\n",
       "      <td>70.0</td>\n",
       "      <td>9817.61</td>\n",
       "      <td>52</td>\n",
       "      <td>NaT</td>\n",
       "      <td>Краснодар</td>\n",
       "      <td>Рафаил</td>\n",
       "      <td>Верещагин</td>\n",
       "      <td>2018-05-25</td>\n",
       "      <td>ultra</td>\n",
       "    </tr>\n",
       "    <tr>\n",
       "      <th>2</th>\n",
       "      <td>1000</td>\n",
       "      <td>July</td>\n",
       "      <td>340.0</td>\n",
       "      <td>47.0</td>\n",
       "      <td>75.0</td>\n",
       "      <td>14003.64</td>\n",
       "      <td>52</td>\n",
       "      <td>NaT</td>\n",
       "      <td>Краснодар</td>\n",
       "      <td>Рафаил</td>\n",
       "      <td>Верещагин</td>\n",
       "      <td>2018-05-25</td>\n",
       "      <td>ultra</td>\n",
       "    </tr>\n",
       "    <tr>\n",
       "      <th>3</th>\n",
       "      <td>1000</td>\n",
       "      <td>June</td>\n",
       "      <td>172.0</td>\n",
       "      <td>43.0</td>\n",
       "      <td>60.0</td>\n",
       "      <td>23233.77</td>\n",
       "      <td>52</td>\n",
       "      <td>NaT</td>\n",
       "      <td>Краснодар</td>\n",
       "      <td>Рафаил</td>\n",
       "      <td>Верещагин</td>\n",
       "      <td>2018-05-25</td>\n",
       "      <td>ultra</td>\n",
       "    </tr>\n",
       "    <tr>\n",
       "      <th>4</th>\n",
       "      <td>1000</td>\n",
       "      <td>May</td>\n",
       "      <td>159.0</td>\n",
       "      <td>22.0</td>\n",
       "      <td>22.0</td>\n",
       "      <td>2253.49</td>\n",
       "      <td>52</td>\n",
       "      <td>NaT</td>\n",
       "      <td>Краснодар</td>\n",
       "      <td>Рафаил</td>\n",
       "      <td>Верещагин</td>\n",
       "      <td>2018-05-25</td>\n",
       "      <td>ultra</td>\n",
       "    </tr>\n",
       "  </tbody>\n",
       "</table>\n",
       "</div>"
      ],
      "text/plain": [
       "   user_id     month  minutes_per_month  calls_per_month  messages_per_month  \\\n",
       "0     1000    August              408.0             52.0                81.0   \n",
       "1     1000  December              333.0             46.0                70.0   \n",
       "2     1000      July              340.0             47.0                75.0   \n",
       "3     1000      June              172.0             43.0                60.0   \n",
       "4     1000       May              159.0             22.0                22.0   \n",
       "\n",
       "    mb_used  age churn_date       city first_name  last_name   reg_date tariff  \n",
       "0  14055.93   52        NaT  Краснодар     Рафаил  Верещагин 2018-05-25  ultra  \n",
       "1   9817.61   52        NaT  Краснодар     Рафаил  Верещагин 2018-05-25  ultra  \n",
       "2  14003.64   52        NaT  Краснодар     Рафаил  Верещагин 2018-05-25  ultra  \n",
       "3  23233.77   52        NaT  Краснодар     Рафаил  Верещагин 2018-05-25  ultra  \n",
       "4   2253.49   52        NaT  Краснодар     Рафаил  Верещагин 2018-05-25  ultra  "
      ]
     },
     "execution_count": 22,
     "metadata": {},
     "output_type": "execute_result"
    }
   ],
   "source": [
    "df = df.merge(users, on=['user_id'], how='outer')\n",
    "df.head()"
   ]
  },
  {
   "cell_type": "markdown",
   "metadata": {},
   "source": [
    "<div class=\"alert alert-anger\">\n",
    "<font size=\"4\"><b>❌ Комментарий ревьюера</b></font>\n",
    "    <br /> \n",
    "    <font size=\"3\", color = \"black\">\n",
    "<br /> у нас две потеряшки :) — потеряли двух клиентов, найти и привести обратно :)\n",
    "        \n",
    "        df = df.merge(users, on=['user_id'], how='left')"
   ]
  },
  {
   "cell_type": "code",
   "execution_count": 23,
   "metadata": {},
   "outputs": [
    {
     "name": "stdout",
     "output_type": "stream",
     "text": [
      "3216\n"
     ]
    }
   ],
   "source": [
    "df = df.merge(tariffs, on=['tariff'], how='left')\n",
    "df.head()\n",
    "print(df['user_id'].count())"
   ]
  },
  {
   "cell_type": "code",
   "execution_count": 24,
   "metadata": {},
   "outputs": [
    {
     "data": {
      "text/plain": [
       "user_id                     0\n",
       "month                       2\n",
       "minutes_per_month          42\n",
       "calls_per_month            42\n",
       "messages_per_month        499\n",
       "mb_used                    13\n",
       "age                         0\n",
       "churn_date               3027\n",
       "city                        0\n",
       "first_name                  0\n",
       "last_name                   0\n",
       "reg_date                    0\n",
       "tariff                      0\n",
       "messages_included           0\n",
       "mb_per_month_included       0\n",
       "minutes_included            0\n",
       "rub_monthly_fee             0\n",
       "rub_per_gb                  0\n",
       "rub_per_message             0\n",
       "rub_per_minute              0\n",
       "dtype: int64"
      ]
     },
     "execution_count": 24,
     "metadata": {},
     "output_type": "execute_result"
    }
   ],
   "source": [
    "df.isna().sum()"
   ]
  },
  {
   "cell_type": "markdown",
   "metadata": {},
   "source": [
    "Заполним пустые значения с тратой любого трафика по тарифу нулями, видимо эти люди не очень любят общаться"
   ]
  },
  {
   "cell_type": "code",
   "execution_count": 25,
   "metadata": {},
   "outputs": [],
   "source": [
    "df['minutes_per_month'] = df['minutes_per_month'].fillna(0)\n",
    "df['calls_per_month'] = df['calls_per_month'].fillna(0)\n",
    "df['messages_per_month'] = df['messages_per_month'].fillna(0)\n",
    "df['mb_used'] = df['mb_used'].fillna(0)"
   ]
  },
  {
   "cell_type": "markdown",
   "metadata": {},
   "source": [
    "<div class=\"alert alert-success\">\n",
    "<font size=\"4\", color= \"seagreen\"><b>✔️ Комментарий ревьюера</b></font>\n",
    "    <br /> \n",
    "    <font size=\"3\", color = \"black\">\n",
    "<br />Заполнение пропусков важный шаг для корректного расчета стат. показателей в поведении клиента"
   ]
  },
  {
   "cell_type": "code",
   "execution_count": 26,
   "metadata": {},
   "outputs": [
    {
     "data": {
      "text/plain": [
       "0"
      ]
     },
     "execution_count": 26,
     "metadata": {},
     "output_type": "execute_result"
    }
   ],
   "source": [
    "df.duplicated().sum()"
   ]
  },
  {
   "cell_type": "code",
   "execution_count": 27,
   "metadata": {},
   "outputs": [
    {
     "data": {
      "text/html": [
       "<div>\n",
       "<style scoped>\n",
       "    .dataframe tbody tr th:only-of-type {\n",
       "        vertical-align: middle;\n",
       "    }\n",
       "\n",
       "    .dataframe tbody tr th {\n",
       "        vertical-align: top;\n",
       "    }\n",
       "\n",
       "    .dataframe thead th {\n",
       "        text-align: right;\n",
       "    }\n",
       "</style>\n",
       "<table border=\"1\" class=\"dataframe\">\n",
       "  <thead>\n",
       "    <tr style=\"text-align: right;\">\n",
       "      <th></th>\n",
       "      <th>0</th>\n",
       "      <th>1</th>\n",
       "      <th>2</th>\n",
       "      <th>3</th>\n",
       "      <th>4</th>\n",
       "      <th>5</th>\n",
       "      <th>6</th>\n",
       "      <th>7</th>\n",
       "      <th>8</th>\n",
       "      <th>9</th>\n",
       "      <th>...</th>\n",
       "      <th>3206</th>\n",
       "      <th>3207</th>\n",
       "      <th>3208</th>\n",
       "      <th>3209</th>\n",
       "      <th>3210</th>\n",
       "      <th>3211</th>\n",
       "      <th>3212</th>\n",
       "      <th>3213</th>\n",
       "      <th>3214</th>\n",
       "      <th>3215</th>\n",
       "    </tr>\n",
       "  </thead>\n",
       "  <tbody>\n",
       "    <tr>\n",
       "      <th>user_id</th>\n",
       "      <td>1000</td>\n",
       "      <td>1000</td>\n",
       "      <td>1000</td>\n",
       "      <td>1000</td>\n",
       "      <td>1000</td>\n",
       "      <td>1000</td>\n",
       "      <td>1000</td>\n",
       "      <td>1000</td>\n",
       "      <td>1001</td>\n",
       "      <td>1001</td>\n",
       "      <td>...</td>\n",
       "      <td>1473</td>\n",
       "      <td>1473</td>\n",
       "      <td>1473</td>\n",
       "      <td>1489</td>\n",
       "      <td>1489</td>\n",
       "      <td>1489</td>\n",
       "      <td>1489</td>\n",
       "      <td>1489</td>\n",
       "      <td>1128</td>\n",
       "      <td>1371</td>\n",
       "    </tr>\n",
       "    <tr>\n",
       "      <th>month</th>\n",
       "      <td>August</td>\n",
       "      <td>December</td>\n",
       "      <td>July</td>\n",
       "      <td>June</td>\n",
       "      <td>May</td>\n",
       "      <td>November</td>\n",
       "      <td>October</td>\n",
       "      <td>September</td>\n",
       "      <td>December</td>\n",
       "      <td>November</td>\n",
       "      <td>...</td>\n",
       "      <td>November</td>\n",
       "      <td>October</td>\n",
       "      <td>September</td>\n",
       "      <td>August</td>\n",
       "      <td>December</td>\n",
       "      <td>November</td>\n",
       "      <td>October</td>\n",
       "      <td>September</td>\n",
       "      <td>NaN</td>\n",
       "      <td>NaN</td>\n",
       "    </tr>\n",
       "    <tr>\n",
       "      <th>minutes_per_month</th>\n",
       "      <td>408.0</td>\n",
       "      <td>333.0</td>\n",
       "      <td>340.0</td>\n",
       "      <td>172.0</td>\n",
       "      <td>159.0</td>\n",
       "      <td>338.0</td>\n",
       "      <td>350.0</td>\n",
       "      <td>466.0</td>\n",
       "      <td>414.0</td>\n",
       "      <td>430.0</td>\n",
       "      <td>...</td>\n",
       "      <td>0.0</td>\n",
       "      <td>0.0</td>\n",
       "      <td>0.0</td>\n",
       "      <td>0.0</td>\n",
       "      <td>0.0</td>\n",
       "      <td>0.0</td>\n",
       "      <td>0.0</td>\n",
       "      <td>0.0</td>\n",
       "      <td>0.0</td>\n",
       "      <td>0.0</td>\n",
       "    </tr>\n",
       "    <tr>\n",
       "      <th>calls_per_month</th>\n",
       "      <td>52.0</td>\n",
       "      <td>46.0</td>\n",
       "      <td>47.0</td>\n",
       "      <td>43.0</td>\n",
       "      <td>22.0</td>\n",
       "      <td>43.0</td>\n",
       "      <td>57.0</td>\n",
       "      <td>58.0</td>\n",
       "      <td>63.0</td>\n",
       "      <td>59.0</td>\n",
       "      <td>...</td>\n",
       "      <td>0.0</td>\n",
       "      <td>0.0</td>\n",
       "      <td>0.0</td>\n",
       "      <td>0.0</td>\n",
       "      <td>0.0</td>\n",
       "      <td>0.0</td>\n",
       "      <td>0.0</td>\n",
       "      <td>0.0</td>\n",
       "      <td>0.0</td>\n",
       "      <td>0.0</td>\n",
       "    </tr>\n",
       "    <tr>\n",
       "      <th>messages_per_month</th>\n",
       "      <td>81.0</td>\n",
       "      <td>70.0</td>\n",
       "      <td>75.0</td>\n",
       "      <td>60.0</td>\n",
       "      <td>22.0</td>\n",
       "      <td>58.0</td>\n",
       "      <td>73.0</td>\n",
       "      <td>57.0</td>\n",
       "      <td>0.0</td>\n",
       "      <td>0.0</td>\n",
       "      <td>...</td>\n",
       "      <td>14.0</td>\n",
       "      <td>20.0</td>\n",
       "      <td>19.0</td>\n",
       "      <td>17.0</td>\n",
       "      <td>35.0</td>\n",
       "      <td>20.0</td>\n",
       "      <td>21.0</td>\n",
       "      <td>32.0</td>\n",
       "      <td>0.0</td>\n",
       "      <td>0.0</td>\n",
       "    </tr>\n",
       "    <tr>\n",
       "      <th>mb_used</th>\n",
       "      <td>14055.93</td>\n",
       "      <td>9817.61</td>\n",
       "      <td>14003.64</td>\n",
       "      <td>23233.77</td>\n",
       "      <td>2253.49</td>\n",
       "      <td>14756.47</td>\n",
       "      <td>14702.49</td>\n",
       "      <td>14568.91</td>\n",
       "      <td>14036.66</td>\n",
       "      <td>18429.34</td>\n",
       "      <td>...</td>\n",
       "      <td>21673.8</td>\n",
       "      <td>13688.65</td>\n",
       "      <td>17289.85</td>\n",
       "      <td>11050.56</td>\n",
       "      <td>17322.51</td>\n",
       "      <td>17491.56</td>\n",
       "      <td>19559.44</td>\n",
       "      <td>17206.3</td>\n",
       "      <td>0.0</td>\n",
       "      <td>0.0</td>\n",
       "    </tr>\n",
       "    <tr>\n",
       "      <th>age</th>\n",
       "      <td>52</td>\n",
       "      <td>52</td>\n",
       "      <td>52</td>\n",
       "      <td>52</td>\n",
       "      <td>52</td>\n",
       "      <td>52</td>\n",
       "      <td>52</td>\n",
       "      <td>52</td>\n",
       "      <td>41</td>\n",
       "      <td>41</td>\n",
       "      <td>...</td>\n",
       "      <td>18</td>\n",
       "      <td>18</td>\n",
       "      <td>18</td>\n",
       "      <td>35</td>\n",
       "      <td>35</td>\n",
       "      <td>35</td>\n",
       "      <td>35</td>\n",
       "      <td>35</td>\n",
       "      <td>51</td>\n",
       "      <td>50</td>\n",
       "    </tr>\n",
       "    <tr>\n",
       "      <th>churn_date</th>\n",
       "      <td>NaT</td>\n",
       "      <td>NaT</td>\n",
       "      <td>NaT</td>\n",
       "      <td>NaT</td>\n",
       "      <td>NaT</td>\n",
       "      <td>NaT</td>\n",
       "      <td>NaT</td>\n",
       "      <td>NaT</td>\n",
       "      <td>NaT</td>\n",
       "      <td>NaT</td>\n",
       "      <td>...</td>\n",
       "      <td>NaT</td>\n",
       "      <td>NaT</td>\n",
       "      <td>NaT</td>\n",
       "      <td>NaT</td>\n",
       "      <td>NaT</td>\n",
       "      <td>NaT</td>\n",
       "      <td>NaT</td>\n",
       "      <td>NaT</td>\n",
       "      <td>2018-12-23 00:00:00</td>\n",
       "      <td>2018-12-30 00:00:00</td>\n",
       "    </tr>\n",
       "    <tr>\n",
       "      <th>city</th>\n",
       "      <td>Краснодар</td>\n",
       "      <td>Краснодар</td>\n",
       "      <td>Краснодар</td>\n",
       "      <td>Краснодар</td>\n",
       "      <td>Краснодар</td>\n",
       "      <td>Краснодар</td>\n",
       "      <td>Краснодар</td>\n",
       "      <td>Краснодар</td>\n",
       "      <td>Москва</td>\n",
       "      <td>Москва</td>\n",
       "      <td>...</td>\n",
       "      <td>Красноярск</td>\n",
       "      <td>Красноярск</td>\n",
       "      <td>Красноярск</td>\n",
       "      <td>Санкт-Петербург</td>\n",
       "      <td>Санкт-Петербург</td>\n",
       "      <td>Санкт-Петербург</td>\n",
       "      <td>Санкт-Петербург</td>\n",
       "      <td>Санкт-Петербург</td>\n",
       "      <td>Волжский</td>\n",
       "      <td>Омск</td>\n",
       "    </tr>\n",
       "    <tr>\n",
       "      <th>first_name</th>\n",
       "      <td>Рафаил</td>\n",
       "      <td>Рафаил</td>\n",
       "      <td>Рафаил</td>\n",
       "      <td>Рафаил</td>\n",
       "      <td>Рафаил</td>\n",
       "      <td>Рафаил</td>\n",
       "      <td>Рафаил</td>\n",
       "      <td>Рафаил</td>\n",
       "      <td>Иван</td>\n",
       "      <td>Иван</td>\n",
       "      <td>...</td>\n",
       "      <td>Николай</td>\n",
       "      <td>Николай</td>\n",
       "      <td>Николай</td>\n",
       "      <td>Павел</td>\n",
       "      <td>Павел</td>\n",
       "      <td>Павел</td>\n",
       "      <td>Павел</td>\n",
       "      <td>Павел</td>\n",
       "      <td>Ксения</td>\n",
       "      <td>Ириней</td>\n",
       "    </tr>\n",
       "    <tr>\n",
       "      <th>last_name</th>\n",
       "      <td>Верещагин</td>\n",
       "      <td>Верещагин</td>\n",
       "      <td>Верещагин</td>\n",
       "      <td>Верещагин</td>\n",
       "      <td>Верещагин</td>\n",
       "      <td>Верещагин</td>\n",
       "      <td>Верещагин</td>\n",
       "      <td>Верещагин</td>\n",
       "      <td>Ежов</td>\n",
       "      <td>Ежов</td>\n",
       "      <td>...</td>\n",
       "      <td>Лебедев</td>\n",
       "      <td>Лебедев</td>\n",
       "      <td>Лебедев</td>\n",
       "      <td>Гончаров</td>\n",
       "      <td>Гончаров</td>\n",
       "      <td>Гончаров</td>\n",
       "      <td>Гончаров</td>\n",
       "      <td>Гончаров</td>\n",
       "      <td>Агаева</td>\n",
       "      <td>Трофимов</td>\n",
       "    </tr>\n",
       "    <tr>\n",
       "      <th>reg_date</th>\n",
       "      <td>2018-05-25 00:00:00</td>\n",
       "      <td>2018-05-25 00:00:00</td>\n",
       "      <td>2018-05-25 00:00:00</td>\n",
       "      <td>2018-05-25 00:00:00</td>\n",
       "      <td>2018-05-25 00:00:00</td>\n",
       "      <td>2018-05-25 00:00:00</td>\n",
       "      <td>2018-05-25 00:00:00</td>\n",
       "      <td>2018-05-25 00:00:00</td>\n",
       "      <td>2018-11-01 00:00:00</td>\n",
       "      <td>2018-11-01 00:00:00</td>\n",
       "      <td>...</td>\n",
       "      <td>2018-08-05 00:00:00</td>\n",
       "      <td>2018-08-05 00:00:00</td>\n",
       "      <td>2018-08-05 00:00:00</td>\n",
       "      <td>2018-08-15 00:00:00</td>\n",
       "      <td>2018-08-15 00:00:00</td>\n",
       "      <td>2018-08-15 00:00:00</td>\n",
       "      <td>2018-08-15 00:00:00</td>\n",
       "      <td>2018-08-15 00:00:00</td>\n",
       "      <td>2018-12-15 00:00:00</td>\n",
       "      <td>2018-12-25 00:00:00</td>\n",
       "    </tr>\n",
       "    <tr>\n",
       "      <th>tariff</th>\n",
       "      <td>ultra</td>\n",
       "      <td>ultra</td>\n",
       "      <td>ultra</td>\n",
       "      <td>ultra</td>\n",
       "      <td>ultra</td>\n",
       "      <td>ultra</td>\n",
       "      <td>ultra</td>\n",
       "      <td>ultra</td>\n",
       "      <td>smart</td>\n",
       "      <td>smart</td>\n",
       "      <td>...</td>\n",
       "      <td>ultra</td>\n",
       "      <td>ultra</td>\n",
       "      <td>ultra</td>\n",
       "      <td>smart</td>\n",
       "      <td>smart</td>\n",
       "      <td>smart</td>\n",
       "      <td>smart</td>\n",
       "      <td>smart</td>\n",
       "      <td>ultra</td>\n",
       "      <td>smart</td>\n",
       "    </tr>\n",
       "    <tr>\n",
       "      <th>messages_included</th>\n",
       "      <td>1000</td>\n",
       "      <td>1000</td>\n",
       "      <td>1000</td>\n",
       "      <td>1000</td>\n",
       "      <td>1000</td>\n",
       "      <td>1000</td>\n",
       "      <td>1000</td>\n",
       "      <td>1000</td>\n",
       "      <td>50</td>\n",
       "      <td>50</td>\n",
       "      <td>...</td>\n",
       "      <td>1000</td>\n",
       "      <td>1000</td>\n",
       "      <td>1000</td>\n",
       "      <td>50</td>\n",
       "      <td>50</td>\n",
       "      <td>50</td>\n",
       "      <td>50</td>\n",
       "      <td>50</td>\n",
       "      <td>1000</td>\n",
       "      <td>50</td>\n",
       "    </tr>\n",
       "    <tr>\n",
       "      <th>mb_per_month_included</th>\n",
       "      <td>30720</td>\n",
       "      <td>30720</td>\n",
       "      <td>30720</td>\n",
       "      <td>30720</td>\n",
       "      <td>30720</td>\n",
       "      <td>30720</td>\n",
       "      <td>30720</td>\n",
       "      <td>30720</td>\n",
       "      <td>15360</td>\n",
       "      <td>15360</td>\n",
       "      <td>...</td>\n",
       "      <td>30720</td>\n",
       "      <td>30720</td>\n",
       "      <td>30720</td>\n",
       "      <td>15360</td>\n",
       "      <td>15360</td>\n",
       "      <td>15360</td>\n",
       "      <td>15360</td>\n",
       "      <td>15360</td>\n",
       "      <td>30720</td>\n",
       "      <td>15360</td>\n",
       "    </tr>\n",
       "    <tr>\n",
       "      <th>minutes_included</th>\n",
       "      <td>3000</td>\n",
       "      <td>3000</td>\n",
       "      <td>3000</td>\n",
       "      <td>3000</td>\n",
       "      <td>3000</td>\n",
       "      <td>3000</td>\n",
       "      <td>3000</td>\n",
       "      <td>3000</td>\n",
       "      <td>500</td>\n",
       "      <td>500</td>\n",
       "      <td>...</td>\n",
       "      <td>3000</td>\n",
       "      <td>3000</td>\n",
       "      <td>3000</td>\n",
       "      <td>500</td>\n",
       "      <td>500</td>\n",
       "      <td>500</td>\n",
       "      <td>500</td>\n",
       "      <td>500</td>\n",
       "      <td>3000</td>\n",
       "      <td>500</td>\n",
       "    </tr>\n",
       "    <tr>\n",
       "      <th>rub_monthly_fee</th>\n",
       "      <td>1950</td>\n",
       "      <td>1950</td>\n",
       "      <td>1950</td>\n",
       "      <td>1950</td>\n",
       "      <td>1950</td>\n",
       "      <td>1950</td>\n",
       "      <td>1950</td>\n",
       "      <td>1950</td>\n",
       "      <td>550</td>\n",
       "      <td>550</td>\n",
       "      <td>...</td>\n",
       "      <td>1950</td>\n",
       "      <td>1950</td>\n",
       "      <td>1950</td>\n",
       "      <td>550</td>\n",
       "      <td>550</td>\n",
       "      <td>550</td>\n",
       "      <td>550</td>\n",
       "      <td>550</td>\n",
       "      <td>1950</td>\n",
       "      <td>550</td>\n",
       "    </tr>\n",
       "    <tr>\n",
       "      <th>rub_per_gb</th>\n",
       "      <td>150</td>\n",
       "      <td>150</td>\n",
       "      <td>150</td>\n",
       "      <td>150</td>\n",
       "      <td>150</td>\n",
       "      <td>150</td>\n",
       "      <td>150</td>\n",
       "      <td>150</td>\n",
       "      <td>200</td>\n",
       "      <td>200</td>\n",
       "      <td>...</td>\n",
       "      <td>150</td>\n",
       "      <td>150</td>\n",
       "      <td>150</td>\n",
       "      <td>200</td>\n",
       "      <td>200</td>\n",
       "      <td>200</td>\n",
       "      <td>200</td>\n",
       "      <td>200</td>\n",
       "      <td>150</td>\n",
       "      <td>200</td>\n",
       "    </tr>\n",
       "    <tr>\n",
       "      <th>rub_per_message</th>\n",
       "      <td>1</td>\n",
       "      <td>1</td>\n",
       "      <td>1</td>\n",
       "      <td>1</td>\n",
       "      <td>1</td>\n",
       "      <td>1</td>\n",
       "      <td>1</td>\n",
       "      <td>1</td>\n",
       "      <td>3</td>\n",
       "      <td>3</td>\n",
       "      <td>...</td>\n",
       "      <td>1</td>\n",
       "      <td>1</td>\n",
       "      <td>1</td>\n",
       "      <td>3</td>\n",
       "      <td>3</td>\n",
       "      <td>3</td>\n",
       "      <td>3</td>\n",
       "      <td>3</td>\n",
       "      <td>1</td>\n",
       "      <td>3</td>\n",
       "    </tr>\n",
       "    <tr>\n",
       "      <th>rub_per_minute</th>\n",
       "      <td>1</td>\n",
       "      <td>1</td>\n",
       "      <td>1</td>\n",
       "      <td>1</td>\n",
       "      <td>1</td>\n",
       "      <td>1</td>\n",
       "      <td>1</td>\n",
       "      <td>1</td>\n",
       "      <td>3</td>\n",
       "      <td>3</td>\n",
       "      <td>...</td>\n",
       "      <td>1</td>\n",
       "      <td>1</td>\n",
       "      <td>1</td>\n",
       "      <td>3</td>\n",
       "      <td>3</td>\n",
       "      <td>3</td>\n",
       "      <td>3</td>\n",
       "      <td>3</td>\n",
       "      <td>1</td>\n",
       "      <td>3</td>\n",
       "    </tr>\n",
       "  </tbody>\n",
       "</table>\n",
       "<p>20 rows × 3216 columns</p>\n",
       "</div>"
      ],
      "text/plain": [
       "                                      0                    1     \\\n",
       "user_id                               1000                 1000   \n",
       "month                               August             December   \n",
       "minutes_per_month                    408.0                333.0   \n",
       "calls_per_month                       52.0                 46.0   \n",
       "messages_per_month                    81.0                 70.0   \n",
       "mb_used                           14055.93              9817.61   \n",
       "age                                     52                   52   \n",
       "churn_date                             NaT                  NaT   \n",
       "city                             Краснодар            Краснодар   \n",
       "first_name                          Рафаил               Рафаил   \n",
       "last_name                        Верещагин            Верещагин   \n",
       "reg_date               2018-05-25 00:00:00  2018-05-25 00:00:00   \n",
       "tariff                               ultra                ultra   \n",
       "messages_included                     1000                 1000   \n",
       "mb_per_month_included                30720                30720   \n",
       "minutes_included                      3000                 3000   \n",
       "rub_monthly_fee                       1950                 1950   \n",
       "rub_per_gb                             150                  150   \n",
       "rub_per_message                          1                    1   \n",
       "rub_per_minute                           1                    1   \n",
       "\n",
       "                                      2                    3     \\\n",
       "user_id                               1000                 1000   \n",
       "month                                 July                 June   \n",
       "minutes_per_month                    340.0                172.0   \n",
       "calls_per_month                       47.0                 43.0   \n",
       "messages_per_month                    75.0                 60.0   \n",
       "mb_used                           14003.64             23233.77   \n",
       "age                                     52                   52   \n",
       "churn_date                             NaT                  NaT   \n",
       "city                             Краснодар            Краснодар   \n",
       "first_name                          Рафаил               Рафаил   \n",
       "last_name                        Верещагин            Верещагин   \n",
       "reg_date               2018-05-25 00:00:00  2018-05-25 00:00:00   \n",
       "tariff                               ultra                ultra   \n",
       "messages_included                     1000                 1000   \n",
       "mb_per_month_included                30720                30720   \n",
       "minutes_included                      3000                 3000   \n",
       "rub_monthly_fee                       1950                 1950   \n",
       "rub_per_gb                             150                  150   \n",
       "rub_per_message                          1                    1   \n",
       "rub_per_minute                           1                    1   \n",
       "\n",
       "                                      4                    5     \\\n",
       "user_id                               1000                 1000   \n",
       "month                                  May             November   \n",
       "minutes_per_month                    159.0                338.0   \n",
       "calls_per_month                       22.0                 43.0   \n",
       "messages_per_month                    22.0                 58.0   \n",
       "mb_used                            2253.49             14756.47   \n",
       "age                                     52                   52   \n",
       "churn_date                             NaT                  NaT   \n",
       "city                             Краснодар            Краснодар   \n",
       "first_name                          Рафаил               Рафаил   \n",
       "last_name                        Верещагин            Верещагин   \n",
       "reg_date               2018-05-25 00:00:00  2018-05-25 00:00:00   \n",
       "tariff                               ultra                ultra   \n",
       "messages_included                     1000                 1000   \n",
       "mb_per_month_included                30720                30720   \n",
       "minutes_included                      3000                 3000   \n",
       "rub_monthly_fee                       1950                 1950   \n",
       "rub_per_gb                             150                  150   \n",
       "rub_per_message                          1                    1   \n",
       "rub_per_minute                           1                    1   \n",
       "\n",
       "                                      6                    7     \\\n",
       "user_id                               1000                 1000   \n",
       "month                              October            September   \n",
       "minutes_per_month                    350.0                466.0   \n",
       "calls_per_month                       57.0                 58.0   \n",
       "messages_per_month                    73.0                 57.0   \n",
       "mb_used                           14702.49             14568.91   \n",
       "age                                     52                   52   \n",
       "churn_date                             NaT                  NaT   \n",
       "city                             Краснодар            Краснодар   \n",
       "first_name                          Рафаил               Рафаил   \n",
       "last_name                        Верещагин            Верещагин   \n",
       "reg_date               2018-05-25 00:00:00  2018-05-25 00:00:00   \n",
       "tariff                               ultra                ultra   \n",
       "messages_included                     1000                 1000   \n",
       "mb_per_month_included                30720                30720   \n",
       "minutes_included                      3000                 3000   \n",
       "rub_monthly_fee                       1950                 1950   \n",
       "rub_per_gb                             150                  150   \n",
       "rub_per_message                          1                    1   \n",
       "rub_per_minute                           1                    1   \n",
       "\n",
       "                                      8                    9     ...  \\\n",
       "user_id                               1001                 1001  ...   \n",
       "month                             December             November  ...   \n",
       "minutes_per_month                    414.0                430.0  ...   \n",
       "calls_per_month                       63.0                 59.0  ...   \n",
       "messages_per_month                     0.0                  0.0  ...   \n",
       "mb_used                           14036.66             18429.34  ...   \n",
       "age                                     41                   41  ...   \n",
       "churn_date                             NaT                  NaT  ...   \n",
       "city                                Москва               Москва  ...   \n",
       "first_name                            Иван                 Иван  ...   \n",
       "last_name                             Ежов                 Ежов  ...   \n",
       "reg_date               2018-11-01 00:00:00  2018-11-01 00:00:00  ...   \n",
       "tariff                               smart                smart  ...   \n",
       "messages_included                       50                   50  ...   \n",
       "mb_per_month_included                15360                15360  ...   \n",
       "minutes_included                       500                  500  ...   \n",
       "rub_monthly_fee                        550                  550  ...   \n",
       "rub_per_gb                             200                  200  ...   \n",
       "rub_per_message                          3                    3  ...   \n",
       "rub_per_minute                           3                    3  ...   \n",
       "\n",
       "                                      3206                 3207  \\\n",
       "user_id                               1473                 1473   \n",
       "month                             November              October   \n",
       "minutes_per_month                      0.0                  0.0   \n",
       "calls_per_month                        0.0                  0.0   \n",
       "messages_per_month                    14.0                 20.0   \n",
       "mb_used                            21673.8             13688.65   \n",
       "age                                     18                   18   \n",
       "churn_date                             NaT                  NaT   \n",
       "city                            Красноярск           Красноярск   \n",
       "first_name                         Николай              Николай   \n",
       "last_name                          Лебедев              Лебедев   \n",
       "reg_date               2018-08-05 00:00:00  2018-08-05 00:00:00   \n",
       "tariff                               ultra                ultra   \n",
       "messages_included                     1000                 1000   \n",
       "mb_per_month_included                30720                30720   \n",
       "minutes_included                      3000                 3000   \n",
       "rub_monthly_fee                       1950                 1950   \n",
       "rub_per_gb                             150                  150   \n",
       "rub_per_message                          1                    1   \n",
       "rub_per_minute                           1                    1   \n",
       "\n",
       "                                      3208                 3209  \\\n",
       "user_id                               1473                 1489   \n",
       "month                            September               August   \n",
       "minutes_per_month                      0.0                  0.0   \n",
       "calls_per_month                        0.0                  0.0   \n",
       "messages_per_month                    19.0                 17.0   \n",
       "mb_used                           17289.85             11050.56   \n",
       "age                                     18                   35   \n",
       "churn_date                             NaT                  NaT   \n",
       "city                            Красноярск      Санкт-Петербург   \n",
       "first_name                         Николай                Павел   \n",
       "last_name                          Лебедев             Гончаров   \n",
       "reg_date               2018-08-05 00:00:00  2018-08-15 00:00:00   \n",
       "tariff                               ultra                smart   \n",
       "messages_included                     1000                   50   \n",
       "mb_per_month_included                30720                15360   \n",
       "minutes_included                      3000                  500   \n",
       "rub_monthly_fee                       1950                  550   \n",
       "rub_per_gb                             150                  200   \n",
       "rub_per_message                          1                    3   \n",
       "rub_per_minute                           1                    3   \n",
       "\n",
       "                                      3210                 3211  \\\n",
       "user_id                               1489                 1489   \n",
       "month                             December             November   \n",
       "minutes_per_month                      0.0                  0.0   \n",
       "calls_per_month                        0.0                  0.0   \n",
       "messages_per_month                    35.0                 20.0   \n",
       "mb_used                           17322.51             17491.56   \n",
       "age                                     35                   35   \n",
       "churn_date                             NaT                  NaT   \n",
       "city                       Санкт-Петербург      Санкт-Петербург   \n",
       "first_name                           Павел                Павел   \n",
       "last_name                         Гончаров             Гончаров   \n",
       "reg_date               2018-08-15 00:00:00  2018-08-15 00:00:00   \n",
       "tariff                               smart                smart   \n",
       "messages_included                       50                   50   \n",
       "mb_per_month_included                15360                15360   \n",
       "minutes_included                       500                  500   \n",
       "rub_monthly_fee                        550                  550   \n",
       "rub_per_gb                             200                  200   \n",
       "rub_per_message                          3                    3   \n",
       "rub_per_minute                           3                    3   \n",
       "\n",
       "                                      3212                 3213  \\\n",
       "user_id                               1489                 1489   \n",
       "month                              October            September   \n",
       "minutes_per_month                      0.0                  0.0   \n",
       "calls_per_month                        0.0                  0.0   \n",
       "messages_per_month                    21.0                 32.0   \n",
       "mb_used                           19559.44              17206.3   \n",
       "age                                     35                   35   \n",
       "churn_date                             NaT                  NaT   \n",
       "city                       Санкт-Петербург      Санкт-Петербург   \n",
       "first_name                           Павел                Павел   \n",
       "last_name                         Гончаров             Гончаров   \n",
       "reg_date               2018-08-15 00:00:00  2018-08-15 00:00:00   \n",
       "tariff                               smart                smart   \n",
       "messages_included                       50                   50   \n",
       "mb_per_month_included                15360                15360   \n",
       "minutes_included                       500                  500   \n",
       "rub_monthly_fee                        550                  550   \n",
       "rub_per_gb                             200                  200   \n",
       "rub_per_message                          3                    3   \n",
       "rub_per_minute                           3                    3   \n",
       "\n",
       "                                      3214                 3215  \n",
       "user_id                               1128                 1371  \n",
       "month                                  NaN                  NaN  \n",
       "minutes_per_month                      0.0                  0.0  \n",
       "calls_per_month                        0.0                  0.0  \n",
       "messages_per_month                     0.0                  0.0  \n",
       "mb_used                                0.0                  0.0  \n",
       "age                                     51                   50  \n",
       "churn_date             2018-12-23 00:00:00  2018-12-30 00:00:00  \n",
       "city                              Волжский                 Омск  \n",
       "first_name                          Ксения               Ириней  \n",
       "last_name                           Агаева             Трофимов  \n",
       "reg_date               2018-12-15 00:00:00  2018-12-25 00:00:00  \n",
       "tariff                               ultra                smart  \n",
       "messages_included                     1000                   50  \n",
       "mb_per_month_included                30720                15360  \n",
       "minutes_included                      3000                  500  \n",
       "rub_monthly_fee                       1950                  550  \n",
       "rub_per_gb                             150                  200  \n",
       "rub_per_message                          1                    3  \n",
       "rub_per_minute                           1                    3  \n",
       "\n",
       "[20 rows x 3216 columns]"
      ]
     },
     "execution_count": 27,
     "metadata": {},
     "output_type": "execute_result"
    }
   ],
   "source": [
    "df.T"
   ]
  },
  {
   "cell_type": "markdown",
   "metadata": {},
   "source": [
    "### Помесячная выручка с каждого пользователя."
   ]
  },
  {
   "cell_type": "code",
   "execution_count": 28,
   "metadata": {},
   "outputs": [],
   "source": [
    "def tariff_revenue(row):\n",
    "    mins = (row['minutes_per_month'] - row['minutes_included']) * row['rub_per_minute']\n",
    "    sms = (row['messages_per_month'] - row['messages_included']) * row['rub_per_message']\n",
    "    mbs = (np.ceil((row['mb_used'] - row['mb_per_month_included'])/1024)) * row['rub_per_gb']\n",
    "    total = 0\n",
    "    for i in [mins, sms, mbs]:\n",
    "        if i > 0:\n",
    "            total += i\n",
    "    return total"
   ]
  },
  {
   "cell_type": "markdown",
   "metadata": {},
   "source": [
    "<div class=\"alert alert-anger\">\n",
    "<font size=\"4\"><b>❌ Комментарий ревьюера в2</b></font>\n",
    "    <br /> \n",
    "    <font size=\"3\", color = \"black\">\n",
    "<br />Алгоритм выручки не учитывает правила округления Гб. на проекте, можно проверить на клиенте 1499 за ноябрь, таблица ниже\n",
    "        \n",
    "       mbs = np.ceil((row['mb_used'] - row['mb_per_month_included']) * row['rub_per_gb']/1024)\n",
    "        \n",
    "неверный алгоритм округления сверхлимитного интернета: сначала вычитаем объем лимита, затем остаток делим на 1024, __затем полученные Гб. округляем в большую сторону__, а затем умножаем на стоимость сверхлимитного интернета"
   ]
  },
  {
   "cell_type": "markdown",
   "metadata": {},
   "source": [
    "<div class=\"alert alert-anger\">\n",
    "<font size=\"4\"><b>❌ Комментарий ревьюера</b></font>\n",
    "    <br /> \n",
    "    <font size=\"3\", color = \"black\">\n",
    "<br />Алгоритм выручки не учитывает правила округления Гб. на проекте, можно проверить на клиенте 1499 за ноябрь, таблица ниже\n",
    "        \n",
    "    mbs = ((row['mb_used'] - row['mb_per_month_included']) * row['rub_per_gb']/1024)\n",
    "        \n",
    "Примечание из проекта\n",
    "        \n",
    "    «Мегалайн» всегда округляет секунды до минут, а мегабайты — до гигабайт. Каждый звонок округляется отдельно: даже если он длился всего 1 секунду, будет засчитан как 1 минута.\n",
    "    Для веб-трафика отдельные сессии не считаются. Вместо этого общая сумма за месяц округляется в бо́льшую сторону. Если абонент использует 1025 мегабайт в этом месяце, с него возьмут плату за 2 гигабайта.\n",
    "        \n",
    "Стоит исправить\n",
    "        \n",
    "        def tariff_revenue(row):\n",
    "            mins = (row['minutes_per_month'] - row['minutes_included']) * row['rub_per_minute']\n",
    "            sms = (row['messages_per_month'] - row['messages_included']) * row['rub_per_message']\n",
    "            mbs = ((row['mb_used'] - row['mb_per_month_included']) * row['rub_per_gb']/1024)\n",
    "            total = 0\n",
    "            for i in [mins, sms, mbs]:\n",
    "                if i > 0:\n",
    "                    total += i\n",
    "            return total"
   ]
  },
  {
   "cell_type": "code",
   "execution_count": 29,
   "metadata": {},
   "outputs": [],
   "source": [
    "df['tariff_revenue'] = df.apply(lambda x: tariff_revenue(x), axis=1)\n",
    "df['total_revenue'] = df['tariff_revenue'] + df['rub_monthly_fee']"
   ]
  },
  {
   "cell_type": "code",
   "execution_count": 30,
   "metadata": {},
   "outputs": [
    {
     "data": {
      "text/html": [
       "<div>\n",
       "<style scoped>\n",
       "    .dataframe tbody tr th:only-of-type {\n",
       "        vertical-align: middle;\n",
       "    }\n",
       "\n",
       "    .dataframe tbody tr th {\n",
       "        vertical-align: top;\n",
       "    }\n",
       "\n",
       "    .dataframe thead th {\n",
       "        text-align: right;\n",
       "    }\n",
       "</style>\n",
       "<table border=\"1\" class=\"dataframe\">\n",
       "  <thead>\n",
       "    <tr style=\"text-align: right;\">\n",
       "      <th></th>\n",
       "      <th>user_id</th>\n",
       "      <th>month</th>\n",
       "      <th>minutes_per_month</th>\n",
       "      <th>calls_per_month</th>\n",
       "      <th>messages_per_month</th>\n",
       "      <th>mb_used</th>\n",
       "      <th>age</th>\n",
       "      <th>churn_date</th>\n",
       "      <th>city</th>\n",
       "      <th>first_name</th>\n",
       "      <th>...</th>\n",
       "      <th>tariff</th>\n",
       "      <th>messages_included</th>\n",
       "      <th>mb_per_month_included</th>\n",
       "      <th>minutes_included</th>\n",
       "      <th>rub_monthly_fee</th>\n",
       "      <th>rub_per_gb</th>\n",
       "      <th>rub_per_message</th>\n",
       "      <th>rub_per_minute</th>\n",
       "      <th>tariff_revenue</th>\n",
       "      <th>total_revenue</th>\n",
       "    </tr>\n",
       "  </thead>\n",
       "  <tbody>\n",
       "    <tr>\n",
       "      <th>3106</th>\n",
       "      <td>1486</td>\n",
       "      <td>December</td>\n",
       "      <td>1007.0</td>\n",
       "      <td>133.0</td>\n",
       "      <td>83.0</td>\n",
       "      <td>38552.45</td>\n",
       "      <td>35</td>\n",
       "      <td>NaT</td>\n",
       "      <td>Нижний Новгород</td>\n",
       "      <td>Матвей</td>\n",
       "      <td>...</td>\n",
       "      <td>smart</td>\n",
       "      <td>50</td>\n",
       "      <td>15360</td>\n",
       "      <td>500</td>\n",
       "      <td>550</td>\n",
       "      <td>200</td>\n",
       "      <td>3</td>\n",
       "      <td>3</td>\n",
       "      <td>6220.0</td>\n",
       "      <td>6770.0</td>\n",
       "    </tr>\n",
       "    <tr>\n",
       "      <th>259</th>\n",
       "      <td>1042</td>\n",
       "      <td>December</td>\n",
       "      <td>728.0</td>\n",
       "      <td>121.0</td>\n",
       "      <td>75.0</td>\n",
       "      <td>37165.69</td>\n",
       "      <td>42</td>\n",
       "      <td>NaT</td>\n",
       "      <td>Хабаровск</td>\n",
       "      <td>Константин</td>\n",
       "      <td>...</td>\n",
       "      <td>smart</td>\n",
       "      <td>50</td>\n",
       "      <td>15360</td>\n",
       "      <td>500</td>\n",
       "      <td>550</td>\n",
       "      <td>200</td>\n",
       "      <td>3</td>\n",
       "      <td>3</td>\n",
       "      <td>5159.0</td>\n",
       "      <td>5709.0</td>\n",
       "    </tr>\n",
       "    <tr>\n",
       "      <th>3107</th>\n",
       "      <td>1486</td>\n",
       "      <td>November</td>\n",
       "      <td>764.0</td>\n",
       "      <td>108.0</td>\n",
       "      <td>96.0</td>\n",
       "      <td>36266.11</td>\n",
       "      <td>35</td>\n",
       "      <td>NaT</td>\n",
       "      <td>Нижний Новгород</td>\n",
       "      <td>Матвей</td>\n",
       "      <td>...</td>\n",
       "      <td>smart</td>\n",
       "      <td>50</td>\n",
       "      <td>15360</td>\n",
       "      <td>500</td>\n",
       "      <td>550</td>\n",
       "      <td>200</td>\n",
       "      <td>3</td>\n",
       "      <td>3</td>\n",
       "      <td>5130.0</td>\n",
       "      <td>5680.0</td>\n",
       "    </tr>\n",
       "    <tr>\n",
       "      <th>1620</th>\n",
       "      <td>1261</td>\n",
       "      <td>December</td>\n",
       "      <td>1074.0</td>\n",
       "      <td>141.0</td>\n",
       "      <td>22.0</td>\n",
       "      <td>32650.91</td>\n",
       "      <td>46</td>\n",
       "      <td>NaT</td>\n",
       "      <td>Казань</td>\n",
       "      <td>Мадина</td>\n",
       "      <td>...</td>\n",
       "      <td>smart</td>\n",
       "      <td>50</td>\n",
       "      <td>15360</td>\n",
       "      <td>500</td>\n",
       "      <td>550</td>\n",
       "      <td>200</td>\n",
       "      <td>3</td>\n",
       "      <td>3</td>\n",
       "      <td>5122.0</td>\n",
       "      <td>5672.0</td>\n",
       "    </tr>\n",
       "    <tr>\n",
       "      <th>1792</th>\n",
       "      <td>1286</td>\n",
       "      <td>December</td>\n",
       "      <td>739.0</td>\n",
       "      <td>95.0</td>\n",
       "      <td>68.0</td>\n",
       "      <td>35108.07</td>\n",
       "      <td>19</td>\n",
       "      <td>NaT</td>\n",
       "      <td>Москва</td>\n",
       "      <td>Рашид</td>\n",
       "      <td>...</td>\n",
       "      <td>smart</td>\n",
       "      <td>50</td>\n",
       "      <td>15360</td>\n",
       "      <td>500</td>\n",
       "      <td>550</td>\n",
       "      <td>200</td>\n",
       "      <td>3</td>\n",
       "      <td>3</td>\n",
       "      <td>4771.0</td>\n",
       "      <td>5321.0</td>\n",
       "    </tr>\n",
       "    <tr>\n",
       "      <th>...</th>\n",
       "      <td>...</td>\n",
       "      <td>...</td>\n",
       "      <td>...</td>\n",
       "      <td>...</td>\n",
       "      <td>...</td>\n",
       "      <td>...</td>\n",
       "      <td>...</td>\n",
       "      <td>...</td>\n",
       "      <td>...</td>\n",
       "      <td>...</td>\n",
       "      <td>...</td>\n",
       "      <td>...</td>\n",
       "      <td>...</td>\n",
       "      <td>...</td>\n",
       "      <td>...</td>\n",
       "      <td>...</td>\n",
       "      <td>...</td>\n",
       "      <td>...</td>\n",
       "      <td>...</td>\n",
       "      <td>...</td>\n",
       "      <td>...</td>\n",
       "    </tr>\n",
       "    <tr>\n",
       "      <th>1759</th>\n",
       "      <td>1282</td>\n",
       "      <td>January</td>\n",
       "      <td>349.0</td>\n",
       "      <td>48.0</td>\n",
       "      <td>29.0</td>\n",
       "      <td>5575.60</td>\n",
       "      <td>59</td>\n",
       "      <td>NaT</td>\n",
       "      <td>Ульяновск</td>\n",
       "      <td>Артём</td>\n",
       "      <td>...</td>\n",
       "      <td>smart</td>\n",
       "      <td>50</td>\n",
       "      <td>15360</td>\n",
       "      <td>500</td>\n",
       "      <td>550</td>\n",
       "      <td>200</td>\n",
       "      <td>3</td>\n",
       "      <td>3</td>\n",
       "      <td>0.0</td>\n",
       "      <td>550.0</td>\n",
       "    </tr>\n",
       "    <tr>\n",
       "      <th>318</th>\n",
       "      <td>1051</td>\n",
       "      <td>May</td>\n",
       "      <td>59.0</td>\n",
       "      <td>8.0</td>\n",
       "      <td>0.0</td>\n",
       "      <td>1840.98</td>\n",
       "      <td>37</td>\n",
       "      <td>2018-10-14</td>\n",
       "      <td>Москва</td>\n",
       "      <td>Кристина</td>\n",
       "      <td>...</td>\n",
       "      <td>smart</td>\n",
       "      <td>50</td>\n",
       "      <td>15360</td>\n",
       "      <td>500</td>\n",
       "      <td>550</td>\n",
       "      <td>200</td>\n",
       "      <td>3</td>\n",
       "      <td>3</td>\n",
       "      <td>0.0</td>\n",
       "      <td>550.0</td>\n",
       "    </tr>\n",
       "    <tr>\n",
       "      <th>827</th>\n",
       "      <td>1133</td>\n",
       "      <td>October</td>\n",
       "      <td>224.0</td>\n",
       "      <td>33.0</td>\n",
       "      <td>15.0</td>\n",
       "      <td>6547.63</td>\n",
       "      <td>70</td>\n",
       "      <td>NaT</td>\n",
       "      <td>Барнаул</td>\n",
       "      <td>Надежда</td>\n",
       "      <td>...</td>\n",
       "      <td>smart</td>\n",
       "      <td>50</td>\n",
       "      <td>15360</td>\n",
       "      <td>500</td>\n",
       "      <td>550</td>\n",
       "      <td>200</td>\n",
       "      <td>3</td>\n",
       "      <td>3</td>\n",
       "      <td>0.0</td>\n",
       "      <td>550.0</td>\n",
       "    </tr>\n",
       "    <tr>\n",
       "      <th>831</th>\n",
       "      <td>1134</td>\n",
       "      <td>February</td>\n",
       "      <td>458.0</td>\n",
       "      <td>59.0</td>\n",
       "      <td>47.0</td>\n",
       "      <td>13052.89</td>\n",
       "      <td>65</td>\n",
       "      <td>NaT</td>\n",
       "      <td>Красноярск</td>\n",
       "      <td>Марьяна</td>\n",
       "      <td>...</td>\n",
       "      <td>smart</td>\n",
       "      <td>50</td>\n",
       "      <td>15360</td>\n",
       "      <td>500</td>\n",
       "      <td>550</td>\n",
       "      <td>200</td>\n",
       "      <td>3</td>\n",
       "      <td>3</td>\n",
       "      <td>0.0</td>\n",
       "      <td>550.0</td>\n",
       "    </tr>\n",
       "    <tr>\n",
       "      <th>3215</th>\n",
       "      <td>1371</td>\n",
       "      <td>NaN</td>\n",
       "      <td>0.0</td>\n",
       "      <td>0.0</td>\n",
       "      <td>0.0</td>\n",
       "      <td>0.00</td>\n",
       "      <td>50</td>\n",
       "      <td>2018-12-30</td>\n",
       "      <td>Омск</td>\n",
       "      <td>Ириней</td>\n",
       "      <td>...</td>\n",
       "      <td>smart</td>\n",
       "      <td>50</td>\n",
       "      <td>15360</td>\n",
       "      <td>500</td>\n",
       "      <td>550</td>\n",
       "      <td>200</td>\n",
       "      <td>3</td>\n",
       "      <td>3</td>\n",
       "      <td>0.0</td>\n",
       "      <td>550.0</td>\n",
       "    </tr>\n",
       "  </tbody>\n",
       "</table>\n",
       "<p>3216 rows × 22 columns</p>\n",
       "</div>"
      ],
      "text/plain": [
       "      user_id     month  minutes_per_month  calls_per_month  \\\n",
       "3106     1486  December             1007.0            133.0   \n",
       "259      1042  December              728.0            121.0   \n",
       "3107     1486  November              764.0            108.0   \n",
       "1620     1261  December             1074.0            141.0   \n",
       "1792     1286  December              739.0             95.0   \n",
       "...       ...       ...                ...              ...   \n",
       "1759     1282   January              349.0             48.0   \n",
       "318      1051       May               59.0              8.0   \n",
       "827      1133   October              224.0             33.0   \n",
       "831      1134  February              458.0             59.0   \n",
       "3215     1371       NaN                0.0              0.0   \n",
       "\n",
       "      messages_per_month   mb_used  age churn_date             city  \\\n",
       "3106                83.0  38552.45   35        NaT  Нижний Новгород   \n",
       "259                 75.0  37165.69   42        NaT        Хабаровск   \n",
       "3107                96.0  36266.11   35        NaT  Нижний Новгород   \n",
       "1620                22.0  32650.91   46        NaT           Казань   \n",
       "1792                68.0  35108.07   19        NaT           Москва   \n",
       "...                  ...       ...  ...        ...              ...   \n",
       "1759                29.0   5575.60   59        NaT        Ульяновск   \n",
       "318                  0.0   1840.98   37 2018-10-14           Москва   \n",
       "827                 15.0   6547.63   70        NaT          Барнаул   \n",
       "831                 47.0  13052.89   65        NaT       Красноярск   \n",
       "3215                 0.0      0.00   50 2018-12-30             Омск   \n",
       "\n",
       "      first_name  ... tariff messages_included mb_per_month_included  \\\n",
       "3106      Матвей  ...  smart                50                 15360   \n",
       "259   Константин  ...  smart                50                 15360   \n",
       "3107      Матвей  ...  smart                50                 15360   \n",
       "1620      Мадина  ...  smart                50                 15360   \n",
       "1792       Рашид  ...  smart                50                 15360   \n",
       "...          ...  ...    ...               ...                   ...   \n",
       "1759       Артём  ...  smart                50                 15360   \n",
       "318     Кристина  ...  smart                50                 15360   \n",
       "827      Надежда  ...  smart                50                 15360   \n",
       "831      Марьяна  ...  smart                50                 15360   \n",
       "3215      Ириней  ...  smart                50                 15360   \n",
       "\n",
       "      minutes_included  rub_monthly_fee  rub_per_gb  rub_per_message  \\\n",
       "3106               500              550         200                3   \n",
       "259                500              550         200                3   \n",
       "3107               500              550         200                3   \n",
       "1620               500              550         200                3   \n",
       "1792               500              550         200                3   \n",
       "...                ...              ...         ...              ...   \n",
       "1759               500              550         200                3   \n",
       "318                500              550         200                3   \n",
       "827                500              550         200                3   \n",
       "831                500              550         200                3   \n",
       "3215               500              550         200                3   \n",
       "\n",
       "      rub_per_minute  tariff_revenue  total_revenue  \n",
       "3106               3          6220.0         6770.0  \n",
       "259                3          5159.0         5709.0  \n",
       "3107               3          5130.0         5680.0  \n",
       "1620               3          5122.0         5672.0  \n",
       "1792               3          4771.0         5321.0  \n",
       "...              ...             ...            ...  \n",
       "1759               3             0.0          550.0  \n",
       "318                3             0.0          550.0  \n",
       "827                3             0.0          550.0  \n",
       "831                3             0.0          550.0  \n",
       "3215               3             0.0          550.0  \n",
       "\n",
       "[3216 rows x 22 columns]"
      ]
     },
     "metadata": {},
     "output_type": "display_data"
    }
   ],
   "source": [
    "display(df.sort_values(by='total_revenue', ascending=False))"
   ]
  },
  {
   "cell_type": "markdown",
   "metadata": {},
   "source": [
    "<div class=\"alert alert-warning\", style=\"border:solid coral 3px; padding: 20px\">\n",
    "<font size=\"4\", color = \"DimGrey\"><b>⚠️ Комментарий ревьюера в2</b></font>\n",
    "    <br /> \n",
    "    <font size=\"3\", color = \"black\">\n",
    "<br /> Появился 13-й месяц, точнее нановский :)\n",
    "    \n",
    " чтобы не было нулей / NaN в месяце, можно выставить дату оттока, если же подобный клиент пробыл в компании несколько месяцев, при этом платил абонентскую плату и не пользовался услугами, тогда нам бы пришлось переформатировать таблицу клиентов, считать разность между датой регистрации и оттока и добавлять кол-во строк в основной датасет по реальному кол-ву оплаченных месяцев"
   ]
  },
  {
   "cell_type": "markdown",
   "metadata": {},
   "source": [
    "# Блок проверки"
   ]
  },
  {
   "cell_type": "code",
   "execution_count": 31,
   "metadata": {},
   "outputs": [
    {
     "data": {
      "text/plain": [
       "4916951.0"
      ]
     },
     "execution_count": 31,
     "metadata": {},
     "output_type": "execute_result"
    }
   ],
   "source": [
    "# check\n",
    "df['total_revenue'].sum()"
   ]
  },
  {
   "cell_type": "code",
   "execution_count": 32,
   "metadata": {},
   "outputs": [
    {
     "data": {
      "text/html": [
       "<div>\n",
       "<style scoped>\n",
       "    .dataframe tbody tr th:only-of-type {\n",
       "        vertical-align: middle;\n",
       "    }\n",
       "\n",
       "    .dataframe tbody tr th {\n",
       "        vertical-align: top;\n",
       "    }\n",
       "\n",
       "    .dataframe thead th {\n",
       "        text-align: right;\n",
       "    }\n",
       "</style>\n",
       "<table border=\"1\" class=\"dataframe\">\n",
       "  <thead>\n",
       "    <tr style=\"text-align: right;\">\n",
       "      <th></th>\n",
       "      <th>user_id</th>\n",
       "      <th>month</th>\n",
       "      <th>minutes_per_month</th>\n",
       "      <th>calls_per_month</th>\n",
       "      <th>messages_per_month</th>\n",
       "      <th>mb_used</th>\n",
       "      <th>age</th>\n",
       "      <th>churn_date</th>\n",
       "      <th>city</th>\n",
       "      <th>reg_date</th>\n",
       "      <th>tariff</th>\n",
       "      <th>total_revenue</th>\n",
       "    </tr>\n",
       "  </thead>\n",
       "  <tbody>\n",
       "    <tr>\n",
       "      <th>3172</th>\n",
       "      <td>1499</td>\n",
       "      <td>December</td>\n",
       "      <td>492.0</td>\n",
       "      <td>69.0</td>\n",
       "      <td>66.0</td>\n",
       "      <td>13055.58</td>\n",
       "      <td>35</td>\n",
       "      <td>NaT</td>\n",
       "      <td>Пермь</td>\n",
       "      <td>2018-09-27</td>\n",
       "      <td>smart</td>\n",
       "      <td>598.0</td>\n",
       "    </tr>\n",
       "    <tr>\n",
       "      <th>3173</th>\n",
       "      <td>1499</td>\n",
       "      <td>November</td>\n",
       "      <td>612.0</td>\n",
       "      <td>74.0</td>\n",
       "      <td>59.0</td>\n",
       "      <td>17963.31</td>\n",
       "      <td>35</td>\n",
       "      <td>NaT</td>\n",
       "      <td>Пермь</td>\n",
       "      <td>2018-09-27</td>\n",
       "      <td>smart</td>\n",
       "      <td>1513.0</td>\n",
       "    </tr>\n",
       "    <tr>\n",
       "      <th>3174</th>\n",
       "      <td>1499</td>\n",
       "      <td>October</td>\n",
       "      <td>449.0</td>\n",
       "      <td>68.0</td>\n",
       "      <td>48.0</td>\n",
       "      <td>17788.51</td>\n",
       "      <td>35</td>\n",
       "      <td>NaT</td>\n",
       "      <td>Пермь</td>\n",
       "      <td>2018-09-27</td>\n",
       "      <td>smart</td>\n",
       "      <td>1150.0</td>\n",
       "    </tr>\n",
       "    <tr>\n",
       "      <th>3175</th>\n",
       "      <td>1499</td>\n",
       "      <td>September</td>\n",
       "      <td>70.0</td>\n",
       "      <td>9.0</td>\n",
       "      <td>11.0</td>\n",
       "      <td>1845.75</td>\n",
       "      <td>35</td>\n",
       "      <td>NaT</td>\n",
       "      <td>Пермь</td>\n",
       "      <td>2018-09-27</td>\n",
       "      <td>smart</td>\n",
       "      <td>550.0</td>\n",
       "    </tr>\n",
       "  </tbody>\n",
       "</table>\n",
       "</div>"
      ],
      "text/plain": [
       "      user_id      month  minutes_per_month  calls_per_month  \\\n",
       "3172     1499   December              492.0             69.0   \n",
       "3173     1499   November              612.0             74.0   \n",
       "3174     1499    October              449.0             68.0   \n",
       "3175     1499  September               70.0              9.0   \n",
       "\n",
       "      messages_per_month   mb_used  age churn_date   city   reg_date tariff  \\\n",
       "3172                66.0  13055.58   35        NaT  Пермь 2018-09-27  smart   \n",
       "3173                59.0  17963.31   35        NaT  Пермь 2018-09-27  smart   \n",
       "3174                48.0  17788.51   35        NaT  Пермь 2018-09-27  smart   \n",
       "3175                11.0   1845.75   35        NaT  Пермь 2018-09-27  smart   \n",
       "\n",
       "      total_revenue  \n",
       "3172          598.0  \n",
       "3173         1513.0  \n",
       "3174         1150.0  \n",
       "3175          550.0  "
      ]
     },
     "execution_count": 32,
     "metadata": {},
     "output_type": "execute_result"
    }
   ],
   "source": [
    "# check\n",
    "df[df['user_id'] == 1499][['user_id', 'month', 'minutes_per_month', 'calls_per_month',\n",
    "       'messages_per_month', 'mb_used', 'age', 'churn_date', 'city',\n",
    "       'reg_date', 'tariff', 'total_revenue']]"
   ]
  },
  {
   "cell_type": "markdown",
   "metadata": {},
   "source": [
    "<div class=\"alert alert-anger\">\n",
    "<font size=\"4\"><b>❌ Комментарий ревьюера</b></font>\n",
    "    <br /> \n",
    "    <font size=\"3\", color = \"black\">\n",
    "<br />\n",
    "Осталось выполнить на проекте 3, 4 разделы и подготовить итоговую рекомендацию бизнесу\n",
    "        \n",
    "        просьба не удалять мои комментарии"
   ]
  },
  {
   "cell_type": "markdown",
   "metadata": {},
   "source": [
    "## Анализ данных\n",
    "### Подсчёт минут разговора, сообщений, объём интернет-трафика, который требуется пользователям каждого тарифа в месяц."
   ]
  },
  {
   "cell_type": "code",
   "execution_count": 33,
   "metadata": {},
   "outputs": [
    {
     "data": {
      "text/html": [
       "<div>\n",
       "<style scoped>\n",
       "    .dataframe tbody tr th:only-of-type {\n",
       "        vertical-align: middle;\n",
       "    }\n",
       "\n",
       "    .dataframe tbody tr th {\n",
       "        vertical-align: top;\n",
       "    }\n",
       "\n",
       "    .dataframe thead th {\n",
       "        text-align: right;\n",
       "    }\n",
       "</style>\n",
       "<table border=\"1\" class=\"dataframe\">\n",
       "  <thead>\n",
       "    <tr style=\"text-align: right;\">\n",
       "      <th></th>\n",
       "      <th>tariff_revenue</th>\n",
       "      <th>total_revenue</th>\n",
       "    </tr>\n",
       "  </thead>\n",
       "  <tbody>\n",
       "    <tr>\n",
       "      <th>count</th>\n",
       "      <td>3216.000000</td>\n",
       "      <td>3216.000000</td>\n",
       "    </tr>\n",
       "    <tr>\n",
       "      <th>mean</th>\n",
       "      <td>549.673818</td>\n",
       "      <td>1528.902674</td>\n",
       "    </tr>\n",
       "    <tr>\n",
       "      <th>std</th>\n",
       "      <td>767.655172</td>\n",
       "      <td>798.224060</td>\n",
       "    </tr>\n",
       "    <tr>\n",
       "      <th>min</th>\n",
       "      <td>0.000000</td>\n",
       "      <td>550.000000</td>\n",
       "    </tr>\n",
       "    <tr>\n",
       "      <th>25%</th>\n",
       "      <td>0.000000</td>\n",
       "      <td>750.000000</td>\n",
       "    </tr>\n",
       "    <tr>\n",
       "      <th>50%</th>\n",
       "      <td>159.000000</td>\n",
       "      <td>1653.500000</td>\n",
       "    </tr>\n",
       "    <tr>\n",
       "      <th>75%</th>\n",
       "      <td>938.000000</td>\n",
       "      <td>1950.000000</td>\n",
       "    </tr>\n",
       "    <tr>\n",
       "      <th>max</th>\n",
       "      <td>6220.000000</td>\n",
       "      <td>6770.000000</td>\n",
       "    </tr>\n",
       "  </tbody>\n",
       "</table>\n",
       "</div>"
      ],
      "text/plain": [
       "       tariff_revenue  total_revenue\n",
       "count     3216.000000    3216.000000\n",
       "mean       549.673818    1528.902674\n",
       "std        767.655172     798.224060\n",
       "min          0.000000     550.000000\n",
       "25%          0.000000     750.000000\n",
       "50%        159.000000    1653.500000\n",
       "75%        938.000000    1950.000000\n",
       "max       6220.000000    6770.000000"
      ]
     },
     "execution_count": 33,
     "metadata": {},
     "output_type": "execute_result"
    }
   ],
   "source": [
    "df[['tariff_revenue', 'total_revenue']].describe()"
   ]
  },
  {
   "cell_type": "code",
   "execution_count": 34,
   "metadata": {},
   "outputs": [
    {
     "data": {
      "text/plain": [
       "smart    2230\n",
       "ultra     986\n",
       "Name: tariff, dtype: int64"
      ]
     },
     "execution_count": 34,
     "metadata": {},
     "output_type": "execute_result"
    }
   ],
   "source": [
    "df['tariff'].value_counts()"
   ]
  },
  {
   "cell_type": "code",
   "execution_count": 35,
   "metadata": {},
   "outputs": [
    {
     "data": {
      "text/plain": [
       "(0.0, 7000.0)"
      ]
     },
     "execution_count": 35,
     "metadata": {},
     "output_type": "execute_result"
    },
    {
     "data": {
      "image/png": "[encoded data removed]",
      "text/plain": [
       "<Figure size 720x720 with 1 Axes>"
      ]
     },
     "metadata": {
      "needs_background": "light"
     },
     "output_type": "display_data"
    }
   ],
   "source": [
    "df.boxplot('total_revenue', by='tariff', figsize=(10,10)).set_ylim(0,7000)"
   ]
  },
  {
   "cell_type": "code",
   "execution_count": 36,
   "metadata": {},
   "outputs": [
    {
     "data": {
      "text/plain": [
       "Text(0, 0.5, 'Кол-во оплат')"
      ]
     },
     "execution_count": 36,
     "metadata": {},
     "output_type": "execute_result"
    },
    {
     "data": {
      "image/png": "[encoded data removed]",
      "text/plain": [
       "<Figure size 432x288 with 1 Axes>"
      ]
     },
     "metadata": {
      "needs_background": "light"
     },
     "output_type": "display_data"
    }
   ],
   "source": [
    "fig, ax = plt.subplots()\n",
    "df[df['tariff'] == 'ultra']['total_revenue']\\\n",
    ".plot(kind='hist',\n",
    "      bins=10,\n",
    "      title='Доход')\n",
    "ax.set_xlabel('Сколько платят')\n",
    "ax.set_ylabel('Кол-во оплат')"
   ]
  },
  {
   "cell_type": "markdown",
   "metadata": {},
   "source": [
    "<b>Гистограмма скошена(разрыв слева)</b>"
   ]
  },
  {
   "cell_type": "code",
   "execution_count": 37,
   "metadata": {},
   "outputs": [
    {
     "data": {
      "text/plain": [
       "Text(0, 0.5, 'Кол-во оплат')"
      ]
     },
     "execution_count": 37,
     "metadata": {},
     "output_type": "execute_result"
    },
    {
     "data": {
      "image/png": "[encoded data removed]",
      "text/plain": [
       "<Figure size 432x288 with 1 Axes>"
      ]
     },
     "metadata": {
      "needs_background": "light"
     },
     "output_type": "display_data"
    }
   ],
   "source": [
    "fig, ax = plt.subplots()\n",
    "df[df['tariff'] == 'smart']['total_revenue']\\\n",
    ".plot(kind='hist',\n",
    "      bins=10,\n",
    "      title='Доход')\n",
    "ax.set_xlabel('Сколько платят')\n",
    "ax.set_ylabel('Кол-во оплат')"
   ]
  },
  {
   "cell_type": "markdown",
   "metadata": {},
   "source": [
    "<b>Гистограмма скошена(разрыв слева)</b>\n",
    "\n",
    "Клиенты с тарифом \"Смарт\", чаще выходят за рамки самого тарифа, а значит и платят сверху чаще, чем клиенты с \"Ультра. Видимо на \"Ультра\" большинству людей трафика хватает, а если и не хватает, то выходят за тариф они намного реже."
   ]
  },
  {
   "cell_type": "code",
   "execution_count": 38,
   "metadata": {},
   "outputs": [
    {
     "data": {
      "text/html": [
       "<style  type=\"text/css\" >\n",
       "</style><table id=\"T_54b2e_\" ><thead>    <tr>        <th class=\"blank level0\" ></th>        <th class=\"col_heading level0 col0\" colspan=\"4\">total_revenue</th>    </tr>    <tr>        <th class=\"blank level1\" ></th>        <th class=\"col_heading level1 col0\" >median</th>        <th class=\"col_heading level1 col1\" >mean</th>        <th class=\"col_heading level1 col2\" >var</th>        <th class=\"col_heading level1 col3\" >std</th>    </tr>    <tr>        <th class=\"index_name level0\" >tariff</th>        <th class=\"blank\" ></th>        <th class=\"blank\" ></th>        <th class=\"blank\" ></th>        <th class=\"blank\" ></th>    </tr></thead><tbody>\n",
       "                <tr>\n",
       "                        <th id=\"T_54b2e_level0_row0\" class=\"row_heading level0 row0\" >smart</th>\n",
       "                        <td id=\"T_54b2e_row0_col0\" class=\"data row0 col0\" >1021.00</td>\n",
       "                        <td id=\"T_54b2e_row0_col1\" class=\"data row0 col1\" >1289.64</td>\n",
       "                        <td id=\"T_54b2e_row0_col2\" class=\"data row0 col2\" >669730.76</td>\n",
       "                        <td id=\"T_54b2e_row0_col3\" class=\"data row0 col3\" >818.37</td>\n",
       "            </tr>\n",
       "            <tr>\n",
       "                        <th id=\"T_54b2e_level0_row1\" class=\"row_heading level0 row1\" >ultra</th>\n",
       "                        <td id=\"T_54b2e_row1_col0\" class=\"data row1 col0\" >1950.00</td>\n",
       "                        <td id=\"T_54b2e_row1_col1\" class=\"data row1 col1\" >2070.03</td>\n",
       "                        <td id=\"T_54b2e_row1_col2\" class=\"data row1 col2\" >141387.71</td>\n",
       "                        <td id=\"T_54b2e_row1_col3\" class=\"data row1 col3\" >376.02</td>\n",
       "            </tr>\n",
       "    </tbody></table>"
      ],
      "text/plain": [
       "<pandas.io.formats.style.Styler at 0x7f97027cef40>"
      ]
     },
     "execution_count": 38,
     "metadata": {},
     "output_type": "execute_result"
    }
   ],
   "source": [
    "df.groupby('tariff') \\\n",
    "            .agg({'total_revenue':['median','mean','var','std']}) \\\n",
    "            .style.format(\"{:.2f}\")"
   ]
  },
  {
   "cell_type": "code",
   "execution_count": 39,
   "metadata": {},
   "outputs": [
    {
     "data": {
      "text/html": [
       "<style  type=\"text/css\" >\n",
       "</style><table id=\"T_ec09b_\" ><thead>    <tr>        <th class=\"blank level0\" ></th>        <th class=\"col_heading level0 col0\" colspan=\"4\">minutes_per_month</th>    </tr>    <tr>        <th class=\"blank level1\" ></th>        <th class=\"col_heading level1 col0\" >median</th>        <th class=\"col_heading level1 col1\" >mean</th>        <th class=\"col_heading level1 col2\" >var</th>        <th class=\"col_heading level1 col3\" >std</th>    </tr>    <tr>        <th class=\"index_name level0\" >tariff</th>        <th class=\"blank\" ></th>        <th class=\"blank\" ></th>        <th class=\"blank\" ></th>        <th class=\"blank\" ></th>    </tr></thead><tbody>\n",
       "                <tr>\n",
       "                        <th id=\"T_ec09b_level0_row0\" class=\"row_heading level0 row0\" >smart</th>\n",
       "                        <td id=\"T_ec09b_row0_col0\" class=\"data row0 col0\" >421.50</td>\n",
       "                        <td id=\"T_ec09b_row0_col1\" class=\"data row0 col1\" >417.75</td>\n",
       "                        <td id=\"T_ec09b_row0_col2\" class=\"data row0 col2\" >36281.39</td>\n",
       "                        <td id=\"T_ec09b_row0_col3\" class=\"data row0 col3\" >190.48</td>\n",
       "            </tr>\n",
       "            <tr>\n",
       "                        <th id=\"T_ec09b_level0_row1\" class=\"row_heading level0 row1\" >ultra</th>\n",
       "                        <td id=\"T_ec09b_row1_col0\" class=\"data row1 col0\" >518.00</td>\n",
       "                        <td id=\"T_ec09b_row1_col1\" class=\"data row1 col1\" >526.09</td>\n",
       "                        <td id=\"T_ec09b_row1_col2\" class=\"data row1 col2\" >101052.49</td>\n",
       "                        <td id=\"T_ec09b_row1_col3\" class=\"data row1 col3\" >317.89</td>\n",
       "            </tr>\n",
       "    </tbody></table>"
      ],
      "text/plain": [
       "<pandas.io.formats.style.Styler at 0x7f970276f4c0>"
      ]
     },
     "execution_count": 39,
     "metadata": {},
     "output_type": "execute_result"
    }
   ],
   "source": [
    "df.groupby('tariff') \\\n",
    "            .agg({'minutes_per_month':['median','mean','var','std']}) \\\n",
    "            .style.format('{:.2f}')"
   ]
  },
  {
   "cell_type": "code",
   "execution_count": 40,
   "metadata": {},
   "outputs": [
    {
     "data": {
      "text/plain": [
       "Text(0, 0.5, 'Кол-во раз')"
      ]
     },
     "execution_count": 40,
     "metadata": {},
     "output_type": "execute_result"
    },
    {
     "data": {
      "image/png": "[encoded data removed]",
      "text/plain": [
       "<Figure size 432x288 with 1 Axes>"
      ]
     },
     "metadata": {
      "needs_background": "light"
     },
     "output_type": "display_data"
    }
   ],
   "source": [
    "fig, ax = plt.subplots()\n",
    "df[df['tariff'] == 'smart']['minutes_per_month']\\\n",
    ".plot(kind='hist',\n",
    "      bins=10,\n",
    "      title = 'Smart\\nЗвонки в минутах в месяц')\n",
    "ax.set_xlabel('Кол-во минут')\n",
    "ax.set_ylabel('Кол-во раз')"
   ]
  },
  {
   "cell_type": "markdown",
   "metadata": {},
   "source": [
    "<b>Обычное распределение</b>"
   ]
  },
  {
   "cell_type": "code",
   "execution_count": 41,
   "metadata": {},
   "outputs": [
    {
     "data": {
      "text/plain": [
       "Text(0, 0.5, 'Кол-во раз')"
      ]
     },
     "execution_count": 41,
     "metadata": {},
     "output_type": "execute_result"
    },
    {
     "data": {
      "image/png": "[encoded data removed]",
      "text/plain": [
       "<Figure size 432x288 with 1 Axes>"
      ]
     },
     "metadata": {
      "needs_background": "light"
     },
     "output_type": "display_data"
    }
   ],
   "source": [
    "fig, ax = plt.subplots()\n",
    "df[df['tariff'] == 'ultra']['minutes_per_month']\\\n",
    ".plot(kind='hist',\n",
    "      bins=10,\n",
    "      title='Ultra\\nЗвонки в минутах в месяц')\n",
    "ax.set_xlabel('Кол-во минут')\n",
    "ax.set_ylabel('Кол-во раз')"
   ]
  },
  {
   "cell_type": "markdown",
   "metadata": {},
   "source": [
    "<b>Гистограмма отрицательно скошена</b>"
   ]
  },
  {
   "cell_type": "markdown",
   "metadata": {},
   "source": [
    "<div class=\"alert alert-warning\", style=\"border:solid coral 3px; padding: 20px\">\n",
    "<font size=\"4\", color = \"DimGrey\"><b>⚠️ Комментарий ревьюера</b></font>\n",
    "    <br /> \n",
    "    <font size=\"3\", color = \"black\">\n",
    "<br /> Классные графики, наглядные\n",
    "\n",
    "Подписи осей на графиках добавят им ясности и читабельности.\n",
    "Это важные элементы любой визуализации. Как добавить подписи смотри [здесь](https://pyprog.pro/mpl/mpl_axis_signatures.html)"
   ]
  },
  {
   "cell_type": "code",
   "execution_count": 42,
   "metadata": {},
   "outputs": [
    {
     "data": {
      "text/html": [
       "<style  type=\"text/css\" >\n",
       "</style><table id=\"T_80977_\" ><thead>    <tr>        <th class=\"blank level0\" ></th>        <th class=\"col_heading level0 col0\" colspan=\"4\">messages_per_month</th>    </tr>    <tr>        <th class=\"blank level1\" ></th>        <th class=\"col_heading level1 col0\" >median</th>        <th class=\"col_heading level1 col1\" >mean</th>        <th class=\"col_heading level1 col2\" >var</th>        <th class=\"col_heading level1 col3\" >std</th>    </tr>    <tr>        <th class=\"index_name level0\" >tariff</th>        <th class=\"blank\" ></th>        <th class=\"blank\" ></th>        <th class=\"blank\" ></th>        <th class=\"blank\" ></th>    </tr></thead><tbody>\n",
       "                <tr>\n",
       "                        <th id=\"T_80977_level0_row0\" class=\"row_heading level0 row0\" >smart</th>\n",
       "                        <td id=\"T_80977_row0_col0\" class=\"data row0 col0\" >28.00</td>\n",
       "                        <td id=\"T_80977_row0_col1\" class=\"data row0 col1\" >33.37</td>\n",
       "                        <td id=\"T_80977_row0_col2\" class=\"data row0 col2\" >796.96</td>\n",
       "                        <td id=\"T_80977_row0_col3\" class=\"data row0 col3\" >28.23</td>\n",
       "            </tr>\n",
       "            <tr>\n",
       "                        <th id=\"T_80977_level0_row1\" class=\"row_heading level0 row1\" >ultra</th>\n",
       "                        <td id=\"T_80977_row1_col0\" class=\"data row1 col0\" >38.00</td>\n",
       "                        <td id=\"T_80977_row1_col1\" class=\"data row1 col1\" >49.31</td>\n",
       "                        <td id=\"T_80977_row1_col2\" class=\"data row1 col2\" >2285.42</td>\n",
       "                        <td id=\"T_80977_row1_col3\" class=\"data row1 col3\" >47.81</td>\n",
       "            </tr>\n",
       "    </tbody></table>"
      ],
      "text/plain": [
       "<pandas.io.formats.style.Styler at 0x7f970249b820>"
      ]
     },
     "execution_count": 42,
     "metadata": {},
     "output_type": "execute_result"
    }
   ],
   "source": [
    "df.groupby('tariff') \\\n",
    "            .agg({'messages_per_month':['median','mean','var','std']}) \\\n",
    "            .style.format('{:.2f}')"
   ]
  },
  {
   "cell_type": "code",
   "execution_count": 43,
   "metadata": {},
   "outputs": [
    {
     "data": {
      "text/plain": [
       "Text(0, 0.5, 'Частота отправки')"
      ]
     },
     "execution_count": 43,
     "metadata": {},
     "output_type": "execute_result"
    },
    {
     "data": {
      "image/png": "[encoded data removed]",
      "text/plain": [
       "<Figure size 432x288 with 1 Axes>"
      ]
     },
     "metadata": {
      "needs_background": "light"
     },
     "output_type": "display_data"
    }
   ],
   "source": [
    "fig, ax = plt.subplots()\n",
    "df[df['tariff'] == 'smart']['messages_per_month']\\\n",
    ".plot(kind='hist',\n",
    "      bins=10,\n",
    "      title='Smart\\nСМС в месяц')\n",
    "ax.set_xlabel('Кол-во СМС')\n",
    "ax.set_ylabel('Частота отправки')"
   ]
  },
  {
   "cell_type": "markdown",
   "metadata": {},
   "source": [
    "<b>Гистограмма скошена(разрыв слева)</b>"
   ]
  },
  {
   "cell_type": "code",
   "execution_count": 44,
   "metadata": {},
   "outputs": [
    {
     "data": {
      "text/plain": [
       "Text(0, 0.5, 'Частота отправки')"
      ]
     },
     "execution_count": 44,
     "metadata": {},
     "output_type": "execute_result"
    },
    {
     "data": {
      "image/png": "[encoded data removed]",
      "text/plain": [
       "<Figure size 432x288 with 1 Axes>"
      ]
     },
     "metadata": {
      "needs_background": "light"
     },
     "output_type": "display_data"
    }
   ],
   "source": [
    "fig, ax = plt.subplots()\n",
    "df[df['tariff'] == 'ultra']['messages_per_month']\\\n",
    ".plot(kind='hist',\n",
    "      bins=10,\n",
    "      title='Ultra\\nСМС в месяц')\n",
    "ax.set_xlabel('Кол-во СМС')\n",
    "ax.set_ylabel('Частота отправки')"
   ]
  },
  {
   "cell_type": "markdown",
   "metadata": {},
   "source": [
    "<b>Гистограмма скошена(разрыв слева)</b>"
   ]
  },
  {
   "cell_type": "markdown",
   "metadata": {},
   "source": [
    "Я щитаю нужно вернуть пейджеры, почему так мало смсочек?!??!!!"
   ]
  },
  {
   "cell_type": "code",
   "execution_count": 45,
   "metadata": {},
   "outputs": [
    {
     "data": {
      "text/html": [
       "<style  type=\"text/css\" >\n",
       "</style><table id=\"T_059fa_\" ><thead>    <tr>        <th class=\"blank level0\" ></th>        <th class=\"col_heading level0 col0\" colspan=\"4\">mb_used</th>    </tr>    <tr>        <th class=\"blank level1\" ></th>        <th class=\"col_heading level1 col0\" >median</th>        <th class=\"col_heading level1 col1\" >mean</th>        <th class=\"col_heading level1 col2\" >var</th>        <th class=\"col_heading level1 col3\" >std</th>    </tr>    <tr>        <th class=\"index_name level0\" >tariff</th>        <th class=\"blank\" ></th>        <th class=\"blank\" ></th>        <th class=\"blank\" ></th>        <th class=\"blank\" ></th>    </tr></thead><tbody>\n",
       "                <tr>\n",
       "                        <th id=\"T_059fa_level0_row0\" class=\"row_heading level0 row0\" >smart</th>\n",
       "                        <td id=\"T_059fa_row0_col0\" class=\"data row0 col0\" >16505.47</td>\n",
       "                        <td id=\"T_059fa_row0_col1\" class=\"data row0 col1\" >16201.12</td>\n",
       "                        <td id=\"T_059fa_row0_col2\" class=\"data row0 col2\" >34564843.48</td>\n",
       "                        <td id=\"T_059fa_row0_col3\" class=\"data row0 col3\" >5879.19</td>\n",
       "            </tr>\n",
       "            <tr>\n",
       "                        <th id=\"T_059fa_level0_row1\" class=\"row_heading level0 row1\" >ultra</th>\n",
       "                        <td id=\"T_059fa_row1_col0\" class=\"data row1 col0\" >19304.02</td>\n",
       "                        <td id=\"T_059fa_row1_col1\" class=\"data row1 col1\" >19449.06</td>\n",
       "                        <td id=\"T_059fa_row1_col2\" class=\"data row1 col2\" >102032129.46</td>\n",
       "                        <td id=\"T_059fa_row1_col3\" class=\"data row1 col3\" >10101.10</td>\n",
       "            </tr>\n",
       "    </tbody></table>"
      ],
      "text/plain": [
       "<pandas.io.formats.style.Styler at 0x7f97028485b0>"
      ]
     },
     "execution_count": 45,
     "metadata": {},
     "output_type": "execute_result"
    }
   ],
   "source": [
    "df.groupby('tariff') \\\n",
    "            .agg({'mb_used':['median','mean','var','std']}) \\\n",
    "            .style.format('{:.2f}')"
   ]
  },
  {
   "cell_type": "code",
   "execution_count": 46,
   "metadata": {},
   "outputs": [
    {
     "data": {
      "text/plain": [
       "Text(0, 0.5, 'Кол-во раз')"
      ]
     },
     "execution_count": 46,
     "metadata": {},
     "output_type": "execute_result"
    },
    {
     "data": {
      "image/png": "[encoded data removed]",
      "text/plain": [
       "<Figure size 432x288 with 1 Axes>"
      ]
     },
     "metadata": {
      "needs_background": "light"
     },
     "output_type": "display_data"
    }
   ],
   "source": [
    "fig, ax = plt.subplots()\n",
    "df[df['tariff'] == 'smart']['mb_used']\\\n",
    ".plot(kind='hist',\n",
    "      bins=10,\n",
    "      title='Smart\\nМБ в месяц')\n",
    "ax.set_xlabel('Кол-во МБ')\n",
    "ax.set_ylabel('Кол-во раз')"
   ]
  },
  {
   "cell_type": "markdown",
   "metadata": {},
   "source": [
    "<b>Нормальное распределение</b>"
   ]
  },
  {
   "cell_type": "code",
   "execution_count": 47,
   "metadata": {},
   "outputs": [
    {
     "data": {
      "text/plain": [
       "Text(0, 0.5, 'Кол-во раз')"
      ]
     },
     "execution_count": 47,
     "metadata": {},
     "output_type": "execute_result"
    },
    {
     "data": {
      "image/png": "[encoded data removed]",
      "text/plain": [
       "<Figure size 432x288 with 1 Axes>"
      ]
     },
     "metadata": {
      "needs_background": "light"
     },
     "output_type": "display_data"
    }
   ],
   "source": [
    "fig, ax = plt.subplots()\n",
    "df[df['tariff'] == 'ultra']['mb_used']\\\n",
    ".plot(kind='hist',\n",
    "      bins=10,\n",
    "      title='Ultra\\nМБ в месяц')\n",
    "ax.set_xlabel('Кол-во МБ')\n",
    "ax.set_ylabel('Кол-во раз')"
   ]
  },
  {
   "cell_type": "markdown",
   "metadata": {},
   "source": [
    "<b>Нормальное распределение</b>"
   ]
  },
  {
   "cell_type": "markdown",
   "metadata": {},
   "source": [
    "По гистограмме хорошо видно,если смотреть на общую картину, то пользователи в общем \"Ультра\" любят интернет побольше, чем \"Смартовики\", но вторые и за предел тарифа выходят чаще, у первых же чаще всего остаётся запас!"
   ]
  },
  {
   "cell_type": "markdown",
   "metadata": {},
   "source": [
    "<div class=\"alert alert-anger\">\n",
    "<font size=\"4\"><b>❌ Комментарий ревьюера</b></font>\n",
    "    <br /> \n",
    "    <font size=\"3\", color = \"black\">\n",
    "<br />Стат. анализ показателей выполнен, определены основные отличия в поведении клиентов, молодец\n",
    "                \n",
    "осталось выполнить условия проекта ...\n",
    "\n",
    "Шаг 3. Проанализируйте данные\n",
    "Опишите поведение клиентов оператора, исходя из выборки. Сколько минут разговора, сколько сообщений и какой объём интернет-трафика требуется пользователям каждого тарифа в месяц? Посчитайте среднее количество, дисперсию и стандартное отклонение. Постройте гистограммы. Опишите распределения.\n",
    "        \n",
    "__стоит добавить описание  для типов распределения данных на гистограммах__ нормальные, скошенные ?"
   ]
  },
  {
   "cell_type": "markdown",
   "metadata": {},
   "source": [
    "## Проверка гипотез\n",
    "\n",
    "     - средняя выручка пользователей тарифов «Ультра» и «Смарт» различаются;\n",
    "     - средняя выручка пользователей из Москвы отличается от выручки пользователей из других регионов.\n",
    "\n",
    "Пороговое значение alpha задайте самостоятельно.\n",
    "\n",
    "    Поясните: \n",
    "     - как вы формулировали нулевую и альтернативную гипотезы;\n",
    "     - какой критерий использовали для проверки гипотез и почему."
   ]
  },
  {
   "cell_type": "markdown",
   "metadata": {},
   "source": [
    "Функция для удаления выбросов"
   ]
  },
  {
   "cell_type": "code",
   "execution_count": 48,
   "metadata": {},
   "outputs": [],
   "source": [
    "def emissions(df, column, graphic=1, x = 10, y= 10):\n",
    "    q1 = df[column].quantile(0.25)\n",
    "    q3 = df[column].quantile(0.75)\n",
    "    iqr = q3 - q1\n",
    "    iqr_test = (df[column] >= (q1 - 1.5 * iqr)) & (df[column] <= (q3 + 1.5 * iqr))\n",
    "    if graphic == 1:\n",
    "        return df.loc[iqr_test].boxplot([column], figsize=(x,y))\n",
    "    else:\n",
    "        return df.loc[iqr_test]"
   ]
  },
  {
   "cell_type": "markdown",
   "metadata": {},
   "source": [
    "Так как выборки независимы друг от друга, будет использоваться t-test\n",
    "\n",
    "Гипотеза №1\n",
    "\n",
    "<b> Формулировка гипотез </b>\n",
    "\n",
    "H0: средняя выручка пользователей тарифов «Ультра» и «Смарт» <b>не</b> различаются\n",
    "\n",
    "H1: средняя выручка пользователей тарифов «Ультра» и «Смарт» различаются"
   ]
  },
  {
   "cell_type": "markdown",
   "metadata": {},
   "source": [
    "<div class=\"alert alert-success\">\n",
    "<font size=\"4\", color= \"seagreen\"><b>✔️ Комментарий ревьюера</b></font>\n",
    "    <br /> \n",
    "    <font size=\"3\", color = \"black\">\n",
    "<br /> гипотезы сформулированы верно"
   ]
  },
  {
   "cell_type": "code",
   "execution_count": 49,
   "metadata": {},
   "outputs": [
    {
     "data": {
      "text/html": [
       "<div>\n",
       "<style scoped>\n",
       "    .dataframe tbody tr th:only-of-type {\n",
       "        vertical-align: middle;\n",
       "    }\n",
       "\n",
       "    .dataframe tbody tr th {\n",
       "        vertical-align: top;\n",
       "    }\n",
       "\n",
       "    .dataframe thead th {\n",
       "        text-align: right;\n",
       "    }\n",
       "</style>\n",
       "<table border=\"1\" class=\"dataframe\">\n",
       "  <thead>\n",
       "    <tr style=\"text-align: right;\">\n",
       "      <th></th>\n",
       "      <th>user_id</th>\n",
       "      <th>month</th>\n",
       "      <th>minutes_per_month</th>\n",
       "      <th>calls_per_month</th>\n",
       "      <th>messages_per_month</th>\n",
       "      <th>mb_used</th>\n",
       "      <th>age</th>\n",
       "      <th>churn_date</th>\n",
       "      <th>city</th>\n",
       "      <th>first_name</th>\n",
       "      <th>...</th>\n",
       "      <th>tariff</th>\n",
       "      <th>messages_included</th>\n",
       "      <th>mb_per_month_included</th>\n",
       "      <th>minutes_included</th>\n",
       "      <th>rub_monthly_fee</th>\n",
       "      <th>rub_per_gb</th>\n",
       "      <th>rub_per_message</th>\n",
       "      <th>rub_per_minute</th>\n",
       "      <th>tariff_revenue</th>\n",
       "      <th>total_revenue</th>\n",
       "    </tr>\n",
       "  </thead>\n",
       "  <tbody>\n",
       "    <tr>\n",
       "      <th>0</th>\n",
       "      <td>1000</td>\n",
       "      <td>August</td>\n",
       "      <td>408.0</td>\n",
       "      <td>52.0</td>\n",
       "      <td>81.0</td>\n",
       "      <td>14055.93</td>\n",
       "      <td>52</td>\n",
       "      <td>NaT</td>\n",
       "      <td>Краснодар</td>\n",
       "      <td>Рафаил</td>\n",
       "      <td>...</td>\n",
       "      <td>ultra</td>\n",
       "      <td>1000</td>\n",
       "      <td>30720</td>\n",
       "      <td>3000</td>\n",
       "      <td>1950</td>\n",
       "      <td>150</td>\n",
       "      <td>1</td>\n",
       "      <td>1</td>\n",
       "      <td>0.0</td>\n",
       "      <td>1950.0</td>\n",
       "    </tr>\n",
       "    <tr>\n",
       "      <th>1</th>\n",
       "      <td>1000</td>\n",
       "      <td>December</td>\n",
       "      <td>333.0</td>\n",
       "      <td>46.0</td>\n",
       "      <td>70.0</td>\n",
       "      <td>9817.61</td>\n",
       "      <td>52</td>\n",
       "      <td>NaT</td>\n",
       "      <td>Краснодар</td>\n",
       "      <td>Рафаил</td>\n",
       "      <td>...</td>\n",
       "      <td>ultra</td>\n",
       "      <td>1000</td>\n",
       "      <td>30720</td>\n",
       "      <td>3000</td>\n",
       "      <td>1950</td>\n",
       "      <td>150</td>\n",
       "      <td>1</td>\n",
       "      <td>1</td>\n",
       "      <td>0.0</td>\n",
       "      <td>1950.0</td>\n",
       "    </tr>\n",
       "    <tr>\n",
       "      <th>2</th>\n",
       "      <td>1000</td>\n",
       "      <td>July</td>\n",
       "      <td>340.0</td>\n",
       "      <td>47.0</td>\n",
       "      <td>75.0</td>\n",
       "      <td>14003.64</td>\n",
       "      <td>52</td>\n",
       "      <td>NaT</td>\n",
       "      <td>Краснодар</td>\n",
       "      <td>Рафаил</td>\n",
       "      <td>...</td>\n",
       "      <td>ultra</td>\n",
       "      <td>1000</td>\n",
       "      <td>30720</td>\n",
       "      <td>3000</td>\n",
       "      <td>1950</td>\n",
       "      <td>150</td>\n",
       "      <td>1</td>\n",
       "      <td>1</td>\n",
       "      <td>0.0</td>\n",
       "      <td>1950.0</td>\n",
       "    </tr>\n",
       "    <tr>\n",
       "      <th>3</th>\n",
       "      <td>1000</td>\n",
       "      <td>June</td>\n",
       "      <td>172.0</td>\n",
       "      <td>43.0</td>\n",
       "      <td>60.0</td>\n",
       "      <td>23233.77</td>\n",
       "      <td>52</td>\n",
       "      <td>NaT</td>\n",
       "      <td>Краснодар</td>\n",
       "      <td>Рафаил</td>\n",
       "      <td>...</td>\n",
       "      <td>ultra</td>\n",
       "      <td>1000</td>\n",
       "      <td>30720</td>\n",
       "      <td>3000</td>\n",
       "      <td>1950</td>\n",
       "      <td>150</td>\n",
       "      <td>1</td>\n",
       "      <td>1</td>\n",
       "      <td>0.0</td>\n",
       "      <td>1950.0</td>\n",
       "    </tr>\n",
       "    <tr>\n",
       "      <th>4</th>\n",
       "      <td>1000</td>\n",
       "      <td>May</td>\n",
       "      <td>159.0</td>\n",
       "      <td>22.0</td>\n",
       "      <td>22.0</td>\n",
       "      <td>2253.49</td>\n",
       "      <td>52</td>\n",
       "      <td>NaT</td>\n",
       "      <td>Краснодар</td>\n",
       "      <td>Рафаил</td>\n",
       "      <td>...</td>\n",
       "      <td>ultra</td>\n",
       "      <td>1000</td>\n",
       "      <td>30720</td>\n",
       "      <td>3000</td>\n",
       "      <td>1950</td>\n",
       "      <td>150</td>\n",
       "      <td>1</td>\n",
       "      <td>1</td>\n",
       "      <td>0.0</td>\n",
       "      <td>1950.0</td>\n",
       "    </tr>\n",
       "  </tbody>\n",
       "</table>\n",
       "<p>5 rows × 22 columns</p>\n",
       "</div>"
      ],
      "text/plain": [
       "   user_id     month  minutes_per_month  calls_per_month  messages_per_month  \\\n",
       "0     1000    August              408.0             52.0                81.0   \n",
       "1     1000  December              333.0             46.0                70.0   \n",
       "2     1000      July              340.0             47.0                75.0   \n",
       "3     1000      June              172.0             43.0                60.0   \n",
       "4     1000       May              159.0             22.0                22.0   \n",
       "\n",
       "    mb_used  age churn_date       city first_name  ... tariff  \\\n",
       "0  14055.93   52        NaT  Краснодар     Рафаил  ...  ultra   \n",
       "1   9817.61   52        NaT  Краснодар     Рафаил  ...  ultra   \n",
       "2  14003.64   52        NaT  Краснодар     Рафаил  ...  ultra   \n",
       "3  23233.77   52        NaT  Краснодар     Рафаил  ...  ultra   \n",
       "4   2253.49   52        NaT  Краснодар     Рафаил  ...  ultra   \n",
       "\n",
       "  messages_included mb_per_month_included  minutes_included  rub_monthly_fee  \\\n",
       "0              1000                 30720              3000             1950   \n",
       "1              1000                 30720              3000             1950   \n",
       "2              1000                 30720              3000             1950   \n",
       "3              1000                 30720              3000             1950   \n",
       "4              1000                 30720              3000             1950   \n",
       "\n",
       "   rub_per_gb  rub_per_message  rub_per_minute  tariff_revenue  total_revenue  \n",
       "0         150                1               1             0.0         1950.0  \n",
       "1         150                1               1             0.0         1950.0  \n",
       "2         150                1               1             0.0         1950.0  \n",
       "3         150                1               1             0.0         1950.0  \n",
       "4         150                1               1             0.0         1950.0  \n",
       "\n",
       "[5 rows x 22 columns]"
      ]
     },
     "execution_count": 49,
     "metadata": {},
     "output_type": "execute_result"
    }
   ],
   "source": [
    "df.head()"
   ]
  },
  {
   "cell_type": "code",
   "execution_count": 50,
   "metadata": {},
   "outputs": [],
   "source": [
    "smart = df[df['tariff'] == 'smart']\n",
    "ultra = df[df['tariff'] == 'ultra']"
   ]
  },
  {
   "cell_type": "code",
   "execution_count": 51,
   "metadata": {},
   "outputs": [],
   "source": [
    "smart = emissions(smart, 'total_revenue', 0)\n",
    "smart = smart['total_revenue']"
   ]
  },
  {
   "cell_type": "code",
   "execution_count": 52,
   "metadata": {},
   "outputs": [],
   "source": [
    "ultra = emissions(ultra, 'total_revenue', 0)\n",
    "ultra = ultra['total_revenue']"
   ]
  },
  {
   "cell_type": "code",
   "execution_count": 53,
   "metadata": {},
   "outputs": [],
   "source": [
    "alpha = 0.05\n",
    "\n",
    "result = st.ttest_ind(smart, ultra)"
   ]
  },
  {
   "cell_type": "code",
   "execution_count": 54,
   "metadata": {},
   "outputs": [
    {
     "name": "stdout",
     "output_type": "stream",
     "text": [
      "p = 3.1080242236586082e-155\n",
      "Отвергаем нулевую гипотезу\n"
     ]
    }
   ],
   "source": [
    "print ('p =', result.pvalue)\n",
    "if (result.pvalue < alpha):\n",
    "    print('Отвергаем нулевую гипотезу')\n",
    "else:\n",
    "    print('Не отвергаем нулевую гипотезу')"
   ]
  },
  {
   "cell_type": "markdown",
   "metadata": {},
   "source": [
    "Между выборками есть большое различие"
   ]
  },
  {
   "cell_type": "markdown",
   "metadata": {},
   "source": [
    "Гипотеза №2\n",
    "\n",
    "<b> Формулировка гипотез </b>\n",
    "\n",
    "H0: средняя выручка пользователей из Москвы <b>не</b> отличается от выручки пользователей из других регионов\n",
    "\n",
    "H1: средняя выручка пользователей из Москвы отличается от выручки пользователей из других регионов"
   ]
  },
  {
   "cell_type": "code",
   "execution_count": 55,
   "metadata": {},
   "outputs": [
    {
     "data": {
      "text/plain": [
       "array(['Краснодар', 'Москва', 'Стерлитамак', 'Новокузнецк',\n",
       "       'Набережные Челны', 'Ульяновск', 'Челябинск', 'Пермь', 'Тюмень',\n",
       "       'Самара', 'Санкт-Петербург', 'Иваново', 'Чебоксары', 'Омск', 'Уфа',\n",
       "       'Томск', 'Чита', 'Мурманск', 'Петрозаводск', 'Тверь',\n",
       "       'Екатеринбург', 'Махачкала', 'Вологда', 'Череповец', 'Ярославль',\n",
       "       'Сочи', 'Хабаровск', 'Ставрополь', 'Рязань', 'Улан-Удэ', 'Тула',\n",
       "       'Саратов', 'Ростов-на-Дону', 'Казань', 'Иркутск', 'Курск',\n",
       "       'Калуга', 'Якутск', 'Астрахань', 'Химки', 'Владикавказ',\n",
       "       'Волгоград', 'Саранск', 'Ижевск', 'Новосибирск', 'Брянск',\n",
       "       'Тольятти', 'Нижний Тагил', 'Орёл', 'Белгород', 'Воронеж',\n",
       "       'Курган', 'Барнаул', 'Красноярск', 'Архангельск', 'Липецк',\n",
       "       'Кемерово', 'Киров', 'Сургут', 'Пенза', 'Волжский', 'Магнитогорск',\n",
       "       'Нижний Новгород', 'Кострома', 'Владивосток', 'Тамбов', 'Балашиха',\n",
       "       'Севастополь', 'Калининград', 'Оренбург', 'Смоленск',\n",
       "       'Нижневартовск', 'Владимир', 'Новороссийск', 'Грозный', 'Подольск'],\n",
       "      dtype=object)"
      ]
     },
     "execution_count": 55,
     "metadata": {},
     "output_type": "execute_result"
    }
   ],
   "source": [
    "df['city'].unique()"
   ]
  },
  {
   "cell_type": "code",
   "execution_count": 56,
   "metadata": {},
   "outputs": [],
   "source": [
    "df['region'] = np.where(df['city'] == 'Москва', 'Москва', 'Регион')"
   ]
  },
  {
   "cell_type": "code",
   "execution_count": 57,
   "metadata": {},
   "outputs": [],
   "source": [
    "moscow = df[df['region'] == 'Москва']\n",
    "region = df[df['region'] == 'Регион']"
   ]
  },
  {
   "cell_type": "code",
   "execution_count": 58,
   "metadata": {},
   "outputs": [],
   "source": [
    "moscow = emissions(moscow, 'total_revenue', 0)\n",
    "moscow = moscow['total_revenue']\n",
    "\n",
    "region = emissions(region, 'total_revenue', 0)\n",
    "region = region['total_revenue']"
   ]
  },
  {
   "cell_type": "code",
   "execution_count": 59,
   "metadata": {},
   "outputs": [],
   "source": [
    "result = st.ttest_ind(moscow, region)"
   ]
  },
  {
   "cell_type": "code",
   "execution_count": 60,
   "metadata": {},
   "outputs": [
    {
     "name": "stdout",
     "output_type": "stream",
     "text": [
      "p =  0.29144177734462323\n",
      "Не отвергаем нулевую гипотезу\n"
     ]
    }
   ],
   "source": [
    "print('p = ',result.pvalue)\n",
    "if (result.pvalue < alpha):\n",
    "    print('Отвергаем нулевую гипотезу')\n",
    "else:\n",
    "    print('Не отвергаем нулевую гипотезу')"
   ]
  },
  {
   "cell_type": "markdown",
   "metadata": {},
   "source": [
    "Сильных различий нет.\n",
    "\n",
    "Вероятность получения данного результата случайно = 27%"
   ]
  },
  {
   "cell_type": "markdown",
   "metadata": {},
   "source": [
    "<div class=\"alert alert-success\">\n",
    "<font size=\"4\", color= \"seagreen\"><b>✔️ Комментарий ревьюера в2</b></font>\n",
    "    <br /> \n",
    "    <font size=\"3\", color = \"black\">\n",
    "<br />\n",
    "       Полученное значение p-value говорит о том, что хотя оценки и неодинаковы, с вероятностью 29%  <b>такое или большее различие можно получить случайно </b> Это явно слишком большая вероятность, чтобы делать вывод о значимом различии между средними оценками пользователей двух платформ"
   ]
  },
  {
   "cell_type": "markdown",
   "metadata": {},
   "source": [
    "<b>Мне интересна одна делать, поэтому просто хочу посмотреть так ли это)</b>"
   ]
  },
  {
   "cell_type": "code",
   "execution_count": 61,
   "metadata": {},
   "outputs": [],
   "source": [
    "# SSO/SSU/USO/USU - Smart/Ultra SMS Overspending/Underspending\n",
    "smart = df[df['tariff'] == 'smart']\n",
    "ultra = df[df['tariff'] == 'ultra']\n",
    "SSU = (smart[smart['mb_used'] < 15360].reset_index(drop=True))\n",
    "SSO = (smart[smart['mb_used'] > 15360].reset_index(drop=True))\n",
    "USU = (ultra[ultra['mb_used'] < 30720].reset_index(drop=True))\n",
    "USO = (ultra[ultra['mb_used'] > 30720].reset_index(drop=True))\n",
    "\n",
    "SSU = SSU['messages_per_month']\n",
    "SSO = SSO['messages_per_month']\n",
    "USU = USU['messages_per_month']\n",
    "USO = USO['messages_per_month']"
   ]
  },
  {
   "cell_type": "markdown",
   "metadata": {},
   "source": [
    "H0: Кол-во отправленных смс в тарифах равны при превышении лимита трафика \n",
    "\n",
    "H1: Кол-во отправленных смс в тарифах не равны при превышении лимита трафика "
   ]
  },
  {
   "cell_type": "markdown",
   "metadata": {},
   "source": [
    "<div class=\"alert alert-danger\">\n",
    "<font size=\"4\"><b>❌ Комментарий ревьюера</b></font>\n",
    "    <br /> \n",
    "    <font size=\"3\", color = \"black\">\n",
    "<br />\n",
    "        \n",
    "        H0: Сообщения в тарфиах не зависят от кончившегося трафика\n",
    "\n",
    "        H1: Сообщения в тарифах зависят от кончившегося трафика\n",
    "        \n",
    "будет\n",
    "        \n",
    "        H0: кол-во отправленных смс в тарифах равны при превышении лимита трафика \n",
    "\n",
    "        H1: ... не равны\n",
    "        \n",
    "осталось ответить на вопрос — выборки независимы друг от друга ..."
   ]
  },
  {
   "cell_type": "code",
   "execution_count": 62,
   "metadata": {},
   "outputs": [
    {
     "name": "stdout",
     "output_type": "stream",
     "text": [
      "p =  1.3779346241007665e-05\n",
      "Отвергаем нулевую гипотезу\n",
      "p =  0.18184750418016674\n",
      "Не отвергаем нулевую гипотезу\n"
     ]
    }
   ],
   "source": [
    "#Для \"Смарт\"\n",
    "smart_result = st.ttest_ind(SSU, SSO)\n",
    "\n",
    "print('p = ',smart_result.pvalue)\n",
    "if (smart_result.pvalue < alpha):\n",
    "    print('Отвергаем нулевую гипотезу')\n",
    "else:\n",
    "    print('Не отвергаем нулевую гипотезу')\n",
    "    \n",
    "    \n",
    "#Для \"Ультра\"\n",
    "ultra_result = st.ttest_ind(USU, USO)\n",
    "\n",
    "print('p = ',ultra_result.pvalue)\n",
    "if (ultra_result.pvalue < alpha):\n",
    "    print('Отвергаем нулевую гипотезу')\n",
    "else:\n",
    "    print('Не отвергаем нулевую гипотезу')"
   ]
  },
  {
   "cell_type": "markdown",
   "metadata": {},
   "source": [
    "<b>У смарта как видно очень сильно смс коррелирует с кончившимся интернетом\n",
    "\n",
    "У ультра вообще такого нет.\n",
    "</b>"
   ]
  },
  {
   "cell_type": "markdown",
   "metadata": {},
   "source": [
    "<div class=\"alert alert-success\">\n",
    "<font size=\"4\", color= \"seagreen\"><b>✔️ Комментарий ревьюера</b></font>\n",
    "    <br /> \n",
    "    <font size=\"3\", color = \"black\">\n",
    "<br /> отличная самопроверка, молодец"
   ]
  },
  {
   "cell_type": "markdown",
   "metadata": {},
   "source": [
    "## Results"
   ]
  },
  {
   "cell_type": "markdown",
   "metadata": {},
   "source": [
    "<b>Люди на разных тарифах ведут себя по разному, это хорошо. Но в смарте клиенты часто переплачивают, они рано или поздно сменят тариф, либо поменяют оператора связи.</b>"
   ]
  },
  {
   "cell_type": "markdown",
   "metadata": {},
   "source": [
    " - СМС не нужны людям, их почти не используют, но есть деталь которую я заметил, в \"Смарте\" СМС шлют чаще те, кто дошёл до лимита своего трафика. Клиенты с тарифом \"Ультра\" таким не страдают.\n",
    " \n",
    " \n",
    " - Нет какой-то зависимости от региона оплаты, люди платят и в регионах и в Москве - одинаково.\n",
    " \n",
    " \n",
    " - Тарифы имеют значительные различия в прибыли.\n"
   ]
  },
  {
   "cell_type": "markdown",
   "metadata": {},
   "source": [
    "<b> Рекомендации оператору:</b>\n",
    "\n",
    " 1. Сделать ещё пару-тройку тарифов, для разных людей. Кому-то достаточно сидеть в соцсети/мессенджерах. Безлимит на соцсети вообще-то сейчас модно! Можно сделать настраиваемый тариф, чтобы каждый сам себе подбирал что ему нужно, удобно, а если ещё и всё правильно посчитать, то очень даже выгодно!\n",
    " \n",
    " 2. После первого пункта нужно что-то решить с СМС, уменьшить их у \"Ультра\" точно не помешает, 1000 врядли кому-то нужно, они ими не пользуются. Когда вы сами в последний раз предпочитали СМС, а не мессенджер?\n",
    " 4. Решить проблемы с БД, не хранить личные данные без шифровки..."
   ]
  },
  {
   "cell_type": "markdown",
   "metadata": {},
   "source": [
    "<div class=\"alert alert-success\">\n",
    "<font size=\"4\", color= \"seagreen\"><b>✔️ Комментарий ревьюера</b></font>\n",
    "    <br /> \n",
    "    <font size=\"3\", color = \"black\">\n",
    "<br /> Практически идеальный вывод, есть сравнения показателей, инсайты, анализ поведения клиентов, самое главное итоговая рекомендация бизнесу, молодец"
   ]
  },
  {
   "cell_type": "markdown",
   "metadata": {},
   "source": [
    "<div class=\"alert alert-success\">\n",
    "<font size=\"5\", color= \"seagreen\"><b>✔️ Комментарий ревьюера</b></font>\n",
    "    <br /> \n",
    "    <font size=\"3\", color = \"black\">\n",
    "<br />   \n",
    "Ты выполнил практически все пункты проекта, молодец! Проведен значительный объем исследования деятельности компании. Изящные приемы программирования радуют \n",
    "        \n",
    "Критические ❌ комментарии минимальны: \n",
    "        \n",
    " + при округлении,  \n",
    " + в расчетах выручки (функция) \n",
    " + в разделе расчета средних, std, var добавить описание  для типов распределения данных на гистограммах\n",
    " + перепроверить все числа итогового вывода после исправления неточностей\n",
    "\n",
    "Если будут вопросы про мои комментарии - задавай, если какой-то формат взаимодействия не устраивает или есть какие-то другие пожелания - пиши :)\n",
    "\n",
    "<div class=\"alert alert-success\">\n",
    "    <font size=\"5\", color= \"seagreen\"><b>Жду твой проект и твои комментарии 🤝</b></font><br />"
   ]
  },
  {
   "cell_type": "markdown",
   "metadata": {},
   "source": [
    "<div style=\"border:solid steelblue 3px; padding: 20px\">\n",
    "<font size=\"4\">🍕<b> Комментарий ревьюера</b></font>\n",
    "<br /> \n",
    "<font size=\"3\", color = \"black\">\n",
    "<br />\n",
    "<b>Для размышлений</b>\n",
    "    \n",
    "Общие рекомендации для формирования целей бизнес-исследований и выводов, для бизнеса м.б. полезна подобная информация:\n",
    "\n",
    "+ Расчет ср. длительности пользования тарифом, ultra vs smart по различным группам (объединение по месяцу, городу ...)\n",
    "\n",
    "+ Скорость оттока пользователей и связана она с тарифом\n",
    "\n",
    "+ <b>Ускоряется ли отток клиентов</b>\n",
    "            \n",
    "+ Скорость подключения клиентов по городам (в каких городах быстрее)\n",
    "\n",
    "+ Кто чем больше пользуется — распределение по возрастным группам (молодежь интернетом, более старшее поколение - звонками)\n",
    "            \n",
    "Окончательный вывод может стать диаметрально противоположным, если мы проведем пару-тройку дополнительных исследований, т.к. в их результатах могут быть скрыты те самые инсайты, за которые бизнес платит деньги аналитикам 😉 (необязательно)\n",
    "\n",
    "\n",
    "\n",
    "\n",
    "Интересные методы группировки и расчета суммы, средних и т.д.\n",
    "        \n",
    "[Подробное руководство по группировке и агрегированию с помощью pandas](https://dfedorov.spb.ru/pandas/%D0%9F%D0%BE%D0%B4%D1%80%D0%BE%D0%B1%D0%BD%D0%BE%D0%B5%20%D1%80%D1%83%D0%BA%D0%BE%D0%B2%D0%BE%D0%B4%D1%81%D1%82%D0%B2%D0%BE%20%D0%BF%D0%BE%20%D0%B3%D1%80%D1%83%D0%BF%D0%BF%D0%B8%D1%80%D0%BE%D0%B2%D0%BA%D0%B5%20%D0%B8%20%D0%B0%D0%B3%D1%80%D0%B5%D0%B3%D0%B8%D1%80%D0%BE%D0%B2%D0%B0%D0%BD%D0%B8%D1%8E%20%D1%81%20%D0%BF%D0%BE%D0%BC%D0%BE%D1%89%D1%8C%D1%8E%20pandas.html)\n",
    "\n",
    "<a href=\"https://mipt-stats.gitlab.io/courses/python/09_seaborn.html\">Библиотека Seaborn (источник Физтех)</a>\n",
    "    \n",
    "В помощь — как реализовать интерактивный план проекта вручную, смотри по <a href=\"https://stackoverflow.com/questions/49535664/how-to-hyperlink-in-a-jupyter-notebook/49717704\">ссылке</a>\n",
    "    \n",
    "пара ссылок и по разделам проекта можно будет переходить без пролистывания всего кода, особенно актуально на проектах длина которых >  10 страниц (и там где не установлен плагин TOC)\n",
    "\n",
    "[Примеры объединения таблиц](https://pandas.pydata.org/pandas-docs/stable/user_guide/merging.html)\n",
    "    \n",
    "    \n",
    "[Искусство статистики](https://www.mann-ivanov-ferber.ru/books/iskusstvo-statistiki/)\n",
    "    \n",
    "[Статистика и котики](http://info.levandovskiy.info/wp-content/uploads/2018/10/Statistika_i_kotiki.pdf)\n",
    "    \n",
    "    \n",
    "</div>"
   ]
  },
  {
   "cell_type": "code",
   "execution_count": 63,
   "metadata": {},
   "outputs": [
    {
     "data": {
      "text/plain": [
       "Index(['user_id', 'month', 'minutes_per_month', 'calls_per_month',\n",
       "       'messages_per_month', 'mb_used', 'age', 'churn_date', 'city',\n",
       "       'first_name', 'last_name', 'reg_date', 'tariff', 'messages_included',\n",
       "       'mb_per_month_included', 'minutes_included', 'rub_monthly_fee',\n",
       "       'rub_per_gb', 'rub_per_message', 'rub_per_minute', 'tariff_revenue',\n",
       "       'total_revenue', 'region'],\n",
       "      dtype='object')"
      ]
     },
     "execution_count": 63,
     "metadata": {},
     "output_type": "execute_result"
    }
   ],
   "source": [
    "# check\n",
    "df.columns"
   ]
  },
  {
   "cell_type": "markdown",
   "metadata": {},
   "source": [
    "## Бонус"
   ]
  },
  {
   "cell_type": "markdown",
   "metadata": {},
   "source": [
    "<div style=\"border:solid steelblue 3px; padding: 20px\">\n",
    "<font size=\"4\">🍕<b> Комментарий ревьюера в2</b></font>\n",
    "<br /> \n",
    "<font size=\"3\", color = \"black\">\n",
    "<br />\n",
    "вариант для сравнения тарифов, диаграмма размаха — основной тип графика для сравнения показателей описательной статистики"
   ]
  },
  {
   "cell_type": "code",
   "execution_count": 64,
   "metadata": {},
   "outputs": [],
   "source": [
    "import seaborn as sns\n",
    "import matplotlib.pyplot as plt"
   ]
  },
  {
   "cell_type": "code",
   "execution_count": 65,
   "metadata": {},
   "outputs": [],
   "source": [
    "revenue = df.copy()"
   ]
  },
  {
   "cell_type": "code",
   "execution_count": 66,
   "metadata": {},
   "outputs": [
    {
     "data": {
      "text/plain": [
       "Index(['user_id', 'month', 'minutes_per_month', 'calls_per_month',\n",
       "       'messages_per_month', 'mb_used', 'age', 'churn_date', 'city',\n",
       "       'first_name', 'last_name', 'reg_date', 'tariff', 'messages_included',\n",
       "       'mb_per_month_included', 'minutes_included', 'rub_monthly_fee',\n",
       "       'rub_per_gb', 'rub_per_message', 'rub_per_minute', 'tariff_revenue',\n",
       "       'total_revenue', 'region'],\n",
       "      dtype='object')"
      ]
     },
     "execution_count": 66,
     "metadata": {},
     "output_type": "execute_result"
    }
   ],
   "source": [
    "revenue.columns"
   ]
  },
  {
   "cell_type": "code",
   "execution_count": 67,
   "metadata": {},
   "outputs": [
    {
     "data": {
      "image/png": "[encoded data removed]",
      "text/plain": [
       "<Figure size 864x144 with 1 Axes>"
      ]
     },
     "metadata": {
      "needs_background": "light"
     },
     "output_type": "display_data"
    },
    {
     "data": {
      "image/png": "[encoded data removed]",
      "text/plain": [
       "<Figure size 864x144 with 1 Axes>"
      ]
     },
     "metadata": {
      "needs_background": "light"
     },
     "output_type": "display_data"
    },
    {
     "data": {
      "image/png": "[encoded data removed]",
      "text/plain": [
       "<Figure size 864x144 with 1 Axes>"
      ]
     },
     "metadata": {
      "needs_background": "light"
     },
     "output_type": "display_data"
    },
    {
     "data": {
      "image/png": "[encoded data removed]",
      "text/plain": [
       "<Figure size 864x144 with 1 Axes>"
      ]
     },
     "metadata": {
      "needs_background": "light"
     },
     "output_type": "display_data"
    },
    {
     "data": {
      "image/png": "[encoded data removed]",
      "text/plain": [
       "<Figure size 864x144 with 1 Axes>"
      ]
     },
     "metadata": {
      "needs_background": "light"
     },
     "output_type": "display_data"
    }
   ],
   "source": [
    "\n",
    "for column in ['minutes_per_month', 'calls_per_month',\n",
    "       'messages_per_month', 'mb_used',  'total_revenue']:    \n",
    "    g = sns.catplot(y='tariff', x=column, kind=\"box\", data= revenue, orient='h', palette = 'pastel')\n",
    "    g.fig.set_figwidth(12)\n",
    "    g.fig.set_figheight(2)\n",
    "#     g.set(xlim=(-50, None))"
   ]
  },
  {
   "cell_type": "code",
   "execution_count": 68,
   "metadata": {},
   "outputs": [],
   "source": [
    "revenue['month'] = revenue.month.replace({                           \n",
    "                            'August' : 8, 'December':12, 'July':7, 'June':6, 'May':5, 'November':11, 'October':10,\n",
    "       'September':9, 'April':4, 'February':2, 'January':1, 'March':3 })"
   ]
  },
  {
   "cell_type": "code",
   "execution_count": 69,
   "metadata": {},
   "outputs": [
    {
     "data": {
      "image/png": "[encoded data removed]",
      "text/plain": [
       "<Figure size 720x288 with 1 Axes>"
      ]
     },
     "metadata": {
      "needs_background": "light"
     },
     "output_type": "display_data"
    }
   ],
   "source": [
    "(revenue\n",
    " .pivot_table(index='tariff', columns='month', values='user_id', aggfunc='count')\n",
    " .T\n",
    " .plot(kind='line', figsize=(10,4),  style = 'o-')\n",
    ")\n",
    "plt.title('Рост кол-ва клиентов по 2-м тарифам за год'+ \"\\n\")\n",
    "plt.xlabel('Месяц')\n",
    "plt.ylabel('кол-во');"
   ]
  },
  {
   "cell_type": "code",
   "execution_count": 70,
   "metadata": {
    "colab": {
     "base_uri": "https://localhost:8080/",
     "height": 330
    },
    "id": "V4Vo2tdzJ3G6",
    "outputId": "9cfd13a1-35e4-4421-9f10-349b8932486b"
   },
   "outputs": [
    {
     "data": {
      "image/png": "[encoded data removed]",
      "text/plain": [
       "<Figure size 720x288 with 1 Axes>"
      ]
     },
     "metadata": {
      "needs_background": "light"
     },
     "output_type": "display_data"
    }
   ],
   "source": [
    "(revenue\n",
    " .pivot_table(index='tariff', columns='month', values='total_revenue', aggfunc='mean')\n",
    " .T\n",
    " .plot(kind='line', figsize=(10,4),  style = 'o-')\n",
    ")\n",
    "plt.title('Средняя ежемесячная выручка от одного абонента'+ \"\\n\")\n",
    "plt.xlabel('Месяц')\n",
    "plt.ylabel('Рубли');"
   ]
  },
  {
   "cell_type": "code",
   "execution_count": 71,
   "metadata": {},
   "outputs": [
    {
     "data": {
      "image/png": "[encoded data removed]",
      "text/plain": [
       "<Figure size 720x288 with 1 Axes>"
      ]
     },
     "metadata": {
      "needs_background": "light"
     },
     "output_type": "display_data"
    }
   ],
   "source": [
    "(revenue\n",
    " .pivot_table(index='tariff', columns='month', values='total_revenue', aggfunc='sum')\n",
    " .T\n",
    " .plot(kind='line', figsize=(10,4),  style = 'o-')\n",
    ")\n",
    "plt.title('Суммарная ежемесячная выручка по 2-м тарифам'+ \"\\n\")\n",
    "plt.xlabel('Месяц')\n",
    "plt.ylabel('Рубли');"
   ]
  },
  {
   "cell_type": "markdown",
   "metadata": {},
   "source": [
    "# выручка от смартов уже в два раза выше выручки от ультры, но есть опасность - убегут клиенты смарт от такой счастливой жизни к конкурентам :)"
   ]
  },
  {
   "cell_type": "code",
   "execution_count": 72,
   "metadata": {},
   "outputs": [
    {
     "name": "stdout",
     "output_type": "stream",
     "text": [
      "Кол-во клентов покинувших компанию за год 38\n",
      "Кол-во клентов покинувших компанию за посл. 4 мес. 2018 г. на двух тарифах 35\n",
      "%  от общего кол-ва всех клиентов, покинувших компанию за посл. 4 мес. 2018 г. на двух тарифах 92.1\n",
      "Распределение оттока клиентов на тарифах за посл. 4 мес. 2018 г.\n"
     ]
    },
    {
     "data": {
      "text/html": [
       "<div>\n",
       "<style scoped>\n",
       "    .dataframe tbody tr th:only-of-type {\n",
       "        vertical-align: middle;\n",
       "    }\n",
       "\n",
       "    .dataframe tbody tr th {\n",
       "        vertical-align: top;\n",
       "    }\n",
       "\n",
       "    .dataframe thead th {\n",
       "        text-align: right;\n",
       "    }\n",
       "</style>\n",
       "<table border=\"1\" class=\"dataframe\">\n",
       "  <thead>\n",
       "    <tr style=\"text-align: right;\">\n",
       "      <th></th>\n",
       "      <th>churn_date</th>\n",
       "    </tr>\n",
       "    <tr>\n",
       "      <th>tariff</th>\n",
       "      <th></th>\n",
       "    </tr>\n",
       "  </thead>\n",
       "  <tbody>\n",
       "    <tr>\n",
       "      <th>smart</th>\n",
       "      <td>22</td>\n",
       "    </tr>\n",
       "    <tr>\n",
       "      <th>ultra</th>\n",
       "      <td>13</td>\n",
       "    </tr>\n",
       "  </tbody>\n",
       "</table>\n",
       "</div>"
      ],
      "text/plain": [
       "        churn_date\n",
       "tariff            \n",
       "smart           22\n",
       "ultra           13"
      ]
     },
     "execution_count": 72,
     "metadata": {},
     "output_type": "execute_result"
    }
   ],
   "source": [
    "# на скорую руку\n",
    "try:\n",
    "    df_users = pd.read_csv('/datasets/users.csv')\n",
    "except:\n",
    "    df_users = pd.read_csv('users.csv')\n",
    "\n",
    "print ('Кол-во клентов покинувших компанию за год', df_users.churn_date.notna().sum())\n",
    "\n",
    "print ('Кол-во клентов покинувших компанию за посл. 4 мес. 2018 г. на двух тарифах',\n",
    "       df_users.query('churn_date > \"2018-09-25\"').churn_date.notna().sum()\n",
    "      )\n",
    "print ('%  от общего кол-ва всех клиентов, покинувших компанию за посл. 4 мес. 2018 г. на двух тарифах',\n",
    "    (df_users.query('churn_date > \"2018-09-25\"').churn_date.notna().sum()/df_users.churn_date.notna().sum()*100).round(1)\n",
    ")\n",
    "\n",
    "print ('Распределение оттока клиентов на тарифах за посл. 4 мес. 2018 г.')\n",
    "df_users.query('churn_date > \"2018-09-25\"').groupby('tariff')['churn_date'].count().to_frame()"
   ]
  },
  {
   "cell_type": "markdown",
   "metadata": {},
   "source": [
    "# отток усиливается?\n",
    "\n",
    "# мы не ограничены в рекомендациях бизнесу только двумя тарифами, если мы видим риски для бизнеса мы можем предложить и третий и четвертый вариант развития тарифной политики"
   ]
  },
  {
   "cell_type": "markdown",
   "metadata": {},
   "source": [
    "# SPASIBO!!!1 https://www.youtube.com/watch?v=ij5ceZSPmDA"
   ]
  },
  {
   "cell_type": "code",
   "execution_count": null,
   "metadata": {},
   "outputs": [],
   "source": []
  }
 ],
 "metadata": {
  "ExecuteTimeLog": [
   {
    "duration": 384,
    "start_time": "2022-06-25T12:25:33.790Z"
   },
   {
    "duration": 77,
    "start_time": "2022-06-25T12:27:33.258Z"
   },
   {
    "duration": 11,
    "start_time": "2022-06-25T12:27:57.269Z"
   },
   {
    "duration": 8,
    "start_time": "2022-06-25T12:28:02.388Z"
   },
   {
    "duration": 399,
    "start_time": "2022-06-25T12:28:26.578Z"
   },
   {
    "duration": 65,
    "start_time": "2022-06-25T12:28:28.286Z"
   },
   {
    "duration": 57,
    "start_time": "2022-06-25T12:28:52.776Z"
   },
   {
    "duration": 68,
    "start_time": "2022-06-25T12:39:38.755Z"
   },
   {
    "duration": 1630,
    "start_time": "2022-06-25T12:40:23.511Z"
   },
   {
    "duration": 467,
    "start_time": "2022-06-25T12:41:33.482Z"
   },
   {
    "duration": 479,
    "start_time": "2022-06-25T12:42:03.310Z"
   },
   {
    "duration": 60,
    "start_time": "2022-06-25T13:22:10.485Z"
   },
   {
    "duration": 98,
    "start_time": "2022-06-25T13:22:30.198Z"
   },
   {
    "duration": 710,
    "start_time": "2022-06-25T13:24:21.820Z"
   },
   {
    "duration": 56,
    "start_time": "2022-06-25T13:25:36.690Z"
   },
   {
    "duration": 522,
    "start_time": "2022-06-25T13:26:06.113Z"
   },
   {
    "duration": 566,
    "start_time": "2022-06-25T13:26:53.575Z"
   },
   {
    "duration": 458,
    "start_time": "2022-06-25T13:30:51.373Z"
   },
   {
    "duration": 519,
    "start_time": "2022-06-25T13:31:09.889Z"
   },
   {
    "duration": 6,
    "start_time": "2022-06-25T13:32:23.014Z"
   },
   {
    "duration": 1112,
    "start_time": "2022-06-25T13:32:51.204Z"
   },
   {
    "duration": 6,
    "start_time": "2022-06-25T13:33:00.333Z"
   },
   {
    "duration": 944,
    "start_time": "2022-06-25T13:34:02.389Z"
   },
   {
    "duration": 8,
    "start_time": "2022-06-25T13:34:12.147Z"
   },
   {
    "duration": 5,
    "start_time": "2022-06-25T13:34:23.391Z"
   },
   {
    "duration": 7,
    "start_time": "2022-06-25T13:35:40.121Z"
   },
   {
    "duration": 8,
    "start_time": "2022-06-25T13:37:20.183Z"
   },
   {
    "duration": 4,
    "start_time": "2022-06-25T13:37:39.492Z"
   },
   {
    "duration": 5,
    "start_time": "2022-06-25T13:38:04.741Z"
   },
   {
    "duration": 4,
    "start_time": "2022-06-25T13:38:25.300Z"
   },
   {
    "duration": 10,
    "start_time": "2022-06-25T13:38:57.189Z"
   },
   {
    "duration": 958,
    "start_time": "2022-06-25T13:39:18.530Z"
   },
   {
    "duration": 14,
    "start_time": "2022-06-25T13:39:28.879Z"
   },
   {
    "duration": 4,
    "start_time": "2022-06-25T13:42:50.028Z"
   },
   {
    "duration": 999,
    "start_time": "2022-06-25T13:45:13.883Z"
   },
   {
    "duration": 901,
    "start_time": "2022-06-25T13:45:19.446Z"
   },
   {
    "duration": 52,
    "start_time": "2022-06-25T13:45:38.287Z"
   },
   {
    "duration": 53,
    "start_time": "2022-06-25T13:45:59.885Z"
   },
   {
    "duration": 62,
    "start_time": "2022-06-25T13:46:16.683Z"
   },
   {
    "duration": 960,
    "start_time": "2022-06-25T15:09:38.289Z"
   },
   {
    "duration": 835,
    "start_time": "2022-06-25T15:09:53.373Z"
   },
   {
    "duration": 23,
    "start_time": "2022-06-25T15:10:09.270Z"
   },
   {
    "duration": 12,
    "start_time": "2022-06-25T15:10:26.128Z"
   },
   {
    "duration": 11,
    "start_time": "2022-06-25T15:10:52.812Z"
   },
   {
    "duration": 9,
    "start_time": "2022-06-25T15:12:05.657Z"
   },
   {
    "duration": 5,
    "start_time": "2022-06-25T15:12:54.832Z"
   },
   {
    "duration": 5,
    "start_time": "2022-06-25T15:13:06.527Z"
   },
   {
    "duration": 5,
    "start_time": "2022-06-25T15:13:12.877Z"
   },
   {
    "duration": 4,
    "start_time": "2022-06-25T15:13:28.185Z"
   },
   {
    "duration": 23,
    "start_time": "2022-06-25T15:14:15.919Z"
   },
   {
    "duration": 26,
    "start_time": "2022-06-25T15:14:26.368Z"
   },
   {
    "duration": 4,
    "start_time": "2022-06-25T15:15:10.636Z"
   },
   {
    "duration": 8,
    "start_time": "2022-06-25T15:16:06.277Z"
   },
   {
    "duration": 5,
    "start_time": "2022-06-25T15:16:38.217Z"
   },
   {
    "duration": 13,
    "start_time": "2022-06-25T15:16:40.623Z"
   },
   {
    "duration": 53,
    "start_time": "2022-06-25T15:16:54.223Z"
   },
   {
    "duration": 10,
    "start_time": "2022-06-25T15:17:07.079Z"
   },
   {
    "duration": 21,
    "start_time": "2022-06-25T15:17:13.951Z"
   },
   {
    "duration": 20,
    "start_time": "2022-06-25T15:17:26.576Z"
   },
   {
    "duration": 11,
    "start_time": "2022-06-25T15:18:24.300Z"
   },
   {
    "duration": 10,
    "start_time": "2022-06-25T15:18:36.603Z"
   },
   {
    "duration": 20,
    "start_time": "2022-06-25T15:18:48.872Z"
   },
   {
    "duration": 997,
    "start_time": "2022-06-25T15:19:08.563Z"
   },
   {
    "duration": 54,
    "start_time": "2022-06-25T15:19:34.090Z"
   },
   {
    "duration": 15,
    "start_time": "2022-06-25T15:20:22.912Z"
   },
   {
    "duration": 31,
    "start_time": "2022-06-25T15:21:19.857Z"
   },
   {
    "duration": 29,
    "start_time": "2022-06-25T15:21:52.536Z"
   },
   {
    "duration": 29,
    "start_time": "2022-06-25T15:22:00.489Z"
   },
   {
    "duration": 3,
    "start_time": "2022-06-25T15:22:19.212Z"
   },
   {
    "duration": 3,
    "start_time": "2022-06-25T15:22:20.700Z"
   },
   {
    "duration": 361,
    "start_time": "2022-06-25T15:22:24.603Z"
   },
   {
    "duration": 432,
    "start_time": "2022-06-25T15:22:26.191Z"
   },
   {
    "duration": 32,
    "start_time": "2022-06-25T15:22:30.909Z"
   },
   {
    "duration": 107,
    "start_time": "2022-06-25T15:22:47.687Z"
   },
   {
    "duration": 44,
    "start_time": "2022-06-25T15:23:24.412Z"
   },
   {
    "duration": 52,
    "start_time": "2022-06-25T15:23:55.459Z"
   },
   {
    "duration": 42,
    "start_time": "2022-06-25T15:24:07.678Z"
   },
   {
    "duration": 23,
    "start_time": "2022-06-25T15:25:50.793Z"
   },
   {
    "duration": 3,
    "start_time": "2022-06-25T15:26:22.223Z"
   },
   {
    "duration": 434,
    "start_time": "2022-06-25T15:28:29.231Z"
   },
   {
    "duration": 443,
    "start_time": "2022-06-25T15:29:06.235Z"
   },
   {
    "duration": 60,
    "start_time": "2022-06-25T15:32:51.289Z"
   },
   {
    "duration": 50,
    "start_time": "2022-06-25T15:33:07.931Z"
   },
   {
    "duration": 48,
    "start_time": "2022-06-25T15:33:17.225Z"
   },
   {
    "duration": 43,
    "start_time": "2022-06-25T15:33:25.775Z"
   },
   {
    "duration": 58,
    "start_time": "2022-06-25T15:33:38.683Z"
   },
   {
    "duration": 71,
    "start_time": "2022-06-25T15:35:12.747Z"
   },
   {
    "duration": 59,
    "start_time": "2022-06-25T15:35:38.543Z"
   },
   {
    "duration": 58,
    "start_time": "2022-06-25T15:36:46.559Z"
   },
   {
    "duration": 57,
    "start_time": "2022-06-27T10:47:32.049Z"
   },
   {
    "duration": 439,
    "start_time": "2022-06-27T10:47:39.514Z"
   },
   {
    "duration": 791,
    "start_time": "2022-06-27T10:47:41.286Z"
   },
   {
    "duration": 26,
    "start_time": "2022-06-27T10:47:44.530Z"
   },
   {
    "duration": 83,
    "start_time": "2022-06-27T10:47:48.218Z"
   },
   {
    "duration": 429,
    "start_time": "2022-06-27T10:49:03.504Z"
   },
   {
    "duration": 486,
    "start_time": "2022-06-27T10:49:04.945Z"
   },
   {
    "duration": 23,
    "start_time": "2022-06-27T10:49:06.368Z"
   },
   {
    "duration": 75,
    "start_time": "2022-06-27T10:49:07.096Z"
   },
   {
    "duration": 403,
    "start_time": "2022-06-27T10:49:24.440Z"
   },
   {
    "duration": 499,
    "start_time": "2022-06-27T10:49:25.386Z"
   },
   {
    "duration": 20,
    "start_time": "2022-06-27T10:49:26.536Z"
   },
   {
    "duration": 77,
    "start_time": "2022-06-27T10:49:27.566Z"
   },
   {
    "duration": 37,
    "start_time": "2022-06-27T11:10:38.847Z"
   },
   {
    "duration": 16,
    "start_time": "2022-06-27T11:10:50.580Z"
   },
   {
    "duration": 21,
    "start_time": "2022-06-27T11:11:04.841Z"
   },
   {
    "duration": 29,
    "start_time": "2022-06-27T11:11:18.543Z"
   },
   {
    "duration": 58,
    "start_time": "2022-06-27T11:14:58.991Z"
   },
   {
    "duration": 30,
    "start_time": "2022-06-27T11:15:00.868Z"
   },
   {
    "duration": 15,
    "start_time": "2022-06-27T11:16:44.044Z"
   },
   {
    "duration": 36,
    "start_time": "2022-06-27T11:16:46.026Z"
   },
   {
    "duration": 14,
    "start_time": "2022-06-27T11:17:03.049Z"
   },
   {
    "duration": 29,
    "start_time": "2022-06-27T11:17:06.264Z"
   },
   {
    "duration": 17,
    "start_time": "2022-06-27T11:17:48.264Z"
   },
   {
    "duration": 34,
    "start_time": "2022-06-27T11:17:49.888Z"
   },
   {
    "duration": 20,
    "start_time": "2022-06-27T11:21:54.816Z"
   },
   {
    "duration": 27,
    "start_time": "2022-06-27T11:21:57.946Z"
   },
   {
    "duration": 73,
    "start_time": "2022-06-27T11:25:05.396Z"
   },
   {
    "duration": 153,
    "start_time": "2022-06-27T11:25:08.842Z"
   },
   {
    "duration": 13,
    "start_time": "2022-06-27T11:25:13.282Z"
   },
   {
    "duration": 26,
    "start_time": "2022-06-27T11:25:21.378Z"
   },
   {
    "duration": 64,
    "start_time": "2022-06-27T11:26:04.698Z"
   },
   {
    "duration": 54,
    "start_time": "2022-06-27T11:26:30.506Z"
   },
   {
    "duration": 61,
    "start_time": "2022-06-27T11:26:43.681Z"
   },
   {
    "duration": 25,
    "start_time": "2022-06-27T11:27:00.424Z"
   },
   {
    "duration": 59,
    "start_time": "2022-06-27T11:27:04.022Z"
   },
   {
    "duration": 20,
    "start_time": "2022-06-27T11:27:12.815Z"
   },
   {
    "duration": 48,
    "start_time": "2022-06-27T11:27:16.739Z"
   },
   {
    "duration": 60,
    "start_time": "2022-06-27T11:27:23.120Z"
   },
   {
    "duration": 40,
    "start_time": "2022-06-27T11:32:04.265Z"
   },
   {
    "duration": 21,
    "start_time": "2022-06-27T11:33:49.452Z"
   },
   {
    "duration": 48,
    "start_time": "2022-06-27T11:34:04.075Z"
   },
   {
    "duration": 821,
    "start_time": "2022-06-27T11:34:13.404Z"
   },
   {
    "duration": 1686,
    "start_time": "2022-06-27T11:34:59.777Z"
   },
   {
    "duration": 882,
    "start_time": "2022-06-27T11:35:08.866Z"
   },
   {
    "duration": 76,
    "start_time": "2022-06-27T11:35:25.970Z"
   },
   {
    "duration": 17,
    "start_time": "2022-06-27T11:35:30.744Z"
   },
   {
    "duration": 40,
    "start_time": "2022-06-27T11:36:02.800Z"
   },
   {
    "duration": 35,
    "start_time": "2022-06-27T11:36:13.856Z"
   },
   {
    "duration": 37,
    "start_time": "2022-06-27T11:36:20.727Z"
   },
   {
    "duration": 33,
    "start_time": "2022-06-27T11:36:45.222Z"
   },
   {
    "duration": 44,
    "start_time": "2022-06-27T11:36:52.366Z"
   },
   {
    "duration": 20,
    "start_time": "2022-06-27T11:37:00.629Z"
   },
   {
    "duration": 14,
    "start_time": "2022-06-27T11:37:22.639Z"
   },
   {
    "duration": 16,
    "start_time": "2022-06-27T11:39:28.089Z"
   },
   {
    "duration": 40,
    "start_time": "2022-06-27T11:40:11.088Z"
   },
   {
    "duration": 38,
    "start_time": "2022-06-27T11:40:19.511Z"
   },
   {
    "duration": 18,
    "start_time": "2022-06-27T11:40:21.172Z"
   },
   {
    "duration": 39,
    "start_time": "2022-06-27T11:40:37.856Z"
   },
   {
    "duration": 17,
    "start_time": "2022-06-27T11:40:39.751Z"
   },
   {
    "duration": 14,
    "start_time": "2022-06-27T11:41:37.462Z"
   },
   {
    "duration": 31,
    "start_time": "2022-06-27T11:42:07.805Z"
   },
   {
    "duration": 28,
    "start_time": "2022-06-27T11:42:20.837Z"
   },
   {
    "duration": 25,
    "start_time": "2022-06-27T11:42:28.076Z"
   },
   {
    "duration": 14,
    "start_time": "2022-06-27T11:42:38.292Z"
   },
   {
    "duration": 28,
    "start_time": "2022-06-27T11:43:46.586Z"
   },
   {
    "duration": 86,
    "start_time": "2022-06-27T11:43:50.682Z"
   },
   {
    "duration": 60,
    "start_time": "2022-06-27T11:43:55.300Z"
   },
   {
    "duration": 54,
    "start_time": "2022-06-27T11:46:48.229Z"
   },
   {
    "duration": 44,
    "start_time": "2022-06-27T11:47:14.077Z"
   },
   {
    "duration": 96,
    "start_time": "2022-06-27T11:47:30.763Z"
   },
   {
    "duration": 14,
    "start_time": "2022-06-27T11:47:44.772Z"
   },
   {
    "duration": 43,
    "start_time": "2022-06-27T11:48:05.915Z"
   },
   {
    "duration": 58,
    "start_time": "2022-06-27T11:49:41.720Z"
   },
   {
    "duration": 88,
    "start_time": "2022-06-27T11:49:59.992Z"
   },
   {
    "duration": 38,
    "start_time": "2022-06-27T11:50:04.200Z"
   },
   {
    "duration": 53,
    "start_time": "2022-06-27T11:52:01.499Z"
   },
   {
    "duration": 86,
    "start_time": "2022-06-27T11:52:06.388Z"
   },
   {
    "duration": 36,
    "start_time": "2022-06-27T11:57:10.635Z"
   },
   {
    "duration": 9,
    "start_time": "2022-06-27T11:58:17.536Z"
   },
   {
    "duration": 9,
    "start_time": "2022-06-27T11:58:54.712Z"
   },
   {
    "duration": 10,
    "start_time": "2022-06-27T11:59:10.023Z"
   },
   {
    "duration": 9,
    "start_time": "2022-06-27T11:59:38.542Z"
   },
   {
    "duration": 7,
    "start_time": "2022-06-27T11:59:59.589Z"
   },
   {
    "duration": 42,
    "start_time": "2022-06-27T12:02:16.914Z"
   },
   {
    "duration": 6,
    "start_time": "2022-06-27T12:02:19.298Z"
   },
   {
    "duration": 31,
    "start_time": "2022-06-27T12:02:42.345Z"
   },
   {
    "duration": 1304,
    "start_time": "2022-06-27T12:03:34.007Z"
   },
   {
    "duration": 37,
    "start_time": "2022-06-27T12:03:41.823Z"
   },
   {
    "duration": 6,
    "start_time": "2022-06-27T12:03:43.519Z"
   },
   {
    "duration": 54,
    "start_time": "2022-06-27T12:05:09.390Z"
   },
   {
    "duration": 98,
    "start_time": "2022-06-27T12:06:11.484Z"
   },
   {
    "duration": 55,
    "start_time": "2022-06-27T12:06:42.586Z"
   },
   {
    "duration": 65,
    "start_time": "2022-06-27T12:07:02.554Z"
   },
   {
    "duration": 45,
    "start_time": "2022-06-27T12:07:19.585Z"
   },
   {
    "duration": 80,
    "start_time": "2022-06-27T12:08:07.870Z"
   },
   {
    "duration": 361,
    "start_time": "2022-06-27T12:08:23.670Z"
   },
   {
    "duration": 480,
    "start_time": "2022-06-27T12:08:24.561Z"
   },
   {
    "duration": 21,
    "start_time": "2022-06-27T12:08:25.958Z"
   },
   {
    "duration": 78,
    "start_time": "2022-06-27T12:08:27.080Z"
   },
   {
    "duration": 85,
    "start_time": "2022-06-27T12:10:00.482Z"
   },
   {
    "duration": 377,
    "start_time": "2022-06-27T12:10:12.380Z"
   },
   {
    "duration": 447,
    "start_time": "2022-06-27T12:10:12.820Z"
   },
   {
    "duration": 20,
    "start_time": "2022-06-27T12:10:13.445Z"
   },
   {
    "duration": 75,
    "start_time": "2022-06-27T12:10:14.003Z"
   },
   {
    "duration": 406,
    "start_time": "2022-06-27T12:10:30.891Z"
   },
   {
    "duration": 90,
    "start_time": "2022-06-27T12:12:24.241Z"
   },
   {
    "duration": 7,
    "start_time": "2022-06-27T12:12:31.823Z"
   },
   {
    "duration": 67,
    "start_time": "2022-06-27T12:13:34.521Z"
   },
   {
    "duration": 43,
    "start_time": "2022-06-27T12:13:41.645Z"
   },
   {
    "duration": 23,
    "start_time": "2022-06-27T12:13:51.948Z"
   },
   {
    "duration": 77,
    "start_time": "2022-06-27T12:14:32.133Z"
   },
   {
    "duration": 17,
    "start_time": "2022-06-27T12:14:35.134Z"
   },
   {
    "duration": 392,
    "start_time": "2022-06-27T12:14:43.571Z"
   },
   {
    "duration": 553,
    "start_time": "2022-06-27T12:14:44.084Z"
   },
   {
    "duration": 21,
    "start_time": "2022-06-27T12:14:44.834Z"
   },
   {
    "duration": 78,
    "start_time": "2022-06-27T12:14:46.002Z"
   },
   {
    "duration": 83,
    "start_time": "2022-06-27T12:14:49.594Z"
   },
   {
    "duration": 26,
    "start_time": "2022-06-27T12:14:50.979Z"
   },
   {
    "duration": 70,
    "start_time": "2022-06-27T12:16:44.001Z"
   },
   {
    "duration": 50,
    "start_time": "2022-06-27T12:16:50.408Z"
   },
   {
    "duration": 3,
    "start_time": "2022-06-27T12:16:54.822Z"
   },
   {
    "duration": 1286,
    "start_time": "2022-06-27T12:18:26.166Z"
   },
   {
    "duration": 6,
    "start_time": "2022-06-27T12:18:54.612Z"
   },
   {
    "duration": 101,
    "start_time": "2022-06-27T12:20:14.490Z"
   },
   {
    "duration": 45,
    "start_time": "2022-06-27T12:21:17.214Z"
   },
   {
    "duration": 225,
    "start_time": "2022-06-27T12:21:24.887Z"
   },
   {
    "duration": 42,
    "start_time": "2022-06-27T12:21:37.118Z"
   },
   {
    "duration": 78,
    "start_time": "2022-06-27T12:22:09.369Z"
   },
   {
    "duration": 39,
    "start_time": "2022-06-27T12:22:43.829Z"
   },
   {
    "duration": 4,
    "start_time": "2022-06-27T12:27:36.699Z"
   },
   {
    "duration": 4,
    "start_time": "2022-06-27T12:27:51.803Z"
   },
   {
    "duration": 4,
    "start_time": "2022-06-27T12:27:55.810Z"
   },
   {
    "duration": 10,
    "start_time": "2022-06-27T12:31:56.708Z"
   },
   {
    "duration": 10,
    "start_time": "2022-06-27T12:32:33.539Z"
   },
   {
    "duration": 52,
    "start_time": "2022-06-27T12:32:50.067Z"
   },
   {
    "duration": 9,
    "start_time": "2022-06-27T12:32:54.730Z"
   },
   {
    "duration": 11,
    "start_time": "2022-06-27T12:33:04.425Z"
   },
   {
    "duration": 4,
    "start_time": "2022-06-27T12:33:17.898Z"
   },
   {
    "duration": 9,
    "start_time": "2022-06-27T12:33:58.941Z"
   },
   {
    "duration": 5,
    "start_time": "2022-06-27T12:52:56.974Z"
   },
   {
    "duration": 9,
    "start_time": "2022-06-27T12:55:20.060Z"
   },
   {
    "duration": 9,
    "start_time": "2022-06-27T12:55:37.736Z"
   },
   {
    "duration": 8,
    "start_time": "2022-06-27T12:56:39.151Z"
   },
   {
    "duration": 7,
    "start_time": "2022-06-27T12:57:21.056Z"
   },
   {
    "duration": 4,
    "start_time": "2022-06-27T12:57:24.078Z"
   },
   {
    "duration": 8,
    "start_time": "2022-06-27T12:57:35.646Z"
   },
   {
    "duration": 9,
    "start_time": "2022-06-27T12:57:39.957Z"
   },
   {
    "duration": 5,
    "start_time": "2022-06-27T12:58:52.524Z"
   },
   {
    "duration": 4,
    "start_time": "2022-06-27T12:59:00.747Z"
   },
   {
    "duration": 5,
    "start_time": "2022-06-27T12:59:22.859Z"
   },
   {
    "duration": 5,
    "start_time": "2022-06-27T12:59:29.186Z"
   },
   {
    "duration": 5,
    "start_time": "2022-06-27T12:59:41.130Z"
   },
   {
    "duration": 1619,
    "start_time": "2022-06-27T13:01:02.958Z"
   },
   {
    "duration": 947,
    "start_time": "2022-06-27T13:01:16.607Z"
   },
   {
    "duration": 803,
    "start_time": "2022-06-27T13:01:33.303Z"
   },
   {
    "duration": 889,
    "start_time": "2022-06-27T13:01:46.461Z"
   },
   {
    "duration": 3,
    "start_time": "2022-06-27T13:02:24.341Z"
   },
   {
    "duration": 4,
    "start_time": "2022-06-27T13:02:34.623Z"
   },
   {
    "duration": 785,
    "start_time": "2022-06-27T13:02:56.988Z"
   },
   {
    "duration": 11,
    "start_time": "2022-06-27T13:03:15.651Z"
   },
   {
    "duration": 4,
    "start_time": "2022-06-27T13:03:32.196Z"
   },
   {
    "duration": 11,
    "start_time": "2022-06-27T13:03:58.902Z"
   },
   {
    "duration": 4,
    "start_time": "2022-06-27T13:04:04.778Z"
   },
   {
    "duration": 4,
    "start_time": "2022-06-27T13:04:35.048Z"
   },
   {
    "duration": 5,
    "start_time": "2022-06-27T13:05:40.295Z"
   },
   {
    "duration": 43,
    "start_time": "2022-06-27T13:45:55.353Z"
   },
   {
    "duration": 5,
    "start_time": "2022-06-27T13:45:58.703Z"
   },
   {
    "duration": 5,
    "start_time": "2022-06-27T13:49:51.473Z"
   },
   {
    "duration": 55,
    "start_time": "2022-06-28T14:52:18.474Z"
   },
   {
    "duration": 367,
    "start_time": "2022-06-28T14:52:32.770Z"
   },
   {
    "duration": 726,
    "start_time": "2022-06-28T14:52:33.142Z"
   },
   {
    "duration": 21,
    "start_time": "2022-06-28T14:52:34.703Z"
   },
   {
    "duration": 73,
    "start_time": "2022-06-28T14:52:36.023Z"
   },
   {
    "duration": 81,
    "start_time": "2022-06-28T14:52:36.910Z"
   },
   {
    "duration": 55,
    "start_time": "2022-06-28T14:52:48.622Z"
   },
   {
    "duration": 391,
    "start_time": "2022-06-28T14:59:05.243Z"
   },
   {
    "duration": 440,
    "start_time": "2022-06-28T14:59:05.740Z"
   },
   {
    "duration": 22,
    "start_time": "2022-06-28T14:59:06.483Z"
   },
   {
    "duration": 70,
    "start_time": "2022-06-28T14:59:07.786Z"
   },
   {
    "duration": 83,
    "start_time": "2022-06-28T14:59:14.178Z"
   },
   {
    "duration": 101,
    "start_time": "2022-06-28T15:07:17.652Z"
   },
   {
    "duration": 62,
    "start_time": "2022-06-28T15:07:23.587Z"
   },
   {
    "duration": 116,
    "start_time": "2022-06-28T15:07:31.825Z"
   },
   {
    "duration": 40,
    "start_time": "2022-06-28T15:07:40.176Z"
   },
   {
    "duration": 51,
    "start_time": "2022-06-28T15:07:45.034Z"
   },
   {
    "duration": 7,
    "start_time": "2022-06-28T15:07:49.705Z"
   },
   {
    "duration": 6,
    "start_time": "2022-06-28T15:08:14.295Z"
   },
   {
    "duration": 5,
    "start_time": "2022-06-28T15:08:28.480Z"
   },
   {
    "duration": 5,
    "start_time": "2022-06-28T15:08:48.990Z"
   },
   {
    "duration": 86,
    "start_time": "2022-06-28T15:10:00.070Z"
   },
   {
    "duration": 441,
    "start_time": "2022-06-28T15:10:12.396Z"
   },
   {
    "duration": 452,
    "start_time": "2022-06-28T15:10:12.872Z"
   },
   {
    "duration": 21,
    "start_time": "2022-06-28T15:10:13.374Z"
   },
   {
    "duration": 70,
    "start_time": "2022-06-28T15:10:14.293Z"
   },
   {
    "duration": 91,
    "start_time": "2022-06-28T15:10:15.220Z"
   },
   {
    "duration": 6,
    "start_time": "2022-06-28T15:10:38.283Z"
   },
   {
    "duration": 60,
    "start_time": "2022-06-28T15:11:08.764Z"
   },
   {
    "duration": 11,
    "start_time": "2022-06-28T15:11:21.228Z"
   },
   {
    "duration": 6,
    "start_time": "2022-06-28T15:11:54.577Z"
   },
   {
    "duration": 416,
    "start_time": "2022-06-28T15:12:27.933Z"
   },
   {
    "duration": 427,
    "start_time": "2022-06-28T15:12:28.487Z"
   },
   {
    "duration": 21,
    "start_time": "2022-06-28T15:12:28.916Z"
   },
   {
    "duration": 89,
    "start_time": "2022-06-28T15:12:29.245Z"
   },
   {
    "duration": 84,
    "start_time": "2022-06-28T15:12:29.839Z"
   },
   {
    "duration": 6,
    "start_time": "2022-06-28T15:12:33.749Z"
   },
   {
    "duration": 69,
    "start_time": "2022-06-28T15:20:58.690Z"
   },
   {
    "duration": 13,
    "start_time": "2022-06-28T15:21:35.771Z"
   },
   {
    "duration": 15,
    "start_time": "2022-06-28T15:22:03.805Z"
   },
   {
    "duration": 9,
    "start_time": "2022-06-28T15:22:16.660Z"
   },
   {
    "duration": 9,
    "start_time": "2022-06-28T15:23:11.739Z"
   },
   {
    "duration": 25,
    "start_time": "2022-06-28T15:23:54.810Z"
   },
   {
    "duration": 10,
    "start_time": "2022-06-28T15:25:25.413Z"
   },
   {
    "duration": 9,
    "start_time": "2022-06-28T15:26:25.684Z"
   },
   {
    "duration": 11,
    "start_time": "2022-06-28T15:26:37.430Z"
   },
   {
    "duration": 9,
    "start_time": "2022-06-28T15:27:59.233Z"
   },
   {
    "duration": 9,
    "start_time": "2022-06-28T15:28:21.581Z"
   },
   {
    "duration": 10,
    "start_time": "2022-06-28T15:29:37.437Z"
   },
   {
    "duration": 8,
    "start_time": "2022-06-28T15:29:51.917Z"
   },
   {
    "duration": 73,
    "start_time": "2022-06-28T15:30:56.436Z"
   },
   {
    "duration": 9,
    "start_time": "2022-06-28T15:31:01.075Z"
   },
   {
    "duration": 9,
    "start_time": "2022-06-28T15:38:37.944Z"
   },
   {
    "duration": 7,
    "start_time": "2022-06-28T15:39:19.692Z"
   },
   {
    "duration": 8,
    "start_time": "2022-06-28T15:39:25.739Z"
   },
   {
    "duration": 10,
    "start_time": "2022-06-28T15:39:45.315Z"
   },
   {
    "duration": 12,
    "start_time": "2022-06-28T15:39:48.900Z"
   },
   {
    "duration": 7,
    "start_time": "2022-06-28T15:39:54.227Z"
   },
   {
    "duration": 9,
    "start_time": "2022-06-28T15:40:01.425Z"
   },
   {
    "duration": 18,
    "start_time": "2022-06-28T15:41:28.233Z"
   },
   {
    "duration": 38,
    "start_time": "2022-06-28T15:42:17.134Z"
   },
   {
    "duration": 8,
    "start_time": "2022-06-28T15:42:31.406Z"
   },
   {
    "duration": 24179,
    "start_time": "2022-06-28T15:44:10.676Z"
   },
   {
    "duration": 9,
    "start_time": "2022-06-28T15:44:49.602Z"
   },
   {
    "duration": 382,
    "start_time": "2022-06-28T15:47:53.765Z"
   },
   {
    "duration": 453,
    "start_time": "2022-06-28T15:47:54.182Z"
   },
   {
    "duration": 21,
    "start_time": "2022-06-28T15:47:54.666Z"
   },
   {
    "duration": 71,
    "start_time": "2022-06-28T15:47:55.147Z"
   },
   {
    "duration": 667,
    "start_time": "2022-06-28T15:47:55.638Z"
   },
   {
    "duration": 117,
    "start_time": "2022-06-28T15:48:02.421Z"
   },
   {
    "duration": 3,
    "start_time": "2022-06-28T15:48:09.788Z"
   },
   {
    "duration": 55,
    "start_time": "2022-06-28T15:49:37.626Z"
   },
   {
    "duration": 5,
    "start_time": "2022-06-28T15:49:44.026Z"
   },
   {
    "duration": 110,
    "start_time": "2022-06-28T15:50:21.994Z"
   },
   {
    "duration": 83,
    "start_time": "2022-06-28T15:50:40.624Z"
   },
   {
    "duration": 67,
    "start_time": "2022-06-28T15:50:55.816Z"
   },
   {
    "duration": 43,
    "start_time": "2022-06-28T15:51:07.295Z"
   },
   {
    "duration": 85,
    "start_time": "2022-06-28T15:51:11.535Z"
   },
   {
    "duration": 49,
    "start_time": "2022-06-28T15:51:25.927Z"
   },
   {
    "duration": 50,
    "start_time": "2022-06-28T15:51:33.208Z"
   },
   {
    "duration": 84,
    "start_time": "2022-06-28T15:51:45.510Z"
   },
   {
    "duration": 43,
    "start_time": "2022-06-28T15:51:57.526Z"
   },
   {
    "duration": 53,
    "start_time": "2022-06-28T15:52:02.465Z"
   },
   {
    "duration": 80,
    "start_time": "2022-06-28T15:52:10.700Z"
   },
   {
    "duration": 60,
    "start_time": "2022-06-28T15:52:20.045Z"
   },
   {
    "duration": 45,
    "start_time": "2022-06-28T15:52:36.604Z"
   },
   {
    "duration": 78,
    "start_time": "2022-06-28T15:52:44.219Z"
   },
   {
    "duration": 1360,
    "start_time": "2022-06-28T16:05:38.236Z"
   },
   {
    "duration": 540,
    "start_time": "2022-06-28T16:05:39.598Z"
   },
   {
    "duration": 21,
    "start_time": "2022-06-28T16:05:40.141Z"
   },
   {
    "duration": 87,
    "start_time": "2022-06-28T16:05:40.164Z"
   },
   {
    "duration": 102,
    "start_time": "2022-06-28T16:05:40.253Z"
   },
   {
    "duration": 133,
    "start_time": "2022-06-28T16:06:40.006Z"
   },
   {
    "duration": 3,
    "start_time": "2022-06-28T16:09:11.570Z"
   },
   {
    "duration": 403,
    "start_time": "2022-06-28T16:09:12.124Z"
   },
   {
    "duration": 20,
    "start_time": "2022-06-28T16:09:12.611Z"
   },
   {
    "duration": 72,
    "start_time": "2022-06-28T16:09:13.162Z"
   },
   {
    "duration": 74,
    "start_time": "2022-06-28T16:09:13.706Z"
   },
   {
    "duration": 32,
    "start_time": "2022-06-28T16:09:15.281Z"
   },
   {
    "duration": 41,
    "start_time": "2022-06-28T16:10:29.224Z"
   },
   {
    "duration": 12,
    "start_time": "2022-06-28T16:11:17.327Z"
   },
   {
    "duration": 12,
    "start_time": "2022-06-28T16:11:20.974Z"
   },
   {
    "duration": 15,
    "start_time": "2022-06-28T16:11:39.750Z"
   },
   {
    "duration": 12,
    "start_time": "2022-06-28T16:11:54.626Z"
   },
   {
    "duration": 63,
    "start_time": "2022-06-28T16:18:34.327Z"
   },
   {
    "duration": 9,
    "start_time": "2022-06-28T16:18:36.543Z"
   },
   {
    "duration": 73,
    "start_time": "2022-06-28T16:20:25.189Z"
   },
   {
    "duration": 78,
    "start_time": "2022-06-28T16:21:19.284Z"
   },
   {
    "duration": 8,
    "start_time": "2022-06-28T16:21:19.675Z"
   },
   {
    "duration": 80,
    "start_time": "2022-06-28T16:21:20.633Z"
   },
   {
    "duration": 31,
    "start_time": "2022-06-28T16:21:40.186Z"
   },
   {
    "duration": 33,
    "start_time": "2022-06-28T16:22:54.408Z"
   },
   {
    "duration": 8,
    "start_time": "2022-06-28T16:23:01.567Z"
   },
   {
    "duration": 56,
    "start_time": "2022-06-29T15:28:43.670Z"
   },
   {
    "duration": 6,
    "start_time": "2022-06-29T15:28:49.911Z"
   },
   {
    "duration": 5,
    "start_time": "2022-06-29T15:28:52.238Z"
   },
   {
    "duration": 6,
    "start_time": "2022-06-29T15:29:09.694Z"
   },
   {
    "duration": 1234,
    "start_time": "2022-06-29T15:29:26.263Z"
   },
   {
    "duration": 1327,
    "start_time": "2022-06-29T15:29:27.784Z"
   },
   {
    "duration": 20,
    "start_time": "2022-06-29T15:29:29.113Z"
   },
   {
    "duration": 67,
    "start_time": "2022-06-29T15:29:29.509Z"
   },
   {
    "duration": 85,
    "start_time": "2022-06-29T15:29:30.117Z"
   },
   {
    "duration": 59,
    "start_time": "2022-06-29T15:29:31.135Z"
   },
   {
    "duration": 61,
    "start_time": "2022-06-29T15:29:33.205Z"
   },
   {
    "duration": 8,
    "start_time": "2022-06-29T15:29:33.709Z"
   },
   {
    "duration": 38,
    "start_time": "2022-06-29T15:29:35.085Z"
   },
   {
    "duration": 90,
    "start_time": "2022-06-29T15:29:36.501Z"
   },
   {
    "duration": 7,
    "start_time": "2022-06-29T15:29:59.245Z"
   },
   {
    "duration": 46,
    "start_time": "2022-06-29T15:31:16.476Z"
   },
   {
    "duration": 47,
    "start_time": "2022-06-29T15:32:02.265Z"
   },
   {
    "duration": 50,
    "start_time": "2022-06-29T15:32:31.009Z"
   },
   {
    "duration": 23,
    "start_time": "2022-06-29T15:33:51.061Z"
   },
   {
    "duration": 7,
    "start_time": "2022-06-29T15:34:06.124Z"
   },
   {
    "duration": 7,
    "start_time": "2022-06-29T15:34:20.030Z"
   },
   {
    "duration": 11,
    "start_time": "2022-06-29T15:34:35.277Z"
   },
   {
    "duration": 7,
    "start_time": "2022-06-29T15:34:49.292Z"
   },
   {
    "duration": 52,
    "start_time": "2022-06-29T15:36:01.393Z"
   },
   {
    "duration": 27,
    "start_time": "2022-06-29T15:38:32.821Z"
   },
   {
    "duration": 8,
    "start_time": "2022-06-29T15:38:42.861Z"
   },
   {
    "duration": 8,
    "start_time": "2022-06-29T15:57:36.924Z"
   },
   {
    "duration": 9,
    "start_time": "2022-06-29T15:57:45.340Z"
   },
   {
    "duration": 17,
    "start_time": "2022-06-29T15:57:53.734Z"
   },
   {
    "duration": 14,
    "start_time": "2022-06-29T15:59:50.426Z"
   },
   {
    "duration": 15,
    "start_time": "2022-06-29T16:00:00.248Z"
   },
   {
    "duration": 16,
    "start_time": "2022-06-29T16:00:58.350Z"
   },
   {
    "duration": 16,
    "start_time": "2022-06-29T16:01:07.208Z"
   },
   {
    "duration": 18,
    "start_time": "2022-06-29T16:02:18.158Z"
   },
   {
    "duration": 19,
    "start_time": "2022-06-29T16:02:25.576Z"
   },
   {
    "duration": 1101,
    "start_time": "2022-06-29T16:02:36.988Z"
   },
   {
    "duration": 489,
    "start_time": "2022-06-29T16:02:38.091Z"
   },
   {
    "duration": 20,
    "start_time": "2022-06-29T16:02:38.582Z"
   },
   {
    "duration": 69,
    "start_time": "2022-06-29T16:02:38.605Z"
   },
   {
    "duration": 81,
    "start_time": "2022-06-29T16:02:39.068Z"
   },
   {
    "duration": 67,
    "start_time": "2022-06-29T16:02:40.194Z"
   },
   {
    "duration": 62,
    "start_time": "2022-06-29T16:02:41.682Z"
   },
   {
    "duration": 8,
    "start_time": "2022-06-29T16:02:42.098Z"
   },
   {
    "duration": 38,
    "start_time": "2022-06-29T16:02:42.545Z"
   },
   {
    "duration": 8,
    "start_time": "2022-06-29T16:02:42.987Z"
   },
   {
    "duration": 46,
    "start_time": "2022-06-29T16:02:43.466Z"
   },
   {
    "duration": 23,
    "start_time": "2022-06-29T16:02:43.914Z"
   },
   {
    "duration": 7,
    "start_time": "2022-06-29T16:02:44.514Z"
   },
   {
    "duration": 53,
    "start_time": "2022-06-29T16:02:44.957Z"
   },
   {
    "duration": 26,
    "start_time": "2022-06-29T16:02:45.426Z"
   },
   {
    "duration": 8,
    "start_time": "2022-06-29T16:02:45.941Z"
   },
   {
    "duration": 16,
    "start_time": "2022-06-29T16:02:46.826Z"
   },
   {
    "duration": 15,
    "start_time": "2022-06-29T16:02:47.283Z"
   },
   {
    "duration": 20,
    "start_time": "2022-06-29T16:04:33.296Z"
   },
   {
    "duration": 101,
    "start_time": "2022-06-29T16:06:11.982Z"
   },
   {
    "duration": 9,
    "start_time": "2022-06-29T16:06:17.653Z"
   },
   {
    "duration": 1040,
    "start_time": "2022-06-29T16:07:41.289Z"
   },
   {
    "duration": 505,
    "start_time": "2022-06-29T16:07:42.331Z"
   },
   {
    "duration": 19,
    "start_time": "2022-06-29T16:07:42.838Z"
   },
   {
    "duration": 79,
    "start_time": "2022-06-29T16:07:42.859Z"
   },
   {
    "duration": 81,
    "start_time": "2022-06-29T16:07:43.269Z"
   },
   {
    "duration": 64,
    "start_time": "2022-06-29T16:07:44.401Z"
   },
   {
    "duration": 64,
    "start_time": "2022-06-29T16:07:45.888Z"
   },
   {
    "duration": 9,
    "start_time": "2022-06-29T16:07:46.321Z"
   },
   {
    "duration": 38,
    "start_time": "2022-06-29T16:07:46.754Z"
   },
   {
    "duration": 8,
    "start_time": "2022-06-29T16:07:47.195Z"
   },
   {
    "duration": 48,
    "start_time": "2022-06-29T16:07:47.625Z"
   },
   {
    "duration": 25,
    "start_time": "2022-06-29T16:07:48.033Z"
   },
   {
    "duration": 7,
    "start_time": "2022-06-29T16:07:48.533Z"
   },
   {
    "duration": 54,
    "start_time": "2022-06-29T16:07:48.984Z"
   },
   {
    "duration": 27,
    "start_time": "2022-06-29T16:07:49.425Z"
   },
   {
    "duration": 8,
    "start_time": "2022-06-29T16:07:49.936Z"
   },
   {
    "duration": 15,
    "start_time": "2022-06-29T16:07:50.736Z"
   },
   {
    "duration": 18,
    "start_time": "2022-06-29T16:07:51.154Z"
   },
   {
    "duration": 21,
    "start_time": "2022-06-29T16:07:51.749Z"
   },
   {
    "duration": 23,
    "start_time": "2022-06-29T16:07:52.270Z"
   },
   {
    "duration": 9,
    "start_time": "2022-06-29T16:09:03.152Z"
   },
   {
    "duration": 1054,
    "start_time": "2022-06-29T16:14:02.305Z"
   },
   {
    "duration": 519,
    "start_time": "2022-06-29T16:14:03.361Z"
   },
   {
    "duration": 19,
    "start_time": "2022-06-29T16:14:03.882Z"
   },
   {
    "duration": 71,
    "start_time": "2022-06-29T16:14:03.903Z"
   },
   {
    "duration": 80,
    "start_time": "2022-06-29T16:14:04.342Z"
   },
   {
    "duration": 58,
    "start_time": "2022-06-29T16:14:05.385Z"
   },
   {
    "duration": 64,
    "start_time": "2022-06-29T16:14:06.614Z"
   },
   {
    "duration": 8,
    "start_time": "2022-06-29T16:14:07.023Z"
   },
   {
    "duration": 37,
    "start_time": "2022-06-29T16:14:07.571Z"
   },
   {
    "duration": 11,
    "start_time": "2022-06-29T16:14:08.018Z"
   },
   {
    "duration": 45,
    "start_time": "2022-06-29T16:14:08.455Z"
   },
   {
    "duration": 23,
    "start_time": "2022-06-29T16:14:08.926Z"
   },
   {
    "duration": 8,
    "start_time": "2022-06-29T16:14:09.414Z"
   },
   {
    "duration": 55,
    "start_time": "2022-06-29T16:14:09.807Z"
   },
   {
    "duration": 28,
    "start_time": "2022-06-29T16:14:10.237Z"
   },
   {
    "duration": 7,
    "start_time": "2022-06-29T16:14:10.622Z"
   },
   {
    "duration": 15,
    "start_time": "2022-06-29T16:14:11.520Z"
   },
   {
    "duration": 18,
    "start_time": "2022-06-29T16:14:12.270Z"
   },
   {
    "duration": 21,
    "start_time": "2022-06-29T16:14:12.952Z"
   },
   {
    "duration": 30,
    "start_time": "2022-06-29T16:14:13.655Z"
   },
   {
    "duration": 8,
    "start_time": "2022-06-29T16:14:15.691Z"
   },
   {
    "duration": 6,
    "start_time": "2022-06-29T16:15:10.741Z"
   },
   {
    "duration": 15,
    "start_time": "2022-06-29T16:15:35.452Z"
   },
   {
    "duration": 11,
    "start_time": "2022-06-29T16:15:45.124Z"
   },
   {
    "duration": 1042,
    "start_time": "2022-06-29T16:28:10.576Z"
   },
   {
    "duration": 494,
    "start_time": "2022-06-29T16:28:11.620Z"
   },
   {
    "duration": 20,
    "start_time": "2022-06-29T16:28:18.350Z"
   },
   {
    "duration": 67,
    "start_time": "2022-06-29T16:28:18.815Z"
   },
   {
    "duration": 87,
    "start_time": "2022-06-29T16:28:19.176Z"
   },
   {
    "duration": 58,
    "start_time": "2022-06-29T16:28:19.911Z"
   },
   {
    "duration": 61,
    "start_time": "2022-06-29T16:28:21.127Z"
   },
   {
    "duration": 8,
    "start_time": "2022-06-29T16:28:21.518Z"
   },
   {
    "duration": 38,
    "start_time": "2022-06-29T16:28:21.886Z"
   },
   {
    "duration": 7,
    "start_time": "2022-06-29T16:28:22.318Z"
   },
   {
    "duration": 45,
    "start_time": "2022-06-29T16:28:22.712Z"
   },
   {
    "duration": 22,
    "start_time": "2022-06-29T16:28:23.119Z"
   },
   {
    "duration": 8,
    "start_time": "2022-06-29T16:28:23.528Z"
   },
   {
    "duration": 56,
    "start_time": "2022-06-29T16:28:23.928Z"
   },
   {
    "duration": 29,
    "start_time": "2022-06-29T16:28:24.382Z"
   },
   {
    "duration": 8,
    "start_time": "2022-06-29T16:28:24.782Z"
   },
   {
    "duration": 15,
    "start_time": "2022-06-29T16:28:25.566Z"
   },
   {
    "duration": 16,
    "start_time": "2022-06-29T16:28:25.918Z"
   },
   {
    "duration": 21,
    "start_time": "2022-06-29T16:28:26.360Z"
   },
   {
    "duration": 22,
    "start_time": "2022-06-29T16:28:26.711Z"
   },
   {
    "duration": 8,
    "start_time": "2022-06-29T16:28:27.142Z"
   },
   {
    "duration": 5,
    "start_time": "2022-06-29T16:28:28.517Z"
   },
   {
    "duration": 11,
    "start_time": "2022-06-29T16:28:29.005Z"
   },
   {
    "duration": 4,
    "start_time": "2022-06-29T16:33:48.989Z"
   },
   {
    "duration": 100,
    "start_time": "2022-06-29T16:33:56.259Z"
   },
   {
    "duration": 16,
    "start_time": "2022-06-29T16:34:20.933Z"
   },
   {
    "duration": 112,
    "start_time": "2022-06-29T16:37:22.686Z"
   },
   {
    "duration": 29,
    "start_time": "2022-06-29T16:37:28.647Z"
   },
   {
    "duration": 32,
    "start_time": "2022-06-29T16:38:46.989Z"
   },
   {
    "duration": 10,
    "start_time": "2022-06-29T16:39:11.499Z"
   },
   {
    "duration": 30,
    "start_time": "2022-06-29T16:39:54.985Z"
   },
   {
    "duration": 30,
    "start_time": "2022-06-29T16:40:33.508Z"
   },
   {
    "duration": 49,
    "start_time": "2022-06-29T17:24:10.941Z"
   },
   {
    "duration": 1093,
    "start_time": "2022-06-29T17:24:21.640Z"
   },
   {
    "duration": 547,
    "start_time": "2022-06-29T17:24:22.737Z"
   },
   {
    "duration": 19,
    "start_time": "2022-06-29T17:24:23.286Z"
   },
   {
    "duration": 67,
    "start_time": "2022-06-29T17:24:23.307Z"
   },
   {
    "duration": 93,
    "start_time": "2022-06-29T17:24:23.376Z"
   },
   {
    "duration": 74,
    "start_time": "2022-06-29T17:24:23.471Z"
   },
   {
    "duration": 78,
    "start_time": "2022-06-29T17:24:23.547Z"
   },
   {
    "duration": 9,
    "start_time": "2022-06-29T17:24:23.627Z"
   },
   {
    "duration": 44,
    "start_time": "2022-06-29T17:24:23.637Z"
   },
   {
    "duration": 8,
    "start_time": "2022-06-29T17:24:23.684Z"
   },
   {
    "duration": 71,
    "start_time": "2022-06-29T17:24:23.694Z"
   },
   {
    "duration": 26,
    "start_time": "2022-06-29T17:24:23.767Z"
   },
   {
    "duration": 8,
    "start_time": "2022-06-29T17:24:23.795Z"
   },
   {
    "duration": 79,
    "start_time": "2022-06-29T17:24:23.805Z"
   },
   {
    "duration": 49,
    "start_time": "2022-06-29T17:24:23.886Z"
   },
   {
    "duration": 12,
    "start_time": "2022-06-29T17:24:23.936Z"
   },
   {
    "duration": 20,
    "start_time": "2022-06-29T17:24:23.950Z"
   },
   {
    "duration": 22,
    "start_time": "2022-06-29T17:24:23.972Z"
   },
   {
    "duration": 49,
    "start_time": "2022-06-29T17:24:23.996Z"
   },
   {
    "duration": 25,
    "start_time": "2022-06-29T17:24:24.047Z"
   },
   {
    "duration": 8,
    "start_time": "2022-06-29T17:24:24.074Z"
   },
   {
    "duration": 6,
    "start_time": "2022-06-29T17:24:24.084Z"
   },
   {
    "duration": 43,
    "start_time": "2022-06-29T17:24:24.092Z"
   },
   {
    "duration": 9,
    "start_time": "2022-06-29T17:24:24.136Z"
   },
   {
    "duration": 121,
    "start_time": "2022-06-29T17:24:24.146Z"
   },
   {
    "duration": 4,
    "start_time": "2022-06-29T17:24:24.268Z"
   },
   {
    "duration": 35,
    "start_time": "2022-06-29T17:24:24.274Z"
   },
   {
    "duration": 5,
    "start_time": "2022-06-29T17:24:42.192Z"
   },
   {
    "duration": 17,
    "start_time": "2022-06-29T17:25:35.946Z"
   },
   {
    "duration": 4,
    "start_time": "2022-06-29T17:28:07.398Z"
   },
   {
    "duration": 125,
    "start_time": "2022-06-29T17:28:11.247Z"
   },
   {
    "duration": 32,
    "start_time": "2022-06-29T17:28:13.216Z"
   },
   {
    "duration": 4,
    "start_time": "2022-06-29T17:28:14.226Z"
   },
   {
    "duration": 1033,
    "start_time": "2022-06-29T17:32:16.779Z"
   },
   {
    "duration": 497,
    "start_time": "2022-06-29T17:32:17.814Z"
   },
   {
    "duration": 19,
    "start_time": "2022-06-29T17:32:18.312Z"
   },
   {
    "duration": 74,
    "start_time": "2022-06-29T17:32:18.333Z"
   },
   {
    "duration": 81,
    "start_time": "2022-06-29T17:32:18.425Z"
   },
   {
    "duration": 79,
    "start_time": "2022-06-29T17:32:18.507Z"
   },
   {
    "duration": 80,
    "start_time": "2022-06-29T17:32:18.588Z"
   },
   {
    "duration": 10,
    "start_time": "2022-06-29T17:32:18.670Z"
   },
   {
    "duration": 57,
    "start_time": "2022-06-29T17:32:18.683Z"
   },
   {
    "duration": 10,
    "start_time": "2022-06-29T17:32:18.744Z"
   },
   {
    "duration": 62,
    "start_time": "2022-06-29T17:32:18.756Z"
   },
   {
    "duration": 26,
    "start_time": "2022-06-29T17:32:18.826Z"
   },
   {
    "duration": 7,
    "start_time": "2022-06-29T17:32:18.854Z"
   },
   {
    "duration": 71,
    "start_time": "2022-06-29T17:32:18.862Z"
   },
   {
    "duration": 31,
    "start_time": "2022-06-29T17:32:18.934Z"
   },
   {
    "duration": 7,
    "start_time": "2022-06-29T17:32:18.967Z"
   },
   {
    "duration": 19,
    "start_time": "2022-06-29T17:32:18.976Z"
   },
   {
    "duration": 41,
    "start_time": "2022-06-29T17:32:18.996Z"
   },
   {
    "duration": 19,
    "start_time": "2022-06-29T17:32:19.038Z"
   },
   {
    "duration": 21,
    "start_time": "2022-06-29T17:32:19.058Z"
   },
   {
    "duration": 7,
    "start_time": "2022-06-29T17:32:19.081Z"
   },
   {
    "duration": 7,
    "start_time": "2022-06-29T17:32:19.090Z"
   },
   {
    "duration": 11,
    "start_time": "2022-06-29T17:32:19.125Z"
   },
   {
    "duration": 4,
    "start_time": "2022-06-29T17:32:19.138Z"
   },
   {
    "duration": 143,
    "start_time": "2022-06-29T17:32:19.143Z"
   },
   {
    "duration": 39,
    "start_time": "2022-06-29T17:32:19.287Z"
   },
   {
    "duration": 4,
    "start_time": "2022-06-29T17:32:19.328Z"
   },
   {
    "duration": 12,
    "start_time": "2022-06-29T17:32:19.335Z"
   },
   {
    "duration": 21,
    "start_time": "2022-06-29T17:32:19.349Z"
   },
   {
    "duration": 1350,
    "start_time": "2022-06-30T11:30:16.241Z"
   },
   {
    "duration": 1028,
    "start_time": "2022-06-30T11:32:48.277Z"
   },
   {
    "duration": 1725,
    "start_time": "2022-06-30T11:32:50.757Z"
   },
   {
    "duration": 4,
    "start_time": "2022-06-30T11:33:11.552Z"
   },
   {
    "duration": 3,
    "start_time": "2022-06-30T11:33:50.813Z"
   },
   {
    "duration": 109,
    "start_time": "2022-06-30T11:40:02.072Z"
   },
   {
    "duration": 15,
    "start_time": "2022-06-30T11:40:30.367Z"
   },
   {
    "duration": 7,
    "start_time": "2022-06-30T11:40:36.065Z"
   },
   {
    "duration": 11,
    "start_time": "2022-06-30T11:43:17.428Z"
   },
   {
    "duration": 1021,
    "start_time": "2022-06-30T11:51:01.019Z"
   },
   {
    "duration": 587,
    "start_time": "2022-06-30T11:51:02.122Z"
   },
   {
    "duration": 3,
    "start_time": "2022-06-30T11:51:03.373Z"
   },
   {
    "duration": 69,
    "start_time": "2022-06-30T11:51:06.684Z"
   },
   {
    "duration": 98,
    "start_time": "2022-06-30T11:51:08.620Z"
   },
   {
    "duration": 70,
    "start_time": "2022-06-30T11:51:11.741Z"
   },
   {
    "duration": 6,
    "start_time": "2022-06-30T11:51:25.820Z"
   },
   {
    "duration": 14,
    "start_time": "2022-06-30T11:55:16.583Z"
   },
   {
    "duration": 14,
    "start_time": "2022-06-30T11:55:38.870Z"
   },
   {
    "duration": 15,
    "start_time": "2022-06-30T11:55:43.293Z"
   },
   {
    "duration": 13,
    "start_time": "2022-06-30T11:56:10.804Z"
   },
   {
    "duration": 806,
    "start_time": "2022-06-30T12:03:11.614Z"
   },
   {
    "duration": 282,
    "start_time": "2022-06-30T12:03:19.956Z"
   },
   {
    "duration": 198,
    "start_time": "2022-06-30T12:03:28.663Z"
   },
   {
    "duration": 170,
    "start_time": "2022-06-30T12:03:50.463Z"
   },
   {
    "duration": 276,
    "start_time": "2022-06-30T12:03:56.105Z"
   },
   {
    "duration": 187,
    "start_time": "2022-06-30T12:04:04.489Z"
   },
   {
    "duration": 1037,
    "start_time": "2022-06-30T12:04:59.015Z"
   },
   {
    "duration": 584,
    "start_time": "2022-06-30T12:05:00.054Z"
   },
   {
    "duration": 3,
    "start_time": "2022-06-30T12:05:00.687Z"
   },
   {
    "duration": 80,
    "start_time": "2022-06-30T12:05:02.221Z"
   },
   {
    "duration": 114,
    "start_time": "2022-06-30T12:05:03.293Z"
   },
   {
    "duration": 86,
    "start_time": "2022-06-30T12:05:03.797Z"
   },
   {
    "duration": 339,
    "start_time": "2022-06-30T12:05:04.671Z"
   },
   {
    "duration": 278,
    "start_time": "2022-06-30T12:05:23.917Z"
   },
   {
    "duration": 1660,
    "start_time": "2022-06-30T12:05:29.757Z"
   },
   {
    "duration": 256,
    "start_time": "2022-06-30T12:06:23.862Z"
   },
   {
    "duration": 1544,
    "start_time": "2022-06-30T12:06:30.674Z"
   },
   {
    "duration": 302,
    "start_time": "2022-06-30T12:06:36.666Z"
   },
   {
    "duration": 281,
    "start_time": "2022-06-30T12:09:27.298Z"
   },
   {
    "duration": 196,
    "start_time": "2022-06-30T12:09:54.391Z"
   },
   {
    "duration": 183,
    "start_time": "2022-06-30T12:10:04.417Z"
   },
   {
    "duration": 5,
    "start_time": "2022-06-30T21:37:50.495Z"
   },
   {
    "duration": 30,
    "start_time": "2022-06-30T21:39:34.859Z"
   },
   {
    "duration": 5,
    "start_time": "2022-06-30T21:40:57.540Z"
   },
   {
    "duration": 4,
    "start_time": "2022-06-30T21:41:12.601Z"
   },
   {
    "duration": 304,
    "start_time": "2022-06-30T21:46:30.543Z"
   },
   {
    "duration": 246,
    "start_time": "2022-06-30T21:47:13.689Z"
   },
   {
    "duration": 154,
    "start_time": "2022-06-30T21:47:23.303Z"
   },
   {
    "duration": 155,
    "start_time": "2022-06-30T21:47:55.556Z"
   },
   {
    "duration": 183,
    "start_time": "2022-06-30T21:48:45.318Z"
   },
   {
    "duration": 158,
    "start_time": "2022-06-30T21:49:58.122Z"
   },
   {
    "duration": 199,
    "start_time": "2022-06-30T21:50:23.649Z"
   },
   {
    "duration": 175,
    "start_time": "2022-06-30T21:50:44.503Z"
   },
   {
    "duration": 266,
    "start_time": "2022-06-30T21:51:20.881Z"
   },
   {
    "duration": 42,
    "start_time": "2022-07-01T18:33:19.996Z"
   },
   {
    "duration": 1276,
    "start_time": "2022-07-01T18:33:28.586Z"
   },
   {
    "duration": 868,
    "start_time": "2022-07-01T18:33:29.865Z"
   },
   {
    "duration": 3,
    "start_time": "2022-07-01T18:33:30.734Z"
   },
   {
    "duration": 103,
    "start_time": "2022-07-01T18:33:30.739Z"
   },
   {
    "duration": 86,
    "start_time": "2022-07-01T18:33:30.844Z"
   },
   {
    "duration": 83,
    "start_time": "2022-07-01T18:33:30.932Z"
   },
   {
    "duration": 215,
    "start_time": "2022-07-01T18:33:31.017Z"
   },
   {
    "duration": 5,
    "start_time": "2022-07-01T18:33:31.233Z"
   },
   {
    "duration": 76,
    "start_time": "2022-07-01T18:33:31.239Z"
   },
   {
    "duration": 8,
    "start_time": "2022-07-01T18:33:31.318Z"
   },
   {
    "duration": 60,
    "start_time": "2022-07-01T18:33:31.328Z"
   },
   {
    "duration": 8,
    "start_time": "2022-07-01T18:33:31.393Z"
   },
   {
    "duration": 62,
    "start_time": "2022-07-01T18:33:31.403Z"
   },
   {
    "duration": 42,
    "start_time": "2022-07-01T18:33:31.472Z"
   },
   {
    "duration": 7,
    "start_time": "2022-07-01T18:33:31.516Z"
   },
   {
    "duration": 67,
    "start_time": "2022-07-01T18:33:31.524Z"
   },
   {
    "duration": 32,
    "start_time": "2022-07-01T18:33:31.593Z"
   },
   {
    "duration": 9,
    "start_time": "2022-07-01T18:33:31.626Z"
   },
   {
    "duration": 20,
    "start_time": "2022-07-01T18:33:31.637Z"
   },
   {
    "duration": 41,
    "start_time": "2022-07-01T18:33:31.659Z"
   },
   {
    "duration": 20,
    "start_time": "2022-07-01T18:33:31.702Z"
   },
   {
    "duration": 20,
    "start_time": "2022-07-01T18:33:31.724Z"
   },
   {
    "duration": 40,
    "start_time": "2022-07-01T18:33:31.746Z"
   },
   {
    "duration": 10,
    "start_time": "2022-07-01T18:33:31.793Z"
   },
   {
    "duration": 124,
    "start_time": "2022-07-01T18:33:31.804Z"
   },
   {
    "duration": 0,
    "start_time": "2022-07-01T18:33:31.930Z"
   },
   {
    "duration": 0,
    "start_time": "2022-07-01T18:33:31.931Z"
   },
   {
    "duration": 0,
    "start_time": "2022-07-01T18:33:31.933Z"
   },
   {
    "duration": 0,
    "start_time": "2022-07-01T18:33:31.935Z"
   },
   {
    "duration": 0,
    "start_time": "2022-07-01T18:33:31.936Z"
   },
   {
    "duration": 0,
    "start_time": "2022-07-01T18:33:31.938Z"
   },
   {
    "duration": 3,
    "start_time": "2022-07-01T18:33:55.449Z"
   },
   {
    "duration": 1029,
    "start_time": "2022-07-01T18:34:00.795Z"
   },
   {
    "duration": 559,
    "start_time": "2022-07-01T18:34:01.895Z"
   },
   {
    "duration": 3,
    "start_time": "2022-07-01T18:34:02.456Z"
   },
   {
    "duration": 80,
    "start_time": "2022-07-01T18:34:03.499Z"
   },
   {
    "duration": 104,
    "start_time": "2022-07-01T18:34:03.947Z"
   },
   {
    "duration": 67,
    "start_time": "2022-07-01T18:34:04.390Z"
   },
   {
    "duration": 233,
    "start_time": "2022-07-01T18:34:04.888Z"
   },
   {
    "duration": 6,
    "start_time": "2022-07-01T18:34:06.035Z"
   },
   {
    "duration": 110,
    "start_time": "2022-07-01T18:34:09.085Z"
   },
   {
    "duration": 10,
    "start_time": "2022-07-01T18:34:11.236Z"
   },
   {
    "duration": 41,
    "start_time": "2022-07-01T18:34:11.723Z"
   },
   {
    "duration": 12,
    "start_time": "2022-07-01T18:34:12.259Z"
   },
   {
    "duration": 56,
    "start_time": "2022-07-01T18:34:12.835Z"
   },
   {
    "duration": 25,
    "start_time": "2022-07-01T18:34:13.428Z"
   },
   {
    "duration": 8,
    "start_time": "2022-07-01T18:34:14.098Z"
   },
   {
    "duration": 60,
    "start_time": "2022-07-01T18:34:15.059Z"
   },
   {
    "duration": 36,
    "start_time": "2022-07-01T18:34:16.042Z"
   },
   {
    "duration": 9,
    "start_time": "2022-07-01T18:34:17.507Z"
   },
   {
    "duration": 18,
    "start_time": "2022-07-01T18:34:18.487Z"
   },
   {
    "duration": 19,
    "start_time": "2022-07-01T18:34:19.427Z"
   },
   {
    "duration": 23,
    "start_time": "2022-07-01T18:34:23.763Z"
   },
   {
    "duration": 34,
    "start_time": "2022-07-01T18:34:25.251Z"
   },
   {
    "duration": 8,
    "start_time": "2022-07-01T18:34:26.035Z"
   },
   {
    "duration": 5,
    "start_time": "2022-07-01T18:34:29.435Z"
   },
   {
    "duration": 97,
    "start_time": "2022-07-01T18:34:30.690Z"
   },
   {
    "duration": 10,
    "start_time": "2022-07-01T18:34:45.515Z"
   },
   {
    "duration": 31,
    "start_time": "2022-07-01T18:35:21.883Z"
   },
   {
    "duration": 24,
    "start_time": "2022-07-01T18:35:39.419Z"
   },
   {
    "duration": 19,
    "start_time": "2022-07-01T18:36:16.633Z"
   },
   {
    "duration": 67,
    "start_time": "2022-07-01T18:36:46.358Z"
   },
   {
    "duration": 15,
    "start_time": "2022-07-01T18:36:49.895Z"
   },
   {
    "duration": 55,
    "start_time": "2022-07-01T18:36:55.001Z"
   },
   {
    "duration": 10,
    "start_time": "2022-07-01T18:37:02.399Z"
   },
   {
    "duration": 12,
    "start_time": "2022-07-01T18:37:15.486Z"
   },
   {
    "duration": 11,
    "start_time": "2022-07-01T18:37:47.005Z"
   },
   {
    "duration": 11,
    "start_time": "2022-07-01T18:37:54.279Z"
   },
   {
    "duration": 15,
    "start_time": "2022-07-01T18:38:05.149Z"
   },
   {
    "duration": 4,
    "start_time": "2022-07-01T18:38:55.002Z"
   },
   {
    "duration": 977,
    "start_time": "2022-07-01T18:39:03.222Z"
   },
   {
    "duration": 556,
    "start_time": "2022-07-01T18:39:04.201Z"
   },
   {
    "duration": 3,
    "start_time": "2022-07-01T18:39:04.759Z"
   },
   {
    "duration": 95,
    "start_time": "2022-07-01T18:39:04.765Z"
   },
   {
    "duration": 91,
    "start_time": "2022-07-01T18:39:04.863Z"
   },
   {
    "duration": 76,
    "start_time": "2022-07-01T18:39:04.956Z"
   },
   {
    "duration": 227,
    "start_time": "2022-07-01T18:39:05.034Z"
   },
   {
    "duration": 16,
    "start_time": "2022-07-01T18:39:05.267Z"
   },
   {
    "duration": 70,
    "start_time": "2022-07-01T18:39:05.285Z"
   },
   {
    "duration": 28,
    "start_time": "2022-07-01T18:39:05.358Z"
   },
   {
    "duration": 39,
    "start_time": "2022-07-01T18:39:05.388Z"
   },
   {
    "duration": 7,
    "start_time": "2022-07-01T18:39:05.429Z"
   },
   {
    "duration": 72,
    "start_time": "2022-07-01T18:39:05.438Z"
   },
   {
    "duration": 24,
    "start_time": "2022-07-01T18:39:05.511Z"
   },
   {
    "duration": 8,
    "start_time": "2022-07-01T18:39:05.537Z"
   },
   {
    "duration": 88,
    "start_time": "2022-07-01T18:39:05.546Z"
   },
   {
    "duration": 70,
    "start_time": "2022-07-01T18:39:05.635Z"
   },
   {
    "duration": 8,
    "start_time": "2022-07-01T18:39:05.707Z"
   },
   {
    "duration": 21,
    "start_time": "2022-07-01T18:39:05.717Z"
   },
   {
    "duration": 53,
    "start_time": "2022-07-01T18:39:05.740Z"
   },
   {
    "duration": 31,
    "start_time": "2022-07-01T18:39:05.796Z"
   },
   {
    "duration": 47,
    "start_time": "2022-07-01T18:39:05.829Z"
   },
   {
    "duration": 10,
    "start_time": "2022-07-01T18:39:05.877Z"
   },
   {
    "duration": 7,
    "start_time": "2022-07-01T18:39:05.889Z"
   },
   {
    "duration": 14,
    "start_time": "2022-07-01T18:39:05.897Z"
   },
   {
    "duration": 4,
    "start_time": "2022-07-01T18:39:05.913Z"
   },
   {
    "duration": 169,
    "start_time": "2022-07-01T18:39:05.918Z"
   },
   {
    "duration": 39,
    "start_time": "2022-07-01T18:39:06.091Z"
   },
   {
    "duration": 7,
    "start_time": "2022-07-01T18:39:06.133Z"
   },
   {
    "duration": 37,
    "start_time": "2022-07-01T18:39:06.143Z"
   },
   {
    "duration": 20,
    "start_time": "2022-07-01T18:39:06.182Z"
   },
   {
    "duration": 3,
    "start_time": "2022-07-01T18:42:50.536Z"
   },
   {
    "duration": 1037,
    "start_time": "2022-07-01T18:42:56.153Z"
   },
   {
    "duration": 557,
    "start_time": "2022-07-01T18:42:57.192Z"
   },
   {
    "duration": 2,
    "start_time": "2022-07-01T18:42:57.752Z"
   },
   {
    "duration": 74,
    "start_time": "2022-07-01T18:42:57.757Z"
   },
   {
    "duration": 93,
    "start_time": "2022-07-01T18:42:57.833Z"
   },
   {
    "duration": 73,
    "start_time": "2022-07-01T18:42:57.928Z"
   },
   {
    "duration": 209,
    "start_time": "2022-07-01T18:42:58.003Z"
   },
   {
    "duration": 6,
    "start_time": "2022-07-01T18:42:58.214Z"
   },
   {
    "duration": 82,
    "start_time": "2022-07-01T18:42:58.222Z"
   },
   {
    "duration": 9,
    "start_time": "2022-07-01T18:42:58.307Z"
   },
   {
    "duration": 64,
    "start_time": "2022-07-01T18:42:58.318Z"
   },
   {
    "duration": 10,
    "start_time": "2022-07-01T18:42:58.385Z"
   },
   {
    "duration": 53,
    "start_time": "2022-07-01T18:42:58.397Z"
   },
   {
    "duration": 36,
    "start_time": "2022-07-01T18:42:58.452Z"
   },
   {
    "duration": 11,
    "start_time": "2022-07-01T18:42:58.491Z"
   },
   {
    "duration": 85,
    "start_time": "2022-07-01T18:42:58.505Z"
   },
   {
    "duration": 35,
    "start_time": "2022-07-01T18:42:58.592Z"
   },
   {
    "duration": 9,
    "start_time": "2022-07-01T18:42:58.628Z"
   },
   {
    "duration": 59,
    "start_time": "2022-07-01T18:42:58.639Z"
   },
   {
    "duration": 17,
    "start_time": "2022-07-01T18:42:58.699Z"
   },
   {
    "duration": 19,
    "start_time": "2022-07-01T18:42:58.718Z"
   },
   {
    "duration": 21,
    "start_time": "2022-07-01T18:42:58.739Z"
   },
   {
    "duration": 19,
    "start_time": "2022-07-01T18:42:58.777Z"
   },
   {
    "duration": 12,
    "start_time": "2022-07-01T18:42:58.798Z"
   },
   {
    "duration": 18,
    "start_time": "2022-07-01T18:42:58.812Z"
   },
   {
    "duration": 5,
    "start_time": "2022-07-01T18:42:58.831Z"
   },
   {
    "duration": 190,
    "start_time": "2022-07-01T18:42:58.837Z"
   },
   {
    "duration": 63,
    "start_time": "2022-07-01T18:42:59.031Z"
   },
   {
    "duration": 10,
    "start_time": "2022-07-01T18:42:59.096Z"
   },
   {
    "duration": 16,
    "start_time": "2022-07-01T18:42:59.109Z"
   },
   {
    "duration": 22,
    "start_time": "2022-07-01T18:42:59.127Z"
   },
   {
    "duration": 981,
    "start_time": "2022-07-01T18:43:27.022Z"
   },
   {
    "duration": 562,
    "start_time": "2022-07-01T18:43:28.004Z"
   },
   {
    "duration": 4,
    "start_time": "2022-07-01T18:43:28.568Z"
   },
   {
    "duration": 83,
    "start_time": "2022-07-01T18:43:28.573Z"
   },
   {
    "duration": 130,
    "start_time": "2022-07-01T18:43:28.659Z"
   },
   {
    "duration": 82,
    "start_time": "2022-07-01T18:43:28.792Z"
   },
   {
    "duration": 297,
    "start_time": "2022-07-01T18:43:28.875Z"
   },
   {
    "duration": 10,
    "start_time": "2022-07-01T18:43:29.176Z"
   },
   {
    "duration": 87,
    "start_time": "2022-07-01T18:43:29.188Z"
   },
   {
    "duration": 9,
    "start_time": "2022-07-01T18:43:29.282Z"
   },
   {
    "duration": 47,
    "start_time": "2022-07-01T18:43:29.293Z"
   },
   {
    "duration": 7,
    "start_time": "2022-07-01T18:43:29.342Z"
   },
   {
    "duration": 59,
    "start_time": "2022-07-01T18:43:29.351Z"
   },
   {
    "duration": 23,
    "start_time": "2022-07-01T18:43:29.411Z"
   },
   {
    "duration": 8,
    "start_time": "2022-07-01T18:43:29.436Z"
   },
   {
    "duration": 76,
    "start_time": "2022-07-01T18:43:29.445Z"
   },
   {
    "duration": 26,
    "start_time": "2022-07-01T18:43:29.523Z"
   },
   {
    "duration": 21,
    "start_time": "2022-07-01T18:43:29.551Z"
   },
   {
    "duration": 35,
    "start_time": "2022-07-01T18:43:29.574Z"
   },
   {
    "duration": 18,
    "start_time": "2022-07-01T18:43:29.611Z"
   },
   {
    "duration": 20,
    "start_time": "2022-07-01T18:43:29.631Z"
   },
   {
    "duration": 41,
    "start_time": "2022-07-01T18:43:29.671Z"
   },
   {
    "duration": 10,
    "start_time": "2022-07-01T18:43:29.714Z"
   },
   {
    "duration": 11,
    "start_time": "2022-07-01T18:43:29.726Z"
   },
   {
    "duration": 13,
    "start_time": "2022-07-01T18:43:29.739Z"
   },
   {
    "duration": 14,
    "start_time": "2022-07-01T18:43:29.754Z"
   },
   {
    "duration": 141,
    "start_time": "2022-07-01T18:43:29.772Z"
   },
   {
    "duration": 32,
    "start_time": "2022-07-01T18:43:29.916Z"
   },
   {
    "duration": 4,
    "start_time": "2022-07-01T18:43:29.950Z"
   },
   {
    "duration": 20,
    "start_time": "2022-07-01T18:43:29.967Z"
   },
   {
    "duration": 19,
    "start_time": "2022-07-01T18:43:29.989Z"
   },
   {
    "duration": 15,
    "start_time": "2022-07-01T20:03:55.683Z"
   },
   {
    "duration": 980,
    "start_time": "2022-07-01T20:06:01.815Z"
   },
   {
    "duration": 505,
    "start_time": "2022-07-01T20:06:02.797Z"
   },
   {
    "duration": 2,
    "start_time": "2022-07-01T20:06:03.304Z"
   },
   {
    "duration": 75,
    "start_time": "2022-07-01T20:06:03.308Z"
   },
   {
    "duration": 88,
    "start_time": "2022-07-01T20:06:03.384Z"
   },
   {
    "duration": 59,
    "start_time": "2022-07-01T20:06:03.481Z"
   },
   {
    "duration": 191,
    "start_time": "2022-07-01T20:06:03.542Z"
   },
   {
    "duration": 5,
    "start_time": "2022-07-01T20:06:03.734Z"
   },
   {
    "duration": 73,
    "start_time": "2022-07-01T20:06:03.740Z"
   },
   {
    "duration": 8,
    "start_time": "2022-07-01T20:06:03.815Z"
   },
   {
    "duration": 53,
    "start_time": "2022-07-01T20:06:03.825Z"
   },
   {
    "duration": 8,
    "start_time": "2022-07-01T20:06:03.881Z"
   },
   {
    "duration": 51,
    "start_time": "2022-07-01T20:06:03.890Z"
   },
   {
    "duration": 34,
    "start_time": "2022-07-01T20:06:03.942Z"
   },
   {
    "duration": 8,
    "start_time": "2022-07-01T20:06:03.981Z"
   },
   {
    "duration": 53,
    "start_time": "2022-07-01T20:06:03.991Z"
   },
   {
    "duration": 36,
    "start_time": "2022-07-01T20:06:04.045Z"
   },
   {
    "duration": 8,
    "start_time": "2022-07-01T20:06:04.085Z"
   },
   {
    "duration": 19,
    "start_time": "2022-07-01T20:06:04.094Z"
   },
   {
    "duration": 17,
    "start_time": "2022-07-01T20:06:04.114Z"
   },
   {
    "duration": 49,
    "start_time": "2022-07-01T20:06:04.133Z"
   },
   {
    "duration": 23,
    "start_time": "2022-07-01T20:06:04.184Z"
   },
   {
    "duration": 9,
    "start_time": "2022-07-01T20:06:04.208Z"
   },
   {
    "duration": 6,
    "start_time": "2022-07-01T20:06:04.219Z"
   },
   {
    "duration": 14,
    "start_time": "2022-07-01T20:06:04.227Z"
   },
   {
    "duration": 8,
    "start_time": "2022-07-01T20:06:04.272Z"
   },
   {
    "duration": 147,
    "start_time": "2022-07-01T20:06:04.283Z"
   },
   {
    "duration": 47,
    "start_time": "2022-07-01T20:06:04.433Z"
   },
   {
    "duration": 4,
    "start_time": "2022-07-01T20:06:04.485Z"
   },
   {
    "duration": 7,
    "start_time": "2022-07-01T20:06:04.490Z"
   },
   {
    "duration": 18,
    "start_time": "2022-07-01T20:06:04.498Z"
   },
   {
    "duration": 13,
    "start_time": "2022-07-01T20:06:04.517Z"
   },
   {
    "duration": 4,
    "start_time": "2022-07-01T20:06:20.781Z"
   },
   {
    "duration": 996,
    "start_time": "2022-07-01T20:06:25.786Z"
   },
   {
    "duration": 469,
    "start_time": "2022-07-01T20:06:26.784Z"
   },
   {
    "duration": 2,
    "start_time": "2022-07-01T20:06:27.255Z"
   },
   {
    "duration": 99,
    "start_time": "2022-07-01T20:06:27.258Z"
   },
   {
    "duration": 78,
    "start_time": "2022-07-01T20:06:27.358Z"
   },
   {
    "duration": 73,
    "start_time": "2022-07-01T20:06:27.437Z"
   },
   {
    "duration": 201,
    "start_time": "2022-07-01T20:06:27.512Z"
   },
   {
    "duration": 5,
    "start_time": "2022-07-01T20:06:27.715Z"
   },
   {
    "duration": 93,
    "start_time": "2022-07-01T20:06:27.721Z"
   },
   {
    "duration": 9,
    "start_time": "2022-07-01T20:06:27.816Z"
   },
   {
    "duration": 71,
    "start_time": "2022-07-01T20:06:27.827Z"
   },
   {
    "duration": 24,
    "start_time": "2022-07-01T20:06:27.900Z"
   },
   {
    "duration": 93,
    "start_time": "2022-07-01T20:06:27.926Z"
   },
   {
    "duration": 23,
    "start_time": "2022-07-01T20:06:28.020Z"
   },
   {
    "duration": 6,
    "start_time": "2022-07-01T20:06:28.045Z"
   },
   {
    "duration": 76,
    "start_time": "2022-07-01T20:06:28.068Z"
   },
   {
    "duration": 36,
    "start_time": "2022-07-01T20:06:28.145Z"
   },
   {
    "duration": 8,
    "start_time": "2022-07-01T20:06:28.183Z"
   },
   {
    "duration": 17,
    "start_time": "2022-07-01T20:06:28.192Z"
   },
   {
    "duration": 16,
    "start_time": "2022-07-01T20:06:28.210Z"
   },
   {
    "duration": 45,
    "start_time": "2022-07-01T20:06:28.228Z"
   },
   {
    "duration": 30,
    "start_time": "2022-07-01T20:06:28.275Z"
   },
   {
    "duration": 8,
    "start_time": "2022-07-01T20:06:28.307Z"
   },
   {
    "duration": 6,
    "start_time": "2022-07-01T20:06:28.316Z"
   },
   {
    "duration": 13,
    "start_time": "2022-07-01T20:06:28.323Z"
   },
   {
    "duration": 4,
    "start_time": "2022-07-01T20:06:28.337Z"
   },
   {
    "duration": 165,
    "start_time": "2022-07-01T20:06:28.343Z"
   },
   {
    "duration": 32,
    "start_time": "2022-07-01T20:06:28.512Z"
   },
   {
    "duration": 4,
    "start_time": "2022-07-01T20:06:28.546Z"
   },
   {
    "duration": 30,
    "start_time": "2022-07-01T20:06:28.552Z"
   },
   {
    "duration": 20,
    "start_time": "2022-07-01T20:06:28.584Z"
   },
   {
    "duration": 17,
    "start_time": "2022-07-01T20:06:28.606Z"
   },
   {
    "duration": 981,
    "start_time": "2022-07-01T20:07:16.103Z"
   },
   {
    "duration": 468,
    "start_time": "2022-07-01T20:07:17.085Z"
   },
   {
    "duration": 2,
    "start_time": "2022-07-01T20:07:17.555Z"
   },
   {
    "duration": 91,
    "start_time": "2022-07-01T20:07:17.559Z"
   },
   {
    "duration": 82,
    "start_time": "2022-07-01T20:07:17.651Z"
   },
   {
    "duration": 76,
    "start_time": "2022-07-01T20:07:17.735Z"
   },
   {
    "duration": 201,
    "start_time": "2022-07-01T20:07:17.813Z"
   },
   {
    "duration": 5,
    "start_time": "2022-07-01T20:07:18.015Z"
   },
   {
    "duration": 74,
    "start_time": "2022-07-01T20:07:18.021Z"
   },
   {
    "duration": 9,
    "start_time": "2022-07-01T20:07:18.098Z"
   },
   {
    "duration": 44,
    "start_time": "2022-07-01T20:07:18.108Z"
   },
   {
    "duration": 24,
    "start_time": "2022-07-01T20:07:18.154Z"
   },
   {
    "duration": 46,
    "start_time": "2022-07-01T20:07:18.180Z"
   },
   {
    "duration": 22,
    "start_time": "2022-07-01T20:07:18.228Z"
   },
   {
    "duration": 7,
    "start_time": "2022-07-01T20:07:18.251Z"
   },
   {
    "duration": 59,
    "start_time": "2022-07-01T20:07:18.260Z"
   },
   {
    "duration": 27,
    "start_time": "2022-07-01T20:07:18.321Z"
   },
   {
    "duration": 33,
    "start_time": "2022-07-01T20:07:18.350Z"
   },
   {
    "duration": 17,
    "start_time": "2022-07-01T20:07:18.385Z"
   },
   {
    "duration": 20,
    "start_time": "2022-07-01T20:07:18.403Z"
   },
   {
    "duration": 18,
    "start_time": "2022-07-01T20:07:18.425Z"
   },
   {
    "duration": 45,
    "start_time": "2022-07-01T20:07:18.444Z"
   },
   {
    "duration": 9,
    "start_time": "2022-07-01T20:07:18.491Z"
   },
   {
    "duration": 5,
    "start_time": "2022-07-01T20:07:18.501Z"
   },
   {
    "duration": 10,
    "start_time": "2022-07-01T20:07:18.507Z"
   },
   {
    "duration": 3,
    "start_time": "2022-07-01T20:07:18.519Z"
   },
   {
    "duration": 137,
    "start_time": "2022-07-01T20:07:18.524Z"
   },
   {
    "duration": 49,
    "start_time": "2022-07-01T20:07:18.663Z"
   },
   {
    "duration": 4,
    "start_time": "2022-07-01T20:07:18.714Z"
   },
   {
    "duration": 7,
    "start_time": "2022-07-01T20:07:18.719Z"
   },
   {
    "duration": 15,
    "start_time": "2022-07-01T20:07:18.727Z"
   },
   {
    "duration": 28,
    "start_time": "2022-07-01T20:07:18.744Z"
   },
   {
    "duration": 4,
    "start_time": "2022-07-01T20:15:39.875Z"
   },
   {
    "duration": 93,
    "start_time": "2022-07-01T20:22:17.548Z"
   },
   {
    "duration": 8,
    "start_time": "2022-07-01T20:22:31.237Z"
   },
   {
    "duration": 4,
    "start_time": "2022-07-01T20:22:38.283Z"
   },
   {
    "duration": 4,
    "start_time": "2022-07-01T20:23:14.179Z"
   },
   {
    "duration": 3,
    "start_time": "2022-07-01T20:23:31.179Z"
   },
   {
    "duration": 4,
    "start_time": "2022-07-01T20:24:32.169Z"
   },
   {
    "duration": 5,
    "start_time": "2022-07-01T20:25:08.874Z"
   },
   {
    "duration": 3,
    "start_time": "2022-07-01T20:25:41.991Z"
   },
   {
    "duration": 3,
    "start_time": "2022-07-01T20:25:46.344Z"
   },
   {
    "duration": 8,
    "start_time": "2022-07-01T20:26:18.575Z"
   },
   {
    "duration": 10,
    "start_time": "2022-07-01T20:26:29.414Z"
   },
   {
    "duration": 4,
    "start_time": "2022-07-01T20:26:45.237Z"
   },
   {
    "duration": 9,
    "start_time": "2022-07-01T20:26:55.909Z"
   },
   {
    "duration": 4,
    "start_time": "2022-07-01T20:27:12.036Z"
   },
   {
    "duration": 4,
    "start_time": "2022-07-01T20:27:27.075Z"
   },
   {
    "duration": 5,
    "start_time": "2022-07-01T20:27:45.690Z"
   },
   {
    "duration": 4,
    "start_time": "2022-07-01T20:27:58.082Z"
   },
   {
    "duration": 58,
    "start_time": "2022-07-01T20:28:14.299Z"
   },
   {
    "duration": 1013,
    "start_time": "2022-07-01T20:41:14.378Z"
   },
   {
    "duration": 467,
    "start_time": "2022-07-01T20:41:15.393Z"
   },
   {
    "duration": 2,
    "start_time": "2022-07-01T20:41:15.862Z"
   },
   {
    "duration": 71,
    "start_time": "2022-07-01T20:41:15.866Z"
   },
   {
    "duration": 84,
    "start_time": "2022-07-01T20:41:15.939Z"
   },
   {
    "duration": 64,
    "start_time": "2022-07-01T20:41:16.025Z"
   },
   {
    "duration": 189,
    "start_time": "2022-07-01T20:41:16.091Z"
   },
   {
    "duration": 5,
    "start_time": "2022-07-01T20:41:16.282Z"
   },
   {
    "duration": 74,
    "start_time": "2022-07-01T20:41:16.288Z"
   },
   {
    "duration": 9,
    "start_time": "2022-07-01T20:41:16.363Z"
   },
   {
    "duration": 40,
    "start_time": "2022-07-01T20:41:16.374Z"
   },
   {
    "duration": 9,
    "start_time": "2022-07-01T20:41:16.415Z"
   },
   {
    "duration": 67,
    "start_time": "2022-07-01T20:41:16.426Z"
   },
   {
    "duration": 21,
    "start_time": "2022-07-01T20:41:16.496Z"
   },
   {
    "duration": 6,
    "start_time": "2022-07-01T20:41:16.519Z"
   },
   {
    "duration": 68,
    "start_time": "2022-07-01T20:41:16.527Z"
   },
   {
    "duration": 28,
    "start_time": "2022-07-01T20:41:16.596Z"
   },
   {
    "duration": 8,
    "start_time": "2022-07-01T20:41:16.626Z"
   },
   {
    "duration": 39,
    "start_time": "2022-07-01T20:41:16.636Z"
   },
   {
    "duration": 16,
    "start_time": "2022-07-01T20:41:16.677Z"
   },
   {
    "duration": 19,
    "start_time": "2022-07-01T20:41:16.695Z"
   },
   {
    "duration": 19,
    "start_time": "2022-07-01T20:41:16.715Z"
   },
   {
    "duration": 35,
    "start_time": "2022-07-01T20:41:16.736Z"
   },
   {
    "duration": 6,
    "start_time": "2022-07-01T20:41:16.773Z"
   },
   {
    "duration": 12,
    "start_time": "2022-07-01T20:41:16.781Z"
   },
   {
    "duration": 4,
    "start_time": "2022-07-01T20:41:16.795Z"
   },
   {
    "duration": 139,
    "start_time": "2022-07-01T20:41:16.800Z"
   },
   {
    "duration": 36,
    "start_time": "2022-07-01T20:41:16.941Z"
   },
   {
    "duration": 4,
    "start_time": "2022-07-01T20:41:16.978Z"
   },
   {
    "duration": 8,
    "start_time": "2022-07-01T20:41:16.983Z"
   },
   {
    "duration": 19,
    "start_time": "2022-07-01T20:41:16.993Z"
   },
   {
    "duration": 17,
    "start_time": "2022-07-01T20:41:17.013Z"
   },
   {
    "duration": 11,
    "start_time": "2022-07-01T20:42:45.184Z"
   },
   {
    "duration": 14,
    "start_time": "2022-07-01T20:42:54.687Z"
   },
   {
    "duration": 15,
    "start_time": "2022-07-01T20:42:59.175Z"
   },
   {
    "duration": 26,
    "start_time": "2022-07-01T20:43:05.942Z"
   },
   {
    "duration": 20,
    "start_time": "2022-07-01T20:43:38.283Z"
   },
   {
    "duration": 21,
    "start_time": "2022-07-01T20:43:43.677Z"
   },
   {
    "duration": 1296,
    "start_time": "2022-07-02T13:54:51.189Z"
   },
   {
    "duration": 881,
    "start_time": "2022-07-02T13:54:52.487Z"
   },
   {
    "duration": 3,
    "start_time": "2022-07-02T13:54:53.369Z"
   },
   {
    "duration": 76,
    "start_time": "2022-07-02T13:54:53.374Z"
   },
   {
    "duration": 96,
    "start_time": "2022-07-02T13:54:53.452Z"
   },
   {
    "duration": 58,
    "start_time": "2022-07-02T13:54:53.550Z"
   },
   {
    "duration": 269,
    "start_time": "2022-07-02T13:54:53.609Z"
   },
   {
    "duration": 7,
    "start_time": "2022-07-02T13:54:53.880Z"
   },
   {
    "duration": 84,
    "start_time": "2022-07-02T13:54:53.889Z"
   },
   {
    "duration": 11,
    "start_time": "2022-07-02T13:54:53.976Z"
   },
   {
    "duration": 57,
    "start_time": "2022-07-02T13:54:53.989Z"
   },
   {
    "duration": 8,
    "start_time": "2022-07-02T13:54:54.048Z"
   },
   {
    "duration": 49,
    "start_time": "2022-07-02T13:54:54.058Z"
   },
   {
    "duration": 38,
    "start_time": "2022-07-02T13:54:54.108Z"
   },
   {
    "duration": 7,
    "start_time": "2022-07-02T13:54:54.148Z"
   },
   {
    "duration": 53,
    "start_time": "2022-07-02T13:54:54.156Z"
   },
   {
    "duration": 53,
    "start_time": "2022-07-02T13:54:54.210Z"
   },
   {
    "duration": 8,
    "start_time": "2022-07-02T13:54:54.264Z"
   },
   {
    "duration": 19,
    "start_time": "2022-07-02T13:54:54.273Z"
   },
   {
    "duration": 47,
    "start_time": "2022-07-02T13:54:54.294Z"
   },
   {
    "duration": 21,
    "start_time": "2022-07-02T13:54:54.344Z"
   },
   {
    "duration": 9,
    "start_time": "2022-07-02T13:54:54.366Z"
   },
   {
    "duration": 10,
    "start_time": "2022-07-02T13:54:54.376Z"
   },
   {
    "duration": 5,
    "start_time": "2022-07-02T13:54:54.387Z"
   },
   {
    "duration": 41,
    "start_time": "2022-07-02T13:54:54.393Z"
   },
   {
    "duration": 5,
    "start_time": "2022-07-02T13:54:54.436Z"
   },
   {
    "duration": 144,
    "start_time": "2022-07-02T13:54:54.442Z"
   },
   {
    "duration": 39,
    "start_time": "2022-07-02T13:54:54.589Z"
   },
   {
    "duration": 4,
    "start_time": "2022-07-02T13:54:54.630Z"
   },
   {
    "duration": 7,
    "start_time": "2022-07-02T13:54:54.636Z"
   },
   {
    "duration": 21,
    "start_time": "2022-07-02T13:54:54.644Z"
   },
   {
    "duration": 18,
    "start_time": "2022-07-02T13:54:54.667Z"
   },
   {
    "duration": 1094,
    "start_time": "2022-07-02T13:57:09.646Z"
   },
   {
    "duration": 503,
    "start_time": "2022-07-02T13:57:10.743Z"
   },
   {
    "duration": 3,
    "start_time": "2022-07-02T13:57:11.248Z"
   },
   {
    "duration": 100,
    "start_time": "2022-07-02T13:57:11.252Z"
   },
   {
    "duration": 92,
    "start_time": "2022-07-02T13:57:11.354Z"
   },
   {
    "duration": 59,
    "start_time": "2022-07-02T13:57:11.450Z"
   },
   {
    "duration": 230,
    "start_time": "2022-07-02T13:57:11.511Z"
   },
   {
    "duration": 9,
    "start_time": "2022-07-02T13:57:11.743Z"
   },
   {
    "duration": 65,
    "start_time": "2022-07-02T13:57:11.754Z"
   },
   {
    "duration": 18,
    "start_time": "2022-07-02T13:57:11.821Z"
   },
   {
    "duration": 41,
    "start_time": "2022-07-02T13:57:11.841Z"
   },
   {
    "duration": 8,
    "start_time": "2022-07-02T13:57:11.884Z"
   },
   {
    "duration": 78,
    "start_time": "2022-07-02T13:57:11.894Z"
   },
   {
    "duration": 29,
    "start_time": "2022-07-02T13:57:11.975Z"
   },
   {
    "duration": 7,
    "start_time": "2022-07-02T13:57:12.005Z"
   },
   {
    "duration": 61,
    "start_time": "2022-07-02T13:57:12.032Z"
   },
   {
    "duration": 41,
    "start_time": "2022-07-02T13:57:12.095Z"
   },
   {
    "duration": 8,
    "start_time": "2022-07-02T13:57:12.141Z"
   },
   {
    "duration": 16,
    "start_time": "2022-07-02T13:57:12.151Z"
   },
   {
    "duration": 14,
    "start_time": "2022-07-02T13:57:12.169Z"
   },
   {
    "duration": 18,
    "start_time": "2022-07-02T13:57:12.185Z"
   },
   {
    "duration": 17,
    "start_time": "2022-07-02T13:57:12.226Z"
   },
   {
    "duration": 15,
    "start_time": "2022-07-02T13:57:12.245Z"
   },
   {
    "duration": 6,
    "start_time": "2022-07-02T13:57:12.262Z"
   },
   {
    "duration": 12,
    "start_time": "2022-07-02T13:57:12.269Z"
   },
   {
    "duration": 4,
    "start_time": "2022-07-02T13:57:12.282Z"
   },
   {
    "duration": 149,
    "start_time": "2022-07-02T13:57:12.287Z"
   },
   {
    "duration": 33,
    "start_time": "2022-07-02T13:57:12.439Z"
   },
   {
    "duration": 4,
    "start_time": "2022-07-02T13:57:12.474Z"
   },
   {
    "duration": 7,
    "start_time": "2022-07-02T13:57:12.479Z"
   },
   {
    "duration": 20,
    "start_time": "2022-07-02T13:57:12.488Z"
   },
   {
    "duration": 20,
    "start_time": "2022-07-02T13:57:12.528Z"
   },
   {
    "duration": 1057,
    "start_time": "2022-07-02T13:57:34.220Z"
   },
   {
    "duration": 504,
    "start_time": "2022-07-02T13:57:35.279Z"
   },
   {
    "duration": 2,
    "start_time": "2022-07-02T13:57:35.785Z"
   },
   {
    "duration": 76,
    "start_time": "2022-07-02T13:57:35.789Z"
   },
   {
    "duration": 87,
    "start_time": "2022-07-02T13:57:35.867Z"
   },
   {
    "duration": 73,
    "start_time": "2022-07-02T13:57:35.955Z"
   },
   {
    "duration": 242,
    "start_time": "2022-07-02T13:57:36.030Z"
   },
   {
    "duration": 6,
    "start_time": "2022-07-02T13:57:36.276Z"
   },
   {
    "duration": 99,
    "start_time": "2022-07-02T13:57:36.284Z"
   },
   {
    "duration": 12,
    "start_time": "2022-07-02T13:57:36.385Z"
   },
   {
    "duration": 72,
    "start_time": "2022-07-02T13:57:36.399Z"
   },
   {
    "duration": 10,
    "start_time": "2022-07-02T13:57:36.473Z"
   },
   {
    "duration": 70,
    "start_time": "2022-07-02T13:57:36.485Z"
   },
   {
    "duration": 28,
    "start_time": "2022-07-02T13:57:36.557Z"
   },
   {
    "duration": 8,
    "start_time": "2022-07-02T13:57:36.587Z"
   },
   {
    "duration": 82,
    "start_time": "2022-07-02T13:57:36.597Z"
   },
   {
    "duration": 27,
    "start_time": "2022-07-02T13:57:36.681Z"
   },
   {
    "duration": 8,
    "start_time": "2022-07-02T13:57:36.709Z"
   },
   {
    "duration": 37,
    "start_time": "2022-07-02T13:57:36.727Z"
   },
   {
    "duration": 16,
    "start_time": "2022-07-02T13:57:36.766Z"
   },
   {
    "duration": 22,
    "start_time": "2022-07-02T13:57:36.783Z"
   },
   {
    "duration": 8,
    "start_time": "2022-07-02T13:57:36.807Z"
   },
   {
    "duration": 7,
    "start_time": "2022-07-02T13:57:36.827Z"
   },
   {
    "duration": 11,
    "start_time": "2022-07-02T13:57:36.835Z"
   },
   {
    "duration": 20,
    "start_time": "2022-07-02T13:57:36.847Z"
   },
   {
    "duration": 3,
    "start_time": "2022-07-02T13:57:36.869Z"
   },
   {
    "duration": 141,
    "start_time": "2022-07-02T13:57:36.874Z"
   },
   {
    "duration": 45,
    "start_time": "2022-07-02T13:57:37.019Z"
   },
   {
    "duration": 5,
    "start_time": "2022-07-02T13:57:37.065Z"
   },
   {
    "duration": 7,
    "start_time": "2022-07-02T13:57:37.072Z"
   },
   {
    "duration": 23,
    "start_time": "2022-07-02T13:57:37.080Z"
   },
   {
    "duration": 45,
    "start_time": "2022-07-02T13:57:37.105Z"
   },
   {
    "duration": 91,
    "start_time": "2022-07-02T13:57:37.152Z"
   },
   {
    "duration": 14,
    "start_time": "2022-07-02T14:08:34.236Z"
   },
   {
    "duration": 1054,
    "start_time": "2022-07-02T14:08:44.571Z"
   },
   {
    "duration": 520,
    "start_time": "2022-07-02T14:08:45.629Z"
   },
   {
    "duration": 6,
    "start_time": "2022-07-02T14:08:46.152Z"
   },
   {
    "duration": 114,
    "start_time": "2022-07-02T14:08:46.168Z"
   },
   {
    "duration": 110,
    "start_time": "2022-07-02T14:08:46.284Z"
   },
   {
    "duration": 89,
    "start_time": "2022-07-02T14:08:46.396Z"
   },
   {
    "duration": 206,
    "start_time": "2022-07-02T14:08:46.489Z"
   },
   {
    "duration": 5,
    "start_time": "2022-07-02T14:08:46.696Z"
   },
   {
    "duration": 80,
    "start_time": "2022-07-02T14:08:46.702Z"
   },
   {
    "duration": 8,
    "start_time": "2022-07-02T14:08:46.785Z"
   },
   {
    "duration": 50,
    "start_time": "2022-07-02T14:08:46.794Z"
   },
   {
    "duration": 9,
    "start_time": "2022-07-02T14:08:46.846Z"
   },
   {
    "duration": 52,
    "start_time": "2022-07-02T14:08:46.857Z"
   },
   {
    "duration": 45,
    "start_time": "2022-07-02T14:08:46.911Z"
   },
   {
    "duration": 7,
    "start_time": "2022-07-02T14:08:46.958Z"
   },
   {
    "duration": 81,
    "start_time": "2022-07-02T14:08:46.966Z"
   },
   {
    "duration": 28,
    "start_time": "2022-07-02T14:08:47.049Z"
   },
   {
    "duration": 8,
    "start_time": "2022-07-02T14:08:47.079Z"
   },
   {
    "duration": 18,
    "start_time": "2022-07-02T14:08:47.089Z"
   },
   {
    "duration": 36,
    "start_time": "2022-07-02T14:08:47.108Z"
   },
   {
    "duration": 24,
    "start_time": "2022-07-02T14:08:47.146Z"
   },
   {
    "duration": 9,
    "start_time": "2022-07-02T14:08:47.172Z"
   },
   {
    "duration": 8,
    "start_time": "2022-07-02T14:08:47.183Z"
   },
   {
    "duration": 6,
    "start_time": "2022-07-02T14:08:47.193Z"
   },
   {
    "duration": 38,
    "start_time": "2022-07-02T14:08:47.201Z"
   },
   {
    "duration": 15,
    "start_time": "2022-07-02T14:08:47.241Z"
   },
   {
    "duration": 131,
    "start_time": "2022-07-02T14:08:47.258Z"
   },
   {
    "duration": 35,
    "start_time": "2022-07-02T14:08:47.392Z"
   },
   {
    "duration": 5,
    "start_time": "2022-07-02T14:08:47.429Z"
   },
   {
    "duration": 14,
    "start_time": "2022-07-02T14:08:47.436Z"
   },
   {
    "duration": 21,
    "start_time": "2022-07-02T14:08:47.452Z"
   },
   {
    "duration": 16,
    "start_time": "2022-07-02T14:08:47.474Z"
   },
   {
    "duration": 994,
    "start_time": "2022-07-02T14:08:56.564Z"
   },
   {
    "duration": 527,
    "start_time": "2022-07-02T14:08:57.560Z"
   },
   {
    "duration": 2,
    "start_time": "2022-07-02T14:08:58.089Z"
   },
   {
    "duration": 87,
    "start_time": "2022-07-02T14:08:58.093Z"
   },
   {
    "duration": 83,
    "start_time": "2022-07-02T14:08:58.182Z"
   },
   {
    "duration": 68,
    "start_time": "2022-07-02T14:08:58.267Z"
   },
   {
    "duration": 226,
    "start_time": "2022-07-02T14:08:58.336Z"
   },
   {
    "duration": 5,
    "start_time": "2022-07-02T14:08:58.563Z"
   },
   {
    "duration": 73,
    "start_time": "2022-07-02T14:08:58.569Z"
   },
   {
    "duration": 9,
    "start_time": "2022-07-02T14:08:58.644Z"
   },
   {
    "duration": 44,
    "start_time": "2022-07-02T14:08:58.655Z"
   },
   {
    "duration": 7,
    "start_time": "2022-07-02T14:08:58.701Z"
   },
   {
    "duration": 56,
    "start_time": "2022-07-02T14:08:58.709Z"
   },
   {
    "duration": 22,
    "start_time": "2022-07-02T14:08:58.767Z"
   },
   {
    "duration": 7,
    "start_time": "2022-07-02T14:08:58.791Z"
   },
   {
    "duration": 93,
    "start_time": "2022-07-02T14:08:58.799Z"
   },
   {
    "duration": 49,
    "start_time": "2022-07-02T14:08:58.894Z"
   },
   {
    "duration": 10,
    "start_time": "2022-07-02T14:08:58.945Z"
   },
   {
    "duration": 19,
    "start_time": "2022-07-02T14:08:58.957Z"
   },
   {
    "duration": 19,
    "start_time": "2022-07-02T14:08:58.977Z"
   },
   {
    "duration": 49,
    "start_time": "2022-07-02T14:08:58.998Z"
   },
   {
    "duration": 8,
    "start_time": "2022-07-02T14:08:59.049Z"
   },
   {
    "duration": 9,
    "start_time": "2022-07-02T14:08:59.058Z"
   },
   {
    "duration": 7,
    "start_time": "2022-07-02T14:08:59.068Z"
   },
   {
    "duration": 13,
    "start_time": "2022-07-02T14:08:59.076Z"
   },
   {
    "duration": 3,
    "start_time": "2022-07-02T14:08:59.090Z"
   },
   {
    "duration": 168,
    "start_time": "2022-07-02T14:08:59.095Z"
   },
   {
    "duration": 31,
    "start_time": "2022-07-02T14:08:59.267Z"
   },
   {
    "duration": 4,
    "start_time": "2022-07-02T14:08:59.300Z"
   },
   {
    "duration": 24,
    "start_time": "2022-07-02T14:08:59.306Z"
   },
   {
    "duration": 29,
    "start_time": "2022-07-02T14:08:59.332Z"
   },
   {
    "duration": 17,
    "start_time": "2022-07-02T14:08:59.362Z"
   },
   {
    "duration": 30,
    "start_time": "2022-07-02T14:12:32.553Z"
   },
   {
    "duration": 5,
    "start_time": "2022-07-02T14:12:43.313Z"
   },
   {
    "duration": 48,
    "start_time": "2022-07-02T14:13:48.623Z"
   },
   {
    "duration": 103,
    "start_time": "2022-07-02T14:14:14.474Z"
   },
   {
    "duration": 212,
    "start_time": "2022-07-02T14:14:32.023Z"
   },
   {
    "duration": 118,
    "start_time": "2022-07-02T14:14:57.741Z"
   },
   {
    "duration": 148,
    "start_time": "2022-07-02T14:15:22.391Z"
   },
   {
    "duration": 110,
    "start_time": "2022-07-02T14:17:12.697Z"
   },
   {
    "duration": 138,
    "start_time": "2022-07-02T14:18:10.375Z"
   },
   {
    "duration": 125,
    "start_time": "2022-07-02T14:23:18.302Z"
   },
   {
    "duration": 8,
    "start_time": "2022-07-02T14:23:27.655Z"
   },
   {
    "duration": 9,
    "start_time": "2022-07-02T14:23:47.085Z"
   },
   {
    "duration": 9,
    "start_time": "2022-07-02T14:24:06.547Z"
   },
   {
    "duration": 9,
    "start_time": "2022-07-02T14:25:00.978Z"
   },
   {
    "duration": 9,
    "start_time": "2022-07-02T14:25:16.754Z"
   },
   {
    "duration": 9,
    "start_time": "2022-07-02T14:27:06.022Z"
   },
   {
    "duration": 12,
    "start_time": "2022-07-02T14:27:17.350Z"
   },
   {
    "duration": 9,
    "start_time": "2022-07-02T14:29:08.291Z"
   },
   {
    "duration": 9,
    "start_time": "2022-07-02T14:29:46.443Z"
   },
   {
    "duration": 8,
    "start_time": "2022-07-02T14:30:07.695Z"
   },
   {
    "duration": 8,
    "start_time": "2022-07-02T14:30:26.486Z"
   },
   {
    "duration": 42,
    "start_time": "2022-07-02T14:30:32.301Z"
   },
   {
    "duration": 56,
    "start_time": "2022-07-02T14:31:43.353Z"
   },
   {
    "duration": 45,
    "start_time": "2022-07-02T14:31:58.427Z"
   },
   {
    "duration": 62,
    "start_time": "2022-07-02T14:32:22.698Z"
   },
   {
    "duration": 66,
    "start_time": "2022-07-02T14:32:35.522Z"
   },
   {
    "duration": 3,
    "start_time": "2022-07-02T14:32:43.419Z"
   },
   {
    "duration": 49,
    "start_time": "2022-07-02T14:34:04.887Z"
   },
   {
    "duration": 46,
    "start_time": "2022-07-02T14:34:10.766Z"
   },
   {
    "duration": 46,
    "start_time": "2022-07-02T14:34:14.583Z"
   },
   {
    "duration": 45,
    "start_time": "2022-07-02T14:34:17.678Z"
   },
   {
    "duration": 11,
    "start_time": "2022-07-02T14:34:47.383Z"
   },
   {
    "duration": 11,
    "start_time": "2022-07-02T14:41:36.591Z"
   },
   {
    "duration": 11,
    "start_time": "2022-07-02T14:41:38.618Z"
   },
   {
    "duration": 131,
    "start_time": "2022-07-02T14:43:39.308Z"
   },
   {
    "duration": 137,
    "start_time": "2022-07-02T14:44:31.012Z"
   },
   {
    "duration": 212,
    "start_time": "2022-07-02T14:44:37.682Z"
   },
   {
    "duration": 143,
    "start_time": "2022-07-02T14:46:05.053Z"
   },
   {
    "duration": 73,
    "start_time": "2022-07-02T14:59:17.019Z"
   },
   {
    "duration": 55,
    "start_time": "2022-07-02T14:59:40.096Z"
   },
   {
    "duration": 10,
    "start_time": "2022-07-02T14:59:55.225Z"
   },
   {
    "duration": 10,
    "start_time": "2022-07-02T15:01:16.875Z"
   },
   {
    "duration": 10,
    "start_time": "2022-07-02T15:01:21.104Z"
   },
   {
    "duration": 10,
    "start_time": "2022-07-02T15:01:26.600Z"
   },
   {
    "duration": 10,
    "start_time": "2022-07-02T15:01:33.069Z"
   },
   {
    "duration": 13,
    "start_time": "2022-07-02T15:02:04.140Z"
   },
   {
    "duration": 10,
    "start_time": "2022-07-02T15:02:09.215Z"
   },
   {
    "duration": 1097,
    "start_time": "2022-07-02T15:04:01.151Z"
   },
   {
    "duration": 494,
    "start_time": "2022-07-02T15:04:02.250Z"
   },
   {
    "duration": 2,
    "start_time": "2022-07-02T15:04:02.746Z"
   },
   {
    "duration": 79,
    "start_time": "2022-07-02T15:04:02.750Z"
   },
   {
    "duration": 100,
    "start_time": "2022-07-02T15:04:02.831Z"
   },
   {
    "duration": 62,
    "start_time": "2022-07-02T15:04:02.933Z"
   },
   {
    "duration": 212,
    "start_time": "2022-07-02T15:04:02.997Z"
   },
   {
    "duration": 5,
    "start_time": "2022-07-02T15:04:03.211Z"
   },
   {
    "duration": 82,
    "start_time": "2022-07-02T15:04:03.227Z"
   },
   {
    "duration": 19,
    "start_time": "2022-07-02T15:04:03.310Z"
   },
   {
    "duration": 41,
    "start_time": "2022-07-02T15:04:03.331Z"
   },
   {
    "duration": 9,
    "start_time": "2022-07-02T15:04:03.374Z"
   },
   {
    "duration": 69,
    "start_time": "2022-07-02T15:04:03.385Z"
   },
   {
    "duration": 24,
    "start_time": "2022-07-02T15:04:03.457Z"
   },
   {
    "duration": 8,
    "start_time": "2022-07-02T15:04:03.483Z"
   },
   {
    "duration": 72,
    "start_time": "2022-07-02T15:04:03.493Z"
   },
   {
    "duration": 35,
    "start_time": "2022-07-02T15:04:03.567Z"
   },
   {
    "duration": 8,
    "start_time": "2022-07-02T15:04:03.603Z"
   },
   {
    "duration": 32,
    "start_time": "2022-07-02T15:04:03.613Z"
   },
   {
    "duration": 22,
    "start_time": "2022-07-02T15:04:03.648Z"
   },
   {
    "duration": 20,
    "start_time": "2022-07-02T15:04:03.672Z"
   },
   {
    "duration": 10,
    "start_time": "2022-07-02T15:04:03.694Z"
   },
   {
    "duration": 9,
    "start_time": "2022-07-02T15:04:03.727Z"
   },
   {
    "duration": 7,
    "start_time": "2022-07-02T15:04:03.738Z"
   },
   {
    "duration": 20,
    "start_time": "2022-07-02T15:04:03.746Z"
   },
   {
    "duration": 12,
    "start_time": "2022-07-02T15:04:03.768Z"
   },
   {
    "duration": 151,
    "start_time": "2022-07-02T15:04:03.781Z"
   },
   {
    "duration": 31,
    "start_time": "2022-07-02T15:04:03.935Z"
   },
   {
    "duration": 4,
    "start_time": "2022-07-02T15:04:03.967Z"
   },
   {
    "duration": 14,
    "start_time": "2022-07-02T15:04:03.973Z"
   },
   {
    "duration": 34,
    "start_time": "2022-07-02T15:04:03.989Z"
   },
   {
    "duration": 26,
    "start_time": "2022-07-02T15:04:04.024Z"
   },
   {
    "duration": 17,
    "start_time": "2022-07-02T15:04:04.052Z"
   },
   {
    "duration": 176,
    "start_time": "2022-07-02T15:04:04.070Z"
   },
   {
    "duration": 126,
    "start_time": "2022-07-02T15:04:04.248Z"
   },
   {
    "duration": 145,
    "start_time": "2022-07-02T15:04:04.376Z"
   },
   {
    "duration": 45,
    "start_time": "2022-07-02T15:04:04.527Z"
   },
   {
    "duration": 10,
    "start_time": "2022-07-02T15:04:04.573Z"
   },
   {
    "duration": 168,
    "start_time": "2022-07-02T15:04:04.585Z"
   },
   {
    "duration": 168,
    "start_time": "2022-07-02T15:04:04.755Z"
   },
   {
    "duration": 10,
    "start_time": "2022-07-02T15:04:04.928Z"
   },
   {
    "duration": 13,
    "start_time": "2022-07-02T15:04:43.747Z"
   },
   {
    "duration": 10,
    "start_time": "2022-07-02T15:05:00.154Z"
   },
   {
    "duration": 10,
    "start_time": "2022-07-02T15:05:05.515Z"
   },
   {
    "duration": 11,
    "start_time": "2022-07-02T15:05:10.154Z"
   },
   {
    "duration": 10,
    "start_time": "2022-07-02T15:05:14.491Z"
   },
   {
    "duration": 13,
    "start_time": "2022-07-02T15:05:26.211Z"
   },
   {
    "duration": 12,
    "start_time": "2022-07-02T15:06:29.983Z"
   },
   {
    "duration": 14,
    "start_time": "2022-07-02T15:06:42.800Z"
   },
   {
    "duration": 11,
    "start_time": "2022-07-02T15:06:47.616Z"
   },
   {
    "duration": 142,
    "start_time": "2022-07-02T15:08:24.575Z"
   },
   {
    "duration": 126,
    "start_time": "2022-07-02T15:09:58.444Z"
   },
   {
    "duration": 100,
    "start_time": "2022-07-02T15:13:17.039Z"
   },
   {
    "duration": 11,
    "start_time": "2022-07-02T15:13:30.235Z"
   },
   {
    "duration": 228,
    "start_time": "2022-07-02T15:15:12.491Z"
   },
   {
    "duration": 165,
    "start_time": "2022-07-02T15:16:16.299Z"
   },
   {
    "duration": 139,
    "start_time": "2022-07-02T15:16:22.305Z"
   },
   {
    "duration": 4,
    "start_time": "2022-07-02T22:37:28.251Z"
   },
   {
    "duration": 4,
    "start_time": "2022-07-02T22:37:34.752Z"
   },
   {
    "duration": 4,
    "start_time": "2022-07-02T22:37:40.652Z"
   },
   {
    "duration": 34,
    "start_time": "2022-07-02T22:47:58.016Z"
   },
   {
    "duration": 6,
    "start_time": "2022-07-02T22:49:07.120Z"
   },
   {
    "duration": 19,
    "start_time": "2022-07-02T22:50:33.251Z"
   },
   {
    "duration": 4,
    "start_time": "2022-07-02T22:50:47.619Z"
   },
   {
    "duration": 28,
    "start_time": "2022-07-02T22:50:48.819Z"
   },
   {
    "duration": 5,
    "start_time": "2022-07-02T22:50:50.954Z"
   },
   {
    "duration": 15,
    "start_time": "2022-07-02T22:50:51.385Z"
   },
   {
    "duration": 4,
    "start_time": "2022-07-02T22:51:13.151Z"
   },
   {
    "duration": 31,
    "start_time": "2022-07-02T22:51:13.918Z"
   },
   {
    "duration": 5,
    "start_time": "2022-07-02T22:51:16.058Z"
   },
   {
    "duration": 174,
    "start_time": "2022-07-02T22:51:16.419Z"
   },
   {
    "duration": 4,
    "start_time": "2022-07-02T22:52:25.213Z"
   },
   {
    "duration": 28,
    "start_time": "2022-07-02T22:52:26.190Z"
   },
   {
    "duration": 6,
    "start_time": "2022-07-02T22:52:27.994Z"
   },
   {
    "duration": 7,
    "start_time": "2022-07-02T22:52:28.471Z"
   },
   {
    "duration": 717,
    "start_time": "2022-07-02T22:52:31.087Z"
   },
   {
    "duration": 839,
    "start_time": "2022-07-02T22:53:14.978Z"
   },
   {
    "duration": 14,
    "start_time": "2022-07-02T22:54:47.528Z"
   },
   {
    "duration": 972,
    "start_time": "2022-07-02T22:54:52.255Z"
   },
   {
    "duration": 1156,
    "start_time": "2022-07-02T22:54:59.158Z"
   },
   {
    "duration": 583,
    "start_time": "2022-07-02T22:55:00.315Z"
   },
   {
    "duration": 2,
    "start_time": "2022-07-02T22:55:00.899Z"
   },
   {
    "duration": 115,
    "start_time": "2022-07-02T22:55:00.903Z"
   },
   {
    "duration": 96,
    "start_time": "2022-07-02T22:55:01.020Z"
   },
   {
    "duration": 84,
    "start_time": "2022-07-02T22:55:01.118Z"
   },
   {
    "duration": 229,
    "start_time": "2022-07-02T22:55:01.204Z"
   },
   {
    "duration": 11,
    "start_time": "2022-07-02T22:55:01.435Z"
   },
   {
    "duration": 95,
    "start_time": "2022-07-02T22:55:01.449Z"
   },
   {
    "duration": 41,
    "start_time": "2022-07-02T22:55:01.547Z"
   },
   {
    "duration": 75,
    "start_time": "2022-07-02T22:55:01.589Z"
   },
   {
    "duration": 10,
    "start_time": "2022-07-02T22:55:01.666Z"
   },
   {
    "duration": 87,
    "start_time": "2022-07-02T22:55:01.680Z"
   },
   {
    "duration": 27,
    "start_time": "2022-07-02T22:55:01.768Z"
   },
   {
    "duration": 8,
    "start_time": "2022-07-02T22:55:01.797Z"
   },
   {
    "duration": 97,
    "start_time": "2022-07-02T22:55:01.807Z"
   },
   {
    "duration": 39,
    "start_time": "2022-07-02T22:55:01.906Z"
   },
   {
    "duration": 40,
    "start_time": "2022-07-02T22:55:01.951Z"
   },
   {
    "duration": 38,
    "start_time": "2022-07-02T22:55:01.993Z"
   },
   {
    "duration": 51,
    "start_time": "2022-07-02T22:55:02.033Z"
   },
   {
    "duration": 43,
    "start_time": "2022-07-02T22:55:02.086Z"
   },
   {
    "duration": 46,
    "start_time": "2022-07-02T22:55:02.131Z"
   },
   {
    "duration": 30,
    "start_time": "2022-07-02T22:55:02.179Z"
   },
   {
    "duration": 58,
    "start_time": "2022-07-02T22:55:02.210Z"
   },
   {
    "duration": 45,
    "start_time": "2022-07-02T22:55:02.270Z"
   },
   {
    "duration": 39,
    "start_time": "2022-07-02T22:55:02.317Z"
   },
   {
    "duration": 182,
    "start_time": "2022-07-02T22:55:02.360Z"
   },
   {
    "duration": 37,
    "start_time": "2022-07-02T22:55:02.549Z"
   },
   {
    "duration": 4,
    "start_time": "2022-07-02T22:55:02.588Z"
   },
   {
    "duration": 10,
    "start_time": "2022-07-02T22:55:02.593Z"
   },
   {
    "duration": 17,
    "start_time": "2022-07-02T22:55:02.605Z"
   },
   {
    "duration": 22,
    "start_time": "2022-07-02T22:55:02.639Z"
   },
   {
    "duration": 6,
    "start_time": "2022-07-02T22:55:02.663Z"
   },
   {
    "duration": 205,
    "start_time": "2022-07-02T22:55:02.670Z"
   },
   {
    "duration": 137,
    "start_time": "2022-07-02T22:55:02.877Z"
   },
   {
    "duration": 166,
    "start_time": "2022-07-02T22:55:03.016Z"
   },
   {
    "duration": 44,
    "start_time": "2022-07-02T22:55:03.183Z"
   },
   {
    "duration": 15,
    "start_time": "2022-07-02T22:55:03.228Z"
   },
   {
    "duration": 199,
    "start_time": "2022-07-02T22:55:03.249Z"
   },
   {
    "duration": 173,
    "start_time": "2022-07-02T22:55:03.450Z"
   },
   {
    "duration": 27,
    "start_time": "2022-07-02T22:55:03.625Z"
   },
   {
    "duration": 189,
    "start_time": "2022-07-02T22:55:03.653Z"
   },
   {
    "duration": 214,
    "start_time": "2022-07-02T22:55:03.844Z"
   },
   {
    "duration": 12,
    "start_time": "2022-07-02T22:55:04.063Z"
   },
   {
    "duration": 259,
    "start_time": "2022-07-02T22:55:04.077Z"
   },
   {
    "duration": 164,
    "start_time": "2022-07-02T22:55:04.338Z"
   },
   {
    "duration": 4,
    "start_time": "2022-07-02T22:55:04.503Z"
   },
   {
    "duration": 34,
    "start_time": "2022-07-02T22:55:04.509Z"
   },
   {
    "duration": 20,
    "start_time": "2022-07-02T22:55:04.545Z"
   },
   {
    "duration": 10,
    "start_time": "2022-07-02T22:55:04.567Z"
   },
   {
    "duration": 6,
    "start_time": "2022-07-02T22:55:04.579Z"
   },
   {
    "duration": 1154,
    "start_time": "2022-07-02T22:55:40.685Z"
   },
   {
    "duration": 626,
    "start_time": "2022-07-02T22:55:41.842Z"
   },
   {
    "duration": 2,
    "start_time": "2022-07-02T22:55:42.470Z"
   },
   {
    "duration": 77,
    "start_time": "2022-07-02T22:55:42.474Z"
   },
   {
    "duration": 104,
    "start_time": "2022-07-02T22:55:42.554Z"
   },
   {
    "duration": 124,
    "start_time": "2022-07-02T22:55:42.663Z"
   },
   {
    "duration": 269,
    "start_time": "2022-07-02T22:55:42.797Z"
   },
   {
    "duration": 5,
    "start_time": "2022-07-02T22:55:43.067Z"
   },
   {
    "duration": 93,
    "start_time": "2022-07-02T22:55:43.074Z"
   },
   {
    "duration": 10,
    "start_time": "2022-07-02T22:55:43.172Z"
   },
   {
    "duration": 43,
    "start_time": "2022-07-02T22:55:43.184Z"
   },
   {
    "duration": 23,
    "start_time": "2022-07-02T22:55:43.234Z"
   },
   {
    "duration": 61,
    "start_time": "2022-07-02T22:55:43.260Z"
   },
   {
    "duration": 42,
    "start_time": "2022-07-02T22:55:43.324Z"
   },
   {
    "duration": 10,
    "start_time": "2022-07-02T22:55:43.368Z"
   },
   {
    "duration": 63,
    "start_time": "2022-07-02T22:55:43.381Z"
   },
   {
    "duration": 64,
    "start_time": "2022-07-02T22:55:43.446Z"
   },
   {
    "duration": 7,
    "start_time": "2022-07-02T22:55:43.512Z"
   },
   {
    "duration": 22,
    "start_time": "2022-07-02T22:55:43.522Z"
   },
   {
    "duration": 35,
    "start_time": "2022-07-02T22:55:43.547Z"
   },
   {
    "duration": 19,
    "start_time": "2022-07-02T22:55:43.583Z"
   },
   {
    "duration": 8,
    "start_time": "2022-07-02T22:55:43.604Z"
   },
   {
    "duration": 14,
    "start_time": "2022-07-02T22:55:43.614Z"
   },
   {
    "duration": 15,
    "start_time": "2022-07-02T22:55:43.629Z"
   },
   {
    "duration": 37,
    "start_time": "2022-07-02T22:55:43.646Z"
   },
   {
    "duration": 21,
    "start_time": "2022-07-02T22:55:43.685Z"
   },
   {
    "duration": 184,
    "start_time": "2022-07-02T22:55:43.708Z"
   },
   {
    "duration": 48,
    "start_time": "2022-07-02T22:55:43.897Z"
   },
   {
    "duration": 4,
    "start_time": "2022-07-02T22:55:43.947Z"
   },
   {
    "duration": 42,
    "start_time": "2022-07-02T22:55:43.953Z"
   },
   {
    "duration": 18,
    "start_time": "2022-07-02T22:55:43.997Z"
   },
   {
    "duration": 34,
    "start_time": "2022-07-02T22:55:44.017Z"
   },
   {
    "duration": 21,
    "start_time": "2022-07-02T22:55:44.057Z"
   },
   {
    "duration": 202,
    "start_time": "2022-07-02T22:55:44.079Z"
   },
   {
    "duration": 138,
    "start_time": "2022-07-02T22:55:44.283Z"
   },
   {
    "duration": 191,
    "start_time": "2022-07-02T22:55:44.423Z"
   },
   {
    "duration": 64,
    "start_time": "2022-07-02T22:55:44.616Z"
   },
   {
    "duration": 12,
    "start_time": "2022-07-02T22:55:44.681Z"
   },
   {
    "duration": 210,
    "start_time": "2022-07-02T22:55:44.695Z"
   },
   {
    "duration": 181,
    "start_time": "2022-07-02T22:55:44.907Z"
   },
   {
    "duration": 10,
    "start_time": "2022-07-02T22:55:45.089Z"
   },
   {
    "duration": 184,
    "start_time": "2022-07-02T22:55:45.101Z"
   },
   {
    "duration": 152,
    "start_time": "2022-07-02T22:55:45.287Z"
   },
   {
    "duration": 12,
    "start_time": "2022-07-02T22:55:45.441Z"
   },
   {
    "duration": 264,
    "start_time": "2022-07-02T22:55:45.454Z"
   },
   {
    "duration": 181,
    "start_time": "2022-07-02T22:55:45.720Z"
   },
   {
    "duration": 6,
    "start_time": "2022-07-02T22:55:45.903Z"
   },
   {
    "duration": 33,
    "start_time": "2022-07-02T22:55:45.910Z"
   },
   {
    "duration": 30,
    "start_time": "2022-07-02T22:55:45.945Z"
   },
   {
    "duration": 7,
    "start_time": "2022-07-02T22:55:45.976Z"
   },
   {
    "duration": 8,
    "start_time": "2022-07-02T22:55:45.985Z"
   },
   {
    "duration": 103,
    "start_time": "2022-07-02T22:56:21.356Z"
   },
   {
    "duration": 3,
    "start_time": "2022-07-02T22:56:53.019Z"
   },
   {
    "duration": 7,
    "start_time": "2022-07-02T22:57:10.899Z"
   },
   {
    "duration": 748,
    "start_time": "2022-07-02T22:57:12.674Z"
   },
   {
    "duration": 825,
    "start_time": "2022-07-02T22:57:19.546Z"
   },
   {
    "duration": 4,
    "start_time": "2022-07-02T22:57:24.753Z"
   },
   {
    "duration": 5,
    "start_time": "2022-07-02T22:57:32.585Z"
   },
   {
    "duration": 3,
    "start_time": "2022-07-02T22:57:38.979Z"
   },
   {
    "duration": 7,
    "start_time": "2022-07-02T22:57:44.114Z"
   },
   {
    "duration": 3,
    "start_time": "2022-07-02T22:58:06.264Z"
   },
   {
    "duration": 9,
    "start_time": "2022-07-02T22:59:02.444Z"
   },
   {
    "duration": 51,
    "start_time": "2022-07-02T22:59:41.462Z"
   },
   {
    "duration": 6,
    "start_time": "2022-07-02T22:59:47.251Z"
   },
   {
    "duration": 3,
    "start_time": "2022-07-02T23:00:59.092Z"
   },
   {
    "duration": 1228,
    "start_time": "2022-07-03T12:21:58.896Z"
   },
   {
    "duration": 1109,
    "start_time": "2022-07-03T12:22:00.127Z"
   },
   {
    "duration": 3,
    "start_time": "2022-07-03T12:22:01.238Z"
   },
   {
    "duration": 144,
    "start_time": "2022-07-03T12:22:01.243Z"
   },
   {
    "duration": 130,
    "start_time": "2022-07-03T12:22:01.391Z"
   },
   {
    "duration": 81,
    "start_time": "2022-07-03T12:22:01.523Z"
   },
   {
    "duration": 290,
    "start_time": "2022-07-03T12:22:01.606Z"
   },
   {
    "duration": 7,
    "start_time": "2022-07-03T12:22:01.898Z"
   },
   {
    "duration": 108,
    "start_time": "2022-07-03T12:22:01.906Z"
   },
   {
    "duration": 11,
    "start_time": "2022-07-03T12:22:02.017Z"
   },
   {
    "duration": 60,
    "start_time": "2022-07-03T12:22:02.030Z"
   },
   {
    "duration": 10,
    "start_time": "2022-07-03T12:22:02.092Z"
   },
   {
    "duration": 61,
    "start_time": "2022-07-03T12:22:02.104Z"
   },
   {
    "duration": 23,
    "start_time": "2022-07-03T12:22:02.169Z"
   },
   {
    "duration": 7,
    "start_time": "2022-07-03T12:22:02.194Z"
   },
   {
    "duration": 84,
    "start_time": "2022-07-03T12:22:02.202Z"
   },
   {
    "duration": 41,
    "start_time": "2022-07-03T12:22:02.288Z"
   },
   {
    "duration": 23,
    "start_time": "2022-07-03T12:22:02.331Z"
   },
   {
    "duration": 16,
    "start_time": "2022-07-03T12:22:02.356Z"
   },
   {
    "duration": 21,
    "start_time": "2022-07-03T12:22:02.374Z"
   },
   {
    "duration": 23,
    "start_time": "2022-07-03T12:22:02.397Z"
   },
   {
    "duration": 11,
    "start_time": "2022-07-03T12:22:02.452Z"
   },
   {
    "duration": 12,
    "start_time": "2022-07-03T12:22:02.465Z"
   },
   {
    "duration": 6,
    "start_time": "2022-07-03T12:22:02.480Z"
   },
   {
    "duration": 18,
    "start_time": "2022-07-03T12:22:02.487Z"
   },
   {
    "duration": 5,
    "start_time": "2022-07-03T12:22:02.507Z"
   },
   {
    "duration": 139,
    "start_time": "2022-07-03T12:22:02.514Z"
   },
   {
    "duration": 34,
    "start_time": "2022-07-03T12:22:02.654Z"
   },
   {
    "duration": 5,
    "start_time": "2022-07-03T12:22:02.690Z"
   },
   {
    "duration": 9,
    "start_time": "2022-07-03T12:22:02.697Z"
   },
   {
    "duration": 42,
    "start_time": "2022-07-03T12:22:02.708Z"
   },
   {
    "duration": 20,
    "start_time": "2022-07-03T12:22:02.752Z"
   },
   {
    "duration": 7,
    "start_time": "2022-07-03T12:22:02.774Z"
   },
   {
    "duration": 205,
    "start_time": "2022-07-03T12:22:02.783Z"
   },
   {
    "duration": 191,
    "start_time": "2022-07-03T12:22:02.989Z"
   },
   {
    "duration": 141,
    "start_time": "2022-07-03T12:22:03.182Z"
   },
   {
    "duration": 53,
    "start_time": "2022-07-03T12:22:03.325Z"
   },
   {
    "duration": 13,
    "start_time": "2022-07-03T12:22:03.379Z"
   },
   {
    "duration": 167,
    "start_time": "2022-07-03T12:22:03.394Z"
   },
   {
    "duration": 178,
    "start_time": "2022-07-03T12:22:03.564Z"
   },
   {
    "duration": 12,
    "start_time": "2022-07-03T12:22:03.750Z"
   },
   {
    "duration": 166,
    "start_time": "2022-07-03T12:22:03.763Z"
   },
   {
    "duration": 143,
    "start_time": "2022-07-03T12:22:03.930Z"
   },
   {
    "duration": 12,
    "start_time": "2022-07-03T12:22:04.076Z"
   },
   {
    "duration": 243,
    "start_time": "2022-07-03T12:22:04.090Z"
   },
   {
    "duration": 180,
    "start_time": "2022-07-03T12:22:04.335Z"
   },
   {
    "duration": 5,
    "start_time": "2022-07-03T12:22:04.517Z"
   },
   {
    "duration": 49,
    "start_time": "2022-07-03T12:22:04.524Z"
   },
   {
    "duration": 12,
    "start_time": "2022-07-03T12:22:04.576Z"
   },
   {
    "duration": 13,
    "start_time": "2022-07-03T12:22:04.590Z"
   },
   {
    "duration": 16,
    "start_time": "2022-07-03T12:22:04.605Z"
   },
   {
    "duration": 10,
    "start_time": "2022-07-03T12:22:04.623Z"
   },
   {
    "duration": 8,
    "start_time": "2022-07-03T12:22:04.635Z"
   },
   {
    "duration": 4,
    "start_time": "2022-07-03T12:22:16.987Z"
   },
   {
    "duration": 4,
    "start_time": "2022-07-03T12:22:18.487Z"
   },
   {
    "duration": 4,
    "start_time": "2022-07-03T12:22:28.103Z"
   },
   {
    "duration": 4,
    "start_time": "2022-07-03T12:22:29.907Z"
   },
   {
    "duration": 4,
    "start_time": "2022-07-03T12:22:47.499Z"
   },
   {
    "duration": 4,
    "start_time": "2022-07-03T12:22:48.284Z"
   },
   {
    "duration": 3,
    "start_time": "2022-07-03T12:23:28.316Z"
   },
   {
    "duration": 5,
    "start_time": "2022-07-03T12:29:28.409Z"
   },
   {
    "duration": 881,
    "start_time": "2022-07-03T12:30:21.218Z"
   },
   {
    "duration": 4,
    "start_time": "2022-07-03T12:30:35.121Z"
   },
   {
    "duration": 4,
    "start_time": "2022-07-03T12:31:43.803Z"
   },
   {
    "duration": 4,
    "start_time": "2022-07-03T12:35:01.987Z"
   },
   {
    "duration": 4,
    "start_time": "2022-07-03T12:35:11.900Z"
   },
   {
    "duration": 5,
    "start_time": "2022-07-03T12:35:16.412Z"
   },
   {
    "duration": 4,
    "start_time": "2022-07-03T12:35:18.092Z"
   },
   {
    "duration": 6,
    "start_time": "2022-07-03T12:37:23.089Z"
   },
   {
    "duration": 8,
    "start_time": "2022-07-03T12:40:21.574Z"
   },
   {
    "duration": 9,
    "start_time": "2022-07-03T12:40:30.170Z"
   },
   {
    "duration": 3,
    "start_time": "2022-07-03T12:41:41.673Z"
   },
   {
    "duration": 5,
    "start_time": "2022-07-03T12:43:52.776Z"
   },
   {
    "duration": 1079,
    "start_time": "2022-07-03T12:44:07.564Z"
   },
   {
    "duration": 456,
    "start_time": "2022-07-03T12:44:08.644Z"
   },
   {
    "duration": 3,
    "start_time": "2022-07-03T12:44:09.101Z"
   },
   {
    "duration": 77,
    "start_time": "2022-07-03T12:44:09.105Z"
   },
   {
    "duration": 92,
    "start_time": "2022-07-03T12:44:09.184Z"
   },
   {
    "duration": 56,
    "start_time": "2022-07-03T12:44:09.278Z"
   },
   {
    "duration": 197,
    "start_time": "2022-07-03T12:44:09.336Z"
   },
   {
    "duration": 5,
    "start_time": "2022-07-03T12:44:09.535Z"
   },
   {
    "duration": 80,
    "start_time": "2022-07-03T12:44:09.553Z"
   },
   {
    "duration": 10,
    "start_time": "2022-07-03T12:44:09.634Z"
   },
   {
    "duration": 46,
    "start_time": "2022-07-03T12:44:09.651Z"
   },
   {
    "duration": 9,
    "start_time": "2022-07-03T12:44:09.699Z"
   },
   {
    "duration": 75,
    "start_time": "2022-07-03T12:44:09.710Z"
   },
   {
    "duration": 21,
    "start_time": "2022-07-03T12:44:09.788Z"
   },
   {
    "duration": 6,
    "start_time": "2022-07-03T12:44:09.811Z"
   },
   {
    "duration": 79,
    "start_time": "2022-07-03T12:44:09.819Z"
   },
   {
    "duration": 24,
    "start_time": "2022-07-03T12:44:09.900Z"
   },
   {
    "duration": 6,
    "start_time": "2022-07-03T12:44:09.926Z"
   },
   {
    "duration": 33,
    "start_time": "2022-07-03T12:44:09.934Z"
   },
   {
    "duration": 20,
    "start_time": "2022-07-03T12:44:09.969Z"
   },
   {
    "duration": 18,
    "start_time": "2022-07-03T12:44:09.991Z"
   },
   {
    "duration": 40,
    "start_time": "2022-07-03T12:44:10.011Z"
   },
   {
    "duration": 11,
    "start_time": "2022-07-03T12:44:10.054Z"
   },
   {
    "duration": 18,
    "start_time": "2022-07-03T12:44:10.067Z"
   },
   {
    "duration": 14,
    "start_time": "2022-07-03T12:44:10.086Z"
   },
   {
    "duration": 4,
    "start_time": "2022-07-03T12:44:10.101Z"
   },
   {
    "duration": 148,
    "start_time": "2022-07-03T12:44:10.106Z"
   },
   {
    "duration": 38,
    "start_time": "2022-07-03T12:44:10.257Z"
   },
   {
    "duration": 5,
    "start_time": "2022-07-03T12:44:10.297Z"
   },
   {
    "duration": 7,
    "start_time": "2022-07-03T12:44:10.304Z"
   },
   {
    "duration": 17,
    "start_time": "2022-07-03T12:44:10.312Z"
   },
   {
    "duration": 36,
    "start_time": "2022-07-03T12:44:10.331Z"
   },
   {
    "duration": 6,
    "start_time": "2022-07-03T12:44:10.369Z"
   },
   {
    "duration": 183,
    "start_time": "2022-07-03T12:44:10.377Z"
   },
   {
    "duration": 150,
    "start_time": "2022-07-03T12:44:10.561Z"
   },
   {
    "duration": 153,
    "start_time": "2022-07-03T12:44:10.713Z"
   },
   {
    "duration": 45,
    "start_time": "2022-07-03T12:44:10.868Z"
   },
   {
    "duration": 10,
    "start_time": "2022-07-03T12:44:10.915Z"
   },
   {
    "duration": 206,
    "start_time": "2022-07-03T12:44:10.926Z"
   },
   {
    "duration": 166,
    "start_time": "2022-07-03T12:44:11.134Z"
   },
   {
    "duration": 9,
    "start_time": "2022-07-03T12:44:11.304Z"
   },
   {
    "duration": 170,
    "start_time": "2022-07-03T12:44:11.315Z"
   },
   {
    "duration": 149,
    "start_time": "2022-07-03T12:44:11.487Z"
   },
   {
    "duration": 18,
    "start_time": "2022-07-03T12:44:11.638Z"
   },
   {
    "duration": 230,
    "start_time": "2022-07-03T12:44:11.658Z"
   },
   {
    "duration": 137,
    "start_time": "2022-07-03T12:44:11.891Z"
   },
   {
    "duration": 4,
    "start_time": "2022-07-03T12:44:12.029Z"
   },
   {
    "duration": 58,
    "start_time": "2022-07-03T12:44:12.034Z"
   },
   {
    "duration": 12,
    "start_time": "2022-07-03T12:44:12.094Z"
   },
   {
    "duration": 22,
    "start_time": "2022-07-03T12:44:12.107Z"
   },
   {
    "duration": 15,
    "start_time": "2022-07-03T12:44:12.130Z"
   },
   {
    "duration": 17,
    "start_time": "2022-07-03T12:44:12.147Z"
   },
   {
    "duration": 19,
    "start_time": "2022-07-03T12:44:12.166Z"
   },
   {
    "duration": 13,
    "start_time": "2022-07-03T12:44:12.187Z"
   },
   {
    "duration": 20,
    "start_time": "2022-07-03T12:44:12.202Z"
   },
   {
    "duration": 40,
    "start_time": "2022-07-03T12:44:12.224Z"
   },
   {
    "duration": 20,
    "start_time": "2022-07-03T12:44:12.266Z"
   },
   {
    "duration": 26,
    "start_time": "2022-07-03T12:44:12.288Z"
   },
   {
    "duration": 11,
    "start_time": "2022-07-03T12:44:12.316Z"
   },
   {
    "duration": 58,
    "start_time": "2022-07-03T15:49:57.440Z"
   },
   {
    "duration": 5,
    "start_time": "2022-07-03T15:50:21.749Z"
   },
   {
    "duration": 7,
    "start_time": "2022-07-03T15:53:02.741Z"
   },
   {
    "duration": 1107,
    "start_time": "2022-07-03T15:53:09.802Z"
   },
   {
    "duration": 791,
    "start_time": "2022-07-03T15:53:10.911Z"
   },
   {
    "duration": 2,
    "start_time": "2022-07-03T15:53:11.704Z"
   },
   {
    "duration": 71,
    "start_time": "2022-07-03T15:53:11.709Z"
   },
   {
    "duration": 85,
    "start_time": "2022-07-03T15:53:11.781Z"
   },
   {
    "duration": 57,
    "start_time": "2022-07-03T15:53:11.868Z"
   },
   {
    "duration": 206,
    "start_time": "2022-07-03T15:53:11.927Z"
   },
   {
    "duration": 5,
    "start_time": "2022-07-03T15:53:12.135Z"
   },
   {
    "duration": 68,
    "start_time": "2022-07-03T15:53:12.141Z"
   },
   {
    "duration": 8,
    "start_time": "2022-07-03T15:53:12.211Z"
   },
   {
    "duration": 43,
    "start_time": "2022-07-03T15:53:12.220Z"
   },
   {
    "duration": 6,
    "start_time": "2022-07-03T15:53:12.265Z"
   },
   {
    "duration": 56,
    "start_time": "2022-07-03T15:53:12.272Z"
   },
   {
    "duration": 36,
    "start_time": "2022-07-03T15:53:12.330Z"
   },
   {
    "duration": 7,
    "start_time": "2022-07-03T15:53:12.368Z"
   },
   {
    "duration": 83,
    "start_time": "2022-07-03T15:53:12.376Z"
   },
   {
    "duration": 23,
    "start_time": "2022-07-03T15:53:12.461Z"
   },
   {
    "duration": 6,
    "start_time": "2022-07-03T15:53:12.486Z"
   },
   {
    "duration": 14,
    "start_time": "2022-07-03T15:53:12.494Z"
   },
   {
    "duration": 12,
    "start_time": "2022-07-03T15:53:12.510Z"
   },
   {
    "duration": 45,
    "start_time": "2022-07-03T15:53:12.524Z"
   },
   {
    "duration": 7,
    "start_time": "2022-07-03T15:53:12.571Z"
   },
   {
    "duration": 9,
    "start_time": "2022-07-03T15:53:12.579Z"
   },
   {
    "duration": 4,
    "start_time": "2022-07-03T15:53:12.589Z"
   },
   {
    "duration": 12,
    "start_time": "2022-07-03T15:53:12.594Z"
   },
   {
    "duration": 4,
    "start_time": "2022-07-03T15:53:12.607Z"
   },
   {
    "duration": 157,
    "start_time": "2022-07-03T15:53:12.612Z"
   },
   {
    "duration": 31,
    "start_time": "2022-07-03T15:53:12.772Z"
   },
   {
    "duration": 4,
    "start_time": "2022-07-03T15:53:12.804Z"
   },
   {
    "duration": 9,
    "start_time": "2022-07-03T15:53:12.809Z"
   },
   {
    "duration": 16,
    "start_time": "2022-07-03T15:53:12.820Z"
   },
   {
    "duration": 34,
    "start_time": "2022-07-03T15:53:12.837Z"
   },
   {
    "duration": 5,
    "start_time": "2022-07-03T15:53:12.873Z"
   },
   {
    "duration": 193,
    "start_time": "2022-07-03T15:53:12.879Z"
   },
   {
    "duration": 122,
    "start_time": "2022-07-03T15:53:13.074Z"
   },
   {
    "duration": 131,
    "start_time": "2022-07-03T15:53:13.197Z"
   },
   {
    "duration": 44,
    "start_time": "2022-07-03T15:53:13.330Z"
   },
   {
    "duration": 10,
    "start_time": "2022-07-03T15:53:13.375Z"
   },
   {
    "duration": 152,
    "start_time": "2022-07-03T15:53:13.387Z"
   },
   {
    "duration": 140,
    "start_time": "2022-07-03T15:53:13.540Z"
   },
   {
    "duration": 9,
    "start_time": "2022-07-03T15:53:13.682Z"
   },
   {
    "duration": 151,
    "start_time": "2022-07-03T15:53:13.693Z"
   },
   {
    "duration": 133,
    "start_time": "2022-07-03T15:53:13.846Z"
   },
   {
    "duration": 9,
    "start_time": "2022-07-03T15:53:13.981Z"
   },
   {
    "duration": 205,
    "start_time": "2022-07-03T15:53:13.992Z"
   },
   {
    "duration": 133,
    "start_time": "2022-07-03T15:53:14.199Z"
   },
   {
    "duration": 4,
    "start_time": "2022-07-03T15:53:14.333Z"
   },
   {
    "duration": 30,
    "start_time": "2022-07-03T15:53:14.339Z"
   },
   {
    "duration": 6,
    "start_time": "2022-07-03T15:53:14.371Z"
   },
   {
    "duration": 8,
    "start_time": "2022-07-03T15:53:14.379Z"
   },
   {
    "duration": 5,
    "start_time": "2022-07-03T15:53:14.389Z"
   },
   {
    "duration": 6,
    "start_time": "2022-07-03T15:53:14.395Z"
   },
   {
    "duration": 9,
    "start_time": "2022-07-03T15:53:14.402Z"
   },
   {
    "duration": 30,
    "start_time": "2022-07-03T15:53:14.413Z"
   },
   {
    "duration": 7,
    "start_time": "2022-07-03T15:53:14.445Z"
   },
   {
    "duration": 11,
    "start_time": "2022-07-03T15:53:14.453Z"
   },
   {
    "duration": 10,
    "start_time": "2022-07-03T15:53:14.466Z"
   },
   {
    "duration": 4,
    "start_time": "2022-07-03T15:53:14.477Z"
   },
   {
    "duration": 6,
    "start_time": "2022-07-03T15:53:14.482Z"
   },
   {
    "duration": 110,
    "start_time": "2022-07-03T15:53:14.490Z"
   },
   {
    "duration": 7,
    "start_time": "2022-07-03T15:53:50.676Z"
   },
   {
    "duration": 16,
    "start_time": "2022-07-03T15:54:01.293Z"
   },
   {
    "duration": 4,
    "start_time": "2022-07-03T15:54:27.707Z"
   },
   {
    "duration": 7,
    "start_time": "2022-07-03T15:54:43.129Z"
   },
   {
    "duration": 4,
    "start_time": "2022-07-03T15:54:45.745Z"
   },
   {
    "duration": 10,
    "start_time": "2022-07-03T15:55:38.284Z"
   },
   {
    "duration": 8,
    "start_time": "2022-07-03T15:55:56.786Z"
   },
   {
    "duration": 6,
    "start_time": "2022-07-03T15:55:58.056Z"
   },
   {
    "duration": 50,
    "start_time": "2022-07-03T15:56:16.187Z"
   },
   {
    "duration": 6,
    "start_time": "2022-07-03T15:56:21.602Z"
   },
   {
    "duration": 13,
    "start_time": "2022-07-03T16:00:20.499Z"
   },
   {
    "duration": 3,
    "start_time": "2022-07-03T16:00:39.473Z"
   },
   {
    "duration": 3,
    "start_time": "2022-07-03T16:00:50.807Z"
   },
   {
    "duration": 9,
    "start_time": "2022-07-03T16:01:05.632Z"
   },
   {
    "duration": 3,
    "start_time": "2022-07-03T16:01:12.945Z"
   },
   {
    "duration": 7,
    "start_time": "2022-07-03T16:03:05.477Z"
   },
   {
    "duration": 26,
    "start_time": "2022-07-03T16:03:18.003Z"
   },
   {
    "duration": 8,
    "start_time": "2022-07-03T16:03:43.193Z"
   },
   {
    "duration": 8,
    "start_time": "2022-07-03T16:06:00.405Z"
   },
   {
    "duration": 28,
    "start_time": "2022-07-03T16:06:03.736Z"
   },
   {
    "duration": 950,
    "start_time": "2022-07-03T16:06:17.102Z"
   },
   {
    "duration": 432,
    "start_time": "2022-07-03T16:06:18.053Z"
   },
   {
    "duration": 2,
    "start_time": "2022-07-03T16:06:18.487Z"
   },
   {
    "duration": 69,
    "start_time": "2022-07-03T16:06:18.491Z"
   },
   {
    "duration": 72,
    "start_time": "2022-07-03T16:06:18.562Z"
   },
   {
    "duration": 62,
    "start_time": "2022-07-03T16:06:18.635Z"
   },
   {
    "duration": 183,
    "start_time": "2022-07-03T16:06:18.698Z"
   },
   {
    "duration": 8,
    "start_time": "2022-07-03T16:06:18.883Z"
   },
   {
    "duration": 69,
    "start_time": "2022-07-03T16:06:18.892Z"
   },
   {
    "duration": 8,
    "start_time": "2022-07-03T16:06:18.964Z"
   },
   {
    "duration": 37,
    "start_time": "2022-07-03T16:06:18.974Z"
   },
   {
    "duration": 8,
    "start_time": "2022-07-03T16:06:19.012Z"
   },
   {
    "duration": 63,
    "start_time": "2022-07-03T16:06:19.021Z"
   },
   {
    "duration": 21,
    "start_time": "2022-07-03T16:06:19.086Z"
   },
   {
    "duration": 7,
    "start_time": "2022-07-03T16:06:19.108Z"
   },
   {
    "duration": 65,
    "start_time": "2022-07-03T16:06:19.117Z"
   },
   {
    "duration": 25,
    "start_time": "2022-07-03T16:06:19.183Z"
   },
   {
    "duration": 7,
    "start_time": "2022-07-03T16:06:19.209Z"
   },
   {
    "duration": 16,
    "start_time": "2022-07-03T16:06:19.217Z"
   },
   {
    "duration": 33,
    "start_time": "2022-07-03T16:06:19.234Z"
   },
   {
    "duration": 16,
    "start_time": "2022-07-03T16:06:19.268Z"
   },
   {
    "duration": 6,
    "start_time": "2022-07-03T16:06:19.286Z"
   },
   {
    "duration": 6,
    "start_time": "2022-07-03T16:06:19.294Z"
   },
   {
    "duration": 5,
    "start_time": "2022-07-03T16:06:19.302Z"
   },
   {
    "duration": 13,
    "start_time": "2022-07-03T16:06:19.308Z"
   },
   {
    "duration": 3,
    "start_time": "2022-07-03T16:06:19.322Z"
   },
   {
    "duration": 141,
    "start_time": "2022-07-03T16:06:19.327Z"
   },
   {
    "duration": 27,
    "start_time": "2022-07-03T16:06:19.471Z"
   },
   {
    "duration": 4,
    "start_time": "2022-07-03T16:06:19.500Z"
   },
   {
    "duration": 5,
    "start_time": "2022-07-03T16:06:19.506Z"
   },
   {
    "duration": 15,
    "start_time": "2022-07-03T16:06:19.512Z"
   },
   {
    "duration": 35,
    "start_time": "2022-07-03T16:06:19.529Z"
   },
   {
    "duration": 5,
    "start_time": "2022-07-03T16:06:19.565Z"
   },
   {
    "duration": 159,
    "start_time": "2022-07-03T16:06:19.571Z"
   },
   {
    "duration": 112,
    "start_time": "2022-07-03T16:06:19.732Z"
   },
   {
    "duration": 138,
    "start_time": "2022-07-03T16:06:19.846Z"
   },
   {
    "duration": 42,
    "start_time": "2022-07-03T16:06:19.986Z"
   },
   {
    "duration": 10,
    "start_time": "2022-07-03T16:06:20.030Z"
   },
   {
    "duration": 154,
    "start_time": "2022-07-03T16:06:20.041Z"
   },
   {
    "duration": 143,
    "start_time": "2022-07-03T16:06:20.197Z"
   },
   {
    "duration": 17,
    "start_time": "2022-07-03T16:06:20.342Z"
   },
   {
    "duration": 139,
    "start_time": "2022-07-03T16:06:20.360Z"
   },
   {
    "duration": 137,
    "start_time": "2022-07-03T16:06:20.500Z"
   },
   {
    "duration": 9,
    "start_time": "2022-07-03T16:06:20.639Z"
   },
   {
    "duration": 204,
    "start_time": "2022-07-03T16:06:20.659Z"
   },
   {
    "duration": 135,
    "start_time": "2022-07-03T16:06:20.865Z"
   },
   {
    "duration": 4,
    "start_time": "2022-07-03T16:06:21.002Z"
   },
   {
    "duration": 25,
    "start_time": "2022-07-03T16:06:21.007Z"
   },
   {
    "duration": 7,
    "start_time": "2022-07-03T16:06:21.034Z"
   },
   {
    "duration": 22,
    "start_time": "2022-07-03T16:06:21.042Z"
   },
   {
    "duration": 5,
    "start_time": "2022-07-03T16:06:21.065Z"
   },
   {
    "duration": 4,
    "start_time": "2022-07-03T16:06:21.071Z"
   },
   {
    "duration": 5,
    "start_time": "2022-07-03T16:06:21.076Z"
   },
   {
    "duration": 8,
    "start_time": "2022-07-03T16:06:21.083Z"
   },
   {
    "duration": 8,
    "start_time": "2022-07-03T16:06:21.092Z"
   },
   {
    "duration": 10,
    "start_time": "2022-07-03T16:06:21.101Z"
   },
   {
    "duration": 26,
    "start_time": "2022-07-03T16:06:21.113Z"
   },
   {
    "duration": 5,
    "start_time": "2022-07-03T16:06:21.140Z"
   },
   {
    "duration": 19,
    "start_time": "2022-07-03T16:06:21.146Z"
   },
   {
    "duration": 10,
    "start_time": "2022-07-03T16:06:21.166Z"
   },
   {
    "duration": 29,
    "start_time": "2022-07-03T16:06:21.177Z"
   },
   {
    "duration": 8,
    "start_time": "2022-07-03T16:06:35.143Z"
   },
   {
    "duration": 27,
    "start_time": "2022-07-03T16:06:37.208Z"
   },
   {
    "duration": 7,
    "start_time": "2022-07-03T16:07:35.109Z"
   },
   {
    "duration": 28,
    "start_time": "2022-07-03T16:07:36.678Z"
   },
   {
    "duration": 10,
    "start_time": "2022-07-03T16:08:30.443Z"
   },
   {
    "duration": 29,
    "start_time": "2022-07-03T16:08:50.067Z"
   },
   {
    "duration": 11,
    "start_time": "2022-07-03T16:08:52.817Z"
   },
   {
    "duration": 29,
    "start_time": "2022-07-03T16:08:54.103Z"
   },
   {
    "duration": 990,
    "start_time": "2022-07-03T16:08:59.520Z"
   },
   {
    "duration": 476,
    "start_time": "2022-07-03T16:09:00.512Z"
   },
   {
    "duration": 2,
    "start_time": "2022-07-03T16:09:00.989Z"
   },
   {
    "duration": 114,
    "start_time": "2022-07-03T16:09:00.993Z"
   },
   {
    "duration": 83,
    "start_time": "2022-07-03T16:09:01.108Z"
   },
   {
    "duration": 52,
    "start_time": "2022-07-03T16:09:01.192Z"
   },
   {
    "duration": 183,
    "start_time": "2022-07-03T16:09:01.246Z"
   },
   {
    "duration": 5,
    "start_time": "2022-07-03T16:09:01.431Z"
   },
   {
    "duration": 109,
    "start_time": "2022-07-03T16:09:01.438Z"
   },
   {
    "duration": 8,
    "start_time": "2022-07-03T16:09:01.550Z"
   },
   {
    "duration": 104,
    "start_time": "2022-07-03T16:09:01.559Z"
   },
   {
    "duration": 22,
    "start_time": "2022-07-03T16:09:01.665Z"
   },
   {
    "duration": 87,
    "start_time": "2022-07-03T16:09:01.688Z"
   },
   {
    "duration": 30,
    "start_time": "2022-07-03T16:09:01.777Z"
   },
   {
    "duration": 7,
    "start_time": "2022-07-03T16:09:01.808Z"
   },
   {
    "duration": 62,
    "start_time": "2022-07-03T16:09:01.816Z"
   },
   {
    "duration": 26,
    "start_time": "2022-07-03T16:09:01.879Z"
   },
   {
    "duration": 19,
    "start_time": "2022-07-03T16:09:01.907Z"
   },
   {
    "duration": 48,
    "start_time": "2022-07-03T16:09:01.928Z"
   },
   {
    "duration": 22,
    "start_time": "2022-07-03T16:09:01.977Z"
   },
   {
    "duration": 34,
    "start_time": "2022-07-03T16:09:02.000Z"
   },
   {
    "duration": 24,
    "start_time": "2022-07-03T16:09:02.037Z"
   },
   {
    "duration": 28,
    "start_time": "2022-07-03T16:09:02.063Z"
   },
   {
    "duration": 22,
    "start_time": "2022-07-03T16:09:02.092Z"
   },
   {
    "duration": 24,
    "start_time": "2022-07-03T16:09:02.115Z"
   },
   {
    "duration": 17,
    "start_time": "2022-07-03T16:09:02.141Z"
   },
   {
    "duration": 146,
    "start_time": "2022-07-03T16:09:02.160Z"
   },
   {
    "duration": 31,
    "start_time": "2022-07-03T16:09:02.311Z"
   },
   {
    "duration": 17,
    "start_time": "2022-07-03T16:09:02.344Z"
   },
   {
    "duration": 18,
    "start_time": "2022-07-03T16:09:02.363Z"
   },
   {
    "duration": 34,
    "start_time": "2022-07-03T16:09:02.383Z"
   },
   {
    "duration": 23,
    "start_time": "2022-07-03T16:09:02.418Z"
   },
   {
    "duration": 6,
    "start_time": "2022-07-03T16:09:02.443Z"
   },
   {
    "duration": 180,
    "start_time": "2022-07-03T16:09:02.451Z"
   },
   {
    "duration": 116,
    "start_time": "2022-07-03T16:09:02.633Z"
   },
   {
    "duration": 130,
    "start_time": "2022-07-03T16:09:02.767Z"
   },
   {
    "duration": 43,
    "start_time": "2022-07-03T16:09:02.898Z"
   },
   {
    "duration": 22,
    "start_time": "2022-07-03T16:09:02.943Z"
   },
   {
    "duration": 169,
    "start_time": "2022-07-03T16:09:02.967Z"
   },
   {
    "duration": 150,
    "start_time": "2022-07-03T16:09:03.137Z"
   },
   {
    "duration": 10,
    "start_time": "2022-07-03T16:09:03.289Z"
   },
   {
    "duration": 151,
    "start_time": "2022-07-03T16:09:03.300Z"
   },
   {
    "duration": 139,
    "start_time": "2022-07-03T16:09:03.453Z"
   },
   {
    "duration": 10,
    "start_time": "2022-07-03T16:09:03.594Z"
   },
   {
    "duration": 216,
    "start_time": "2022-07-03T16:09:03.605Z"
   },
   {
    "duration": 137,
    "start_time": "2022-07-03T16:09:03.823Z"
   },
   {
    "duration": 4,
    "start_time": "2022-07-03T16:09:03.962Z"
   },
   {
    "duration": 22,
    "start_time": "2022-07-03T16:09:03.967Z"
   },
   {
    "duration": 5,
    "start_time": "2022-07-03T16:09:03.991Z"
   },
   {
    "duration": 8,
    "start_time": "2022-07-03T16:09:03.997Z"
   },
   {
    "duration": 6,
    "start_time": "2022-07-03T16:09:04.006Z"
   },
   {
    "duration": 3,
    "start_time": "2022-07-03T16:09:04.014Z"
   },
   {
    "duration": 5,
    "start_time": "2022-07-03T16:09:04.018Z"
   },
   {
    "duration": 35,
    "start_time": "2022-07-03T16:09:04.025Z"
   },
   {
    "duration": 5,
    "start_time": "2022-07-03T16:09:04.061Z"
   },
   {
    "duration": 7,
    "start_time": "2022-07-03T16:09:04.068Z"
   },
   {
    "duration": 10,
    "start_time": "2022-07-03T16:09:04.077Z"
   },
   {
    "duration": 3,
    "start_time": "2022-07-03T16:09:04.089Z"
   },
   {
    "duration": 7,
    "start_time": "2022-07-03T16:09:04.093Z"
   },
   {
    "duration": 12,
    "start_time": "2022-07-03T16:09:04.101Z"
   },
   {
    "duration": 121,
    "start_time": "2022-07-03T16:09:04.115Z"
   },
   {
    "duration": 28,
    "start_time": "2022-07-03T16:09:09.614Z"
   },
   {
    "duration": 31,
    "start_time": "2022-07-03T16:09:15.000Z"
   },
   {
    "duration": 48,
    "start_time": "2022-07-03T16:10:43.827Z"
   },
   {
    "duration": 53,
    "start_time": "2022-07-03T16:10:51.723Z"
   },
   {
    "duration": 6,
    "start_time": "2022-07-03T16:10:55.501Z"
   },
   {
    "duration": 4,
    "start_time": "2022-07-03T16:12:30.184Z"
   },
   {
    "duration": 4,
    "start_time": "2022-07-03T16:13:46.474Z"
   },
   {
    "duration": 5,
    "start_time": "2022-07-03T16:14:01.205Z"
   },
   {
    "duration": 9,
    "start_time": "2022-07-03T16:15:36.218Z"
   },
   {
    "duration": 9,
    "start_time": "2022-07-03T16:19:11.021Z"
   },
   {
    "duration": 18,
    "start_time": "2022-07-03T16:19:20.460Z"
   },
   {
    "duration": 4,
    "start_time": "2022-07-03T16:20:16.143Z"
   },
   {
    "duration": 9,
    "start_time": "2022-07-03T16:20:26.721Z"
   },
   {
    "duration": 4,
    "start_time": "2022-07-03T16:20:39.038Z"
   },
   {
    "duration": 10,
    "start_time": "2022-07-03T16:21:12.805Z"
   },
   {
    "duration": 14,
    "start_time": "2022-07-03T16:21:14.655Z"
   },
   {
    "duration": 15,
    "start_time": "2022-07-03T16:21:23.860Z"
   },
   {
    "duration": 33,
    "start_time": "2022-07-03T16:21:25.255Z"
   },
   {
    "duration": 8,
    "start_time": "2022-07-03T16:21:35.443Z"
   },
   {
    "duration": 6,
    "start_time": "2022-07-03T16:21:37.653Z"
   },
   {
    "duration": 7,
    "start_time": "2022-07-03T16:21:44.007Z"
   },
   {
    "duration": 4,
    "start_time": "2022-07-03T16:21:44.405Z"
   },
   {
    "duration": 9,
    "start_time": "2022-07-03T16:22:17.296Z"
   },
   {
    "duration": 8,
    "start_time": "2022-07-03T16:23:06.815Z"
   },
   {
    "duration": 7,
    "start_time": "2022-07-03T16:23:07.928Z"
   },
   {
    "duration": 20,
    "start_time": "2022-07-03T16:25:48.026Z"
   },
   {
    "duration": 8,
    "start_time": "2022-07-03T16:25:56.744Z"
   },
   {
    "duration": 13,
    "start_time": "2022-07-03T16:26:42.647Z"
   },
   {
    "duration": 8,
    "start_time": "2022-07-03T16:26:59.168Z"
   },
   {
    "duration": 8,
    "start_time": "2022-07-03T16:27:11.757Z"
   },
   {
    "duration": 154,
    "start_time": "2022-07-03T16:27:15.056Z"
   },
   {
    "duration": 8,
    "start_time": "2022-07-03T16:27:18.855Z"
   },
   {
    "duration": 3,
    "start_time": "2022-07-03T16:27:38.406Z"
   },
   {
    "duration": 5,
    "start_time": "2022-07-03T16:27:48.024Z"
   },
   {
    "duration": 30,
    "start_time": "2022-07-03T16:29:33.003Z"
   },
   {
    "duration": 20,
    "start_time": "2022-07-03T16:29:51.025Z"
   },
   {
    "duration": 5,
    "start_time": "2022-07-03T16:29:53.488Z"
   },
   {
    "duration": 9,
    "start_time": "2022-07-03T16:30:07.729Z"
   },
   {
    "duration": 20,
    "start_time": "2022-07-03T16:30:52.985Z"
   },
   {
    "duration": 11,
    "start_time": "2022-07-03T16:30:59.823Z"
   },
   {
    "duration": 184,
    "start_time": "2022-07-03T16:31:02.698Z"
   },
   {
    "duration": 5,
    "start_time": "2022-07-03T16:31:11.111Z"
   },
   {
    "duration": 4,
    "start_time": "2022-07-03T16:33:03.715Z"
   },
   {
    "duration": 146,
    "start_time": "2022-07-03T16:34:08.453Z"
   },
   {
    "duration": 314,
    "start_time": "2022-07-03T16:34:13.128Z"
   },
   {
    "duration": 47,
    "start_time": "2022-07-03T16:34:21.593Z"
   },
   {
    "duration": 59,
    "start_time": "2022-07-03T16:34:29.588Z"
   },
   {
    "duration": 10,
    "start_time": "2022-07-03T16:34:33.211Z"
   },
   {
    "duration": 84,
    "start_time": "2022-07-03T16:34:34.577Z"
   },
   {
    "duration": 988,
    "start_time": "2022-07-03T16:34:38.378Z"
   },
   {
    "duration": 466,
    "start_time": "2022-07-03T16:34:39.369Z"
   },
   {
    "duration": 3,
    "start_time": "2022-07-03T16:34:39.837Z"
   },
   {
    "duration": 74,
    "start_time": "2022-07-03T16:34:39.841Z"
   },
   {
    "duration": 78,
    "start_time": "2022-07-03T16:34:39.918Z"
   },
   {
    "duration": 69,
    "start_time": "2022-07-03T16:34:39.998Z"
   },
   {
    "duration": 189,
    "start_time": "2022-07-03T16:34:40.069Z"
   },
   {
    "duration": 4,
    "start_time": "2022-07-03T16:34:40.260Z"
   },
   {
    "duration": 70,
    "start_time": "2022-07-03T16:34:40.266Z"
   },
   {
    "duration": 8,
    "start_time": "2022-07-03T16:34:40.338Z"
   },
   {
    "duration": 43,
    "start_time": "2022-07-03T16:34:40.348Z"
   },
   {
    "duration": 8,
    "start_time": "2022-07-03T16:34:40.392Z"
   },
   {
    "duration": 59,
    "start_time": "2022-07-03T16:34:40.401Z"
   },
   {
    "duration": 21,
    "start_time": "2022-07-03T16:34:40.463Z"
   },
   {
    "duration": 7,
    "start_time": "2022-07-03T16:34:40.485Z"
   },
   {
    "duration": 66,
    "start_time": "2022-07-03T16:34:40.494Z"
   },
   {
    "duration": 26,
    "start_time": "2022-07-03T16:34:40.561Z"
   },
   {
    "duration": 7,
    "start_time": "2022-07-03T16:34:40.589Z"
   },
   {
    "duration": 16,
    "start_time": "2022-07-03T16:34:40.598Z"
   },
   {
    "duration": 15,
    "start_time": "2022-07-03T16:34:40.616Z"
   },
   {
    "duration": 20,
    "start_time": "2022-07-03T16:34:40.659Z"
   },
   {
    "duration": 11,
    "start_time": "2022-07-03T16:34:40.681Z"
   },
   {
    "duration": 10,
    "start_time": "2022-07-03T16:34:40.694Z"
   },
   {
    "duration": 6,
    "start_time": "2022-07-03T16:34:40.706Z"
   },
   {
    "duration": 47,
    "start_time": "2022-07-03T16:34:40.714Z"
   },
   {
    "duration": 5,
    "start_time": "2022-07-03T16:34:40.763Z"
   },
   {
    "duration": 127,
    "start_time": "2022-07-03T16:34:40.769Z"
   },
   {
    "duration": 30,
    "start_time": "2022-07-03T16:34:40.898Z"
   },
   {
    "duration": 5,
    "start_time": "2022-07-03T16:34:40.930Z"
   },
   {
    "duration": 24,
    "start_time": "2022-07-03T16:34:40.936Z"
   },
   {
    "duration": 15,
    "start_time": "2022-07-03T16:34:40.962Z"
   },
   {
    "duration": 16,
    "start_time": "2022-07-03T16:34:40.979Z"
   },
   {
    "duration": 5,
    "start_time": "2022-07-03T16:34:40.996Z"
   },
   {
    "duration": 180,
    "start_time": "2022-07-03T16:34:41.002Z"
   },
   {
    "duration": 115,
    "start_time": "2022-07-03T16:34:41.184Z"
   },
   {
    "duration": 126,
    "start_time": "2022-07-03T16:34:41.300Z"
   },
   {
    "duration": 50,
    "start_time": "2022-07-03T16:34:41.427Z"
   },
   {
    "duration": 9,
    "start_time": "2022-07-03T16:34:41.478Z"
   },
   {
    "duration": 149,
    "start_time": "2022-07-03T16:34:41.489Z"
   },
   {
    "duration": 150,
    "start_time": "2022-07-03T16:34:41.640Z"
   },
   {
    "duration": 9,
    "start_time": "2022-07-03T16:34:41.794Z"
   },
   {
    "duration": 156,
    "start_time": "2022-07-03T16:34:41.805Z"
   },
   {
    "duration": 135,
    "start_time": "2022-07-03T16:34:41.963Z"
   },
   {
    "duration": 11,
    "start_time": "2022-07-03T16:34:42.100Z"
   },
   {
    "duration": 229,
    "start_time": "2022-07-03T16:34:42.113Z"
   },
   {
    "duration": 148,
    "start_time": "2022-07-03T16:34:42.344Z"
   },
   {
    "duration": 5,
    "start_time": "2022-07-03T16:34:42.494Z"
   },
   {
    "duration": 28,
    "start_time": "2022-07-03T16:34:42.501Z"
   },
   {
    "duration": 10,
    "start_time": "2022-07-03T16:34:42.531Z"
   },
   {
    "duration": 21,
    "start_time": "2022-07-03T16:34:42.542Z"
   },
   {
    "duration": 7,
    "start_time": "2022-07-03T16:34:42.565Z"
   },
   {
    "duration": 5,
    "start_time": "2022-07-03T16:34:42.574Z"
   },
   {
    "duration": 22,
    "start_time": "2022-07-03T16:34:42.581Z"
   },
   {
    "duration": 12,
    "start_time": "2022-07-03T16:34:42.606Z"
   },
   {
    "duration": 9,
    "start_time": "2022-07-03T16:34:42.620Z"
   },
   {
    "duration": 8,
    "start_time": "2022-07-03T16:34:42.630Z"
   },
   {
    "duration": 24,
    "start_time": "2022-07-03T16:34:42.639Z"
   },
   {
    "duration": 4,
    "start_time": "2022-07-03T16:34:42.664Z"
   },
   {
    "duration": 7,
    "start_time": "2022-07-03T16:34:42.670Z"
   },
   {
    "duration": 17,
    "start_time": "2022-07-03T16:34:42.679Z"
   },
   {
    "duration": 48,
    "start_time": "2022-07-03T16:34:42.698Z"
   },
   {
    "duration": 0,
    "start_time": "2022-07-03T16:34:42.748Z"
   },
   {
    "duration": 0,
    "start_time": "2022-07-03T16:34:42.750Z"
   },
   {
    "duration": 5,
    "start_time": "2022-07-03T16:35:32.554Z"
   },
   {
    "duration": 4,
    "start_time": "2022-07-03T16:37:07.899Z"
   },
   {
    "duration": 4,
    "start_time": "2022-07-03T16:37:37.706Z"
   },
   {
    "duration": 47,
    "start_time": "2022-07-03T16:37:58.418Z"
   },
   {
    "duration": 5,
    "start_time": "2022-07-03T16:38:04.579Z"
   },
   {
    "duration": 656,
    "start_time": "2022-07-03T16:43:28.876Z"
   },
   {
    "duration": 619,
    "start_time": "2022-07-03T16:43:37.177Z"
   },
   {
    "duration": 1062,
    "start_time": "2022-07-03T16:43:47.486Z"
   },
   {
    "duration": 479,
    "start_time": "2022-07-03T16:43:48.550Z"
   },
   {
    "duration": 3,
    "start_time": "2022-07-03T16:43:49.030Z"
   },
   {
    "duration": 92,
    "start_time": "2022-07-03T16:43:49.036Z"
   },
   {
    "duration": 91,
    "start_time": "2022-07-03T16:43:49.130Z"
   },
   {
    "duration": 67,
    "start_time": "2022-07-03T16:43:49.223Z"
   },
   {
    "duration": 184,
    "start_time": "2022-07-03T16:43:49.292Z"
   },
   {
    "duration": 5,
    "start_time": "2022-07-03T16:43:49.478Z"
   },
   {
    "duration": 65,
    "start_time": "2022-07-03T16:43:49.484Z"
   },
   {
    "duration": 8,
    "start_time": "2022-07-03T16:43:49.558Z"
   },
   {
    "duration": 50,
    "start_time": "2022-07-03T16:43:49.568Z"
   },
   {
    "duration": 8,
    "start_time": "2022-07-03T16:43:49.619Z"
   },
   {
    "duration": 56,
    "start_time": "2022-07-03T16:43:49.628Z"
   },
   {
    "duration": 22,
    "start_time": "2022-07-03T16:43:49.685Z"
   },
   {
    "duration": 6,
    "start_time": "2022-07-03T16:43:49.709Z"
   },
   {
    "duration": 83,
    "start_time": "2022-07-03T16:43:49.717Z"
   },
   {
    "duration": 25,
    "start_time": "2022-07-03T16:43:49.802Z"
   },
   {
    "duration": 7,
    "start_time": "2022-07-03T16:43:49.829Z"
   },
   {
    "duration": 33,
    "start_time": "2022-07-03T16:43:49.838Z"
   },
   {
    "duration": 15,
    "start_time": "2022-07-03T16:43:49.873Z"
   },
   {
    "duration": 18,
    "start_time": "2022-07-03T16:43:49.890Z"
   },
   {
    "duration": 8,
    "start_time": "2022-07-03T16:43:49.911Z"
   },
   {
    "duration": 45,
    "start_time": "2022-07-03T16:43:49.920Z"
   },
   {
    "duration": 5,
    "start_time": "2022-07-03T16:43:49.966Z"
   },
   {
    "duration": 12,
    "start_time": "2022-07-03T16:43:49.973Z"
   },
   {
    "duration": 3,
    "start_time": "2022-07-03T16:43:49.987Z"
   },
   {
    "duration": 137,
    "start_time": "2022-07-03T16:43:49.992Z"
   },
   {
    "duration": 39,
    "start_time": "2022-07-03T16:43:50.133Z"
   },
   {
    "duration": 4,
    "start_time": "2022-07-03T16:43:50.174Z"
   },
   {
    "duration": 7,
    "start_time": "2022-07-03T16:43:50.180Z"
   },
   {
    "duration": 20,
    "start_time": "2022-07-03T16:43:50.189Z"
   },
   {
    "duration": 15,
    "start_time": "2022-07-03T16:43:50.211Z"
   },
   {
    "duration": 6,
    "start_time": "2022-07-03T16:43:50.228Z"
   },
   {
    "duration": 180,
    "start_time": "2022-07-03T16:43:50.260Z"
   },
   {
    "duration": 134,
    "start_time": "2022-07-03T16:43:50.442Z"
   },
   {
    "duration": 173,
    "start_time": "2022-07-03T16:43:50.578Z"
   },
   {
    "duration": 44,
    "start_time": "2022-07-03T16:43:50.758Z"
   },
   {
    "duration": 10,
    "start_time": "2022-07-03T16:43:50.804Z"
   },
   {
    "duration": 163,
    "start_time": "2022-07-03T16:43:50.815Z"
   },
   {
    "duration": 155,
    "start_time": "2022-07-03T16:43:50.979Z"
   },
   {
    "duration": 10,
    "start_time": "2022-07-03T16:43:51.135Z"
   },
   {
    "duration": 154,
    "start_time": "2022-07-03T16:43:51.147Z"
   },
   {
    "duration": 142,
    "start_time": "2022-07-03T16:43:51.303Z"
   },
   {
    "duration": 18,
    "start_time": "2022-07-03T16:43:51.447Z"
   },
   {
    "duration": 229,
    "start_time": "2022-07-03T16:43:51.466Z"
   },
   {
    "duration": 141,
    "start_time": "2022-07-03T16:43:51.697Z"
   },
   {
    "duration": 5,
    "start_time": "2022-07-03T16:43:51.840Z"
   },
   {
    "duration": 32,
    "start_time": "2022-07-03T16:43:51.859Z"
   },
   {
    "duration": 30,
    "start_time": "2022-07-03T16:43:51.893Z"
   },
   {
    "duration": 16,
    "start_time": "2022-07-03T16:43:51.925Z"
   },
   {
    "duration": 31,
    "start_time": "2022-07-03T16:43:51.943Z"
   },
   {
    "duration": 12,
    "start_time": "2022-07-03T16:43:51.975Z"
   },
   {
    "duration": 13,
    "start_time": "2022-07-03T16:43:51.990Z"
   },
   {
    "duration": 15,
    "start_time": "2022-07-03T16:43:52.005Z"
   },
   {
    "duration": 26,
    "start_time": "2022-07-03T16:43:52.022Z"
   },
   {
    "duration": 26,
    "start_time": "2022-07-03T16:43:52.049Z"
   },
   {
    "duration": 19,
    "start_time": "2022-07-03T16:43:52.077Z"
   },
   {
    "duration": 3,
    "start_time": "2022-07-03T16:43:52.098Z"
   },
   {
    "duration": 35,
    "start_time": "2022-07-03T16:43:52.103Z"
   },
   {
    "duration": 39,
    "start_time": "2022-07-03T16:43:52.140Z"
   },
   {
    "duration": 33,
    "start_time": "2022-07-03T16:43:52.180Z"
   },
   {
    "duration": 22,
    "start_time": "2022-07-03T16:46:36.083Z"
   },
   {
    "duration": 1013,
    "start_time": "2022-07-03T16:46:44.648Z"
   },
   {
    "duration": 454,
    "start_time": "2022-07-03T16:46:45.663Z"
   },
   {
    "duration": 2,
    "start_time": "2022-07-03T16:46:46.119Z"
   },
   {
    "duration": 78,
    "start_time": "2022-07-03T16:46:46.124Z"
   },
   {
    "duration": 86,
    "start_time": "2022-07-03T16:46:46.204Z"
   },
   {
    "duration": 86,
    "start_time": "2022-07-03T16:46:46.291Z"
   },
   {
    "duration": 208,
    "start_time": "2022-07-03T16:46:46.379Z"
   },
   {
    "duration": 6,
    "start_time": "2022-07-03T16:46:46.589Z"
   },
   {
    "duration": 70,
    "start_time": "2022-07-03T16:46:46.597Z"
   },
   {
    "duration": 8,
    "start_time": "2022-07-03T16:46:46.671Z"
   },
   {
    "duration": 45,
    "start_time": "2022-07-03T16:46:46.681Z"
   },
   {
    "duration": 7,
    "start_time": "2022-07-03T16:46:46.728Z"
   },
   {
    "duration": 67,
    "start_time": "2022-07-03T16:46:46.738Z"
   },
   {
    "duration": 24,
    "start_time": "2022-07-03T16:46:46.806Z"
   },
   {
    "duration": 7,
    "start_time": "2022-07-03T16:46:46.831Z"
   },
   {
    "duration": 50,
    "start_time": "2022-07-03T16:46:46.859Z"
   },
   {
    "duration": 30,
    "start_time": "2022-07-03T16:46:46.911Z"
   },
   {
    "duration": 21,
    "start_time": "2022-07-03T16:46:46.943Z"
   },
   {
    "duration": 20,
    "start_time": "2022-07-03T16:46:46.966Z"
   },
   {
    "duration": 16,
    "start_time": "2022-07-03T16:46:46.987Z"
   },
   {
    "duration": 19,
    "start_time": "2022-07-03T16:46:47.005Z"
   },
   {
    "duration": 8,
    "start_time": "2022-07-03T16:46:47.026Z"
   },
   {
    "duration": 9,
    "start_time": "2022-07-03T16:46:47.058Z"
   },
   {
    "duration": 6,
    "start_time": "2022-07-03T16:46:47.070Z"
   },
   {
    "duration": 22,
    "start_time": "2022-07-03T16:46:47.077Z"
   },
   {
    "duration": 9,
    "start_time": "2022-07-03T16:46:47.101Z"
   },
   {
    "duration": 154,
    "start_time": "2022-07-03T16:46:47.111Z"
   },
   {
    "duration": 36,
    "start_time": "2022-07-03T16:46:47.270Z"
   },
   {
    "duration": 5,
    "start_time": "2022-07-03T16:46:47.308Z"
   },
   {
    "duration": 34,
    "start_time": "2022-07-03T16:46:47.315Z"
   },
   {
    "duration": 34,
    "start_time": "2022-07-03T16:46:47.351Z"
   },
   {
    "duration": 34,
    "start_time": "2022-07-03T16:46:47.387Z"
   },
   {
    "duration": 17,
    "start_time": "2022-07-03T16:46:47.423Z"
   },
   {
    "duration": 158,
    "start_time": "2022-07-03T16:46:47.441Z"
   },
   {
    "duration": 124,
    "start_time": "2022-07-03T16:46:47.601Z"
   },
   {
    "duration": 143,
    "start_time": "2022-07-03T16:46:47.727Z"
   },
   {
    "duration": 42,
    "start_time": "2022-07-03T16:46:47.872Z"
   },
   {
    "duration": 10,
    "start_time": "2022-07-03T16:46:47.916Z"
   },
   {
    "duration": 162,
    "start_time": "2022-07-03T16:46:47.928Z"
   },
   {
    "duration": 149,
    "start_time": "2022-07-03T16:46:48.092Z"
   },
   {
    "duration": 18,
    "start_time": "2022-07-03T16:46:48.242Z"
   },
   {
    "duration": 140,
    "start_time": "2022-07-03T16:46:48.261Z"
   },
   {
    "duration": 139,
    "start_time": "2022-07-03T16:46:48.402Z"
   },
   {
    "duration": 20,
    "start_time": "2022-07-03T16:46:48.543Z"
   },
   {
    "duration": 226,
    "start_time": "2022-07-03T16:46:48.565Z"
   },
   {
    "duration": 143,
    "start_time": "2022-07-03T16:46:48.793Z"
   },
   {
    "duration": 5,
    "start_time": "2022-07-03T16:46:48.937Z"
   },
   {
    "duration": 31,
    "start_time": "2022-07-03T16:46:48.944Z"
   },
   {
    "duration": 12,
    "start_time": "2022-07-03T16:46:48.977Z"
   },
   {
    "duration": 8,
    "start_time": "2022-07-03T16:46:48.991Z"
   },
   {
    "duration": 10,
    "start_time": "2022-07-03T16:46:49.001Z"
   },
   {
    "duration": 5,
    "start_time": "2022-07-03T16:46:49.014Z"
   },
   {
    "duration": 7,
    "start_time": "2022-07-03T16:46:49.021Z"
   },
   {
    "duration": 10,
    "start_time": "2022-07-03T16:46:49.029Z"
   },
   {
    "duration": 5,
    "start_time": "2022-07-03T16:46:49.059Z"
   },
   {
    "duration": 9,
    "start_time": "2022-07-03T16:46:49.066Z"
   },
   {
    "duration": 9,
    "start_time": "2022-07-03T16:46:49.076Z"
   },
   {
    "duration": 5,
    "start_time": "2022-07-03T16:46:49.086Z"
   },
   {
    "duration": 9,
    "start_time": "2022-07-03T16:46:49.093Z"
   },
   {
    "duration": 22,
    "start_time": "2022-07-03T16:46:49.103Z"
   },
   {
    "duration": 5,
    "start_time": "2022-07-03T16:46:49.127Z"
   },
   {
    "duration": 11,
    "start_time": "2022-07-03T16:48:57.689Z"
   },
   {
    "duration": 108,
    "start_time": "2022-07-03T16:49:00.615Z"
   },
   {
    "duration": 5,
    "start_time": "2022-07-03T16:49:38.936Z"
   },
   {
    "duration": 6,
    "start_time": "2022-07-03T17:00:17.075Z"
   },
   {
    "duration": 5,
    "start_time": "2022-07-03T17:00:35.123Z"
   },
   {
    "duration": 5,
    "start_time": "2022-07-03T17:00:42.109Z"
   },
   {
    "duration": 7,
    "start_time": "2022-07-03T17:03:03.510Z"
   },
   {
    "duration": 1027,
    "start_time": "2022-07-03T17:05:24.327Z"
   },
   {
    "duration": 468,
    "start_time": "2022-07-03T17:05:25.356Z"
   },
   {
    "duration": 2,
    "start_time": "2022-07-03T17:05:25.826Z"
   },
   {
    "duration": 85,
    "start_time": "2022-07-03T17:05:25.830Z"
   },
   {
    "duration": 90,
    "start_time": "2022-07-03T17:05:25.917Z"
   },
   {
    "duration": 67,
    "start_time": "2022-07-03T17:05:26.009Z"
   },
   {
    "duration": 196,
    "start_time": "2022-07-03T17:05:26.078Z"
   },
   {
    "duration": 6,
    "start_time": "2022-07-03T17:05:26.276Z"
   },
   {
    "duration": 78,
    "start_time": "2022-07-03T17:05:26.284Z"
   },
   {
    "duration": 8,
    "start_time": "2022-07-03T17:05:26.365Z"
   },
   {
    "duration": 39,
    "start_time": "2022-07-03T17:05:26.375Z"
   },
   {
    "duration": 7,
    "start_time": "2022-07-03T17:05:26.415Z"
   },
   {
    "duration": 69,
    "start_time": "2022-07-03T17:05:26.424Z"
   },
   {
    "duration": 22,
    "start_time": "2022-07-03T17:05:26.494Z"
   },
   {
    "duration": 7,
    "start_time": "2022-07-03T17:05:26.518Z"
   },
   {
    "duration": 73,
    "start_time": "2022-07-03T17:05:26.527Z"
   },
   {
    "duration": 26,
    "start_time": "2022-07-03T17:05:26.602Z"
   },
   {
    "duration": 8,
    "start_time": "2022-07-03T17:05:26.630Z"
   },
   {
    "duration": 16,
    "start_time": "2022-07-03T17:05:26.659Z"
   },
   {
    "duration": 16,
    "start_time": "2022-07-03T17:05:26.677Z"
   },
   {
    "duration": 21,
    "start_time": "2022-07-03T17:05:26.695Z"
   },
   {
    "duration": 42,
    "start_time": "2022-07-03T17:05:26.718Z"
   },
   {
    "duration": 10,
    "start_time": "2022-07-03T17:05:26.762Z"
   },
   {
    "duration": 6,
    "start_time": "2022-07-03T17:05:26.774Z"
   },
   {
    "duration": 12,
    "start_time": "2022-07-03T17:05:26.782Z"
   },
   {
    "duration": 4,
    "start_time": "2022-07-03T17:05:26.796Z"
   },
   {
    "duration": 144,
    "start_time": "2022-07-03T17:05:26.801Z"
   },
   {
    "duration": 36,
    "start_time": "2022-07-03T17:05:26.949Z"
   },
   {
    "duration": 5,
    "start_time": "2022-07-03T17:05:26.987Z"
   },
   {
    "duration": 9,
    "start_time": "2022-07-03T17:05:26.993Z"
   },
   {
    "duration": 26,
    "start_time": "2022-07-03T17:05:27.004Z"
   },
   {
    "duration": 39,
    "start_time": "2022-07-03T17:05:27.033Z"
   },
   {
    "duration": 6,
    "start_time": "2022-07-03T17:05:27.074Z"
   },
   {
    "duration": 179,
    "start_time": "2022-07-03T17:05:27.081Z"
   },
   {
    "duration": 154,
    "start_time": "2022-07-03T17:05:27.262Z"
   },
   {
    "duration": 169,
    "start_time": "2022-07-03T17:05:27.418Z"
   },
   {
    "duration": 45,
    "start_time": "2022-07-03T17:05:27.589Z"
   },
   {
    "duration": 26,
    "start_time": "2022-07-03T17:05:27.636Z"
   },
   {
    "duration": 153,
    "start_time": "2022-07-03T17:05:27.664Z"
   },
   {
    "duration": 177,
    "start_time": "2022-07-03T17:05:27.819Z"
   },
   {
    "duration": 10,
    "start_time": "2022-07-03T17:05:27.998Z"
   },
   {
    "duration": 157,
    "start_time": "2022-07-03T17:05:28.011Z"
   },
   {
    "duration": 134,
    "start_time": "2022-07-03T17:05:28.169Z"
   },
   {
    "duration": 10,
    "start_time": "2022-07-03T17:05:28.305Z"
   },
   {
    "duration": 238,
    "start_time": "2022-07-03T17:05:28.316Z"
   },
   {
    "duration": 144,
    "start_time": "2022-07-03T17:05:28.556Z"
   },
   {
    "duration": 4,
    "start_time": "2022-07-03T17:05:28.702Z"
   },
   {
    "duration": 35,
    "start_time": "2022-07-03T17:05:28.708Z"
   },
   {
    "duration": 22,
    "start_time": "2022-07-03T17:05:28.745Z"
   },
   {
    "duration": 14,
    "start_time": "2022-07-03T17:05:28.783Z"
   },
   {
    "duration": 14,
    "start_time": "2022-07-03T17:05:28.799Z"
   },
   {
    "duration": 10,
    "start_time": "2022-07-03T17:05:28.815Z"
   },
   {
    "duration": 13,
    "start_time": "2022-07-03T17:05:28.826Z"
   },
   {
    "duration": 8,
    "start_time": "2022-07-03T17:05:28.840Z"
   },
   {
    "duration": 8,
    "start_time": "2022-07-03T17:05:28.849Z"
   },
   {
    "duration": 12,
    "start_time": "2022-07-03T17:05:28.859Z"
   },
   {
    "duration": 9,
    "start_time": "2022-07-03T17:05:28.872Z"
   },
   {
    "duration": 14,
    "start_time": "2022-07-03T17:05:28.883Z"
   },
   {
    "duration": 10,
    "start_time": "2022-07-03T17:05:28.898Z"
   },
   {
    "duration": 30,
    "start_time": "2022-07-03T17:05:28.909Z"
   },
   {
    "duration": 13,
    "start_time": "2022-07-03T17:05:28.941Z"
   },
   {
    "duration": 84,
    "start_time": "2022-07-04T14:41:28.341Z"
   },
   {
    "duration": 1272,
    "start_time": "2022-07-04T14:41:33.548Z"
   },
   {
    "duration": 612,
    "start_time": "2022-07-04T14:41:34.825Z"
   },
   {
    "duration": 3,
    "start_time": "2022-07-04T14:41:35.439Z"
   },
   {
    "duration": 117,
    "start_time": "2022-07-04T14:41:35.444Z"
   },
   {
    "duration": 113,
    "start_time": "2022-07-04T14:41:35.564Z"
   },
   {
    "duration": 98,
    "start_time": "2022-07-04T14:41:35.679Z"
   },
   {
    "duration": 227,
    "start_time": "2022-07-04T14:41:35.778Z"
   },
   {
    "duration": 10,
    "start_time": "2022-07-04T14:41:36.010Z"
   },
   {
    "duration": 109,
    "start_time": "2022-07-04T14:41:36.022Z"
   },
   {
    "duration": 12,
    "start_time": "2022-07-04T14:41:36.133Z"
   },
   {
    "duration": 44,
    "start_time": "2022-07-04T14:41:36.147Z"
   },
   {
    "duration": 22,
    "start_time": "2022-07-04T14:41:36.193Z"
   },
   {
    "duration": 89,
    "start_time": "2022-07-04T14:41:36.222Z"
   },
   {
    "duration": 37,
    "start_time": "2022-07-04T14:41:36.315Z"
   },
   {
    "duration": 8,
    "start_time": "2022-07-04T14:41:36.354Z"
   },
   {
    "duration": 72,
    "start_time": "2022-07-04T14:41:36.363Z"
   },
   {
    "duration": 31,
    "start_time": "2022-07-04T14:41:36.437Z"
   },
   {
    "duration": 9,
    "start_time": "2022-07-04T14:41:36.470Z"
   },
   {
    "duration": 56,
    "start_time": "2022-07-04T14:41:36.481Z"
   },
   {
    "duration": 19,
    "start_time": "2022-07-04T14:41:36.540Z"
   },
   {
    "duration": 36,
    "start_time": "2022-07-04T14:41:36.561Z"
   },
   {
    "duration": 20,
    "start_time": "2022-07-04T14:41:36.599Z"
   },
   {
    "duration": 22,
    "start_time": "2022-07-04T14:41:36.622Z"
   },
   {
    "duration": 6,
    "start_time": "2022-07-04T14:41:36.646Z"
   },
   {
    "duration": 20,
    "start_time": "2022-07-04T14:41:36.654Z"
   },
   {
    "duration": 169,
    "start_time": "2022-07-04T14:41:36.675Z"
   },
   {
    "duration": 5,
    "start_time": "2022-07-04T14:41:36.846Z"
   },
   {
    "duration": 199,
    "start_time": "2022-07-04T14:41:36.853Z"
   },
   {
    "duration": 35,
    "start_time": "2022-07-04T14:41:37.056Z"
   },
   {
    "duration": 8,
    "start_time": "2022-07-04T14:41:37.093Z"
   },
   {
    "duration": 50,
    "start_time": "2022-07-04T14:41:37.103Z"
   },
   {
    "duration": 28,
    "start_time": "2022-07-04T14:41:37.155Z"
   },
   {
    "duration": 7,
    "start_time": "2022-07-04T14:41:37.185Z"
   },
   {
    "duration": 192,
    "start_time": "2022-07-04T14:41:37.193Z"
   },
   {
    "duration": 177,
    "start_time": "2022-07-04T14:41:37.386Z"
   },
   {
    "duration": 202,
    "start_time": "2022-07-04T14:41:37.565Z"
   },
   {
    "duration": 60,
    "start_time": "2022-07-04T14:41:37.768Z"
   },
   {
    "duration": 13,
    "start_time": "2022-07-04T14:41:37.829Z"
   },
   {
    "duration": 191,
    "start_time": "2022-07-04T14:41:37.844Z"
   },
   {
    "duration": 224,
    "start_time": "2022-07-04T14:41:38.037Z"
   },
   {
    "duration": 11,
    "start_time": "2022-07-04T14:41:38.266Z"
   },
   {
    "duration": 306,
    "start_time": "2022-07-04T14:41:38.279Z"
   },
   {
    "duration": 164,
    "start_time": "2022-07-04T14:41:38.587Z"
   },
   {
    "duration": 13,
    "start_time": "2022-07-04T14:41:38.753Z"
   },
   {
    "duration": 203,
    "start_time": "2022-07-04T14:41:38.768Z"
   },
   {
    "duration": 204,
    "start_time": "2022-07-04T14:41:38.973Z"
   },
   {
    "duration": 5,
    "start_time": "2022-07-04T14:41:39.179Z"
   },
   {
    "duration": 54,
    "start_time": "2022-07-04T14:41:39.185Z"
   },
   {
    "duration": 18,
    "start_time": "2022-07-04T14:41:39.240Z"
   },
   {
    "duration": 24,
    "start_time": "2022-07-04T14:41:39.260Z"
   },
   {
    "duration": 9,
    "start_time": "2022-07-04T14:41:39.285Z"
   },
   {
    "duration": 3,
    "start_time": "2022-07-04T14:41:39.297Z"
   },
   {
    "duration": 35,
    "start_time": "2022-07-04T14:41:39.302Z"
   },
   {
    "duration": 15,
    "start_time": "2022-07-04T14:41:39.339Z"
   },
   {
    "duration": 10,
    "start_time": "2022-07-04T14:41:39.356Z"
   },
   {
    "duration": 12,
    "start_time": "2022-07-04T14:41:39.368Z"
   },
   {
    "duration": 16,
    "start_time": "2022-07-04T14:41:39.381Z"
   },
   {
    "duration": 5,
    "start_time": "2022-07-04T14:41:39.399Z"
   },
   {
    "duration": 30,
    "start_time": "2022-07-04T14:41:39.407Z"
   },
   {
    "duration": 16,
    "start_time": "2022-07-04T14:41:39.439Z"
   },
   {
    "duration": 8,
    "start_time": "2022-07-04T14:41:39.457Z"
   },
   {
    "duration": 18,
    "start_time": "2022-07-04T14:41:39.467Z"
   },
   {
    "duration": 7,
    "start_time": "2022-07-04T14:54:32.720Z"
   },
   {
    "duration": 9,
    "start_time": "2022-07-04T14:54:37.450Z"
   },
   {
    "duration": 10,
    "start_time": "2022-07-04T14:55:15.228Z"
   },
   {
    "duration": 6,
    "start_time": "2022-07-04T14:55:21.546Z"
   },
   {
    "duration": 153,
    "start_time": "2022-07-04T14:59:53.830Z"
   },
   {
    "duration": 9,
    "start_time": "2022-07-04T15:01:03.289Z"
   },
   {
    "duration": 60,
    "start_time": "2022-07-04T15:07:46.841Z"
   },
   {
    "duration": 6,
    "start_time": "2022-07-04T15:07:47.401Z"
   },
   {
    "duration": 4,
    "start_time": "2022-07-04T15:07:48.561Z"
   },
   {
    "duration": 202,
    "start_time": "2022-07-04T15:07:51.056Z"
   },
   {
    "duration": 8,
    "start_time": "2022-07-04T15:07:56.249Z"
   },
   {
    "duration": 196,
    "start_time": "2022-07-04T15:07:57.094Z"
   },
   {
    "duration": 23,
    "start_time": "2022-07-04T15:07:59.722Z"
   },
   {
    "duration": 1851,
    "start_time": "2022-07-04T15:08:35.764Z"
   },
   {
    "duration": 208,
    "start_time": "2022-07-04T15:08:52.591Z"
   },
   {
    "duration": 189,
    "start_time": "2022-07-04T15:08:57.740Z"
   },
   {
    "duration": 52,
    "start_time": "2022-07-04T15:09:00.293Z"
   },
   {
    "duration": 1096,
    "start_time": "2022-07-04T15:09:08.387Z"
   },
   {
    "duration": 507,
    "start_time": "2022-07-04T15:09:09.485Z"
   },
   {
    "duration": 3,
    "start_time": "2022-07-04T15:09:09.993Z"
   },
   {
    "duration": 131,
    "start_time": "2022-07-04T15:09:09.997Z"
   },
   {
    "duration": 96,
    "start_time": "2022-07-04T15:09:10.131Z"
   },
   {
    "duration": 98,
    "start_time": "2022-07-04T15:09:10.229Z"
   },
   {
    "duration": 224,
    "start_time": "2022-07-04T15:09:10.329Z"
   },
   {
    "duration": 5,
    "start_time": "2022-07-04T15:09:10.555Z"
   },
   {
    "duration": 89,
    "start_time": "2022-07-04T15:09:10.561Z"
   },
   {
    "duration": 9,
    "start_time": "2022-07-04T15:09:10.652Z"
   },
   {
    "duration": 52,
    "start_time": "2022-07-04T15:09:10.662Z"
   },
   {
    "duration": 12,
    "start_time": "2022-07-04T15:09:10.717Z"
   },
   {
    "duration": 53,
    "start_time": "2022-07-04T15:09:10.731Z"
   },
   {
    "duration": 33,
    "start_time": "2022-07-04T15:09:10.800Z"
   },
   {
    "duration": 8,
    "start_time": "2022-07-04T15:09:10.835Z"
   },
   {
    "duration": 75,
    "start_time": "2022-07-04T15:09:10.845Z"
   },
   {
    "duration": 32,
    "start_time": "2022-07-04T15:09:10.923Z"
   },
   {
    "duration": 8,
    "start_time": "2022-07-04T15:09:10.957Z"
   },
   {
    "duration": 49,
    "start_time": "2022-07-04T15:09:10.966Z"
   },
   {
    "duration": 22,
    "start_time": "2022-07-04T15:09:11.018Z"
   },
   {
    "duration": 44,
    "start_time": "2022-07-04T15:09:11.042Z"
   },
   {
    "duration": 9,
    "start_time": "2022-07-04T15:09:11.088Z"
   },
   {
    "duration": 26,
    "start_time": "2022-07-04T15:09:11.098Z"
   },
   {
    "duration": 28,
    "start_time": "2022-07-04T15:09:11.126Z"
   },
   {
    "duration": 21,
    "start_time": "2022-07-04T15:09:11.155Z"
   },
   {
    "duration": 136,
    "start_time": "2022-07-04T15:09:11.177Z"
   },
   {
    "duration": 4,
    "start_time": "2022-07-04T15:09:11.317Z"
   },
   {
    "duration": 140,
    "start_time": "2022-07-04T15:09:11.323Z"
   },
   {
    "duration": 44,
    "start_time": "2022-07-04T15:09:11.465Z"
   },
   {
    "duration": 9,
    "start_time": "2022-07-04T15:09:11.515Z"
   },
   {
    "duration": 31,
    "start_time": "2022-07-04T15:09:11.526Z"
   },
   {
    "duration": 25,
    "start_time": "2022-07-04T15:09:11.559Z"
   },
   {
    "duration": 11,
    "start_time": "2022-07-04T15:09:11.586Z"
   },
   {
    "duration": 201,
    "start_time": "2022-07-04T15:09:11.599Z"
   },
   {
    "duration": 136,
    "start_time": "2022-07-04T15:09:11.806Z"
   },
   {
    "duration": 164,
    "start_time": "2022-07-04T15:09:11.945Z"
   },
   {
    "duration": 65,
    "start_time": "2022-07-04T15:09:12.112Z"
   },
   {
    "duration": 10,
    "start_time": "2022-07-04T15:09:12.179Z"
   },
   {
    "duration": 197,
    "start_time": "2022-07-04T15:09:12.190Z"
   },
   {
    "duration": 172,
    "start_time": "2022-07-04T15:09:12.389Z"
   },
   {
    "duration": 9,
    "start_time": "2022-07-04T15:09:12.565Z"
   },
   {
    "duration": 260,
    "start_time": "2022-07-04T15:09:12.576Z"
   },
   {
    "duration": 169,
    "start_time": "2022-07-04T15:09:12.838Z"
   },
   {
    "duration": 19,
    "start_time": "2022-07-04T15:09:13.015Z"
   },
   {
    "duration": 189,
    "start_time": "2022-07-04T15:09:13.037Z"
   },
   {
    "duration": 172,
    "start_time": "2022-07-04T15:09:13.228Z"
   },
   {
    "duration": 4,
    "start_time": "2022-07-04T15:09:13.402Z"
   },
   {
    "duration": 38,
    "start_time": "2022-07-04T15:09:13.407Z"
   },
   {
    "duration": 15,
    "start_time": "2022-07-04T15:09:13.447Z"
   },
   {
    "duration": 56,
    "start_time": "2022-07-04T15:09:13.463Z"
   },
   {
    "duration": 30,
    "start_time": "2022-07-04T15:09:13.521Z"
   },
   {
    "duration": 26,
    "start_time": "2022-07-04T15:09:13.552Z"
   },
   {
    "duration": 36,
    "start_time": "2022-07-04T15:09:13.580Z"
   },
   {
    "duration": 27,
    "start_time": "2022-07-04T15:09:13.619Z"
   },
   {
    "duration": 41,
    "start_time": "2022-07-04T15:09:13.648Z"
   },
   {
    "duration": 56,
    "start_time": "2022-07-04T15:09:13.691Z"
   },
   {
    "duration": 32,
    "start_time": "2022-07-04T15:09:13.748Z"
   },
   {
    "duration": 44,
    "start_time": "2022-07-04T15:09:13.782Z"
   },
   {
    "duration": 30,
    "start_time": "2022-07-04T15:09:13.828Z"
   },
   {
    "duration": 31,
    "start_time": "2022-07-04T15:09:13.860Z"
   },
   {
    "duration": 57,
    "start_time": "2022-07-04T15:09:13.892Z"
   },
   {
    "duration": 72,
    "start_time": "2022-07-04T15:09:13.952Z"
   },
   {
    "duration": 133,
    "start_time": "2022-07-04T15:09:14.026Z"
   },
   {
    "duration": 4,
    "start_time": "2022-07-04T15:09:14.161Z"
   },
   {
    "duration": 16,
    "start_time": "2022-07-04T15:09:14.166Z"
   },
   {
    "duration": 1645,
    "start_time": "2022-07-04T15:09:14.184Z"
   },
   {
    "duration": 10,
    "start_time": "2022-07-04T15:09:15.832Z"
   },
   {
    "duration": 224,
    "start_time": "2022-07-04T15:09:15.844Z"
   },
   {
    "duration": 310,
    "start_time": "2022-07-04T15:09:16.070Z"
   },
   {
    "duration": 208,
    "start_time": "2022-07-04T15:09:16.382Z"
   },
   {
    "duration": 46,
    "start_time": "2022-07-04T15:09:16.601Z"
   },
   {
    "duration": 47,
    "start_time": "2022-07-04T15:47:36.940Z"
   },
   {
    "duration": 1313,
    "start_time": "2022-07-04T15:47:45.049Z"
   },
   {
    "duration": 1155,
    "start_time": "2022-07-04T15:47:46.365Z"
   },
   {
    "duration": 2,
    "start_time": "2022-07-04T15:47:47.522Z"
   },
   {
    "duration": 130,
    "start_time": "2022-07-04T15:47:47.529Z"
   },
   {
    "duration": 98,
    "start_time": "2022-07-04T15:47:47.661Z"
   },
   {
    "duration": 78,
    "start_time": "2022-07-04T15:47:47.762Z"
   },
   {
    "duration": 200,
    "start_time": "2022-07-04T15:47:47.842Z"
   },
   {
    "duration": 5,
    "start_time": "2022-07-04T15:47:48.044Z"
   },
   {
    "duration": 89,
    "start_time": "2022-07-04T15:47:48.051Z"
   },
   {
    "duration": 8,
    "start_time": "2022-07-04T15:47:48.143Z"
   },
   {
    "duration": 43,
    "start_time": "2022-07-04T15:47:48.153Z"
   },
   {
    "duration": 7,
    "start_time": "2022-07-04T15:47:48.198Z"
   },
   {
    "duration": 57,
    "start_time": "2022-07-04T15:47:48.207Z"
   },
   {
    "duration": 23,
    "start_time": "2022-07-04T15:47:48.265Z"
   },
   {
    "duration": 7,
    "start_time": "2022-07-04T15:47:48.290Z"
   },
   {
    "duration": 80,
    "start_time": "2022-07-04T15:47:48.299Z"
   },
   {
    "duration": 26,
    "start_time": "2022-07-04T15:47:48.381Z"
   },
   {
    "duration": 22,
    "start_time": "2022-07-04T15:47:48.409Z"
   },
   {
    "duration": 28,
    "start_time": "2022-07-04T15:47:48.432Z"
   },
   {
    "duration": 16,
    "start_time": "2022-07-04T15:47:48.461Z"
   },
   {
    "duration": 20,
    "start_time": "2022-07-04T15:47:48.478Z"
   },
   {
    "duration": 38,
    "start_time": "2022-07-04T15:47:48.500Z"
   },
   {
    "duration": 24,
    "start_time": "2022-07-04T15:47:48.540Z"
   },
   {
    "duration": 6,
    "start_time": "2022-07-04T15:47:48.566Z"
   },
   {
    "duration": 15,
    "start_time": "2022-07-04T15:47:48.574Z"
   },
   {
    "duration": 114,
    "start_time": "2022-07-04T15:47:48.590Z"
   },
   {
    "duration": 4,
    "start_time": "2022-07-04T15:47:48.706Z"
   },
   {
    "duration": 127,
    "start_time": "2022-07-04T15:47:48.727Z"
   },
   {
    "duration": 32,
    "start_time": "2022-07-04T15:47:48.855Z"
   },
   {
    "duration": 5,
    "start_time": "2022-07-04T15:47:48.889Z"
   },
   {
    "duration": 44,
    "start_time": "2022-07-04T15:47:48.896Z"
   },
   {
    "duration": 21,
    "start_time": "2022-07-04T15:47:48.943Z"
   },
   {
    "duration": 8,
    "start_time": "2022-07-04T15:47:48.966Z"
   },
   {
    "duration": 191,
    "start_time": "2022-07-04T15:47:48.976Z"
   },
   {
    "duration": 223,
    "start_time": "2022-07-04T15:47:49.169Z"
   },
   {
    "duration": 0,
    "start_time": "2022-07-04T15:47:49.394Z"
   },
   {
    "duration": 0,
    "start_time": "2022-07-04T15:47:49.396Z"
   },
   {
    "duration": 0,
    "start_time": "2022-07-04T15:47:49.397Z"
   },
   {
    "duration": 0,
    "start_time": "2022-07-04T15:47:49.398Z"
   },
   {
    "duration": 0,
    "start_time": "2022-07-04T15:47:49.399Z"
   },
   {
    "duration": 0,
    "start_time": "2022-07-04T15:47:49.400Z"
   },
   {
    "duration": 0,
    "start_time": "2022-07-04T15:47:49.402Z"
   },
   {
    "duration": 0,
    "start_time": "2022-07-04T15:47:49.403Z"
   },
   {
    "duration": 0,
    "start_time": "2022-07-04T15:47:49.424Z"
   },
   {
    "duration": 0,
    "start_time": "2022-07-04T15:47:49.424Z"
   },
   {
    "duration": 0,
    "start_time": "2022-07-04T15:47:49.425Z"
   },
   {
    "duration": 0,
    "start_time": "2022-07-04T15:47:49.426Z"
   },
   {
    "duration": 0,
    "start_time": "2022-07-04T15:47:49.427Z"
   },
   {
    "duration": 0,
    "start_time": "2022-07-04T15:47:49.428Z"
   },
   {
    "duration": 0,
    "start_time": "2022-07-04T15:47:49.428Z"
   },
   {
    "duration": 0,
    "start_time": "2022-07-04T15:47:49.429Z"
   },
   {
    "duration": 0,
    "start_time": "2022-07-04T15:47:49.430Z"
   },
   {
    "duration": 0,
    "start_time": "2022-07-04T15:47:49.431Z"
   },
   {
    "duration": 0,
    "start_time": "2022-07-04T15:47:49.432Z"
   },
   {
    "duration": 0,
    "start_time": "2022-07-04T15:47:49.433Z"
   },
   {
    "duration": 0,
    "start_time": "2022-07-04T15:47:49.434Z"
   },
   {
    "duration": 0,
    "start_time": "2022-07-04T15:47:49.435Z"
   },
   {
    "duration": 0,
    "start_time": "2022-07-04T15:47:49.435Z"
   },
   {
    "duration": 0,
    "start_time": "2022-07-04T15:47:49.436Z"
   },
   {
    "duration": 0,
    "start_time": "2022-07-04T15:47:49.438Z"
   },
   {
    "duration": 0,
    "start_time": "2022-07-04T15:47:49.438Z"
   },
   {
    "duration": 0,
    "start_time": "2022-07-04T15:47:49.439Z"
   },
   {
    "duration": 0,
    "start_time": "2022-07-04T15:47:49.440Z"
   },
   {
    "duration": 0,
    "start_time": "2022-07-04T15:47:49.441Z"
   },
   {
    "duration": 0,
    "start_time": "2022-07-04T15:47:49.442Z"
   },
   {
    "duration": 0,
    "start_time": "2022-07-04T15:47:49.442Z"
   },
   {
    "duration": 0,
    "start_time": "2022-07-04T15:47:49.443Z"
   },
   {
    "duration": 0,
    "start_time": "2022-07-04T15:47:49.444Z"
   },
   {
    "duration": 0,
    "start_time": "2022-07-04T15:47:49.445Z"
   },
   {
    "duration": 0,
    "start_time": "2022-07-04T15:47:49.446Z"
   },
   {
    "duration": 0,
    "start_time": "2022-07-04T15:47:49.448Z"
   },
   {
    "duration": 138,
    "start_time": "2022-07-04T15:48:15.441Z"
   },
   {
    "duration": 49,
    "start_time": "2022-07-04T15:48:19.544Z"
   },
   {
    "duration": 11,
    "start_time": "2022-07-04T15:48:20.142Z"
   },
   {
    "duration": 146,
    "start_time": "2022-07-04T15:48:20.855Z"
   },
   {
    "duration": 153,
    "start_time": "2022-07-04T15:48:21.575Z"
   },
   {
    "duration": 334,
    "start_time": "2022-07-04T15:50:47.341Z"
   },
   {
    "duration": 148,
    "start_time": "2022-07-04T15:51:31.852Z"
   },
   {
    "duration": 219,
    "start_time": "2022-07-04T15:52:14.839Z"
   },
   {
    "duration": 233,
    "start_time": "2022-07-04T15:52:48.843Z"
   },
   {
    "duration": 274,
    "start_time": "2022-07-04T15:53:27.741Z"
   },
   {
    "duration": 123,
    "start_time": "2022-07-04T15:54:31.939Z"
   },
   {
    "duration": 48,
    "start_time": "2022-07-04T15:54:44.560Z"
   },
   {
    "duration": 50,
    "start_time": "2022-07-04T15:54:58.380Z"
   },
   {
    "duration": 6,
    "start_time": "2022-07-04T15:55:19.460Z"
   },
   {
    "duration": 162,
    "start_time": "2022-07-04T15:55:25.589Z"
   },
   {
    "duration": 134,
    "start_time": "2022-07-04T15:56:39.658Z"
   },
   {
    "duration": 142,
    "start_time": "2022-07-04T15:57:08.937Z"
   },
   {
    "duration": 180,
    "start_time": "2022-07-04T15:57:17.312Z"
   },
   {
    "duration": 1170,
    "start_time": "2022-07-04T15:57:34.742Z"
   },
   {
    "duration": 569,
    "start_time": "2022-07-04T15:57:35.915Z"
   },
   {
    "duration": 2,
    "start_time": "2022-07-04T15:57:36.486Z"
   },
   {
    "duration": 102,
    "start_time": "2022-07-04T15:57:36.489Z"
   },
   {
    "duration": 94,
    "start_time": "2022-07-04T15:57:36.593Z"
   },
   {
    "duration": 77,
    "start_time": "2022-07-04T15:57:36.689Z"
   },
   {
    "duration": 217,
    "start_time": "2022-07-04T15:57:36.768Z"
   },
   {
    "duration": 5,
    "start_time": "2022-07-04T15:57:36.987Z"
   },
   {
    "duration": 106,
    "start_time": "2022-07-04T15:57:36.994Z"
   },
   {
    "duration": 13,
    "start_time": "2022-07-04T15:57:37.101Z"
   },
   {
    "duration": 89,
    "start_time": "2022-07-04T15:57:37.116Z"
   },
   {
    "duration": 8,
    "start_time": "2022-07-04T15:57:37.206Z"
   },
   {
    "duration": 77,
    "start_time": "2022-07-04T15:57:37.216Z"
   },
   {
    "duration": 37,
    "start_time": "2022-07-04T15:57:37.299Z"
   },
   {
    "duration": 61,
    "start_time": "2022-07-04T15:57:37.338Z"
   },
   {
    "duration": 142,
    "start_time": "2022-07-04T15:57:37.401Z"
   },
   {
    "duration": 83,
    "start_time": "2022-07-04T15:57:37.546Z"
   },
   {
    "duration": 35,
    "start_time": "2022-07-04T15:57:37.631Z"
   },
   {
    "duration": 54,
    "start_time": "2022-07-04T15:57:37.668Z"
   },
   {
    "duration": 64,
    "start_time": "2022-07-04T15:57:37.726Z"
   },
   {
    "duration": 37,
    "start_time": "2022-07-04T15:57:37.793Z"
   },
   {
    "duration": 36,
    "start_time": "2022-07-04T15:57:37.832Z"
   },
   {
    "duration": 31,
    "start_time": "2022-07-04T15:57:37.870Z"
   },
   {
    "duration": 25,
    "start_time": "2022-07-04T15:57:37.903Z"
   },
   {
    "duration": 46,
    "start_time": "2022-07-04T15:57:37.930Z"
   },
   {
    "duration": 135,
    "start_time": "2022-07-04T15:57:37.977Z"
   },
   {
    "duration": 10,
    "start_time": "2022-07-04T15:57:38.114Z"
   },
   {
    "duration": 157,
    "start_time": "2022-07-04T15:57:38.126Z"
   },
   {
    "duration": 38,
    "start_time": "2022-07-04T15:57:38.285Z"
   },
   {
    "duration": 13,
    "start_time": "2022-07-04T15:57:38.325Z"
   },
   {
    "duration": 49,
    "start_time": "2022-07-04T15:57:38.340Z"
   },
   {
    "duration": 48,
    "start_time": "2022-07-04T15:57:38.390Z"
   },
   {
    "duration": 24,
    "start_time": "2022-07-04T15:57:38.439Z"
   },
   {
    "duration": 217,
    "start_time": "2022-07-04T15:57:38.465Z"
   },
   {
    "duration": 184,
    "start_time": "2022-07-04T15:57:38.685Z"
   },
   {
    "duration": 148,
    "start_time": "2022-07-04T15:57:38.871Z"
   },
   {
    "duration": 54,
    "start_time": "2022-07-04T15:57:39.023Z"
   },
   {
    "duration": 10,
    "start_time": "2022-07-04T15:57:39.079Z"
   },
   {
    "duration": 193,
    "start_time": "2022-07-04T15:57:39.090Z"
   },
   {
    "duration": 242,
    "start_time": "2022-07-04T15:57:39.286Z"
   },
   {
    "duration": 0,
    "start_time": "2022-07-04T15:57:39.541Z"
   },
   {
    "duration": 0,
    "start_time": "2022-07-04T15:57:39.542Z"
   },
   {
    "duration": 0,
    "start_time": "2022-07-04T15:57:39.545Z"
   },
   {
    "duration": 0,
    "start_time": "2022-07-04T15:57:39.546Z"
   },
   {
    "duration": 0,
    "start_time": "2022-07-04T15:57:39.547Z"
   },
   {
    "duration": 0,
    "start_time": "2022-07-04T15:57:39.549Z"
   },
   {
    "duration": 0,
    "start_time": "2022-07-04T15:57:39.550Z"
   },
   {
    "duration": 0,
    "start_time": "2022-07-04T15:57:39.551Z"
   },
   {
    "duration": 0,
    "start_time": "2022-07-04T15:57:39.552Z"
   },
   {
    "duration": 0,
    "start_time": "2022-07-04T15:57:39.553Z"
   },
   {
    "duration": 0,
    "start_time": "2022-07-04T15:57:39.554Z"
   },
   {
    "duration": 0,
    "start_time": "2022-07-04T15:57:39.556Z"
   },
   {
    "duration": 0,
    "start_time": "2022-07-04T15:57:39.673Z"
   },
   {
    "duration": 0,
    "start_time": "2022-07-04T15:57:39.675Z"
   },
   {
    "duration": 0,
    "start_time": "2022-07-04T15:57:39.676Z"
   },
   {
    "duration": 0,
    "start_time": "2022-07-04T15:57:39.677Z"
   },
   {
    "duration": 0,
    "start_time": "2022-07-04T15:57:39.679Z"
   },
   {
    "duration": 0,
    "start_time": "2022-07-04T15:57:39.680Z"
   },
   {
    "duration": 0,
    "start_time": "2022-07-04T15:57:39.681Z"
   },
   {
    "duration": 0,
    "start_time": "2022-07-04T15:57:39.683Z"
   },
   {
    "duration": 0,
    "start_time": "2022-07-04T15:57:39.684Z"
   },
   {
    "duration": 0,
    "start_time": "2022-07-04T15:57:39.686Z"
   },
   {
    "duration": 0,
    "start_time": "2022-07-04T15:57:39.687Z"
   },
   {
    "duration": 0,
    "start_time": "2022-07-04T15:57:39.688Z"
   },
   {
    "duration": 0,
    "start_time": "2022-07-04T15:57:39.689Z"
   },
   {
    "duration": 0,
    "start_time": "2022-07-04T15:57:39.690Z"
   },
   {
    "duration": 0,
    "start_time": "2022-07-04T15:57:39.691Z"
   },
   {
    "duration": 0,
    "start_time": "2022-07-04T15:57:39.693Z"
   },
   {
    "duration": 0,
    "start_time": "2022-07-04T15:57:39.724Z"
   },
   {
    "duration": 0,
    "start_time": "2022-07-04T15:57:39.726Z"
   },
   {
    "duration": 0,
    "start_time": "2022-07-04T15:57:39.727Z"
   },
   {
    "duration": 1186,
    "start_time": "2022-07-04T15:58:23.639Z"
   },
   {
    "duration": 544,
    "start_time": "2022-07-04T15:58:24.831Z"
   },
   {
    "duration": 2,
    "start_time": "2022-07-04T15:58:25.377Z"
   },
   {
    "duration": 85,
    "start_time": "2022-07-04T15:58:25.381Z"
   },
   {
    "duration": 101,
    "start_time": "2022-07-04T15:58:25.468Z"
   },
   {
    "duration": 76,
    "start_time": "2022-07-04T15:58:25.570Z"
   },
   {
    "duration": 213,
    "start_time": "2022-07-04T15:58:25.648Z"
   },
   {
    "duration": 4,
    "start_time": "2022-07-04T15:58:25.863Z"
   },
   {
    "duration": 79,
    "start_time": "2022-07-04T15:58:25.869Z"
   },
   {
    "duration": 9,
    "start_time": "2022-07-04T15:58:25.950Z"
   },
   {
    "duration": 38,
    "start_time": "2022-07-04T15:58:25.961Z"
   },
   {
    "duration": 35,
    "start_time": "2022-07-04T15:58:26.001Z"
   },
   {
    "duration": 56,
    "start_time": "2022-07-04T15:58:26.039Z"
   },
   {
    "duration": 38,
    "start_time": "2022-07-04T15:58:26.099Z"
   },
   {
    "duration": 10,
    "start_time": "2022-07-04T15:58:26.140Z"
   },
   {
    "duration": 78,
    "start_time": "2022-07-04T15:58:26.152Z"
   },
   {
    "duration": 32,
    "start_time": "2022-07-04T15:58:26.233Z"
   },
   {
    "duration": 9,
    "start_time": "2022-07-04T15:58:26.266Z"
   },
   {
    "duration": 23,
    "start_time": "2022-07-04T15:58:26.276Z"
   },
   {
    "duration": 24,
    "start_time": "2022-07-04T15:58:26.327Z"
   },
   {
    "duration": 19,
    "start_time": "2022-07-04T15:58:26.353Z"
   },
   {
    "duration": 9,
    "start_time": "2022-07-04T15:58:26.374Z"
   },
   {
    "duration": 8,
    "start_time": "2022-07-04T15:58:26.385Z"
   },
   {
    "duration": 16,
    "start_time": "2022-07-04T15:58:26.429Z"
   },
   {
    "duration": 16,
    "start_time": "2022-07-04T15:58:26.447Z"
   },
   {
    "duration": 125,
    "start_time": "2022-07-04T15:58:26.465Z"
   },
   {
    "duration": 4,
    "start_time": "2022-07-04T15:58:26.592Z"
   },
   {
    "duration": 147,
    "start_time": "2022-07-04T15:58:26.598Z"
   },
   {
    "duration": 39,
    "start_time": "2022-07-04T15:58:26.746Z"
   },
   {
    "duration": 4,
    "start_time": "2022-07-04T15:58:26.787Z"
   },
   {
    "duration": 46,
    "start_time": "2022-07-04T15:58:26.792Z"
   },
   {
    "duration": 20,
    "start_time": "2022-07-04T15:58:26.841Z"
   },
   {
    "duration": 5,
    "start_time": "2022-07-04T15:58:26.862Z"
   },
   {
    "duration": 211,
    "start_time": "2022-07-04T15:58:26.869Z"
   },
   {
    "duration": 171,
    "start_time": "2022-07-04T15:58:27.082Z"
   },
   {
    "duration": 209,
    "start_time": "2022-07-04T15:58:27.255Z"
   },
   {
    "duration": 63,
    "start_time": "2022-07-04T15:58:27.466Z"
   },
   {
    "duration": 16,
    "start_time": "2022-07-04T15:58:27.531Z"
   },
   {
    "duration": 198,
    "start_time": "2022-07-04T15:58:27.549Z"
   },
   {
    "duration": 255,
    "start_time": "2022-07-04T15:58:27.749Z"
   },
   {
    "duration": 0,
    "start_time": "2022-07-04T15:58:28.007Z"
   },
   {
    "duration": 0,
    "start_time": "2022-07-04T15:58:28.009Z"
   },
   {
    "duration": 0,
    "start_time": "2022-07-04T15:58:28.010Z"
   },
   {
    "duration": 0,
    "start_time": "2022-07-04T15:58:28.011Z"
   },
   {
    "duration": 0,
    "start_time": "2022-07-04T15:58:28.012Z"
   },
   {
    "duration": 0,
    "start_time": "2022-07-04T15:58:28.026Z"
   },
   {
    "duration": 0,
    "start_time": "2022-07-04T15:58:28.028Z"
   },
   {
    "duration": 0,
    "start_time": "2022-07-04T15:58:28.030Z"
   },
   {
    "duration": 0,
    "start_time": "2022-07-04T15:58:28.031Z"
   },
   {
    "duration": 0,
    "start_time": "2022-07-04T15:58:28.033Z"
   },
   {
    "duration": 0,
    "start_time": "2022-07-04T15:58:28.034Z"
   },
   {
    "duration": 0,
    "start_time": "2022-07-04T15:58:28.036Z"
   },
   {
    "duration": 0,
    "start_time": "2022-07-04T15:58:28.037Z"
   },
   {
    "duration": 0,
    "start_time": "2022-07-04T15:58:28.151Z"
   },
   {
    "duration": 0,
    "start_time": "2022-07-04T15:58:28.153Z"
   },
   {
    "duration": 0,
    "start_time": "2022-07-04T15:58:28.154Z"
   },
   {
    "duration": 0,
    "start_time": "2022-07-04T15:58:28.155Z"
   },
   {
    "duration": 0,
    "start_time": "2022-07-04T15:58:28.156Z"
   },
   {
    "duration": 0,
    "start_time": "2022-07-04T15:58:28.158Z"
   },
   {
    "duration": 0,
    "start_time": "2022-07-04T15:58:28.158Z"
   },
   {
    "duration": 0,
    "start_time": "2022-07-04T15:58:28.159Z"
   },
   {
    "duration": 0,
    "start_time": "2022-07-04T15:58:28.160Z"
   },
   {
    "duration": 0,
    "start_time": "2022-07-04T15:58:28.161Z"
   },
   {
    "duration": 0,
    "start_time": "2022-07-04T15:58:28.162Z"
   },
   {
    "duration": 0,
    "start_time": "2022-07-04T15:58:28.163Z"
   },
   {
    "duration": 0,
    "start_time": "2022-07-04T15:58:28.165Z"
   },
   {
    "duration": 0,
    "start_time": "2022-07-04T15:58:28.165Z"
   },
   {
    "duration": 0,
    "start_time": "2022-07-04T15:58:28.166Z"
   },
   {
    "duration": 0,
    "start_time": "2022-07-04T15:58:28.167Z"
   },
   {
    "duration": 0,
    "start_time": "2022-07-04T15:58:28.169Z"
   },
   {
    "duration": 0,
    "start_time": "2022-07-04T15:58:28.171Z"
   },
   {
    "duration": 10,
    "start_time": "2022-07-04T16:02:38.738Z"
   },
   {
    "duration": 13,
    "start_time": "2022-07-04T16:02:42.217Z"
   },
   {
    "duration": 11,
    "start_time": "2022-07-04T16:02:44.072Z"
   },
   {
    "duration": 1195,
    "start_time": "2022-07-04T16:02:57.486Z"
   },
   {
    "duration": 605,
    "start_time": "2022-07-04T16:02:58.684Z"
   },
   {
    "duration": 3,
    "start_time": "2022-07-04T16:02:59.290Z"
   },
   {
    "duration": 94,
    "start_time": "2022-07-04T16:02:59.295Z"
   },
   {
    "duration": 96,
    "start_time": "2022-07-04T16:02:59.391Z"
   },
   {
    "duration": 79,
    "start_time": "2022-07-04T16:02:59.488Z"
   },
   {
    "duration": 214,
    "start_time": "2022-07-04T16:02:59.569Z"
   },
   {
    "duration": 5,
    "start_time": "2022-07-04T16:02:59.784Z"
   },
   {
    "duration": 80,
    "start_time": "2022-07-04T16:02:59.791Z"
   },
   {
    "duration": 9,
    "start_time": "2022-07-04T16:02:59.874Z"
   },
   {
    "duration": 77,
    "start_time": "2022-07-04T16:02:59.885Z"
   },
   {
    "duration": 8,
    "start_time": "2022-07-04T16:02:59.963Z"
   },
   {
    "duration": 55,
    "start_time": "2022-07-04T16:02:59.973Z"
   },
   {
    "duration": 31,
    "start_time": "2022-07-04T16:03:00.031Z"
   },
   {
    "duration": 7,
    "start_time": "2022-07-04T16:03:00.064Z"
   },
   {
    "duration": 81,
    "start_time": "2022-07-04T16:03:00.072Z"
   },
   {
    "duration": 33,
    "start_time": "2022-07-04T16:03:00.154Z"
   },
   {
    "duration": 8,
    "start_time": "2022-07-04T16:03:00.188Z"
   },
   {
    "duration": 28,
    "start_time": "2022-07-04T16:03:00.197Z"
   },
   {
    "duration": 22,
    "start_time": "2022-07-04T16:03:00.227Z"
   },
   {
    "duration": 19,
    "start_time": "2022-07-04T16:03:00.251Z"
   },
   {
    "duration": 11,
    "start_time": "2022-07-04T16:03:00.271Z"
   },
   {
    "duration": 41,
    "start_time": "2022-07-04T16:03:00.284Z"
   },
   {
    "duration": 8,
    "start_time": "2022-07-04T16:03:00.327Z"
   },
   {
    "duration": 31,
    "start_time": "2022-07-04T16:03:00.337Z"
   },
   {
    "duration": 120,
    "start_time": "2022-07-04T16:03:00.370Z"
   },
   {
    "duration": 4,
    "start_time": "2022-07-04T16:03:00.492Z"
   },
   {
    "duration": 170,
    "start_time": "2022-07-04T16:03:00.500Z"
   },
   {
    "duration": 34,
    "start_time": "2022-07-04T16:03:00.672Z"
   },
   {
    "duration": 17,
    "start_time": "2022-07-04T16:03:00.709Z"
   },
   {
    "duration": 78,
    "start_time": "2022-07-04T16:03:00.729Z"
   },
   {
    "duration": 51,
    "start_time": "2022-07-04T16:03:00.809Z"
   },
   {
    "duration": 8,
    "start_time": "2022-07-04T16:03:00.862Z"
   },
   {
    "duration": 208,
    "start_time": "2022-07-04T16:03:00.872Z"
   },
   {
    "duration": 159,
    "start_time": "2022-07-04T16:03:01.083Z"
   },
   {
    "duration": 163,
    "start_time": "2022-07-04T16:03:01.245Z"
   },
   {
    "duration": 63,
    "start_time": "2022-07-04T16:03:01.410Z"
   },
   {
    "duration": 9,
    "start_time": "2022-07-04T16:03:01.475Z"
   },
   {
    "duration": 179,
    "start_time": "2022-07-04T16:03:01.486Z"
   },
   {
    "duration": 265,
    "start_time": "2022-07-04T16:03:01.666Z"
   },
   {
    "duration": 0,
    "start_time": "2022-07-04T16:03:01.934Z"
   },
   {
    "duration": 0,
    "start_time": "2022-07-04T16:03:01.936Z"
   },
   {
    "duration": 0,
    "start_time": "2022-07-04T16:03:01.938Z"
   },
   {
    "duration": 0,
    "start_time": "2022-07-04T16:03:01.939Z"
   },
   {
    "duration": 0,
    "start_time": "2022-07-04T16:03:01.941Z"
   },
   {
    "duration": 0,
    "start_time": "2022-07-04T16:03:01.943Z"
   },
   {
    "duration": 0,
    "start_time": "2022-07-04T16:03:01.944Z"
   },
   {
    "duration": 0,
    "start_time": "2022-07-04T16:03:01.945Z"
   },
   {
    "duration": 0,
    "start_time": "2022-07-04T16:03:01.946Z"
   },
   {
    "duration": 0,
    "start_time": "2022-07-04T16:03:01.947Z"
   },
   {
    "duration": 0,
    "start_time": "2022-07-04T16:03:01.949Z"
   },
   {
    "duration": 0,
    "start_time": "2022-07-04T16:03:01.950Z"
   },
   {
    "duration": 0,
    "start_time": "2022-07-04T16:03:01.952Z"
   },
   {
    "duration": 0,
    "start_time": "2022-07-04T16:03:01.954Z"
   },
   {
    "duration": 0,
    "start_time": "2022-07-04T16:03:01.955Z"
   },
   {
    "duration": 0,
    "start_time": "2022-07-04T16:03:01.956Z"
   },
   {
    "duration": 0,
    "start_time": "2022-07-04T16:03:01.957Z"
   },
   {
    "duration": 0,
    "start_time": "2022-07-04T16:03:01.958Z"
   },
   {
    "duration": 0,
    "start_time": "2022-07-04T16:03:01.960Z"
   },
   {
    "duration": 0,
    "start_time": "2022-07-04T16:03:01.961Z"
   },
   {
    "duration": 0,
    "start_time": "2022-07-04T16:03:01.962Z"
   },
   {
    "duration": 0,
    "start_time": "2022-07-04T16:03:01.963Z"
   },
   {
    "duration": 0,
    "start_time": "2022-07-04T16:03:01.965Z"
   },
   {
    "duration": 0,
    "start_time": "2022-07-04T16:03:01.966Z"
   },
   {
    "duration": 0,
    "start_time": "2022-07-04T16:03:01.967Z"
   },
   {
    "duration": 0,
    "start_time": "2022-07-04T16:03:01.968Z"
   },
   {
    "duration": 0,
    "start_time": "2022-07-04T16:03:02.024Z"
   },
   {
    "duration": 0,
    "start_time": "2022-07-04T16:03:02.027Z"
   },
   {
    "duration": 0,
    "start_time": "2022-07-04T16:03:02.029Z"
   },
   {
    "duration": 0,
    "start_time": "2022-07-04T16:03:02.030Z"
   },
   {
    "duration": 0,
    "start_time": "2022-07-04T16:03:02.031Z"
   },
   {
    "duration": 154,
    "start_time": "2022-07-04T16:03:19.942Z"
   },
   {
    "duration": 146,
    "start_time": "2022-07-04T16:03:28.161Z"
   },
   {
    "duration": 166,
    "start_time": "2022-07-04T16:04:39.242Z"
   },
   {
    "duration": 158,
    "start_time": "2022-07-04T16:05:14.746Z"
   },
   {
    "duration": 159,
    "start_time": "2022-07-04T16:05:29.151Z"
   },
   {
    "duration": 143,
    "start_time": "2022-07-04T16:05:42.881Z"
   },
   {
    "duration": 170,
    "start_time": "2022-07-04T16:06:26.923Z"
   },
   {
    "duration": 1038,
    "start_time": "2022-07-04T16:06:41.964Z"
   },
   {
    "duration": 575,
    "start_time": "2022-07-04T16:06:43.004Z"
   },
   {
    "duration": 3,
    "start_time": "2022-07-04T16:06:43.581Z"
   },
   {
    "duration": 96,
    "start_time": "2022-07-04T16:06:43.587Z"
   },
   {
    "duration": 109,
    "start_time": "2022-07-04T16:06:43.685Z"
   },
   {
    "duration": 65,
    "start_time": "2022-07-04T16:06:43.797Z"
   },
   {
    "duration": 227,
    "start_time": "2022-07-04T16:06:43.865Z"
   },
   {
    "duration": 5,
    "start_time": "2022-07-04T16:06:44.095Z"
   },
   {
    "duration": 100,
    "start_time": "2022-07-04T16:06:44.102Z"
   },
   {
    "duration": 9,
    "start_time": "2022-07-04T16:06:44.205Z"
   },
   {
    "duration": 55,
    "start_time": "2022-07-04T16:06:44.216Z"
   },
   {
    "duration": 8,
    "start_time": "2022-07-04T16:06:44.272Z"
   },
   {
    "duration": 69,
    "start_time": "2022-07-04T16:06:44.282Z"
   },
   {
    "duration": 33,
    "start_time": "2022-07-04T16:06:44.353Z"
   },
   {
    "duration": 10,
    "start_time": "2022-07-04T16:06:44.388Z"
   },
   {
    "duration": 75,
    "start_time": "2022-07-04T16:06:44.400Z"
   },
   {
    "duration": 47,
    "start_time": "2022-07-04T16:06:44.477Z"
   },
   {
    "duration": 21,
    "start_time": "2022-07-04T16:06:44.528Z"
   },
   {
    "duration": 31,
    "start_time": "2022-07-04T16:06:44.550Z"
   },
   {
    "duration": 25,
    "start_time": "2022-07-04T16:06:44.583Z"
   },
   {
    "duration": 31,
    "start_time": "2022-07-04T16:06:44.610Z"
   },
   {
    "duration": 11,
    "start_time": "2022-07-04T16:06:44.644Z"
   },
   {
    "duration": 24,
    "start_time": "2022-07-04T16:06:44.657Z"
   },
   {
    "duration": 27,
    "start_time": "2022-07-04T16:06:44.683Z"
   },
   {
    "duration": 14,
    "start_time": "2022-07-04T16:06:44.713Z"
   },
   {
    "duration": 149,
    "start_time": "2022-07-04T16:06:44.729Z"
   },
   {
    "duration": 4,
    "start_time": "2022-07-04T16:06:44.880Z"
   },
   {
    "duration": 136,
    "start_time": "2022-07-04T16:06:44.891Z"
   },
   {
    "duration": 41,
    "start_time": "2022-07-04T16:06:45.029Z"
   },
   {
    "duration": 4,
    "start_time": "2022-07-04T16:06:45.073Z"
   },
   {
    "duration": 19,
    "start_time": "2022-07-04T16:06:45.079Z"
   },
   {
    "duration": 38,
    "start_time": "2022-07-04T16:06:45.099Z"
   },
   {
    "duration": 5,
    "start_time": "2022-07-04T16:06:45.139Z"
   },
   {
    "duration": 174,
    "start_time": "2022-07-04T16:06:45.146Z"
   },
   {
    "duration": 149,
    "start_time": "2022-07-04T16:06:45.324Z"
   },
   {
    "duration": 160,
    "start_time": "2022-07-04T16:06:45.474Z"
   },
   {
    "duration": 44,
    "start_time": "2022-07-04T16:06:45.636Z"
   },
   {
    "duration": 9,
    "start_time": "2022-07-04T16:06:45.682Z"
   },
   {
    "duration": 182,
    "start_time": "2022-07-04T16:06:45.693Z"
   },
   {
    "duration": 165,
    "start_time": "2022-07-04T16:06:45.877Z"
   },
   {
    "duration": 11,
    "start_time": "2022-07-04T16:06:46.044Z"
   },
   {
    "duration": 234,
    "start_time": "2022-07-04T16:06:46.057Z"
   },
   {
    "duration": 146,
    "start_time": "2022-07-04T16:06:46.293Z"
   },
   {
    "duration": 10,
    "start_time": "2022-07-04T16:06:46.441Z"
   },
   {
    "duration": 156,
    "start_time": "2022-07-04T16:06:46.453Z"
   },
   {
    "duration": 149,
    "start_time": "2022-07-04T16:06:46.611Z"
   },
   {
    "duration": 4,
    "start_time": "2022-07-04T16:06:46.762Z"
   },
   {
    "duration": 27,
    "start_time": "2022-07-04T16:06:46.768Z"
   },
   {
    "duration": 8,
    "start_time": "2022-07-04T16:06:46.797Z"
   },
   {
    "duration": 8,
    "start_time": "2022-07-04T16:06:46.823Z"
   },
   {
    "duration": 9,
    "start_time": "2022-07-04T16:06:46.833Z"
   },
   {
    "duration": 18,
    "start_time": "2022-07-04T16:06:46.843Z"
   },
   {
    "duration": 17,
    "start_time": "2022-07-04T16:06:46.863Z"
   },
   {
    "duration": 17,
    "start_time": "2022-07-04T16:06:46.882Z"
   },
   {
    "duration": 16,
    "start_time": "2022-07-04T16:06:46.901Z"
   },
   {
    "duration": 9,
    "start_time": "2022-07-04T16:06:46.918Z"
   },
   {
    "duration": 15,
    "start_time": "2022-07-04T16:06:46.929Z"
   },
   {
    "duration": 6,
    "start_time": "2022-07-04T16:06:46.945Z"
   },
   {
    "duration": 16,
    "start_time": "2022-07-04T16:06:46.953Z"
   },
   {
    "duration": 23,
    "start_time": "2022-07-04T16:06:46.970Z"
   },
   {
    "duration": 6,
    "start_time": "2022-07-04T16:06:46.995Z"
   },
   {
    "duration": 8,
    "start_time": "2022-07-04T16:06:47.003Z"
   },
   {
    "duration": 62,
    "start_time": "2022-07-04T16:06:47.012Z"
   },
   {
    "duration": 3,
    "start_time": "2022-07-04T16:06:47.076Z"
   },
   {
    "duration": 12,
    "start_time": "2022-07-04T16:06:47.081Z"
   },
   {
    "duration": 1540,
    "start_time": "2022-07-04T16:06:47.095Z"
   },
   {
    "duration": 9,
    "start_time": "2022-07-04T16:06:48.636Z"
   },
   {
    "duration": 183,
    "start_time": "2022-07-04T16:06:48.647Z"
   },
   {
    "duration": 268,
    "start_time": "2022-07-04T16:06:48.832Z"
   },
   {
    "duration": 202,
    "start_time": "2022-07-04T16:06:49.102Z"
   },
   {
    "duration": 35,
    "start_time": "2022-07-04T16:06:49.306Z"
   },
   {
    "duration": 144,
    "start_time": "2022-07-04T16:07:53.939Z"
   },
   {
    "duration": 167,
    "start_time": "2022-07-04T16:15:11.714Z"
   },
   {
    "duration": 154,
    "start_time": "2022-07-04T16:15:48.122Z"
   },
   {
    "duration": 159,
    "start_time": "2022-07-04T16:16:50.008Z"
   },
   {
    "duration": 163,
    "start_time": "2022-07-04T16:17:00.031Z"
   },
   {
    "duration": 165,
    "start_time": "2022-07-04T16:18:48.501Z"
   },
   {
    "duration": 143,
    "start_time": "2022-07-04T16:19:55.339Z"
   },
   {
    "duration": 151,
    "start_time": "2022-07-04T16:20:40.217Z"
   },
   {
    "duration": 152,
    "start_time": "2022-07-04T16:21:51.582Z"
   },
   {
    "duration": 154,
    "start_time": "2022-07-04T16:22:01.399Z"
   },
   {
    "duration": 152,
    "start_time": "2022-07-04T16:22:15.614Z"
   },
   {
    "duration": 253,
    "start_time": "2022-07-04T16:22:29.581Z"
   },
   {
    "duration": 204,
    "start_time": "2022-07-04T16:23:23.326Z"
   },
   {
    "duration": 1127,
    "start_time": "2022-07-04T16:23:33.711Z"
   },
   {
    "duration": 511,
    "start_time": "2022-07-04T16:23:34.840Z"
   },
   {
    "duration": 2,
    "start_time": "2022-07-04T16:23:35.354Z"
   },
   {
    "duration": 102,
    "start_time": "2022-07-04T16:23:35.358Z"
   },
   {
    "duration": 104,
    "start_time": "2022-07-04T16:23:35.462Z"
   },
   {
    "duration": 68,
    "start_time": "2022-07-04T16:23:35.568Z"
   },
   {
    "duration": 194,
    "start_time": "2022-07-04T16:23:35.638Z"
   },
   {
    "duration": 5,
    "start_time": "2022-07-04T16:23:35.834Z"
   },
   {
    "duration": 96,
    "start_time": "2022-07-04T16:23:35.842Z"
   },
   {
    "duration": 8,
    "start_time": "2022-07-04T16:23:35.941Z"
   },
   {
    "duration": 49,
    "start_time": "2022-07-04T16:23:35.950Z"
   },
   {
    "duration": 7,
    "start_time": "2022-07-04T16:23:36.001Z"
   },
   {
    "duration": 61,
    "start_time": "2022-07-04T16:23:36.010Z"
   },
   {
    "duration": 22,
    "start_time": "2022-07-04T16:23:36.072Z"
   },
   {
    "duration": 10,
    "start_time": "2022-07-04T16:23:36.095Z"
   },
   {
    "duration": 68,
    "start_time": "2022-07-04T16:23:36.106Z"
   },
   {
    "duration": 34,
    "start_time": "2022-07-04T16:23:36.176Z"
   },
   {
    "duration": 17,
    "start_time": "2022-07-04T16:23:36.212Z"
   },
   {
    "duration": 50,
    "start_time": "2022-07-04T16:23:36.230Z"
   },
   {
    "duration": 33,
    "start_time": "2022-07-04T16:23:36.282Z"
   },
   {
    "duration": 41,
    "start_time": "2022-07-04T16:23:36.316Z"
   },
   {
    "duration": 9,
    "start_time": "2022-07-04T16:23:36.359Z"
   },
   {
    "duration": 22,
    "start_time": "2022-07-04T16:23:36.370Z"
   },
   {
    "duration": 29,
    "start_time": "2022-07-04T16:23:36.393Z"
   },
   {
    "duration": 18,
    "start_time": "2022-07-04T16:23:36.424Z"
   },
   {
    "duration": 181,
    "start_time": "2022-07-04T16:23:36.444Z"
   },
   {
    "duration": 4,
    "start_time": "2022-07-04T16:23:36.627Z"
   },
   {
    "duration": 132,
    "start_time": "2022-07-04T16:23:36.636Z"
   },
   {
    "duration": 30,
    "start_time": "2022-07-04T16:23:36.770Z"
   },
   {
    "duration": 5,
    "start_time": "2022-07-04T16:23:36.801Z"
   },
   {
    "duration": 44,
    "start_time": "2022-07-04T16:23:36.807Z"
   },
   {
    "duration": 28,
    "start_time": "2022-07-04T16:23:36.853Z"
   },
   {
    "duration": 23,
    "start_time": "2022-07-04T16:23:36.883Z"
   },
   {
    "duration": 196,
    "start_time": "2022-07-04T16:23:36.908Z"
   },
   {
    "duration": 131,
    "start_time": "2022-07-04T16:23:37.106Z"
   },
   {
    "duration": 162,
    "start_time": "2022-07-04T16:23:37.239Z"
   },
   {
    "duration": 58,
    "start_time": "2022-07-04T16:23:37.404Z"
   },
   {
    "duration": 12,
    "start_time": "2022-07-04T16:23:37.464Z"
   },
   {
    "duration": 233,
    "start_time": "2022-07-04T16:23:37.477Z"
   },
   {
    "duration": 233,
    "start_time": "2022-07-04T16:23:37.713Z"
   },
   {
    "duration": 11,
    "start_time": "2022-07-04T16:23:37.947Z"
   },
   {
    "duration": 246,
    "start_time": "2022-07-04T16:23:37.960Z"
   },
   {
    "duration": 152,
    "start_time": "2022-07-04T16:23:38.208Z"
   },
   {
    "duration": 12,
    "start_time": "2022-07-04T16:23:38.362Z"
   },
   {
    "duration": 187,
    "start_time": "2022-07-04T16:23:38.376Z"
   },
   {
    "duration": 152,
    "start_time": "2022-07-04T16:23:38.565Z"
   },
   {
    "duration": 4,
    "start_time": "2022-07-04T16:23:38.724Z"
   },
   {
    "duration": 25,
    "start_time": "2022-07-04T16:23:38.730Z"
   },
   {
    "duration": 11,
    "start_time": "2022-07-04T16:23:38.757Z"
   },
   {
    "duration": 9,
    "start_time": "2022-07-04T16:23:38.769Z"
   },
   {
    "duration": 11,
    "start_time": "2022-07-04T16:23:38.779Z"
   },
   {
    "duration": 4,
    "start_time": "2022-07-04T16:23:38.791Z"
   },
   {
    "duration": 28,
    "start_time": "2022-07-04T16:23:38.797Z"
   },
   {
    "duration": 8,
    "start_time": "2022-07-04T16:23:38.827Z"
   },
   {
    "duration": 7,
    "start_time": "2022-07-04T16:23:38.837Z"
   },
   {
    "duration": 13,
    "start_time": "2022-07-04T16:23:38.845Z"
   },
   {
    "duration": 10,
    "start_time": "2022-07-04T16:23:38.860Z"
   },
   {
    "duration": 13,
    "start_time": "2022-07-04T16:23:38.872Z"
   },
   {
    "duration": 7,
    "start_time": "2022-07-04T16:23:38.887Z"
   },
   {
    "duration": 32,
    "start_time": "2022-07-04T16:23:38.896Z"
   },
   {
    "duration": 7,
    "start_time": "2022-07-04T16:23:38.930Z"
   },
   {
    "duration": 6,
    "start_time": "2022-07-04T16:23:38.939Z"
   },
   {
    "duration": 77,
    "start_time": "2022-07-04T16:23:38.947Z"
   },
   {
    "duration": 3,
    "start_time": "2022-07-04T16:23:39.026Z"
   },
   {
    "duration": 6,
    "start_time": "2022-07-04T16:23:39.031Z"
   },
   {
    "duration": 1391,
    "start_time": "2022-07-04T16:23:39.039Z"
   },
   {
    "duration": 8,
    "start_time": "2022-07-04T16:23:40.432Z"
   },
   {
    "duration": 183,
    "start_time": "2022-07-04T16:23:40.442Z"
   },
   {
    "duration": 275,
    "start_time": "2022-07-04T16:23:40.628Z"
   },
   {
    "duration": 167,
    "start_time": "2022-07-04T16:23:40.905Z"
   },
   {
    "duration": 37,
    "start_time": "2022-07-04T16:23:41.074Z"
   },
   {
    "duration": 7,
    "start_time": "2022-07-04T16:25:31.758Z"
   },
   {
    "duration": 14,
    "start_time": "2022-07-04T16:26:09.352Z"
   },
   {
    "duration": 17,
    "start_time": "2022-07-04T16:26:21.904Z"
   },
   {
    "duration": 17,
    "start_time": "2022-07-04T16:26:24.487Z"
   },
   {
    "duration": 16,
    "start_time": "2022-07-04T16:26:35.390Z"
   },
   {
    "duration": 100,
    "start_time": "2022-07-04T16:26:50.244Z"
   },
   {
    "duration": 23,
    "start_time": "2022-07-04T16:27:00.518Z"
   },
   {
    "duration": 9,
    "start_time": "2022-07-04T16:27:12.990Z"
   },
   {
    "duration": 10,
    "start_time": "2022-07-04T16:27:42.453Z"
   },
   {
    "duration": 13,
    "start_time": "2022-07-04T16:27:48.539Z"
   },
   {
    "duration": 5,
    "start_time": "2022-07-04T16:27:54.306Z"
   },
   {
    "duration": 33,
    "start_time": "2022-07-04T16:28:33.921Z"
   },
   {
    "duration": 7,
    "start_time": "2022-07-04T16:29:12.581Z"
   },
   {
    "duration": 3,
    "start_time": "2022-07-04T16:42:38.534Z"
   },
   {
    "duration": 15,
    "start_time": "2022-07-04T16:42:49.148Z"
   },
   {
    "duration": 992,
    "start_time": "2022-07-04T16:43:01.176Z"
   },
   {
    "duration": 515,
    "start_time": "2022-07-04T16:43:02.169Z"
   },
   {
    "duration": 3,
    "start_time": "2022-07-04T16:43:02.686Z"
   },
   {
    "duration": 74,
    "start_time": "2022-07-04T16:43:03.349Z"
   },
   {
    "duration": 85,
    "start_time": "2022-07-04T16:43:03.902Z"
   },
   {
    "duration": 3,
    "start_time": "2022-07-04T16:43:06.742Z"
   },
   {
    "duration": 60,
    "start_time": "2022-07-04T16:43:08.334Z"
   },
   {
    "duration": 15,
    "start_time": "2022-07-04T16:43:12.481Z"
   },
   {
    "duration": 175,
    "start_time": "2022-07-04T16:43:18.694Z"
   },
   {
    "duration": 1056,
    "start_time": "2022-07-04T16:43:23.010Z"
   },
   {
    "duration": 515,
    "start_time": "2022-07-04T16:43:24.068Z"
   },
   {
    "duration": 2,
    "start_time": "2022-07-04T16:43:24.585Z"
   },
   {
    "duration": 111,
    "start_time": "2022-07-04T16:43:24.590Z"
   },
   {
    "duration": 85,
    "start_time": "2022-07-04T16:43:24.703Z"
   },
   {
    "duration": 3,
    "start_time": "2022-07-04T16:43:24.789Z"
   },
   {
    "duration": 76,
    "start_time": "2022-07-04T16:43:24.793Z"
   },
   {
    "duration": 182,
    "start_time": "2022-07-04T16:43:24.871Z"
   },
   {
    "duration": 5,
    "start_time": "2022-07-04T16:43:25.055Z"
   },
   {
    "duration": 89,
    "start_time": "2022-07-04T16:43:25.064Z"
   },
   {
    "duration": 12,
    "start_time": "2022-07-04T16:43:25.155Z"
   },
   {
    "duration": 53,
    "start_time": "2022-07-04T16:43:25.169Z"
   },
   {
    "duration": 7,
    "start_time": "2022-07-04T16:43:25.224Z"
   },
   {
    "duration": 58,
    "start_time": "2022-07-04T16:43:25.233Z"
   },
   {
    "duration": 31,
    "start_time": "2022-07-04T16:43:25.294Z"
   },
   {
    "duration": 7,
    "start_time": "2022-07-04T16:43:25.327Z"
   },
   {
    "duration": 68,
    "start_time": "2022-07-04T16:43:25.336Z"
   },
   {
    "duration": 28,
    "start_time": "2022-07-04T16:43:25.406Z"
   },
   {
    "duration": 8,
    "start_time": "2022-07-04T16:43:25.436Z"
   },
   {
    "duration": 20,
    "start_time": "2022-07-04T16:43:25.446Z"
   },
   {
    "duration": 15,
    "start_time": "2022-07-04T16:43:25.468Z"
   },
   {
    "duration": 40,
    "start_time": "2022-07-04T16:43:25.485Z"
   },
   {
    "duration": 11,
    "start_time": "2022-07-04T16:43:25.526Z"
   },
   {
    "duration": 17,
    "start_time": "2022-07-04T16:43:25.539Z"
   },
   {
    "duration": 13,
    "start_time": "2022-07-04T16:43:25.558Z"
   },
   {
    "duration": 15,
    "start_time": "2022-07-04T16:43:25.573Z"
   },
   {
    "duration": 137,
    "start_time": "2022-07-04T16:43:25.590Z"
   },
   {
    "duration": 4,
    "start_time": "2022-07-04T16:43:25.732Z"
   },
   {
    "duration": 131,
    "start_time": "2022-07-04T16:43:25.738Z"
   },
   {
    "duration": 30,
    "start_time": "2022-07-04T16:43:25.871Z"
   },
   {
    "duration": 4,
    "start_time": "2022-07-04T16:43:25.902Z"
   },
   {
    "duration": 29,
    "start_time": "2022-07-04T16:43:25.908Z"
   },
   {
    "duration": 21,
    "start_time": "2022-07-04T16:43:25.939Z"
   },
   {
    "duration": 12,
    "start_time": "2022-07-04T16:43:25.962Z"
   },
   {
    "duration": 169,
    "start_time": "2022-07-04T16:43:25.976Z"
   },
   {
    "duration": 134,
    "start_time": "2022-07-04T16:43:26.147Z"
   },
   {
    "duration": 152,
    "start_time": "2022-07-04T16:43:26.283Z"
   },
   {
    "duration": 44,
    "start_time": "2022-07-04T16:43:26.437Z"
   },
   {
    "duration": 11,
    "start_time": "2022-07-04T16:43:26.482Z"
   },
   {
    "duration": 193,
    "start_time": "2022-07-04T16:43:26.494Z"
   },
   {
    "duration": 170,
    "start_time": "2022-07-04T16:43:26.689Z"
   },
   {
    "duration": 11,
    "start_time": "2022-07-04T16:43:26.860Z"
   },
   {
    "duration": 246,
    "start_time": "2022-07-04T16:43:26.873Z"
   },
   {
    "duration": 169,
    "start_time": "2022-07-04T16:43:27.124Z"
   },
   {
    "duration": 13,
    "start_time": "2022-07-04T16:43:27.295Z"
   },
   {
    "duration": 214,
    "start_time": "2022-07-04T16:43:27.310Z"
   },
   {
    "duration": 154,
    "start_time": "2022-07-04T16:43:27.526Z"
   },
   {
    "duration": 4,
    "start_time": "2022-07-04T16:43:27.682Z"
   },
   {
    "duration": 40,
    "start_time": "2022-07-04T16:43:27.688Z"
   },
   {
    "duration": 7,
    "start_time": "2022-07-04T16:43:27.730Z"
   },
   {
    "duration": 28,
    "start_time": "2022-07-04T16:43:27.739Z"
   },
   {
    "duration": 17,
    "start_time": "2022-07-04T16:43:27.769Z"
   },
   {
    "duration": 30,
    "start_time": "2022-07-04T16:43:27.788Z"
   },
   {
    "duration": 16,
    "start_time": "2022-07-04T16:43:27.819Z"
   },
   {
    "duration": 24,
    "start_time": "2022-07-04T16:43:27.836Z"
   },
   {
    "duration": 16,
    "start_time": "2022-07-04T16:43:27.862Z"
   },
   {
    "duration": 32,
    "start_time": "2022-07-04T16:43:27.880Z"
   },
   {
    "duration": 29,
    "start_time": "2022-07-04T16:43:27.914Z"
   },
   {
    "duration": 24,
    "start_time": "2022-07-04T16:43:27.945Z"
   },
   {
    "duration": 14,
    "start_time": "2022-07-04T16:43:27.971Z"
   },
   {
    "duration": 28,
    "start_time": "2022-07-04T16:43:27.987Z"
   },
   {
    "duration": 20,
    "start_time": "2022-07-04T16:43:28.017Z"
   },
   {
    "duration": 23,
    "start_time": "2022-07-04T16:43:28.038Z"
   },
   {
    "duration": 84,
    "start_time": "2022-07-04T16:43:28.063Z"
   },
   {
    "duration": 3,
    "start_time": "2022-07-04T16:43:28.149Z"
   },
   {
    "duration": 28,
    "start_time": "2022-07-04T16:43:28.154Z"
   },
   {
    "duration": 1415,
    "start_time": "2022-07-04T16:43:28.184Z"
   },
   {
    "duration": 8,
    "start_time": "2022-07-04T16:43:29.601Z"
   },
   {
    "duration": 200,
    "start_time": "2022-07-04T16:43:29.610Z"
   },
   {
    "duration": 265,
    "start_time": "2022-07-04T16:43:29.812Z"
   },
   {
    "duration": 171,
    "start_time": "2022-07-04T16:43:30.078Z"
   },
   {
    "duration": 37,
    "start_time": "2022-07-04T16:43:30.251Z"
   },
   {
    "duration": 1067,
    "start_time": "2022-07-04T16:52:46.991Z"
   },
   {
    "duration": 493,
    "start_time": "2022-07-04T16:52:48.060Z"
   },
   {
    "duration": 3,
    "start_time": "2022-07-04T16:52:48.554Z"
   },
   {
    "duration": 76,
    "start_time": "2022-07-04T16:52:48.559Z"
   },
   {
    "duration": 91,
    "start_time": "2022-07-04T16:52:48.637Z"
   },
   {
    "duration": 3,
    "start_time": "2022-07-04T16:52:48.729Z"
   },
   {
    "duration": 62,
    "start_time": "2022-07-04T16:52:48.733Z"
   },
   {
    "duration": 191,
    "start_time": "2022-07-04T16:52:48.796Z"
   },
   {
    "duration": 5,
    "start_time": "2022-07-04T16:52:48.988Z"
   },
   {
    "duration": 75,
    "start_time": "2022-07-04T16:52:48.995Z"
   },
   {
    "duration": 8,
    "start_time": "2022-07-04T16:52:49.072Z"
   },
   {
    "duration": 51,
    "start_time": "2022-07-04T16:52:49.082Z"
   },
   {
    "duration": 8,
    "start_time": "2022-07-04T16:52:49.134Z"
   },
   {
    "duration": 48,
    "start_time": "2022-07-04T16:52:49.143Z"
   },
   {
    "duration": 39,
    "start_time": "2022-07-04T16:52:49.193Z"
   },
   {
    "duration": 7,
    "start_time": "2022-07-04T16:52:49.233Z"
   },
   {
    "duration": 59,
    "start_time": "2022-07-04T16:52:49.242Z"
   },
   {
    "duration": 40,
    "start_time": "2022-07-04T16:52:49.303Z"
   },
   {
    "duration": 7,
    "start_time": "2022-07-04T16:52:49.345Z"
   },
   {
    "duration": 21,
    "start_time": "2022-07-04T16:52:49.353Z"
   },
   {
    "duration": 15,
    "start_time": "2022-07-04T16:52:49.376Z"
   },
   {
    "duration": 35,
    "start_time": "2022-07-04T16:52:49.392Z"
   },
   {
    "duration": 8,
    "start_time": "2022-07-04T16:52:49.429Z"
   },
   {
    "duration": 8,
    "start_time": "2022-07-04T16:52:49.438Z"
   },
   {
    "duration": 5,
    "start_time": "2022-07-04T16:52:49.447Z"
   },
   {
    "duration": 14,
    "start_time": "2022-07-04T16:52:49.453Z"
   },
   {
    "duration": 133,
    "start_time": "2022-07-04T16:52:49.468Z"
   },
   {
    "duration": 4,
    "start_time": "2022-07-04T16:52:49.605Z"
   },
   {
    "duration": 126,
    "start_time": "2022-07-04T16:52:49.611Z"
   },
   {
    "duration": 30,
    "start_time": "2022-07-04T16:52:49.739Z"
   },
   {
    "duration": 5,
    "start_time": "2022-07-04T16:52:49.770Z"
   },
   {
    "duration": 19,
    "start_time": "2022-07-04T16:52:49.776Z"
   },
   {
    "duration": 32,
    "start_time": "2022-07-04T16:52:49.797Z"
   },
   {
    "duration": 6,
    "start_time": "2022-07-04T16:52:49.831Z"
   },
   {
    "duration": 165,
    "start_time": "2022-07-04T16:52:49.838Z"
   },
   {
    "duration": 142,
    "start_time": "2022-07-04T16:52:50.005Z"
   },
   {
    "duration": 154,
    "start_time": "2022-07-04T16:52:50.150Z"
   },
   {
    "duration": 58,
    "start_time": "2022-07-04T16:52:50.306Z"
   },
   {
    "duration": 12,
    "start_time": "2022-07-04T16:52:50.367Z"
   },
   {
    "duration": 168,
    "start_time": "2022-07-04T16:52:50.381Z"
   },
   {
    "duration": 157,
    "start_time": "2022-07-04T16:52:50.551Z"
   },
   {
    "duration": 17,
    "start_time": "2022-07-04T16:52:50.710Z"
   },
   {
    "duration": 227,
    "start_time": "2022-07-04T16:52:50.729Z"
   },
   {
    "duration": 142,
    "start_time": "2022-07-04T16:52:50.958Z"
   },
   {
    "duration": 24,
    "start_time": "2022-07-04T16:52:51.101Z"
   },
   {
    "duration": 152,
    "start_time": "2022-07-04T16:52:51.126Z"
   },
   {
    "duration": 151,
    "start_time": "2022-07-04T16:52:51.280Z"
   },
   {
    "duration": 4,
    "start_time": "2022-07-04T16:52:51.432Z"
   },
   {
    "duration": 35,
    "start_time": "2022-07-04T16:52:51.437Z"
   },
   {
    "duration": 9,
    "start_time": "2022-07-04T16:52:51.474Z"
   },
   {
    "duration": 11,
    "start_time": "2022-07-04T16:52:51.485Z"
   },
   {
    "duration": 12,
    "start_time": "2022-07-04T16:52:51.498Z"
   },
   {
    "duration": 12,
    "start_time": "2022-07-04T16:52:51.512Z"
   },
   {
    "duration": 7,
    "start_time": "2022-07-04T16:52:51.525Z"
   },
   {
    "duration": 10,
    "start_time": "2022-07-04T16:52:51.534Z"
   },
   {
    "duration": 7,
    "start_time": "2022-07-04T16:52:51.547Z"
   },
   {
    "duration": 12,
    "start_time": "2022-07-04T16:52:51.556Z"
   },
   {
    "duration": 10,
    "start_time": "2022-07-04T16:52:51.571Z"
   },
   {
    "duration": 4,
    "start_time": "2022-07-04T16:52:51.584Z"
   },
   {
    "duration": 6,
    "start_time": "2022-07-04T16:52:51.589Z"
   },
   {
    "duration": 15,
    "start_time": "2022-07-04T16:52:51.624Z"
   },
   {
    "duration": 7,
    "start_time": "2022-07-04T16:52:51.642Z"
   },
   {
    "duration": 10,
    "start_time": "2022-07-04T16:52:51.651Z"
   },
   {
    "duration": 74,
    "start_time": "2022-07-04T16:52:51.662Z"
   },
   {
    "duration": 4,
    "start_time": "2022-07-04T16:52:51.738Z"
   },
   {
    "duration": 10,
    "start_time": "2022-07-04T16:52:51.744Z"
   },
   {
    "duration": 1449,
    "start_time": "2022-07-04T16:52:51.756Z"
   },
   {
    "duration": 17,
    "start_time": "2022-07-04T16:52:53.207Z"
   },
   {
    "duration": 167,
    "start_time": "2022-07-04T16:52:53.226Z"
   },
   {
    "duration": 262,
    "start_time": "2022-07-04T16:52:53.395Z"
   },
   {
    "duration": 170,
    "start_time": "2022-07-04T16:52:53.659Z"
   },
   {
    "duration": 37,
    "start_time": "2022-07-04T16:52:53.831Z"
   },
   {
    "duration": 5,
    "start_time": "2022-07-04T16:55:24.901Z"
   },
   {
    "duration": 1080,
    "start_time": "2022-07-04T16:55:31.989Z"
   },
   {
    "duration": 506,
    "start_time": "2022-07-04T16:55:33.071Z"
   },
   {
    "duration": 3,
    "start_time": "2022-07-04T16:55:33.578Z"
   },
   {
    "duration": 95,
    "start_time": "2022-07-04T16:55:33.583Z"
   },
   {
    "duration": 94,
    "start_time": "2022-07-04T16:55:33.680Z"
   },
   {
    "duration": 2,
    "start_time": "2022-07-04T16:55:33.776Z"
   },
   {
    "duration": 72,
    "start_time": "2022-07-04T16:55:33.780Z"
   },
   {
    "duration": 193,
    "start_time": "2022-07-04T16:55:33.854Z"
   },
   {
    "duration": 4,
    "start_time": "2022-07-04T16:55:34.049Z"
   },
   {
    "duration": 77,
    "start_time": "2022-07-04T16:55:34.056Z"
   },
   {
    "duration": 8,
    "start_time": "2022-07-04T16:55:34.135Z"
   },
   {
    "duration": 38,
    "start_time": "2022-07-04T16:55:34.145Z"
   },
   {
    "duration": 7,
    "start_time": "2022-07-04T16:55:34.185Z"
   },
   {
    "duration": 64,
    "start_time": "2022-07-04T16:55:34.194Z"
   },
   {
    "duration": 24,
    "start_time": "2022-07-04T16:55:34.260Z"
   },
   {
    "duration": 7,
    "start_time": "2022-07-04T16:55:34.286Z"
   },
   {
    "duration": 72,
    "start_time": "2022-07-04T16:55:34.295Z"
   },
   {
    "duration": 28,
    "start_time": "2022-07-04T16:55:34.369Z"
   },
   {
    "duration": 8,
    "start_time": "2022-07-04T16:55:34.399Z"
   },
   {
    "duration": 15,
    "start_time": "2022-07-04T16:55:34.424Z"
   },
   {
    "duration": 16,
    "start_time": "2022-07-04T16:55:34.440Z"
   },
   {
    "duration": 19,
    "start_time": "2022-07-04T16:55:34.458Z"
   },
   {
    "duration": 8,
    "start_time": "2022-07-04T16:55:34.479Z"
   },
   {
    "duration": 45,
    "start_time": "2022-07-04T16:55:34.489Z"
   },
   {
    "duration": 6,
    "start_time": "2022-07-04T16:55:34.536Z"
   },
   {
    "duration": 17,
    "start_time": "2022-07-04T16:55:34.544Z"
   },
   {
    "duration": 145,
    "start_time": "2022-07-04T16:55:34.564Z"
   },
   {
    "duration": 10,
    "start_time": "2022-07-04T16:55:34.713Z"
   },
   {
    "duration": 125,
    "start_time": "2022-07-04T16:55:34.725Z"
   },
   {
    "duration": 31,
    "start_time": "2022-07-04T16:55:34.851Z"
   },
   {
    "duration": 4,
    "start_time": "2022-07-04T16:55:34.884Z"
   },
   {
    "duration": 40,
    "start_time": "2022-07-04T16:55:34.890Z"
   },
   {
    "duration": 17,
    "start_time": "2022-07-04T16:55:34.932Z"
   },
   {
    "duration": 6,
    "start_time": "2022-07-04T16:55:34.950Z"
   },
   {
    "duration": 187,
    "start_time": "2022-07-04T16:55:34.957Z"
   },
   {
    "duration": 150,
    "start_time": "2022-07-04T16:55:35.146Z"
   },
   {
    "duration": 173,
    "start_time": "2022-07-04T16:55:35.298Z"
   },
   {
    "duration": 61,
    "start_time": "2022-07-04T16:55:35.473Z"
   },
   {
    "duration": 11,
    "start_time": "2022-07-04T16:55:35.535Z"
   },
   {
    "duration": 184,
    "start_time": "2022-07-04T16:55:35.549Z"
   },
   {
    "duration": 168,
    "start_time": "2022-07-04T16:55:35.735Z"
   },
   {
    "duration": 10,
    "start_time": "2022-07-04T16:55:35.904Z"
   },
   {
    "duration": 236,
    "start_time": "2022-07-04T16:55:35.916Z"
   },
   {
    "duration": 145,
    "start_time": "2022-07-04T16:55:36.154Z"
   },
   {
    "duration": 24,
    "start_time": "2022-07-04T16:55:36.301Z"
   },
   {
    "duration": 168,
    "start_time": "2022-07-04T16:55:36.327Z"
   },
   {
    "duration": 160,
    "start_time": "2022-07-04T16:55:36.497Z"
   },
   {
    "duration": 4,
    "start_time": "2022-07-04T16:55:36.659Z"
   },
   {
    "duration": 27,
    "start_time": "2022-07-04T16:55:36.664Z"
   },
   {
    "duration": 9,
    "start_time": "2022-07-04T16:55:36.693Z"
   },
   {
    "duration": 23,
    "start_time": "2022-07-04T16:55:36.703Z"
   },
   {
    "duration": 7,
    "start_time": "2022-07-04T16:55:36.728Z"
   },
   {
    "duration": 7,
    "start_time": "2022-07-04T16:55:36.737Z"
   },
   {
    "duration": 6,
    "start_time": "2022-07-04T16:55:36.745Z"
   },
   {
    "duration": 6,
    "start_time": "2022-07-04T16:55:36.753Z"
   },
   {
    "duration": 8,
    "start_time": "2022-07-04T16:55:36.761Z"
   },
   {
    "duration": 7,
    "start_time": "2022-07-04T16:55:36.771Z"
   },
   {
    "duration": 9,
    "start_time": "2022-07-04T16:55:36.780Z"
   },
   {
    "duration": 33,
    "start_time": "2022-07-04T16:55:36.791Z"
   },
   {
    "duration": 4,
    "start_time": "2022-07-04T16:55:36.826Z"
   },
   {
    "duration": 19,
    "start_time": "2022-07-04T16:55:36.831Z"
   },
   {
    "duration": 6,
    "start_time": "2022-07-04T16:55:36.852Z"
   },
   {
    "duration": 10,
    "start_time": "2022-07-04T16:55:36.859Z"
   },
   {
    "duration": 78,
    "start_time": "2022-07-04T16:55:36.871Z"
   },
   {
    "duration": 4,
    "start_time": "2022-07-04T16:55:36.950Z"
   },
   {
    "duration": 8,
    "start_time": "2022-07-04T16:55:36.956Z"
   },
   {
    "duration": 1589,
    "start_time": "2022-07-04T16:55:36.965Z"
   },
   {
    "duration": 10,
    "start_time": "2022-07-04T16:55:38.555Z"
   },
   {
    "duration": 194,
    "start_time": "2022-07-04T16:55:38.566Z"
   },
   {
    "duration": 312,
    "start_time": "2022-07-04T16:55:38.762Z"
   },
   {
    "duration": 192,
    "start_time": "2022-07-04T16:55:39.076Z"
   },
   {
    "duration": 36,
    "start_time": "2022-07-04T16:55:39.270Z"
   },
   {
    "duration": 21,
    "start_time": "2022-07-04T16:57:47.313Z"
   },
   {
    "duration": 1104,
    "start_time": "2022-07-04T17:00:27.795Z"
   },
   {
    "duration": 512,
    "start_time": "2022-07-04T17:00:28.901Z"
   },
   {
    "duration": 2,
    "start_time": "2022-07-04T17:00:29.415Z"
   },
   {
    "duration": 91,
    "start_time": "2022-07-04T17:00:29.419Z"
   },
   {
    "duration": 86,
    "start_time": "2022-07-04T17:00:29.512Z"
   },
   {
    "duration": 3,
    "start_time": "2022-07-04T17:00:29.600Z"
   },
   {
    "duration": 80,
    "start_time": "2022-07-04T17:00:29.604Z"
   },
   {
    "duration": 188,
    "start_time": "2022-07-04T17:00:29.685Z"
   },
   {
    "duration": 4,
    "start_time": "2022-07-04T17:00:29.875Z"
   },
   {
    "duration": 71,
    "start_time": "2022-07-04T17:00:29.882Z"
   },
   {
    "duration": 9,
    "start_time": "2022-07-04T17:00:29.955Z"
   },
   {
    "duration": 44,
    "start_time": "2022-07-04T17:00:29.965Z"
   },
   {
    "duration": 14,
    "start_time": "2022-07-04T17:00:30.011Z"
   },
   {
    "duration": 52,
    "start_time": "2022-07-04T17:00:30.027Z"
   },
   {
    "duration": 24,
    "start_time": "2022-07-04T17:00:30.081Z"
   },
   {
    "duration": 21,
    "start_time": "2022-07-04T17:00:30.107Z"
   },
   {
    "duration": 62,
    "start_time": "2022-07-04T17:00:30.130Z"
   },
   {
    "duration": 42,
    "start_time": "2022-07-04T17:00:30.194Z"
   },
   {
    "duration": 8,
    "start_time": "2022-07-04T17:00:30.238Z"
   },
   {
    "duration": 20,
    "start_time": "2022-07-04T17:00:30.247Z"
   },
   {
    "duration": 15,
    "start_time": "2022-07-04T17:00:30.268Z"
   },
   {
    "duration": 45,
    "start_time": "2022-07-04T17:00:30.285Z"
   },
   {
    "duration": 9,
    "start_time": "2022-07-04T17:00:30.332Z"
   },
   {
    "duration": 18,
    "start_time": "2022-07-04T17:00:30.343Z"
   },
   {
    "duration": 12,
    "start_time": "2022-07-04T17:00:30.362Z"
   },
   {
    "duration": 24,
    "start_time": "2022-07-04T17:00:30.376Z"
   },
   {
    "duration": 115,
    "start_time": "2022-07-04T17:00:30.402Z"
   },
   {
    "duration": 4,
    "start_time": "2022-07-04T17:00:30.525Z"
   },
   {
    "duration": 144,
    "start_time": "2022-07-04T17:00:30.532Z"
   },
   {
    "duration": 29,
    "start_time": "2022-07-04T17:00:30.678Z"
   },
   {
    "duration": 17,
    "start_time": "2022-07-04T17:00:30.709Z"
   },
   {
    "duration": 28,
    "start_time": "2022-07-04T17:00:30.728Z"
   },
   {
    "duration": 23,
    "start_time": "2022-07-04T17:00:30.759Z"
   },
   {
    "duration": 12,
    "start_time": "2022-07-04T17:00:30.783Z"
   },
   {
    "duration": 175,
    "start_time": "2022-07-04T17:00:30.804Z"
   },
   {
    "duration": 130,
    "start_time": "2022-07-04T17:00:30.981Z"
   },
   {
    "duration": 151,
    "start_time": "2022-07-04T17:00:31.113Z"
   },
   {
    "duration": 44,
    "start_time": "2022-07-04T17:00:31.266Z"
   },
   {
    "duration": 10,
    "start_time": "2022-07-04T17:00:31.323Z"
   },
   {
    "duration": 176,
    "start_time": "2022-07-04T17:00:31.335Z"
   },
   {
    "duration": 163,
    "start_time": "2022-07-04T17:00:31.513Z"
   },
   {
    "duration": 10,
    "start_time": "2022-07-04T17:00:31.678Z"
   },
   {
    "duration": 249,
    "start_time": "2022-07-04T17:00:31.690Z"
   },
   {
    "duration": 151,
    "start_time": "2022-07-04T17:00:31.941Z"
   },
   {
    "duration": 11,
    "start_time": "2022-07-04T17:00:32.094Z"
   },
   {
    "duration": 164,
    "start_time": "2022-07-04T17:00:32.106Z"
   },
   {
    "duration": 156,
    "start_time": "2022-07-04T17:00:32.272Z"
   },
   {
    "duration": 5,
    "start_time": "2022-07-04T17:00:32.429Z"
   },
   {
    "duration": 27,
    "start_time": "2022-07-04T17:00:32.436Z"
   },
   {
    "duration": 9,
    "start_time": "2022-07-04T17:00:32.465Z"
   },
   {
    "duration": 10,
    "start_time": "2022-07-04T17:00:32.476Z"
   },
   {
    "duration": 8,
    "start_time": "2022-07-04T17:00:32.487Z"
   },
   {
    "duration": 7,
    "start_time": "2022-07-04T17:00:32.497Z"
   },
   {
    "duration": 20,
    "start_time": "2022-07-04T17:00:32.505Z"
   },
   {
    "duration": 8,
    "start_time": "2022-07-04T17:00:32.526Z"
   },
   {
    "duration": 10,
    "start_time": "2022-07-04T17:00:32.535Z"
   },
   {
    "duration": 8,
    "start_time": "2022-07-04T17:00:32.547Z"
   },
   {
    "duration": 10,
    "start_time": "2022-07-04T17:00:32.557Z"
   },
   {
    "duration": 4,
    "start_time": "2022-07-04T17:00:32.568Z"
   },
   {
    "duration": 8,
    "start_time": "2022-07-04T17:00:32.573Z"
   },
   {
    "duration": 12,
    "start_time": "2022-07-04T17:00:32.582Z"
   },
   {
    "duration": 30,
    "start_time": "2022-07-04T17:00:32.596Z"
   },
   {
    "duration": 8,
    "start_time": "2022-07-04T17:00:32.628Z"
   },
   {
    "duration": 65,
    "start_time": "2022-07-04T17:00:32.637Z"
   },
   {
    "duration": 3,
    "start_time": "2022-07-04T17:00:32.704Z"
   },
   {
    "duration": 15,
    "start_time": "2022-07-04T17:00:32.709Z"
   },
   {
    "duration": 1379,
    "start_time": "2022-07-04T17:00:32.726Z"
   },
   {
    "duration": 17,
    "start_time": "2022-07-04T17:00:34.107Z"
   },
   {
    "duration": 180,
    "start_time": "2022-07-04T17:00:34.126Z"
   },
   {
    "duration": 326,
    "start_time": "2022-07-04T17:00:34.307Z"
   },
   {
    "duration": 196,
    "start_time": "2022-07-04T17:00:34.635Z"
   },
   {
    "duration": 35,
    "start_time": "2022-07-04T17:00:34.833Z"
   },
   {
    "duration": 81,
    "start_time": "2022-07-04T17:07:28.709Z"
   },
   {
    "duration": 151,
    "start_time": "2022-07-04T17:12:25.743Z"
   },
   {
    "duration": 145,
    "start_time": "2022-07-04T17:12:35.200Z"
   },
   {
    "duration": 147,
    "start_time": "2022-07-04T17:13:05.343Z"
   },
   {
    "duration": 1080,
    "start_time": "2022-07-04T17:13:41.496Z"
   },
   {
    "duration": 481,
    "start_time": "2022-07-04T17:13:42.578Z"
   },
   {
    "duration": 2,
    "start_time": "2022-07-04T17:13:43.061Z"
   },
   {
    "duration": 84,
    "start_time": "2022-07-04T17:13:43.065Z"
   },
   {
    "duration": 91,
    "start_time": "2022-07-04T17:13:43.150Z"
   },
   {
    "duration": 3,
    "start_time": "2022-07-04T17:13:43.243Z"
   },
   {
    "duration": 61,
    "start_time": "2022-07-04T17:13:43.248Z"
   },
   {
    "duration": 189,
    "start_time": "2022-07-04T17:13:43.311Z"
   },
   {
    "duration": 4,
    "start_time": "2022-07-04T17:13:43.502Z"
   },
   {
    "duration": 73,
    "start_time": "2022-07-04T17:13:43.509Z"
   },
   {
    "duration": 8,
    "start_time": "2022-07-04T17:13:43.584Z"
   },
   {
    "duration": 55,
    "start_time": "2022-07-04T17:13:43.594Z"
   },
   {
    "duration": 6,
    "start_time": "2022-07-04T17:13:43.651Z"
   },
   {
    "duration": 46,
    "start_time": "2022-07-04T17:13:43.659Z"
   },
   {
    "duration": 39,
    "start_time": "2022-07-04T17:13:43.706Z"
   },
   {
    "duration": 9,
    "start_time": "2022-07-04T17:13:43.747Z"
   },
   {
    "duration": 82,
    "start_time": "2022-07-04T17:13:43.758Z"
   },
   {
    "duration": 28,
    "start_time": "2022-07-04T17:13:43.841Z"
   },
   {
    "duration": 7,
    "start_time": "2022-07-04T17:13:43.871Z"
   },
   {
    "duration": 17,
    "start_time": "2022-07-04T17:13:43.880Z"
   },
   {
    "duration": 36,
    "start_time": "2022-07-04T17:13:43.898Z"
   },
   {
    "duration": 20,
    "start_time": "2022-07-04T17:13:43.935Z"
   },
   {
    "duration": 8,
    "start_time": "2022-07-04T17:13:43.957Z"
   },
   {
    "duration": 9,
    "start_time": "2022-07-04T17:13:43.967Z"
   },
   {
    "duration": 6,
    "start_time": "2022-07-04T17:13:43.977Z"
   },
   {
    "duration": 49,
    "start_time": "2022-07-04T17:13:43.985Z"
   },
   {
    "duration": 114,
    "start_time": "2022-07-04T17:13:44.036Z"
   },
   {
    "duration": 3,
    "start_time": "2022-07-04T17:13:44.154Z"
   },
   {
    "duration": 117,
    "start_time": "2022-07-04T17:13:44.159Z"
   },
   {
    "duration": 41,
    "start_time": "2022-07-04T17:13:44.277Z"
   },
   {
    "duration": 4,
    "start_time": "2022-07-04T17:13:44.327Z"
   },
   {
    "duration": 21,
    "start_time": "2022-07-04T17:13:44.333Z"
   },
   {
    "duration": 24,
    "start_time": "2022-07-04T17:13:44.355Z"
   },
   {
    "duration": 7,
    "start_time": "2022-07-04T17:13:44.381Z"
   },
   {
    "duration": 183,
    "start_time": "2022-07-04T17:13:44.390Z"
   },
   {
    "duration": 150,
    "start_time": "2022-07-04T17:13:44.576Z"
   },
   {
    "duration": 147,
    "start_time": "2022-07-04T17:13:44.728Z"
   },
   {
    "duration": 48,
    "start_time": "2022-07-04T17:13:44.877Z"
   },
   {
    "duration": 9,
    "start_time": "2022-07-04T17:13:44.927Z"
   },
   {
    "duration": 171,
    "start_time": "2022-07-04T17:13:44.938Z"
   },
   {
    "duration": 159,
    "start_time": "2022-07-04T17:13:45.111Z"
   },
   {
    "duration": 9,
    "start_time": "2022-07-04T17:13:45.272Z"
   },
   {
    "duration": 254,
    "start_time": "2022-07-04T17:13:45.283Z"
   },
   {
    "duration": 202,
    "start_time": "2022-07-04T17:13:45.539Z"
   },
   {
    "duration": 10,
    "start_time": "2022-07-04T17:13:45.742Z"
   },
   {
    "duration": 159,
    "start_time": "2022-07-04T17:13:45.754Z"
   },
   {
    "duration": 147,
    "start_time": "2022-07-04T17:13:45.915Z"
   },
   {
    "duration": 4,
    "start_time": "2022-07-04T17:13:46.064Z"
   },
   {
    "duration": 23,
    "start_time": "2022-07-04T17:13:46.070Z"
   },
   {
    "duration": 11,
    "start_time": "2022-07-04T17:13:46.095Z"
   },
   {
    "duration": 20,
    "start_time": "2022-07-04T17:13:46.108Z"
   },
   {
    "duration": 7,
    "start_time": "2022-07-04T17:13:46.129Z"
   },
   {
    "duration": 5,
    "start_time": "2022-07-04T17:13:46.138Z"
   },
   {
    "duration": 7,
    "start_time": "2022-07-04T17:13:46.145Z"
   },
   {
    "duration": 8,
    "start_time": "2022-07-04T17:13:46.153Z"
   },
   {
    "duration": 7,
    "start_time": "2022-07-04T17:13:46.162Z"
   },
   {
    "duration": 8,
    "start_time": "2022-07-04T17:13:46.171Z"
   },
   {
    "duration": 9,
    "start_time": "2022-07-04T17:13:46.181Z"
   },
   {
    "duration": 3,
    "start_time": "2022-07-04T17:13:46.192Z"
   },
   {
    "duration": 28,
    "start_time": "2022-07-04T17:13:46.197Z"
   },
   {
    "duration": 13,
    "start_time": "2022-07-04T17:13:46.227Z"
   },
   {
    "duration": 7,
    "start_time": "2022-07-04T17:13:46.242Z"
   },
   {
    "duration": 8,
    "start_time": "2022-07-04T17:13:46.250Z"
   },
   {
    "duration": 88,
    "start_time": "2022-07-04T17:13:46.260Z"
   },
   {
    "duration": 3,
    "start_time": "2022-07-04T17:13:46.350Z"
   },
   {
    "duration": 8,
    "start_time": "2022-07-04T17:13:46.355Z"
   },
   {
    "duration": 1465,
    "start_time": "2022-07-04T17:13:46.365Z"
   },
   {
    "duration": 8,
    "start_time": "2022-07-04T17:13:47.831Z"
   },
   {
    "duration": 183,
    "start_time": "2022-07-04T17:13:47.840Z"
   },
   {
    "duration": 438,
    "start_time": "2022-07-04T17:13:48.025Z"
   },
   {
    "duration": 383,
    "start_time": "2022-07-04T17:13:48.466Z"
   },
   {
    "duration": 82,
    "start_time": "2022-07-04T17:13:48.850Z"
   },
   {
    "duration": 4,
    "start_time": "2022-07-04T17:19:33.776Z"
   },
   {
    "duration": 1070,
    "start_time": "2022-07-04T17:19:39.097Z"
   },
   {
    "duration": 487,
    "start_time": "2022-07-04T17:19:40.169Z"
   },
   {
    "duration": 3,
    "start_time": "2022-07-04T17:19:40.657Z"
   },
   {
    "duration": 71,
    "start_time": "2022-07-04T17:19:40.662Z"
   },
   {
    "duration": 98,
    "start_time": "2022-07-04T17:19:40.735Z"
   },
   {
    "duration": 2,
    "start_time": "2022-07-04T17:19:40.835Z"
   },
   {
    "duration": 62,
    "start_time": "2022-07-04T17:19:40.839Z"
   },
   {
    "duration": 194,
    "start_time": "2022-07-04T17:19:40.903Z"
   },
   {
    "duration": 6,
    "start_time": "2022-07-04T17:19:41.098Z"
   },
   {
    "duration": 82,
    "start_time": "2022-07-04T17:19:41.108Z"
   },
   {
    "duration": 8,
    "start_time": "2022-07-04T17:19:41.192Z"
   },
   {
    "duration": 53,
    "start_time": "2022-07-04T17:19:41.201Z"
   },
   {
    "duration": 7,
    "start_time": "2022-07-04T17:19:41.255Z"
   },
   {
    "duration": 50,
    "start_time": "2022-07-04T17:19:41.264Z"
   },
   {
    "duration": 24,
    "start_time": "2022-07-04T17:19:41.323Z"
   },
   {
    "duration": 7,
    "start_time": "2022-07-04T17:19:41.349Z"
   },
   {
    "duration": 82,
    "start_time": "2022-07-04T17:19:41.358Z"
   },
   {
    "duration": 27,
    "start_time": "2022-07-04T17:19:41.442Z"
   },
   {
    "duration": 7,
    "start_time": "2022-07-04T17:19:41.471Z"
   },
   {
    "duration": 17,
    "start_time": "2022-07-04T17:19:41.479Z"
   },
   {
    "duration": 34,
    "start_time": "2022-07-04T17:19:41.498Z"
   },
   {
    "duration": 18,
    "start_time": "2022-07-04T17:19:41.534Z"
   },
   {
    "duration": 9,
    "start_time": "2022-07-04T17:19:41.553Z"
   },
   {
    "duration": 11,
    "start_time": "2022-07-04T17:19:41.563Z"
   },
   {
    "duration": 5,
    "start_time": "2022-07-04T17:19:41.575Z"
   },
   {
    "duration": 12,
    "start_time": "2022-07-04T17:19:41.581Z"
   },
   {
    "duration": 110,
    "start_time": "2022-07-04T17:19:41.625Z"
   },
   {
    "duration": 4,
    "start_time": "2022-07-04T17:19:41.739Z"
   },
   {
    "duration": 130,
    "start_time": "2022-07-04T17:19:41.744Z"
   },
   {
    "duration": 28,
    "start_time": "2022-07-04T17:19:41.876Z"
   },
   {
    "duration": 4,
    "start_time": "2022-07-04T17:19:41.905Z"
   },
   {
    "duration": 15,
    "start_time": "2022-07-04T17:19:41.924Z"
   },
   {
    "duration": 19,
    "start_time": "2022-07-04T17:19:41.940Z"
   },
   {
    "duration": 6,
    "start_time": "2022-07-04T17:19:41.960Z"
   },
   {
    "duration": 177,
    "start_time": "2022-07-04T17:19:41.967Z"
   },
   {
    "duration": 141,
    "start_time": "2022-07-04T17:19:42.145Z"
   },
   {
    "duration": 152,
    "start_time": "2022-07-04T17:19:42.288Z"
   },
   {
    "duration": 44,
    "start_time": "2022-07-04T17:19:42.442Z"
   },
   {
    "duration": 10,
    "start_time": "2022-07-04T17:19:42.487Z"
   },
   {
    "duration": 167,
    "start_time": "2022-07-04T17:19:42.498Z"
   },
   {
    "duration": 152,
    "start_time": "2022-07-04T17:19:42.667Z"
   },
   {
    "duration": 11,
    "start_time": "2022-07-04T17:19:42.824Z"
   },
   {
    "duration": 226,
    "start_time": "2022-07-04T17:19:42.836Z"
   },
   {
    "duration": 144,
    "start_time": "2022-07-04T17:19:43.064Z"
   },
   {
    "duration": 16,
    "start_time": "2022-07-04T17:19:43.209Z"
   },
   {
    "duration": 166,
    "start_time": "2022-07-04T17:19:43.226Z"
   },
   {
    "duration": 151,
    "start_time": "2022-07-04T17:19:43.394Z"
   },
   {
    "duration": 4,
    "start_time": "2022-07-04T17:19:43.547Z"
   },
   {
    "duration": 22,
    "start_time": "2022-07-04T17:19:43.552Z"
   },
   {
    "duration": 7,
    "start_time": "2022-07-04T17:19:43.576Z"
   },
   {
    "duration": 10,
    "start_time": "2022-07-04T17:19:43.584Z"
   },
   {
    "duration": 7,
    "start_time": "2022-07-04T17:19:43.595Z"
   },
   {
    "duration": 20,
    "start_time": "2022-07-04T17:19:43.604Z"
   },
   {
    "duration": 7,
    "start_time": "2022-07-04T17:19:43.626Z"
   },
   {
    "duration": 8,
    "start_time": "2022-07-04T17:19:43.635Z"
   },
   {
    "duration": 6,
    "start_time": "2022-07-04T17:19:43.644Z"
   },
   {
    "duration": 9,
    "start_time": "2022-07-04T17:19:43.652Z"
   },
   {
    "duration": 9,
    "start_time": "2022-07-04T17:19:43.662Z"
   },
   {
    "duration": 4,
    "start_time": "2022-07-04T17:19:43.672Z"
   },
   {
    "duration": 7,
    "start_time": "2022-07-04T17:19:43.677Z"
   },
   {
    "duration": 43,
    "start_time": "2022-07-04T17:19:43.685Z"
   },
   {
    "duration": 5,
    "start_time": "2022-07-04T17:19:43.730Z"
   },
   {
    "duration": 7,
    "start_time": "2022-07-04T17:19:43.737Z"
   },
   {
    "duration": 59,
    "start_time": "2022-07-04T17:19:43.746Z"
   },
   {
    "duration": 4,
    "start_time": "2022-07-04T17:19:43.806Z"
   },
   {
    "duration": 5,
    "start_time": "2022-07-04T17:19:43.823Z"
   },
   {
    "duration": 1371,
    "start_time": "2022-07-04T17:19:43.830Z"
   },
   {
    "duration": 8,
    "start_time": "2022-07-04T17:19:45.203Z"
   },
   {
    "duration": 177,
    "start_time": "2022-07-04T17:19:45.212Z"
   },
   {
    "duration": 266,
    "start_time": "2022-07-04T17:19:45.391Z"
   },
   {
    "duration": 180,
    "start_time": "2022-07-04T17:19:45.659Z"
   },
   {
    "duration": 39,
    "start_time": "2022-07-04T17:19:45.841Z"
   },
   {
    "duration": 19,
    "start_time": "2022-07-04T17:20:30.591Z"
   },
   {
    "duration": 23,
    "start_time": "2022-07-04T17:21:25.181Z"
   },
   {
    "duration": 999,
    "start_time": "2022-07-04T17:26:15.843Z"
   },
   {
    "duration": 533,
    "start_time": "2022-07-04T17:26:16.844Z"
   },
   {
    "duration": 4,
    "start_time": "2022-07-04T17:26:17.379Z"
   },
   {
    "duration": 99,
    "start_time": "2022-07-04T17:26:17.385Z"
   },
   {
    "duration": 115,
    "start_time": "2022-07-04T17:26:17.486Z"
   },
   {
    "duration": 3,
    "start_time": "2022-07-04T17:26:17.603Z"
   },
   {
    "duration": 86,
    "start_time": "2022-07-04T17:26:17.608Z"
   },
   {
    "duration": 197,
    "start_time": "2022-07-04T17:26:17.696Z"
   },
   {
    "duration": 8,
    "start_time": "2022-07-04T17:26:17.895Z"
   },
   {
    "duration": 91,
    "start_time": "2022-07-04T17:26:17.905Z"
   },
   {
    "duration": 9,
    "start_time": "2022-07-04T17:26:17.998Z"
   },
   {
    "duration": 75,
    "start_time": "2022-07-04T17:26:18.009Z"
   },
   {
    "duration": 11,
    "start_time": "2022-07-04T17:26:18.086Z"
   },
   {
    "duration": 57,
    "start_time": "2022-07-04T17:26:18.099Z"
   },
   {
    "duration": 24,
    "start_time": "2022-07-04T17:26:18.157Z"
   },
   {
    "duration": 7,
    "start_time": "2022-07-04T17:26:18.183Z"
   },
   {
    "duration": 77,
    "start_time": "2022-07-04T17:26:18.192Z"
   },
   {
    "duration": 29,
    "start_time": "2022-07-04T17:26:18.271Z"
   },
   {
    "duration": 7,
    "start_time": "2022-07-04T17:26:18.302Z"
   },
   {
    "duration": 20,
    "start_time": "2022-07-04T17:26:18.328Z"
   },
   {
    "duration": 21,
    "start_time": "2022-07-04T17:26:18.349Z"
   },
   {
    "duration": 30,
    "start_time": "2022-07-04T17:26:18.372Z"
   },
   {
    "duration": 9,
    "start_time": "2022-07-04T17:26:18.424Z"
   },
   {
    "duration": 8,
    "start_time": "2022-07-04T17:26:18.435Z"
   },
   {
    "duration": 6,
    "start_time": "2022-07-04T17:26:18.445Z"
   },
   {
    "duration": 19,
    "start_time": "2022-07-04T17:26:18.454Z"
   },
   {
    "duration": 154,
    "start_time": "2022-07-04T17:26:18.476Z"
   },
   {
    "duration": 5,
    "start_time": "2022-07-04T17:26:18.636Z"
   },
   {
    "duration": 149,
    "start_time": "2022-07-04T17:26:18.643Z"
   },
   {
    "duration": 39,
    "start_time": "2022-07-04T17:26:18.794Z"
   },
   {
    "duration": 6,
    "start_time": "2022-07-04T17:26:18.835Z"
   },
   {
    "duration": 29,
    "start_time": "2022-07-04T17:26:18.843Z"
   },
   {
    "duration": 18,
    "start_time": "2022-07-04T17:26:18.874Z"
   },
   {
    "duration": 5,
    "start_time": "2022-07-04T17:26:18.893Z"
   },
   {
    "duration": 191,
    "start_time": "2022-07-04T17:26:18.900Z"
   },
   {
    "duration": 141,
    "start_time": "2022-07-04T17:26:19.093Z"
   },
   {
    "duration": 153,
    "start_time": "2022-07-04T17:26:19.236Z"
   },
   {
    "duration": 52,
    "start_time": "2022-07-04T17:26:19.391Z"
   },
   {
    "duration": 14,
    "start_time": "2022-07-04T17:26:19.445Z"
   },
   {
    "duration": 204,
    "start_time": "2022-07-04T17:26:19.462Z"
   },
   {
    "duration": 166,
    "start_time": "2022-07-04T17:26:19.668Z"
   },
   {
    "duration": 10,
    "start_time": "2022-07-04T17:26:19.836Z"
   },
   {
    "duration": 256,
    "start_time": "2022-07-04T17:26:19.848Z"
   },
   {
    "duration": 146,
    "start_time": "2022-07-04T17:26:20.106Z"
   },
   {
    "duration": 19,
    "start_time": "2022-07-04T17:26:20.254Z"
   },
   {
    "duration": 201,
    "start_time": "2022-07-04T17:26:20.275Z"
   },
   {
    "duration": 162,
    "start_time": "2022-07-04T17:26:20.478Z"
   },
   {
    "duration": 5,
    "start_time": "2022-07-04T17:26:20.641Z"
   },
   {
    "duration": 31,
    "start_time": "2022-07-04T17:26:20.647Z"
   },
   {
    "duration": 16,
    "start_time": "2022-07-04T17:26:20.680Z"
   },
   {
    "duration": 11,
    "start_time": "2022-07-04T17:26:20.698Z"
   },
   {
    "duration": 18,
    "start_time": "2022-07-04T17:26:20.712Z"
   },
   {
    "duration": 12,
    "start_time": "2022-07-04T17:26:20.732Z"
   },
   {
    "duration": 9,
    "start_time": "2022-07-04T17:26:20.745Z"
   },
   {
    "duration": 11,
    "start_time": "2022-07-04T17:26:20.756Z"
   },
   {
    "duration": 9,
    "start_time": "2022-07-04T17:26:20.769Z"
   },
   {
    "duration": 23,
    "start_time": "2022-07-04T17:26:20.780Z"
   },
   {
    "duration": 16,
    "start_time": "2022-07-04T17:26:20.805Z"
   },
   {
    "duration": 4,
    "start_time": "2022-07-04T17:26:20.823Z"
   },
   {
    "duration": 9,
    "start_time": "2022-07-04T17:26:20.829Z"
   },
   {
    "duration": 17,
    "start_time": "2022-07-04T17:26:20.840Z"
   },
   {
    "duration": 8,
    "start_time": "2022-07-04T17:26:20.859Z"
   },
   {
    "duration": 12,
    "start_time": "2022-07-04T17:26:20.868Z"
   },
   {
    "duration": 83,
    "start_time": "2022-07-04T17:26:20.882Z"
   },
   {
    "duration": 4,
    "start_time": "2022-07-04T17:26:20.966Z"
   },
   {
    "duration": 8,
    "start_time": "2022-07-04T17:26:20.971Z"
   },
   {
    "duration": 1423,
    "start_time": "2022-07-04T17:26:20.980Z"
   },
   {
    "duration": 20,
    "start_time": "2022-07-04T17:26:22.404Z"
   },
   {
    "duration": 170,
    "start_time": "2022-07-04T17:26:22.425Z"
   },
   {
    "duration": 279,
    "start_time": "2022-07-04T17:26:22.598Z"
   },
   {
    "duration": 172,
    "start_time": "2022-07-04T17:26:22.880Z"
   },
   {
    "duration": 41,
    "start_time": "2022-07-04T17:26:23.055Z"
   }
  ],
  "kernelspec": {
   "display_name": "Python 3 (ipykernel)",
   "language": "python",
   "name": "python3"
  },
  "language_info": {
   "codemirror_mode": {
    "name": "ipython",
    "version": 3
   },
   "file_extension": ".py",
   "mimetype": "text/x-python",
   "name": "python",
   "nbconvert_exporter": "python",
   "pygments_lexer": "ipython3",
   "version": "3.9.5"
  },
  "toc": {
   "base_numbering": 1,
   "nav_menu": {
    "height": "191.989px",
    "width": "199.645px"
   },
   "number_sections": true,
   "sideBar": true,
   "skip_h1_title": true,
   "title_cell": "Table of Contents",
   "title_sidebar": "Contents",
   "toc_cell": false,
   "toc_position": {
    "height": "calc(100% - 180px)",
    "left": "10px",
    "top": "150px",
    "width": "331.449px"
   },
   "toc_section_display": true,
   "toc_window_display": true
  }
 },
 "nbformat": 4,
 "nbformat_minor": 2
}
