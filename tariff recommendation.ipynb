{
 "cells": [
  {
   "cell_type": "markdown",
   "metadata": {},
   "source": [
    "<div class=\"alert alert-info\">\n",
    "<font size=\"5\"><b>Комментарий ревьюера</b></font>\n",
    "\n",
    "Привет Никита! Меня зовут Марат, и я буду твоим ревьюером. Спешу сообщить что все ключевые этапы в работе выполнены,  с задачей тебе удалось справиться. По поводу обращения - в IT сфере принято общаться на «ты» :) Но, если привычней на «вы», дай знать. Как ревьюера моя задача помочь тебе в развитии, дав хорошие советы. Я внимательно посмотрю твой код, ознакомлюсь с твоими выводами и оставлю комментарии. Где то могу предложить небольшие исправление в коде, но ненавязчиво. Где потребуются уточнения, я оставлю много наводящих вопросов. Они помогут тебя с поиском верного решения.\n",
    "\n",
    "Все мои комментарии размечены по цветам, для лучшего восприятия. \n",
    "    \n",
    "<div class=\"alert alert-success\">Зеленым цветом и словом «Успех» отмечены особо удачные и элегантные решения, которыми ты можешь гордиться. </div>\n",
    "        \n",
    "<div class=\"alert alert-warning\">Желтым и значком словом «Совет», помечены решения у которых есть альтернативные решения, более оптимальные. Ты можешь найти их сразу и доработать проект, или отложить это на потом, для будущих проектах. Проект будет принят и без их доработки. </div>\n",
    "        \n",
    "<div class=\"alert alert-danger\"> Красным цветом и значком словом «Ошибка» помечу твои решения, на которые стоит обратить внимание прежде всего. После их доработки проект будет принят. </div>\n",
    "        \n",
    "Залог успеха - работа сообща, взаимное уважение и работа в диалоге. Поэтому, помечай свои ответные комментарии на мои реплики заметным цветом или курсивом, так мне будет легче их отслеживать. Пожалуйста, не изменяй и не удаляй мои комментарии. Все это поможет выполнить повторную проверку быстрей.\n",
    "\n",
    "</div>"
   ]
  },
  {
   "cell_type": "markdown",
   "metadata": {},
   "source": [
    "# Рекомендация тарифов"
   ]
  },
  {
   "cell_type": "markdown",
   "metadata": {},
   "source": [
    "В вашем распоряжении данные о поведении клиентов, которые уже перешли на эти тарифы (из проекта курса «Статистический анализ данных»). Нужно построить модель для задачи классификации, которая выберет подходящий тариф. Предобработка данных не понадобится — вы её уже сделали.\n",
    "\n",
    "Постройте модель с максимально большим значением *accuracy*. Чтобы сдать проект успешно, нужно довести долю правильных ответов по крайней мере до 0.75. Проверьте *accuracy* на тестовой выборке самостоятельно."
   ]
  },
  {
   "cell_type": "markdown",
   "metadata": {},
   "source": [
    "<div class=\"alert alert-success\">\n",
    "<font size=\"5\"><b>Комментарий ревьюера</b></font>\n",
    "\n",
    "Успех:\n",
    "\n",
    "\n",
    "Вступление в работу очень важно, так человек, который смотрит твой проект (и на работе в том числе) будет сразу введен в курс дела.\n",
    "\n",
    "\n",
    "\n",
    "\n",
    "\n",
    "</div>"
   ]
  },
  {
   "cell_type": "markdown",
   "metadata": {},
   "source": [
    "## Откройте и изучите файл"
   ]
  },
  {
   "cell_type": "code",
   "execution_count": 1,
   "metadata": {},
   "outputs": [],
   "source": [
    "import pandas as pd\n",
    "from sklearn.model_selection import train_test_split as tsplit\n",
    "from sklearn.metrics import accuracy_score\n",
    "from sklearn.ensemble import  RandomForestClassifier\n",
    "from sklearn.linear_model import LogisticRegression\n",
    "from sklearn.tree import DecisionTreeClassifier\n",
    "from sklearn.dummy import DummyClassifier\n",
    "#from sklearn.utils import shuffle"
   ]
  },
  {
   "cell_type": "markdown",
   "metadata": {},
   "source": [
    "<div class=\"alert alert-success\">\n",
    "<font size=\"5\"><b>Комментарий ревьюера</b></font>\n",
    "\n",
    "Успех:\n",
    "\n",
    "Собираем все импорты в верхней части, чтобы легче было ориентироваться и добавлять новые по необходимости. \n",
    "\n",
    "\n",
    "<div class=\"alert alert-warning\">\n",
    "\n",
    "Совет:     \n",
    "    \n",
    "- у тебя тут есть лишние импорты, то что ты не использовал - стоит убрать, чтобы поберечь ресурсы      \n",
    "\n",
    "\n",
    "- кстати есть рекомендации PEP-8 при написании кода, в том числе и для импортов. Если интересно можешь почитать [тут](https://pythonworld.ru/osnovy/pep-8-rukovodstvo-po-napisaniyu-koda-na-python.html) \n"
   ]
  },
  {
   "cell_type": "code",
   "execution_count": 2,
   "metadata": {},
   "outputs": [],
   "source": [
    "data = pd.read_csv('/datasets/users_behavior.csv')"
   ]
  },
  {
   "cell_type": "code",
   "execution_count": 3,
   "metadata": {},
   "outputs": [
    {
     "name": "stdout",
     "output_type": "stream",
     "text": [
      "(3214, 5)\n",
      "-------------\n",
      "<class 'pandas.core.frame.DataFrame'>\n",
      "RangeIndex: 3214 entries, 0 to 3213\n",
      "Data columns (total 5 columns):\n",
      " #   Column    Non-Null Count  Dtype  \n",
      "---  ------    --------------  -----  \n",
      " 0   calls     3214 non-null   float64\n",
      " 1   minutes   3214 non-null   float64\n",
      " 2   messages  3214 non-null   float64\n",
      " 3   mb_used   3214 non-null   float64\n",
      " 4   is_ultra  3214 non-null   int64  \n",
      "dtypes: float64(4), int64(1)\n",
      "memory usage: 125.7 KB\n",
      "None\n",
      "-------------\n",
      "   calls  minutes  messages   mb_used  is_ultra\n",
      "0   40.0   311.90      83.0  19915.42         0\n",
      "1   85.0   516.75      56.0  22696.96         0\n",
      "2   77.0   467.66      86.0  21060.45         0\n",
      "3  106.0   745.53      81.0   8437.39         1\n",
      "4   66.0   418.74       1.0  14502.75         0\n"
     ]
    }
   ],
   "source": [
    "print(data.shape)\n",
    "print('-------------')\n",
    "print(data.info())\n",
    "print('-------------')\n",
    "print(data.head())"
   ]
  },
  {
   "cell_type": "markdown",
   "metadata": {},
   "source": [
    "<div class=\"alert alert-success\">\n",
    "<font size=\"5\"><b>Комментарий ревьюера</b></font>\n",
    "\n",
    "Успех:\n",
    "\n",
    "👍 Данные изучены.\n",
    "\n",
    "\n",
    "<div class=\"alert alert-warning\">\n",
    "\n",
    "\n",
    "\n",
    "Совет: \n",
    "\n",
    "Можно еще отдельно проверить датасет на сбалансированность классов в таргете. Это важная информация при моделировании и помогло бы решить бонусное задание сразу.  Тут можно [почитать](https://dyakonov.org/2021/05/27/imbalance/) дополнительно зачем мы обращаем внимание на это\n",
    "\n",
    "\n",
    "\n",
    "\n",
    "</div>\n"
   ]
  },
  {
   "cell_type": "markdown",
   "metadata": {},
   "source": [
    "## Разбейте данные на выборки"
   ]
  },
  {
   "cell_type": "code",
   "execution_count": 4,
   "metadata": {},
   "outputs": [
    {
     "data": {
      "text/plain": [
       "(3214,)"
      ]
     },
     "execution_count": 4,
     "metadata": {},
     "output_type": "execute_result"
    }
   ],
   "source": [
    "features = data.drop('is_ultra', axis=1)\n",
    "target = data['is_ultra']\n",
    "target.shape"
   ]
  },
  {
   "cell_type": "code",
   "execution_count": 5,
   "metadata": {},
   "outputs": [],
   "source": [
    "features, features_test, target, target_test = tsplit(features, target, test_size = 0.2, random_state=10101)\n",
    "features_train, features_valid, target_train, target_valid = tsplit(features, target, test_size = 0.2, random_state=10101)"
   ]
  },
  {
   "cell_type": "code",
   "execution_count": 6,
   "metadata": {},
   "outputs": [
    {
     "name": "stdout",
     "output_type": "stream",
     "text": [
      "(2571,)\n",
      "(643,)\n",
      "(2056,)\n",
      "(515,)\n"
     ]
    }
   ],
   "source": [
    "print(target.shape)\n",
    "print(target_test.shape)\n",
    "print(target_train.shape)\n",
    "print(target_valid.shape)"
   ]
  },
  {
   "cell_type": "markdown",
   "metadata": {},
   "source": [
    "<div class=\"alert alert-danger\">\n",
    "<font size=\"5\"><b>Комментарий ревьюера</b></font>\n",
    "\n",
    "Ошибка:\n",
    "\n",
    "Стоит использовать train_test_split, ведь нам надо чтобы train, test и valid  датасеты не пересекались\n",
    "\n",
    "<div class=\"alert alert-warning\">\n",
    "\n",
    "\n",
    "\n",
    "Совет: \n",
    "\n",
    "\n",
    "- Обрати внимание на аргумент stratify, он позволит сохранить изначальное распределение таргетов во всех новых датасетах.  Существующий дисбаланс никуда не денется, но в каждом датасете он будет одинаковым\n",
    "\n",
    "\n",
    "- После разбиения лучше перестраховаться и использовать .shape, для контроля за корректностью разбиения    \n",
    "    \n",
    "</div>"
   ]
  },
  {
   "cell_type": "code",
   "execution_count": 7,
   "metadata": {},
   "outputs": [],
   "source": [
    "features_train, features_valid, target_train, target_valid = tsplit(features,target,\n",
    "                                                                     test_size=0.25,\n",
    "                                                                     random_state=10101)"
   ]
  },
  {
   "cell_type": "markdown",
   "metadata": {},
   "source": [
    "<div class=\"alert alert-success\">\n",
    "<font size=\"5\"><b>Комментарий ревьюераV2</b></font>\n",
    "\n",
    "Успех 👍:\n",
    "\n",
    "👍\n",
    "</div>\n"
   ]
  },
  {
   "cell_type": "code",
   "execution_count": 8,
   "metadata": {},
   "outputs": [],
   "source": [
    "#def upsample(features, target, repeat):\n",
    "#    features_zeros = features[target == 0]\n",
    "#    features_ones = features[target == 1]\n",
    "#    target_zeros = target[target == 0]\n",
    "#    target_ones = target[target == 1]\n",
    "#\n",
    "#    features_upsampled = pd.concat([features_zeros] + [features_ones] * repeat)\n",
    "#    target_upsampled = pd.concat([target_zeros] + [target_ones] * repeat)\n",
    "#    \n",
    "#    features_upsampled, target_upsampled = shuffle(\n",
    "#        features_upsampled, target_upsampled, random_state=10101)\n",
    "#    \n",
    "#    return features_upsampled, target_upsampled"
   ]
  },
  {
   "cell_type": "code",
   "execution_count": 9,
   "metadata": {},
   "outputs": [],
   "source": [
    "#features_up, target_up = upsample(features_train, target_train, 2)"
   ]
  },
  {
   "cell_type": "code",
   "execution_count": 10,
   "metadata": {},
   "outputs": [],
   "source": [
    "#target_0 = target_up[target_up == 0]\n",
    "#target_1 = target_up[target_up == 1]\n",
    "#print(len(target_0), len(target_1))"
   ]
  },
  {
   "cell_type": "markdown",
   "metadata": {},
   "source": [
    "<div class=\"alert alert-warning\">\n",
    "<font size=\"5\"><b>Комментарий ревьюера</b></font>\n",
    "\n",
    "Успех:\n",
    "\n",
    "Oversampling без сомнения рабочий вариант работы при дисбалансе, как раз это тема следующего проекта. Но я бы посоветовал отложить это на будущее, потому что возникнут проблемы при решени бонусного задания, кроме того если занялся, то стоит довести до ума, а пока дисбалан все также пристуствует.  \n",
    "\n",
    "</div>\n"
   ]
  },
  {
   "cell_type": "markdown",
   "metadata": {},
   "source": [
    "## Исследуйте модели"
   ]
  },
  {
   "cell_type": "markdown",
   "metadata": {},
   "source": [
    "# DecisionTreeClassifier"
   ]
  },
  {
   "cell_type": "code",
   "execution_count": 11,
   "metadata": {},
   "outputs": [],
   "source": [
    "top_accuracy = 0\n",
    "for depth in range(1, 1000):\n",
    "    \n",
    "    model = DecisionTreeClassifier(random_state=10101, max_depth=depth)\n",
    "    model.fit(features_train, target_train)\n",
    "    predicted_valid = model.predict(features_valid)\n",
    "    accuracy = accuracy_score(target_valid, predicted_valid)\n",
    "    \n",
    "    if accuracy > top_accuracy:\n",
    "        top_accuracy = accuracy\n",
    "        top_depth = depth"
   ]
  },
  {
   "cell_type": "markdown",
   "metadata": {},
   "source": [
    "<div class=\"alert alert-success\">\n",
    "<font size=\"5\"><b>Комментарий ревьюера</b></font>\n",
    "\n",
    "Успех:\n",
    " \n",
    "Работа выполнена в соответствии с критериями: \n",
    "\n",
    "\n",
    "\n",
    " - модель обучена на обучающем наборе\n",
    " - получена оценка качества на валидационном наборе\n",
    " - перебор гиперпараметров осуществляется в цикле\n",
    "\n",
    "\n",
    "Интересно решил использовать сразу 2 метрики\n",
    "\n",
    "\n",
    "<div class=\"alert alert-warning\">\n",
    "\n",
    "\n",
    "Совет: \n",
    "\n",
    "\n",
    "- А почему в цикле (поставив условие улучшения метрики) не записать лучшую модель?     \n",
    "\n",
    "\n",
    "- Можно добавить график, хорошо оформленный график украсит проект. Тут на графике можно посмотреть как при изменении гиперпараметров меняется точность на train и validation датасете (для этого собираем наши метрики на валидации и train в списки, а затем по ним обычный plt.plot()) Такой способ используют чтобы лучше отследить переобучение\n",
    "\n",
    "\n",
    "\n",
    "- tree_plot можно построить, с max_depth равной 3 или 4 (глубже уже будет громоздко) - глянуть как DT сплиты делает, будет понимание как модель принимает решения: какие признаки  использует, на каких значениях делает разбиение вправо - влево \n",
    "\n",
    "\n",
    "</div>\n",
    "\n"
   ]
  },
  {
   "cell_type": "code",
   "execution_count": 12,
   "metadata": {},
   "outputs": [
    {
     "name": "stdout",
     "output_type": "stream",
     "text": [
      "depth = 10 \n",
      "accuracy = 0.7729393468118196\n"
     ]
    }
   ],
   "source": [
    "print(\"depth =\", top_depth, \"\\naccuracy =\",top_accuracy)"
   ]
  },
  {
   "cell_type": "code",
   "execution_count": 13,
   "metadata": {},
   "outputs": [],
   "source": [
    "top_accuracy = 0\n",
    "for depth in range(1, 100):\n",
    "    \n",
    "    model = DecisionTreeClassifier(random_state=10101, max_depth=depth, class_weight='balanced')\n",
    "    model.fit(features_train, target_train)\n",
    "    predicted_valid = model.predict(features_valid)\n",
    "    accuracy = accuracy_score(target_valid, predicted_valid)\n",
    "    \n",
    "    if accuracy > top_accuracy:\n",
    "        top_accuracy = accuracy\n",
    "        top_depth = depth"
   ]
  },
  {
   "cell_type": "markdown",
   "metadata": {},
   "source": [
    "<div class=\"alert alert-danger\">\n",
    "<font size=\"5\"><b>Комментарий ревьюераV3</b></font>\n",
    "\n",
    "Ошибка:\n",
    "\n",
    "    \n",
    "Никита можешь обьяснить зачем ты считаешь     f1_score?\n",
    "</div>"
   ]
  },
  {
   "cell_type": "code",
   "execution_count": 14,
   "metadata": {},
   "outputs": [
    {
     "name": "stdout",
     "output_type": "stream",
     "text": [
      "depth = 5 \n",
      "accuracy = 0.7698289269051322\n"
     ]
    }
   ],
   "source": [
    "print(\"depth =\", top_depth, \"\\naccuracy =\",top_accuracy)"
   ]
  },
  {
   "cell_type": "markdown",
   "metadata": {},
   "source": [
    "# RandomForestClassifier"
   ]
  },
  {
   "cell_type": "code",
   "execution_count": 15,
   "metadata": {},
   "outputs": [
    {
     "name": "stdout",
     "output_type": "stream",
     "text": [
      "CPU times: user 5.26 s, sys: 40.1 ms, total: 5.3 s\n",
      "Wall time: 5.32 s\n"
     ]
    }
   ],
   "source": [
    "%%time\n",
    "top_accuracy = 0\n",
    "for est in range(1, 20):\n",
    "    for depth in range(1, 10):\n",
    "        model = RandomForestClassifier(n_estimators=est, random_state=10101, max_depth=depth)\n",
    "        model.fit(features_train, target_train)\n",
    "        predicted_valid = model.predict(features_valid)\n",
    "        accuracy = accuracy_score(target_valid, predicted_valid)\n",
    "        if accuracy > top_accuracy:\n",
    "            top_accuracy = accuracy\n",
    "            top_depth = depth\n",
    "            top_est = est"
   ]
  },
  {
   "cell_type": "markdown",
   "metadata": {},
   "source": [
    "<div class=\"alert alert-danger\">\n",
    "<font size=\"5\"><b>Комментарий ревьюераV3</b></font>\n",
    "\n",
    "Ошибка:\n",
    "\n",
    "    \n",
    "Никита а зачем тут 2 цикла если n_estimators=100 - зафиксирован?  Кучу времени тратим при том что \n",
    "    \n",
    "    for est in range(1, 100)\n",
    "    \n",
    "    \n",
    "в данном случаи бесполезен  \n",
    "    \n",
    "    \n",
    "    \n",
    "Во вторых зачем такой глубокий перебор?   max_depth до 10 и  n_estimators до 20 вполне достаточно. \n",
    "    \n",
    "</div>"
   ]
  },
  {
   "cell_type": "markdown",
   "metadata": {},
   "source": [
    "<div class=\"alert alert-danger\">\n",
    "<font size=\"5\"><b>Комментарий ревьюераV2</b></font>\n",
    "\n",
    "Ошибка ❌:\n",
    "\n",
    "    \n",
    "f1 метрика задачи регрессии\n",
    "    \n",
    "</div>"
   ]
  },
  {
   "cell_type": "code",
   "execution_count": 16,
   "metadata": {},
   "outputs": [
    {
     "name": "stdout",
     "output_type": "stream",
     "text": [
      "esimators = 19 depth = 9 \n",
      "accuracy = 0.7884914463452566\n"
     ]
    }
   ],
   "source": [
    "print(\"esimators =\", est,\"depth =\", top_depth, \"\\naccuracy =\",top_accuracy)"
   ]
  },
  {
   "cell_type": "code",
   "execution_count": 17,
   "metadata": {},
   "outputs": [
    {
     "name": "stdout",
     "output_type": "stream",
     "text": [
      "CPU times: user 5.1 s, sys: 55.8 ms, total: 5.15 s\n",
      "Wall time: 5.17 s\n"
     ]
    }
   ],
   "source": [
    "%%time\n",
    "top_accuracy = 0\n",
    "for est in range(1, 20):\n",
    "    for depth in range(1, 10):\n",
    "        model = RandomForestClassifier(n_estimators=est, random_state=10101, max_depth=depth, class_weight='balanced')\n",
    "        model.fit(features_train, target_train)\n",
    "        predicted_valid = model.predict(features_valid)\n",
    "        accuracy = accuracy_score(target_valid, predicted_valid)\n",
    "        if accuracy > top_accuracy:\n",
    "            top_accuracy = accuracy\n",
    "            top_depth = depth\n",
    "            top_est = est"
   ]
  },
  {
   "cell_type": "code",
   "execution_count": 18,
   "metadata": {
    "scrolled": true
   },
   "outputs": [
    {
     "name": "stdout",
     "output_type": "stream",
     "text": [
      "esimators = 19 depth = 8 \n",
      "accuracy = 0.7916018662519441\n"
     ]
    }
   ],
   "source": [
    "print(\"esimators =\", est,\"depth =\", top_depth, \"\\naccuracy =\",top_accuracy)"
   ]
  },
  {
   "cell_type": "markdown",
   "metadata": {},
   "source": [
    "\n",
    "<div class=\"alert alert-success\">\n",
    "<font size=\"5\"><b>Комментарий ревьюера</b></font>\n",
    "\n",
    "Успех:\n",
    "\n",
    "\n",
    "Верно. \n",
    "\n",
    "<div class=\"alert alert-warning\">\n",
    "\n",
    "Совет:\n",
    "\n",
    "\n",
    "- Можно было сделать похитрее - добавить перебор 2 гиперпараметров в двойном цикле, в результата метрика качества вырастет. \n",
    "    \n",
    " \n",
    "\n",
    "- Когда что то долго крутиться, можно использовать  %%time - ставишь на самый вверх ячейки с кодом, время выполнения которого хочешь замерить, может не знаешь.  Быстрее не станет, но все будут видеть стоит ли ждать не отходя от ПК или можно сходить чаек поставить ))  А еще есть tqdm, показывает на каком этапе у нас работа в цикле происходит\n",
    "    \n",
    "   \n",
    "- А еще можно вместо цикла использовать sklearn-ий встроенный функционал GridSearchCV. В случаи использования GridSearch, не нужно будет заранее делать валидационную выборку, лучшую метрику автоматом сохранят в best_score_, а лучшую модель (переобученная уже на полном наборе данных) будет хранить в best_estimator_.  Это тема будущих теоретических занятий, но если есть время можешь сразу попробовать.\n",
    "\n",
    "\n",
    "\n",
    "\n",
    "</div>\n"
   ]
  },
  {
   "cell_type": "markdown",
   "metadata": {},
   "source": [
    "#  LogisticRegression"
   ]
  },
  {
   "cell_type": "code",
   "execution_count": 19,
   "metadata": {},
   "outputs": [],
   "source": [
    "model = LogisticRegression(random_state=10101)\n",
    "model.fit(features_train, target_train)\n",
    "predicted_valid = model.predict(features_valid)\n",
    "accuracy = accuracy_score(target_valid, predicted_valid)"
   ]
  },
  {
   "cell_type": "markdown",
   "metadata": {},
   "source": [
    "<div class=\"alert alert-danger\">\n",
    "<font size=\"5\"><b>Комментарий ревьюераV2</b></font>\n",
    "\n",
    "Ошибка ❌:\n",
    "\n",
    "    \n",
    "f1 метрика задачи регрессии, а у нас классификация, используем    accuracy_score как выше \n",
    "    \n",
    "</div>"
   ]
  },
  {
   "cell_type": "code",
   "execution_count": 20,
   "metadata": {},
   "outputs": [
    {
     "name": "stdout",
     "output_type": "stream",
     "text": [
      "0.7091757387247278\n"
     ]
    }
   ],
   "source": [
    "print(accuracy)"
   ]
  },
  {
   "cell_type": "code",
   "execution_count": 21,
   "metadata": {},
   "outputs": [],
   "source": [
    "model = LogisticRegression(random_state=10101, class_weight='balanced')\n",
    "model.fit(features_train, target_train)\n",
    "predicted_valid = model.predict(features_valid)\n",
    "accuracy = accuracy_score(target_valid, predicted_valid)"
   ]
  },
  {
   "cell_type": "code",
   "execution_count": 22,
   "metadata": {},
   "outputs": [
    {
     "name": "stdout",
     "output_type": "stream",
     "text": [
      "0.40746500777604977\n"
     ]
    }
   ],
   "source": [
    "print(accuracy)"
   ]
  },
  {
   "cell_type": "markdown",
   "metadata": {},
   "source": [
    "Для данной задачи лучше всего как видно подходит RandomForestClassifier, у данной модели правильность ответов выше остальных и полнота/точность тоже выше!\n",
    "Учитывая что на таком маленьком фрейме для обучения она выдаёт почти 80% правильных ответов - я думаю, что это хороший результат."
   ]
  },
  {
   "cell_type": "markdown",
   "metadata": {},
   "source": [
    "## Проверьте модель на тестовой выборке"
   ]
  },
  {
   "cell_type": "markdown",
   "metadata": {},
   "source": [
    "Я возьму модель с самыми высокими показателями accuracy из третьего пункта, а именно RandomForestClassifier c сбалансированными весами."
   ]
  },
  {
   "cell_type": "code",
   "execution_count": 23,
   "metadata": {},
   "outputs": [
    {
     "name": "stdout",
     "output_type": "stream",
     "text": [
      "Accuracy: 0.7900466562986003\n"
     ]
    }
   ],
   "source": [
    "model = RandomForestClassifier(n_estimators=19, random_state=10101, max_depth=8, class_weight=\"balanced\")\n",
    "model.fit(features_train, target_train)\n",
    "predicted_test = model.predict(features_test)\n",
    "\n",
    "print('Accuracy:', accuracy_score(target_test, predicted_test))"
   ]
  },
  {
   "cell_type": "markdown",
   "metadata": {},
   "source": [
    "\n",
    "\n",
    "<div class=\"alert alert-success\">\n",
    "<font size=\"5\"><b>Комментарий ревьюераV4</b></font>\n",
    "\n",
    "Успех:\n",
    "\n",
    "Если студент получил на тесте accuraсy  выше 0,78, это считается отличным результатом. Тобой подбиралась лучшая комбинация не по одному гиперпараметру и вот он результат!\n",
    "\n",
    "\n",
    "\n",
    "\n",
    "\n",
    "\n",
    "</div>"
   ]
  },
  {
   "cell_type": "markdown",
   "metadata": {},
   "source": [
    "<div class=\"alert alert-success\">\n",
    "<font size=\"5\"><b>Комментарий ревьюераV2</b></font>\n",
    "\n",
    "Успех 👍:\n",
    "\n",
    "👍\n",
    "</div>\n"
   ]
  },
  {
   "cell_type": "markdown",
   "metadata": {},
   "source": [
    "<div class=\"alert alert-danger\">\n",
    "<font size=\"5\"><b>Комментарий ревьюераV2</b></font>\n",
    "\n",
    "Ошибка ❌:\n",
    "\n",
    "    \n",
    "- опять же f1\n",
    "    \n",
    "    \n",
    "- разве лучшая     max_depth=8?\n",
    "    \n",
    "</div>"
   ]
  },
  {
   "cell_type": "markdown",
   "metadata": {},
   "source": [
    "Доля правильных ответов соответствует критериям задания, хотя для хорошей модели как я думаю - не очень."
   ]
  },
  {
   "cell_type": "markdown",
   "metadata": {},
   "source": [
    "\n",
    "<div class=\"alert alert-danger\">\n",
    "<font size=\"5\"><b>Комментарий ревьюера</b></font>\n",
    "\n",
    "Не выполнен пункт\n",
    "    \n",
    "    \n",
    "    Проверьте модель на тестовой выборке\n",
    "\n",
    "</div>\n",
    "\n"
   ]
  },
  {
   "cell_type": "markdown",
   "metadata": {},
   "source": [
    "## (бонус) Проверьте модели на адекватность"
   ]
  },
  {
   "cell_type": "code",
   "execution_count": 24,
   "metadata": {},
   "outputs": [],
   "source": [
    "dummy_clf = DummyClassifier(strategy=\"most_frequent\", random_state=10101)"
   ]
  },
  {
   "cell_type": "code",
   "execution_count": 25,
   "metadata": {},
   "outputs": [
    {
     "data": {
      "text/plain": [
       "DummyClassifier(random_state=10101, strategy='most_frequent')"
      ]
     },
     "execution_count": 25,
     "metadata": {},
     "output_type": "execute_result"
    }
   ],
   "source": [
    "dummy_clf.fit(features_train, target_train)"
   ]
  },
  {
   "cell_type": "code",
   "execution_count": 26,
   "metadata": {},
   "outputs": [
    {
     "data": {
      "text/plain": [
       "array([0, 0, 0, 0, 0, 0, 0, 0, 0, 0, 0, 0, 0, 0, 0, 0, 0, 0, 0, 0, 0, 0,\n",
       "       0, 0, 0, 0, 0, 0, 0, 0, 0, 0, 0, 0, 0, 0, 0, 0, 0, 0, 0, 0, 0, 0,\n",
       "       0, 0, 0, 0, 0, 0, 0, 0, 0, 0, 0, 0, 0, 0, 0, 0, 0, 0, 0, 0, 0, 0,\n",
       "       0, 0, 0, 0, 0, 0, 0, 0, 0, 0, 0, 0, 0, 0, 0, 0, 0, 0, 0, 0, 0, 0,\n",
       "       0, 0, 0, 0, 0, 0, 0, 0, 0, 0, 0, 0, 0, 0, 0, 0, 0, 0, 0, 0, 0, 0,\n",
       "       0, 0, 0, 0, 0, 0, 0, 0, 0, 0, 0, 0, 0, 0, 0, 0, 0, 0, 0, 0, 0, 0,\n",
       "       0, 0, 0, 0, 0, 0, 0, 0, 0, 0, 0, 0, 0, 0, 0, 0, 0, 0, 0, 0, 0, 0,\n",
       "       0, 0, 0, 0, 0, 0, 0, 0, 0, 0, 0, 0, 0, 0, 0, 0, 0, 0, 0, 0, 0, 0,\n",
       "       0, 0, 0, 0, 0, 0, 0, 0, 0, 0, 0, 0, 0, 0, 0, 0, 0, 0, 0, 0, 0, 0,\n",
       "       0, 0, 0, 0, 0, 0, 0, 0, 0, 0, 0, 0, 0, 0, 0, 0, 0, 0, 0, 0, 0, 0,\n",
       "       0, 0, 0, 0, 0, 0, 0, 0, 0, 0, 0, 0, 0, 0, 0, 0, 0, 0, 0, 0, 0, 0,\n",
       "       0, 0, 0, 0, 0, 0, 0, 0, 0, 0, 0, 0, 0, 0, 0, 0, 0, 0, 0, 0, 0, 0,\n",
       "       0, 0, 0, 0, 0, 0, 0, 0, 0, 0, 0, 0, 0, 0, 0, 0, 0, 0, 0, 0, 0, 0,\n",
       "       0, 0, 0, 0, 0, 0, 0, 0, 0, 0, 0, 0, 0, 0, 0, 0, 0, 0, 0, 0, 0, 0,\n",
       "       0, 0, 0, 0, 0, 0, 0, 0, 0, 0, 0, 0, 0, 0, 0, 0, 0, 0, 0, 0, 0, 0,\n",
       "       0, 0, 0, 0, 0, 0, 0, 0, 0, 0, 0, 0, 0, 0, 0, 0, 0, 0, 0, 0, 0, 0,\n",
       "       0, 0, 0, 0, 0, 0, 0, 0, 0, 0, 0, 0, 0, 0, 0, 0, 0, 0, 0, 0, 0, 0,\n",
       "       0, 0, 0, 0, 0, 0, 0, 0, 0, 0, 0, 0, 0, 0, 0, 0, 0, 0, 0, 0, 0, 0,\n",
       "       0, 0, 0, 0, 0, 0, 0, 0, 0, 0, 0, 0, 0, 0, 0, 0, 0, 0, 0, 0, 0, 0,\n",
       "       0, 0, 0, 0, 0, 0, 0, 0, 0, 0, 0, 0, 0, 0, 0, 0, 0, 0, 0, 0, 0, 0,\n",
       "       0, 0, 0, 0, 0, 0, 0, 0, 0, 0, 0, 0, 0, 0, 0, 0, 0, 0, 0, 0, 0, 0,\n",
       "       0, 0, 0, 0, 0, 0, 0, 0, 0, 0, 0, 0, 0, 0, 0, 0, 0, 0, 0, 0, 0, 0,\n",
       "       0, 0, 0, 0, 0, 0, 0, 0, 0, 0, 0, 0, 0, 0, 0, 0, 0, 0, 0, 0, 0, 0,\n",
       "       0, 0, 0, 0, 0, 0, 0, 0, 0, 0, 0, 0, 0, 0, 0, 0, 0, 0, 0, 0, 0, 0,\n",
       "       0, 0, 0, 0, 0, 0, 0, 0, 0, 0, 0, 0, 0, 0, 0, 0, 0, 0, 0, 0, 0, 0,\n",
       "       0, 0, 0, 0, 0, 0, 0, 0, 0, 0, 0, 0, 0, 0, 0, 0, 0, 0, 0, 0, 0, 0,\n",
       "       0, 0, 0, 0, 0, 0, 0, 0, 0, 0, 0, 0, 0, 0, 0, 0, 0, 0, 0, 0, 0, 0,\n",
       "       0, 0, 0, 0, 0, 0, 0, 0, 0, 0, 0, 0, 0, 0, 0, 0, 0, 0, 0, 0, 0, 0,\n",
       "       0, 0, 0, 0, 0, 0, 0, 0, 0, 0, 0, 0, 0, 0, 0, 0, 0, 0, 0, 0, 0, 0,\n",
       "       0, 0, 0, 0, 0])"
      ]
     },
     "execution_count": 26,
     "metadata": {},
     "output_type": "execute_result"
    }
   ],
   "source": [
    "dummy_clf.predict(features_valid)"
   ]
  },
  {
   "cell_type": "code",
   "execution_count": 27,
   "metadata": {},
   "outputs": [
    {
     "data": {
      "text/plain": [
       "0.6796267496111975"
      ]
     },
     "execution_count": 27,
     "metadata": {},
     "output_type": "execute_result"
    }
   ],
   "source": [
    "dummy_clf.score(features_test, target_test)"
   ]
  },
  {
   "cell_type": "markdown",
   "metadata": {},
   "source": [
    "<div class=\"alert alert-success\">\n",
    "<font size=\"5\"><b>Комментарий ревьюераV4</b></font>\n",
    "\n",
    "Успех 👍:\n",
    "\n",
    "Цифра верная, но где вывод?!\n",
    "</div>\n"
   ]
  },
  {
   "cell_type": "markdown",
   "metadata": {},
   "source": [
    "<div class=\"alert alert-dark\">\n",
    "<font size=\"5\"><b>Можешь помочь с Dummy Models?</b></font>\n",
    "</div>"
   ]
  },
  {
   "cell_type": "markdown",
   "metadata": {},
   "source": [
    "<div class=\"alert alert-warning\">\n",
    "<font size=\"5\"><b>Комментарий ревьюераV3</b></font>\n",
    "\n",
    "Совет:\n",
    "\n",
    "\n",
    "Тут логика такая - у нас есть данные и мы видим что доля нулей в таргете около 69%, это значит что мы не проводя никакого анализа, моделирования итп итд, можем постоянно предсказывать 0 и получить точность около 69%. Вот эту accuracy в 69% мы и должны побить, иначе окажется что наша модель не лучше наивного прогноза самого частого класса.\n",
    "      \n",
    "    \n",
    "С   DummyClassifier это выглядело бы  так:\n",
    "    \n",
    "    DummyClassifier(strategy='most_frequent', random_state=1)  \n",
    "задаем константную модель, которая будет предсказывать по most_frequent - самый частый класс\n",
    "    \n",
    "    .fit(features_train, target_train)\n",
    "тут модель смотри на самый частый класс в  target_train - типо \"обучение\"\n",
    "    \n",
    "    .predict(features_valid)\n",
    "    .score(features_test, target_test)\n",
    "проогнозирует везде самый частый класс в features_test и считает score\n",
    "    \n",
    "Получаем тот же результат: acc около 69%.    \n",
    "\n",
    "<div>\n"
   ]
  },
  {
   "cell_type": "markdown",
   "metadata": {},
   "source": [
    "<div class=\"alert alert-success\">\n",
    "<font size=\"5\"><b>Комментарий ревьюера</b></font>\n",
    "\n",
    "Успех:\n",
    "\n",
    "чем больше f1 тем лучше\n",
    "</div>"
   ]
  },
  {
   "cell_type": "markdown",
   "metadata": {},
   "source": [
    "\n",
    "\n",
    "<div class=\"alert alert-danger\">\n",
    "<font size=\"5\"><b>Комментарий ревьюера</b></font>\n",
    "\n",
    "Ошибка:\n",
    "\n",
    "То что сделано, болше похоже не проверку модели на тесте.   \n",
    "\n",
    "В чем смысл проверки модели на адекватность  при дисбалансе? Вот смотри - обучили мы какую то модель, которая на test показывает 90% accuraсy. Шикарная модель скажем мы. А если в датасете у нас в метках таргета единичек 99,9% (допустим тренируем на данных где 1 это \"кирпич упал на голову человеку когда он вышел из дома\"), а нулей 0,1% (\"не упал\")?! Все также утверждаем что наша модель шикарная?! Нет, потому что всегда можно предсказывать что не упадает (единички) и accuracy будет равна 99,9%\n",
    "\n",
    "Вот и тут мы сравниваем нашу обученную модель с примитивным прогнозом самого частого таргета. Какой у нас самый частый класс? Нули. Так посмотри accuracy_score target_test и ряда из одних нулей. Сколько будет?. \n",
    "\n",
    "\n",
    "    \n",
    "    \n",
    "\n",
    "При проверке на адекватность модели, рекомендую ознакомиться с [Dummy Models](https://scikit-learn.org/stable/modules/generated/sklearn.dummy.DummyClassifier.html), это удобная обертка для константных моделей и сделает тоже самое что я описал на словах\n",
    "\n",
    "</div>"
   ]
  },
  {
   "cell_type": "markdown",
   "metadata": {},
   "source": [
    "## Чек-лист готовности проекта"
   ]
  },
  {
   "cell_type": "markdown",
   "metadata": {},
   "source": [
    "\n",
    "<div class=\"alert alert-info\">\n",
    "<font size=\"5\"><b>Комментарий ревьюера</b></font>\n",
    "\n",
    "\n",
    "Спасибо тебе за проделанную работу, к сожалению, сейчас я не могу принять твой проект, поэтому мы с тобой еще пообщаемся )\n",
    "\n",
    "Я оставил небольшие советы и вопросики (если есть время и желание можешь воспользоваться/ответить): \n",
    "\n",
    "- обрати внимание на проверку сбалансированность классов в таргете в разделе EDA\n",
    "- использовать stratify\n",
    "- добавить график метрики    \n",
    "- посоветовал посмотреть в сторону GridSearchCV\n",
    "- как можно улучшить результаты \n",
    "\n",
    "Замечания на будущее:\n",
    "    \n",
    "- Комментарии к коду отсутствуют - коллеги могут не понять хода твоих мыслей, пока вроде код простой, но стоит держать в голове что дальше код усложнится.  \n",
    "- Было бы замечательно, в выводе немножко о данных, работе с ними (пусть даже никакой работы и не было), моделировании и полученных результатах. Это важно потому что когда проект захочет посмотреть будущий работодатель (или начальник), у него может не быть времени на подробный разбор кода. Вероятнее всего он бегло просмотрит код, а из общего вывода захочет получить представление о всей работе.\n",
    "\n",
    " \n",
    "    \n",
    "Обязательное к исправлению:\n",
    "\n",
    "\n",
    "- ипользуем train_test_split для разбиения датасетов, чтобы выборки не пересекались\n",
    "    \n",
    "    \n",
    "- нет тетсирования лучшей модели\n",
    "    \n",
    "\n",
    "- стоит переделать бонусное задание с учётом моего комментария\n",
    "\n",
    " \n",
    "Жду исправлений, для принятия проекта. Если какие то вопросы, то сразу спрашивай ) \n",
    "\n",
    "\n",
    "</div>\n",
    "\n",
    "\n",
    "\n"
   ]
  },
  {
   "cell_type": "markdown",
   "metadata": {},
   "source": [
    "\n",
    "<div class=\"alert alert-info\">\n",
    "<font size=\"5\"><b>Комментарий ревьюераV2</b></font>\n",
    "\n",
    "Спасибо за работу!    \n",
    "\n",
    "\n",
    "\n",
    "Что осталось из красного:\n",
    "\n",
    "- f1 метрика не для нашей задачи\n",
    "    \n",
    "    \n",
    "    \n",
    "- тестируем модель с лучшими гиперпараметрами\n",
    "    \n",
    "    \n",
    "    \n",
    "На связи    \n",
    "\n",
    "\n",
    "</div>"
   ]
  },
  {
   "cell_type": "markdown",
   "metadata": {},
   "source": [
    "\n",
    "<div class=\"alert alert-info\">\n",
    "<font size=\"5\"><b>Комментарий ревьюераV3</b></font>\n",
    "\n",
    "\n",
    "Никита обрати внимание на замечания:\n",
    "    \n",
    "    \n",
    "- f1 для задачи классификации мы не используем\n",
    "    \n",
    "    \n",
    "-  ты используешь двойной цикл при этом перебор идет толкьо по 1 гиперпараметру, и зачем такие глубокие переборы?!   \n",
    "  \n",
    "На связи\n",
    "\n",
    "    \n",
    "</div>\n"
   ]
  },
  {
   "cell_type": "markdown",
   "metadata": {},
   "source": [
    "\n",
    "<div class=\"alert alert-info\">\n",
    "<font size=\"5\"><b>Комментарий ревьюераV4</b></font>\n",
    "\n",
    "Спасибо за работу!    \n",
    "\n",
    "    \n",
    "\n",
    "Красного нет, вопросов нет, значит все, пора принимать) Надеюсь мои советы и вопросики были полезны и в копилочку знаний упало что то новое, а проект стал лучше, и симпатичней.\n",
    "\n",
    "  \n",
    "Отличная работа Никита. Желаю успехов в дальнейшей учебе!\n",
    "\n",
    "</div>"
   ]
  },
  {
   "cell_type": "markdown",
   "metadata": {},
   "source": [
    "Поставьте 'x' в выполненных пунктах. Далее нажмите Shift+Enter."
   ]
  },
  {
   "cell_type": "markdown",
   "metadata": {},
   "source": [
    "- [x] Jupyter Notebook открыт\n",
    "- [x] Весь код исполняется без ошибок\n",
    "- [x] Ячейки с кодом расположены в порядке исполнения\n",
    "- [x] Выполнено задание 1: данные загружены и изучены\n",
    "- [x] Выполнено задание 2: данные разбиты на три выборки\n",
    "- [x] Выполнено задание 3: проведено исследование моделей\n",
    "    - [x] Рассмотрено больше одной модели\n",
    "    - [x] Рассмотрено хотя бы 3 значения гипепараметров для какой-нибудь модели\n",
    "    - [x] Написаны выводы по результатам исследования\n",
    "- [x] Выполнено задание 3: Проведено тестирование\n",
    "- [x] Удалось достичь accuracy не меньше 0.75\n"
   ]
  },
  {
   "cell_type": "code",
   "execution_count": null,
   "metadata": {},
   "outputs": [],
   "source": []
  }
 ],
 "metadata": {
  "ExecuteTimeLog": [
   {
    "duration": 1132,
    "start_time": "2022-09-05T15:00:09.675Z"
   },
   {
    "duration": 138,
    "start_time": "2022-09-05T15:00:43.997Z"
   },
   {
    "duration": 45,
    "start_time": "2022-09-05T15:00:56.992Z"
   },
   {
    "duration": 33,
    "start_time": "2022-09-05T15:01:04.447Z"
   },
   {
    "duration": 38,
    "start_time": "2022-09-05T15:01:12.768Z"
   },
   {
    "duration": 35,
    "start_time": "2022-09-05T15:01:18.250Z"
   },
   {
    "duration": 50,
    "start_time": "2022-09-05T15:01:22.784Z"
   },
   {
    "duration": 45,
    "start_time": "2022-09-05T15:01:48.182Z"
   },
   {
    "duration": 9,
    "start_time": "2022-09-05T15:06:04.543Z"
   },
   {
    "duration": 17,
    "start_time": "2022-09-05T15:06:25.008Z"
   },
   {
    "duration": 265,
    "start_time": "2022-09-05T15:06:55.941Z"
   },
   {
    "duration": 16,
    "start_time": "2022-09-05T15:07:06.367Z"
   },
   {
    "duration": 3,
    "start_time": "2022-09-05T15:07:13.830Z"
   },
   {
    "duration": 4,
    "start_time": "2022-09-05T15:07:47.463Z"
   },
   {
    "duration": 30,
    "start_time": "2022-09-05T15:07:55.147Z"
   },
   {
    "duration": 14,
    "start_time": "2022-09-05T15:07:59.339Z"
   },
   {
    "duration": 9,
    "start_time": "2022-09-05T15:08:04.331Z"
   },
   {
    "duration": 3,
    "start_time": "2022-09-05T15:08:11.266Z"
   },
   {
    "duration": 8,
    "start_time": "2022-09-05T15:08:14.468Z"
   },
   {
    "duration": 8,
    "start_time": "2022-09-05T15:08:23.028Z"
   },
   {
    "duration": 7,
    "start_time": "2022-09-05T15:08:39.970Z"
   },
   {
    "duration": 8,
    "start_time": "2022-09-05T15:10:37.428Z"
   },
   {
    "duration": 4,
    "start_time": "2022-09-05T15:10:45.782Z"
   },
   {
    "duration": 3,
    "start_time": "2022-09-05T15:11:00.133Z"
   },
   {
    "duration": 3,
    "start_time": "2022-09-05T15:11:08.732Z"
   },
   {
    "duration": 4,
    "start_time": "2022-09-05T15:11:29.244Z"
   },
   {
    "duration": 9,
    "start_time": "2022-09-05T15:11:47.549Z"
   },
   {
    "duration": 58,
    "start_time": "2022-09-05T15:14:17.008Z"
   },
   {
    "duration": 15,
    "start_time": "2022-09-05T15:23:52.441Z"
   },
   {
    "duration": 5,
    "start_time": "2022-09-05T15:24:14.237Z"
   },
   {
    "duration": 0,
    "start_time": "2022-09-05T15:25:49.196Z"
   },
   {
    "duration": 1220,
    "start_time": "2022-09-05T15:25:52.227Z"
   },
   {
    "duration": 32,
    "start_time": "2022-09-05T15:25:53.449Z"
   },
   {
    "duration": 19,
    "start_time": "2022-09-05T15:25:53.483Z"
   },
   {
    "duration": 32,
    "start_time": "2022-09-05T15:25:53.504Z"
   },
   {
    "duration": 64,
    "start_time": "2022-09-05T15:25:53.538Z"
   },
   {
    "duration": 69633,
    "start_time": "2022-09-05T15:25:53.604Z"
   },
   {
    "duration": 10837,
    "start_time": "2022-09-05T15:31:35.743Z"
   },
   {
    "duration": 3531,
    "start_time": "2022-09-05T15:31:53.564Z"
   },
   {
    "duration": 69527,
    "start_time": "2022-09-05T15:32:13.639Z"
   },
   {
    "duration": 274,
    "start_time": "2022-09-05T15:34:37.663Z"
   },
   {
    "duration": 63343,
    "start_time": "2022-09-05T15:34:45.639Z"
   },
   {
    "duration": 3,
    "start_time": "2022-09-05T15:35:50.338Z"
   },
   {
    "duration": 3,
    "start_time": "2022-09-05T15:36:07.246Z"
   },
   {
    "duration": 2,
    "start_time": "2022-09-05T15:36:20.260Z"
   },
   {
    "duration": 7,
    "start_time": "2022-09-05T15:36:46.397Z"
   },
   {
    "duration": 4,
    "start_time": "2022-09-05T15:37:03.459Z"
   },
   {
    "duration": 73,
    "start_time": "2022-09-05T15:38:29.144Z"
   },
   {
    "duration": 93,
    "start_time": "2022-09-05T15:38:42.647Z"
   },
   {
    "duration": 81,
    "start_time": "2022-09-05T15:38:51.503Z"
   },
   {
    "duration": 3,
    "start_time": "2022-09-05T15:38:57.056Z"
   },
   {
    "duration": 10,
    "start_time": "2022-09-05T15:39:48.310Z"
   },
   {
    "duration": 3,
    "start_time": "2022-09-05T15:40:04.452Z"
   },
   {
    "duration": 3,
    "start_time": "2022-09-05T15:40:16.842Z"
   },
   {
    "duration": 462,
    "start_time": "2022-09-05T15:41:34.740Z"
   },
   {
    "duration": 519,
    "start_time": "2022-09-05T15:41:42.659Z"
   },
   {
    "duration": 530,
    "start_time": "2022-09-05T15:41:48.497Z"
   },
   {
    "duration": 171,
    "start_time": "2022-09-05T15:42:01.906Z"
   },
   {
    "duration": 5104,
    "start_time": "2022-09-05T15:42:13.833Z"
   },
   {
    "duration": 522,
    "start_time": "2022-09-05T15:42:24.640Z"
   },
   {
    "duration": 5117,
    "start_time": "2022-09-05T15:42:31.840Z"
   },
   {
    "duration": 512,
    "start_time": "2022-09-05T15:42:56.560Z"
   },
   {
    "duration": 544,
    "start_time": "2022-09-05T15:43:07.539Z"
   },
   {
    "duration": 63190,
    "start_time": "2022-09-05T15:44:01.662Z"
   },
   {
    "duration": 22,
    "start_time": "2022-09-05T15:45:40.066Z"
   },
   {
    "duration": 11,
    "start_time": "2022-09-05T15:45:50.564Z"
   },
   {
    "duration": 13,
    "start_time": "2022-09-05T15:46:54.139Z"
   },
   {
    "duration": 18,
    "start_time": "2022-09-05T15:52:22.943Z"
   },
   {
    "duration": 11,
    "start_time": "2022-09-05T15:52:27.736Z"
   },
   {
    "duration": 64,
    "start_time": "2022-09-06T12:24:40.396Z"
   },
   {
    "duration": 6,
    "start_time": "2022-09-06T12:25:42.710Z"
   },
   {
    "duration": 1125,
    "start_time": "2022-09-06T12:25:50.182Z"
   },
   {
    "duration": 122,
    "start_time": "2022-09-06T12:25:51.309Z"
   },
   {
    "duration": 16,
    "start_time": "2022-09-06T12:25:52.131Z"
   },
   {
    "duration": 4,
    "start_time": "2022-09-06T12:25:55.185Z"
   },
   {
    "duration": 5,
    "start_time": "2022-09-06T12:25:56.290Z"
   },
   {
    "duration": 6,
    "start_time": "2022-09-06T12:26:04.034Z"
   },
   {
    "duration": 5,
    "start_time": "2022-09-06T12:26:18.649Z"
   },
   {
    "duration": 4,
    "start_time": "2022-09-06T12:26:46.721Z"
   },
   {
    "duration": 4,
    "start_time": "2022-09-06T12:27:06.978Z"
   },
   {
    "duration": 6,
    "start_time": "2022-09-06T12:27:08.682Z"
   },
   {
    "duration": 5,
    "start_time": "2022-09-06T12:27:10.684Z"
   },
   {
    "duration": 4,
    "start_time": "2022-09-06T12:27:12.288Z"
   },
   {
    "duration": 5,
    "start_time": "2022-09-06T12:31:21.984Z"
   },
   {
    "duration": 5,
    "start_time": "2022-09-06T12:33:40.105Z"
   },
   {
    "duration": 59,
    "start_time": "2022-09-06T12:35:44.003Z"
   },
   {
    "duration": 15,
    "start_time": "2022-09-06T12:35:59.284Z"
   },
   {
    "duration": 12,
    "start_time": "2022-09-06T12:36:03.888Z"
   },
   {
    "duration": 1139,
    "start_time": "2022-09-06T12:37:01.719Z"
   },
   {
    "duration": 1079,
    "start_time": "2022-09-06T12:37:10.913Z"
   },
   {
    "duration": 4,
    "start_time": "2022-09-06T12:37:25.480Z"
   },
   {
    "duration": 4,
    "start_time": "2022-09-06T12:37:39.845Z"
   },
   {
    "duration": 5,
    "start_time": "2022-09-06T12:39:43.988Z"
   },
   {
    "duration": 2,
    "start_time": "2022-09-06T12:41:36.812Z"
   },
   {
    "duration": 30,
    "start_time": "2022-09-06T12:41:37.334Z"
   },
   {
    "duration": 14,
    "start_time": "2022-09-06T12:41:37.990Z"
   },
   {
    "duration": 4,
    "start_time": "2022-09-06T12:41:40.327Z"
   },
   {
    "duration": 6,
    "start_time": "2022-09-06T12:41:41.061Z"
   },
   {
    "duration": 4,
    "start_time": "2022-09-06T12:41:41.822Z"
   },
   {
    "duration": 15,
    "start_time": "2022-09-06T12:41:43.245Z"
   },
   {
    "duration": 3,
    "start_time": "2022-09-06T12:41:54.484Z"
   },
   {
    "duration": 9,
    "start_time": "2022-09-06T12:41:59.294Z"
   },
   {
    "duration": 4,
    "start_time": "2022-09-06T12:42:53.612Z"
   },
   {
    "duration": 3,
    "start_time": "2022-09-06T12:43:08.156Z"
   },
   {
    "duration": 4,
    "start_time": "2022-09-06T12:44:13.490Z"
   },
   {
    "duration": 4,
    "start_time": "2022-09-06T12:44:22.588Z"
   },
   {
    "duration": 8,
    "start_time": "2022-09-06T12:44:23.136Z"
   },
   {
    "duration": 5,
    "start_time": "2022-09-06T12:44:23.696Z"
   },
   {
    "duration": 7,
    "start_time": "2022-09-06T12:44:28.412Z"
   },
   {
    "duration": 5,
    "start_time": "2022-09-06T12:44:28.834Z"
   },
   {
    "duration": 1022,
    "start_time": "2022-09-06T12:44:55.176Z"
   },
   {
    "duration": 31,
    "start_time": "2022-09-06T12:44:56.200Z"
   },
   {
    "duration": 16,
    "start_time": "2022-09-06T12:44:56.232Z"
   },
   {
    "duration": 3,
    "start_time": "2022-09-06T12:44:56.250Z"
   },
   {
    "duration": 8,
    "start_time": "2022-09-06T12:44:56.255Z"
   },
   {
    "duration": 9,
    "start_time": "2022-09-06T12:44:56.264Z"
   },
   {
    "duration": 10,
    "start_time": "2022-09-06T12:44:56.274Z"
   },
   {
    "duration": 6,
    "start_time": "2022-09-06T12:44:56.285Z"
   },
   {
    "duration": 53956,
    "start_time": "2022-09-06T12:44:56.293Z"
   },
   {
    "duration": 3,
    "start_time": "2022-09-06T12:45:50.251Z"
   },
   {
    "duration": 456,
    "start_time": "2022-09-06T12:45:50.255Z"
   },
   {
    "duration": 16,
    "start_time": "2022-09-06T12:45:50.712Z"
   },
   {
    "duration": 101,
    "start_time": "2022-09-06T12:45:50.737Z"
   },
   {
    "duration": 0,
    "start_time": "2022-09-06T12:45:50.840Z"
   },
   {
    "duration": 9,
    "start_time": "2022-09-06T12:46:00.087Z"
   },
   {
    "duration": 5,
    "start_time": "2022-09-06T12:46:14.437Z"
   },
   {
    "duration": 8,
    "start_time": "2022-09-06T12:46:21.486Z"
   },
   {
    "duration": 4,
    "start_time": "2022-09-06T12:46:21.898Z"
   },
   {
    "duration": 14,
    "start_time": "2022-09-06T12:46:27.533Z"
   },
   {
    "duration": 8,
    "start_time": "2022-09-06T12:46:36.329Z"
   },
   {
    "duration": 5,
    "start_time": "2022-09-06T12:46:36.914Z"
   },
   {
    "duration": 5,
    "start_time": "2022-09-06T12:46:45.670Z"
   },
   {
    "duration": 531,
    "start_time": "2022-09-06T12:47:39.138Z"
   },
   {
    "duration": 53333,
    "start_time": "2022-09-06T12:48:03.691Z"
   },
   {
    "duration": 4,
    "start_time": "2022-09-06T12:49:04.713Z"
   },
   {
    "duration": 62081,
    "start_time": "2022-09-06T12:49:19.248Z"
   },
   {
    "duration": 3,
    "start_time": "2022-09-06T12:51:21.012Z"
   },
   {
    "duration": 62159,
    "start_time": "2022-09-06T12:52:22.330Z"
   },
   {
    "duration": 3,
    "start_time": "2022-09-06T12:53:24.490Z"
   },
   {
    "duration": 9,
    "start_time": "2022-09-06T12:53:42.714Z"
   },
   {
    "duration": 3,
    "start_time": "2022-09-06T12:53:54.224Z"
   },
   {
    "duration": 21,
    "start_time": "2022-09-06T12:53:57.514Z"
   },
   {
    "duration": 3,
    "start_time": "2022-09-06T12:54:07.022Z"
   },
   {
    "duration": 17,
    "start_time": "2022-09-06T12:54:10.543Z"
   },
   {
    "duration": 15,
    "start_time": "2022-09-06T12:55:20.214Z"
   },
   {
    "duration": 512,
    "start_time": "2022-09-06T12:56:30.124Z"
   },
   {
    "duration": 623,
    "start_time": "2022-09-06T12:57:12.588Z"
   },
   {
    "duration": 522,
    "start_time": "2022-09-06T12:57:20.651Z"
   },
   {
    "duration": 53880,
    "start_time": "2022-09-06T12:58:33.289Z"
   },
   {
    "duration": 3,
    "start_time": "2022-09-06T12:59:27.171Z"
   },
   {
    "duration": 44,
    "start_time": "2022-09-06T13:00:00.411Z"
   },
   {
    "duration": 17,
    "start_time": "2022-09-06T13:00:05.838Z"
   },
   {
    "duration": 3,
    "start_time": "2022-09-06T13:01:00.229Z"
   },
   {
    "duration": 412,
    "start_time": "2022-09-06T13:01:13.651Z"
   },
   {
    "duration": 4,
    "start_time": "2022-09-06T15:42:40.909Z"
   },
   {
    "duration": 3,
    "start_time": "2022-09-06T15:42:54.859Z"
   },
   {
    "duration": 20,
    "start_time": "2022-09-06T15:43:11.357Z"
   },
   {
    "duration": 4,
    "start_time": "2022-09-06T15:44:02.383Z"
   },
   {
    "duration": 21,
    "start_time": "2022-09-06T15:44:32.832Z"
   },
   {
    "duration": 21,
    "start_time": "2022-09-06T15:44:53.011Z"
   },
   {
    "duration": 20,
    "start_time": "2022-09-06T15:44:59.119Z"
   },
   {
    "duration": 21,
    "start_time": "2022-09-06T15:45:09.135Z"
   },
   {
    "duration": 21,
    "start_time": "2022-09-06T15:45:15.191Z"
   },
   {
    "duration": 3,
    "start_time": "2022-09-06T15:49:05.128Z"
   },
   {
    "duration": 2,
    "start_time": "2022-09-06T15:49:05.543Z"
   },
   {
    "duration": 398,
    "start_time": "2022-09-06T15:49:11.288Z"
   },
   {
    "duration": 422,
    "start_time": "2022-09-06T15:49:30.295Z"
   },
   {
    "duration": 418,
    "start_time": "2022-09-06T15:49:41.863Z"
   },
   {
    "duration": 424,
    "start_time": "2022-09-06T15:49:55.783Z"
   },
   {
    "duration": 27,
    "start_time": "2022-09-06T15:50:23.959Z"
   },
   {
    "duration": 415,
    "start_time": "2022-09-06T15:51:06.768Z"
   },
   {
    "duration": 420,
    "start_time": "2022-09-06T15:51:26.367Z"
   },
   {
    "duration": 3,
    "start_time": "2022-09-06T15:51:37.388Z"
   },
   {
    "duration": 414,
    "start_time": "2022-09-06T15:51:42.131Z"
   },
   {
    "duration": 3,
    "start_time": "2022-09-06T15:51:50.459Z"
   },
   {
    "duration": 418,
    "start_time": "2022-09-06T15:51:57.283Z"
   },
   {
    "duration": 423,
    "start_time": "2022-09-06T15:52:05.690Z"
   },
   {
    "duration": 408,
    "start_time": "2022-09-06T15:52:12.530Z"
   },
   {
    "duration": 21,
    "start_time": "2022-09-06T15:53:42.528Z"
   },
   {
    "duration": 21,
    "start_time": "2022-09-06T15:53:49.584Z"
   },
   {
    "duration": 21,
    "start_time": "2022-09-06T15:53:59.421Z"
   },
   {
    "duration": 21,
    "start_time": "2022-09-06T15:54:24.599Z"
   },
   {
    "duration": 22,
    "start_time": "2022-09-06T15:54:41.445Z"
   },
   {
    "duration": 23,
    "start_time": "2022-09-06T15:55:35.580Z"
   },
   {
    "duration": 27,
    "start_time": "2022-09-06T15:55:46.278Z"
   },
   {
    "duration": 22,
    "start_time": "2022-09-06T15:55:52.340Z"
   },
   {
    "duration": 27,
    "start_time": "2022-09-06T15:56:22.180Z"
   },
   {
    "duration": 21,
    "start_time": "2022-09-06T15:57:34.538Z"
   },
   {
    "duration": 4,
    "start_time": "2022-09-06T15:59:27.229Z"
   },
   {
    "duration": 8,
    "start_time": "2022-09-06T15:59:31.212Z"
   },
   {
    "duration": 10,
    "start_time": "2022-09-06T15:59:54.837Z"
   },
   {
    "duration": 18,
    "start_time": "2022-09-06T16:00:14.111Z"
   },
   {
    "duration": 16,
    "start_time": "2022-09-06T16:00:23.483Z"
   },
   {
    "duration": 21,
    "start_time": "2022-09-06T16:00:28.093Z"
   },
   {
    "duration": 22,
    "start_time": "2022-09-06T16:00:40.379Z"
   },
   {
    "duration": 22,
    "start_time": "2022-09-06T16:02:26.024Z"
   },
   {
    "duration": 14,
    "start_time": "2022-09-06T16:02:30.985Z"
   },
   {
    "duration": 14,
    "start_time": "2022-09-06T16:03:45.126Z"
   },
   {
    "duration": 14,
    "start_time": "2022-09-06T16:04:01.774Z"
   },
   {
    "duration": 15,
    "start_time": "2022-09-06T16:04:30.357Z"
   },
   {
    "duration": 1278,
    "start_time": "2022-09-06T16:08:19.238Z"
   },
   {
    "duration": 3,
    "start_time": "2022-09-06T16:08:29.725Z"
   },
   {
    "duration": 19,
    "start_time": "2022-09-06T16:08:37.822Z"
   },
   {
    "duration": 11,
    "start_time": "2022-09-06T16:08:47.285Z"
   },
   {
    "duration": 3,
    "start_time": "2022-09-06T16:08:51.609Z"
   },
   {
    "duration": 10,
    "start_time": "2022-09-06T16:08:58.468Z"
   },
   {
    "duration": 3,
    "start_time": "2022-09-06T16:08:59.764Z"
   },
   {
    "duration": 1279,
    "start_time": "2022-09-06T16:09:04.304Z"
   },
   {
    "duration": 3,
    "start_time": "2022-09-06T16:09:05.972Z"
   },
   {
    "duration": 1282,
    "start_time": "2022-09-06T16:09:10.851Z"
   },
   {
    "duration": 3,
    "start_time": "2022-09-06T16:09:12.883Z"
   },
   {
    "duration": 1324,
    "start_time": "2022-09-06T16:09:38.691Z"
   },
   {
    "duration": 3,
    "start_time": "2022-09-06T16:09:41.124Z"
   },
   {
    "duration": 1280,
    "start_time": "2022-09-06T16:09:50.131Z"
   },
   {
    "duration": 3,
    "start_time": "2022-09-06T16:09:53.915Z"
   },
   {
    "duration": 1339,
    "start_time": "2022-09-06T16:10:02.315Z"
   },
   {
    "duration": 3,
    "start_time": "2022-09-06T16:10:05.122Z"
   },
   {
    "duration": 1318,
    "start_time": "2022-09-06T16:10:38.755Z"
   },
   {
    "duration": 3,
    "start_time": "2022-09-06T16:10:41.161Z"
   },
   {
    "duration": 1270,
    "start_time": "2022-09-06T16:10:47.145Z"
   },
   {
    "duration": 3,
    "start_time": "2022-09-06T16:10:48.417Z"
   },
   {
    "duration": 3,
    "start_time": "2022-09-06T16:10:51.169Z"
   },
   {
    "duration": 1299,
    "start_time": "2022-09-06T16:10:55.137Z"
   },
   {
    "duration": 3,
    "start_time": "2022-09-06T16:10:56.439Z"
   },
   {
    "duration": 2,
    "start_time": "2022-09-06T16:10:58.680Z"
   },
   {
    "duration": 1315,
    "start_time": "2022-09-06T16:11:03.016Z"
   },
   {
    "duration": 7,
    "start_time": "2022-09-06T16:11:04.333Z"
   },
   {
    "duration": 1344,
    "start_time": "2022-09-06T16:11:07.378Z"
   },
   {
    "duration": 4,
    "start_time": "2022-09-06T16:11:08.736Z"
   },
   {
    "duration": 23,
    "start_time": "2022-09-06T16:15:04.546Z"
   },
   {
    "duration": 1269,
    "start_time": "2022-09-06T16:15:32.313Z"
   },
   {
    "duration": 3,
    "start_time": "2022-09-06T16:15:37.048Z"
   },
   {
    "duration": 4,
    "start_time": "2022-09-06T16:15:53.968Z"
   },
   {
    "duration": 3,
    "start_time": "2022-09-06T16:16:04.992Z"
   },
   {
    "duration": 13685,
    "start_time": "2022-09-06T16:16:22.079Z"
   },
   {
    "duration": 3,
    "start_time": "2022-09-06T16:17:23.294Z"
   },
   {
    "duration": 13735,
    "start_time": "2022-09-06T16:20:16.280Z"
   },
   {
    "duration": 14466,
    "start_time": "2022-09-06T16:20:51.615Z"
   },
   {
    "duration": 3,
    "start_time": "2022-09-06T16:21:06.083Z"
   },
   {
    "duration": 15067,
    "start_time": "2022-09-06T16:21:06.088Z"
   },
   {
    "duration": 4,
    "start_time": "2022-09-06T16:21:21.156Z"
   },
   {
    "duration": 14334,
    "start_time": "2022-09-06T16:22:15.681Z"
   },
   {
    "duration": 4,
    "start_time": "2022-09-06T16:22:30.017Z"
   },
   {
    "duration": 3,
    "start_time": "2022-09-06T16:22:39.883Z"
   },
   {
    "duration": 1058,
    "start_time": "2022-09-06T16:22:50.670Z"
   },
   {
    "duration": 31,
    "start_time": "2022-09-06T16:22:51.730Z"
   },
   {
    "duration": 15,
    "start_time": "2022-09-06T16:22:51.763Z"
   },
   {
    "duration": 4,
    "start_time": "2022-09-06T16:22:51.779Z"
   },
   {
    "duration": 7,
    "start_time": "2022-09-06T16:22:51.784Z"
   },
   {
    "duration": 6,
    "start_time": "2022-09-06T16:22:51.792Z"
   },
   {
    "duration": 9,
    "start_time": "2022-09-06T16:22:51.799Z"
   },
   {
    "duration": 5,
    "start_time": "2022-09-06T16:22:51.810Z"
   },
   {
    "duration": 109,
    "start_time": "2022-09-06T16:22:51.816Z"
   },
   {
    "duration": 0,
    "start_time": "2022-09-06T16:22:51.926Z"
   },
   {
    "duration": 0,
    "start_time": "2022-09-06T16:22:51.927Z"
   },
   {
    "duration": 0,
    "start_time": "2022-09-06T16:22:51.929Z"
   },
   {
    "duration": 14562,
    "start_time": "2022-09-06T16:23:18.891Z"
   },
   {
    "duration": 3,
    "start_time": "2022-09-06T16:23:33.455Z"
   },
   {
    "duration": 14820,
    "start_time": "2022-09-06T16:23:33.481Z"
   },
   {
    "duration": 3,
    "start_time": "2022-09-06T16:23:48.303Z"
   },
   {
    "duration": 4,
    "start_time": "2022-09-06T16:25:58.351Z"
   },
   {
    "duration": 48146,
    "start_time": "2022-09-06T16:28:39.876Z"
   },
   {
    "duration": 3,
    "start_time": "2022-09-06T16:29:28.024Z"
   },
   {
    "duration": 304,
    "start_time": "2022-09-06T16:34:09.158Z"
   },
   {
    "duration": 3,
    "start_time": "2022-09-06T16:34:14.383Z"
   },
   {
    "duration": 305,
    "start_time": "2022-09-06T16:34:33.134Z"
   },
   {
    "duration": 3,
    "start_time": "2022-09-06T16:34:36.750Z"
   },
   {
    "duration": 48570,
    "start_time": "2022-09-06T16:35:52.356Z"
   },
   {
    "duration": 3,
    "start_time": "2022-09-06T16:36:40.928Z"
   },
   {
    "duration": 1107,
    "start_time": "2022-09-06T16:37:23.022Z"
   },
   {
    "duration": 30,
    "start_time": "2022-09-06T16:37:24.131Z"
   },
   {
    "duration": 15,
    "start_time": "2022-09-06T16:37:24.164Z"
   },
   {
    "duration": 4,
    "start_time": "2022-09-06T16:37:24.181Z"
   },
   {
    "duration": 7,
    "start_time": "2022-09-06T16:37:24.187Z"
   },
   {
    "duration": 6,
    "start_time": "2022-09-06T16:37:24.195Z"
   },
   {
    "duration": 10,
    "start_time": "2022-09-06T16:37:24.203Z"
   },
   {
    "duration": 4,
    "start_time": "2022-09-06T16:37:24.214Z"
   },
   {
    "duration": 14106,
    "start_time": "2022-09-06T16:37:24.220Z"
   },
   {
    "duration": 4,
    "start_time": "2022-09-06T16:37:38.329Z"
   },
   {
    "duration": 14540,
    "start_time": "2022-09-06T16:37:38.338Z"
   },
   {
    "duration": 4,
    "start_time": "2022-09-06T16:37:52.880Z"
   },
   {
    "duration": 47625,
    "start_time": "2022-09-06T16:37:52.885Z"
   },
   {
    "duration": 3,
    "start_time": "2022-09-06T16:38:40.512Z"
   },
   {
    "duration": 47620,
    "start_time": "2022-09-06T16:38:40.516Z"
   },
   {
    "duration": 10,
    "start_time": "2022-09-06T16:39:28.140Z"
   },
   {
    "duration": 296,
    "start_time": "2022-09-06T16:39:28.152Z"
   },
   {
    "duration": 106,
    "start_time": "2022-09-06T16:39:28.449Z"
   },
   {
    "duration": 491,
    "start_time": "2022-09-06T16:39:28.557Z"
   },
   {
    "duration": 4,
    "start_time": "2022-09-06T16:39:29.050Z"
   },
   {
    "duration": 100,
    "start_time": "2022-09-06T16:44:06.354Z"
   },
   {
    "duration": 5,
    "start_time": "2022-09-06T16:47:05.621Z"
   },
   {
    "duration": 3,
    "start_time": "2022-09-06T17:01:56.710Z"
   },
   {
    "duration": 5,
    "start_time": "2022-09-06T17:02:10.680Z"
   },
   {
    "duration": 4,
    "start_time": "2022-09-06T17:02:47.265Z"
   },
   {
    "duration": 3,
    "start_time": "2022-09-06T17:03:12.392Z"
   },
   {
    "duration": 1061,
    "start_time": "2022-09-06T17:05:50.287Z"
   },
   {
    "duration": 32,
    "start_time": "2022-09-06T17:05:51.350Z"
   },
   {
    "duration": 15,
    "start_time": "2022-09-06T17:05:51.383Z"
   },
   {
    "duration": 5,
    "start_time": "2022-09-06T17:05:51.399Z"
   },
   {
    "duration": 5,
    "start_time": "2022-09-06T17:05:51.406Z"
   },
   {
    "duration": 9,
    "start_time": "2022-09-06T17:05:51.412Z"
   },
   {
    "duration": 7,
    "start_time": "2022-09-06T17:05:51.422Z"
   },
   {
    "duration": 25,
    "start_time": "2022-09-06T17:05:51.430Z"
   },
   {
    "duration": 4,
    "start_time": "2022-09-06T17:05:51.456Z"
   },
   {
    "duration": 15006,
    "start_time": "2022-09-06T17:05:51.462Z"
   },
   {
    "duration": 3,
    "start_time": "2022-09-06T17:06:06.470Z"
   },
   {
    "duration": 1427,
    "start_time": "2022-09-06T17:06:06.474Z"
   },
   {
    "duration": 3,
    "start_time": "2022-09-06T17:06:07.903Z"
   },
   {
    "duration": 48572,
    "start_time": "2022-09-06T17:06:07.908Z"
   },
   {
    "duration": 3,
    "start_time": "2022-09-06T17:06:56.482Z"
   },
   {
    "duration": 49157,
    "start_time": "2022-09-06T17:06:56.486Z"
   },
   {
    "duration": 5,
    "start_time": "2022-09-06T17:07:45.645Z"
   },
   {
    "duration": 1297,
    "start_time": "2022-09-06T17:07:45.653Z"
   },
   {
    "duration": 5,
    "start_time": "2022-09-06T17:07:46.955Z"
   },
   {
    "duration": 604,
    "start_time": "2022-09-06T17:07:47.039Z"
   },
   {
    "duration": 4,
    "start_time": "2022-09-06T17:07:47.645Z"
   },
   {
    "duration": 3,
    "start_time": "2022-09-06T17:11:19.913Z"
   },
   {
    "duration": 5,
    "start_time": "2022-09-06T17:11:20.910Z"
   },
   {
    "duration": 1013,
    "start_time": "2022-09-06T17:11:25.793Z"
   },
   {
    "duration": 30,
    "start_time": "2022-09-06T17:11:26.808Z"
   },
   {
    "duration": 21,
    "start_time": "2022-09-06T17:11:26.848Z"
   },
   {
    "duration": 4,
    "start_time": "2022-09-06T17:11:26.871Z"
   },
   {
    "duration": 10,
    "start_time": "2022-09-06T17:11:26.877Z"
   },
   {
    "duration": 7,
    "start_time": "2022-09-06T17:11:26.889Z"
   },
   {
    "duration": 13,
    "start_time": "2022-09-06T17:11:26.898Z"
   },
   {
    "duration": 5,
    "start_time": "2022-09-06T17:11:26.913Z"
   },
   {
    "duration": 1126,
    "start_time": "2022-09-06T17:11:35.729Z"
   },
   {
    "duration": 31,
    "start_time": "2022-09-06T17:11:36.859Z"
   },
   {
    "duration": 17,
    "start_time": "2022-09-06T17:11:36.891Z"
   },
   {
    "duration": 16,
    "start_time": "2022-09-06T17:11:36.910Z"
   },
   {
    "duration": 27,
    "start_time": "2022-09-06T17:11:36.928Z"
   },
   {
    "duration": 15,
    "start_time": "2022-09-06T17:11:36.957Z"
   },
   {
    "duration": 17,
    "start_time": "2022-09-06T17:11:36.974Z"
   },
   {
    "duration": 18,
    "start_time": "2022-09-06T17:11:36.993Z"
   },
   {
    "duration": 13946,
    "start_time": "2022-09-06T17:11:37.013Z"
   },
   {
    "duration": 3,
    "start_time": "2022-09-06T17:11:50.962Z"
   },
   {
    "duration": 1413,
    "start_time": "2022-09-06T17:11:50.967Z"
   },
   {
    "duration": 4,
    "start_time": "2022-09-06T17:11:52.381Z"
   },
   {
    "duration": 48069,
    "start_time": "2022-09-06T17:11:52.386Z"
   },
   {
    "duration": 3,
    "start_time": "2022-09-06T17:12:40.457Z"
   },
   {
    "duration": 48090,
    "start_time": "2022-09-06T17:12:40.462Z"
   },
   {
    "duration": 3,
    "start_time": "2022-09-06T17:13:28.554Z"
   },
   {
    "duration": 386,
    "start_time": "2022-09-06T17:13:28.558Z"
   },
   {
    "duration": 103,
    "start_time": "2022-09-06T17:13:28.946Z"
   },
   {
    "duration": 1282,
    "start_time": "2022-09-06T17:13:29.057Z"
   },
   {
    "duration": 4,
    "start_time": "2022-09-06T17:13:30.341Z"
   },
   {
    "duration": 6,
    "start_time": "2022-09-06T17:14:43.350Z"
   },
   {
    "duration": 3,
    "start_time": "2022-09-06T17:14:59.178Z"
   },
   {
    "duration": 3,
    "start_time": "2022-09-06T17:15:07.869Z"
   },
   {
    "duration": 5,
    "start_time": "2022-09-06T17:15:50.293Z"
   },
   {
    "duration": 7,
    "start_time": "2022-09-06T17:15:56.853Z"
   },
   {
    "duration": 5,
    "start_time": "2022-09-06T17:15:58.649Z"
   },
   {
    "duration": 449,
    "start_time": "2022-09-06T17:18:37.839Z"
   },
   {
    "duration": 11,
    "start_time": "2022-09-06T17:19:56.024Z"
   },
   {
    "duration": 9,
    "start_time": "2022-09-06T17:20:02.976Z"
   },
   {
    "duration": 4,
    "start_time": "2022-09-06T17:20:06.725Z"
   },
   {
    "duration": 7,
    "start_time": "2022-09-06T17:22:00.827Z"
   },
   {
    "duration": 4,
    "start_time": "2022-09-06T17:22:01.497Z"
   },
   {
    "duration": 372,
    "start_time": "2022-09-06T17:22:32.818Z"
   },
   {
    "duration": 364,
    "start_time": "2022-09-06T17:23:08.124Z"
   },
   {
    "duration": 4,
    "start_time": "2022-09-06T17:23:58.625Z"
   },
   {
    "duration": 5,
    "start_time": "2022-09-06T17:24:27.886Z"
   },
   {
    "duration": 3,
    "start_time": "2022-09-06T17:30:43.883Z"
   },
   {
    "duration": 3,
    "start_time": "2022-09-06T17:31:14.125Z"
   },
   {
    "duration": 5,
    "start_time": "2022-09-06T17:32:29.254Z"
   },
   {
    "duration": 5,
    "start_time": "2022-09-06T17:32:40.544Z"
   },
   {
    "duration": 21,
    "start_time": "2022-09-06T17:37:10.354Z"
   },
   {
    "duration": 1050,
    "start_time": "2022-09-06T18:57:45.368Z"
   },
   {
    "duration": 121,
    "start_time": "2022-09-06T18:57:46.420Z"
   },
   {
    "duration": 18,
    "start_time": "2022-09-06T18:57:46.542Z"
   },
   {
    "duration": 5,
    "start_time": "2022-09-06T18:57:46.562Z"
   },
   {
    "duration": 5,
    "start_time": "2022-09-06T18:57:46.569Z"
   },
   {
    "duration": 6,
    "start_time": "2022-09-06T18:57:46.575Z"
   },
   {
    "duration": 10,
    "start_time": "2022-09-06T18:57:46.582Z"
   },
   {
    "duration": 5,
    "start_time": "2022-09-06T18:57:46.594Z"
   },
   {
    "duration": 13957,
    "start_time": "2022-09-06T18:57:46.600Z"
   },
   {
    "duration": 3,
    "start_time": "2022-09-06T18:58:00.559Z"
   },
   {
    "duration": 1521,
    "start_time": "2022-09-06T18:58:00.564Z"
   },
   {
    "duration": 3,
    "start_time": "2022-09-06T18:58:02.087Z"
   },
   {
    "duration": 48250,
    "start_time": "2022-09-06T18:58:02.092Z"
   },
   {
    "duration": 3,
    "start_time": "2022-09-06T18:58:50.345Z"
   },
   {
    "duration": 48106,
    "start_time": "2022-09-06T18:58:50.350Z"
   },
   {
    "duration": 4,
    "start_time": "2022-09-06T18:59:38.457Z"
   },
   {
    "duration": 159,
    "start_time": "2022-09-06T18:59:38.462Z"
   },
   {
    "duration": 103,
    "start_time": "2022-09-06T18:59:38.711Z"
   },
   {
    "duration": 500,
    "start_time": "2022-09-06T18:59:38.816Z"
   },
   {
    "duration": 92,
    "start_time": "2022-09-06T18:59:39.318Z"
   },
   {
    "duration": 398,
    "start_time": "2022-09-06T18:59:39.412Z"
   },
   {
    "duration": 5,
    "start_time": "2022-09-06T18:59:39.812Z"
   },
   {
    "duration": 29,
    "start_time": "2022-09-06T18:59:39.819Z"
   },
   {
    "duration": 60,
    "start_time": "2022-09-27T12:34:56.436Z"
   },
   {
    "duration": 1251,
    "start_time": "2022-09-27T12:35:00.805Z"
   },
   {
    "duration": 112,
    "start_time": "2022-09-27T12:35:02.058Z"
   },
   {
    "duration": 18,
    "start_time": "2022-09-27T12:35:02.172Z"
   },
   {
    "duration": 63,
    "start_time": "2022-09-27T12:35:02.193Z"
   },
   {
    "duration": 135,
    "start_time": "2022-09-27T12:35:02.258Z"
   },
   {
    "duration": 0,
    "start_time": "2022-09-27T12:35:02.400Z"
   },
   {
    "duration": 0,
    "start_time": "2022-09-27T12:35:02.401Z"
   },
   {
    "duration": 0,
    "start_time": "2022-09-27T12:35:02.403Z"
   },
   {
    "duration": 0,
    "start_time": "2022-09-27T12:35:02.404Z"
   },
   {
    "duration": 0,
    "start_time": "2022-09-27T12:35:02.406Z"
   },
   {
    "duration": 0,
    "start_time": "2022-09-27T12:35:02.407Z"
   },
   {
    "duration": 0,
    "start_time": "2022-09-27T12:35:02.408Z"
   },
   {
    "duration": 0,
    "start_time": "2022-09-27T12:35:02.410Z"
   },
   {
    "duration": 0,
    "start_time": "2022-09-27T12:35:02.411Z"
   },
   {
    "duration": 0,
    "start_time": "2022-09-27T12:35:02.412Z"
   },
   {
    "duration": 0,
    "start_time": "2022-09-27T12:35:02.413Z"
   },
   {
    "duration": 0,
    "start_time": "2022-09-27T12:35:02.414Z"
   },
   {
    "duration": 0,
    "start_time": "2022-09-27T12:35:02.415Z"
   },
   {
    "duration": 0,
    "start_time": "2022-09-27T12:35:02.415Z"
   },
   {
    "duration": 0,
    "start_time": "2022-09-27T12:35:02.417Z"
   },
   {
    "duration": 0,
    "start_time": "2022-09-27T12:35:02.418Z"
   },
   {
    "duration": 0,
    "start_time": "2022-09-27T12:35:02.419Z"
   },
   {
    "duration": 0,
    "start_time": "2022-09-27T12:35:02.421Z"
   },
   {
    "duration": 0,
    "start_time": "2022-09-27T12:35:02.422Z"
   },
   {
    "duration": 8,
    "start_time": "2022-09-27T12:35:35.832Z"
   },
   {
    "duration": 5,
    "start_time": "2022-09-27T12:36:28.054Z"
   },
   {
    "duration": 13,
    "start_time": "2022-09-27T12:43:42.712Z"
   },
   {
    "duration": 1061,
    "start_time": "2022-09-27T12:44:47.681Z"
   },
   {
    "duration": 28,
    "start_time": "2022-09-27T12:44:48.744Z"
   },
   {
    "duration": 14,
    "start_time": "2022-09-27T12:44:48.774Z"
   },
   {
    "duration": 8,
    "start_time": "2022-09-27T12:44:48.790Z"
   },
   {
    "duration": 25,
    "start_time": "2022-09-27T12:44:48.800Z"
   },
   {
    "duration": 8,
    "start_time": "2022-09-27T12:44:48.826Z"
   },
   {
    "duration": 4,
    "start_time": "2022-09-27T12:44:48.835Z"
   },
   {
    "duration": 6,
    "start_time": "2022-09-27T12:44:48.840Z"
   },
   {
    "duration": 7,
    "start_time": "2022-09-27T12:44:48.847Z"
   },
   {
    "duration": 95,
    "start_time": "2022-09-27T12:44:48.856Z"
   },
   {
    "duration": 0,
    "start_time": "2022-09-27T12:44:48.953Z"
   },
   {
    "duration": 0,
    "start_time": "2022-09-27T12:44:48.955Z"
   },
   {
    "duration": 0,
    "start_time": "2022-09-27T12:44:48.956Z"
   },
   {
    "duration": 0,
    "start_time": "2022-09-27T12:44:48.957Z"
   },
   {
    "duration": 0,
    "start_time": "2022-09-27T12:44:48.959Z"
   },
   {
    "duration": 0,
    "start_time": "2022-09-27T12:44:48.961Z"
   },
   {
    "duration": 0,
    "start_time": "2022-09-27T12:44:48.962Z"
   },
   {
    "duration": 0,
    "start_time": "2022-09-27T12:44:48.963Z"
   },
   {
    "duration": 0,
    "start_time": "2022-09-27T12:44:48.965Z"
   },
   {
    "duration": 0,
    "start_time": "2022-09-27T12:44:48.966Z"
   },
   {
    "duration": 0,
    "start_time": "2022-09-27T12:44:48.968Z"
   },
   {
    "duration": 0,
    "start_time": "2022-09-27T12:44:48.969Z"
   },
   {
    "duration": 0,
    "start_time": "2022-09-27T12:44:48.970Z"
   },
   {
    "duration": 0,
    "start_time": "2022-09-27T12:44:48.972Z"
   },
   {
    "duration": 1104,
    "start_time": "2022-09-27T12:46:34.119Z"
   },
   {
    "duration": 29,
    "start_time": "2022-09-27T12:46:35.225Z"
   },
   {
    "duration": 16,
    "start_time": "2022-09-27T12:46:35.256Z"
   },
   {
    "duration": 9,
    "start_time": "2022-09-27T12:46:35.274Z"
   },
   {
    "duration": 39,
    "start_time": "2022-09-27T12:46:35.284Z"
   },
   {
    "duration": 17,
    "start_time": "2022-09-27T12:46:35.325Z"
   },
   {
    "duration": 18,
    "start_time": "2022-09-27T12:46:35.344Z"
   },
   {
    "duration": 9,
    "start_time": "2022-09-27T12:46:35.364Z"
   },
   {
    "duration": 6,
    "start_time": "2022-09-27T12:46:35.375Z"
   },
   {
    "duration": 11245,
    "start_time": "2022-09-27T12:46:35.384Z"
   },
   {
    "duration": 4,
    "start_time": "2022-09-27T12:46:46.630Z"
   },
   {
    "duration": 1014,
    "start_time": "2022-09-27T12:46:46.635Z"
   },
   {
    "duration": 4,
    "start_time": "2022-09-27T12:46:47.650Z"
   },
   {
    "duration": 34416,
    "start_time": "2022-09-27T12:46:47.656Z"
   },
   {
    "duration": 3,
    "start_time": "2022-09-27T12:47:22.073Z"
   },
   {
    "duration": 33635,
    "start_time": "2022-09-27T12:47:22.077Z"
   },
   {
    "duration": 3,
    "start_time": "2022-09-27T12:47:55.713Z"
   },
   {
    "duration": 43,
    "start_time": "2022-09-27T12:47:55.719Z"
   },
   {
    "duration": 3,
    "start_time": "2022-09-27T12:47:55.763Z"
   },
   {
    "duration": 112,
    "start_time": "2022-09-27T12:47:55.767Z"
   },
   {
    "duration": 0,
    "start_time": "2022-09-27T12:47:55.881Z"
   },
   {
    "duration": 0,
    "start_time": "2022-09-27T12:47:55.882Z"
   },
   {
    "duration": 0,
    "start_time": "2022-09-27T12:47:55.883Z"
   },
   {
    "duration": 0,
    "start_time": "2022-09-27T12:47:55.883Z"
   },
   {
    "duration": 24,
    "start_time": "2022-09-27T12:48:46.742Z"
   },
   {
    "duration": 3,
    "start_time": "2022-09-27T12:48:49.483Z"
   },
   {
    "duration": 296,
    "start_time": "2022-09-27T12:48:52.372Z"
   },
   {
    "duration": 5,
    "start_time": "2022-09-27T12:48:53.163Z"
   },
   {
    "duration": 20,
    "start_time": "2022-09-27T12:48:59.830Z"
   },
   {
    "duration": 1074,
    "start_time": "2022-09-27T12:53:41.082Z"
   },
   {
    "duration": 28,
    "start_time": "2022-09-27T12:53:42.158Z"
   },
   {
    "duration": 15,
    "start_time": "2022-09-27T12:53:42.188Z"
   },
   {
    "duration": 24,
    "start_time": "2022-09-27T12:53:42.206Z"
   },
   {
    "duration": 8,
    "start_time": "2022-09-27T12:53:42.232Z"
   },
   {
    "duration": 6,
    "start_time": "2022-09-27T12:53:42.242Z"
   },
   {
    "duration": 10,
    "start_time": "2022-09-27T12:53:42.249Z"
   },
   {
    "duration": 4,
    "start_time": "2022-09-27T12:53:42.260Z"
   },
   {
    "duration": 7,
    "start_time": "2022-09-27T12:53:42.266Z"
   },
   {
    "duration": 7,
    "start_time": "2022-09-27T12:53:42.275Z"
   },
   {
    "duration": 11203,
    "start_time": "2022-09-27T12:53:42.283Z"
   },
   {
    "duration": 3,
    "start_time": "2022-09-27T12:53:53.487Z"
   },
   {
    "duration": 1108,
    "start_time": "2022-09-27T12:53:53.492Z"
   },
   {
    "duration": 4,
    "start_time": "2022-09-27T12:53:54.601Z"
   },
   {
    "duration": 34733,
    "start_time": "2022-09-27T12:53:54.615Z"
   },
   {
    "duration": 3,
    "start_time": "2022-09-27T12:54:29.349Z"
   },
   {
    "duration": 1715194,
    "start_time": "2022-09-27T12:54:29.354Z"
   },
   {
    "duration": 5,
    "start_time": "2022-09-27T13:23:04.550Z"
   },
   {
    "duration": 60,
    "start_time": "2022-09-27T13:23:04.556Z"
   },
   {
    "duration": 4,
    "start_time": "2022-09-27T13:23:04.618Z"
   },
   {
    "duration": 35,
    "start_time": "2022-09-27T13:23:04.624Z"
   },
   {
    "duration": 3,
    "start_time": "2022-09-27T13:23:04.660Z"
   },
   {
    "duration": 270,
    "start_time": "2022-09-27T13:23:04.664Z"
   },
   {
    "duration": 6,
    "start_time": "2022-09-27T13:23:04.935Z"
   },
   {
    "duration": 23,
    "start_time": "2022-09-27T13:23:04.942Z"
   },
   {
    "duration": 58,
    "start_time": "2022-09-27T13:31:59.766Z"
   },
   {
    "duration": 3,
    "start_time": "2022-09-27T13:32:09.082Z"
   },
   {
    "duration": 4,
    "start_time": "2022-09-27T13:32:38.240Z"
   },
   {
    "duration": 4,
    "start_time": "2022-09-27T13:32:43.271Z"
   },
   {
    "duration": 3,
    "start_time": "2022-09-27T13:32:51.032Z"
   },
   {
    "duration": 4,
    "start_time": "2022-09-27T13:37:54.012Z"
   },
   {
    "duration": 3,
    "start_time": "2022-09-27T13:37:59.536Z"
   },
   {
    "duration": 4,
    "start_time": "2022-09-27T13:38:24.966Z"
   },
   {
    "duration": 7,
    "start_time": "2022-09-27T13:43:29.814Z"
   },
   {
    "duration": 3,
    "start_time": "2022-09-27T13:43:30.294Z"
   },
   {
    "duration": 4,
    "start_time": "2022-09-27T13:44:41.924Z"
   },
   {
    "duration": 998,
    "start_time": "2022-09-27T13:44:50.161Z"
   },
   {
    "duration": 28,
    "start_time": "2022-09-27T13:44:51.161Z"
   },
   {
    "duration": 16,
    "start_time": "2022-09-27T13:44:51.191Z"
   },
   {
    "duration": 13,
    "start_time": "2022-09-27T13:44:51.209Z"
   },
   {
    "duration": 20,
    "start_time": "2022-09-27T13:44:51.224Z"
   },
   {
    "duration": 14,
    "start_time": "2022-09-27T13:44:51.246Z"
   },
   {
    "duration": 14,
    "start_time": "2022-09-27T13:44:51.261Z"
   },
   {
    "duration": 7,
    "start_time": "2022-09-27T13:44:51.277Z"
   },
   {
    "duration": 14,
    "start_time": "2022-09-27T13:44:51.285Z"
   },
   {
    "duration": 17,
    "start_time": "2022-09-27T13:44:51.301Z"
   },
   {
    "duration": 10997,
    "start_time": "2022-09-27T13:44:51.319Z"
   },
   {
    "duration": 4,
    "start_time": "2022-09-27T13:45:02.317Z"
   },
   {
    "duration": 1038,
    "start_time": "2022-09-27T13:45:02.323Z"
   },
   {
    "duration": 4,
    "start_time": "2022-09-27T13:45:03.362Z"
   },
   {
    "duration": 33114,
    "start_time": "2022-09-27T13:45:03.367Z"
   },
   {
    "duration": 2,
    "start_time": "2022-09-27T13:45:36.483Z"
   },
   {
    "duration": 143,
    "start_time": "2022-09-27T13:45:36.487Z"
   },
   {
    "duration": 3,
    "start_time": "2022-09-27T13:45:36.632Z"
   },
   {
    "duration": 30,
    "start_time": "2022-09-27T13:45:36.637Z"
   },
   {
    "duration": 2,
    "start_time": "2022-09-27T13:45:36.669Z"
   },
   {
    "duration": 28,
    "start_time": "2022-09-27T13:45:36.673Z"
   },
   {
    "duration": 3,
    "start_time": "2022-09-27T13:45:36.702Z"
   },
   {
    "duration": 251,
    "start_time": "2022-09-27T13:45:36.706Z"
   },
   {
    "duration": 255,
    "start_time": "2022-09-27T13:45:36.958Z"
   },
   {
    "duration": 6,
    "start_time": "2022-09-27T13:45:37.215Z"
   },
   {
    "duration": 19,
    "start_time": "2022-09-27T13:45:37.222Z"
   },
   {
    "duration": 33064,
    "start_time": "2022-09-27T13:46:47.486Z"
   },
   {
    "duration": 3,
    "start_time": "2022-09-27T13:47:20.552Z"
   },
   {
    "duration": 34,
    "start_time": "2022-09-27T13:47:53.451Z"
   },
   {
    "duration": 1153,
    "start_time": "2022-09-27T13:47:53.912Z"
   },
   {
    "duration": 47,
    "start_time": "2022-09-27T13:47:55.067Z"
   },
   {
    "duration": 4,
    "start_time": "2022-09-27T13:47:55.143Z"
   },
   {
    "duration": 257,
    "start_time": "2022-09-27T13:47:56.969Z"
   },
   {
    "duration": 284,
    "start_time": "2022-09-27T13:48:48.792Z"
   },
   {
    "duration": 5,
    "start_time": "2022-09-27T13:49:06.743Z"
   },
   {
    "duration": 276,
    "start_time": "2022-09-27T13:49:13.217Z"
   },
   {
    "duration": 6,
    "start_time": "2022-09-27T13:49:24.560Z"
   },
   {
    "duration": 12,
    "start_time": "2022-09-27T13:54:48.156Z"
   },
   {
    "duration": 12,
    "start_time": "2022-09-27T13:55:14.113Z"
   },
   {
    "duration": 4,
    "start_time": "2022-09-27T13:55:20.774Z"
   },
   {
    "duration": 7,
    "start_time": "2022-09-27T13:55:24.880Z"
   },
   {
    "duration": 10,
    "start_time": "2022-09-27T13:55:46.969Z"
   },
   {
    "duration": 3,
    "start_time": "2022-09-27T14:06:16.940Z"
   },
   {
    "duration": 264,
    "start_time": "2022-09-27T14:06:47.898Z"
   },
   {
    "duration": 3,
    "start_time": "2022-09-27T14:08:09.655Z"
   },
   {
    "duration": 5,
    "start_time": "2022-09-27T14:08:31.502Z"
   },
   {
    "duration": 49,
    "start_time": "2022-09-27T14:09:10.862Z"
   },
   {
    "duration": 5,
    "start_time": "2022-09-27T14:09:14.382Z"
   },
   {
    "duration": 9,
    "start_time": "2022-09-27T14:09:44.341Z"
   },
   {
    "duration": 6,
    "start_time": "2022-09-27T14:09:57.285Z"
   },
   {
    "duration": 105,
    "start_time": "2022-09-27T14:11:23.451Z"
   },
   {
    "duration": 6,
    "start_time": "2022-09-27T14:11:37.385Z"
   },
   {
    "duration": 8,
    "start_time": "2022-09-27T14:11:42.505Z"
   },
   {
    "duration": 5,
    "start_time": "2022-09-27T14:11:44.986Z"
   },
   {
    "duration": 6,
    "start_time": "2022-09-27T14:11:54.755Z"
   },
   {
    "duration": 1093,
    "start_time": "2022-09-27T14:14:16.084Z"
   },
   {
    "duration": 29,
    "start_time": "2022-09-27T14:14:17.179Z"
   },
   {
    "duration": 16,
    "start_time": "2022-09-27T14:14:17.210Z"
   },
   {
    "duration": 10,
    "start_time": "2022-09-27T14:14:17.228Z"
   },
   {
    "duration": 9,
    "start_time": "2022-09-27T14:14:17.239Z"
   },
   {
    "duration": 4,
    "start_time": "2022-09-27T14:14:17.249Z"
   },
   {
    "duration": 9,
    "start_time": "2022-09-27T14:14:17.254Z"
   },
   {
    "duration": 3,
    "start_time": "2022-09-27T14:14:17.264Z"
   },
   {
    "duration": 7,
    "start_time": "2022-09-27T14:14:17.268Z"
   },
   {
    "duration": 10,
    "start_time": "2022-09-27T14:14:17.277Z"
   },
   {
    "duration": 1520,
    "start_time": "2022-09-27T16:14:51.792Z"
   },
   {
    "duration": 123,
    "start_time": "2022-09-27T16:14:53.314Z"
   },
   {
    "duration": 17,
    "start_time": "2022-09-27T16:14:53.438Z"
   },
   {
    "duration": 20,
    "start_time": "2022-09-27T16:14:53.457Z"
   },
   {
    "duration": 10,
    "start_time": "2022-09-27T16:14:53.479Z"
   },
   {
    "duration": 18,
    "start_time": "2022-09-27T16:14:53.490Z"
   },
   {
    "duration": 16,
    "start_time": "2022-09-27T16:14:53.510Z"
   },
   {
    "duration": 24,
    "start_time": "2022-09-27T16:14:53.528Z"
   },
   {
    "duration": 21,
    "start_time": "2022-09-27T16:14:53.554Z"
   },
   {
    "duration": 10,
    "start_time": "2022-09-27T16:14:53.578Z"
   },
   {
    "duration": 12712,
    "start_time": "2022-09-27T16:14:53.590Z"
   },
   {
    "duration": 2,
    "start_time": "2022-09-27T16:15:06.304Z"
   },
   {
    "duration": 1149,
    "start_time": "2022-09-27T16:15:06.309Z"
   },
   {
    "duration": 2,
    "start_time": "2022-09-27T16:15:07.460Z"
   },
   {
    "duration": 36900,
    "start_time": "2022-09-27T16:15:07.464Z"
   },
   {
    "duration": 4,
    "start_time": "2022-09-27T16:15:44.365Z"
   },
   {
    "duration": 36221,
    "start_time": "2022-09-27T16:15:44.371Z"
   },
   {
    "duration": 4,
    "start_time": "2022-09-27T16:16:20.600Z"
   },
   {
    "duration": 40,
    "start_time": "2022-09-27T16:16:20.606Z"
   },
   {
    "duration": 4,
    "start_time": "2022-09-27T16:16:20.647Z"
   },
   {
    "duration": 25,
    "start_time": "2022-09-27T16:16:20.653Z"
   },
   {
    "duration": 3,
    "start_time": "2022-09-27T16:16:20.680Z"
   },
   {
    "duration": 305,
    "start_time": "2022-09-27T16:16:20.685Z"
   },
   {
    "duration": 2,
    "start_time": "2022-09-27T16:16:20.991Z"
   },
   {
    "duration": 16,
    "start_time": "2022-09-27T16:16:20.994Z"
   },
   {
    "duration": 5,
    "start_time": "2022-09-27T16:16:21.012Z"
   },
   {
    "duration": 9,
    "start_time": "2022-09-27T16:16:21.018Z"
   },
   {
    "duration": 5,
    "start_time": "2022-09-27T16:16:41.798Z"
   },
   {
    "duration": 4,
    "start_time": "2022-09-27T16:17:38.500Z"
   },
   {
    "duration": 4,
    "start_time": "2022-09-27T16:43:31.516Z"
   },
   {
    "duration": 37782,
    "start_time": "2022-09-27T16:43:47.957Z"
   },
   {
    "duration": 5,
    "start_time": "2022-09-27T16:44:34.123Z"
   },
   {
    "duration": 49,
    "start_time": "2022-09-27T17:14:10.382Z"
   },
   {
    "duration": 7,
    "start_time": "2022-09-27T17:15:02.888Z"
   },
   {
    "duration": 7,
    "start_time": "2022-09-27T17:15:19.178Z"
   },
   {
    "duration": 1031,
    "start_time": "2022-09-27T17:17:17.650Z"
   },
   {
    "duration": 114,
    "start_time": "2022-09-27T17:17:18.682Z"
   },
   {
    "duration": 18,
    "start_time": "2022-09-27T17:17:18.798Z"
   },
   {
    "duration": 27,
    "start_time": "2022-09-27T17:17:18.818Z"
   },
   {
    "duration": 26,
    "start_time": "2022-09-27T17:17:18.846Z"
   },
   {
    "duration": 24,
    "start_time": "2022-09-27T17:17:18.874Z"
   },
   {
    "duration": 6,
    "start_time": "2022-09-27T17:17:18.899Z"
   },
   {
    "duration": 6,
    "start_time": "2022-09-27T17:17:18.908Z"
   },
   {
    "duration": 6,
    "start_time": "2022-09-27T17:17:18.915Z"
   },
   {
    "duration": 4,
    "start_time": "2022-09-27T17:17:18.924Z"
   },
   {
    "duration": 13172,
    "start_time": "2022-09-27T17:17:18.930Z"
   },
   {
    "duration": 5,
    "start_time": "2022-09-27T17:17:32.104Z"
   },
   {
    "duration": 1225,
    "start_time": "2022-09-27T17:17:32.110Z"
   },
   {
    "duration": 3,
    "start_time": "2022-09-27T17:17:33.337Z"
   },
   {
    "duration": 101,
    "start_time": "2022-09-27T17:17:33.342Z"
   },
   {
    "duration": 0,
    "start_time": "2022-09-27T17:17:33.444Z"
   },
   {
    "duration": 0,
    "start_time": "2022-09-27T17:17:33.445Z"
   },
   {
    "duration": 0,
    "start_time": "2022-09-27T17:17:33.446Z"
   },
   {
    "duration": 0,
    "start_time": "2022-09-27T17:17:33.447Z"
   },
   {
    "duration": 0,
    "start_time": "2022-09-27T17:17:33.448Z"
   },
   {
    "duration": 0,
    "start_time": "2022-09-27T17:17:33.449Z"
   },
   {
    "duration": 0,
    "start_time": "2022-09-27T17:17:33.449Z"
   },
   {
    "duration": 0,
    "start_time": "2022-09-27T17:17:33.450Z"
   },
   {
    "duration": 0,
    "start_time": "2022-09-27T17:17:33.451Z"
   },
   {
    "duration": 0,
    "start_time": "2022-09-27T17:17:33.452Z"
   },
   {
    "duration": 0,
    "start_time": "2022-09-27T17:17:33.453Z"
   },
   {
    "duration": 0,
    "start_time": "2022-09-27T17:17:33.454Z"
   },
   {
    "duration": 40571,
    "start_time": "2022-09-27T17:17:55.597Z"
   },
   {
    "duration": 3,
    "start_time": "2022-09-27T17:18:36.170Z"
   },
   {
    "duration": 38251,
    "start_time": "2022-09-27T17:18:36.174Z"
   },
   {
    "duration": 4,
    "start_time": "2022-09-27T17:19:14.427Z"
   },
   {
    "duration": 34,
    "start_time": "2022-09-27T17:19:14.432Z"
   },
   {
    "duration": 4,
    "start_time": "2022-09-27T17:19:14.467Z"
   },
   {
    "duration": 22,
    "start_time": "2022-09-27T17:19:14.472Z"
   },
   {
    "duration": 123,
    "start_time": "2022-09-27T17:19:14.496Z"
   },
   {
    "duration": 0,
    "start_time": "2022-09-27T17:19:14.621Z"
   },
   {
    "duration": 3,
    "start_time": "2022-09-27T17:19:41.830Z"
   },
   {
    "duration": 3,
    "start_time": "2022-09-27T17:20:08.264Z"
   },
   {
    "duration": 1040,
    "start_time": "2022-09-27T17:20:25.544Z"
   },
   {
    "duration": 29,
    "start_time": "2022-09-27T17:20:26.585Z"
   },
   {
    "duration": 16,
    "start_time": "2022-09-27T17:20:26.616Z"
   },
   {
    "duration": 9,
    "start_time": "2022-09-27T17:20:26.634Z"
   },
   {
    "duration": 8,
    "start_time": "2022-09-27T17:20:26.644Z"
   },
   {
    "duration": 4,
    "start_time": "2022-09-27T17:20:26.653Z"
   },
   {
    "duration": 10,
    "start_time": "2022-09-27T17:20:26.659Z"
   },
   {
    "duration": 7,
    "start_time": "2022-09-27T17:20:26.671Z"
   },
   {
    "duration": 30,
    "start_time": "2022-09-27T17:20:26.679Z"
   },
   {
    "duration": 5,
    "start_time": "2022-09-27T17:20:26.712Z"
   },
   {
    "duration": 13269,
    "start_time": "2022-09-27T17:20:26.719Z"
   },
   {
    "duration": 4,
    "start_time": "2022-09-27T17:20:39.989Z"
   },
   {
    "duration": 1250,
    "start_time": "2022-09-27T17:20:39.995Z"
   },
   {
    "duration": 5,
    "start_time": "2022-09-27T17:20:41.246Z"
   },
   {
    "duration": 38786,
    "start_time": "2022-09-27T17:20:41.252Z"
   },
   {
    "duration": 3,
    "start_time": "2022-09-27T17:21:20.040Z"
   },
   {
    "duration": 37692,
    "start_time": "2022-09-27T17:21:20.045Z"
   },
   {
    "duration": 3,
    "start_time": "2022-09-27T17:21:57.738Z"
   },
   {
    "duration": 31,
    "start_time": "2022-09-27T17:21:57.743Z"
   },
   {
    "duration": 3,
    "start_time": "2022-09-27T17:21:57.775Z"
   },
   {
    "duration": 35,
    "start_time": "2022-09-27T17:21:57.780Z"
   },
   {
    "duration": 114,
    "start_time": "2022-09-27T17:21:57.816Z"
   },
   {
    "duration": 0,
    "start_time": "2022-09-27T17:21:57.931Z"
   },
   {
    "duration": 0,
    "start_time": "2022-09-27T17:21:57.932Z"
   },
   {
    "duration": 0,
    "start_time": "2022-09-27T17:21:57.933Z"
   },
   {
    "duration": 0,
    "start_time": "2022-09-27T17:21:57.935Z"
   },
   {
    "duration": 0,
    "start_time": "2022-09-27T17:21:57.936Z"
   },
   {
    "duration": 3,
    "start_time": "2022-09-27T17:22:25.332Z"
   },
   {
    "duration": 331,
    "start_time": "2022-09-27T17:22:29.147Z"
   },
   {
    "duration": 49,
    "start_time": "2022-09-29T15:07:23.123Z"
   },
   {
    "duration": 75,
    "start_time": "2022-09-29T15:09:27.596Z"
   },
   {
    "duration": 1110,
    "start_time": "2022-09-29T15:09:33.194Z"
   },
   {
    "duration": 68,
    "start_time": "2022-09-29T15:09:34.306Z"
   },
   {
    "duration": 17,
    "start_time": "2022-09-29T15:09:34.376Z"
   },
   {
    "duration": 9,
    "start_time": "2022-09-29T15:09:34.395Z"
   },
   {
    "duration": 9,
    "start_time": "2022-09-29T15:09:34.406Z"
   },
   {
    "duration": 3,
    "start_time": "2022-09-29T15:09:34.417Z"
   },
   {
    "duration": 6,
    "start_time": "2022-09-29T15:09:34.422Z"
   },
   {
    "duration": 5,
    "start_time": "2022-09-29T15:09:34.429Z"
   },
   {
    "duration": 8,
    "start_time": "2022-09-29T15:09:34.436Z"
   },
   {
    "duration": 3,
    "start_time": "2022-09-29T15:09:34.447Z"
   },
   {
    "duration": 12672,
    "start_time": "2022-09-29T15:09:34.452Z"
   },
   {
    "duration": 4,
    "start_time": "2022-09-29T15:09:47.125Z"
   },
   {
    "duration": 1173,
    "start_time": "2022-09-29T15:09:47.130Z"
   },
   {
    "duration": 4,
    "start_time": "2022-09-29T15:09:48.305Z"
   },
   {
    "duration": 38907,
    "start_time": "2022-09-29T15:09:48.310Z"
   },
   {
    "duration": 4,
    "start_time": "2022-09-29T15:10:27.219Z"
   },
   {
    "duration": 3778927,
    "start_time": "2022-09-29T15:10:27.225Z"
   },
   {
    "duration": 4,
    "start_time": "2022-09-29T16:13:26.153Z"
   },
   {
    "duration": 47,
    "start_time": "2022-09-29T16:13:26.159Z"
   },
   {
    "duration": 4,
    "start_time": "2022-09-29T16:13:26.208Z"
   },
   {
    "duration": 32,
    "start_time": "2022-09-29T16:13:26.213Z"
   },
   {
    "duration": 3,
    "start_time": "2022-09-29T16:13:26.247Z"
   },
   {
    "duration": 378,
    "start_time": "2022-09-29T16:13:26.252Z"
   },
   {
    "duration": 2,
    "start_time": "2022-09-29T16:13:26.632Z"
   },
   {
    "duration": 7,
    "start_time": "2022-09-29T16:13:26.636Z"
   },
   {
    "duration": 5,
    "start_time": "2022-09-29T16:13:26.644Z"
   },
   {
    "duration": 6,
    "start_time": "2022-09-29T16:13:26.650Z"
   },
   {
    "duration": 30857,
    "start_time": "2022-09-29T16:28:14.980Z"
   },
   {
    "duration": 0,
    "start_time": "2022-09-29T16:28:45.839Z"
   },
   {
    "duration": 3999048,
    "start_time": "2022-09-29T16:29:11.866Z"
   },
   {
    "duration": 4,
    "start_time": "2022-09-29T17:35:50.916Z"
   },
   {
    "duration": 411,
    "start_time": "2022-09-29T17:39:03.839Z"
   },
   {
    "duration": 3,
    "start_time": "2022-09-29T17:40:16.268Z"
   },
   {
    "duration": 6,
    "start_time": "2022-09-29T17:40:16.780Z"
   },
   {
    "duration": 5,
    "start_time": "2022-09-29T17:40:17.684Z"
   },
   {
    "duration": 5,
    "start_time": "2022-09-29T17:40:18.788Z"
   },
   {
    "duration": 1532,
    "start_time": "2022-09-30T05:13:49.238Z"
   },
   {
    "duration": 32,
    "start_time": "2022-09-30T05:13:50.772Z"
   },
   {
    "duration": 19,
    "start_time": "2022-09-30T05:13:50.806Z"
   },
   {
    "duration": 10,
    "start_time": "2022-09-30T05:13:50.827Z"
   },
   {
    "duration": 12,
    "start_time": "2022-09-30T05:13:50.838Z"
   },
   {
    "duration": 11,
    "start_time": "2022-09-30T05:13:50.851Z"
   },
   {
    "duration": 26,
    "start_time": "2022-09-30T05:13:50.864Z"
   },
   {
    "duration": 13,
    "start_time": "2022-09-30T05:13:50.892Z"
   },
   {
    "duration": 12,
    "start_time": "2022-09-30T05:13:50.907Z"
   },
   {
    "duration": 6,
    "start_time": "2022-09-30T05:13:50.921Z"
   },
   {
    "duration": 12834,
    "start_time": "2022-09-30T05:13:50.929Z"
   },
   {
    "duration": 3,
    "start_time": "2022-09-30T05:14:03.765Z"
   },
   {
    "duration": 1228,
    "start_time": "2022-09-30T05:14:03.770Z"
   },
   {
    "duration": 4,
    "start_time": "2022-09-30T05:14:04.999Z"
   },
   {
    "duration": 2840978,
    "start_time": "2022-09-30T05:14:05.005Z"
   },
   {
    "duration": 4,
    "start_time": "2022-09-30T06:01:25.985Z"
   },
   {
    "duration": 128957,
    "start_time": "2022-09-30T06:01:25.991Z"
   },
   {
    "duration": 4,
    "start_time": "2022-09-30T06:03:34.950Z"
   },
   {
    "duration": 49,
    "start_time": "2022-09-30T06:03:34.955Z"
   },
   {
    "duration": 4,
    "start_time": "2022-09-30T06:03:35.006Z"
   },
   {
    "duration": 56,
    "start_time": "2022-09-30T06:03:35.012Z"
   },
   {
    "duration": 3,
    "start_time": "2022-09-30T06:03:35.070Z"
   },
   {
    "duration": 302,
    "start_time": "2022-09-30T06:03:35.075Z"
   },
   {
    "duration": 0,
    "start_time": "2022-09-30T06:03:35.379Z"
   },
   {
    "duration": 0,
    "start_time": "2022-09-30T06:03:35.380Z"
   },
   {
    "duration": 0,
    "start_time": "2022-09-30T06:03:35.381Z"
   },
   {
    "duration": 0,
    "start_time": "2022-09-30T06:03:35.382Z"
   },
   {
    "duration": 0,
    "start_time": "2022-09-30T06:03:35.383Z"
   },
   {
    "duration": 1131,
    "start_time": "2022-09-30T12:30:41.819Z"
   },
   {
    "duration": 62,
    "start_time": "2022-09-30T12:30:42.952Z"
   },
   {
    "duration": 20,
    "start_time": "2022-09-30T12:30:43.016Z"
   },
   {
    "duration": 10,
    "start_time": "2022-09-30T12:30:43.038Z"
   },
   {
    "duration": 8,
    "start_time": "2022-09-30T12:30:43.052Z"
   },
   {
    "duration": 6,
    "start_time": "2022-09-30T12:30:43.062Z"
   },
   {
    "duration": 8,
    "start_time": "2022-09-30T12:30:43.070Z"
   },
   {
    "duration": 7,
    "start_time": "2022-09-30T12:30:43.080Z"
   },
   {
    "duration": 33,
    "start_time": "2022-09-30T12:30:43.089Z"
   },
   {
    "duration": 2,
    "start_time": "2022-09-30T12:30:43.124Z"
   },
   {
    "duration": 10572,
    "start_time": "2022-09-30T12:30:43.128Z"
   },
   {
    "duration": 129,
    "start_time": "2022-09-30T12:30:53.701Z"
   },
   {
    "duration": 0,
    "start_time": "2022-09-30T12:30:53.832Z"
   },
   {
    "duration": 0,
    "start_time": "2022-09-30T12:30:53.834Z"
   },
   {
    "duration": 0,
    "start_time": "2022-09-30T12:30:53.835Z"
   },
   {
    "duration": 0,
    "start_time": "2022-09-30T12:30:53.837Z"
   },
   {
    "duration": 0,
    "start_time": "2022-09-30T12:30:53.838Z"
   },
   {
    "duration": 0,
    "start_time": "2022-09-30T12:30:53.839Z"
   },
   {
    "duration": 0,
    "start_time": "2022-09-30T12:30:53.841Z"
   },
   {
    "duration": 0,
    "start_time": "2022-09-30T12:30:53.843Z"
   },
   {
    "duration": 0,
    "start_time": "2022-09-30T12:30:53.844Z"
   },
   {
    "duration": 0,
    "start_time": "2022-09-30T12:30:53.846Z"
   },
   {
    "duration": 0,
    "start_time": "2022-09-30T12:30:53.847Z"
   },
   {
    "duration": 0,
    "start_time": "2022-09-30T12:30:53.849Z"
   },
   {
    "duration": 0,
    "start_time": "2022-09-30T12:30:53.851Z"
   },
   {
    "duration": 0,
    "start_time": "2022-09-30T12:30:53.852Z"
   },
   {
    "duration": 0,
    "start_time": "2022-09-30T12:30:53.853Z"
   },
   {
    "duration": 0,
    "start_time": "2022-09-30T12:30:53.854Z"
   },
   {
    "duration": 4,
    "start_time": "2022-09-30T12:32:29.363Z"
   },
   {
    "duration": 932,
    "start_time": "2022-09-30T12:32:30.760Z"
   },
   {
    "duration": 8,
    "start_time": "2022-09-30T12:32:41.016Z"
   },
   {
    "duration": 5,
    "start_time": "2022-09-30T12:32:46.055Z"
   },
   {
    "duration": 4148,
    "start_time": "2022-09-30T12:33:00.240Z"
   },
   {
    "duration": 5,
    "start_time": "2022-09-30T12:33:17.913Z"
   },
   {
    "duration": 4220,
    "start_time": "2022-09-30T12:33:31.229Z"
   },
   {
    "duration": 3,
    "start_time": "2022-09-30T12:33:37.350Z"
   },
   {
    "duration": 30,
    "start_time": "2022-09-30T12:34:09.245Z"
   },
   {
    "duration": 2,
    "start_time": "2022-09-30T12:34:13.717Z"
   },
   {
    "duration": 42,
    "start_time": "2022-09-30T12:34:16.131Z"
   },
   {
    "duration": 2,
    "start_time": "2022-09-30T12:34:20.417Z"
   },
   {
    "duration": 351,
    "start_time": "2022-09-30T12:35:51.171Z"
   },
   {
    "duration": 68,
    "start_time": "2022-09-30T12:36:18.420Z"
   },
   {
    "duration": 3,
    "start_time": "2022-09-30T12:37:14.112Z"
   },
   {
    "duration": 11,
    "start_time": "2022-09-30T12:37:44.734Z"
   },
   {
    "duration": 8,
    "start_time": "2022-09-30T12:38:17.420Z"
   },
   {
    "duration": 4,
    "start_time": "2022-09-30T12:38:18.383Z"
   },
   {
    "duration": 9,
    "start_time": "2022-09-30T12:38:34.822Z"
   },
   {
    "duration": 8,
    "start_time": "2022-09-30T12:39:09.222Z"
   },
   {
    "duration": 3,
    "start_time": "2022-09-30T12:39:53.538Z"
   },
   {
    "duration": 5,
    "start_time": "2022-09-30T12:39:54.116Z"
   },
   {
    "duration": 5,
    "start_time": "2022-09-30T12:39:54.430Z"
   },
   {
    "duration": 5,
    "start_time": "2022-09-30T12:39:55.111Z"
   },
   {
    "duration": 2,
    "start_time": "2022-09-30T12:40:01.220Z"
   },
   {
    "duration": 6,
    "start_time": "2022-09-30T12:40:01.416Z"
   },
   {
    "duration": 6,
    "start_time": "2022-09-30T12:40:01.617Z"
   },
   {
    "duration": 5,
    "start_time": "2022-09-30T12:40:02.082Z"
   },
   {
    "duration": 4,
    "start_time": "2022-09-30T12:40:53.336Z"
   },
   {
    "duration": 4,
    "start_time": "2022-09-30T12:41:08.472Z"
   },
   {
    "duration": 3,
    "start_time": "2022-09-30T12:41:11.960Z"
   },
   {
    "duration": 3,
    "start_time": "2022-09-30T12:41:16.673Z"
   },
   {
    "duration": 5,
    "start_time": "2022-09-30T12:41:28.951Z"
   },
   {
    "duration": 55,
    "start_time": "2022-09-30T12:43:52.918Z"
   },
   {
    "duration": 1017,
    "start_time": "2022-09-30T12:45:37.368Z"
   },
   {
    "duration": 28,
    "start_time": "2022-09-30T12:45:38.387Z"
   },
   {
    "duration": 15,
    "start_time": "2022-09-30T12:45:38.417Z"
   },
   {
    "duration": 8,
    "start_time": "2022-09-30T12:45:38.434Z"
   },
   {
    "duration": 9,
    "start_time": "2022-09-30T12:45:38.443Z"
   },
   {
    "duration": 8,
    "start_time": "2022-09-30T12:45:38.453Z"
   },
   {
    "duration": 7,
    "start_time": "2022-09-30T12:45:38.462Z"
   },
   {
    "duration": 4,
    "start_time": "2022-09-30T12:45:38.471Z"
   },
   {
    "duration": 9,
    "start_time": "2022-09-30T12:45:38.477Z"
   },
   {
    "duration": 6,
    "start_time": "2022-09-30T12:45:38.488Z"
   },
   {
    "duration": 10381,
    "start_time": "2022-09-30T12:45:38.495Z"
   },
   {
    "duration": 3,
    "start_time": "2022-09-30T12:45:48.878Z"
   },
   {
    "duration": 936,
    "start_time": "2022-09-30T12:45:48.882Z"
   },
   {
    "duration": 4,
    "start_time": "2022-09-30T12:45:49.820Z"
   },
   {
    "duration": 4080,
    "start_time": "2022-09-30T12:45:49.826Z"
   },
   {
    "duration": 4,
    "start_time": "2022-09-30T12:45:53.907Z"
   },
   {
    "duration": 4495,
    "start_time": "2022-09-30T12:45:53.922Z"
   },
   {
    "duration": 4,
    "start_time": "2022-09-30T12:45:58.421Z"
   },
   {
    "duration": 56,
    "start_time": "2022-09-30T12:45:58.426Z"
   },
   {
    "duration": 3,
    "start_time": "2022-09-30T12:45:58.484Z"
   },
   {
    "duration": 25,
    "start_time": "2022-09-30T12:45:58.488Z"
   },
   {
    "duration": 2,
    "start_time": "2022-09-30T12:45:58.515Z"
   },
   {
    "duration": 55,
    "start_time": "2022-09-30T12:45:58.522Z"
   },
   {
    "duration": 3,
    "start_time": "2022-09-30T12:45:58.578Z"
   },
   {
    "duration": 11,
    "start_time": "2022-09-30T12:45:58.582Z"
   },
   {
    "duration": 8,
    "start_time": "2022-09-30T12:45:58.594Z"
   },
   {
    "duration": 18,
    "start_time": "2022-09-30T12:45:58.603Z"
   },
   {
    "duration": 91,
    "start_time": "2022-09-30T12:46:27.887Z"
   },
   {
    "duration": 913,
    "start_time": "2022-09-30T12:46:36.143Z"
   },
   {
    "duration": 4,
    "start_time": "2022-09-30T12:46:37.184Z"
   },
   {
    "duration": 1066,
    "start_time": "2022-09-30T12:46:46.880Z"
   },
   {
    "duration": 29,
    "start_time": "2022-09-30T12:46:47.948Z"
   },
   {
    "duration": 16,
    "start_time": "2022-09-30T12:46:47.979Z"
   },
   {
    "duration": 10,
    "start_time": "2022-09-30T12:46:47.996Z"
   },
   {
    "duration": 8,
    "start_time": "2022-09-30T12:46:48.007Z"
   },
   {
    "duration": 4,
    "start_time": "2022-09-30T12:46:48.017Z"
   },
   {
    "duration": 7,
    "start_time": "2022-09-30T12:46:48.022Z"
   },
   {
    "duration": 7,
    "start_time": "2022-09-30T12:46:48.031Z"
   },
   {
    "duration": 5,
    "start_time": "2022-09-30T12:46:48.040Z"
   },
   {
    "duration": 5,
    "start_time": "2022-09-30T12:46:48.047Z"
   },
   {
    "duration": 10212,
    "start_time": "2022-09-30T12:46:48.053Z"
   },
   {
    "duration": 3,
    "start_time": "2022-09-30T12:46:58.267Z"
   },
   {
    "duration": 912,
    "start_time": "2022-09-30T12:46:58.271Z"
   },
   {
    "duration": 4,
    "start_time": "2022-09-30T12:46:59.185Z"
   },
   {
    "duration": 4038,
    "start_time": "2022-09-30T12:46:59.191Z"
   },
   {
    "duration": 4,
    "start_time": "2022-09-30T12:47:03.230Z"
   },
   {
    "duration": 4243,
    "start_time": "2022-09-30T12:47:03.236Z"
   },
   {
    "duration": 4,
    "start_time": "2022-09-30T12:47:07.481Z"
   },
   {
    "duration": 44,
    "start_time": "2022-09-30T12:47:07.487Z"
   },
   {
    "duration": 3,
    "start_time": "2022-09-30T12:47:07.533Z"
   },
   {
    "duration": 33,
    "start_time": "2022-09-30T12:47:07.538Z"
   },
   {
    "duration": 4,
    "start_time": "2022-09-30T12:47:07.573Z"
   },
   {
    "duration": 78,
    "start_time": "2022-09-30T12:47:07.578Z"
   },
   {
    "duration": 4,
    "start_time": "2022-09-30T12:47:07.657Z"
   },
   {
    "duration": 19,
    "start_time": "2022-09-30T12:47:07.662Z"
   },
   {
    "duration": 7,
    "start_time": "2022-09-30T12:47:07.683Z"
   },
   {
    "duration": 7,
    "start_time": "2022-09-30T12:47:07.691Z"
   },
   {
    "duration": 1494,
    "start_time": "2022-09-30T13:06:15.615Z"
   },
   {
    "duration": 33,
    "start_time": "2022-09-30T13:06:17.111Z"
   },
   {
    "duration": 18,
    "start_time": "2022-09-30T13:06:17.146Z"
   },
   {
    "duration": 12,
    "start_time": "2022-09-30T13:06:17.166Z"
   },
   {
    "duration": 11,
    "start_time": "2022-09-30T13:06:17.180Z"
   },
   {
    "duration": 23,
    "start_time": "2022-09-30T13:06:17.192Z"
   },
   {
    "duration": 54,
    "start_time": "2022-09-30T13:06:17.217Z"
   },
   {
    "duration": 30,
    "start_time": "2022-09-30T13:06:17.273Z"
   },
   {
    "duration": 18,
    "start_time": "2022-09-30T13:06:17.306Z"
   },
   {
    "duration": 12,
    "start_time": "2022-09-30T13:06:17.325Z"
   },
   {
    "duration": 11715,
    "start_time": "2022-09-30T13:06:17.339Z"
   },
   {
    "duration": 4,
    "start_time": "2022-09-30T13:06:29.056Z"
   },
   {
    "duration": 1113,
    "start_time": "2022-09-30T13:06:29.062Z"
   },
   {
    "duration": 4,
    "start_time": "2022-09-30T13:06:30.178Z"
   },
   {
    "duration": 5368,
    "start_time": "2022-09-30T13:06:30.184Z"
   },
   {
    "duration": 5,
    "start_time": "2022-09-30T13:06:35.554Z"
   },
   {
    "duration": 5197,
    "start_time": "2022-09-30T13:06:35.560Z"
   },
   {
    "duration": 5,
    "start_time": "2022-09-30T13:06:40.760Z"
   },
   {
    "duration": 42,
    "start_time": "2022-09-30T13:06:40.767Z"
   },
   {
    "duration": 4,
    "start_time": "2022-09-30T13:06:40.811Z"
   },
   {
    "duration": 55,
    "start_time": "2022-09-30T13:06:40.816Z"
   },
   {
    "duration": 3,
    "start_time": "2022-09-30T13:06:40.873Z"
   },
   {
    "duration": 81,
    "start_time": "2022-09-30T13:06:40.878Z"
   },
   {
    "duration": 3,
    "start_time": "2022-09-30T13:06:40.961Z"
   },
   {
    "duration": 18,
    "start_time": "2022-09-30T13:06:40.966Z"
   },
   {
    "duration": 12,
    "start_time": "2022-09-30T13:06:40.986Z"
   },
   {
    "duration": 18,
    "start_time": "2022-09-30T13:06:41.000Z"
   },
   {
    "duration": 5,
    "start_time": "2022-09-30T14:25:19.796Z"
   },
   {
    "duration": 4,
    "start_time": "2022-09-30T14:25:27.783Z"
   }
  ],
  "kernelspec": {
   "display_name": "Python 3 (ipykernel)",
   "language": "python",
   "name": "python3"
  },
  "language_info": {
   "codemirror_mode": {
    "name": "ipython",
    "version": 3
   },
   "file_extension": ".py",
   "mimetype": "text/x-python",
   "name": "python",
   "nbconvert_exporter": "python",
   "pygments_lexer": "ipython3",
   "version": "3.9.5"
  },
  "toc": {
   "base_numbering": 1,
   "nav_menu": {},
   "number_sections": true,
   "sideBar": true,
   "skip_h1_title": true,
   "title_cell": "Table of Contents",
   "title_sidebar": "Contents",
   "toc_cell": false,
   "toc_position": {},
   "toc_section_display": true,
   "toc_window_display": false
  }
 },
 "nbformat": 4,
 "nbformat_minor": 2
}
